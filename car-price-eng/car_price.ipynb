{
 "cells": [
  {
   "cell_type": "markdown",
   "metadata": {},
   "source": [
    "# Определение стоимости автомобилей"
   ]
  },
  {
   "cell_type": "markdown",
   "metadata": {},
   "source": [
    "Сервис по продаже автомобилей с пробегом «Не бит, не крашен» разрабатывает приложение для привлечения новых клиентов. В нём можно быстро узнать рыночную стоимость своего автомобиля. В вашем распоряжении исторические данные: технические характеристики, комплектации и цены автомобилей. Вам нужно построить модель для определения стоимости. \n",
    "\n",
    "Заказчику важны:\n",
    "\n",
    "- качество предсказания;\n",
    "- скорость предсказания;\n",
    "- время обучения."
   ]
  },
  {
   "cell_type": "markdown",
   "metadata": {},
   "source": [
    "## ОГЛАВЛЕНИЕ\n",
    "\n",
    "[Описание проекта](#description)\n",
    "\n",
    "[Цель проекта](#purpose)\n",
    "\n",
    "[1. Изучение общей информации](#1)\n",
    "\n",
    "- [1.1 Вывод по анализу общей информации](#1.1)\n",
    "\n",
    "[2. Предобработка данных](#2)\n",
    "\n",
    "- [2.1 Изменение типов данных](#2.1)\n",
    "\n",
    "- [2.2 Обработка аномалий](#2.2)\n",
    "\n",
    "[3. Подготовка данных](#3)\n",
    "\n",
    "- [3.1 Преобразование категориальных признаков в числа](#3.1)\n",
    "\n",
    "- [3.2 Разбивка на выборки](#3.2)\n",
    "\n",
    "- [3.3 Масштабирование признаков](#3.3)\n",
    "\n",
    "[4. Обучение моделей](#4)\n",
    "\n",
    "- [4.1 Константная модель](#4.1)\n",
    "\n",
    "- [4.2 Линейная регрессия](#4.2)\n",
    "\n",
    "- [4.3 Решающее дерево](#4.3)\n",
    "\n",
    "- [4.4 CatBoost](#4.5)\n",
    "\n",
    "- [4.5 LightGBM](#4.5)\n",
    "\n",
    "- [4.6 XGBoost](#4.6)\n",
    "\n",
    "[5. Анализ моделей](#6)\n",
    "\n",
    "- [5.1 Тестирование лучших моделей](#5.1)\n",
    "\n",
    "- [5.2 Сравнение результатов](#5.2)\n",
    "\n",
    "[Общий вывод](#7)"
   ]
  },
  {
   "cell_type": "markdown",
   "metadata": {},
   "source": [
    "<a id='description'></a>\n",
    "## Описание проекта"
   ]
  },
  {
   "cell_type": "markdown",
   "metadata": {},
   "source": [
    "Сервис по продаже автомобилей с пробегом «Не бит, не крашен» разрабатывает приложение для привлечения новых клиентов, с помощью которого можно быстро узнать рыночную стоимость своего автомобиля. На основе исторических данных о технических характеристиках, комплектации и ценах автомобилей необходимо построить модель для определения их стоимости.  \n",
    "\n",
    "**Признаки:**  \n",
    "•\tDateCrawled — дата скачивания анкеты из базы  \n",
    "•\tVehicleType — тип автомобильного кузова  \n",
    "•\tRegistrationYear — год регистрации автомобиля  \n",
    "•\tGearbox — тип коробки передач  \n",
    "•\tPower — мощность (л. с.)  \n",
    "•\tModel — модель автомобиля  \n",
    "•\tKilometer — пробег (км)  \n",
    "•\tRegistrationMonth — месяц регистрации автомобиля  \n",
    "•\tFuelType — тип топлива  \n",
    "•\tBrand — марка автомобиля  \n",
    "•\tNotRepaired — была машина в ремонте или нет  \n",
    "•\tDateCreated — дата создания анкеты  \n",
    "•\tNumberOfPictures — количество фотографий автомобиля  \n",
    "•\tPostalCode — почтовый индекс владельца анкеты (пользователя)  \n",
    "•\tLastSeen — дата последней активности пользователя   \n",
    "\n",
    "**Целевой признак:**  \n",
    "Price — цена (евро)\n"
   ]
  },
  {
   "cell_type": "markdown",
   "metadata": {},
   "source": [
    "<a id='purpose'></a>\n",
    "## Цель проекта"
   ]
  },
  {
   "cell_type": "markdown",
   "metadata": {},
   "source": [
    "На основе исторических данных о технических характеристиках, комплектации и ценах автомобилей необходимо построить модель для определения их стоимости.  \n",
    "\n",
    "**При выборе лучшей модели нужно учитывать:**  \n",
    "•\tкачество предсказания;  \n",
    "•\tскорость предсказания;  \n",
    "•\tвремя обучения.  \n",
    "\n",
    "Во время выполнения проекта придерживаемся следующих условий:  \n",
    "1. Для оценки качества моделей используем метрику RMSE.  \n",
    "2. Для начала опробуем несколько простых моделей.\n",
    "3. Затем перейдем к градиентному бустингу с использоваением библиотек Catboost и LightGBM."
   ]
  },
  {
   "cell_type": "markdown",
   "metadata": {},
   "source": [
    "<a id='1'></a>\n",
    "## Изучение общей информации"
   ]
  },
  {
   "cell_type": "code",
   "execution_count": 1,
   "metadata": {},
   "outputs": [],
   "source": [
    "#Импортируем нужные библиотеки\n",
    "import pandas as pd\n",
    "import numpy as np\n",
    "import matplotlib.pyplot as plt\n",
    "\n",
    "from sklearn.preprocessing import OrdinalEncoder\n",
    "from sklearn.preprocessing import StandardScaler\n",
    "from sklearn.model_selection import train_test_split\n",
    "from sklearn.metrics import mean_squared_error, make_scorer\n",
    "from sklearn.model_selection import GridSearchCV, cross_val_score\n",
    "from sklearn.pipeline import Pipeline\n",
    "from sklearn.impute import SimpleImputer\n",
    "from sklearn.base import BaseEstimator\n",
    "\n",
    "from sklearn.linear_model import LinearRegression\n",
    "from sklearn.tree import DecisionTreeRegressor\n",
    "\n",
    "from catboost import CatBoostRegressor \n",
    "from catboost import cv\n",
    "from catboost import Pool\n",
    "import catboost as cat\n",
    "\n",
    "from lightgbm import LGBMRegressor\n",
    "import lightgbm as lgb\n",
    "\n",
    "import xgboost as xgb\n",
    "from xgboost import XGBRegressor\n",
    "\n",
    "pd.set_option('display.max_columns', None)"
   ]
  },
  {
   "cell_type": "code",
   "execution_count": 2,
   "metadata": {},
   "outputs": [],
   "source": [
    "#Прочитаем датасет\n",
    "data = pd.read_csv('/datasets/autos.csv')"
   ]
  },
  {
   "cell_type": "code",
   "execution_count": 3,
   "metadata": {},
   "outputs": [
    {
     "data": {
      "text/html": [
       "<div>\n",
       "<style scoped>\n",
       "    .dataframe tbody tr th:only-of-type {\n",
       "        vertical-align: middle;\n",
       "    }\n",
       "\n",
       "    .dataframe tbody tr th {\n",
       "        vertical-align: top;\n",
       "    }\n",
       "\n",
       "    .dataframe thead th {\n",
       "        text-align: right;\n",
       "    }\n",
       "</style>\n",
       "<table border=\"1\" class=\"dataframe\">\n",
       "  <thead>\n",
       "    <tr style=\"text-align: right;\">\n",
       "      <th></th>\n",
       "      <th>DateCrawled</th>\n",
       "      <th>Price</th>\n",
       "      <th>VehicleType</th>\n",
       "      <th>RegistrationYear</th>\n",
       "      <th>Gearbox</th>\n",
       "      <th>Power</th>\n",
       "      <th>Model</th>\n",
       "      <th>Kilometer</th>\n",
       "      <th>RegistrationMonth</th>\n",
       "      <th>FuelType</th>\n",
       "      <th>Brand</th>\n",
       "      <th>NotRepaired</th>\n",
       "      <th>DateCreated</th>\n",
       "      <th>NumberOfPictures</th>\n",
       "      <th>PostalCode</th>\n",
       "      <th>LastSeen</th>\n",
       "    </tr>\n",
       "  </thead>\n",
       "  <tbody>\n",
       "    <tr>\n",
       "      <td>18734</td>\n",
       "      <td>2016-04-04 13:36:58</td>\n",
       "      <td>16900</td>\n",
       "      <td>bus</td>\n",
       "      <td>2010</td>\n",
       "      <td>auto</td>\n",
       "      <td>150</td>\n",
       "      <td>viano</td>\n",
       "      <td>150000</td>\n",
       "      <td>4</td>\n",
       "      <td>gasoline</td>\n",
       "      <td>mercedes_benz</td>\n",
       "      <td>no</td>\n",
       "      <td>2016-04-04 00:00:00</td>\n",
       "      <td>0</td>\n",
       "      <td>60326</td>\n",
       "      <td>2016-04-05 12:18:31</td>\n",
       "    </tr>\n",
       "    <tr>\n",
       "      <td>141787</td>\n",
       "      <td>2016-03-07 17:57:08</td>\n",
       "      <td>15500</td>\n",
       "      <td>other</td>\n",
       "      <td>2011</td>\n",
       "      <td>manual</td>\n",
       "      <td>143</td>\n",
       "      <td>1er</td>\n",
       "      <td>40000</td>\n",
       "      <td>5</td>\n",
       "      <td>gasoline</td>\n",
       "      <td>bmw</td>\n",
       "      <td>no</td>\n",
       "      <td>2016-03-07 00:00:00</td>\n",
       "      <td>0</td>\n",
       "      <td>35083</td>\n",
       "      <td>2016-04-06 20:19:15</td>\n",
       "    </tr>\n",
       "    <tr>\n",
       "      <td>37523</td>\n",
       "      <td>2016-03-24 09:37:02</td>\n",
       "      <td>3600</td>\n",
       "      <td>sedan</td>\n",
       "      <td>2004</td>\n",
       "      <td>manual</td>\n",
       "      <td>125</td>\n",
       "      <td>astra</td>\n",
       "      <td>150000</td>\n",
       "      <td>12</td>\n",
       "      <td>petrol</td>\n",
       "      <td>opel</td>\n",
       "      <td>no</td>\n",
       "      <td>2016-03-24 00:00:00</td>\n",
       "      <td>0</td>\n",
       "      <td>13627</td>\n",
       "      <td>2016-03-24 10:38:57</td>\n",
       "    </tr>\n",
       "    <tr>\n",
       "      <td>194192</td>\n",
       "      <td>2016-03-15 09:49:03</td>\n",
       "      <td>8990</td>\n",
       "      <td>sedan</td>\n",
       "      <td>2007</td>\n",
       "      <td>auto</td>\n",
       "      <td>224</td>\n",
       "      <td>c_klasse</td>\n",
       "      <td>150000</td>\n",
       "      <td>9</td>\n",
       "      <td>gasoline</td>\n",
       "      <td>mercedes_benz</td>\n",
       "      <td>no</td>\n",
       "      <td>2016-03-15 00:00:00</td>\n",
       "      <td>0</td>\n",
       "      <td>58135</td>\n",
       "      <td>2016-03-18 02:17:06</td>\n",
       "    </tr>\n",
       "    <tr>\n",
       "      <td>110210</td>\n",
       "      <td>2016-03-29 23:43:52</td>\n",
       "      <td>2500</td>\n",
       "      <td>other</td>\n",
       "      <td>1994</td>\n",
       "      <td>manual</td>\n",
       "      <td>68</td>\n",
       "      <td>transporter</td>\n",
       "      <td>150000</td>\n",
       "      <td>9</td>\n",
       "      <td>gasoline</td>\n",
       "      <td>volkswagen</td>\n",
       "      <td>no</td>\n",
       "      <td>2016-03-29 00:00:00</td>\n",
       "      <td>0</td>\n",
       "      <td>24598</td>\n",
       "      <td>2016-04-02 12:45:46</td>\n",
       "    </tr>\n",
       "    <tr>\n",
       "      <td>63295</td>\n",
       "      <td>2016-03-07 12:55:48</td>\n",
       "      <td>11000</td>\n",
       "      <td>wagon</td>\n",
       "      <td>2010</td>\n",
       "      <td>auto</td>\n",
       "      <td>177</td>\n",
       "      <td>5er</td>\n",
       "      <td>150000</td>\n",
       "      <td>10</td>\n",
       "      <td>gasoline</td>\n",
       "      <td>bmw</td>\n",
       "      <td>no</td>\n",
       "      <td>2016-03-07 00:00:00</td>\n",
       "      <td>0</td>\n",
       "      <td>6237</td>\n",
       "      <td>2016-04-04 02:16:33</td>\n",
       "    </tr>\n",
       "    <tr>\n",
       "      <td>299143</td>\n",
       "      <td>2016-03-24 17:48:59</td>\n",
       "      <td>1200</td>\n",
       "      <td>small</td>\n",
       "      <td>2003</td>\n",
       "      <td>NaN</td>\n",
       "      <td>58</td>\n",
       "      <td>clio</td>\n",
       "      <td>150000</td>\n",
       "      <td>3</td>\n",
       "      <td>petrol</td>\n",
       "      <td>renault</td>\n",
       "      <td>no</td>\n",
       "      <td>2016-03-24 00:00:00</td>\n",
       "      <td>0</td>\n",
       "      <td>25551</td>\n",
       "      <td>2016-03-24 17:48:59</td>\n",
       "    </tr>\n",
       "    <tr>\n",
       "      <td>236634</td>\n",
       "      <td>2016-03-27 09:57:43</td>\n",
       "      <td>12500</td>\n",
       "      <td>convertible</td>\n",
       "      <td>1977</td>\n",
       "      <td>auto</td>\n",
       "      <td>177</td>\n",
       "      <td>sl</td>\n",
       "      <td>150000</td>\n",
       "      <td>5</td>\n",
       "      <td>petrol</td>\n",
       "      <td>mercedes_benz</td>\n",
       "      <td>no</td>\n",
       "      <td>2016-03-27 00:00:00</td>\n",
       "      <td>0</td>\n",
       "      <td>53177</td>\n",
       "      <td>2016-03-27 10:38:40</td>\n",
       "    </tr>\n",
       "    <tr>\n",
       "      <td>44603</td>\n",
       "      <td>2016-04-02 18:38:59</td>\n",
       "      <td>1599</td>\n",
       "      <td>NaN</td>\n",
       "      <td>2016</td>\n",
       "      <td>manual</td>\n",
       "      <td>50</td>\n",
       "      <td>arosa</td>\n",
       "      <td>125000</td>\n",
       "      <td>10</td>\n",
       "      <td>NaN</td>\n",
       "      <td>seat</td>\n",
       "      <td>no</td>\n",
       "      <td>2016-04-02 00:00:00</td>\n",
       "      <td>0</td>\n",
       "      <td>2991</td>\n",
       "      <td>2016-04-06 18:16:10</td>\n",
       "    </tr>\n",
       "    <tr>\n",
       "      <td>251416</td>\n",
       "      <td>2016-03-20 23:53:52</td>\n",
       "      <td>1999</td>\n",
       "      <td>small</td>\n",
       "      <td>2002</td>\n",
       "      <td>manual</td>\n",
       "      <td>75</td>\n",
       "      <td>corsa</td>\n",
       "      <td>150000</td>\n",
       "      <td>1</td>\n",
       "      <td>petrol</td>\n",
       "      <td>opel</td>\n",
       "      <td>NaN</td>\n",
       "      <td>2016-03-20 00:00:00</td>\n",
       "      <td>0</td>\n",
       "      <td>46537</td>\n",
       "      <td>2016-03-21 04:41:29</td>\n",
       "    </tr>\n",
       "  </tbody>\n",
       "</table>\n",
       "</div>"
      ],
      "text/plain": [
       "                DateCrawled  Price  VehicleType  RegistrationYear Gearbox  \\\n",
       "18734   2016-04-04 13:36:58  16900          bus              2010    auto   \n",
       "141787  2016-03-07 17:57:08  15500        other              2011  manual   \n",
       "37523   2016-03-24 09:37:02   3600        sedan              2004  manual   \n",
       "194192  2016-03-15 09:49:03   8990        sedan              2007    auto   \n",
       "110210  2016-03-29 23:43:52   2500        other              1994  manual   \n",
       "63295   2016-03-07 12:55:48  11000        wagon              2010    auto   \n",
       "299143  2016-03-24 17:48:59   1200        small              2003     NaN   \n",
       "236634  2016-03-27 09:57:43  12500  convertible              1977    auto   \n",
       "44603   2016-04-02 18:38:59   1599          NaN              2016  manual   \n",
       "251416  2016-03-20 23:53:52   1999        small              2002  manual   \n",
       "\n",
       "        Power        Model  Kilometer  RegistrationMonth  FuelType  \\\n",
       "18734     150        viano     150000                  4  gasoline   \n",
       "141787    143          1er      40000                  5  gasoline   \n",
       "37523     125        astra     150000                 12    petrol   \n",
       "194192    224     c_klasse     150000                  9  gasoline   \n",
       "110210     68  transporter     150000                  9  gasoline   \n",
       "63295     177          5er     150000                 10  gasoline   \n",
       "299143     58         clio     150000                  3    petrol   \n",
       "236634    177           sl     150000                  5    petrol   \n",
       "44603      50        arosa     125000                 10       NaN   \n",
       "251416     75        corsa     150000                  1    petrol   \n",
       "\n",
       "                Brand NotRepaired          DateCreated  NumberOfPictures  \\\n",
       "18734   mercedes_benz          no  2016-04-04 00:00:00                 0   \n",
       "141787            bmw          no  2016-03-07 00:00:00                 0   \n",
       "37523            opel          no  2016-03-24 00:00:00                 0   \n",
       "194192  mercedes_benz          no  2016-03-15 00:00:00                 0   \n",
       "110210     volkswagen          no  2016-03-29 00:00:00                 0   \n",
       "63295             bmw          no  2016-03-07 00:00:00                 0   \n",
       "299143        renault          no  2016-03-24 00:00:00                 0   \n",
       "236634  mercedes_benz          no  2016-03-27 00:00:00                 0   \n",
       "44603            seat          no  2016-04-02 00:00:00                 0   \n",
       "251416           opel         NaN  2016-03-20 00:00:00                 0   \n",
       "\n",
       "        PostalCode             LastSeen  \n",
       "18734        60326  2016-04-05 12:18:31  \n",
       "141787       35083  2016-04-06 20:19:15  \n",
       "37523        13627  2016-03-24 10:38:57  \n",
       "194192       58135  2016-03-18 02:17:06  \n",
       "110210       24598  2016-04-02 12:45:46  \n",
       "63295         6237  2016-04-04 02:16:33  \n",
       "299143       25551  2016-03-24 17:48:59  \n",
       "236634       53177  2016-03-27 10:38:40  \n",
       "44603         2991  2016-04-06 18:16:10  \n",
       "251416       46537  2016-03-21 04:41:29  "
      ]
     },
     "execution_count": 3,
     "metadata": {},
     "output_type": "execute_result"
    }
   ],
   "source": [
    "#Выведем рандомные 10 строк таблицы для знакомства с данными\n",
    "data.sample(10, random_state=12345)"
   ]
  },
  {
   "cell_type": "code",
   "execution_count": 4,
   "metadata": {},
   "outputs": [
    {
     "name": "stdout",
     "output_type": "stream",
     "text": [
      "<class 'pandas.core.frame.DataFrame'>\n",
      "RangeIndex: 354369 entries, 0 to 354368\n",
      "Data columns (total 16 columns):\n",
      "DateCrawled          354369 non-null object\n",
      "Price                354369 non-null int64\n",
      "VehicleType          316879 non-null object\n",
      "RegistrationYear     354369 non-null int64\n",
      "Gearbox              334536 non-null object\n",
      "Power                354369 non-null int64\n",
      "Model                334664 non-null object\n",
      "Kilometer            354369 non-null int64\n",
      "RegistrationMonth    354369 non-null int64\n",
      "FuelType             321474 non-null object\n",
      "Brand                354369 non-null object\n",
      "NotRepaired          283215 non-null object\n",
      "DateCreated          354369 non-null object\n",
      "NumberOfPictures     354369 non-null int64\n",
      "PostalCode           354369 non-null int64\n",
      "LastSeen             354369 non-null object\n",
      "dtypes: int64(7), object(9)\n",
      "memory usage: 43.3+ MB\n"
     ]
    }
   ],
   "source": [
    "#Выведем общую информацию для оценки количества пропусков и типов данных\n",
    "data.info()"
   ]
  },
  {
   "cell_type": "code",
   "execution_count": 5,
   "metadata": {},
   "outputs": [
    {
     "data": {
      "text/plain": [
       "4"
      ]
     },
     "execution_count": 5,
     "metadata": {},
     "output_type": "execute_result"
    }
   ],
   "source": [
    "#Проверим наличие грубых дубликатов\n",
    "data.duplicated().sum()"
   ]
  },
  {
   "cell_type": "code",
   "execution_count": 6,
   "metadata": {},
   "outputs": [
    {
     "data": {
      "text/html": [
       "<div>\n",
       "<style scoped>\n",
       "    .dataframe tbody tr th:only-of-type {\n",
       "        vertical-align: middle;\n",
       "    }\n",
       "\n",
       "    .dataframe tbody tr th {\n",
       "        vertical-align: top;\n",
       "    }\n",
       "\n",
       "    .dataframe thead th {\n",
       "        text-align: right;\n",
       "    }\n",
       "</style>\n",
       "<table border=\"1\" class=\"dataframe\">\n",
       "  <thead>\n",
       "    <tr style=\"text-align: right;\">\n",
       "      <th></th>\n",
       "      <th>Price</th>\n",
       "      <th>RegistrationYear</th>\n",
       "      <th>Power</th>\n",
       "      <th>Kilometer</th>\n",
       "      <th>RegistrationMonth</th>\n",
       "      <th>NumberOfPictures</th>\n",
       "      <th>PostalCode</th>\n",
       "    </tr>\n",
       "  </thead>\n",
       "  <tbody>\n",
       "    <tr>\n",
       "      <td>count</td>\n",
       "      <td>354369.000000</td>\n",
       "      <td>354369.000000</td>\n",
       "      <td>354369.000000</td>\n",
       "      <td>354369.000000</td>\n",
       "      <td>354369.000000</td>\n",
       "      <td>354369.0</td>\n",
       "      <td>354369.000000</td>\n",
       "    </tr>\n",
       "    <tr>\n",
       "      <td>mean</td>\n",
       "      <td>4416.656776</td>\n",
       "      <td>2004.234448</td>\n",
       "      <td>110.094337</td>\n",
       "      <td>128211.172535</td>\n",
       "      <td>5.714645</td>\n",
       "      <td>0.0</td>\n",
       "      <td>50508.689087</td>\n",
       "    </tr>\n",
       "    <tr>\n",
       "      <td>std</td>\n",
       "      <td>4514.158514</td>\n",
       "      <td>90.227958</td>\n",
       "      <td>189.850405</td>\n",
       "      <td>37905.341530</td>\n",
       "      <td>3.726421</td>\n",
       "      <td>0.0</td>\n",
       "      <td>25783.096248</td>\n",
       "    </tr>\n",
       "    <tr>\n",
       "      <td>min</td>\n",
       "      <td>0.000000</td>\n",
       "      <td>1000.000000</td>\n",
       "      <td>0.000000</td>\n",
       "      <td>5000.000000</td>\n",
       "      <td>0.000000</td>\n",
       "      <td>0.0</td>\n",
       "      <td>1067.000000</td>\n",
       "    </tr>\n",
       "    <tr>\n",
       "      <td>25%</td>\n",
       "      <td>1050.000000</td>\n",
       "      <td>1999.000000</td>\n",
       "      <td>69.000000</td>\n",
       "      <td>125000.000000</td>\n",
       "      <td>3.000000</td>\n",
       "      <td>0.0</td>\n",
       "      <td>30165.000000</td>\n",
       "    </tr>\n",
       "    <tr>\n",
       "      <td>50%</td>\n",
       "      <td>2700.000000</td>\n",
       "      <td>2003.000000</td>\n",
       "      <td>105.000000</td>\n",
       "      <td>150000.000000</td>\n",
       "      <td>6.000000</td>\n",
       "      <td>0.0</td>\n",
       "      <td>49413.000000</td>\n",
       "    </tr>\n",
       "    <tr>\n",
       "      <td>75%</td>\n",
       "      <td>6400.000000</td>\n",
       "      <td>2008.000000</td>\n",
       "      <td>143.000000</td>\n",
       "      <td>150000.000000</td>\n",
       "      <td>9.000000</td>\n",
       "      <td>0.0</td>\n",
       "      <td>71083.000000</td>\n",
       "    </tr>\n",
       "    <tr>\n",
       "      <td>max</td>\n",
       "      <td>20000.000000</td>\n",
       "      <td>9999.000000</td>\n",
       "      <td>20000.000000</td>\n",
       "      <td>150000.000000</td>\n",
       "      <td>12.000000</td>\n",
       "      <td>0.0</td>\n",
       "      <td>99998.000000</td>\n",
       "    </tr>\n",
       "  </tbody>\n",
       "</table>\n",
       "</div>"
      ],
      "text/plain": [
       "               Price  RegistrationYear          Power      Kilometer  \\\n",
       "count  354369.000000     354369.000000  354369.000000  354369.000000   \n",
       "mean     4416.656776       2004.234448     110.094337  128211.172535   \n",
       "std      4514.158514         90.227958     189.850405   37905.341530   \n",
       "min         0.000000       1000.000000       0.000000    5000.000000   \n",
       "25%      1050.000000       1999.000000      69.000000  125000.000000   \n",
       "50%      2700.000000       2003.000000     105.000000  150000.000000   \n",
       "75%      6400.000000       2008.000000     143.000000  150000.000000   \n",
       "max     20000.000000       9999.000000   20000.000000  150000.000000   \n",
       "\n",
       "       RegistrationMonth  NumberOfPictures     PostalCode  \n",
       "count      354369.000000          354369.0  354369.000000  \n",
       "mean            5.714645               0.0   50508.689087  \n",
       "std             3.726421               0.0   25783.096248  \n",
       "min             0.000000               0.0    1067.000000  \n",
       "25%             3.000000               0.0   30165.000000  \n",
       "50%             6.000000               0.0   49413.000000  \n",
       "75%             9.000000               0.0   71083.000000  \n",
       "max            12.000000               0.0   99998.000000  "
      ]
     },
     "execution_count": 6,
     "metadata": {},
     "output_type": "execute_result"
    }
   ],
   "source": [
    "#Посмотрим описательную статистику для числовых значений\n",
    "data.describe(exclude=[object])"
   ]
  },
  {
   "cell_type": "code",
   "execution_count": 7,
   "metadata": {},
   "outputs": [
    {
     "name": "stdout",
     "output_type": "stream",
     "text": [
      "Доля пропущенных значений в столбце:\n"
     ]
    },
    {
     "data": {
      "text/plain": [
       "NotRepaired          0.20\n",
       "VehicleType          0.11\n",
       "FuelType             0.09\n",
       "Model                0.06\n",
       "Gearbox              0.06\n",
       "LastSeen             0.00\n",
       "PostalCode           0.00\n",
       "NumberOfPictures     0.00\n",
       "DateCreated          0.00\n",
       "Brand                0.00\n",
       "RegistrationMonth    0.00\n",
       "Kilometer            0.00\n",
       "Power                0.00\n",
       "RegistrationYear     0.00\n",
       "Price                0.00\n",
       "DateCrawled          0.00\n",
       "dtype: float64"
      ]
     },
     "execution_count": 7,
     "metadata": {},
     "output_type": "execute_result"
    }
   ],
   "source": [
    "#Подсчитаем количество пропущенных значений в колонках\n",
    "print('Доля пропущенных значений в столбце:')\n",
    "((data.isna().sum() / data.shape[0]).round(2)).sort_values(ascending = False)\n"
   ]
  },
  {
   "cell_type": "code",
   "execution_count": 8,
   "metadata": {},
   "outputs": [
    {
     "name": "stdout",
     "output_type": "stream",
     "text": [
      "Доля нулевых значений в столбце Price: 0.03\n",
      "Доля нулевых значений в столбце Power: 0.11\n",
      "Доля нулевых значений в столбце RegistrationMonth: 0.11\n"
     ]
    }
   ],
   "source": [
    "#Определим количество нулевых значений в колонках Цена, Мощность и Месяц регистрации\n",
    "columns = ['Price', 'Power', 'RegistrationMonth']\n",
    "for column in columns:\n",
    "    print('Доля нулевых значений в столбце {}:'.format(column), ((data[data[column]==0][column].count()) / (data.shape[0])).round(2))\n"
   ]
  },
  {
   "cell_type": "code",
   "execution_count": 9,
   "metadata": {},
   "outputs": [
    {
     "name": "stdout",
     "output_type": "stream",
     "text": [
      "Уникальные значения в столбце VehicleType: [nan 'coupe' 'suv' 'small' 'sedan' 'convertible' 'bus' 'wagon' 'other']\n",
      "Уникальные значения в столбце FuelType: ['petrol' 'gasoline' nan 'lpg' 'other' 'hybrid' 'cng' 'electric']\n",
      "Уникальные значения в столбце Model: ['golf' nan 'grand' 'fabia' '3er' '2_reihe' 'other' 'c_max' '3_reihe'\n",
      " 'passat' 'navara' 'ka' 'polo' 'twingo' 'a_klasse' 'scirocco' '5er'\n",
      " 'meriva' 'arosa' 'c4' 'civic' 'transporter' 'punto' 'e_klasse' 'clio'\n",
      " 'kadett' 'kangoo' 'corsa' 'one' 'fortwo' '1er' 'b_klasse' 'signum'\n",
      " 'astra' 'a8' 'jetta' 'fiesta' 'c_klasse' 'micra' 'vito' 'sprinter' '156'\n",
      " 'escort' 'forester' 'xc_reihe' 'scenic' 'a4' 'a1' 'insignia' 'combo'\n",
      " 'focus' 'tt' 'a6' 'jazz' 'omega' 'slk' '7er' '80' '147' '100' 'z_reihe'\n",
      " 'sportage' 'sorento' 'v40' 'ibiza' 'mustang' 'eos' 'touran' 'getz' 'a3'\n",
      " 'almera' 'megane' 'lupo' 'r19' 'zafira' 'caddy' 'mondeo' 'cordoba' 'colt'\n",
      " 'impreza' 'vectra' 'berlingo' 'tiguan' 'i_reihe' 'espace' 'sharan'\n",
      " '6_reihe' 'panda' 'up' 'seicento' 'ceed' '5_reihe' 'yeti' 'octavia' 'mii'\n",
      " 'rx_reihe' '6er' 'modus' 'fox' 'matiz' 'beetle' 'c1' 'rio' 'touareg'\n",
      " 'logan' 'spider' 'cuore' 's_max' 'a2' 'galaxy' 'c3' 'viano' 's_klasse'\n",
      " '1_reihe' 'avensis' 'roomster' 'sl' 'kaefer' 'santa' 'cooper' 'leon'\n",
      " '4_reihe' 'a5' '500' 'laguna' 'ptcruiser' 'clk' 'primera' 'x_reihe'\n",
      " 'exeo' '159' 'transit' 'juke' 'qashqai' 'carisma' 'accord' 'corolla'\n",
      " 'lanos' 'phaeton' 'verso' 'swift' 'rav' 'picanto' 'boxster' 'kalos'\n",
      " 'superb' 'stilo' 'alhambra' 'mx_reihe' 'roadster' 'ypsilon' 'cayenne'\n",
      " 'galant' 'justy' '90' 'sirion' 'crossfire' 'agila' 'duster' 'cr_reihe'\n",
      " 'v50' 'c_reihe' 'v_klasse' 'm_klasse' 'yaris' 'c5' 'aygo' 'cc' 'carnival'\n",
      " 'fusion' '911' 'bora' 'forfour' 'm_reihe' 'cl' 'tigra' '300c' 'spark'\n",
      " 'v70' 'kuga' 'x_type' 'ducato' 's_type' 'x_trail' 'toledo' 'altea'\n",
      " 'voyager' 'calibra' 'bravo' 'antara' 'tucson' 'citigo' 'jimny' 'wrangler'\n",
      " 'lybra' 'q7' 'lancer' 'captiva' 'c2' 'discovery' 'freelander' 'sandero'\n",
      " 'note' '900' 'cherokee' 'clubman' 'samara' 'defender' '601' 'cx_reihe'\n",
      " 'legacy' 'pajero' 'auris' 'niva' 's60' 'nubira' 'vivaro' 'g_klasse'\n",
      " 'lodgy' '850' 'range_rover' 'q3' 'serie_2' 'glk' 'charade' 'croma'\n",
      " 'outlander' 'doblo' 'musa' 'move' '9000' 'v60' '145' 'aveo' '200' 'b_max'\n",
      " 'range_rover_sport' 'terios' 'rangerover' 'q5' 'range_rover_evoque'\n",
      " 'materia' 'delta' 'gl' 'kalina' 'amarok' 'elefantino' 'i3' 'kappa'\n",
      " 'serie_3' 'serie_1']\n",
      "Уникальные значения в столбце Gearbox: ['manual' 'auto' nan]\n",
      "Уникальные значения в столбце Brand: ['volkswagen' 'audi' 'jeep' 'skoda' 'bmw' 'peugeot' 'ford' 'mazda'\n",
      " 'nissan' 'renault' 'mercedes_benz' 'opel' 'seat' 'citroen' 'honda' 'fiat'\n",
      " 'mini' 'smart' 'hyundai' 'sonstige_autos' 'alfa_romeo' 'subaru' 'volvo'\n",
      " 'mitsubishi' 'kia' 'suzuki' 'lancia' 'toyota' 'chevrolet' 'dacia'\n",
      " 'daihatsu' 'trabant' 'saab' 'chrysler' 'jaguar' 'daewoo' 'porsche'\n",
      " 'rover' 'land_rover' 'lada']\n"
     ]
    }
   ],
   "source": [
    "#Проверим количество уникальных значений в колонках с типом данных object\n",
    "columns = ['VehicleType', 'FuelType', 'Model', 'Gearbox', 'Brand']\n",
    "for column in columns:\n",
    "    print('Уникальные значения в столбце {}:'.format(column), data[column].unique())\n",
    "\n"
   ]
  },
  {
   "cell_type": "markdown",
   "metadata": {},
   "source": [
    "<a id='1.1'></a>\n",
    "### Вывод по анализу общей информации"
   ]
  },
  {
   "cell_type": "markdown",
   "metadata": {},
   "source": [
    "1. Датасет содержит 354369 в 16 колонках. Очевидно следующие колонки являются просто информационными и не имеют влияния на стоимость авто: Месяц регистрации (достаточно информации о годе), Дата создания анкеты, Почтовый индекс, Дата последней активности. Их необходимо удалить, чтобы не мешались. Также удалим количество фотографий, эта колонка все равно с нулями. \n",
    "2. Видим достаточно большое количество пропусков в колонках NotRepaired (20%), VehicleType (11%), FuelType (9%), Model (6%), Gearbox (6%).\n",
    "3. Также видим нулевые значения в колонках Price (3%) и Power (11%). Цену можно было бы попробовать восстановить на основе объявлений с совпадениями по другим колонкам, но т.к. это наш целевой признак, думаю, не стоит манипулировать с ним. Заполнить пропуски в Мощности не представляется возможным, т.к. даже для одной модели одного года возможны комплектации с различной мощностью. Эти пропуски придется удалить.\n",
    "4. Необходимо исследовать на предмет аномалий данные в колонках Price, Power, RegistrationYear. В Цене встречаются нулевые значения, возможно, есть и еще какие-то нереалистично маленькие. В Мощности, напротив, неправдоподобный максимум, возможно, есть и другие аномалии. В Годе регистрации есть выбросы в обе стороны.\n",
    "5. Некорректные типы данных. В датах - но мы избавляемся от этих колонок, поэтому менять не будем. Колонку NotRepaired привести к булевому типу. Gearbox имеет всего два типа значений - его тоже можно преобразовать в булевый (переименовав, например, в Auto Gearbox)\n",
    "6. Найдено 4 грубых дубликата. Т.к. таблица содержит довольно специфичные и уникальные данные (время до секунд), вероятно, это действительно дубли - можем их убрать."
   ]
  },
  {
   "cell_type": "markdown",
   "metadata": {},
   "source": [
    "<a id='2'></a>\n",
    "## Предобработка данных"
   ]
  },
  {
   "cell_type": "code",
   "execution_count": 10,
   "metadata": {},
   "outputs": [],
   "source": [
    "#Избавимся от ненужных колонок\n",
    "data.drop(['DateCrawled', 'LastSeen', 'DateCreated', 'NumberOfPictures', 'PostalCode', 'RegistrationMonth'], axis = 1, inplace = True)"
   ]
  },
  {
   "cell_type": "code",
   "execution_count": 11,
   "metadata": {},
   "outputs": [],
   "source": [
    "#Избавимся от грубых дубликатов\n",
    "data.drop_duplicates(inplace = True)"
   ]
  },
  {
   "cell_type": "markdown",
   "metadata": {},
   "source": [
    "Заполним пропуски в колонках. Для категориальных признаков будем использовать значение unknown, которое просто позволит избежать пустых строк, не искажая общую картину данных."
   ]
  },
  {
   "cell_type": "code",
   "execution_count": 12,
   "metadata": {},
   "outputs": [],
   "source": [
    "columns = ['NotRepaired', 'VehicleType', 'FuelType', 'Model', 'Gearbox']\n",
    "for column in columns:\n",
    "    data[column] = data[column].fillna('unknown')\n"
   ]
  },
  {
   "cell_type": "code",
   "execution_count": 13,
   "metadata": {},
   "outputs": [
    {
     "data": {
      "text/html": [
       "<div>\n",
       "<style scoped>\n",
       "    .dataframe tbody tr th:only-of-type {\n",
       "        vertical-align: middle;\n",
       "    }\n",
       "\n",
       "    .dataframe tbody tr th {\n",
       "        vertical-align: top;\n",
       "    }\n",
       "\n",
       "    .dataframe thead th {\n",
       "        text-align: right;\n",
       "    }\n",
       "</style>\n",
       "<table border=\"1\" class=\"dataframe\">\n",
       "  <thead>\n",
       "    <tr style=\"text-align: right;\">\n",
       "      <th></th>\n",
       "      <th>Price</th>\n",
       "      <th>VehicleType</th>\n",
       "      <th>RegistrationYear</th>\n",
       "      <th>Gearbox</th>\n",
       "      <th>Power</th>\n",
       "      <th>Model</th>\n",
       "      <th>Kilometer</th>\n",
       "      <th>FuelType</th>\n",
       "      <th>Brand</th>\n",
       "      <th>NotRepaired</th>\n",
       "    </tr>\n",
       "  </thead>\n",
       "  <tbody>\n",
       "    <tr>\n",
       "      <td>0</td>\n",
       "      <td>480</td>\n",
       "      <td>unknown</td>\n",
       "      <td>1993</td>\n",
       "      <td>manual</td>\n",
       "      <td>0</td>\n",
       "      <td>golf</td>\n",
       "      <td>150000</td>\n",
       "      <td>petrol</td>\n",
       "      <td>volkswagen</td>\n",
       "      <td>unknown</td>\n",
       "    </tr>\n",
       "    <tr>\n",
       "      <td>1</td>\n",
       "      <td>18300</td>\n",
       "      <td>coupe</td>\n",
       "      <td>2011</td>\n",
       "      <td>manual</td>\n",
       "      <td>190</td>\n",
       "      <td>unknown</td>\n",
       "      <td>125000</td>\n",
       "      <td>gasoline</td>\n",
       "      <td>audi</td>\n",
       "      <td>yes</td>\n",
       "    </tr>\n",
       "    <tr>\n",
       "      <td>2</td>\n",
       "      <td>9800</td>\n",
       "      <td>suv</td>\n",
       "      <td>2004</td>\n",
       "      <td>auto</td>\n",
       "      <td>163</td>\n",
       "      <td>grand</td>\n",
       "      <td>125000</td>\n",
       "      <td>gasoline</td>\n",
       "      <td>jeep</td>\n",
       "      <td>unknown</td>\n",
       "    </tr>\n",
       "    <tr>\n",
       "      <td>3</td>\n",
       "      <td>1500</td>\n",
       "      <td>small</td>\n",
       "      <td>2001</td>\n",
       "      <td>manual</td>\n",
       "      <td>75</td>\n",
       "      <td>golf</td>\n",
       "      <td>150000</td>\n",
       "      <td>petrol</td>\n",
       "      <td>volkswagen</td>\n",
       "      <td>no</td>\n",
       "    </tr>\n",
       "    <tr>\n",
       "      <td>4</td>\n",
       "      <td>3600</td>\n",
       "      <td>small</td>\n",
       "      <td>2008</td>\n",
       "      <td>manual</td>\n",
       "      <td>69</td>\n",
       "      <td>fabia</td>\n",
       "      <td>90000</td>\n",
       "      <td>gasoline</td>\n",
       "      <td>skoda</td>\n",
       "      <td>no</td>\n",
       "    </tr>\n",
       "  </tbody>\n",
       "</table>\n",
       "</div>"
      ],
      "text/plain": [
       "   Price VehicleType  RegistrationYear Gearbox  Power    Model  Kilometer  \\\n",
       "0    480     unknown              1993  manual      0     golf     150000   \n",
       "1  18300       coupe              2011  manual    190  unknown     125000   \n",
       "2   9800         suv              2004    auto    163    grand     125000   \n",
       "3   1500       small              2001  manual     75     golf     150000   \n",
       "4   3600       small              2008  manual     69    fabia      90000   \n",
       "\n",
       "   FuelType       Brand NotRepaired  \n",
       "0    petrol  volkswagen     unknown  \n",
       "1  gasoline        audi         yes  \n",
       "2  gasoline        jeep     unknown  \n",
       "3    petrol  volkswagen          no  \n",
       "4  gasoline       skoda          no  "
      ]
     },
     "execution_count": 13,
     "metadata": {},
     "output_type": "execute_result"
    }
   ],
   "source": [
    "data.head()"
   ]
  },
  {
   "cell_type": "markdown",
   "metadata": {},
   "source": [
    "<a id='2.1'></a>\n",
    "### Обработка аномалий"
   ]
  },
  {
   "cell_type": "markdown",
   "metadata": {},
   "source": [
    "#### Цена"
   ]
  },
  {
   "cell_type": "code",
   "execution_count": 14,
   "metadata": {},
   "outputs": [
    {
     "data": {
      "image/png": "[encoded data removed]",
      "text/plain": [
       "<Figure size 1440x720 with 1 Axes>"
      ]
     },
     "metadata": {
      "needs_background": "light"
     },
     "output_type": "display_data"
    }
   ],
   "source": [
    "#Посмотрим на график распределения цен на автомобили\n",
    "data['Price'].hist(bins = 100, range=(0,20000), figsize = (20,10))\n",
    "plt.title(\"Распределение цен\", fontsize = 18)\n",
    "plt.ylabel(\"частота\", fontsize = 14)\n",
    "plt.xlabel(\"цена автомобиля\", fontsize = 14) \n",
    "plt.show()"
   ]
  },
  {
   "cell_type": "code",
   "execution_count": 15,
   "metadata": {},
   "outputs": [
    {
     "data": {
      "image/png": "[encoded data removed]",
      "text/plain": [
       "<Figure size 1440x720 with 1 Axes>"
      ]
     },
     "metadata": {
      "needs_background": "light"
     },
     "output_type": "display_data"
    }
   ],
   "source": [
    "#Рассмотрим подробнее цены до 1000\n",
    "data.query('Price <= 1000')['Price'].hist(bins = 100, range=(0,1000), figsize = (20,10))\n",
    "plt.title(\"Распределение цен до 1000 евро\", fontsize = 18)\n",
    "plt.ylabel(\"частота\", fontsize = 14)\n",
    "plt.xlabel(\"цена автомобиля\", fontsize = 14) \n",
    "plt.show()"
   ]
  },
  {
   "cell_type": "markdown",
   "metadata": {},
   "source": [
    "Анализ показал нам большое количество незаполненных значений цены. Также на графике мы видим и ряд подозрительно маленьких значений. Промониторив рынок, вижу, что до 200 евро сейчас не купить даже ржавого корыта. Поэтому думаю, что можем отбросить не только нулевые значения, но и все, что ниже 200 евро. При этом верхняя граница выглядит правдноподобно, там не будем ничего удалять."
   ]
  },
  {
   "cell_type": "code",
   "execution_count": 16,
   "metadata": {},
   "outputs": [],
   "source": [
    "#Избавимся от строк с нулевыми и неправдоподобно низкими значениями цены\n",
    "data_f = data[data['Price'] > 200]"
   ]
  },
  {
   "cell_type": "markdown",
   "metadata": {},
   "source": [
    "#### Мощность"
   ]
  },
  {
   "cell_type": "code",
   "execution_count": 17,
   "metadata": {},
   "outputs": [
    {
     "data": {
      "image/png": "[encoded data removed]",
      "text/plain": [
       "<Figure size 1440x720 with 1 Axes>"
      ]
     },
     "metadata": {
      "needs_background": "light"
     },
     "output_type": "display_data"
    }
   ],
   "source": [
    "#Посмотрим на график распределения мощности автомобилей\n",
    "data_f['Power'].hist(bins = 100, range=(0,600), figsize = (20,10))\n",
    "plt.title(\"Распределение показателей мощности\", fontsize = 18)\n",
    "plt.ylabel(\"частота\", fontsize = 14)\n",
    "plt.xlabel(\"мощность автомобиля\", fontsize = 14) \n",
    "plt.show()"
   ]
  },
  {
   "cell_type": "markdown",
   "metadata": {},
   "source": [
    "Исследовав рынок, вижу, что не существует автомобилей мощностью менее 10 и более 5000 л.с. Бегло просмотрев строки с такими значениями, предполагаю, что это явные ошибки (т.к., например, мощность 2-5 л.с. записана для современных мощных авто), поэтому удаляю такие строки."
   ]
  },
  {
   "cell_type": "code",
   "execution_count": 18,
   "metadata": {},
   "outputs": [
    {
     "data": {
      "text/plain": [
       "12512    3\n",
       "6012     2\n",
       "9012     2\n",
       "7511     2\n",
       "12510    2\n",
       "        ..\n",
       "17011    1\n",
       "5575     1\n",
       "15017    1\n",
       "13636    1\n",
       "6018     1\n",
       "Name: Power, Length: 68, dtype: int64"
      ]
     },
     "execution_count": 18,
     "metadata": {},
     "output_type": "execute_result"
    }
   ],
   "source": [
    "#Посмотрим, насколько частотны очень большие значения\n",
    "data_f.query('Power > 5000')['Power'].value_counts()"
   ]
  },
  {
   "cell_type": "code",
   "execution_count": 19,
   "metadata": {},
   "outputs": [
    {
     "data": {
      "text/plain": [
       "5     93\n",
       "18    44\n",
       "11    27\n",
       "4     26\n",
       "15    19\n",
       "14    19\n",
       "12    18\n",
       "19    14\n",
       "10    11\n",
       "16    11\n",
       "7     10\n",
       "6     10\n",
       "3      9\n",
       "2      9\n",
       "13     8\n",
       "17     8\n",
       "8      7\n",
       "9      4\n",
       "Name: Power, dtype: int64"
      ]
     },
     "execution_count": 19,
     "metadata": {},
     "output_type": "execute_result"
    }
   ],
   "source": [
    "#Посмотрим, насколько частотны очень малые значения\n",
    "data_f.query('1 < Power < 20')['Power'].value_counts()"
   ]
  },
  {
   "cell_type": "code",
   "execution_count": 20,
   "metadata": {},
   "outputs": [],
   "source": [
    "#Избавимся от строк с нулевыми, а также неправдоподобно низкими и высокими значениями мощности\n",
    "data_f = data_f[(data_f['Power'] > 10) & (data_f['Power'] <=5000)]"
   ]
  },
  {
   "cell_type": "markdown",
   "metadata": {},
   "source": [
    "#### Год регистрации"
   ]
  },
  {
   "cell_type": "code",
   "execution_count": 21,
   "metadata": {},
   "outputs": [
    {
     "data": {
      "image/png": "[encoded data removed]",
      "text/plain": [
       "<Figure size 1440x720 with 1 Axes>"
      ]
     },
     "metadata": {
      "needs_background": "light"
     },
     "output_type": "display_data"
    }
   ],
   "source": [
    "#Посмотрим на график распределения годов регистрации\n",
    "data_f['RegistrationYear'].hist(bins = 100, range=(0,10000), figsize = (20,10))\n",
    "plt.title(\"Распределение годов регистрации\", fontsize = 18)\n",
    "plt.ylabel(\"частота\", fontsize = 14)\n",
    "plt.xlabel(\"год регистрации автомобиля\", fontsize = 14) \n",
    "plt.xlim(1800, 2500) \n",
    "plt.show()"
   ]
  },
  {
   "cell_type": "markdown",
   "metadata": {},
   "source": [
    "Очевидно мы не найдем на рынке автомобилей ранее 1900 года выпуска и позднее 2021, поэтому все, что выходит за эти пределы (а в статистике были видны такие значения), удалим как выбросы"
   ]
  },
  {
   "cell_type": "code",
   "execution_count": 22,
   "metadata": {},
   "outputs": [],
   "source": [
    "#Избавимся от строк с нулевыми, а также неправдоподобно низкими и высокими значениями мощности\n",
    "data_f = data_f[(data_f['RegistrationYear'] > 1900) & (data_f['RegistrationYear'] <=2021)]"
   ]
  },
  {
   "cell_type": "code",
   "execution_count": 23,
   "metadata": {},
   "outputs": [
    {
     "data": {
      "text/html": [
       "<div>\n",
       "<style scoped>\n",
       "    .dataframe tbody tr th:only-of-type {\n",
       "        vertical-align: middle;\n",
       "    }\n",
       "\n",
       "    .dataframe tbody tr th {\n",
       "        vertical-align: top;\n",
       "    }\n",
       "\n",
       "    .dataframe thead th {\n",
       "        text-align: right;\n",
       "    }\n",
       "</style>\n",
       "<table border=\"1\" class=\"dataframe\">\n",
       "  <thead>\n",
       "    <tr style=\"text-align: right;\">\n",
       "      <th></th>\n",
       "      <th>Price</th>\n",
       "      <th>RegistrationYear</th>\n",
       "      <th>Power</th>\n",
       "      <th>Kilometer</th>\n",
       "    </tr>\n",
       "  </thead>\n",
       "  <tbody>\n",
       "    <tr>\n",
       "      <td>count</td>\n",
       "      <td>262196.000000</td>\n",
       "      <td>262196.000000</td>\n",
       "      <td>262196.000000</td>\n",
       "      <td>262196.000000</td>\n",
       "    </tr>\n",
       "    <tr>\n",
       "      <td>mean</td>\n",
       "      <td>4980.567057</td>\n",
       "      <td>2003.466784</td>\n",
       "      <td>123.167363</td>\n",
       "      <td>127331.690796</td>\n",
       "    </tr>\n",
       "    <tr>\n",
       "      <td>std</td>\n",
       "      <td>4632.870137</td>\n",
       "      <td>7.085975</td>\n",
       "      <td>71.152867</td>\n",
       "      <td>37330.211365</td>\n",
       "    </tr>\n",
       "    <tr>\n",
       "      <td>min</td>\n",
       "      <td>202.000000</td>\n",
       "      <td>1910.000000</td>\n",
       "      <td>11.000000</td>\n",
       "      <td>5000.000000</td>\n",
       "    </tr>\n",
       "    <tr>\n",
       "      <td>25%</td>\n",
       "      <td>1450.000000</td>\n",
       "      <td>1999.000000</td>\n",
       "      <td>80.000000</td>\n",
       "      <td>125000.000000</td>\n",
       "    </tr>\n",
       "    <tr>\n",
       "      <td>50%</td>\n",
       "      <td>3300.000000</td>\n",
       "      <td>2004.000000</td>\n",
       "      <td>115.000000</td>\n",
       "      <td>150000.000000</td>\n",
       "    </tr>\n",
       "    <tr>\n",
       "      <td>75%</td>\n",
       "      <td>7100.000000</td>\n",
       "      <td>2008.000000</td>\n",
       "      <td>150.000000</td>\n",
       "      <td>150000.000000</td>\n",
       "    </tr>\n",
       "    <tr>\n",
       "      <td>max</td>\n",
       "      <td>20000.000000</td>\n",
       "      <td>2019.000000</td>\n",
       "      <td>4700.000000</td>\n",
       "      <td>150000.000000</td>\n",
       "    </tr>\n",
       "  </tbody>\n",
       "</table>\n",
       "</div>"
      ],
      "text/plain": [
       "               Price  RegistrationYear          Power      Kilometer\n",
       "count  262196.000000     262196.000000  262196.000000  262196.000000\n",
       "mean     4980.567057       2003.466784     123.167363  127331.690796\n",
       "std      4632.870137          7.085975      71.152867   37330.211365\n",
       "min       202.000000       1910.000000      11.000000    5000.000000\n",
       "25%      1450.000000       1999.000000      80.000000  125000.000000\n",
       "50%      3300.000000       2004.000000     115.000000  150000.000000\n",
       "75%      7100.000000       2008.000000     150.000000  150000.000000\n",
       "max     20000.000000       2019.000000    4700.000000  150000.000000"
      ]
     },
     "execution_count": 23,
     "metadata": {},
     "output_type": "execute_result"
    }
   ],
   "source": [
    "#Проверим описательную статистику после избавления от выбросов\n",
    "data_f.describe(exclude=[object])"
   ]
  },
  {
   "cell_type": "code",
   "execution_count": 24,
   "metadata": {},
   "outputs": [
    {
     "data": {
      "text/html": [
       "<div>\n",
       "<style scoped>\n",
       "    .dataframe tbody tr th:only-of-type {\n",
       "        vertical-align: middle;\n",
       "    }\n",
       "\n",
       "    .dataframe tbody tr th {\n",
       "        vertical-align: top;\n",
       "    }\n",
       "\n",
       "    .dataframe thead th {\n",
       "        text-align: right;\n",
       "    }\n",
       "</style>\n",
       "<table border=\"1\" class=\"dataframe\">\n",
       "  <thead>\n",
       "    <tr style=\"text-align: right;\">\n",
       "      <th></th>\n",
       "      <th>Price</th>\n",
       "      <th>VehicleType</th>\n",
       "      <th>RegistrationYear</th>\n",
       "      <th>Gearbox</th>\n",
       "      <th>Power</th>\n",
       "      <th>Model</th>\n",
       "      <th>Kilometer</th>\n",
       "      <th>FuelType</th>\n",
       "      <th>Brand</th>\n",
       "      <th>NotRepaired</th>\n",
       "    </tr>\n",
       "  </thead>\n",
       "  <tbody>\n",
       "    <tr>\n",
       "      <td>1</td>\n",
       "      <td>18300</td>\n",
       "      <td>coupe</td>\n",
       "      <td>2011</td>\n",
       "      <td>manual</td>\n",
       "      <td>190</td>\n",
       "      <td>unknown</td>\n",
       "      <td>125000</td>\n",
       "      <td>gasoline</td>\n",
       "      <td>audi</td>\n",
       "      <td>yes</td>\n",
       "    </tr>\n",
       "    <tr>\n",
       "      <td>2</td>\n",
       "      <td>9800</td>\n",
       "      <td>suv</td>\n",
       "      <td>2004</td>\n",
       "      <td>auto</td>\n",
       "      <td>163</td>\n",
       "      <td>grand</td>\n",
       "      <td>125000</td>\n",
       "      <td>gasoline</td>\n",
       "      <td>jeep</td>\n",
       "      <td>unknown</td>\n",
       "    </tr>\n",
       "    <tr>\n",
       "      <td>3</td>\n",
       "      <td>1500</td>\n",
       "      <td>small</td>\n",
       "      <td>2001</td>\n",
       "      <td>manual</td>\n",
       "      <td>75</td>\n",
       "      <td>golf</td>\n",
       "      <td>150000</td>\n",
       "      <td>petrol</td>\n",
       "      <td>volkswagen</td>\n",
       "      <td>no</td>\n",
       "    </tr>\n",
       "    <tr>\n",
       "      <td>4</td>\n",
       "      <td>3600</td>\n",
       "      <td>small</td>\n",
       "      <td>2008</td>\n",
       "      <td>manual</td>\n",
       "      <td>69</td>\n",
       "      <td>fabia</td>\n",
       "      <td>90000</td>\n",
       "      <td>gasoline</td>\n",
       "      <td>skoda</td>\n",
       "      <td>no</td>\n",
       "    </tr>\n",
       "    <tr>\n",
       "      <td>5</td>\n",
       "      <td>650</td>\n",
       "      <td>sedan</td>\n",
       "      <td>1995</td>\n",
       "      <td>manual</td>\n",
       "      <td>102</td>\n",
       "      <td>3er</td>\n",
       "      <td>150000</td>\n",
       "      <td>petrol</td>\n",
       "      <td>bmw</td>\n",
       "      <td>yes</td>\n",
       "    </tr>\n",
       "  </tbody>\n",
       "</table>\n",
       "</div>"
      ],
      "text/plain": [
       "   Price VehicleType  RegistrationYear Gearbox  Power    Model  Kilometer  \\\n",
       "1  18300       coupe              2011  manual    190  unknown     125000   \n",
       "2   9800         suv              2004    auto    163    grand     125000   \n",
       "3   1500       small              2001  manual     75     golf     150000   \n",
       "4   3600       small              2008  manual     69    fabia      90000   \n",
       "5    650       sedan              1995  manual    102      3er     150000   \n",
       "\n",
       "   FuelType       Brand NotRepaired  \n",
       "1  gasoline        audi         yes  \n",
       "2  gasoline        jeep     unknown  \n",
       "3    petrol  volkswagen          no  \n",
       "4  gasoline       skoda          no  \n",
       "5    petrol         bmw         yes  "
      ]
     },
     "execution_count": 24,
     "metadata": {},
     "output_type": "execute_result"
    }
   ],
   "source": [
    "data_f.head()"
   ]
  },
  {
   "cell_type": "markdown",
   "metadata": {},
   "source": [
    "<a id='3'></a>\n",
    "## Подготовка данных"
   ]
  },
  {
   "cell_type": "markdown",
   "metadata": {},
   "source": [
    "<a id='3.1'></a>\n",
    "### Преобразование категориальных признаков в числа"
   ]
  },
  {
   "cell_type": "code",
   "execution_count": 25,
   "metadata": {},
   "outputs": [
    {
     "data": {
      "text/html": [
       "<div>\n",
       "<style scoped>\n",
       "    .dataframe tbody tr th:only-of-type {\n",
       "        vertical-align: middle;\n",
       "    }\n",
       "\n",
       "    .dataframe tbody tr th {\n",
       "        vertical-align: top;\n",
       "    }\n",
       "\n",
       "    .dataframe thead th {\n",
       "        text-align: right;\n",
       "    }\n",
       "</style>\n",
       "<table border=\"1\" class=\"dataframe\">\n",
       "  <thead>\n",
       "    <tr style=\"text-align: right;\">\n",
       "      <th></th>\n",
       "      <th>Price</th>\n",
       "      <th>RegistrationYear</th>\n",
       "      <th>Power</th>\n",
       "      <th>Kilometer</th>\n",
       "      <th>VehicleType_bus</th>\n",
       "      <th>VehicleType_convertible</th>\n",
       "      <th>VehicleType_coupe</th>\n",
       "      <th>VehicleType_other</th>\n",
       "      <th>VehicleType_sedan</th>\n",
       "      <th>VehicleType_small</th>\n",
       "      <th>VehicleType_suv</th>\n",
       "      <th>VehicleType_unknown</th>\n",
       "      <th>VehicleType_wagon</th>\n",
       "      <th>Gearbox_auto</th>\n",
       "      <th>Gearbox_manual</th>\n",
       "      <th>Gearbox_unknown</th>\n",
       "      <th>Model_100</th>\n",
       "      <th>Model_145</th>\n",
       "      <th>Model_147</th>\n",
       "      <th>Model_156</th>\n",
       "      <th>Model_159</th>\n",
       "      <th>Model_1_reihe</th>\n",
       "      <th>Model_1er</th>\n",
       "      <th>Model_200</th>\n",
       "      <th>Model_2_reihe</th>\n",
       "      <th>Model_300c</th>\n",
       "      <th>Model_3_reihe</th>\n",
       "      <th>Model_3er</th>\n",
       "      <th>Model_4_reihe</th>\n",
       "      <th>Model_500</th>\n",
       "      <th>Model_5_reihe</th>\n",
       "      <th>Model_5er</th>\n",
       "      <th>Model_601</th>\n",
       "      <th>Model_6_reihe</th>\n",
       "      <th>Model_6er</th>\n",
       "      <th>Model_7er</th>\n",
       "      <th>Model_80</th>\n",
       "      <th>Model_850</th>\n",
       "      <th>Model_90</th>\n",
       "      <th>Model_900</th>\n",
       "      <th>Model_9000</th>\n",
       "      <th>Model_911</th>\n",
       "      <th>Model_a1</th>\n",
       "      <th>Model_a2</th>\n",
       "      <th>Model_a3</th>\n",
       "      <th>Model_a4</th>\n",
       "      <th>Model_a5</th>\n",
       "      <th>Model_a6</th>\n",
       "      <th>Model_a8</th>\n",
       "      <th>Model_a_klasse</th>\n",
       "      <th>Model_accord</th>\n",
       "      <th>Model_agila</th>\n",
       "      <th>Model_alhambra</th>\n",
       "      <th>Model_almera</th>\n",
       "      <th>Model_altea</th>\n",
       "      <th>Model_amarok</th>\n",
       "      <th>Model_antara</th>\n",
       "      <th>Model_arosa</th>\n",
       "      <th>Model_astra</th>\n",
       "      <th>Model_auris</th>\n",
       "      <th>Model_avensis</th>\n",
       "      <th>Model_aveo</th>\n",
       "      <th>Model_aygo</th>\n",
       "      <th>Model_b_klasse</th>\n",
       "      <th>Model_b_max</th>\n",
       "      <th>Model_beetle</th>\n",
       "      <th>Model_berlingo</th>\n",
       "      <th>Model_bora</th>\n",
       "      <th>Model_boxster</th>\n",
       "      <th>Model_bravo</th>\n",
       "      <th>Model_c1</th>\n",
       "      <th>Model_c2</th>\n",
       "      <th>Model_c3</th>\n",
       "      <th>Model_c4</th>\n",
       "      <th>Model_c5</th>\n",
       "      <th>Model_c_klasse</th>\n",
       "      <th>Model_c_max</th>\n",
       "      <th>Model_c_reihe</th>\n",
       "      <th>Model_caddy</th>\n",
       "      <th>Model_calibra</th>\n",
       "      <th>Model_captiva</th>\n",
       "      <th>Model_carisma</th>\n",
       "      <th>Model_carnival</th>\n",
       "      <th>Model_cayenne</th>\n",
       "      <th>Model_cc</th>\n",
       "      <th>Model_ceed</th>\n",
       "      <th>Model_charade</th>\n",
       "      <th>Model_cherokee</th>\n",
       "      <th>Model_citigo</th>\n",
       "      <th>Model_civic</th>\n",
       "      <th>Model_cl</th>\n",
       "      <th>Model_clio</th>\n",
       "      <th>Model_clk</th>\n",
       "      <th>Model_clubman</th>\n",
       "      <th>Model_colt</th>\n",
       "      <th>Model_combo</th>\n",
       "      <th>Model_cooper</th>\n",
       "      <th>Model_cordoba</th>\n",
       "      <th>Model_corolla</th>\n",
       "      <th>Model_corsa</th>\n",
       "      <th>Model_cr_reihe</th>\n",
       "      <th>Model_croma</th>\n",
       "      <th>Model_crossfire</th>\n",
       "      <th>Model_cuore</th>\n",
       "      <th>Model_cx_reihe</th>\n",
       "      <th>Model_defender</th>\n",
       "      <th>Model_delta</th>\n",
       "      <th>Model_discovery</th>\n",
       "      <th>Model_doblo</th>\n",
       "      <th>Model_ducato</th>\n",
       "      <th>Model_duster</th>\n",
       "      <th>Model_e_klasse</th>\n",
       "      <th>Model_elefantino</th>\n",
       "      <th>Model_eos</th>\n",
       "      <th>Model_escort</th>\n",
       "      <th>Model_espace</th>\n",
       "      <th>Model_exeo</th>\n",
       "      <th>Model_fabia</th>\n",
       "      <th>Model_fiesta</th>\n",
       "      <th>Model_focus</th>\n",
       "      <th>Model_forester</th>\n",
       "      <th>Model_forfour</th>\n",
       "      <th>Model_fortwo</th>\n",
       "      <th>Model_fox</th>\n",
       "      <th>Model_freelander</th>\n",
       "      <th>Model_fusion</th>\n",
       "      <th>Model_g_klasse</th>\n",
       "      <th>Model_galant</th>\n",
       "      <th>Model_galaxy</th>\n",
       "      <th>Model_getz</th>\n",
       "      <th>Model_gl</th>\n",
       "      <th>Model_glk</th>\n",
       "      <th>Model_golf</th>\n",
       "      <th>Model_grand</th>\n",
       "      <th>Model_i3</th>\n",
       "      <th>Model_i_reihe</th>\n",
       "      <th>Model_ibiza</th>\n",
       "      <th>Model_impreza</th>\n",
       "      <th>Model_insignia</th>\n",
       "      <th>Model_jazz</th>\n",
       "      <th>Model_jetta</th>\n",
       "      <th>Model_jimny</th>\n",
       "      <th>Model_juke</th>\n",
       "      <th>Model_justy</th>\n",
       "      <th>Model_ka</th>\n",
       "      <th>Model_kadett</th>\n",
       "      <th>Model_kaefer</th>\n",
       "      <th>Model_kalina</th>\n",
       "      <th>Model_kalos</th>\n",
       "      <th>Model_kangoo</th>\n",
       "      <th>Model_kappa</th>\n",
       "      <th>Model_kuga</th>\n",
       "      <th>Model_laguna</th>\n",
       "      <th>Model_lancer</th>\n",
       "      <th>Model_lanos</th>\n",
       "      <th>Model_legacy</th>\n",
       "      <th>Model_leon</th>\n",
       "      <th>Model_lodgy</th>\n",
       "      <th>Model_logan</th>\n",
       "      <th>Model_lupo</th>\n",
       "      <th>Model_lybra</th>\n",
       "      <th>Model_m_klasse</th>\n",
       "      <th>Model_m_reihe</th>\n",
       "      <th>Model_materia</th>\n",
       "      <th>Model_matiz</th>\n",
       "      <th>Model_megane</th>\n",
       "      <th>Model_meriva</th>\n",
       "      <th>Model_micra</th>\n",
       "      <th>Model_mii</th>\n",
       "      <th>Model_modus</th>\n",
       "      <th>Model_mondeo</th>\n",
       "      <th>Model_move</th>\n",
       "      <th>Model_musa</th>\n",
       "      <th>Model_mustang</th>\n",
       "      <th>Model_mx_reihe</th>\n",
       "      <th>Model_navara</th>\n",
       "      <th>Model_niva</th>\n",
       "      <th>Model_note</th>\n",
       "      <th>Model_nubira</th>\n",
       "      <th>Model_octavia</th>\n",
       "      <th>Model_omega</th>\n",
       "      <th>Model_one</th>\n",
       "      <th>Model_other</th>\n",
       "      <th>Model_outlander</th>\n",
       "      <th>Model_pajero</th>\n",
       "      <th>Model_panda</th>\n",
       "      <th>Model_passat</th>\n",
       "      <th>Model_phaeton</th>\n",
       "      <th>Model_picanto</th>\n",
       "      <th>Model_polo</th>\n",
       "      <th>Model_primera</th>\n",
       "      <th>Model_ptcruiser</th>\n",
       "      <th>Model_punto</th>\n",
       "      <th>Model_q3</th>\n",
       "      <th>Model_q5</th>\n",
       "      <th>Model_q7</th>\n",
       "      <th>Model_qashqai</th>\n",
       "      <th>Model_r19</th>\n",
       "      <th>Model_range_rover</th>\n",
       "      <th>Model_range_rover_evoque</th>\n",
       "      <th>Model_range_rover_sport</th>\n",
       "      <th>Model_rangerover</th>\n",
       "      <th>Model_rav</th>\n",
       "      <th>Model_rio</th>\n",
       "      <th>Model_roadster</th>\n",
       "      <th>Model_roomster</th>\n",
       "      <th>Model_rx_reihe</th>\n",
       "      <th>Model_s60</th>\n",
       "      <th>Model_s_klasse</th>\n",
       "      <th>Model_s_max</th>\n",
       "      <th>Model_s_type</th>\n",
       "      <th>Model_samara</th>\n",
       "      <th>Model_sandero</th>\n",
       "      <th>Model_santa</th>\n",
       "      <th>Model_scenic</th>\n",
       "      <th>Model_scirocco</th>\n",
       "      <th>Model_seicento</th>\n",
       "      <th>Model_serie_2</th>\n",
       "      <th>Model_serie_3</th>\n",
       "      <th>Model_sharan</th>\n",
       "      <th>Model_signum</th>\n",
       "      <th>Model_sirion</th>\n",
       "      <th>Model_sl</th>\n",
       "      <th>Model_slk</th>\n",
       "      <th>Model_sorento</th>\n",
       "      <th>Model_spark</th>\n",
       "      <th>Model_spider</th>\n",
       "      <th>Model_sportage</th>\n",
       "      <th>Model_sprinter</th>\n",
       "      <th>Model_stilo</th>\n",
       "      <th>Model_superb</th>\n",
       "      <th>Model_swift</th>\n",
       "      <th>Model_terios</th>\n",
       "      <th>Model_tigra</th>\n",
       "      <th>Model_tiguan</th>\n",
       "      <th>Model_toledo</th>\n",
       "      <th>Model_touareg</th>\n",
       "      <th>Model_touran</th>\n",
       "      <th>Model_transit</th>\n",
       "      <th>Model_transporter</th>\n",
       "      <th>Model_tt</th>\n",
       "      <th>Model_tucson</th>\n",
       "      <th>Model_twingo</th>\n",
       "      <th>Model_unknown</th>\n",
       "      <th>Model_up</th>\n",
       "      <th>Model_v40</th>\n",
       "      <th>Model_v50</th>\n",
       "      <th>Model_v60</th>\n",
       "      <th>Model_v70</th>\n",
       "      <th>Model_v_klasse</th>\n",
       "      <th>Model_vectra</th>\n",
       "      <th>Model_verso</th>\n",
       "      <th>Model_viano</th>\n",
       "      <th>Model_vito</th>\n",
       "      <th>Model_vivaro</th>\n",
       "      <th>Model_voyager</th>\n",
       "      <th>Model_wrangler</th>\n",
       "      <th>Model_x_reihe</th>\n",
       "      <th>Model_x_trail</th>\n",
       "      <th>Model_x_type</th>\n",
       "      <th>Model_xc_reihe</th>\n",
       "      <th>Model_yaris</th>\n",
       "      <th>Model_yeti</th>\n",
       "      <th>Model_ypsilon</th>\n",
       "      <th>Model_z_reihe</th>\n",
       "      <th>Model_zafira</th>\n",
       "      <th>FuelType_cng</th>\n",
       "      <th>FuelType_electric</th>\n",
       "      <th>FuelType_gasoline</th>\n",
       "      <th>FuelType_hybrid</th>\n",
       "      <th>FuelType_lpg</th>\n",
       "      <th>FuelType_other</th>\n",
       "      <th>FuelType_petrol</th>\n",
       "      <th>FuelType_unknown</th>\n",
       "      <th>Brand_alfa_romeo</th>\n",
       "      <th>Brand_audi</th>\n",
       "      <th>Brand_bmw</th>\n",
       "      <th>Brand_chevrolet</th>\n",
       "      <th>Brand_chrysler</th>\n",
       "      <th>Brand_citroen</th>\n",
       "      <th>Brand_dacia</th>\n",
       "      <th>Brand_daewoo</th>\n",
       "      <th>Brand_daihatsu</th>\n",
       "      <th>Brand_fiat</th>\n",
       "      <th>Brand_ford</th>\n",
       "      <th>Brand_honda</th>\n",
       "      <th>Brand_hyundai</th>\n",
       "      <th>Brand_jaguar</th>\n",
       "      <th>Brand_jeep</th>\n",
       "      <th>Brand_kia</th>\n",
       "      <th>Brand_lada</th>\n",
       "      <th>Brand_lancia</th>\n",
       "      <th>Brand_land_rover</th>\n",
       "      <th>Brand_mazda</th>\n",
       "      <th>Brand_mercedes_benz</th>\n",
       "      <th>Brand_mini</th>\n",
       "      <th>Brand_mitsubishi</th>\n",
       "      <th>Brand_nissan</th>\n",
       "      <th>Brand_opel</th>\n",
       "      <th>Brand_peugeot</th>\n",
       "      <th>Brand_porsche</th>\n",
       "      <th>Brand_renault</th>\n",
       "      <th>Brand_rover</th>\n",
       "      <th>Brand_saab</th>\n",
       "      <th>Brand_seat</th>\n",
       "      <th>Brand_skoda</th>\n",
       "      <th>Brand_smart</th>\n",
       "      <th>Brand_sonstige_autos</th>\n",
       "      <th>Brand_subaru</th>\n",
       "      <th>Brand_suzuki</th>\n",
       "      <th>Brand_toyota</th>\n",
       "      <th>Brand_trabant</th>\n",
       "      <th>Brand_volkswagen</th>\n",
       "      <th>Brand_volvo</th>\n",
       "      <th>NotRepaired_no</th>\n",
       "      <th>NotRepaired_unknown</th>\n",
       "      <th>NotRepaired_yes</th>\n",
       "    </tr>\n",
       "  </thead>\n",
       "  <tbody>\n",
       "    <tr>\n",
       "      <td>1</td>\n",
       "      <td>18300</td>\n",
       "      <td>2011</td>\n",
       "      <td>190</td>\n",
       "      <td>125000</td>\n",
       "      <td>0</td>\n",
       "      <td>0</td>\n",
       "      <td>1</td>\n",
       "      <td>0</td>\n",
       "      <td>0</td>\n",
       "      <td>0</td>\n",
       "      <td>0</td>\n",
       "      <td>0</td>\n",
       "      <td>0</td>\n",
       "      <td>0</td>\n",
       "      <td>1</td>\n",
       "      <td>0</td>\n",
       "      <td>0</td>\n",
       "      <td>0</td>\n",
       "      <td>0</td>\n",
       "      <td>0</td>\n",
       "      <td>0</td>\n",
       "      <td>0</td>\n",
       "      <td>0</td>\n",
       "      <td>0</td>\n",
       "      <td>0</td>\n",
       "      <td>0</td>\n",
       "      <td>0</td>\n",
       "      <td>0</td>\n",
       "      <td>0</td>\n",
       "      <td>0</td>\n",
       "      <td>0</td>\n",
       "      <td>0</td>\n",
       "      <td>0</td>\n",
       "      <td>0</td>\n",
       "      <td>0</td>\n",
       "      <td>0</td>\n",
       "      <td>0</td>\n",
       "      <td>0</td>\n",
       "      <td>0</td>\n",
       "      <td>0</td>\n",
       "      <td>0</td>\n",
       "      <td>0</td>\n",
       "      <td>0</td>\n",
       "      <td>0</td>\n",
       "      <td>0</td>\n",
       "      <td>0</td>\n",
       "      <td>0</td>\n",
       "      <td>0</td>\n",
       "      <td>0</td>\n",
       "      <td>0</td>\n",
       "      <td>0</td>\n",
       "      <td>0</td>\n",
       "      <td>0</td>\n",
       "      <td>0</td>\n",
       "      <td>0</td>\n",
       "      <td>0</td>\n",
       "      <td>0</td>\n",
       "      <td>0</td>\n",
       "      <td>0</td>\n",
       "      <td>0</td>\n",
       "      <td>0</td>\n",
       "      <td>0</td>\n",
       "      <td>0</td>\n",
       "      <td>0</td>\n",
       "      <td>0</td>\n",
       "      <td>0</td>\n",
       "      <td>0</td>\n",
       "      <td>0</td>\n",
       "      <td>0</td>\n",
       "      <td>0</td>\n",
       "      <td>0</td>\n",
       "      <td>0</td>\n",
       "      <td>0</td>\n",
       "      <td>0</td>\n",
       "      <td>0</td>\n",
       "      <td>0</td>\n",
       "      <td>0</td>\n",
       "      <td>0</td>\n",
       "      <td>0</td>\n",
       "      <td>0</td>\n",
       "      <td>0</td>\n",
       "      <td>0</td>\n",
       "      <td>0</td>\n",
       "      <td>0</td>\n",
       "      <td>0</td>\n",
       "      <td>0</td>\n",
       "      <td>0</td>\n",
       "      <td>0</td>\n",
       "      <td>0</td>\n",
       "      <td>0</td>\n",
       "      <td>0</td>\n",
       "      <td>0</td>\n",
       "      <td>0</td>\n",
       "      <td>0</td>\n",
       "      <td>0</td>\n",
       "      <td>0</td>\n",
       "      <td>0</td>\n",
       "      <td>0</td>\n",
       "      <td>0</td>\n",
       "      <td>0</td>\n",
       "      <td>0</td>\n",
       "      <td>0</td>\n",
       "      <td>0</td>\n",
       "      <td>0</td>\n",
       "      <td>0</td>\n",
       "      <td>0</td>\n",
       "      <td>0</td>\n",
       "      <td>0</td>\n",
       "      <td>0</td>\n",
       "      <td>0</td>\n",
       "      <td>0</td>\n",
       "      <td>0</td>\n",
       "      <td>0</td>\n",
       "      <td>0</td>\n",
       "      <td>0</td>\n",
       "      <td>0</td>\n",
       "      <td>0</td>\n",
       "      <td>0</td>\n",
       "      <td>0</td>\n",
       "      <td>0</td>\n",
       "      <td>0</td>\n",
       "      <td>0</td>\n",
       "      <td>0</td>\n",
       "      <td>0</td>\n",
       "      <td>0</td>\n",
       "      <td>0</td>\n",
       "      <td>0</td>\n",
       "      <td>0</td>\n",
       "      <td>0</td>\n",
       "      <td>0</td>\n",
       "      <td>0</td>\n",
       "      <td>0</td>\n",
       "      <td>0</td>\n",
       "      <td>0</td>\n",
       "      <td>0</td>\n",
       "      <td>0</td>\n",
       "      <td>0</td>\n",
       "      <td>0</td>\n",
       "      <td>0</td>\n",
       "      <td>0</td>\n",
       "      <td>0</td>\n",
       "      <td>0</td>\n",
       "      <td>0</td>\n",
       "      <td>0</td>\n",
       "      <td>0</td>\n",
       "      <td>0</td>\n",
       "      <td>0</td>\n",
       "      <td>0</td>\n",
       "      <td>0</td>\n",
       "      <td>0</td>\n",
       "      <td>0</td>\n",
       "      <td>0</td>\n",
       "      <td>0</td>\n",
       "      <td>0</td>\n",
       "      <td>0</td>\n",
       "      <td>0</td>\n",
       "      <td>0</td>\n",
       "      <td>0</td>\n",
       "      <td>0</td>\n",
       "      <td>0</td>\n",
       "      <td>0</td>\n",
       "      <td>0</td>\n",
       "      <td>0</td>\n",
       "      <td>0</td>\n",
       "      <td>0</td>\n",
       "      <td>0</td>\n",
       "      <td>0</td>\n",
       "      <td>0</td>\n",
       "      <td>0</td>\n",
       "      <td>0</td>\n",
       "      <td>0</td>\n",
       "      <td>0</td>\n",
       "      <td>0</td>\n",
       "      <td>0</td>\n",
       "      <td>0</td>\n",
       "      <td>0</td>\n",
       "      <td>0</td>\n",
       "      <td>0</td>\n",
       "      <td>0</td>\n",
       "      <td>0</td>\n",
       "      <td>0</td>\n",
       "      <td>0</td>\n",
       "      <td>0</td>\n",
       "      <td>0</td>\n",
       "      <td>0</td>\n",
       "      <td>0</td>\n",
       "      <td>0</td>\n",
       "      <td>0</td>\n",
       "      <td>0</td>\n",
       "      <td>0</td>\n",
       "      <td>0</td>\n",
       "      <td>0</td>\n",
       "      <td>0</td>\n",
       "      <td>0</td>\n",
       "      <td>0</td>\n",
       "      <td>0</td>\n",
       "      <td>0</td>\n",
       "      <td>0</td>\n",
       "      <td>0</td>\n",
       "      <td>0</td>\n",
       "      <td>0</td>\n",
       "      <td>0</td>\n",
       "      <td>0</td>\n",
       "      <td>0</td>\n",
       "      <td>0</td>\n",
       "      <td>0</td>\n",
       "      <td>0</td>\n",
       "      <td>0</td>\n",
       "      <td>0</td>\n",
       "      <td>0</td>\n",
       "      <td>0</td>\n",
       "      <td>0</td>\n",
       "      <td>0</td>\n",
       "      <td>0</td>\n",
       "      <td>0</td>\n",
       "      <td>0</td>\n",
       "      <td>0</td>\n",
       "      <td>0</td>\n",
       "      <td>0</td>\n",
       "      <td>0</td>\n",
       "      <td>0</td>\n",
       "      <td>0</td>\n",
       "      <td>0</td>\n",
       "      <td>0</td>\n",
       "      <td>0</td>\n",
       "      <td>0</td>\n",
       "      <td>0</td>\n",
       "      <td>0</td>\n",
       "      <td>0</td>\n",
       "      <td>0</td>\n",
       "      <td>0</td>\n",
       "      <td>0</td>\n",
       "      <td>0</td>\n",
       "      <td>0</td>\n",
       "      <td>0</td>\n",
       "      <td>0</td>\n",
       "      <td>0</td>\n",
       "      <td>0</td>\n",
       "      <td>0</td>\n",
       "      <td>0</td>\n",
       "      <td>0</td>\n",
       "      <td>0</td>\n",
       "      <td>0</td>\n",
       "      <td>1</td>\n",
       "      <td>0</td>\n",
       "      <td>0</td>\n",
       "      <td>0</td>\n",
       "      <td>0</td>\n",
       "      <td>0</td>\n",
       "      <td>0</td>\n",
       "      <td>0</td>\n",
       "      <td>0</td>\n",
       "      <td>0</td>\n",
       "      <td>0</td>\n",
       "      <td>0</td>\n",
       "      <td>0</td>\n",
       "      <td>0</td>\n",
       "      <td>0</td>\n",
       "      <td>0</td>\n",
       "      <td>0</td>\n",
       "      <td>0</td>\n",
       "      <td>0</td>\n",
       "      <td>0</td>\n",
       "      <td>0</td>\n",
       "      <td>0</td>\n",
       "      <td>0</td>\n",
       "      <td>0</td>\n",
       "      <td>0</td>\n",
       "      <td>1</td>\n",
       "      <td>0</td>\n",
       "      <td>0</td>\n",
       "      <td>0</td>\n",
       "      <td>0</td>\n",
       "      <td>0</td>\n",
       "      <td>0</td>\n",
       "      <td>1</td>\n",
       "      <td>0</td>\n",
       "      <td>0</td>\n",
       "      <td>0</td>\n",
       "      <td>0</td>\n",
       "      <td>0</td>\n",
       "      <td>0</td>\n",
       "      <td>0</td>\n",
       "      <td>0</td>\n",
       "      <td>0</td>\n",
       "      <td>0</td>\n",
       "      <td>0</td>\n",
       "      <td>0</td>\n",
       "      <td>0</td>\n",
       "      <td>0</td>\n",
       "      <td>0</td>\n",
       "      <td>0</td>\n",
       "      <td>0</td>\n",
       "      <td>0</td>\n",
       "      <td>0</td>\n",
       "      <td>0</td>\n",
       "      <td>0</td>\n",
       "      <td>0</td>\n",
       "      <td>0</td>\n",
       "      <td>0</td>\n",
       "      <td>0</td>\n",
       "      <td>0</td>\n",
       "      <td>0</td>\n",
       "      <td>0</td>\n",
       "      <td>0</td>\n",
       "      <td>0</td>\n",
       "      <td>0</td>\n",
       "      <td>0</td>\n",
       "      <td>0</td>\n",
       "      <td>0</td>\n",
       "      <td>0</td>\n",
       "      <td>0</td>\n",
       "      <td>0</td>\n",
       "      <td>0</td>\n",
       "      <td>0</td>\n",
       "      <td>0</td>\n",
       "      <td>1</td>\n",
       "    </tr>\n",
       "    <tr>\n",
       "      <td>2</td>\n",
       "      <td>9800</td>\n",
       "      <td>2004</td>\n",
       "      <td>163</td>\n",
       "      <td>125000</td>\n",
       "      <td>0</td>\n",
       "      <td>0</td>\n",
       "      <td>0</td>\n",
       "      <td>0</td>\n",
       "      <td>0</td>\n",
       "      <td>0</td>\n",
       "      <td>1</td>\n",
       "      <td>0</td>\n",
       "      <td>0</td>\n",
       "      <td>1</td>\n",
       "      <td>0</td>\n",
       "      <td>0</td>\n",
       "      <td>0</td>\n",
       "      <td>0</td>\n",
       "      <td>0</td>\n",
       "      <td>0</td>\n",
       "      <td>0</td>\n",
       "      <td>0</td>\n",
       "      <td>0</td>\n",
       "      <td>0</td>\n",
       "      <td>0</td>\n",
       "      <td>0</td>\n",
       "      <td>0</td>\n",
       "      <td>0</td>\n",
       "      <td>0</td>\n",
       "      <td>0</td>\n",
       "      <td>0</td>\n",
       "      <td>0</td>\n",
       "      <td>0</td>\n",
       "      <td>0</td>\n",
       "      <td>0</td>\n",
       "      <td>0</td>\n",
       "      <td>0</td>\n",
       "      <td>0</td>\n",
       "      <td>0</td>\n",
       "      <td>0</td>\n",
       "      <td>0</td>\n",
       "      <td>0</td>\n",
       "      <td>0</td>\n",
       "      <td>0</td>\n",
       "      <td>0</td>\n",
       "      <td>0</td>\n",
       "      <td>0</td>\n",
       "      <td>0</td>\n",
       "      <td>0</td>\n",
       "      <td>0</td>\n",
       "      <td>0</td>\n",
       "      <td>0</td>\n",
       "      <td>0</td>\n",
       "      <td>0</td>\n",
       "      <td>0</td>\n",
       "      <td>0</td>\n",
       "      <td>0</td>\n",
       "      <td>0</td>\n",
       "      <td>0</td>\n",
       "      <td>0</td>\n",
       "      <td>0</td>\n",
       "      <td>0</td>\n",
       "      <td>0</td>\n",
       "      <td>0</td>\n",
       "      <td>0</td>\n",
       "      <td>0</td>\n",
       "      <td>0</td>\n",
       "      <td>0</td>\n",
       "      <td>0</td>\n",
       "      <td>0</td>\n",
       "      <td>0</td>\n",
       "      <td>0</td>\n",
       "      <td>0</td>\n",
       "      <td>0</td>\n",
       "      <td>0</td>\n",
       "      <td>0</td>\n",
       "      <td>0</td>\n",
       "      <td>0</td>\n",
       "      <td>0</td>\n",
       "      <td>0</td>\n",
       "      <td>0</td>\n",
       "      <td>0</td>\n",
       "      <td>0</td>\n",
       "      <td>0</td>\n",
       "      <td>0</td>\n",
       "      <td>0</td>\n",
       "      <td>0</td>\n",
       "      <td>0</td>\n",
       "      <td>0</td>\n",
       "      <td>0</td>\n",
       "      <td>0</td>\n",
       "      <td>0</td>\n",
       "      <td>0</td>\n",
       "      <td>0</td>\n",
       "      <td>0</td>\n",
       "      <td>0</td>\n",
       "      <td>0</td>\n",
       "      <td>0</td>\n",
       "      <td>0</td>\n",
       "      <td>0</td>\n",
       "      <td>0</td>\n",
       "      <td>0</td>\n",
       "      <td>0</td>\n",
       "      <td>0</td>\n",
       "      <td>0</td>\n",
       "      <td>0</td>\n",
       "      <td>0</td>\n",
       "      <td>0</td>\n",
       "      <td>0</td>\n",
       "      <td>0</td>\n",
       "      <td>0</td>\n",
       "      <td>0</td>\n",
       "      <td>0</td>\n",
       "      <td>0</td>\n",
       "      <td>0</td>\n",
       "      <td>0</td>\n",
       "      <td>0</td>\n",
       "      <td>0</td>\n",
       "      <td>0</td>\n",
       "      <td>0</td>\n",
       "      <td>0</td>\n",
       "      <td>0</td>\n",
       "      <td>0</td>\n",
       "      <td>0</td>\n",
       "      <td>0</td>\n",
       "      <td>0</td>\n",
       "      <td>0</td>\n",
       "      <td>0</td>\n",
       "      <td>0</td>\n",
       "      <td>0</td>\n",
       "      <td>0</td>\n",
       "      <td>0</td>\n",
       "      <td>0</td>\n",
       "      <td>1</td>\n",
       "      <td>0</td>\n",
       "      <td>0</td>\n",
       "      <td>0</td>\n",
       "      <td>0</td>\n",
       "      <td>0</td>\n",
       "      <td>0</td>\n",
       "      <td>0</td>\n",
       "      <td>0</td>\n",
       "      <td>0</td>\n",
       "      <td>0</td>\n",
       "      <td>0</td>\n",
       "      <td>0</td>\n",
       "      <td>0</td>\n",
       "      <td>0</td>\n",
       "      <td>0</td>\n",
       "      <td>0</td>\n",
       "      <td>0</td>\n",
       "      <td>0</td>\n",
       "      <td>0</td>\n",
       "      <td>0</td>\n",
       "      <td>0</td>\n",
       "      <td>0</td>\n",
       "      <td>0</td>\n",
       "      <td>0</td>\n",
       "      <td>0</td>\n",
       "      <td>0</td>\n",
       "      <td>0</td>\n",
       "      <td>0</td>\n",
       "      <td>0</td>\n",
       "      <td>0</td>\n",
       "      <td>0</td>\n",
       "      <td>0</td>\n",
       "      <td>0</td>\n",
       "      <td>0</td>\n",
       "      <td>0</td>\n",
       "      <td>0</td>\n",
       "      <td>0</td>\n",
       "      <td>0</td>\n",
       "      <td>0</td>\n",
       "      <td>0</td>\n",
       "      <td>0</td>\n",
       "      <td>0</td>\n",
       "      <td>0</td>\n",
       "      <td>0</td>\n",
       "      <td>0</td>\n",
       "      <td>0</td>\n",
       "      <td>0</td>\n",
       "      <td>0</td>\n",
       "      <td>0</td>\n",
       "      <td>0</td>\n",
       "      <td>0</td>\n",
       "      <td>0</td>\n",
       "      <td>0</td>\n",
       "      <td>0</td>\n",
       "      <td>0</td>\n",
       "      <td>0</td>\n",
       "      <td>0</td>\n",
       "      <td>0</td>\n",
       "      <td>0</td>\n",
       "      <td>0</td>\n",
       "      <td>0</td>\n",
       "      <td>0</td>\n",
       "      <td>0</td>\n",
       "      <td>0</td>\n",
       "      <td>0</td>\n",
       "      <td>0</td>\n",
       "      <td>0</td>\n",
       "      <td>0</td>\n",
       "      <td>0</td>\n",
       "      <td>0</td>\n",
       "      <td>0</td>\n",
       "      <td>0</td>\n",
       "      <td>0</td>\n",
       "      <td>0</td>\n",
       "      <td>0</td>\n",
       "      <td>0</td>\n",
       "      <td>0</td>\n",
       "      <td>0</td>\n",
       "      <td>0</td>\n",
       "      <td>0</td>\n",
       "      <td>0</td>\n",
       "      <td>0</td>\n",
       "      <td>0</td>\n",
       "      <td>0</td>\n",
       "      <td>0</td>\n",
       "      <td>0</td>\n",
       "      <td>0</td>\n",
       "      <td>0</td>\n",
       "      <td>0</td>\n",
       "      <td>0</td>\n",
       "      <td>0</td>\n",
       "      <td>0</td>\n",
       "      <td>0</td>\n",
       "      <td>0</td>\n",
       "      <td>0</td>\n",
       "      <td>0</td>\n",
       "      <td>0</td>\n",
       "      <td>0</td>\n",
       "      <td>0</td>\n",
       "      <td>0</td>\n",
       "      <td>0</td>\n",
       "      <td>0</td>\n",
       "      <td>0</td>\n",
       "      <td>0</td>\n",
       "      <td>0</td>\n",
       "      <td>0</td>\n",
       "      <td>0</td>\n",
       "      <td>0</td>\n",
       "      <td>0</td>\n",
       "      <td>0</td>\n",
       "      <td>0</td>\n",
       "      <td>0</td>\n",
       "      <td>0</td>\n",
       "      <td>0</td>\n",
       "      <td>0</td>\n",
       "      <td>0</td>\n",
       "      <td>0</td>\n",
       "      <td>0</td>\n",
       "      <td>0</td>\n",
       "      <td>0</td>\n",
       "      <td>0</td>\n",
       "      <td>0</td>\n",
       "      <td>0</td>\n",
       "      <td>0</td>\n",
       "      <td>0</td>\n",
       "      <td>0</td>\n",
       "      <td>0</td>\n",
       "      <td>0</td>\n",
       "      <td>0</td>\n",
       "      <td>0</td>\n",
       "      <td>0</td>\n",
       "      <td>0</td>\n",
       "      <td>0</td>\n",
       "      <td>0</td>\n",
       "      <td>1</td>\n",
       "      <td>0</td>\n",
       "      <td>0</td>\n",
       "      <td>0</td>\n",
       "      <td>0</td>\n",
       "      <td>0</td>\n",
       "      <td>0</td>\n",
       "      <td>0</td>\n",
       "      <td>0</td>\n",
       "      <td>0</td>\n",
       "      <td>0</td>\n",
       "      <td>0</td>\n",
       "      <td>0</td>\n",
       "      <td>0</td>\n",
       "      <td>0</td>\n",
       "      <td>0</td>\n",
       "      <td>0</td>\n",
       "      <td>0</td>\n",
       "      <td>0</td>\n",
       "      <td>0</td>\n",
       "      <td>1</td>\n",
       "      <td>0</td>\n",
       "      <td>0</td>\n",
       "      <td>0</td>\n",
       "      <td>0</td>\n",
       "      <td>0</td>\n",
       "      <td>0</td>\n",
       "      <td>0</td>\n",
       "      <td>0</td>\n",
       "      <td>0</td>\n",
       "      <td>0</td>\n",
       "      <td>0</td>\n",
       "      <td>0</td>\n",
       "      <td>0</td>\n",
       "      <td>0</td>\n",
       "      <td>0</td>\n",
       "      <td>0</td>\n",
       "      <td>0</td>\n",
       "      <td>0</td>\n",
       "      <td>0</td>\n",
       "      <td>0</td>\n",
       "      <td>0</td>\n",
       "      <td>0</td>\n",
       "      <td>0</td>\n",
       "      <td>0</td>\n",
       "      <td>0</td>\n",
       "      <td>0</td>\n",
       "      <td>1</td>\n",
       "      <td>0</td>\n",
       "    </tr>\n",
       "    <tr>\n",
       "      <td>3</td>\n",
       "      <td>1500</td>\n",
       "      <td>2001</td>\n",
       "      <td>75</td>\n",
       "      <td>150000</td>\n",
       "      <td>0</td>\n",
       "      <td>0</td>\n",
       "      <td>0</td>\n",
       "      <td>0</td>\n",
       "      <td>0</td>\n",
       "      <td>1</td>\n",
       "      <td>0</td>\n",
       "      <td>0</td>\n",
       "      <td>0</td>\n",
       "      <td>0</td>\n",
       "      <td>1</td>\n",
       "      <td>0</td>\n",
       "      <td>0</td>\n",
       "      <td>0</td>\n",
       "      <td>0</td>\n",
       "      <td>0</td>\n",
       "      <td>0</td>\n",
       "      <td>0</td>\n",
       "      <td>0</td>\n",
       "      <td>0</td>\n",
       "      <td>0</td>\n",
       "      <td>0</td>\n",
       "      <td>0</td>\n",
       "      <td>0</td>\n",
       "      <td>0</td>\n",
       "      <td>0</td>\n",
       "      <td>0</td>\n",
       "      <td>0</td>\n",
       "      <td>0</td>\n",
       "      <td>0</td>\n",
       "      <td>0</td>\n",
       "      <td>0</td>\n",
       "      <td>0</td>\n",
       "      <td>0</td>\n",
       "      <td>0</td>\n",
       "      <td>0</td>\n",
       "      <td>0</td>\n",
       "      <td>0</td>\n",
       "      <td>0</td>\n",
       "      <td>0</td>\n",
       "      <td>0</td>\n",
       "      <td>0</td>\n",
       "      <td>0</td>\n",
       "      <td>0</td>\n",
       "      <td>0</td>\n",
       "      <td>0</td>\n",
       "      <td>0</td>\n",
       "      <td>0</td>\n",
       "      <td>0</td>\n",
       "      <td>0</td>\n",
       "      <td>0</td>\n",
       "      <td>0</td>\n",
       "      <td>0</td>\n",
       "      <td>0</td>\n",
       "      <td>0</td>\n",
       "      <td>0</td>\n",
       "      <td>0</td>\n",
       "      <td>0</td>\n",
       "      <td>0</td>\n",
       "      <td>0</td>\n",
       "      <td>0</td>\n",
       "      <td>0</td>\n",
       "      <td>0</td>\n",
       "      <td>0</td>\n",
       "      <td>0</td>\n",
       "      <td>0</td>\n",
       "      <td>0</td>\n",
       "      <td>0</td>\n",
       "      <td>0</td>\n",
       "      <td>0</td>\n",
       "      <td>0</td>\n",
       "      <td>0</td>\n",
       "      <td>0</td>\n",
       "      <td>0</td>\n",
       "      <td>0</td>\n",
       "      <td>0</td>\n",
       "      <td>0</td>\n",
       "      <td>0</td>\n",
       "      <td>0</td>\n",
       "      <td>0</td>\n",
       "      <td>0</td>\n",
       "      <td>0</td>\n",
       "      <td>0</td>\n",
       "      <td>0</td>\n",
       "      <td>0</td>\n",
       "      <td>0</td>\n",
       "      <td>0</td>\n",
       "      <td>0</td>\n",
       "      <td>0</td>\n",
       "      <td>0</td>\n",
       "      <td>0</td>\n",
       "      <td>0</td>\n",
       "      <td>0</td>\n",
       "      <td>0</td>\n",
       "      <td>0</td>\n",
       "      <td>0</td>\n",
       "      <td>0</td>\n",
       "      <td>0</td>\n",
       "      <td>0</td>\n",
       "      <td>0</td>\n",
       "      <td>0</td>\n",
       "      <td>0</td>\n",
       "      <td>0</td>\n",
       "      <td>0</td>\n",
       "      <td>0</td>\n",
       "      <td>0</td>\n",
       "      <td>0</td>\n",
       "      <td>0</td>\n",
       "      <td>0</td>\n",
       "      <td>0</td>\n",
       "      <td>0</td>\n",
       "      <td>0</td>\n",
       "      <td>0</td>\n",
       "      <td>0</td>\n",
       "      <td>0</td>\n",
       "      <td>0</td>\n",
       "      <td>0</td>\n",
       "      <td>0</td>\n",
       "      <td>0</td>\n",
       "      <td>0</td>\n",
       "      <td>0</td>\n",
       "      <td>0</td>\n",
       "      <td>0</td>\n",
       "      <td>0</td>\n",
       "      <td>0</td>\n",
       "      <td>0</td>\n",
       "      <td>0</td>\n",
       "      <td>0</td>\n",
       "      <td>1</td>\n",
       "      <td>0</td>\n",
       "      <td>0</td>\n",
       "      <td>0</td>\n",
       "      <td>0</td>\n",
       "      <td>0</td>\n",
       "      <td>0</td>\n",
       "      <td>0</td>\n",
       "      <td>0</td>\n",
       "      <td>0</td>\n",
       "      <td>0</td>\n",
       "      <td>0</td>\n",
       "      <td>0</td>\n",
       "      <td>0</td>\n",
       "      <td>0</td>\n",
       "      <td>0</td>\n",
       "      <td>0</td>\n",
       "      <td>0</td>\n",
       "      <td>0</td>\n",
       "      <td>0</td>\n",
       "      <td>0</td>\n",
       "      <td>0</td>\n",
       "      <td>0</td>\n",
       "      <td>0</td>\n",
       "      <td>0</td>\n",
       "      <td>0</td>\n",
       "      <td>0</td>\n",
       "      <td>0</td>\n",
       "      <td>0</td>\n",
       "      <td>0</td>\n",
       "      <td>0</td>\n",
       "      <td>0</td>\n",
       "      <td>0</td>\n",
       "      <td>0</td>\n",
       "      <td>0</td>\n",
       "      <td>0</td>\n",
       "      <td>0</td>\n",
       "      <td>0</td>\n",
       "      <td>0</td>\n",
       "      <td>0</td>\n",
       "      <td>0</td>\n",
       "      <td>0</td>\n",
       "      <td>0</td>\n",
       "      <td>0</td>\n",
       "      <td>0</td>\n",
       "      <td>0</td>\n",
       "      <td>0</td>\n",
       "      <td>0</td>\n",
       "      <td>0</td>\n",
       "      <td>0</td>\n",
       "      <td>0</td>\n",
       "      <td>0</td>\n",
       "      <td>0</td>\n",
       "      <td>0</td>\n",
       "      <td>0</td>\n",
       "      <td>0</td>\n",
       "      <td>0</td>\n",
       "      <td>0</td>\n",
       "      <td>0</td>\n",
       "      <td>0</td>\n",
       "      <td>0</td>\n",
       "      <td>0</td>\n",
       "      <td>0</td>\n",
       "      <td>0</td>\n",
       "      <td>0</td>\n",
       "      <td>0</td>\n",
       "      <td>0</td>\n",
       "      <td>0</td>\n",
       "      <td>0</td>\n",
       "      <td>0</td>\n",
       "      <td>0</td>\n",
       "      <td>0</td>\n",
       "      <td>0</td>\n",
       "      <td>0</td>\n",
       "      <td>0</td>\n",
       "      <td>0</td>\n",
       "      <td>0</td>\n",
       "      <td>0</td>\n",
       "      <td>0</td>\n",
       "      <td>0</td>\n",
       "      <td>0</td>\n",
       "      <td>0</td>\n",
       "      <td>0</td>\n",
       "      <td>0</td>\n",
       "      <td>0</td>\n",
       "      <td>0</td>\n",
       "      <td>0</td>\n",
       "      <td>0</td>\n",
       "      <td>0</td>\n",
       "      <td>0</td>\n",
       "      <td>0</td>\n",
       "      <td>0</td>\n",
       "      <td>0</td>\n",
       "      <td>0</td>\n",
       "      <td>0</td>\n",
       "      <td>0</td>\n",
       "      <td>0</td>\n",
       "      <td>0</td>\n",
       "      <td>0</td>\n",
       "      <td>0</td>\n",
       "      <td>0</td>\n",
       "      <td>0</td>\n",
       "      <td>0</td>\n",
       "      <td>0</td>\n",
       "      <td>0</td>\n",
       "      <td>0</td>\n",
       "      <td>0</td>\n",
       "      <td>0</td>\n",
       "      <td>0</td>\n",
       "      <td>0</td>\n",
       "      <td>0</td>\n",
       "      <td>0</td>\n",
       "      <td>0</td>\n",
       "      <td>0</td>\n",
       "      <td>0</td>\n",
       "      <td>0</td>\n",
       "      <td>0</td>\n",
       "      <td>0</td>\n",
       "      <td>0</td>\n",
       "      <td>0</td>\n",
       "      <td>0</td>\n",
       "      <td>0</td>\n",
       "      <td>0</td>\n",
       "      <td>0</td>\n",
       "      <td>0</td>\n",
       "      <td>0</td>\n",
       "      <td>0</td>\n",
       "      <td>0</td>\n",
       "      <td>0</td>\n",
       "      <td>0</td>\n",
       "      <td>0</td>\n",
       "      <td>0</td>\n",
       "      <td>0</td>\n",
       "      <td>0</td>\n",
       "      <td>0</td>\n",
       "      <td>0</td>\n",
       "      <td>0</td>\n",
       "      <td>0</td>\n",
       "      <td>0</td>\n",
       "      <td>0</td>\n",
       "      <td>1</td>\n",
       "      <td>0</td>\n",
       "      <td>0</td>\n",
       "      <td>0</td>\n",
       "      <td>0</td>\n",
       "      <td>0</td>\n",
       "      <td>0</td>\n",
       "      <td>0</td>\n",
       "      <td>0</td>\n",
       "      <td>0</td>\n",
       "      <td>0</td>\n",
       "      <td>0</td>\n",
       "      <td>0</td>\n",
       "      <td>0</td>\n",
       "      <td>0</td>\n",
       "      <td>0</td>\n",
       "      <td>0</td>\n",
       "      <td>0</td>\n",
       "      <td>0</td>\n",
       "      <td>0</td>\n",
       "      <td>0</td>\n",
       "      <td>0</td>\n",
       "      <td>0</td>\n",
       "      <td>0</td>\n",
       "      <td>0</td>\n",
       "      <td>0</td>\n",
       "      <td>0</td>\n",
       "      <td>0</td>\n",
       "      <td>0</td>\n",
       "      <td>0</td>\n",
       "      <td>0</td>\n",
       "      <td>0</td>\n",
       "      <td>0</td>\n",
       "      <td>0</td>\n",
       "      <td>0</td>\n",
       "      <td>0</td>\n",
       "      <td>0</td>\n",
       "      <td>0</td>\n",
       "      <td>0</td>\n",
       "      <td>0</td>\n",
       "      <td>1</td>\n",
       "      <td>0</td>\n",
       "      <td>1</td>\n",
       "      <td>0</td>\n",
       "      <td>0</td>\n",
       "    </tr>\n",
       "    <tr>\n",
       "      <td>4</td>\n",
       "      <td>3600</td>\n",
       "      <td>2008</td>\n",
       "      <td>69</td>\n",
       "      <td>90000</td>\n",
       "      <td>0</td>\n",
       "      <td>0</td>\n",
       "      <td>0</td>\n",
       "      <td>0</td>\n",
       "      <td>0</td>\n",
       "      <td>1</td>\n",
       "      <td>0</td>\n",
       "      <td>0</td>\n",
       "      <td>0</td>\n",
       "      <td>0</td>\n",
       "      <td>1</td>\n",
       "      <td>0</td>\n",
       "      <td>0</td>\n",
       "      <td>0</td>\n",
       "      <td>0</td>\n",
       "      <td>0</td>\n",
       "      <td>0</td>\n",
       "      <td>0</td>\n",
       "      <td>0</td>\n",
       "      <td>0</td>\n",
       "      <td>0</td>\n",
       "      <td>0</td>\n",
       "      <td>0</td>\n",
       "      <td>0</td>\n",
       "      <td>0</td>\n",
       "      <td>0</td>\n",
       "      <td>0</td>\n",
       "      <td>0</td>\n",
       "      <td>0</td>\n",
       "      <td>0</td>\n",
       "      <td>0</td>\n",
       "      <td>0</td>\n",
       "      <td>0</td>\n",
       "      <td>0</td>\n",
       "      <td>0</td>\n",
       "      <td>0</td>\n",
       "      <td>0</td>\n",
       "      <td>0</td>\n",
       "      <td>0</td>\n",
       "      <td>0</td>\n",
       "      <td>0</td>\n",
       "      <td>0</td>\n",
       "      <td>0</td>\n",
       "      <td>0</td>\n",
       "      <td>0</td>\n",
       "      <td>0</td>\n",
       "      <td>0</td>\n",
       "      <td>0</td>\n",
       "      <td>0</td>\n",
       "      <td>0</td>\n",
       "      <td>0</td>\n",
       "      <td>0</td>\n",
       "      <td>0</td>\n",
       "      <td>0</td>\n",
       "      <td>0</td>\n",
       "      <td>0</td>\n",
       "      <td>0</td>\n",
       "      <td>0</td>\n",
       "      <td>0</td>\n",
       "      <td>0</td>\n",
       "      <td>0</td>\n",
       "      <td>0</td>\n",
       "      <td>0</td>\n",
       "      <td>0</td>\n",
       "      <td>0</td>\n",
       "      <td>0</td>\n",
       "      <td>0</td>\n",
       "      <td>0</td>\n",
       "      <td>0</td>\n",
       "      <td>0</td>\n",
       "      <td>0</td>\n",
       "      <td>0</td>\n",
       "      <td>0</td>\n",
       "      <td>0</td>\n",
       "      <td>0</td>\n",
       "      <td>0</td>\n",
       "      <td>0</td>\n",
       "      <td>0</td>\n",
       "      <td>0</td>\n",
       "      <td>0</td>\n",
       "      <td>0</td>\n",
       "      <td>0</td>\n",
       "      <td>0</td>\n",
       "      <td>0</td>\n",
       "      <td>0</td>\n",
       "      <td>0</td>\n",
       "      <td>0</td>\n",
       "      <td>0</td>\n",
       "      <td>0</td>\n",
       "      <td>0</td>\n",
       "      <td>0</td>\n",
       "      <td>0</td>\n",
       "      <td>0</td>\n",
       "      <td>0</td>\n",
       "      <td>0</td>\n",
       "      <td>0</td>\n",
       "      <td>0</td>\n",
       "      <td>0</td>\n",
       "      <td>0</td>\n",
       "      <td>0</td>\n",
       "      <td>0</td>\n",
       "      <td>0</td>\n",
       "      <td>0</td>\n",
       "      <td>0</td>\n",
       "      <td>0</td>\n",
       "      <td>0</td>\n",
       "      <td>0</td>\n",
       "      <td>0</td>\n",
       "      <td>0</td>\n",
       "      <td>0</td>\n",
       "      <td>0</td>\n",
       "      <td>0</td>\n",
       "      <td>0</td>\n",
       "      <td>1</td>\n",
       "      <td>0</td>\n",
       "      <td>0</td>\n",
       "      <td>0</td>\n",
       "      <td>0</td>\n",
       "      <td>0</td>\n",
       "      <td>0</td>\n",
       "      <td>0</td>\n",
       "      <td>0</td>\n",
       "      <td>0</td>\n",
       "      <td>0</td>\n",
       "      <td>0</td>\n",
       "      <td>0</td>\n",
       "      <td>0</td>\n",
       "      <td>0</td>\n",
       "      <td>0</td>\n",
       "      <td>0</td>\n",
       "      <td>0</td>\n",
       "      <td>0</td>\n",
       "      <td>0</td>\n",
       "      <td>0</td>\n",
       "      <td>0</td>\n",
       "      <td>0</td>\n",
       "      <td>0</td>\n",
       "      <td>0</td>\n",
       "      <td>0</td>\n",
       "      <td>0</td>\n",
       "      <td>0</td>\n",
       "      <td>0</td>\n",
       "      <td>0</td>\n",
       "      <td>0</td>\n",
       "      <td>0</td>\n",
       "      <td>0</td>\n",
       "      <td>0</td>\n",
       "      <td>0</td>\n",
       "      <td>0</td>\n",
       "      <td>0</td>\n",
       "      <td>0</td>\n",
       "      <td>0</td>\n",
       "      <td>0</td>\n",
       "      <td>0</td>\n",
       "      <td>0</td>\n",
       "      <td>0</td>\n",
       "      <td>0</td>\n",
       "      <td>0</td>\n",
       "      <td>0</td>\n",
       "      <td>0</td>\n",
       "      <td>0</td>\n",
       "      <td>0</td>\n",
       "      <td>0</td>\n",
       "      <td>0</td>\n",
       "      <td>0</td>\n",
       "      <td>0</td>\n",
       "      <td>0</td>\n",
       "      <td>0</td>\n",
       "      <td>0</td>\n",
       "      <td>0</td>\n",
       "      <td>0</td>\n",
       "      <td>0</td>\n",
       "      <td>0</td>\n",
       "      <td>0</td>\n",
       "      <td>0</td>\n",
       "      <td>0</td>\n",
       "      <td>0</td>\n",
       "      <td>0</td>\n",
       "      <td>0</td>\n",
       "      <td>0</td>\n",
       "      <td>0</td>\n",
       "      <td>0</td>\n",
       "      <td>0</td>\n",
       "      <td>0</td>\n",
       "      <td>0</td>\n",
       "      <td>0</td>\n",
       "      <td>0</td>\n",
       "      <td>0</td>\n",
       "      <td>0</td>\n",
       "      <td>0</td>\n",
       "      <td>0</td>\n",
       "      <td>0</td>\n",
       "      <td>0</td>\n",
       "      <td>0</td>\n",
       "      <td>0</td>\n",
       "      <td>0</td>\n",
       "      <td>0</td>\n",
       "      <td>0</td>\n",
       "      <td>0</td>\n",
       "      <td>0</td>\n",
       "      <td>0</td>\n",
       "      <td>0</td>\n",
       "      <td>0</td>\n",
       "      <td>0</td>\n",
       "      <td>0</td>\n",
       "      <td>0</td>\n",
       "      <td>0</td>\n",
       "      <td>0</td>\n",
       "      <td>0</td>\n",
       "      <td>0</td>\n",
       "      <td>0</td>\n",
       "      <td>0</td>\n",
       "      <td>0</td>\n",
       "      <td>0</td>\n",
       "      <td>0</td>\n",
       "      <td>0</td>\n",
       "      <td>0</td>\n",
       "      <td>0</td>\n",
       "      <td>0</td>\n",
       "      <td>0</td>\n",
       "      <td>0</td>\n",
       "      <td>0</td>\n",
       "      <td>0</td>\n",
       "      <td>0</td>\n",
       "      <td>0</td>\n",
       "      <td>0</td>\n",
       "      <td>0</td>\n",
       "      <td>0</td>\n",
       "      <td>0</td>\n",
       "      <td>0</td>\n",
       "      <td>0</td>\n",
       "      <td>0</td>\n",
       "      <td>0</td>\n",
       "      <td>0</td>\n",
       "      <td>0</td>\n",
       "      <td>0</td>\n",
       "      <td>0</td>\n",
       "      <td>0</td>\n",
       "      <td>0</td>\n",
       "      <td>0</td>\n",
       "      <td>0</td>\n",
       "      <td>0</td>\n",
       "      <td>0</td>\n",
       "      <td>0</td>\n",
       "      <td>0</td>\n",
       "      <td>0</td>\n",
       "      <td>0</td>\n",
       "      <td>0</td>\n",
       "      <td>0</td>\n",
       "      <td>0</td>\n",
       "      <td>0</td>\n",
       "      <td>0</td>\n",
       "      <td>0</td>\n",
       "      <td>0</td>\n",
       "      <td>0</td>\n",
       "      <td>0</td>\n",
       "      <td>0</td>\n",
       "      <td>0</td>\n",
       "      <td>0</td>\n",
       "      <td>0</td>\n",
       "      <td>0</td>\n",
       "      <td>0</td>\n",
       "      <td>0</td>\n",
       "      <td>0</td>\n",
       "      <td>1</td>\n",
       "      <td>0</td>\n",
       "      <td>0</td>\n",
       "      <td>0</td>\n",
       "      <td>0</td>\n",
       "      <td>0</td>\n",
       "      <td>0</td>\n",
       "      <td>0</td>\n",
       "      <td>0</td>\n",
       "      <td>0</td>\n",
       "      <td>0</td>\n",
       "      <td>0</td>\n",
       "      <td>0</td>\n",
       "      <td>0</td>\n",
       "      <td>0</td>\n",
       "      <td>0</td>\n",
       "      <td>0</td>\n",
       "      <td>0</td>\n",
       "      <td>0</td>\n",
       "      <td>0</td>\n",
       "      <td>0</td>\n",
       "      <td>0</td>\n",
       "      <td>0</td>\n",
       "      <td>0</td>\n",
       "      <td>0</td>\n",
       "      <td>0</td>\n",
       "      <td>0</td>\n",
       "      <td>0</td>\n",
       "      <td>0</td>\n",
       "      <td>0</td>\n",
       "      <td>0</td>\n",
       "      <td>0</td>\n",
       "      <td>0</td>\n",
       "      <td>0</td>\n",
       "      <td>0</td>\n",
       "      <td>0</td>\n",
       "      <td>0</td>\n",
       "      <td>1</td>\n",
       "      <td>0</td>\n",
       "      <td>0</td>\n",
       "      <td>0</td>\n",
       "      <td>0</td>\n",
       "      <td>0</td>\n",
       "      <td>0</td>\n",
       "      <td>0</td>\n",
       "      <td>0</td>\n",
       "      <td>1</td>\n",
       "      <td>0</td>\n",
       "      <td>0</td>\n",
       "    </tr>\n",
       "    <tr>\n",
       "      <td>5</td>\n",
       "      <td>650</td>\n",
       "      <td>1995</td>\n",
       "      <td>102</td>\n",
       "      <td>150000</td>\n",
       "      <td>0</td>\n",
       "      <td>0</td>\n",
       "      <td>0</td>\n",
       "      <td>0</td>\n",
       "      <td>1</td>\n",
       "      <td>0</td>\n",
       "      <td>0</td>\n",
       "      <td>0</td>\n",
       "      <td>0</td>\n",
       "      <td>0</td>\n",
       "      <td>1</td>\n",
       "      <td>0</td>\n",
       "      <td>0</td>\n",
       "      <td>0</td>\n",
       "      <td>0</td>\n",
       "      <td>0</td>\n",
       "      <td>0</td>\n",
       "      <td>0</td>\n",
       "      <td>0</td>\n",
       "      <td>0</td>\n",
       "      <td>0</td>\n",
       "      <td>0</td>\n",
       "      <td>0</td>\n",
       "      <td>1</td>\n",
       "      <td>0</td>\n",
       "      <td>0</td>\n",
       "      <td>0</td>\n",
       "      <td>0</td>\n",
       "      <td>0</td>\n",
       "      <td>0</td>\n",
       "      <td>0</td>\n",
       "      <td>0</td>\n",
       "      <td>0</td>\n",
       "      <td>0</td>\n",
       "      <td>0</td>\n",
       "      <td>0</td>\n",
       "      <td>0</td>\n",
       "      <td>0</td>\n",
       "      <td>0</td>\n",
       "      <td>0</td>\n",
       "      <td>0</td>\n",
       "      <td>0</td>\n",
       "      <td>0</td>\n",
       "      <td>0</td>\n",
       "      <td>0</td>\n",
       "      <td>0</td>\n",
       "      <td>0</td>\n",
       "      <td>0</td>\n",
       "      <td>0</td>\n",
       "      <td>0</td>\n",
       "      <td>0</td>\n",
       "      <td>0</td>\n",
       "      <td>0</td>\n",
       "      <td>0</td>\n",
       "      <td>0</td>\n",
       "      <td>0</td>\n",
       "      <td>0</td>\n",
       "      <td>0</td>\n",
       "      <td>0</td>\n",
       "      <td>0</td>\n",
       "      <td>0</td>\n",
       "      <td>0</td>\n",
       "      <td>0</td>\n",
       "      <td>0</td>\n",
       "      <td>0</td>\n",
       "      <td>0</td>\n",
       "      <td>0</td>\n",
       "      <td>0</td>\n",
       "      <td>0</td>\n",
       "      <td>0</td>\n",
       "      <td>0</td>\n",
       "      <td>0</td>\n",
       "      <td>0</td>\n",
       "      <td>0</td>\n",
       "      <td>0</td>\n",
       "      <td>0</td>\n",
       "      <td>0</td>\n",
       "      <td>0</td>\n",
       "      <td>0</td>\n",
       "      <td>0</td>\n",
       "      <td>0</td>\n",
       "      <td>0</td>\n",
       "      <td>0</td>\n",
       "      <td>0</td>\n",
       "      <td>0</td>\n",
       "      <td>0</td>\n",
       "      <td>0</td>\n",
       "      <td>0</td>\n",
       "      <td>0</td>\n",
       "      <td>0</td>\n",
       "      <td>0</td>\n",
       "      <td>0</td>\n",
       "      <td>0</td>\n",
       "      <td>0</td>\n",
       "      <td>0</td>\n",
       "      <td>0</td>\n",
       "      <td>0</td>\n",
       "      <td>0</td>\n",
       "      <td>0</td>\n",
       "      <td>0</td>\n",
       "      <td>0</td>\n",
       "      <td>0</td>\n",
       "      <td>0</td>\n",
       "      <td>0</td>\n",
       "      <td>0</td>\n",
       "      <td>0</td>\n",
       "      <td>0</td>\n",
       "      <td>0</td>\n",
       "      <td>0</td>\n",
       "      <td>0</td>\n",
       "      <td>0</td>\n",
       "      <td>0</td>\n",
       "      <td>0</td>\n",
       "      <td>0</td>\n",
       "      <td>0</td>\n",
       "      <td>0</td>\n",
       "      <td>0</td>\n",
       "      <td>0</td>\n",
       "      <td>0</td>\n",
       "      <td>0</td>\n",
       "      <td>0</td>\n",
       "      <td>0</td>\n",
       "      <td>0</td>\n",
       "      <td>0</td>\n",
       "      <td>0</td>\n",
       "      <td>0</td>\n",
       "      <td>0</td>\n",
       "      <td>0</td>\n",
       "      <td>0</td>\n",
       "      <td>0</td>\n",
       "      <td>0</td>\n",
       "      <td>0</td>\n",
       "      <td>0</td>\n",
       "      <td>0</td>\n",
       "      <td>0</td>\n",
       "      <td>0</td>\n",
       "      <td>0</td>\n",
       "      <td>0</td>\n",
       "      <td>0</td>\n",
       "      <td>0</td>\n",
       "      <td>0</td>\n",
       "      <td>0</td>\n",
       "      <td>0</td>\n",
       "      <td>0</td>\n",
       "      <td>0</td>\n",
       "      <td>0</td>\n",
       "      <td>0</td>\n",
       "      <td>0</td>\n",
       "      <td>0</td>\n",
       "      <td>0</td>\n",
       "      <td>0</td>\n",
       "      <td>0</td>\n",
       "      <td>0</td>\n",
       "      <td>0</td>\n",
       "      <td>0</td>\n",
       "      <td>0</td>\n",
       "      <td>0</td>\n",
       "      <td>0</td>\n",
       "      <td>0</td>\n",
       "      <td>0</td>\n",
       "      <td>0</td>\n",
       "      <td>0</td>\n",
       "      <td>0</td>\n",
       "      <td>0</td>\n",
       "      <td>0</td>\n",
       "      <td>0</td>\n",
       "      <td>0</td>\n",
       "      <td>0</td>\n",
       "      <td>0</td>\n",
       "      <td>0</td>\n",
       "      <td>0</td>\n",
       "      <td>0</td>\n",
       "      <td>0</td>\n",
       "      <td>0</td>\n",
       "      <td>0</td>\n",
       "      <td>0</td>\n",
       "      <td>0</td>\n",
       "      <td>0</td>\n",
       "      <td>0</td>\n",
       "      <td>0</td>\n",
       "      <td>0</td>\n",
       "      <td>0</td>\n",
       "      <td>0</td>\n",
       "      <td>0</td>\n",
       "      <td>0</td>\n",
       "      <td>0</td>\n",
       "      <td>0</td>\n",
       "      <td>0</td>\n",
       "      <td>0</td>\n",
       "      <td>0</td>\n",
       "      <td>0</td>\n",
       "      <td>0</td>\n",
       "      <td>0</td>\n",
       "      <td>0</td>\n",
       "      <td>0</td>\n",
       "      <td>0</td>\n",
       "      <td>0</td>\n",
       "      <td>0</td>\n",
       "      <td>0</td>\n",
       "      <td>0</td>\n",
       "      <td>0</td>\n",
       "      <td>0</td>\n",
       "      <td>0</td>\n",
       "      <td>0</td>\n",
       "      <td>0</td>\n",
       "      <td>0</td>\n",
       "      <td>0</td>\n",
       "      <td>0</td>\n",
       "      <td>0</td>\n",
       "      <td>0</td>\n",
       "      <td>0</td>\n",
       "      <td>0</td>\n",
       "      <td>0</td>\n",
       "      <td>0</td>\n",
       "      <td>0</td>\n",
       "      <td>0</td>\n",
       "      <td>0</td>\n",
       "      <td>0</td>\n",
       "      <td>0</td>\n",
       "      <td>0</td>\n",
       "      <td>0</td>\n",
       "      <td>0</td>\n",
       "      <td>0</td>\n",
       "      <td>0</td>\n",
       "      <td>0</td>\n",
       "      <td>0</td>\n",
       "      <td>0</td>\n",
       "      <td>0</td>\n",
       "      <td>0</td>\n",
       "      <td>0</td>\n",
       "      <td>0</td>\n",
       "      <td>0</td>\n",
       "      <td>0</td>\n",
       "      <td>0</td>\n",
       "      <td>0</td>\n",
       "      <td>0</td>\n",
       "      <td>0</td>\n",
       "      <td>0</td>\n",
       "      <td>0</td>\n",
       "      <td>0</td>\n",
       "      <td>0</td>\n",
       "      <td>0</td>\n",
       "      <td>0</td>\n",
       "      <td>0</td>\n",
       "      <td>0</td>\n",
       "      <td>0</td>\n",
       "      <td>0</td>\n",
       "      <td>0</td>\n",
       "      <td>0</td>\n",
       "      <td>0</td>\n",
       "      <td>0</td>\n",
       "      <td>0</td>\n",
       "      <td>0</td>\n",
       "      <td>0</td>\n",
       "      <td>0</td>\n",
       "      <td>0</td>\n",
       "      <td>0</td>\n",
       "      <td>0</td>\n",
       "      <td>0</td>\n",
       "      <td>0</td>\n",
       "      <td>0</td>\n",
       "      <td>0</td>\n",
       "      <td>0</td>\n",
       "      <td>0</td>\n",
       "      <td>0</td>\n",
       "      <td>0</td>\n",
       "      <td>0</td>\n",
       "      <td>0</td>\n",
       "      <td>1</td>\n",
       "      <td>0</td>\n",
       "      <td>0</td>\n",
       "      <td>0</td>\n",
       "      <td>1</td>\n",
       "      <td>0</td>\n",
       "      <td>0</td>\n",
       "      <td>0</td>\n",
       "      <td>0</td>\n",
       "      <td>0</td>\n",
       "      <td>0</td>\n",
       "      <td>0</td>\n",
       "      <td>0</td>\n",
       "      <td>0</td>\n",
       "      <td>0</td>\n",
       "      <td>0</td>\n",
       "      <td>0</td>\n",
       "      <td>0</td>\n",
       "      <td>0</td>\n",
       "      <td>0</td>\n",
       "      <td>0</td>\n",
       "      <td>0</td>\n",
       "      <td>0</td>\n",
       "      <td>0</td>\n",
       "      <td>0</td>\n",
       "      <td>0</td>\n",
       "      <td>0</td>\n",
       "      <td>0</td>\n",
       "      <td>0</td>\n",
       "      <td>0</td>\n",
       "      <td>0</td>\n",
       "      <td>0</td>\n",
       "      <td>0</td>\n",
       "      <td>0</td>\n",
       "      <td>0</td>\n",
       "      <td>0</td>\n",
       "      <td>0</td>\n",
       "      <td>0</td>\n",
       "      <td>0</td>\n",
       "      <td>0</td>\n",
       "      <td>0</td>\n",
       "      <td>0</td>\n",
       "      <td>0</td>\n",
       "      <td>0</td>\n",
       "      <td>1</td>\n",
       "    </tr>\n",
       "  </tbody>\n",
       "</table>\n",
       "</div>"
      ],
      "text/plain": [
       "   Price  RegistrationYear  Power  Kilometer  VehicleType_bus  \\\n",
       "1  18300              2011    190     125000                0   \n",
       "2   9800              2004    163     125000                0   \n",
       "3   1500              2001     75     150000                0   \n",
       "4   3600              2008     69      90000                0   \n",
       "5    650              1995    102     150000                0   \n",
       "\n",
       "   VehicleType_convertible  VehicleType_coupe  VehicleType_other  \\\n",
       "1                        0                  1                  0   \n",
       "2                        0                  0                  0   \n",
       "3                        0                  0                  0   \n",
       "4                        0                  0                  0   \n",
       "5                        0                  0                  0   \n",
       "\n",
       "   VehicleType_sedan  VehicleType_small  VehicleType_suv  VehicleType_unknown  \\\n",
       "1                  0                  0                0                    0   \n",
       "2                  0                  0                1                    0   \n",
       "3                  0                  1                0                    0   \n",
       "4                  0                  1                0                    0   \n",
       "5                  1                  0                0                    0   \n",
       "\n",
       "   VehicleType_wagon  Gearbox_auto  Gearbox_manual  Gearbox_unknown  \\\n",
       "1                  0             0               1                0   \n",
       "2                  0             1               0                0   \n",
       "3                  0             0               1                0   \n",
       "4                  0             0               1                0   \n",
       "5                  0             0               1                0   \n",
       "\n",
       "   Model_100  Model_145  Model_147  Model_156  Model_159  Model_1_reihe  \\\n",
       "1          0          0          0          0          0              0   \n",
       "2          0          0          0          0          0              0   \n",
       "3          0          0          0          0          0              0   \n",
       "4          0          0          0          0          0              0   \n",
       "5          0          0          0          0          0              0   \n",
       "\n",
       "   Model_1er  Model_200  Model_2_reihe  Model_300c  Model_3_reihe  Model_3er  \\\n",
       "1          0          0              0           0              0          0   \n",
       "2          0          0              0           0              0          0   \n",
       "3          0          0              0           0              0          0   \n",
       "4          0          0              0           0              0          0   \n",
       "5          0          0              0           0              0          1   \n",
       "\n",
       "   Model_4_reihe  Model_500  Model_5_reihe  Model_5er  Model_601  \\\n",
       "1              0          0              0          0          0   \n",
       "2              0          0              0          0          0   \n",
       "3              0          0              0          0          0   \n",
       "4              0          0              0          0          0   \n",
       "5              0          0              0          0          0   \n",
       "\n",
       "   Model_6_reihe  Model_6er  Model_7er  Model_80  Model_850  Model_90  \\\n",
       "1              0          0          0         0          0         0   \n",
       "2              0          0          0         0          0         0   \n",
       "3              0          0          0         0          0         0   \n",
       "4              0          0          0         0          0         0   \n",
       "5              0          0          0         0          0         0   \n",
       "\n",
       "   Model_900  Model_9000  Model_911  Model_a1  Model_a2  Model_a3  Model_a4  \\\n",
       "1          0           0          0         0         0         0         0   \n",
       "2          0           0          0         0         0         0         0   \n",
       "3          0           0          0         0         0         0         0   \n",
       "4          0           0          0         0         0         0         0   \n",
       "5          0           0          0         0         0         0         0   \n",
       "\n",
       "   Model_a5  Model_a6  Model_a8  Model_a_klasse  Model_accord  Model_agila  \\\n",
       "1         0         0         0               0             0            0   \n",
       "2         0         0         0               0             0            0   \n",
       "3         0         0         0               0             0            0   \n",
       "4         0         0         0               0             0            0   \n",
       "5         0         0         0               0             0            0   \n",
       "\n",
       "   Model_alhambra  Model_almera  Model_altea  Model_amarok  Model_antara  \\\n",
       "1               0             0            0             0             0   \n",
       "2               0             0            0             0             0   \n",
       "3               0             0            0             0             0   \n",
       "4               0             0            0             0             0   \n",
       "5               0             0            0             0             0   \n",
       "\n",
       "   Model_arosa  Model_astra  Model_auris  Model_avensis  Model_aveo  \\\n",
       "1            0            0            0              0           0   \n",
       "2            0            0            0              0           0   \n",
       "3            0            0            0              0           0   \n",
       "4            0            0            0              0           0   \n",
       "5            0            0            0              0           0   \n",
       "\n",
       "   Model_aygo  Model_b_klasse  Model_b_max  Model_beetle  Model_berlingo  \\\n",
       "1           0               0            0             0               0   \n",
       "2           0               0            0             0               0   \n",
       "3           0               0            0             0               0   \n",
       "4           0               0            0             0               0   \n",
       "5           0               0            0             0               0   \n",
       "\n",
       "   Model_bora  Model_boxster  Model_bravo  Model_c1  Model_c2  Model_c3  \\\n",
       "1           0              0            0         0         0         0   \n",
       "2           0              0            0         0         0         0   \n",
       "3           0              0            0         0         0         0   \n",
       "4           0              0            0         0         0         0   \n",
       "5           0              0            0         0         0         0   \n",
       "\n",
       "   Model_c4  Model_c5  Model_c_klasse  Model_c_max  Model_c_reihe  \\\n",
       "1         0         0               0            0              0   \n",
       "2         0         0               0            0              0   \n",
       "3         0         0               0            0              0   \n",
       "4         0         0               0            0              0   \n",
       "5         0         0               0            0              0   \n",
       "\n",
       "   Model_caddy  Model_calibra  Model_captiva  Model_carisma  Model_carnival  \\\n",
       "1            0              0              0              0               0   \n",
       "2            0              0              0              0               0   \n",
       "3            0              0              0              0               0   \n",
       "4            0              0              0              0               0   \n",
       "5            0              0              0              0               0   \n",
       "\n",
       "   Model_cayenne  Model_cc  Model_ceed  Model_charade  Model_cherokee  \\\n",
       "1              0         0           0              0               0   \n",
       "2              0         0           0              0               0   \n",
       "3              0         0           0              0               0   \n",
       "4              0         0           0              0               0   \n",
       "5              0         0           0              0               0   \n",
       "\n",
       "   Model_citigo  Model_civic  Model_cl  Model_clio  Model_clk  Model_clubman  \\\n",
       "1             0            0         0           0          0              0   \n",
       "2             0            0         0           0          0              0   \n",
       "3             0            0         0           0          0              0   \n",
       "4             0            0         0           0          0              0   \n",
       "5             0            0         0           0          0              0   \n",
       "\n",
       "   Model_colt  Model_combo  Model_cooper  Model_cordoba  Model_corolla  \\\n",
       "1           0            0             0              0              0   \n",
       "2           0            0             0              0              0   \n",
       "3           0            0             0              0              0   \n",
       "4           0            0             0              0              0   \n",
       "5           0            0             0              0              0   \n",
       "\n",
       "   Model_corsa  Model_cr_reihe  Model_croma  Model_crossfire  Model_cuore  \\\n",
       "1            0               0            0                0            0   \n",
       "2            0               0            0                0            0   \n",
       "3            0               0            0                0            0   \n",
       "4            0               0            0                0            0   \n",
       "5            0               0            0                0            0   \n",
       "\n",
       "   Model_cx_reihe  Model_defender  Model_delta  Model_discovery  Model_doblo  \\\n",
       "1               0               0            0                0            0   \n",
       "2               0               0            0                0            0   \n",
       "3               0               0            0                0            0   \n",
       "4               0               0            0                0            0   \n",
       "5               0               0            0                0            0   \n",
       "\n",
       "   Model_ducato  Model_duster  Model_e_klasse  Model_elefantino  Model_eos  \\\n",
       "1             0             0               0                 0          0   \n",
       "2             0             0               0                 0          0   \n",
       "3             0             0               0                 0          0   \n",
       "4             0             0               0                 0          0   \n",
       "5             0             0               0                 0          0   \n",
       "\n",
       "   Model_escort  Model_espace  Model_exeo  Model_fabia  Model_fiesta  \\\n",
       "1             0             0           0            0             0   \n",
       "2             0             0           0            0             0   \n",
       "3             0             0           0            0             0   \n",
       "4             0             0           0            1             0   \n",
       "5             0             0           0            0             0   \n",
       "\n",
       "   Model_focus  Model_forester  Model_forfour  Model_fortwo  Model_fox  \\\n",
       "1            0               0              0             0          0   \n",
       "2            0               0              0             0          0   \n",
       "3            0               0              0             0          0   \n",
       "4            0               0              0             0          0   \n",
       "5            0               0              0             0          0   \n",
       "\n",
       "   Model_freelander  Model_fusion  Model_g_klasse  Model_galant  Model_galaxy  \\\n",
       "1                 0             0               0             0             0   \n",
       "2                 0             0               0             0             0   \n",
       "3                 0             0               0             0             0   \n",
       "4                 0             0               0             0             0   \n",
       "5                 0             0               0             0             0   \n",
       "\n",
       "   Model_getz  Model_gl  Model_glk  Model_golf  Model_grand  Model_i3  \\\n",
       "1           0         0          0           0            0         0   \n",
       "2           0         0          0           0            1         0   \n",
       "3           0         0          0           1            0         0   \n",
       "4           0         0          0           0            0         0   \n",
       "5           0         0          0           0            0         0   \n",
       "\n",
       "   Model_i_reihe  Model_ibiza  Model_impreza  Model_insignia  Model_jazz  \\\n",
       "1              0            0              0               0           0   \n",
       "2              0            0              0               0           0   \n",
       "3              0            0              0               0           0   \n",
       "4              0            0              0               0           0   \n",
       "5              0            0              0               0           0   \n",
       "\n",
       "   Model_jetta  Model_jimny  Model_juke  Model_justy  Model_ka  Model_kadett  \\\n",
       "1            0            0           0            0         0             0   \n",
       "2            0            0           0            0         0             0   \n",
       "3            0            0           0            0         0             0   \n",
       "4            0            0           0            0         0             0   \n",
       "5            0            0           0            0         0             0   \n",
       "\n",
       "   Model_kaefer  Model_kalina  Model_kalos  Model_kangoo  Model_kappa  \\\n",
       "1             0             0            0             0            0   \n",
       "2             0             0            0             0            0   \n",
       "3             0             0            0             0            0   \n",
       "4             0             0            0             0            0   \n",
       "5             0             0            0             0            0   \n",
       "\n",
       "   Model_kuga  Model_laguna  Model_lancer  Model_lanos  Model_legacy  \\\n",
       "1           0             0             0            0             0   \n",
       "2           0             0             0            0             0   \n",
       "3           0             0             0            0             0   \n",
       "4           0             0             0            0             0   \n",
       "5           0             0             0            0             0   \n",
       "\n",
       "   Model_leon  Model_lodgy  Model_logan  Model_lupo  Model_lybra  \\\n",
       "1           0            0            0           0            0   \n",
       "2           0            0            0           0            0   \n",
       "3           0            0            0           0            0   \n",
       "4           0            0            0           0            0   \n",
       "5           0            0            0           0            0   \n",
       "\n",
       "   Model_m_klasse  Model_m_reihe  Model_materia  Model_matiz  Model_megane  \\\n",
       "1               0              0              0            0             0   \n",
       "2               0              0              0            0             0   \n",
       "3               0              0              0            0             0   \n",
       "4               0              0              0            0             0   \n",
       "5               0              0              0            0             0   \n",
       "\n",
       "   Model_meriva  Model_micra  Model_mii  Model_modus  Model_mondeo  \\\n",
       "1             0            0          0            0             0   \n",
       "2             0            0          0            0             0   \n",
       "3             0            0          0            0             0   \n",
       "4             0            0          0            0             0   \n",
       "5             0            0          0            0             0   \n",
       "\n",
       "   Model_move  Model_musa  Model_mustang  Model_mx_reihe  Model_navara  \\\n",
       "1           0           0              0               0             0   \n",
       "2           0           0              0               0             0   \n",
       "3           0           0              0               0             0   \n",
       "4           0           0              0               0             0   \n",
       "5           0           0              0               0             0   \n",
       "\n",
       "   Model_niva  Model_note  Model_nubira  Model_octavia  Model_omega  \\\n",
       "1           0           0             0              0            0   \n",
       "2           0           0             0              0            0   \n",
       "3           0           0             0              0            0   \n",
       "4           0           0             0              0            0   \n",
       "5           0           0             0              0            0   \n",
       "\n",
       "   Model_one  Model_other  Model_outlander  Model_pajero  Model_panda  \\\n",
       "1          0            0                0             0            0   \n",
       "2          0            0                0             0            0   \n",
       "3          0            0                0             0            0   \n",
       "4          0            0                0             0            0   \n",
       "5          0            0                0             0            0   \n",
       "\n",
       "   Model_passat  Model_phaeton  Model_picanto  Model_polo  Model_primera  \\\n",
       "1             0              0              0           0              0   \n",
       "2             0              0              0           0              0   \n",
       "3             0              0              0           0              0   \n",
       "4             0              0              0           0              0   \n",
       "5             0              0              0           0              0   \n",
       "\n",
       "   Model_ptcruiser  Model_punto  Model_q3  Model_q5  Model_q7  Model_qashqai  \\\n",
       "1                0            0         0         0         0              0   \n",
       "2                0            0         0         0         0              0   \n",
       "3                0            0         0         0         0              0   \n",
       "4                0            0         0         0         0              0   \n",
       "5                0            0         0         0         0              0   \n",
       "\n",
       "   Model_r19  Model_range_rover  Model_range_rover_evoque  \\\n",
       "1          0                  0                         0   \n",
       "2          0                  0                         0   \n",
       "3          0                  0                         0   \n",
       "4          0                  0                         0   \n",
       "5          0                  0                         0   \n",
       "\n",
       "   Model_range_rover_sport  Model_rangerover  Model_rav  Model_rio  \\\n",
       "1                        0                 0          0          0   \n",
       "2                        0                 0          0          0   \n",
       "3                        0                 0          0          0   \n",
       "4                        0                 0          0          0   \n",
       "5                        0                 0          0          0   \n",
       "\n",
       "   Model_roadster  Model_roomster  Model_rx_reihe  Model_s60  Model_s_klasse  \\\n",
       "1               0               0               0          0               0   \n",
       "2               0               0               0          0               0   \n",
       "3               0               0               0          0               0   \n",
       "4               0               0               0          0               0   \n",
       "5               0               0               0          0               0   \n",
       "\n",
       "   Model_s_max  Model_s_type  Model_samara  Model_sandero  Model_santa  \\\n",
       "1            0             0             0              0            0   \n",
       "2            0             0             0              0            0   \n",
       "3            0             0             0              0            0   \n",
       "4            0             0             0              0            0   \n",
       "5            0             0             0              0            0   \n",
       "\n",
       "   Model_scenic  Model_scirocco  Model_seicento  Model_serie_2  Model_serie_3  \\\n",
       "1             0               0               0              0              0   \n",
       "2             0               0               0              0              0   \n",
       "3             0               0               0              0              0   \n",
       "4             0               0               0              0              0   \n",
       "5             0               0               0              0              0   \n",
       "\n",
       "   Model_sharan  Model_signum  Model_sirion  Model_sl  Model_slk  \\\n",
       "1             0             0             0         0          0   \n",
       "2             0             0             0         0          0   \n",
       "3             0             0             0         0          0   \n",
       "4             0             0             0         0          0   \n",
       "5             0             0             0         0          0   \n",
       "\n",
       "   Model_sorento  Model_spark  Model_spider  Model_sportage  Model_sprinter  \\\n",
       "1              0            0             0               0               0   \n",
       "2              0            0             0               0               0   \n",
       "3              0            0             0               0               0   \n",
       "4              0            0             0               0               0   \n",
       "5              0            0             0               0               0   \n",
       "\n",
       "   Model_stilo  Model_superb  Model_swift  Model_terios  Model_tigra  \\\n",
       "1            0             0            0             0            0   \n",
       "2            0             0            0             0            0   \n",
       "3            0             0            0             0            0   \n",
       "4            0             0            0             0            0   \n",
       "5            0             0            0             0            0   \n",
       "\n",
       "   Model_tiguan  Model_toledo  Model_touareg  Model_touran  Model_transit  \\\n",
       "1             0             0              0             0              0   \n",
       "2             0             0              0             0              0   \n",
       "3             0             0              0             0              0   \n",
       "4             0             0              0             0              0   \n",
       "5             0             0              0             0              0   \n",
       "\n",
       "   Model_transporter  Model_tt  Model_tucson  Model_twingo  Model_unknown  \\\n",
       "1                  0         0             0             0              1   \n",
       "2                  0         0             0             0              0   \n",
       "3                  0         0             0             0              0   \n",
       "4                  0         0             0             0              0   \n",
       "5                  0         0             0             0              0   \n",
       "\n",
       "   Model_up  Model_v40  Model_v50  Model_v60  Model_v70  Model_v_klasse  \\\n",
       "1         0          0          0          0          0               0   \n",
       "2         0          0          0          0          0               0   \n",
       "3         0          0          0          0          0               0   \n",
       "4         0          0          0          0          0               0   \n",
       "5         0          0          0          0          0               0   \n",
       "\n",
       "   Model_vectra  Model_verso  Model_viano  Model_vito  Model_vivaro  \\\n",
       "1             0            0            0           0             0   \n",
       "2             0            0            0           0             0   \n",
       "3             0            0            0           0             0   \n",
       "4             0            0            0           0             0   \n",
       "5             0            0            0           0             0   \n",
       "\n",
       "   Model_voyager  Model_wrangler  Model_x_reihe  Model_x_trail  Model_x_type  \\\n",
       "1              0               0              0              0             0   \n",
       "2              0               0              0              0             0   \n",
       "3              0               0              0              0             0   \n",
       "4              0               0              0              0             0   \n",
       "5              0               0              0              0             0   \n",
       "\n",
       "   Model_xc_reihe  Model_yaris  Model_yeti  Model_ypsilon  Model_z_reihe  \\\n",
       "1               0            0           0              0              0   \n",
       "2               0            0           0              0              0   \n",
       "3               0            0           0              0              0   \n",
       "4               0            0           0              0              0   \n",
       "5               0            0           0              0              0   \n",
       "\n",
       "   Model_zafira  FuelType_cng  FuelType_electric  FuelType_gasoline  \\\n",
       "1             0             0                  0                  1   \n",
       "2             0             0                  0                  1   \n",
       "3             0             0                  0                  0   \n",
       "4             0             0                  0                  1   \n",
       "5             0             0                  0                  0   \n",
       "\n",
       "   FuelType_hybrid  FuelType_lpg  FuelType_other  FuelType_petrol  \\\n",
       "1                0             0               0                0   \n",
       "2                0             0               0                0   \n",
       "3                0             0               0                1   \n",
       "4                0             0               0                0   \n",
       "5                0             0               0                1   \n",
       "\n",
       "   FuelType_unknown  Brand_alfa_romeo  Brand_audi  Brand_bmw  Brand_chevrolet  \\\n",
       "1                 0                 0           1          0                0   \n",
       "2                 0                 0           0          0                0   \n",
       "3                 0                 0           0          0                0   \n",
       "4                 0                 0           0          0                0   \n",
       "5                 0                 0           0          1                0   \n",
       "\n",
       "   Brand_chrysler  Brand_citroen  Brand_dacia  Brand_daewoo  Brand_daihatsu  \\\n",
       "1               0              0            0             0               0   \n",
       "2               0              0            0             0               0   \n",
       "3               0              0            0             0               0   \n",
       "4               0              0            0             0               0   \n",
       "5               0              0            0             0               0   \n",
       "\n",
       "   Brand_fiat  Brand_ford  Brand_honda  Brand_hyundai  Brand_jaguar  \\\n",
       "1           0           0            0              0             0   \n",
       "2           0           0            0              0             0   \n",
       "3           0           0            0              0             0   \n",
       "4           0           0            0              0             0   \n",
       "5           0           0            0              0             0   \n",
       "\n",
       "   Brand_jeep  Brand_kia  Brand_lada  Brand_lancia  Brand_land_rover  \\\n",
       "1           0          0           0             0                 0   \n",
       "2           1          0           0             0                 0   \n",
       "3           0          0           0             0                 0   \n",
       "4           0          0           0             0                 0   \n",
       "5           0          0           0             0                 0   \n",
       "\n",
       "   Brand_mazda  Brand_mercedes_benz  Brand_mini  Brand_mitsubishi  \\\n",
       "1            0                    0           0                 0   \n",
       "2            0                    0           0                 0   \n",
       "3            0                    0           0                 0   \n",
       "4            0                    0           0                 0   \n",
       "5            0                    0           0                 0   \n",
       "\n",
       "   Brand_nissan  Brand_opel  Brand_peugeot  Brand_porsche  Brand_renault  \\\n",
       "1             0           0              0              0              0   \n",
       "2             0           0              0              0              0   \n",
       "3             0           0              0              0              0   \n",
       "4             0           0              0              0              0   \n",
       "5             0           0              0              0              0   \n",
       "\n",
       "   Brand_rover  Brand_saab  Brand_seat  Brand_skoda  Brand_smart  \\\n",
       "1            0           0           0            0            0   \n",
       "2            0           0           0            0            0   \n",
       "3            0           0           0            0            0   \n",
       "4            0           0           0            1            0   \n",
       "5            0           0           0            0            0   \n",
       "\n",
       "   Brand_sonstige_autos  Brand_subaru  Brand_suzuki  Brand_toyota  \\\n",
       "1                     0             0             0             0   \n",
       "2                     0             0             0             0   \n",
       "3                     0             0             0             0   \n",
       "4                     0             0             0             0   \n",
       "5                     0             0             0             0   \n",
       "\n",
       "   Brand_trabant  Brand_volkswagen  Brand_volvo  NotRepaired_no  \\\n",
       "1              0                 0            0               0   \n",
       "2              0                 0            0               0   \n",
       "3              0                 1            0               1   \n",
       "4              0                 0            0               1   \n",
       "5              0                 0            0               0   \n",
       "\n",
       "   NotRepaired_unknown  NotRepaired_yes  \n",
       "1                    0                1  \n",
       "2                    1                0  \n",
       "3                    0                0  \n",
       "4                    0                0  \n",
       "5                    0                1  "
      ]
     },
     "execution_count": 25,
     "metadata": {},
     "output_type": "execute_result"
    }
   ],
   "source": [
    "#Преобразуем категориальные признаки\n",
    "data_ohe = pd.get_dummies(data_f)\n",
    "data_ohe.head()"
   ]
  },
  {
   "cell_type": "markdown",
   "metadata": {},
   "source": [
    "Теперь можем удалить колонки VehicleType_unknown, FuelType_unknown, Gearbox_unknown, Model_unknown, NotRepaired_unknown, поскольку фактически они не несут никакой информации"
   ]
  },
  {
   "cell_type": "code",
   "execution_count": 26,
   "metadata": {},
   "outputs": [],
   "source": [
    "#Избавимся от лишних колонок\n",
    "data_ohe.drop(['VehicleType_unknown', 'FuelType_unknown', 'Gearbox_unknown', 'Model_unknown', 'NotRepaired_unknown'], axis = 1, inplace = True)"
   ]
  },
  {
   "cell_type": "markdown",
   "metadata": {},
   "source": [
    "<a id='3.2'></a>\n",
    "### Разбивка на выборки"
   ]
  },
  {
   "cell_type": "code",
   "execution_count": 27,
   "metadata": {},
   "outputs": [],
   "source": [
    "#Выделим целевой признак и остальные для преобразованного датасета\n",
    "target = data_ohe['Price']\n",
    "features = data_ohe.drop('Price', axis=1)"
   ]
  },
  {
   "cell_type": "code",
   "execution_count": 28,
   "metadata": {},
   "outputs": [],
   "source": [
    "#Отделим 60% для тестовой выборки\n",
    "features_train, features_valid, target_train, target_valid = train_test_split(features, target, train_size=0.6, random_state=12345)"
   ]
  },
  {
   "cell_type": "code",
   "execution_count": 29,
   "metadata": {},
   "outputs": [],
   "source": [
    "#Теперь делим пополам вторую часть, чтобы получить по 20% для валидационной и тестовой выборок\n",
    "features_test, features_valid, target_test, target_valid = train_test_split(features_valid, target_valid, test_size=0.5, random_state=12345)"
   ]
  },
  {
   "cell_type": "code",
   "execution_count": 30,
   "metadata": {},
   "outputs": [
    {
     "name": "stdout",
     "output_type": "stream",
     "text": [
      "60% 20% 20%\n"
     ]
    }
   ],
   "source": [
    "#Проверим размеры полученных выборок\n",
    "def test_percent(df1,df2,df3):\n",
    "    p1 = df1.shape[0]/data_ohe.shape[0]\n",
    "    p2 = df2.shape[0]/data_ohe.shape[0]\n",
    "    p3 = df3.shape[0]/data_ohe.shape[0]\n",
    "    print('{:.0%} {:.0%} {:.0%}'.format(p1,p2,p3))\n",
    "test_percent(features_train, features_test, features_valid)"
   ]
  },
  {
   "cell_type": "code",
   "execution_count": 31,
   "metadata": {},
   "outputs": [],
   "source": [
    "#Выделим целевой признак и остальные для исходного датасета\n",
    "target_raw = data['Price']\n",
    "features_raw = data.drop('Price', axis=1)"
   ]
  },
  {
   "cell_type": "code",
   "execution_count": 32,
   "metadata": {},
   "outputs": [],
   "source": [
    "#Отделим 60% для тестовой выборки\n",
    "features_train_raw, features_valid_raw, target_train_raw, target_valid_raw = train_test_split(features_raw, target_raw, train_size=0.6, random_state=12345)"
   ]
  },
  {
   "cell_type": "code",
   "execution_count": 33,
   "metadata": {},
   "outputs": [],
   "source": [
    "#Теперь делим пополам вторую часть, чтобы получить по 20% для валидационной и тестовой выборок\n",
    "features_test_raw, features_valid_raw, target_test_raw, target_valid_raw = train_test_split(features_valid_raw, target_valid_raw, test_size=0.5, random_state=12345)"
   ]
  },
  {
   "cell_type": "code",
   "execution_count": 34,
   "metadata": {},
   "outputs": [
    {
     "name": "stdout",
     "output_type": "stream",
     "text": [
      "60% 20% 20%\n"
     ]
    }
   ],
   "source": [
    "#Проверим размеры полученных выборок\n",
    "def test_percent(df1,df2,df3):\n",
    "    p1 = df1.shape[0]/data.shape[0]\n",
    "    p2 = df2.shape[0]/data.shape[0]\n",
    "    p3 = df3.shape[0]/data.shape[0]\n",
    "    print('{:.0%} {:.0%} {:.0%}'.format(p1,p2,p3))\n",
    "test_percent(features_train_raw, features_test_raw, features_valid_raw)"
   ]
  },
  {
   "cell_type": "markdown",
   "metadata": {},
   "source": [
    "<a id='3.3'></a>\n",
    "### Масштабирование признаков"
   ]
  },
  {
   "cell_type": "markdown",
   "metadata": {},
   "source": [
    "После того, как мы разбили исходный датасет на выборки для обучения модели, стандартизируем числовые признаки и настроим их на обучающих данных."
   ]
  },
  {
   "cell_type": "code",
   "execution_count": 35,
   "metadata": {},
   "outputs": [
    {
     "data": {
      "text/html": [
       "<div>\n",
       "<style scoped>\n",
       "    .dataframe tbody tr th:only-of-type {\n",
       "        vertical-align: middle;\n",
       "    }\n",
       "\n",
       "    .dataframe tbody tr th {\n",
       "        vertical-align: top;\n",
       "    }\n",
       "\n",
       "    .dataframe thead th {\n",
       "        text-align: right;\n",
       "    }\n",
       "</style>\n",
       "<table border=\"1\" class=\"dataframe\">\n",
       "  <thead>\n",
       "    <tr style=\"text-align: right;\">\n",
       "      <th></th>\n",
       "      <th>Price</th>\n",
       "      <th>RegistrationYear</th>\n",
       "      <th>Power</th>\n",
       "      <th>Kilometer</th>\n",
       "      <th>VehicleType_bus</th>\n",
       "      <th>VehicleType_convertible</th>\n",
       "      <th>VehicleType_coupe</th>\n",
       "      <th>VehicleType_other</th>\n",
       "      <th>VehicleType_sedan</th>\n",
       "      <th>VehicleType_small</th>\n",
       "      <th>VehicleType_suv</th>\n",
       "      <th>VehicleType_wagon</th>\n",
       "      <th>Gearbox_auto</th>\n",
       "      <th>Gearbox_manual</th>\n",
       "      <th>Model_100</th>\n",
       "      <th>Model_145</th>\n",
       "      <th>Model_147</th>\n",
       "      <th>Model_156</th>\n",
       "      <th>Model_159</th>\n",
       "      <th>Model_1_reihe</th>\n",
       "      <th>Model_1er</th>\n",
       "      <th>Model_200</th>\n",
       "      <th>Model_2_reihe</th>\n",
       "      <th>Model_300c</th>\n",
       "      <th>Model_3_reihe</th>\n",
       "      <th>Model_3er</th>\n",
       "      <th>Model_4_reihe</th>\n",
       "      <th>Model_500</th>\n",
       "      <th>Model_5_reihe</th>\n",
       "      <th>Model_5er</th>\n",
       "      <th>Model_601</th>\n",
       "      <th>Model_6_reihe</th>\n",
       "      <th>Model_6er</th>\n",
       "      <th>Model_7er</th>\n",
       "      <th>Model_80</th>\n",
       "      <th>Model_850</th>\n",
       "      <th>Model_90</th>\n",
       "      <th>Model_900</th>\n",
       "      <th>Model_9000</th>\n",
       "      <th>Model_911</th>\n",
       "      <th>Model_a1</th>\n",
       "      <th>Model_a2</th>\n",
       "      <th>Model_a3</th>\n",
       "      <th>Model_a4</th>\n",
       "      <th>Model_a5</th>\n",
       "      <th>Model_a6</th>\n",
       "      <th>Model_a8</th>\n",
       "      <th>Model_a_klasse</th>\n",
       "      <th>Model_accord</th>\n",
       "      <th>Model_agila</th>\n",
       "      <th>Model_alhambra</th>\n",
       "      <th>Model_almera</th>\n",
       "      <th>Model_altea</th>\n",
       "      <th>Model_amarok</th>\n",
       "      <th>Model_antara</th>\n",
       "      <th>Model_arosa</th>\n",
       "      <th>Model_astra</th>\n",
       "      <th>Model_auris</th>\n",
       "      <th>Model_avensis</th>\n",
       "      <th>Model_aveo</th>\n",
       "      <th>Model_aygo</th>\n",
       "      <th>Model_b_klasse</th>\n",
       "      <th>Model_b_max</th>\n",
       "      <th>Model_beetle</th>\n",
       "      <th>Model_berlingo</th>\n",
       "      <th>Model_bora</th>\n",
       "      <th>Model_boxster</th>\n",
       "      <th>Model_bravo</th>\n",
       "      <th>Model_c1</th>\n",
       "      <th>Model_c2</th>\n",
       "      <th>Model_c3</th>\n",
       "      <th>Model_c4</th>\n",
       "      <th>Model_c5</th>\n",
       "      <th>Model_c_klasse</th>\n",
       "      <th>Model_c_max</th>\n",
       "      <th>Model_c_reihe</th>\n",
       "      <th>Model_caddy</th>\n",
       "      <th>Model_calibra</th>\n",
       "      <th>Model_captiva</th>\n",
       "      <th>Model_carisma</th>\n",
       "      <th>Model_carnival</th>\n",
       "      <th>Model_cayenne</th>\n",
       "      <th>Model_cc</th>\n",
       "      <th>Model_ceed</th>\n",
       "      <th>Model_charade</th>\n",
       "      <th>Model_cherokee</th>\n",
       "      <th>Model_citigo</th>\n",
       "      <th>Model_civic</th>\n",
       "      <th>Model_cl</th>\n",
       "      <th>Model_clio</th>\n",
       "      <th>Model_clk</th>\n",
       "      <th>Model_clubman</th>\n",
       "      <th>Model_colt</th>\n",
       "      <th>Model_combo</th>\n",
       "      <th>Model_cooper</th>\n",
       "      <th>Model_cordoba</th>\n",
       "      <th>Model_corolla</th>\n",
       "      <th>Model_corsa</th>\n",
       "      <th>Model_cr_reihe</th>\n",
       "      <th>Model_croma</th>\n",
       "      <th>Model_crossfire</th>\n",
       "      <th>Model_cuore</th>\n",
       "      <th>Model_cx_reihe</th>\n",
       "      <th>Model_defender</th>\n",
       "      <th>Model_delta</th>\n",
       "      <th>Model_discovery</th>\n",
       "      <th>Model_doblo</th>\n",
       "      <th>Model_ducato</th>\n",
       "      <th>Model_duster</th>\n",
       "      <th>Model_e_klasse</th>\n",
       "      <th>Model_elefantino</th>\n",
       "      <th>Model_eos</th>\n",
       "      <th>Model_escort</th>\n",
       "      <th>Model_espace</th>\n",
       "      <th>Model_exeo</th>\n",
       "      <th>Model_fabia</th>\n",
       "      <th>Model_fiesta</th>\n",
       "      <th>Model_focus</th>\n",
       "      <th>Model_forester</th>\n",
       "      <th>Model_forfour</th>\n",
       "      <th>Model_fortwo</th>\n",
       "      <th>Model_fox</th>\n",
       "      <th>Model_freelander</th>\n",
       "      <th>Model_fusion</th>\n",
       "      <th>Model_g_klasse</th>\n",
       "      <th>Model_galant</th>\n",
       "      <th>Model_galaxy</th>\n",
       "      <th>Model_getz</th>\n",
       "      <th>Model_gl</th>\n",
       "      <th>Model_glk</th>\n",
       "      <th>Model_golf</th>\n",
       "      <th>Model_grand</th>\n",
       "      <th>Model_i3</th>\n",
       "      <th>Model_i_reihe</th>\n",
       "      <th>Model_ibiza</th>\n",
       "      <th>Model_impreza</th>\n",
       "      <th>Model_insignia</th>\n",
       "      <th>Model_jazz</th>\n",
       "      <th>Model_jetta</th>\n",
       "      <th>Model_jimny</th>\n",
       "      <th>Model_juke</th>\n",
       "      <th>Model_justy</th>\n",
       "      <th>Model_ka</th>\n",
       "      <th>Model_kadett</th>\n",
       "      <th>Model_kaefer</th>\n",
       "      <th>Model_kalina</th>\n",
       "      <th>Model_kalos</th>\n",
       "      <th>Model_kangoo</th>\n",
       "      <th>Model_kappa</th>\n",
       "      <th>Model_kuga</th>\n",
       "      <th>Model_laguna</th>\n",
       "      <th>Model_lancer</th>\n",
       "      <th>Model_lanos</th>\n",
       "      <th>Model_legacy</th>\n",
       "      <th>Model_leon</th>\n",
       "      <th>Model_lodgy</th>\n",
       "      <th>Model_logan</th>\n",
       "      <th>Model_lupo</th>\n",
       "      <th>Model_lybra</th>\n",
       "      <th>Model_m_klasse</th>\n",
       "      <th>Model_m_reihe</th>\n",
       "      <th>Model_materia</th>\n",
       "      <th>Model_matiz</th>\n",
       "      <th>Model_megane</th>\n",
       "      <th>Model_meriva</th>\n",
       "      <th>Model_micra</th>\n",
       "      <th>Model_mii</th>\n",
       "      <th>Model_modus</th>\n",
       "      <th>Model_mondeo</th>\n",
       "      <th>Model_move</th>\n",
       "      <th>Model_musa</th>\n",
       "      <th>Model_mustang</th>\n",
       "      <th>Model_mx_reihe</th>\n",
       "      <th>Model_navara</th>\n",
       "      <th>Model_niva</th>\n",
       "      <th>Model_note</th>\n",
       "      <th>Model_nubira</th>\n",
       "      <th>Model_octavia</th>\n",
       "      <th>Model_omega</th>\n",
       "      <th>Model_one</th>\n",
       "      <th>Model_other</th>\n",
       "      <th>Model_outlander</th>\n",
       "      <th>Model_pajero</th>\n",
       "      <th>Model_panda</th>\n",
       "      <th>Model_passat</th>\n",
       "      <th>Model_phaeton</th>\n",
       "      <th>Model_picanto</th>\n",
       "      <th>Model_polo</th>\n",
       "      <th>Model_primera</th>\n",
       "      <th>Model_ptcruiser</th>\n",
       "      <th>Model_punto</th>\n",
       "      <th>Model_q3</th>\n",
       "      <th>Model_q5</th>\n",
       "      <th>Model_q7</th>\n",
       "      <th>Model_qashqai</th>\n",
       "      <th>Model_r19</th>\n",
       "      <th>Model_range_rover</th>\n",
       "      <th>Model_range_rover_evoque</th>\n",
       "      <th>Model_range_rover_sport</th>\n",
       "      <th>Model_rangerover</th>\n",
       "      <th>Model_rav</th>\n",
       "      <th>Model_rio</th>\n",
       "      <th>Model_roadster</th>\n",
       "      <th>Model_roomster</th>\n",
       "      <th>Model_rx_reihe</th>\n",
       "      <th>Model_s60</th>\n",
       "      <th>Model_s_klasse</th>\n",
       "      <th>Model_s_max</th>\n",
       "      <th>Model_s_type</th>\n",
       "      <th>Model_samara</th>\n",
       "      <th>Model_sandero</th>\n",
       "      <th>Model_santa</th>\n",
       "      <th>Model_scenic</th>\n",
       "      <th>Model_scirocco</th>\n",
       "      <th>Model_seicento</th>\n",
       "      <th>Model_serie_2</th>\n",
       "      <th>Model_serie_3</th>\n",
       "      <th>Model_sharan</th>\n",
       "      <th>Model_signum</th>\n",
       "      <th>Model_sirion</th>\n",
       "      <th>Model_sl</th>\n",
       "      <th>Model_slk</th>\n",
       "      <th>Model_sorento</th>\n",
       "      <th>Model_spark</th>\n",
       "      <th>Model_spider</th>\n",
       "      <th>Model_sportage</th>\n",
       "      <th>Model_sprinter</th>\n",
       "      <th>Model_stilo</th>\n",
       "      <th>Model_superb</th>\n",
       "      <th>Model_swift</th>\n",
       "      <th>Model_terios</th>\n",
       "      <th>Model_tigra</th>\n",
       "      <th>Model_tiguan</th>\n",
       "      <th>Model_toledo</th>\n",
       "      <th>Model_touareg</th>\n",
       "      <th>Model_touran</th>\n",
       "      <th>Model_transit</th>\n",
       "      <th>Model_transporter</th>\n",
       "      <th>Model_tt</th>\n",
       "      <th>Model_tucson</th>\n",
       "      <th>Model_twingo</th>\n",
       "      <th>Model_up</th>\n",
       "      <th>Model_v40</th>\n",
       "      <th>Model_v50</th>\n",
       "      <th>Model_v60</th>\n",
       "      <th>Model_v70</th>\n",
       "      <th>Model_v_klasse</th>\n",
       "      <th>Model_vectra</th>\n",
       "      <th>Model_verso</th>\n",
       "      <th>Model_viano</th>\n",
       "      <th>Model_vito</th>\n",
       "      <th>Model_vivaro</th>\n",
       "      <th>Model_voyager</th>\n",
       "      <th>Model_wrangler</th>\n",
       "      <th>Model_x_reihe</th>\n",
       "      <th>Model_x_trail</th>\n",
       "      <th>Model_x_type</th>\n",
       "      <th>Model_xc_reihe</th>\n",
       "      <th>Model_yaris</th>\n",
       "      <th>Model_yeti</th>\n",
       "      <th>Model_ypsilon</th>\n",
       "      <th>Model_z_reihe</th>\n",
       "      <th>Model_zafira</th>\n",
       "      <th>FuelType_cng</th>\n",
       "      <th>FuelType_electric</th>\n",
       "      <th>FuelType_gasoline</th>\n",
       "      <th>FuelType_hybrid</th>\n",
       "      <th>FuelType_lpg</th>\n",
       "      <th>FuelType_other</th>\n",
       "      <th>FuelType_petrol</th>\n",
       "      <th>Brand_alfa_romeo</th>\n",
       "      <th>Brand_audi</th>\n",
       "      <th>Brand_bmw</th>\n",
       "      <th>Brand_chevrolet</th>\n",
       "      <th>Brand_chrysler</th>\n",
       "      <th>Brand_citroen</th>\n",
       "      <th>Brand_dacia</th>\n",
       "      <th>Brand_daewoo</th>\n",
       "      <th>Brand_daihatsu</th>\n",
       "      <th>Brand_fiat</th>\n",
       "      <th>Brand_ford</th>\n",
       "      <th>Brand_honda</th>\n",
       "      <th>Brand_hyundai</th>\n",
       "      <th>Brand_jaguar</th>\n",
       "      <th>Brand_jeep</th>\n",
       "      <th>Brand_kia</th>\n",
       "      <th>Brand_lada</th>\n",
       "      <th>Brand_lancia</th>\n",
       "      <th>Brand_land_rover</th>\n",
       "      <th>Brand_mazda</th>\n",
       "      <th>Brand_mercedes_benz</th>\n",
       "      <th>Brand_mini</th>\n",
       "      <th>Brand_mitsubishi</th>\n",
       "      <th>Brand_nissan</th>\n",
       "      <th>Brand_opel</th>\n",
       "      <th>Brand_peugeot</th>\n",
       "      <th>Brand_porsche</th>\n",
       "      <th>Brand_renault</th>\n",
       "      <th>Brand_rover</th>\n",
       "      <th>Brand_saab</th>\n",
       "      <th>Brand_seat</th>\n",
       "      <th>Brand_skoda</th>\n",
       "      <th>Brand_smart</th>\n",
       "      <th>Brand_sonstige_autos</th>\n",
       "      <th>Brand_subaru</th>\n",
       "      <th>Brand_suzuki</th>\n",
       "      <th>Brand_toyota</th>\n",
       "      <th>Brand_trabant</th>\n",
       "      <th>Brand_volkswagen</th>\n",
       "      <th>Brand_volvo</th>\n",
       "      <th>NotRepaired_no</th>\n",
       "      <th>NotRepaired_yes</th>\n",
       "    </tr>\n",
       "  </thead>\n",
       "  <tbody>\n",
       "    <tr>\n",
       "      <td>1</td>\n",
       "      <td>18300</td>\n",
       "      <td>2011</td>\n",
       "      <td>190</td>\n",
       "      <td>125000</td>\n",
       "      <td>0</td>\n",
       "      <td>0</td>\n",
       "      <td>1</td>\n",
       "      <td>0</td>\n",
       "      <td>0</td>\n",
       "      <td>0</td>\n",
       "      <td>0</td>\n",
       "      <td>0</td>\n",
       "      <td>0</td>\n",
       "      <td>1</td>\n",
       "      <td>0</td>\n",
       "      <td>0</td>\n",
       "      <td>0</td>\n",
       "      <td>0</td>\n",
       "      <td>0</td>\n",
       "      <td>0</td>\n",
       "      <td>0</td>\n",
       "      <td>0</td>\n",
       "      <td>0</td>\n",
       "      <td>0</td>\n",
       "      <td>0</td>\n",
       "      <td>0</td>\n",
       "      <td>0</td>\n",
       "      <td>0</td>\n",
       "      <td>0</td>\n",
       "      <td>0</td>\n",
       "      <td>0</td>\n",
       "      <td>0</td>\n",
       "      <td>0</td>\n",
       "      <td>0</td>\n",
       "      <td>0</td>\n",
       "      <td>0</td>\n",
       "      <td>0</td>\n",
       "      <td>0</td>\n",
       "      <td>0</td>\n",
       "      <td>0</td>\n",
       "      <td>0</td>\n",
       "      <td>0</td>\n",
       "      <td>0</td>\n",
       "      <td>0</td>\n",
       "      <td>0</td>\n",
       "      <td>0</td>\n",
       "      <td>0</td>\n",
       "      <td>0</td>\n",
       "      <td>0</td>\n",
       "      <td>0</td>\n",
       "      <td>0</td>\n",
       "      <td>0</td>\n",
       "      <td>0</td>\n",
       "      <td>0</td>\n",
       "      <td>0</td>\n",
       "      <td>0</td>\n",
       "      <td>0</td>\n",
       "      <td>0</td>\n",
       "      <td>0</td>\n",
       "      <td>0</td>\n",
       "      <td>0</td>\n",
       "      <td>0</td>\n",
       "      <td>0</td>\n",
       "      <td>0</td>\n",
       "      <td>0</td>\n",
       "      <td>0</td>\n",
       "      <td>0</td>\n",
       "      <td>0</td>\n",
       "      <td>0</td>\n",
       "      <td>0</td>\n",
       "      <td>0</td>\n",
       "      <td>0</td>\n",
       "      <td>0</td>\n",
       "      <td>0</td>\n",
       "      <td>0</td>\n",
       "      <td>0</td>\n",
       "      <td>0</td>\n",
       "      <td>0</td>\n",
       "      <td>0</td>\n",
       "      <td>0</td>\n",
       "      <td>0</td>\n",
       "      <td>0</td>\n",
       "      <td>0</td>\n",
       "      <td>0</td>\n",
       "      <td>0</td>\n",
       "      <td>0</td>\n",
       "      <td>0</td>\n",
       "      <td>0</td>\n",
       "      <td>0</td>\n",
       "      <td>0</td>\n",
       "      <td>0</td>\n",
       "      <td>0</td>\n",
       "      <td>0</td>\n",
       "      <td>0</td>\n",
       "      <td>0</td>\n",
       "      <td>0</td>\n",
       "      <td>0</td>\n",
       "      <td>0</td>\n",
       "      <td>0</td>\n",
       "      <td>0</td>\n",
       "      <td>0</td>\n",
       "      <td>0</td>\n",
       "      <td>0</td>\n",
       "      <td>0</td>\n",
       "      <td>0</td>\n",
       "      <td>0</td>\n",
       "      <td>0</td>\n",
       "      <td>0</td>\n",
       "      <td>0</td>\n",
       "      <td>0</td>\n",
       "      <td>0</td>\n",
       "      <td>0</td>\n",
       "      <td>0</td>\n",
       "      <td>0</td>\n",
       "      <td>0</td>\n",
       "      <td>0</td>\n",
       "      <td>0</td>\n",
       "      <td>0</td>\n",
       "      <td>0</td>\n",
       "      <td>0</td>\n",
       "      <td>0</td>\n",
       "      <td>0</td>\n",
       "      <td>0</td>\n",
       "      <td>0</td>\n",
       "      <td>0</td>\n",
       "      <td>0</td>\n",
       "      <td>0</td>\n",
       "      <td>0</td>\n",
       "      <td>0</td>\n",
       "      <td>0</td>\n",
       "      <td>0</td>\n",
       "      <td>0</td>\n",
       "      <td>0</td>\n",
       "      <td>0</td>\n",
       "      <td>0</td>\n",
       "      <td>0</td>\n",
       "      <td>0</td>\n",
       "      <td>0</td>\n",
       "      <td>0</td>\n",
       "      <td>0</td>\n",
       "      <td>0</td>\n",
       "      <td>0</td>\n",
       "      <td>0</td>\n",
       "      <td>0</td>\n",
       "      <td>0</td>\n",
       "      <td>0</td>\n",
       "      <td>0</td>\n",
       "      <td>0</td>\n",
       "      <td>0</td>\n",
       "      <td>0</td>\n",
       "      <td>0</td>\n",
       "      <td>0</td>\n",
       "      <td>0</td>\n",
       "      <td>0</td>\n",
       "      <td>0</td>\n",
       "      <td>0</td>\n",
       "      <td>0</td>\n",
       "      <td>0</td>\n",
       "      <td>0</td>\n",
       "      <td>0</td>\n",
       "      <td>0</td>\n",
       "      <td>0</td>\n",
       "      <td>0</td>\n",
       "      <td>0</td>\n",
       "      <td>0</td>\n",
       "      <td>0</td>\n",
       "      <td>0</td>\n",
       "      <td>0</td>\n",
       "      <td>0</td>\n",
       "      <td>0</td>\n",
       "      <td>0</td>\n",
       "      <td>0</td>\n",
       "      <td>0</td>\n",
       "      <td>0</td>\n",
       "      <td>0</td>\n",
       "      <td>0</td>\n",
       "      <td>0</td>\n",
       "      <td>0</td>\n",
       "      <td>0</td>\n",
       "      <td>0</td>\n",
       "      <td>0</td>\n",
       "      <td>0</td>\n",
       "      <td>0</td>\n",
       "      <td>0</td>\n",
       "      <td>0</td>\n",
       "      <td>0</td>\n",
       "      <td>0</td>\n",
       "      <td>0</td>\n",
       "      <td>0</td>\n",
       "      <td>0</td>\n",
       "      <td>0</td>\n",
       "      <td>0</td>\n",
       "      <td>0</td>\n",
       "      <td>0</td>\n",
       "      <td>0</td>\n",
       "      <td>0</td>\n",
       "      <td>0</td>\n",
       "      <td>0</td>\n",
       "      <td>0</td>\n",
       "      <td>0</td>\n",
       "      <td>0</td>\n",
       "      <td>0</td>\n",
       "      <td>0</td>\n",
       "      <td>0</td>\n",
       "      <td>0</td>\n",
       "      <td>0</td>\n",
       "      <td>0</td>\n",
       "      <td>0</td>\n",
       "      <td>0</td>\n",
       "      <td>0</td>\n",
       "      <td>0</td>\n",
       "      <td>0</td>\n",
       "      <td>0</td>\n",
       "      <td>0</td>\n",
       "      <td>0</td>\n",
       "      <td>0</td>\n",
       "      <td>0</td>\n",
       "      <td>0</td>\n",
       "      <td>0</td>\n",
       "      <td>0</td>\n",
       "      <td>0</td>\n",
       "      <td>0</td>\n",
       "      <td>0</td>\n",
       "      <td>0</td>\n",
       "      <td>0</td>\n",
       "      <td>0</td>\n",
       "      <td>0</td>\n",
       "      <td>0</td>\n",
       "      <td>0</td>\n",
       "      <td>0</td>\n",
       "      <td>0</td>\n",
       "      <td>0</td>\n",
       "      <td>0</td>\n",
       "      <td>0</td>\n",
       "      <td>0</td>\n",
       "      <td>0</td>\n",
       "      <td>0</td>\n",
       "      <td>0</td>\n",
       "      <td>0</td>\n",
       "      <td>0</td>\n",
       "      <td>0</td>\n",
       "      <td>0</td>\n",
       "      <td>0</td>\n",
       "      <td>0</td>\n",
       "      <td>0</td>\n",
       "      <td>0</td>\n",
       "      <td>0</td>\n",
       "      <td>0</td>\n",
       "      <td>0</td>\n",
       "      <td>0</td>\n",
       "      <td>0</td>\n",
       "      <td>0</td>\n",
       "      <td>0</td>\n",
       "      <td>0</td>\n",
       "      <td>0</td>\n",
       "      <td>0</td>\n",
       "      <td>0</td>\n",
       "      <td>0</td>\n",
       "      <td>0</td>\n",
       "      <td>0</td>\n",
       "      <td>0</td>\n",
       "      <td>0</td>\n",
       "      <td>0</td>\n",
       "      <td>0</td>\n",
       "      <td>0</td>\n",
       "      <td>1</td>\n",
       "      <td>0</td>\n",
       "      <td>0</td>\n",
       "      <td>0</td>\n",
       "      <td>0</td>\n",
       "      <td>0</td>\n",
       "      <td>1</td>\n",
       "      <td>0</td>\n",
       "      <td>0</td>\n",
       "      <td>0</td>\n",
       "      <td>0</td>\n",
       "      <td>0</td>\n",
       "      <td>0</td>\n",
       "      <td>0</td>\n",
       "      <td>0</td>\n",
       "      <td>0</td>\n",
       "      <td>0</td>\n",
       "      <td>0</td>\n",
       "      <td>0</td>\n",
       "      <td>0</td>\n",
       "      <td>0</td>\n",
       "      <td>0</td>\n",
       "      <td>0</td>\n",
       "      <td>0</td>\n",
       "      <td>0</td>\n",
       "      <td>0</td>\n",
       "      <td>0</td>\n",
       "      <td>0</td>\n",
       "      <td>0</td>\n",
       "      <td>0</td>\n",
       "      <td>0</td>\n",
       "      <td>0</td>\n",
       "      <td>0</td>\n",
       "      <td>0</td>\n",
       "      <td>0</td>\n",
       "      <td>0</td>\n",
       "      <td>0</td>\n",
       "      <td>0</td>\n",
       "      <td>0</td>\n",
       "      <td>0</td>\n",
       "      <td>0</td>\n",
       "      <td>0</td>\n",
       "      <td>0</td>\n",
       "      <td>0</td>\n",
       "      <td>0</td>\n",
       "      <td>0</td>\n",
       "      <td>1</td>\n",
       "    </tr>\n",
       "    <tr>\n",
       "      <td>2</td>\n",
       "      <td>9800</td>\n",
       "      <td>2004</td>\n",
       "      <td>163</td>\n",
       "      <td>125000</td>\n",
       "      <td>0</td>\n",
       "      <td>0</td>\n",
       "      <td>0</td>\n",
       "      <td>0</td>\n",
       "      <td>0</td>\n",
       "      <td>0</td>\n",
       "      <td>1</td>\n",
       "      <td>0</td>\n",
       "      <td>1</td>\n",
       "      <td>0</td>\n",
       "      <td>0</td>\n",
       "      <td>0</td>\n",
       "      <td>0</td>\n",
       "      <td>0</td>\n",
       "      <td>0</td>\n",
       "      <td>0</td>\n",
       "      <td>0</td>\n",
       "      <td>0</td>\n",
       "      <td>0</td>\n",
       "      <td>0</td>\n",
       "      <td>0</td>\n",
       "      <td>0</td>\n",
       "      <td>0</td>\n",
       "      <td>0</td>\n",
       "      <td>0</td>\n",
       "      <td>0</td>\n",
       "      <td>0</td>\n",
       "      <td>0</td>\n",
       "      <td>0</td>\n",
       "      <td>0</td>\n",
       "      <td>0</td>\n",
       "      <td>0</td>\n",
       "      <td>0</td>\n",
       "      <td>0</td>\n",
       "      <td>0</td>\n",
       "      <td>0</td>\n",
       "      <td>0</td>\n",
       "      <td>0</td>\n",
       "      <td>0</td>\n",
       "      <td>0</td>\n",
       "      <td>0</td>\n",
       "      <td>0</td>\n",
       "      <td>0</td>\n",
       "      <td>0</td>\n",
       "      <td>0</td>\n",
       "      <td>0</td>\n",
       "      <td>0</td>\n",
       "      <td>0</td>\n",
       "      <td>0</td>\n",
       "      <td>0</td>\n",
       "      <td>0</td>\n",
       "      <td>0</td>\n",
       "      <td>0</td>\n",
       "      <td>0</td>\n",
       "      <td>0</td>\n",
       "      <td>0</td>\n",
       "      <td>0</td>\n",
       "      <td>0</td>\n",
       "      <td>0</td>\n",
       "      <td>0</td>\n",
       "      <td>0</td>\n",
       "      <td>0</td>\n",
       "      <td>0</td>\n",
       "      <td>0</td>\n",
       "      <td>0</td>\n",
       "      <td>0</td>\n",
       "      <td>0</td>\n",
       "      <td>0</td>\n",
       "      <td>0</td>\n",
       "      <td>0</td>\n",
       "      <td>0</td>\n",
       "      <td>0</td>\n",
       "      <td>0</td>\n",
       "      <td>0</td>\n",
       "      <td>0</td>\n",
       "      <td>0</td>\n",
       "      <td>0</td>\n",
       "      <td>0</td>\n",
       "      <td>0</td>\n",
       "      <td>0</td>\n",
       "      <td>0</td>\n",
       "      <td>0</td>\n",
       "      <td>0</td>\n",
       "      <td>0</td>\n",
       "      <td>0</td>\n",
       "      <td>0</td>\n",
       "      <td>0</td>\n",
       "      <td>0</td>\n",
       "      <td>0</td>\n",
       "      <td>0</td>\n",
       "      <td>0</td>\n",
       "      <td>0</td>\n",
       "      <td>0</td>\n",
       "      <td>0</td>\n",
       "      <td>0</td>\n",
       "      <td>0</td>\n",
       "      <td>0</td>\n",
       "      <td>0</td>\n",
       "      <td>0</td>\n",
       "      <td>0</td>\n",
       "      <td>0</td>\n",
       "      <td>0</td>\n",
       "      <td>0</td>\n",
       "      <td>0</td>\n",
       "      <td>0</td>\n",
       "      <td>0</td>\n",
       "      <td>0</td>\n",
       "      <td>0</td>\n",
       "      <td>0</td>\n",
       "      <td>0</td>\n",
       "      <td>0</td>\n",
       "      <td>0</td>\n",
       "      <td>0</td>\n",
       "      <td>0</td>\n",
       "      <td>0</td>\n",
       "      <td>0</td>\n",
       "      <td>0</td>\n",
       "      <td>0</td>\n",
       "      <td>0</td>\n",
       "      <td>0</td>\n",
       "      <td>0</td>\n",
       "      <td>0</td>\n",
       "      <td>0</td>\n",
       "      <td>0</td>\n",
       "      <td>0</td>\n",
       "      <td>0</td>\n",
       "      <td>0</td>\n",
       "      <td>1</td>\n",
       "      <td>0</td>\n",
       "      <td>0</td>\n",
       "      <td>0</td>\n",
       "      <td>0</td>\n",
       "      <td>0</td>\n",
       "      <td>0</td>\n",
       "      <td>0</td>\n",
       "      <td>0</td>\n",
       "      <td>0</td>\n",
       "      <td>0</td>\n",
       "      <td>0</td>\n",
       "      <td>0</td>\n",
       "      <td>0</td>\n",
       "      <td>0</td>\n",
       "      <td>0</td>\n",
       "      <td>0</td>\n",
       "      <td>0</td>\n",
       "      <td>0</td>\n",
       "      <td>0</td>\n",
       "      <td>0</td>\n",
       "      <td>0</td>\n",
       "      <td>0</td>\n",
       "      <td>0</td>\n",
       "      <td>0</td>\n",
       "      <td>0</td>\n",
       "      <td>0</td>\n",
       "      <td>0</td>\n",
       "      <td>0</td>\n",
       "      <td>0</td>\n",
       "      <td>0</td>\n",
       "      <td>0</td>\n",
       "      <td>0</td>\n",
       "      <td>0</td>\n",
       "      <td>0</td>\n",
       "      <td>0</td>\n",
       "      <td>0</td>\n",
       "      <td>0</td>\n",
       "      <td>0</td>\n",
       "      <td>0</td>\n",
       "      <td>0</td>\n",
       "      <td>0</td>\n",
       "      <td>0</td>\n",
       "      <td>0</td>\n",
       "      <td>0</td>\n",
       "      <td>0</td>\n",
       "      <td>0</td>\n",
       "      <td>0</td>\n",
       "      <td>0</td>\n",
       "      <td>0</td>\n",
       "      <td>0</td>\n",
       "      <td>0</td>\n",
       "      <td>0</td>\n",
       "      <td>0</td>\n",
       "      <td>0</td>\n",
       "      <td>0</td>\n",
       "      <td>0</td>\n",
       "      <td>0</td>\n",
       "      <td>0</td>\n",
       "      <td>0</td>\n",
       "      <td>0</td>\n",
       "      <td>0</td>\n",
       "      <td>0</td>\n",
       "      <td>0</td>\n",
       "      <td>0</td>\n",
       "      <td>0</td>\n",
       "      <td>0</td>\n",
       "      <td>0</td>\n",
       "      <td>0</td>\n",
       "      <td>0</td>\n",
       "      <td>0</td>\n",
       "      <td>0</td>\n",
       "      <td>0</td>\n",
       "      <td>0</td>\n",
       "      <td>0</td>\n",
       "      <td>0</td>\n",
       "      <td>0</td>\n",
       "      <td>0</td>\n",
       "      <td>0</td>\n",
       "      <td>0</td>\n",
       "      <td>0</td>\n",
       "      <td>0</td>\n",
       "      <td>0</td>\n",
       "      <td>0</td>\n",
       "      <td>0</td>\n",
       "      <td>0</td>\n",
       "      <td>0</td>\n",
       "      <td>0</td>\n",
       "      <td>0</td>\n",
       "      <td>0</td>\n",
       "      <td>0</td>\n",
       "      <td>0</td>\n",
       "      <td>0</td>\n",
       "      <td>0</td>\n",
       "      <td>0</td>\n",
       "      <td>0</td>\n",
       "      <td>0</td>\n",
       "      <td>0</td>\n",
       "      <td>0</td>\n",
       "      <td>0</td>\n",
       "      <td>0</td>\n",
       "      <td>0</td>\n",
       "      <td>0</td>\n",
       "      <td>0</td>\n",
       "      <td>0</td>\n",
       "      <td>0</td>\n",
       "      <td>0</td>\n",
       "      <td>0</td>\n",
       "      <td>0</td>\n",
       "      <td>0</td>\n",
       "      <td>0</td>\n",
       "      <td>0</td>\n",
       "      <td>0</td>\n",
       "      <td>0</td>\n",
       "      <td>0</td>\n",
       "      <td>0</td>\n",
       "      <td>0</td>\n",
       "      <td>0</td>\n",
       "      <td>0</td>\n",
       "      <td>0</td>\n",
       "      <td>0</td>\n",
       "      <td>0</td>\n",
       "      <td>0</td>\n",
       "      <td>0</td>\n",
       "      <td>0</td>\n",
       "      <td>0</td>\n",
       "      <td>0</td>\n",
       "      <td>0</td>\n",
       "      <td>0</td>\n",
       "      <td>0</td>\n",
       "      <td>0</td>\n",
       "      <td>0</td>\n",
       "      <td>0</td>\n",
       "      <td>0</td>\n",
       "      <td>1</td>\n",
       "      <td>0</td>\n",
       "      <td>0</td>\n",
       "      <td>0</td>\n",
       "      <td>0</td>\n",
       "      <td>0</td>\n",
       "      <td>0</td>\n",
       "      <td>0</td>\n",
       "      <td>0</td>\n",
       "      <td>0</td>\n",
       "      <td>0</td>\n",
       "      <td>0</td>\n",
       "      <td>0</td>\n",
       "      <td>0</td>\n",
       "      <td>0</td>\n",
       "      <td>0</td>\n",
       "      <td>0</td>\n",
       "      <td>0</td>\n",
       "      <td>0</td>\n",
       "      <td>1</td>\n",
       "      <td>0</td>\n",
       "      <td>0</td>\n",
       "      <td>0</td>\n",
       "      <td>0</td>\n",
       "      <td>0</td>\n",
       "      <td>0</td>\n",
       "      <td>0</td>\n",
       "      <td>0</td>\n",
       "      <td>0</td>\n",
       "      <td>0</td>\n",
       "      <td>0</td>\n",
       "      <td>0</td>\n",
       "      <td>0</td>\n",
       "      <td>0</td>\n",
       "      <td>0</td>\n",
       "      <td>0</td>\n",
       "      <td>0</td>\n",
       "      <td>0</td>\n",
       "      <td>0</td>\n",
       "      <td>0</td>\n",
       "      <td>0</td>\n",
       "      <td>0</td>\n",
       "      <td>0</td>\n",
       "      <td>0</td>\n",
       "      <td>0</td>\n",
       "      <td>0</td>\n",
       "      <td>0</td>\n",
       "    </tr>\n",
       "  </tbody>\n",
       "</table>\n",
       "</div>"
      ],
      "text/plain": [
       "   Price  RegistrationYear  Power  Kilometer  VehicleType_bus  \\\n",
       "1  18300              2011    190     125000                0   \n",
       "2   9800              2004    163     125000                0   \n",
       "\n",
       "   VehicleType_convertible  VehicleType_coupe  VehicleType_other  \\\n",
       "1                        0                  1                  0   \n",
       "2                        0                  0                  0   \n",
       "\n",
       "   VehicleType_sedan  VehicleType_small  VehicleType_suv  VehicleType_wagon  \\\n",
       "1                  0                  0                0                  0   \n",
       "2                  0                  0                1                  0   \n",
       "\n",
       "   Gearbox_auto  Gearbox_manual  Model_100  Model_145  Model_147  Model_156  \\\n",
       "1             0               1          0          0          0          0   \n",
       "2             1               0          0          0          0          0   \n",
       "\n",
       "   Model_159  Model_1_reihe  Model_1er  Model_200  Model_2_reihe  Model_300c  \\\n",
       "1          0              0          0          0              0           0   \n",
       "2          0              0          0          0              0           0   \n",
       "\n",
       "   Model_3_reihe  Model_3er  Model_4_reihe  Model_500  Model_5_reihe  \\\n",
       "1              0          0              0          0              0   \n",
       "2              0          0              0          0              0   \n",
       "\n",
       "   Model_5er  Model_601  Model_6_reihe  Model_6er  Model_7er  Model_80  \\\n",
       "1          0          0              0          0          0         0   \n",
       "2          0          0              0          0          0         0   \n",
       "\n",
       "   Model_850  Model_90  Model_900  Model_9000  Model_911  Model_a1  Model_a2  \\\n",
       "1          0         0          0           0          0         0         0   \n",
       "2          0         0          0           0          0         0         0   \n",
       "\n",
       "   Model_a3  Model_a4  Model_a5  Model_a6  Model_a8  Model_a_klasse  \\\n",
       "1         0         0         0         0         0               0   \n",
       "2         0         0         0         0         0               0   \n",
       "\n",
       "   Model_accord  Model_agila  Model_alhambra  Model_almera  Model_altea  \\\n",
       "1             0            0               0             0            0   \n",
       "2             0            0               0             0            0   \n",
       "\n",
       "   Model_amarok  Model_antara  Model_arosa  Model_astra  Model_auris  \\\n",
       "1             0             0            0            0            0   \n",
       "2             0             0            0            0            0   \n",
       "\n",
       "   Model_avensis  Model_aveo  Model_aygo  Model_b_klasse  Model_b_max  \\\n",
       "1              0           0           0               0            0   \n",
       "2              0           0           0               0            0   \n",
       "\n",
       "   Model_beetle  Model_berlingo  Model_bora  Model_boxster  Model_bravo  \\\n",
       "1             0               0           0              0            0   \n",
       "2             0               0           0              0            0   \n",
       "\n",
       "   Model_c1  Model_c2  Model_c3  Model_c4  Model_c5  Model_c_klasse  \\\n",
       "1         0         0         0         0         0               0   \n",
       "2         0         0         0         0         0               0   \n",
       "\n",
       "   Model_c_max  Model_c_reihe  Model_caddy  Model_calibra  Model_captiva  \\\n",
       "1            0              0            0              0              0   \n",
       "2            0              0            0              0              0   \n",
       "\n",
       "   Model_carisma  Model_carnival  Model_cayenne  Model_cc  Model_ceed  \\\n",
       "1              0               0              0         0           0   \n",
       "2              0               0              0         0           0   \n",
       "\n",
       "   Model_charade  Model_cherokee  Model_citigo  Model_civic  Model_cl  \\\n",
       "1              0               0             0            0         0   \n",
       "2              0               0             0            0         0   \n",
       "\n",
       "   Model_clio  Model_clk  Model_clubman  Model_colt  Model_combo  \\\n",
       "1           0          0              0           0            0   \n",
       "2           0          0              0           0            0   \n",
       "\n",
       "   Model_cooper  Model_cordoba  Model_corolla  Model_corsa  Model_cr_reihe  \\\n",
       "1             0              0              0            0               0   \n",
       "2             0              0              0            0               0   \n",
       "\n",
       "   Model_croma  Model_crossfire  Model_cuore  Model_cx_reihe  Model_defender  \\\n",
       "1            0                0            0               0               0   \n",
       "2            0                0            0               0               0   \n",
       "\n",
       "   Model_delta  Model_discovery  Model_doblo  Model_ducato  Model_duster  \\\n",
       "1            0                0            0             0             0   \n",
       "2            0                0            0             0             0   \n",
       "\n",
       "   Model_e_klasse  Model_elefantino  Model_eos  Model_escort  Model_espace  \\\n",
       "1               0                 0          0             0             0   \n",
       "2               0                 0          0             0             0   \n",
       "\n",
       "   Model_exeo  Model_fabia  Model_fiesta  Model_focus  Model_forester  \\\n",
       "1           0            0             0            0               0   \n",
       "2           0            0             0            0               0   \n",
       "\n",
       "   Model_forfour  Model_fortwo  Model_fox  Model_freelander  Model_fusion  \\\n",
       "1              0             0          0                 0             0   \n",
       "2              0             0          0                 0             0   \n",
       "\n",
       "   Model_g_klasse  Model_galant  Model_galaxy  Model_getz  Model_gl  \\\n",
       "1               0             0             0           0         0   \n",
       "2               0             0             0           0         0   \n",
       "\n",
       "   Model_glk  Model_golf  Model_grand  Model_i3  Model_i_reihe  Model_ibiza  \\\n",
       "1          0           0            0         0              0            0   \n",
       "2          0           0            1         0              0            0   \n",
       "\n",
       "   Model_impreza  Model_insignia  Model_jazz  Model_jetta  Model_jimny  \\\n",
       "1              0               0           0            0            0   \n",
       "2              0               0           0            0            0   \n",
       "\n",
       "   Model_juke  Model_justy  Model_ka  Model_kadett  Model_kaefer  \\\n",
       "1           0            0         0             0             0   \n",
       "2           0            0         0             0             0   \n",
       "\n",
       "   Model_kalina  Model_kalos  Model_kangoo  Model_kappa  Model_kuga  \\\n",
       "1             0            0             0            0           0   \n",
       "2             0            0             0            0           0   \n",
       "\n",
       "   Model_laguna  Model_lancer  Model_lanos  Model_legacy  Model_leon  \\\n",
       "1             0             0            0             0           0   \n",
       "2             0             0            0             0           0   \n",
       "\n",
       "   Model_lodgy  Model_logan  Model_lupo  Model_lybra  Model_m_klasse  \\\n",
       "1            0            0           0            0               0   \n",
       "2            0            0           0            0               0   \n",
       "\n",
       "   Model_m_reihe  Model_materia  Model_matiz  Model_megane  Model_meriva  \\\n",
       "1              0              0            0             0             0   \n",
       "2              0              0            0             0             0   \n",
       "\n",
       "   Model_micra  Model_mii  Model_modus  Model_mondeo  Model_move  Model_musa  \\\n",
       "1            0          0            0             0           0           0   \n",
       "2            0          0            0             0           0           0   \n",
       "\n",
       "   Model_mustang  Model_mx_reihe  Model_navara  Model_niva  Model_note  \\\n",
       "1              0               0             0           0           0   \n",
       "2              0               0             0           0           0   \n",
       "\n",
       "   Model_nubira  Model_octavia  Model_omega  Model_one  Model_other  \\\n",
       "1             0              0            0          0            0   \n",
       "2             0              0            0          0            0   \n",
       "\n",
       "   Model_outlander  Model_pajero  Model_panda  Model_passat  Model_phaeton  \\\n",
       "1                0             0            0             0              0   \n",
       "2                0             0            0             0              0   \n",
       "\n",
       "   Model_picanto  Model_polo  Model_primera  Model_ptcruiser  Model_punto  \\\n",
       "1              0           0              0                0            0   \n",
       "2              0           0              0                0            0   \n",
       "\n",
       "   Model_q3  Model_q5  Model_q7  Model_qashqai  Model_r19  Model_range_rover  \\\n",
       "1         0         0         0              0          0                  0   \n",
       "2         0         0         0              0          0                  0   \n",
       "\n",
       "   Model_range_rover_evoque  Model_range_rover_sport  Model_rangerover  \\\n",
       "1                         0                        0                 0   \n",
       "2                         0                        0                 0   \n",
       "\n",
       "   Model_rav  Model_rio  Model_roadster  Model_roomster  Model_rx_reihe  \\\n",
       "1          0          0               0               0               0   \n",
       "2          0          0               0               0               0   \n",
       "\n",
       "   Model_s60  Model_s_klasse  Model_s_max  Model_s_type  Model_samara  \\\n",
       "1          0               0            0             0             0   \n",
       "2          0               0            0             0             0   \n",
       "\n",
       "   Model_sandero  Model_santa  Model_scenic  Model_scirocco  Model_seicento  \\\n",
       "1              0            0             0               0               0   \n",
       "2              0            0             0               0               0   \n",
       "\n",
       "   Model_serie_2  Model_serie_3  Model_sharan  Model_signum  Model_sirion  \\\n",
       "1              0              0             0             0             0   \n",
       "2              0              0             0             0             0   \n",
       "\n",
       "   Model_sl  Model_slk  Model_sorento  Model_spark  Model_spider  \\\n",
       "1         0          0              0            0             0   \n",
       "2         0          0              0            0             0   \n",
       "\n",
       "   Model_sportage  Model_sprinter  Model_stilo  Model_superb  Model_swift  \\\n",
       "1               0               0            0             0            0   \n",
       "2               0               0            0             0            0   \n",
       "\n",
       "   Model_terios  Model_tigra  Model_tiguan  Model_toledo  Model_touareg  \\\n",
       "1             0            0             0             0              0   \n",
       "2             0            0             0             0              0   \n",
       "\n",
       "   Model_touran  Model_transit  Model_transporter  Model_tt  Model_tucson  \\\n",
       "1             0              0                  0         0             0   \n",
       "2             0              0                  0         0             0   \n",
       "\n",
       "   Model_twingo  Model_up  Model_v40  Model_v50  Model_v60  Model_v70  \\\n",
       "1             0         0          0          0          0          0   \n",
       "2             0         0          0          0          0          0   \n",
       "\n",
       "   Model_v_klasse  Model_vectra  Model_verso  Model_viano  Model_vito  \\\n",
       "1               0             0            0            0           0   \n",
       "2               0             0            0            0           0   \n",
       "\n",
       "   Model_vivaro  Model_voyager  Model_wrangler  Model_x_reihe  Model_x_trail  \\\n",
       "1             0              0               0              0              0   \n",
       "2             0              0               0              0              0   \n",
       "\n",
       "   Model_x_type  Model_xc_reihe  Model_yaris  Model_yeti  Model_ypsilon  \\\n",
       "1             0               0            0           0              0   \n",
       "2             0               0            0           0              0   \n",
       "\n",
       "   Model_z_reihe  Model_zafira  FuelType_cng  FuelType_electric  \\\n",
       "1              0             0             0                  0   \n",
       "2              0             0             0                  0   \n",
       "\n",
       "   FuelType_gasoline  FuelType_hybrid  FuelType_lpg  FuelType_other  \\\n",
       "1                  1                0             0               0   \n",
       "2                  1                0             0               0   \n",
       "\n",
       "   FuelType_petrol  Brand_alfa_romeo  Brand_audi  Brand_bmw  Brand_chevrolet  \\\n",
       "1                0                 0           1          0                0   \n",
       "2                0                 0           0          0                0   \n",
       "\n",
       "   Brand_chrysler  Brand_citroen  Brand_dacia  Brand_daewoo  Brand_daihatsu  \\\n",
       "1               0              0            0             0               0   \n",
       "2               0              0            0             0               0   \n",
       "\n",
       "   Brand_fiat  Brand_ford  Brand_honda  Brand_hyundai  Brand_jaguar  \\\n",
       "1           0           0            0              0             0   \n",
       "2           0           0            0              0             0   \n",
       "\n",
       "   Brand_jeep  Brand_kia  Brand_lada  Brand_lancia  Brand_land_rover  \\\n",
       "1           0          0           0             0                 0   \n",
       "2           1          0           0             0                 0   \n",
       "\n",
       "   Brand_mazda  Brand_mercedes_benz  Brand_mini  Brand_mitsubishi  \\\n",
       "1            0                    0           0                 0   \n",
       "2            0                    0           0                 0   \n",
       "\n",
       "   Brand_nissan  Brand_opel  Brand_peugeot  Brand_porsche  Brand_renault  \\\n",
       "1             0           0              0              0              0   \n",
       "2             0           0              0              0              0   \n",
       "\n",
       "   Brand_rover  Brand_saab  Brand_seat  Brand_skoda  Brand_smart  \\\n",
       "1            0           0           0            0            0   \n",
       "2            0           0           0            0            0   \n",
       "\n",
       "   Brand_sonstige_autos  Brand_subaru  Brand_suzuki  Brand_toyota  \\\n",
       "1                     0             0             0             0   \n",
       "2                     0             0             0             0   \n",
       "\n",
       "   Brand_trabant  Brand_volkswagen  Brand_volvo  NotRepaired_no  \\\n",
       "1              0                 0            0               0   \n",
       "2              0                 0            0               0   \n",
       "\n",
       "   NotRepaired_yes  \n",
       "1                1  \n",
       "2                0  "
      ]
     },
     "execution_count": 35,
     "metadata": {},
     "output_type": "execute_result"
    }
   ],
   "source": [
    "data_ohe.head(2)"
   ]
  },
  {
   "cell_type": "code",
   "execution_count": 36,
   "metadata": {},
   "outputs": [],
   "source": [
    "#Заведем словарь с числовыми признаками\n",
    "numeric = ['RegistrationYear', 'Power', 'Kilometer']"
   ]
  },
  {
   "cell_type": "code",
   "execution_count": null,
   "metadata": {},
   "outputs": [],
   "source": [
    "cat_features = ['VehicleType', 'Gearbox', 'Model', 'FuelType', 'Brand', 'NotRepaired']"
   ]
  },
  {
   "cell_type": "code",
   "execution_count": 37,
   "metadata": {},
   "outputs": [
    {
     "data": {
      "text/html": [
       "<div>\n",
       "<style scoped>\n",
       "    .dataframe tbody tr th:only-of-type {\n",
       "        vertical-align: middle;\n",
       "    }\n",
       "\n",
       "    .dataframe tbody tr th {\n",
       "        vertical-align: top;\n",
       "    }\n",
       "\n",
       "    .dataframe thead th {\n",
       "        text-align: right;\n",
       "    }\n",
       "</style>\n",
       "<table border=\"1\" class=\"dataframe\">\n",
       "  <thead>\n",
       "    <tr style=\"text-align: right;\">\n",
       "      <th></th>\n",
       "      <th>RegistrationYear</th>\n",
       "      <th>Power</th>\n",
       "      <th>Kilometer</th>\n",
       "      <th>VehicleType_bus</th>\n",
       "      <th>VehicleType_convertible</th>\n",
       "      <th>VehicleType_coupe</th>\n",
       "      <th>VehicleType_other</th>\n",
       "      <th>VehicleType_sedan</th>\n",
       "      <th>VehicleType_small</th>\n",
       "      <th>VehicleType_suv</th>\n",
       "      <th>VehicleType_wagon</th>\n",
       "      <th>Gearbox_auto</th>\n",
       "      <th>Gearbox_manual</th>\n",
       "      <th>Model_100</th>\n",
       "      <th>Model_145</th>\n",
       "      <th>Model_147</th>\n",
       "      <th>Model_156</th>\n",
       "      <th>Model_159</th>\n",
       "      <th>Model_1_reihe</th>\n",
       "      <th>Model_1er</th>\n",
       "      <th>Model_200</th>\n",
       "      <th>Model_2_reihe</th>\n",
       "      <th>Model_300c</th>\n",
       "      <th>Model_3_reihe</th>\n",
       "      <th>Model_3er</th>\n",
       "      <th>Model_4_reihe</th>\n",
       "      <th>Model_500</th>\n",
       "      <th>Model_5_reihe</th>\n",
       "      <th>Model_5er</th>\n",
       "      <th>Model_601</th>\n",
       "      <th>Model_6_reihe</th>\n",
       "      <th>Model_6er</th>\n",
       "      <th>Model_7er</th>\n",
       "      <th>Model_80</th>\n",
       "      <th>Model_850</th>\n",
       "      <th>Model_90</th>\n",
       "      <th>Model_900</th>\n",
       "      <th>Model_9000</th>\n",
       "      <th>Model_911</th>\n",
       "      <th>Model_a1</th>\n",
       "      <th>Model_a2</th>\n",
       "      <th>Model_a3</th>\n",
       "      <th>Model_a4</th>\n",
       "      <th>Model_a5</th>\n",
       "      <th>Model_a6</th>\n",
       "      <th>Model_a8</th>\n",
       "      <th>Model_a_klasse</th>\n",
       "      <th>Model_accord</th>\n",
       "      <th>Model_agila</th>\n",
       "      <th>Model_alhambra</th>\n",
       "      <th>Model_almera</th>\n",
       "      <th>Model_altea</th>\n",
       "      <th>Model_amarok</th>\n",
       "      <th>Model_antara</th>\n",
       "      <th>Model_arosa</th>\n",
       "      <th>Model_astra</th>\n",
       "      <th>Model_auris</th>\n",
       "      <th>Model_avensis</th>\n",
       "      <th>Model_aveo</th>\n",
       "      <th>Model_aygo</th>\n",
       "      <th>Model_b_klasse</th>\n",
       "      <th>Model_b_max</th>\n",
       "      <th>Model_beetle</th>\n",
       "      <th>Model_berlingo</th>\n",
       "      <th>Model_bora</th>\n",
       "      <th>Model_boxster</th>\n",
       "      <th>Model_bravo</th>\n",
       "      <th>Model_c1</th>\n",
       "      <th>Model_c2</th>\n",
       "      <th>Model_c3</th>\n",
       "      <th>Model_c4</th>\n",
       "      <th>Model_c5</th>\n",
       "      <th>Model_c_klasse</th>\n",
       "      <th>Model_c_max</th>\n",
       "      <th>Model_c_reihe</th>\n",
       "      <th>Model_caddy</th>\n",
       "      <th>Model_calibra</th>\n",
       "      <th>Model_captiva</th>\n",
       "      <th>Model_carisma</th>\n",
       "      <th>Model_carnival</th>\n",
       "      <th>Model_cayenne</th>\n",
       "      <th>Model_cc</th>\n",
       "      <th>Model_ceed</th>\n",
       "      <th>Model_charade</th>\n",
       "      <th>Model_cherokee</th>\n",
       "      <th>Model_citigo</th>\n",
       "      <th>Model_civic</th>\n",
       "      <th>Model_cl</th>\n",
       "      <th>Model_clio</th>\n",
       "      <th>Model_clk</th>\n",
       "      <th>Model_clubman</th>\n",
       "      <th>Model_colt</th>\n",
       "      <th>Model_combo</th>\n",
       "      <th>Model_cooper</th>\n",
       "      <th>Model_cordoba</th>\n",
       "      <th>Model_corolla</th>\n",
       "      <th>Model_corsa</th>\n",
       "      <th>Model_cr_reihe</th>\n",
       "      <th>Model_croma</th>\n",
       "      <th>Model_crossfire</th>\n",
       "      <th>Model_cuore</th>\n",
       "      <th>Model_cx_reihe</th>\n",
       "      <th>Model_defender</th>\n",
       "      <th>Model_delta</th>\n",
       "      <th>Model_discovery</th>\n",
       "      <th>Model_doblo</th>\n",
       "      <th>Model_ducato</th>\n",
       "      <th>Model_duster</th>\n",
       "      <th>Model_e_klasse</th>\n",
       "      <th>Model_elefantino</th>\n",
       "      <th>Model_eos</th>\n",
       "      <th>Model_escort</th>\n",
       "      <th>Model_espace</th>\n",
       "      <th>Model_exeo</th>\n",
       "      <th>Model_fabia</th>\n",
       "      <th>Model_fiesta</th>\n",
       "      <th>Model_focus</th>\n",
       "      <th>Model_forester</th>\n",
       "      <th>Model_forfour</th>\n",
       "      <th>Model_fortwo</th>\n",
       "      <th>Model_fox</th>\n",
       "      <th>Model_freelander</th>\n",
       "      <th>Model_fusion</th>\n",
       "      <th>Model_g_klasse</th>\n",
       "      <th>Model_galant</th>\n",
       "      <th>Model_galaxy</th>\n",
       "      <th>Model_getz</th>\n",
       "      <th>Model_gl</th>\n",
       "      <th>Model_glk</th>\n",
       "      <th>Model_golf</th>\n",
       "      <th>Model_grand</th>\n",
       "      <th>Model_i3</th>\n",
       "      <th>Model_i_reihe</th>\n",
       "      <th>Model_ibiza</th>\n",
       "      <th>Model_impreza</th>\n",
       "      <th>Model_insignia</th>\n",
       "      <th>Model_jazz</th>\n",
       "      <th>Model_jetta</th>\n",
       "      <th>Model_jimny</th>\n",
       "      <th>Model_juke</th>\n",
       "      <th>Model_justy</th>\n",
       "      <th>Model_ka</th>\n",
       "      <th>Model_kadett</th>\n",
       "      <th>Model_kaefer</th>\n",
       "      <th>Model_kalina</th>\n",
       "      <th>Model_kalos</th>\n",
       "      <th>Model_kangoo</th>\n",
       "      <th>Model_kappa</th>\n",
       "      <th>Model_kuga</th>\n",
       "      <th>Model_laguna</th>\n",
       "      <th>Model_lancer</th>\n",
       "      <th>Model_lanos</th>\n",
       "      <th>Model_legacy</th>\n",
       "      <th>Model_leon</th>\n",
       "      <th>Model_lodgy</th>\n",
       "      <th>Model_logan</th>\n",
       "      <th>Model_lupo</th>\n",
       "      <th>Model_lybra</th>\n",
       "      <th>Model_m_klasse</th>\n",
       "      <th>Model_m_reihe</th>\n",
       "      <th>Model_materia</th>\n",
       "      <th>Model_matiz</th>\n",
       "      <th>Model_megane</th>\n",
       "      <th>Model_meriva</th>\n",
       "      <th>Model_micra</th>\n",
       "      <th>Model_mii</th>\n",
       "      <th>Model_modus</th>\n",
       "      <th>Model_mondeo</th>\n",
       "      <th>Model_move</th>\n",
       "      <th>Model_musa</th>\n",
       "      <th>Model_mustang</th>\n",
       "      <th>Model_mx_reihe</th>\n",
       "      <th>Model_navara</th>\n",
       "      <th>Model_niva</th>\n",
       "      <th>Model_note</th>\n",
       "      <th>Model_nubira</th>\n",
       "      <th>Model_octavia</th>\n",
       "      <th>Model_omega</th>\n",
       "      <th>Model_one</th>\n",
       "      <th>Model_other</th>\n",
       "      <th>Model_outlander</th>\n",
       "      <th>Model_pajero</th>\n",
       "      <th>Model_panda</th>\n",
       "      <th>Model_passat</th>\n",
       "      <th>Model_phaeton</th>\n",
       "      <th>Model_picanto</th>\n",
       "      <th>Model_polo</th>\n",
       "      <th>Model_primera</th>\n",
       "      <th>Model_ptcruiser</th>\n",
       "      <th>Model_punto</th>\n",
       "      <th>Model_q3</th>\n",
       "      <th>Model_q5</th>\n",
       "      <th>Model_q7</th>\n",
       "      <th>Model_qashqai</th>\n",
       "      <th>Model_r19</th>\n",
       "      <th>Model_range_rover</th>\n",
       "      <th>Model_range_rover_evoque</th>\n",
       "      <th>Model_range_rover_sport</th>\n",
       "      <th>Model_rangerover</th>\n",
       "      <th>Model_rav</th>\n",
       "      <th>Model_rio</th>\n",
       "      <th>Model_roadster</th>\n",
       "      <th>Model_roomster</th>\n",
       "      <th>Model_rx_reihe</th>\n",
       "      <th>Model_s60</th>\n",
       "      <th>Model_s_klasse</th>\n",
       "      <th>Model_s_max</th>\n",
       "      <th>Model_s_type</th>\n",
       "      <th>Model_samara</th>\n",
       "      <th>Model_sandero</th>\n",
       "      <th>Model_santa</th>\n",
       "      <th>Model_scenic</th>\n",
       "      <th>Model_scirocco</th>\n",
       "      <th>Model_seicento</th>\n",
       "      <th>Model_serie_2</th>\n",
       "      <th>Model_serie_3</th>\n",
       "      <th>Model_sharan</th>\n",
       "      <th>Model_signum</th>\n",
       "      <th>Model_sirion</th>\n",
       "      <th>Model_sl</th>\n",
       "      <th>Model_slk</th>\n",
       "      <th>Model_sorento</th>\n",
       "      <th>Model_spark</th>\n",
       "      <th>Model_spider</th>\n",
       "      <th>Model_sportage</th>\n",
       "      <th>Model_sprinter</th>\n",
       "      <th>Model_stilo</th>\n",
       "      <th>Model_superb</th>\n",
       "      <th>Model_swift</th>\n",
       "      <th>Model_terios</th>\n",
       "      <th>Model_tigra</th>\n",
       "      <th>Model_tiguan</th>\n",
       "      <th>Model_toledo</th>\n",
       "      <th>Model_touareg</th>\n",
       "      <th>Model_touran</th>\n",
       "      <th>Model_transit</th>\n",
       "      <th>Model_transporter</th>\n",
       "      <th>Model_tt</th>\n",
       "      <th>Model_tucson</th>\n",
       "      <th>Model_twingo</th>\n",
       "      <th>Model_up</th>\n",
       "      <th>Model_v40</th>\n",
       "      <th>Model_v50</th>\n",
       "      <th>Model_v60</th>\n",
       "      <th>Model_v70</th>\n",
       "      <th>Model_v_klasse</th>\n",
       "      <th>Model_vectra</th>\n",
       "      <th>Model_verso</th>\n",
       "      <th>Model_viano</th>\n",
       "      <th>Model_vito</th>\n",
       "      <th>Model_vivaro</th>\n",
       "      <th>Model_voyager</th>\n",
       "      <th>Model_wrangler</th>\n",
       "      <th>Model_x_reihe</th>\n",
       "      <th>Model_x_trail</th>\n",
       "      <th>Model_x_type</th>\n",
       "      <th>Model_xc_reihe</th>\n",
       "      <th>Model_yaris</th>\n",
       "      <th>Model_yeti</th>\n",
       "      <th>Model_ypsilon</th>\n",
       "      <th>Model_z_reihe</th>\n",
       "      <th>Model_zafira</th>\n",
       "      <th>FuelType_cng</th>\n",
       "      <th>FuelType_electric</th>\n",
       "      <th>FuelType_gasoline</th>\n",
       "      <th>FuelType_hybrid</th>\n",
       "      <th>FuelType_lpg</th>\n",
       "      <th>FuelType_other</th>\n",
       "      <th>FuelType_petrol</th>\n",
       "      <th>Brand_alfa_romeo</th>\n",
       "      <th>Brand_audi</th>\n",
       "      <th>Brand_bmw</th>\n",
       "      <th>Brand_chevrolet</th>\n",
       "      <th>Brand_chrysler</th>\n",
       "      <th>Brand_citroen</th>\n",
       "      <th>Brand_dacia</th>\n",
       "      <th>Brand_daewoo</th>\n",
       "      <th>Brand_daihatsu</th>\n",
       "      <th>Brand_fiat</th>\n",
       "      <th>Brand_ford</th>\n",
       "      <th>Brand_honda</th>\n",
       "      <th>Brand_hyundai</th>\n",
       "      <th>Brand_jaguar</th>\n",
       "      <th>Brand_jeep</th>\n",
       "      <th>Brand_kia</th>\n",
       "      <th>Brand_lada</th>\n",
       "      <th>Brand_lancia</th>\n",
       "      <th>Brand_land_rover</th>\n",
       "      <th>Brand_mazda</th>\n",
       "      <th>Brand_mercedes_benz</th>\n",
       "      <th>Brand_mini</th>\n",
       "      <th>Brand_mitsubishi</th>\n",
       "      <th>Brand_nissan</th>\n",
       "      <th>Brand_opel</th>\n",
       "      <th>Brand_peugeot</th>\n",
       "      <th>Brand_porsche</th>\n",
       "      <th>Brand_renault</th>\n",
       "      <th>Brand_rover</th>\n",
       "      <th>Brand_saab</th>\n",
       "      <th>Brand_seat</th>\n",
       "      <th>Brand_skoda</th>\n",
       "      <th>Brand_smart</th>\n",
       "      <th>Brand_sonstige_autos</th>\n",
       "      <th>Brand_subaru</th>\n",
       "      <th>Brand_suzuki</th>\n",
       "      <th>Brand_toyota</th>\n",
       "      <th>Brand_trabant</th>\n",
       "      <th>Brand_volkswagen</th>\n",
       "      <th>Brand_volvo</th>\n",
       "      <th>NotRepaired_no</th>\n",
       "      <th>NotRepaired_yes</th>\n",
       "    </tr>\n",
       "  </thead>\n",
       "  <tbody>\n",
       "    <tr>\n",
       "      <td>139827</td>\n",
       "      <td>-0.124005</td>\n",
       "      <td>-0.171967</td>\n",
       "      <td>-0.962734</td>\n",
       "      <td>0</td>\n",
       "      <td>0</td>\n",
       "      <td>0</td>\n",
       "      <td>0</td>\n",
       "      <td>1</td>\n",
       "      <td>0</td>\n",
       "      <td>0</td>\n",
       "      <td>0</td>\n",
       "      <td>0</td>\n",
       "      <td>1</td>\n",
       "      <td>0</td>\n",
       "      <td>0</td>\n",
       "      <td>0</td>\n",
       "      <td>0</td>\n",
       "      <td>0</td>\n",
       "      <td>0</td>\n",
       "      <td>0</td>\n",
       "      <td>0</td>\n",
       "      <td>0</td>\n",
       "      <td>0</td>\n",
       "      <td>0</td>\n",
       "      <td>0</td>\n",
       "      <td>0</td>\n",
       "      <td>0</td>\n",
       "      <td>0</td>\n",
       "      <td>0</td>\n",
       "      <td>0</td>\n",
       "      <td>0</td>\n",
       "      <td>0</td>\n",
       "      <td>0</td>\n",
       "      <td>0</td>\n",
       "      <td>0</td>\n",
       "      <td>0</td>\n",
       "      <td>0</td>\n",
       "      <td>0</td>\n",
       "      <td>0</td>\n",
       "      <td>0</td>\n",
       "      <td>0</td>\n",
       "      <td>0</td>\n",
       "      <td>0</td>\n",
       "      <td>0</td>\n",
       "      <td>0</td>\n",
       "      <td>0</td>\n",
       "      <td>0</td>\n",
       "      <td>0</td>\n",
       "      <td>0</td>\n",
       "      <td>0</td>\n",
       "      <td>0</td>\n",
       "      <td>0</td>\n",
       "      <td>0</td>\n",
       "      <td>0</td>\n",
       "      <td>0</td>\n",
       "      <td>1</td>\n",
       "      <td>0</td>\n",
       "      <td>0</td>\n",
       "      <td>0</td>\n",
       "      <td>0</td>\n",
       "      <td>0</td>\n",
       "      <td>0</td>\n",
       "      <td>0</td>\n",
       "      <td>0</td>\n",
       "      <td>0</td>\n",
       "      <td>0</td>\n",
       "      <td>0</td>\n",
       "      <td>0</td>\n",
       "      <td>0</td>\n",
       "      <td>0</td>\n",
       "      <td>0</td>\n",
       "      <td>0</td>\n",
       "      <td>0</td>\n",
       "      <td>0</td>\n",
       "      <td>0</td>\n",
       "      <td>0</td>\n",
       "      <td>0</td>\n",
       "      <td>0</td>\n",
       "      <td>0</td>\n",
       "      <td>0</td>\n",
       "      <td>0</td>\n",
       "      <td>0</td>\n",
       "      <td>0</td>\n",
       "      <td>0</td>\n",
       "      <td>0</td>\n",
       "      <td>0</td>\n",
       "      <td>0</td>\n",
       "      <td>0</td>\n",
       "      <td>0</td>\n",
       "      <td>0</td>\n",
       "      <td>0</td>\n",
       "      <td>0</td>\n",
       "      <td>0</td>\n",
       "      <td>0</td>\n",
       "      <td>0</td>\n",
       "      <td>0</td>\n",
       "      <td>0</td>\n",
       "      <td>0</td>\n",
       "      <td>0</td>\n",
       "      <td>0</td>\n",
       "      <td>0</td>\n",
       "      <td>0</td>\n",
       "      <td>0</td>\n",
       "      <td>0</td>\n",
       "      <td>0</td>\n",
       "      <td>0</td>\n",
       "      <td>0</td>\n",
       "      <td>0</td>\n",
       "      <td>0</td>\n",
       "      <td>0</td>\n",
       "      <td>0</td>\n",
       "      <td>0</td>\n",
       "      <td>0</td>\n",
       "      <td>0</td>\n",
       "      <td>0</td>\n",
       "      <td>0</td>\n",
       "      <td>0</td>\n",
       "      <td>0</td>\n",
       "      <td>0</td>\n",
       "      <td>0</td>\n",
       "      <td>0</td>\n",
       "      <td>0</td>\n",
       "      <td>0</td>\n",
       "      <td>0</td>\n",
       "      <td>0</td>\n",
       "      <td>0</td>\n",
       "      <td>0</td>\n",
       "      <td>0</td>\n",
       "      <td>0</td>\n",
       "      <td>0</td>\n",
       "      <td>0</td>\n",
       "      <td>0</td>\n",
       "      <td>0</td>\n",
       "      <td>0</td>\n",
       "      <td>0</td>\n",
       "      <td>0</td>\n",
       "      <td>0</td>\n",
       "      <td>0</td>\n",
       "      <td>0</td>\n",
       "      <td>0</td>\n",
       "      <td>0</td>\n",
       "      <td>0</td>\n",
       "      <td>0</td>\n",
       "      <td>0</td>\n",
       "      <td>0</td>\n",
       "      <td>0</td>\n",
       "      <td>0</td>\n",
       "      <td>0</td>\n",
       "      <td>0</td>\n",
       "      <td>0</td>\n",
       "      <td>0</td>\n",
       "      <td>0</td>\n",
       "      <td>0</td>\n",
       "      <td>0</td>\n",
       "      <td>0</td>\n",
       "      <td>0</td>\n",
       "      <td>0</td>\n",
       "      <td>0</td>\n",
       "      <td>0</td>\n",
       "      <td>0</td>\n",
       "      <td>0</td>\n",
       "      <td>0</td>\n",
       "      <td>0</td>\n",
       "      <td>0</td>\n",
       "      <td>0</td>\n",
       "      <td>0</td>\n",
       "      <td>0</td>\n",
       "      <td>0</td>\n",
       "      <td>0</td>\n",
       "      <td>0</td>\n",
       "      <td>0</td>\n",
       "      <td>0</td>\n",
       "      <td>0</td>\n",
       "      <td>0</td>\n",
       "      <td>0</td>\n",
       "      <td>0</td>\n",
       "      <td>0</td>\n",
       "      <td>0</td>\n",
       "      <td>0</td>\n",
       "      <td>0</td>\n",
       "      <td>0</td>\n",
       "      <td>0</td>\n",
       "      <td>0</td>\n",
       "      <td>0</td>\n",
       "      <td>0</td>\n",
       "      <td>0</td>\n",
       "      <td>0</td>\n",
       "      <td>0</td>\n",
       "      <td>0</td>\n",
       "      <td>0</td>\n",
       "      <td>0</td>\n",
       "      <td>0</td>\n",
       "      <td>0</td>\n",
       "      <td>0</td>\n",
       "      <td>0</td>\n",
       "      <td>0</td>\n",
       "      <td>0</td>\n",
       "      <td>0</td>\n",
       "      <td>0</td>\n",
       "      <td>0</td>\n",
       "      <td>0</td>\n",
       "      <td>0</td>\n",
       "      <td>0</td>\n",
       "      <td>0</td>\n",
       "      <td>0</td>\n",
       "      <td>0</td>\n",
       "      <td>0</td>\n",
       "      <td>0</td>\n",
       "      <td>0</td>\n",
       "      <td>0</td>\n",
       "      <td>0</td>\n",
       "      <td>0</td>\n",
       "      <td>0</td>\n",
       "      <td>0</td>\n",
       "      <td>0</td>\n",
       "      <td>0</td>\n",
       "      <td>0</td>\n",
       "      <td>0</td>\n",
       "      <td>0</td>\n",
       "      <td>0</td>\n",
       "      <td>0</td>\n",
       "      <td>0</td>\n",
       "      <td>0</td>\n",
       "      <td>0</td>\n",
       "      <td>0</td>\n",
       "      <td>0</td>\n",
       "      <td>0</td>\n",
       "      <td>0</td>\n",
       "      <td>0</td>\n",
       "      <td>0</td>\n",
       "      <td>0</td>\n",
       "      <td>0</td>\n",
       "      <td>0</td>\n",
       "      <td>0</td>\n",
       "      <td>0</td>\n",
       "      <td>0</td>\n",
       "      <td>0</td>\n",
       "      <td>0</td>\n",
       "      <td>0</td>\n",
       "      <td>0</td>\n",
       "      <td>0</td>\n",
       "      <td>0</td>\n",
       "      <td>0</td>\n",
       "      <td>0</td>\n",
       "      <td>0</td>\n",
       "      <td>0</td>\n",
       "      <td>0</td>\n",
       "      <td>0</td>\n",
       "      <td>0</td>\n",
       "      <td>0</td>\n",
       "      <td>0</td>\n",
       "      <td>0</td>\n",
       "      <td>0</td>\n",
       "      <td>0</td>\n",
       "      <td>0</td>\n",
       "      <td>0</td>\n",
       "      <td>0</td>\n",
       "      <td>0</td>\n",
       "      <td>0</td>\n",
       "      <td>0</td>\n",
       "      <td>0</td>\n",
       "      <td>0</td>\n",
       "      <td>0</td>\n",
       "      <td>0</td>\n",
       "      <td>0</td>\n",
       "      <td>0</td>\n",
       "      <td>0</td>\n",
       "      <td>0</td>\n",
       "      <td>1</td>\n",
       "      <td>0</td>\n",
       "      <td>0</td>\n",
       "      <td>0</td>\n",
       "      <td>0</td>\n",
       "      <td>0</td>\n",
       "      <td>0</td>\n",
       "      <td>0</td>\n",
       "      <td>0</td>\n",
       "      <td>0</td>\n",
       "      <td>0</td>\n",
       "      <td>0</td>\n",
       "      <td>0</td>\n",
       "      <td>0</td>\n",
       "      <td>0</td>\n",
       "      <td>0</td>\n",
       "      <td>0</td>\n",
       "      <td>0</td>\n",
       "      <td>0</td>\n",
       "      <td>0</td>\n",
       "      <td>0</td>\n",
       "      <td>0</td>\n",
       "      <td>0</td>\n",
       "      <td>0</td>\n",
       "      <td>0</td>\n",
       "      <td>1</td>\n",
       "      <td>0</td>\n",
       "      <td>0</td>\n",
       "      <td>0</td>\n",
       "      <td>0</td>\n",
       "      <td>0</td>\n",
       "      <td>0</td>\n",
       "      <td>0</td>\n",
       "      <td>0</td>\n",
       "      <td>0</td>\n",
       "      <td>0</td>\n",
       "      <td>0</td>\n",
       "      <td>0</td>\n",
       "      <td>0</td>\n",
       "      <td>0</td>\n",
       "      <td>0</td>\n",
       "      <td>1</td>\n",
       "      <td>0</td>\n",
       "    </tr>\n",
       "    <tr>\n",
       "      <td>103241</td>\n",
       "      <td>0.071749</td>\n",
       "      <td>-0.029780</td>\n",
       "      <td>-2.257415</td>\n",
       "      <td>0</td>\n",
       "      <td>0</td>\n",
       "      <td>0</td>\n",
       "      <td>0</td>\n",
       "      <td>0</td>\n",
       "      <td>1</td>\n",
       "      <td>0</td>\n",
       "      <td>0</td>\n",
       "      <td>0</td>\n",
       "      <td>1</td>\n",
       "      <td>0</td>\n",
       "      <td>0</td>\n",
       "      <td>0</td>\n",
       "      <td>0</td>\n",
       "      <td>0</td>\n",
       "      <td>0</td>\n",
       "      <td>0</td>\n",
       "      <td>0</td>\n",
       "      <td>0</td>\n",
       "      <td>0</td>\n",
       "      <td>0</td>\n",
       "      <td>0</td>\n",
       "      <td>0</td>\n",
       "      <td>0</td>\n",
       "      <td>0</td>\n",
       "      <td>0</td>\n",
       "      <td>0</td>\n",
       "      <td>0</td>\n",
       "      <td>0</td>\n",
       "      <td>0</td>\n",
       "      <td>0</td>\n",
       "      <td>0</td>\n",
       "      <td>0</td>\n",
       "      <td>0</td>\n",
       "      <td>0</td>\n",
       "      <td>0</td>\n",
       "      <td>0</td>\n",
       "      <td>0</td>\n",
       "      <td>0</td>\n",
       "      <td>0</td>\n",
       "      <td>0</td>\n",
       "      <td>0</td>\n",
       "      <td>0</td>\n",
       "      <td>0</td>\n",
       "      <td>0</td>\n",
       "      <td>0</td>\n",
       "      <td>0</td>\n",
       "      <td>0</td>\n",
       "      <td>0</td>\n",
       "      <td>0</td>\n",
       "      <td>0</td>\n",
       "      <td>0</td>\n",
       "      <td>0</td>\n",
       "      <td>0</td>\n",
       "      <td>0</td>\n",
       "      <td>0</td>\n",
       "      <td>0</td>\n",
       "      <td>0</td>\n",
       "      <td>0</td>\n",
       "      <td>0</td>\n",
       "      <td>0</td>\n",
       "      <td>0</td>\n",
       "      <td>0</td>\n",
       "      <td>0</td>\n",
       "      <td>0</td>\n",
       "      <td>0</td>\n",
       "      <td>0</td>\n",
       "      <td>0</td>\n",
       "      <td>0</td>\n",
       "      <td>0</td>\n",
       "      <td>0</td>\n",
       "      <td>0</td>\n",
       "      <td>0</td>\n",
       "      <td>0</td>\n",
       "      <td>0</td>\n",
       "      <td>0</td>\n",
       "      <td>0</td>\n",
       "      <td>0</td>\n",
       "      <td>0</td>\n",
       "      <td>0</td>\n",
       "      <td>0</td>\n",
       "      <td>0</td>\n",
       "      <td>0</td>\n",
       "      <td>0</td>\n",
       "      <td>0</td>\n",
       "      <td>0</td>\n",
       "      <td>0</td>\n",
       "      <td>0</td>\n",
       "      <td>0</td>\n",
       "      <td>0</td>\n",
       "      <td>0</td>\n",
       "      <td>0</td>\n",
       "      <td>0</td>\n",
       "      <td>0</td>\n",
       "      <td>0</td>\n",
       "      <td>0</td>\n",
       "      <td>0</td>\n",
       "      <td>0</td>\n",
       "      <td>0</td>\n",
       "      <td>0</td>\n",
       "      <td>0</td>\n",
       "      <td>0</td>\n",
       "      <td>0</td>\n",
       "      <td>0</td>\n",
       "      <td>0</td>\n",
       "      <td>0</td>\n",
       "      <td>0</td>\n",
       "      <td>0</td>\n",
       "      <td>0</td>\n",
       "      <td>0</td>\n",
       "      <td>0</td>\n",
       "      <td>0</td>\n",
       "      <td>0</td>\n",
       "      <td>0</td>\n",
       "      <td>0</td>\n",
       "      <td>0</td>\n",
       "      <td>0</td>\n",
       "      <td>0</td>\n",
       "      <td>0</td>\n",
       "      <td>0</td>\n",
       "      <td>0</td>\n",
       "      <td>0</td>\n",
       "      <td>0</td>\n",
       "      <td>0</td>\n",
       "      <td>0</td>\n",
       "      <td>0</td>\n",
       "      <td>0</td>\n",
       "      <td>0</td>\n",
       "      <td>0</td>\n",
       "      <td>0</td>\n",
       "      <td>0</td>\n",
       "      <td>0</td>\n",
       "      <td>0</td>\n",
       "      <td>0</td>\n",
       "      <td>0</td>\n",
       "      <td>0</td>\n",
       "      <td>0</td>\n",
       "      <td>0</td>\n",
       "      <td>0</td>\n",
       "      <td>0</td>\n",
       "      <td>0</td>\n",
       "      <td>0</td>\n",
       "      <td>0</td>\n",
       "      <td>0</td>\n",
       "      <td>0</td>\n",
       "      <td>0</td>\n",
       "      <td>0</td>\n",
       "      <td>0</td>\n",
       "      <td>0</td>\n",
       "      <td>0</td>\n",
       "      <td>0</td>\n",
       "      <td>0</td>\n",
       "      <td>0</td>\n",
       "      <td>0</td>\n",
       "      <td>0</td>\n",
       "      <td>0</td>\n",
       "      <td>0</td>\n",
       "      <td>0</td>\n",
       "      <td>0</td>\n",
       "      <td>0</td>\n",
       "      <td>0</td>\n",
       "      <td>0</td>\n",
       "      <td>0</td>\n",
       "      <td>0</td>\n",
       "      <td>0</td>\n",
       "      <td>0</td>\n",
       "      <td>0</td>\n",
       "      <td>0</td>\n",
       "      <td>0</td>\n",
       "      <td>0</td>\n",
       "      <td>0</td>\n",
       "      <td>0</td>\n",
       "      <td>0</td>\n",
       "      <td>0</td>\n",
       "      <td>0</td>\n",
       "      <td>0</td>\n",
       "      <td>0</td>\n",
       "      <td>0</td>\n",
       "      <td>0</td>\n",
       "      <td>0</td>\n",
       "      <td>0</td>\n",
       "      <td>0</td>\n",
       "      <td>0</td>\n",
       "      <td>0</td>\n",
       "      <td>0</td>\n",
       "      <td>0</td>\n",
       "      <td>1</td>\n",
       "      <td>0</td>\n",
       "      <td>0</td>\n",
       "      <td>0</td>\n",
       "      <td>0</td>\n",
       "      <td>0</td>\n",
       "      <td>0</td>\n",
       "      <td>0</td>\n",
       "      <td>0</td>\n",
       "      <td>0</td>\n",
       "      <td>0</td>\n",
       "      <td>0</td>\n",
       "      <td>0</td>\n",
       "      <td>0</td>\n",
       "      <td>0</td>\n",
       "      <td>0</td>\n",
       "      <td>0</td>\n",
       "      <td>0</td>\n",
       "      <td>0</td>\n",
       "      <td>0</td>\n",
       "      <td>0</td>\n",
       "      <td>0</td>\n",
       "      <td>0</td>\n",
       "      <td>0</td>\n",
       "      <td>0</td>\n",
       "      <td>0</td>\n",
       "      <td>0</td>\n",
       "      <td>0</td>\n",
       "      <td>0</td>\n",
       "      <td>0</td>\n",
       "      <td>0</td>\n",
       "      <td>0</td>\n",
       "      <td>0</td>\n",
       "      <td>0</td>\n",
       "      <td>0</td>\n",
       "      <td>0</td>\n",
       "      <td>0</td>\n",
       "      <td>0</td>\n",
       "      <td>0</td>\n",
       "      <td>0</td>\n",
       "      <td>0</td>\n",
       "      <td>0</td>\n",
       "      <td>0</td>\n",
       "      <td>0</td>\n",
       "      <td>0</td>\n",
       "      <td>0</td>\n",
       "      <td>0</td>\n",
       "      <td>0</td>\n",
       "      <td>0</td>\n",
       "      <td>0</td>\n",
       "      <td>0</td>\n",
       "      <td>0</td>\n",
       "      <td>0</td>\n",
       "      <td>0</td>\n",
       "      <td>0</td>\n",
       "      <td>0</td>\n",
       "      <td>0</td>\n",
       "      <td>0</td>\n",
       "      <td>0</td>\n",
       "      <td>0</td>\n",
       "      <td>0</td>\n",
       "      <td>0</td>\n",
       "      <td>0</td>\n",
       "      <td>0</td>\n",
       "      <td>0</td>\n",
       "      <td>0</td>\n",
       "      <td>0</td>\n",
       "      <td>0</td>\n",
       "      <td>0</td>\n",
       "      <td>0</td>\n",
       "      <td>0</td>\n",
       "      <td>0</td>\n",
       "      <td>0</td>\n",
       "      <td>0</td>\n",
       "      <td>0</td>\n",
       "      <td>0</td>\n",
       "      <td>0</td>\n",
       "      <td>0</td>\n",
       "      <td>0</td>\n",
       "      <td>1</td>\n",
       "      <td>0</td>\n",
       "      <td>0</td>\n",
       "      <td>0</td>\n",
       "      <td>0</td>\n",
       "      <td>0</td>\n",
       "      <td>0</td>\n",
       "      <td>0</td>\n",
       "      <td>0</td>\n",
       "      <td>0</td>\n",
       "      <td>1</td>\n",
       "      <td>0</td>\n",
       "      <td>0</td>\n",
       "      <td>0</td>\n",
       "      <td>0</td>\n",
       "      <td>0</td>\n",
       "      <td>0</td>\n",
       "      <td>0</td>\n",
       "      <td>0</td>\n",
       "      <td>0</td>\n",
       "      <td>0</td>\n",
       "      <td>0</td>\n",
       "      <td>0</td>\n",
       "      <td>0</td>\n",
       "      <td>0</td>\n",
       "      <td>0</td>\n",
       "      <td>0</td>\n",
       "      <td>0</td>\n",
       "      <td>0</td>\n",
       "      <td>0</td>\n",
       "      <td>0</td>\n",
       "      <td>0</td>\n",
       "      <td>0</td>\n",
       "      <td>0</td>\n",
       "      <td>0</td>\n",
       "      <td>0</td>\n",
       "      <td>0</td>\n",
       "      <td>0</td>\n",
       "      <td>0</td>\n",
       "      <td>0</td>\n",
       "      <td>0</td>\n",
       "      <td>1</td>\n",
       "      <td>0</td>\n",
       "    </tr>\n",
       "    <tr>\n",
       "      <td>175492</td>\n",
       "      <td>0.017373</td>\n",
       "      <td>-0.010822</td>\n",
       "      <td>-1.739543</td>\n",
       "      <td>0</td>\n",
       "      <td>1</td>\n",
       "      <td>0</td>\n",
       "      <td>0</td>\n",
       "      <td>0</td>\n",
       "      <td>0</td>\n",
       "      <td>0</td>\n",
       "      <td>0</td>\n",
       "      <td>0</td>\n",
       "      <td>1</td>\n",
       "      <td>0</td>\n",
       "      <td>0</td>\n",
       "      <td>0</td>\n",
       "      <td>0</td>\n",
       "      <td>0</td>\n",
       "      <td>0</td>\n",
       "      <td>0</td>\n",
       "      <td>0</td>\n",
       "      <td>0</td>\n",
       "      <td>0</td>\n",
       "      <td>0</td>\n",
       "      <td>0</td>\n",
       "      <td>0</td>\n",
       "      <td>0</td>\n",
       "      <td>0</td>\n",
       "      <td>0</td>\n",
       "      <td>0</td>\n",
       "      <td>0</td>\n",
       "      <td>0</td>\n",
       "      <td>0</td>\n",
       "      <td>0</td>\n",
       "      <td>0</td>\n",
       "      <td>0</td>\n",
       "      <td>0</td>\n",
       "      <td>0</td>\n",
       "      <td>0</td>\n",
       "      <td>0</td>\n",
       "      <td>0</td>\n",
       "      <td>0</td>\n",
       "      <td>0</td>\n",
       "      <td>0</td>\n",
       "      <td>0</td>\n",
       "      <td>0</td>\n",
       "      <td>0</td>\n",
       "      <td>0</td>\n",
       "      <td>0</td>\n",
       "      <td>0</td>\n",
       "      <td>0</td>\n",
       "      <td>0</td>\n",
       "      <td>0</td>\n",
       "      <td>0</td>\n",
       "      <td>0</td>\n",
       "      <td>0</td>\n",
       "      <td>0</td>\n",
       "      <td>0</td>\n",
       "      <td>0</td>\n",
       "      <td>0</td>\n",
       "      <td>0</td>\n",
       "      <td>0</td>\n",
       "      <td>0</td>\n",
       "      <td>0</td>\n",
       "      <td>0</td>\n",
       "      <td>0</td>\n",
       "      <td>0</td>\n",
       "      <td>0</td>\n",
       "      <td>0</td>\n",
       "      <td>0</td>\n",
       "      <td>0</td>\n",
       "      <td>0</td>\n",
       "      <td>0</td>\n",
       "      <td>0</td>\n",
       "      <td>0</td>\n",
       "      <td>0</td>\n",
       "      <td>0</td>\n",
       "      <td>0</td>\n",
       "      <td>0</td>\n",
       "      <td>0</td>\n",
       "      <td>0</td>\n",
       "      <td>0</td>\n",
       "      <td>0</td>\n",
       "      <td>0</td>\n",
       "      <td>0</td>\n",
       "      <td>0</td>\n",
       "      <td>0</td>\n",
       "      <td>0</td>\n",
       "      <td>0</td>\n",
       "      <td>0</td>\n",
       "      <td>0</td>\n",
       "      <td>1</td>\n",
       "      <td>0</td>\n",
       "      <td>0</td>\n",
       "      <td>0</td>\n",
       "      <td>0</td>\n",
       "      <td>0</td>\n",
       "      <td>0</td>\n",
       "      <td>0</td>\n",
       "      <td>0</td>\n",
       "      <td>0</td>\n",
       "      <td>0</td>\n",
       "      <td>0</td>\n",
       "      <td>0</td>\n",
       "      <td>0</td>\n",
       "      <td>0</td>\n",
       "      <td>0</td>\n",
       "      <td>0</td>\n",
       "      <td>0</td>\n",
       "      <td>0</td>\n",
       "      <td>0</td>\n",
       "      <td>0</td>\n",
       "      <td>0</td>\n",
       "      <td>0</td>\n",
       "      <td>0</td>\n",
       "      <td>0</td>\n",
       "      <td>0</td>\n",
       "      <td>0</td>\n",
       "      <td>0</td>\n",
       "      <td>0</td>\n",
       "      <td>0</td>\n",
       "      <td>0</td>\n",
       "      <td>0</td>\n",
       "      <td>0</td>\n",
       "      <td>0</td>\n",
       "      <td>0</td>\n",
       "      <td>0</td>\n",
       "      <td>0</td>\n",
       "      <td>0</td>\n",
       "      <td>0</td>\n",
       "      <td>0</td>\n",
       "      <td>0</td>\n",
       "      <td>0</td>\n",
       "      <td>0</td>\n",
       "      <td>0</td>\n",
       "      <td>0</td>\n",
       "      <td>0</td>\n",
       "      <td>0</td>\n",
       "      <td>0</td>\n",
       "      <td>0</td>\n",
       "      <td>0</td>\n",
       "      <td>0</td>\n",
       "      <td>0</td>\n",
       "      <td>0</td>\n",
       "      <td>0</td>\n",
       "      <td>0</td>\n",
       "      <td>0</td>\n",
       "      <td>0</td>\n",
       "      <td>0</td>\n",
       "      <td>0</td>\n",
       "      <td>0</td>\n",
       "      <td>0</td>\n",
       "      <td>0</td>\n",
       "      <td>0</td>\n",
       "      <td>0</td>\n",
       "      <td>0</td>\n",
       "      <td>0</td>\n",
       "      <td>0</td>\n",
       "      <td>0</td>\n",
       "      <td>0</td>\n",
       "      <td>0</td>\n",
       "      <td>0</td>\n",
       "      <td>0</td>\n",
       "      <td>0</td>\n",
       "      <td>0</td>\n",
       "      <td>0</td>\n",
       "      <td>0</td>\n",
       "      <td>0</td>\n",
       "      <td>0</td>\n",
       "      <td>0</td>\n",
       "      <td>0</td>\n",
       "      <td>0</td>\n",
       "      <td>0</td>\n",
       "      <td>0</td>\n",
       "      <td>0</td>\n",
       "      <td>0</td>\n",
       "      <td>0</td>\n",
       "      <td>0</td>\n",
       "      <td>0</td>\n",
       "      <td>0</td>\n",
       "      <td>0</td>\n",
       "      <td>0</td>\n",
       "      <td>0</td>\n",
       "      <td>0</td>\n",
       "      <td>0</td>\n",
       "      <td>0</td>\n",
       "      <td>0</td>\n",
       "      <td>0</td>\n",
       "      <td>0</td>\n",
       "      <td>0</td>\n",
       "      <td>0</td>\n",
       "      <td>0</td>\n",
       "      <td>0</td>\n",
       "      <td>0</td>\n",
       "      <td>0</td>\n",
       "      <td>0</td>\n",
       "      <td>0</td>\n",
       "      <td>0</td>\n",
       "      <td>0</td>\n",
       "      <td>0</td>\n",
       "      <td>0</td>\n",
       "      <td>0</td>\n",
       "      <td>0</td>\n",
       "      <td>0</td>\n",
       "      <td>0</td>\n",
       "      <td>0</td>\n",
       "      <td>0</td>\n",
       "      <td>0</td>\n",
       "      <td>0</td>\n",
       "      <td>0</td>\n",
       "      <td>0</td>\n",
       "      <td>0</td>\n",
       "      <td>0</td>\n",
       "      <td>0</td>\n",
       "      <td>0</td>\n",
       "      <td>0</td>\n",
       "      <td>0</td>\n",
       "      <td>0</td>\n",
       "      <td>0</td>\n",
       "      <td>0</td>\n",
       "      <td>0</td>\n",
       "      <td>0</td>\n",
       "      <td>0</td>\n",
       "      <td>0</td>\n",
       "      <td>0</td>\n",
       "      <td>0</td>\n",
       "      <td>0</td>\n",
       "      <td>0</td>\n",
       "      <td>0</td>\n",
       "      <td>0</td>\n",
       "      <td>0</td>\n",
       "      <td>0</td>\n",
       "      <td>0</td>\n",
       "      <td>0</td>\n",
       "      <td>0</td>\n",
       "      <td>0</td>\n",
       "      <td>0</td>\n",
       "      <td>0</td>\n",
       "      <td>0</td>\n",
       "      <td>0</td>\n",
       "      <td>0</td>\n",
       "      <td>0</td>\n",
       "      <td>0</td>\n",
       "      <td>0</td>\n",
       "      <td>0</td>\n",
       "      <td>0</td>\n",
       "      <td>0</td>\n",
       "      <td>0</td>\n",
       "      <td>0</td>\n",
       "      <td>0</td>\n",
       "      <td>0</td>\n",
       "      <td>0</td>\n",
       "      <td>0</td>\n",
       "      <td>0</td>\n",
       "      <td>0</td>\n",
       "      <td>0</td>\n",
       "      <td>0</td>\n",
       "      <td>0</td>\n",
       "      <td>0</td>\n",
       "      <td>0</td>\n",
       "      <td>0</td>\n",
       "      <td>0</td>\n",
       "      <td>0</td>\n",
       "      <td>0</td>\n",
       "      <td>0</td>\n",
       "      <td>0</td>\n",
       "      <td>0</td>\n",
       "      <td>0</td>\n",
       "      <td>1</td>\n",
       "      <td>0</td>\n",
       "      <td>0</td>\n",
       "      <td>0</td>\n",
       "      <td>0</td>\n",
       "      <td>0</td>\n",
       "      <td>0</td>\n",
       "      <td>0</td>\n",
       "      <td>0</td>\n",
       "      <td>0</td>\n",
       "      <td>0</td>\n",
       "      <td>0</td>\n",
       "      <td>0</td>\n",
       "      <td>0</td>\n",
       "      <td>0</td>\n",
       "      <td>0</td>\n",
       "      <td>0</td>\n",
       "      <td>0</td>\n",
       "      <td>0</td>\n",
       "      <td>0</td>\n",
       "      <td>0</td>\n",
       "      <td>0</td>\n",
       "      <td>0</td>\n",
       "      <td>1</td>\n",
       "      <td>0</td>\n",
       "      <td>0</td>\n",
       "      <td>0</td>\n",
       "      <td>0</td>\n",
       "      <td>0</td>\n",
       "      <td>0</td>\n",
       "      <td>0</td>\n",
       "      <td>0</td>\n",
       "      <td>0</td>\n",
       "      <td>0</td>\n",
       "      <td>0</td>\n",
       "      <td>0</td>\n",
       "      <td>0</td>\n",
       "      <td>0</td>\n",
       "      <td>0</td>\n",
       "      <td>0</td>\n",
       "      <td>0</td>\n",
       "      <td>1</td>\n",
       "      <td>0</td>\n",
       "    </tr>\n",
       "    <tr>\n",
       "      <td>345910</td>\n",
       "      <td>0.049999</td>\n",
       "      <td>-0.205144</td>\n",
       "      <td>-1.739543</td>\n",
       "      <td>0</td>\n",
       "      <td>0</td>\n",
       "      <td>0</td>\n",
       "      <td>0</td>\n",
       "      <td>0</td>\n",
       "      <td>1</td>\n",
       "      <td>0</td>\n",
       "      <td>0</td>\n",
       "      <td>0</td>\n",
       "      <td>1</td>\n",
       "      <td>0</td>\n",
       "      <td>0</td>\n",
       "      <td>0</td>\n",
       "      <td>0</td>\n",
       "      <td>0</td>\n",
       "      <td>1</td>\n",
       "      <td>0</td>\n",
       "      <td>0</td>\n",
       "      <td>0</td>\n",
       "      <td>0</td>\n",
       "      <td>0</td>\n",
       "      <td>0</td>\n",
       "      <td>0</td>\n",
       "      <td>0</td>\n",
       "      <td>0</td>\n",
       "      <td>0</td>\n",
       "      <td>0</td>\n",
       "      <td>0</td>\n",
       "      <td>0</td>\n",
       "      <td>0</td>\n",
       "      <td>0</td>\n",
       "      <td>0</td>\n",
       "      <td>0</td>\n",
       "      <td>0</td>\n",
       "      <td>0</td>\n",
       "      <td>0</td>\n",
       "      <td>0</td>\n",
       "      <td>0</td>\n",
       "      <td>0</td>\n",
       "      <td>0</td>\n",
       "      <td>0</td>\n",
       "      <td>0</td>\n",
       "      <td>0</td>\n",
       "      <td>0</td>\n",
       "      <td>0</td>\n",
       "      <td>0</td>\n",
       "      <td>0</td>\n",
       "      <td>0</td>\n",
       "      <td>0</td>\n",
       "      <td>0</td>\n",
       "      <td>0</td>\n",
       "      <td>0</td>\n",
       "      <td>0</td>\n",
       "      <td>0</td>\n",
       "      <td>0</td>\n",
       "      <td>0</td>\n",
       "      <td>0</td>\n",
       "      <td>0</td>\n",
       "      <td>0</td>\n",
       "      <td>0</td>\n",
       "      <td>0</td>\n",
       "      <td>0</td>\n",
       "      <td>0</td>\n",
       "      <td>0</td>\n",
       "      <td>0</td>\n",
       "      <td>0</td>\n",
       "      <td>0</td>\n",
       "      <td>0</td>\n",
       "      <td>0</td>\n",
       "      <td>0</td>\n",
       "      <td>0</td>\n",
       "      <td>0</td>\n",
       "      <td>0</td>\n",
       "      <td>0</td>\n",
       "      <td>0</td>\n",
       "      <td>0</td>\n",
       "      <td>0</td>\n",
       "      <td>0</td>\n",
       "      <td>0</td>\n",
       "      <td>0</td>\n",
       "      <td>0</td>\n",
       "      <td>0</td>\n",
       "      <td>0</td>\n",
       "      <td>0</td>\n",
       "      <td>0</td>\n",
       "      <td>0</td>\n",
       "      <td>0</td>\n",
       "      <td>0</td>\n",
       "      <td>0</td>\n",
       "      <td>0</td>\n",
       "      <td>0</td>\n",
       "      <td>0</td>\n",
       "      <td>0</td>\n",
       "      <td>0</td>\n",
       "      <td>0</td>\n",
       "      <td>0</td>\n",
       "      <td>0</td>\n",
       "      <td>0</td>\n",
       "      <td>0</td>\n",
       "      <td>0</td>\n",
       "      <td>0</td>\n",
       "      <td>0</td>\n",
       "      <td>0</td>\n",
       "      <td>0</td>\n",
       "      <td>0</td>\n",
       "      <td>0</td>\n",
       "      <td>0</td>\n",
       "      <td>0</td>\n",
       "      <td>0</td>\n",
       "      <td>0</td>\n",
       "      <td>0</td>\n",
       "      <td>0</td>\n",
       "      <td>0</td>\n",
       "      <td>0</td>\n",
       "      <td>0</td>\n",
       "      <td>0</td>\n",
       "      <td>0</td>\n",
       "      <td>0</td>\n",
       "      <td>0</td>\n",
       "      <td>0</td>\n",
       "      <td>0</td>\n",
       "      <td>0</td>\n",
       "      <td>0</td>\n",
       "      <td>0</td>\n",
       "      <td>0</td>\n",
       "      <td>0</td>\n",
       "      <td>0</td>\n",
       "      <td>0</td>\n",
       "      <td>0</td>\n",
       "      <td>0</td>\n",
       "      <td>0</td>\n",
       "      <td>0</td>\n",
       "      <td>0</td>\n",
       "      <td>0</td>\n",
       "      <td>0</td>\n",
       "      <td>0</td>\n",
       "      <td>0</td>\n",
       "      <td>0</td>\n",
       "      <td>0</td>\n",
       "      <td>0</td>\n",
       "      <td>0</td>\n",
       "      <td>0</td>\n",
       "      <td>0</td>\n",
       "      <td>0</td>\n",
       "      <td>0</td>\n",
       "      <td>0</td>\n",
       "      <td>0</td>\n",
       "      <td>0</td>\n",
       "      <td>0</td>\n",
       "      <td>0</td>\n",
       "      <td>0</td>\n",
       "      <td>0</td>\n",
       "      <td>0</td>\n",
       "      <td>0</td>\n",
       "      <td>0</td>\n",
       "      <td>0</td>\n",
       "      <td>0</td>\n",
       "      <td>0</td>\n",
       "      <td>0</td>\n",
       "      <td>0</td>\n",
       "      <td>0</td>\n",
       "      <td>0</td>\n",
       "      <td>0</td>\n",
       "      <td>0</td>\n",
       "      <td>0</td>\n",
       "      <td>0</td>\n",
       "      <td>0</td>\n",
       "      <td>0</td>\n",
       "      <td>0</td>\n",
       "      <td>0</td>\n",
       "      <td>0</td>\n",
       "      <td>0</td>\n",
       "      <td>0</td>\n",
       "      <td>0</td>\n",
       "      <td>0</td>\n",
       "      <td>0</td>\n",
       "      <td>0</td>\n",
       "      <td>0</td>\n",
       "      <td>0</td>\n",
       "      <td>0</td>\n",
       "      <td>0</td>\n",
       "      <td>0</td>\n",
       "      <td>0</td>\n",
       "      <td>0</td>\n",
       "      <td>0</td>\n",
       "      <td>0</td>\n",
       "      <td>0</td>\n",
       "      <td>0</td>\n",
       "      <td>0</td>\n",
       "      <td>0</td>\n",
       "      <td>0</td>\n",
       "      <td>0</td>\n",
       "      <td>0</td>\n",
       "      <td>0</td>\n",
       "      <td>0</td>\n",
       "      <td>0</td>\n",
       "      <td>0</td>\n",
       "      <td>0</td>\n",
       "      <td>0</td>\n",
       "      <td>0</td>\n",
       "      <td>0</td>\n",
       "      <td>0</td>\n",
       "      <td>0</td>\n",
       "      <td>0</td>\n",
       "      <td>0</td>\n",
       "      <td>0</td>\n",
       "      <td>0</td>\n",
       "      <td>0</td>\n",
       "      <td>0</td>\n",
       "      <td>0</td>\n",
       "      <td>0</td>\n",
       "      <td>0</td>\n",
       "      <td>0</td>\n",
       "      <td>0</td>\n",
       "      <td>0</td>\n",
       "      <td>0</td>\n",
       "      <td>0</td>\n",
       "      <td>0</td>\n",
       "      <td>0</td>\n",
       "      <td>0</td>\n",
       "      <td>0</td>\n",
       "      <td>0</td>\n",
       "      <td>0</td>\n",
       "      <td>0</td>\n",
       "      <td>0</td>\n",
       "      <td>0</td>\n",
       "      <td>0</td>\n",
       "      <td>0</td>\n",
       "      <td>0</td>\n",
       "      <td>0</td>\n",
       "      <td>0</td>\n",
       "      <td>0</td>\n",
       "      <td>0</td>\n",
       "      <td>0</td>\n",
       "      <td>0</td>\n",
       "      <td>0</td>\n",
       "      <td>0</td>\n",
       "      <td>0</td>\n",
       "      <td>0</td>\n",
       "      <td>0</td>\n",
       "      <td>0</td>\n",
       "      <td>0</td>\n",
       "      <td>0</td>\n",
       "      <td>0</td>\n",
       "      <td>0</td>\n",
       "      <td>0</td>\n",
       "      <td>0</td>\n",
       "      <td>0</td>\n",
       "      <td>0</td>\n",
       "      <td>0</td>\n",
       "      <td>0</td>\n",
       "      <td>0</td>\n",
       "      <td>0</td>\n",
       "      <td>0</td>\n",
       "      <td>0</td>\n",
       "      <td>0</td>\n",
       "      <td>0</td>\n",
       "      <td>0</td>\n",
       "      <td>0</td>\n",
       "      <td>0</td>\n",
       "      <td>0</td>\n",
       "      <td>0</td>\n",
       "      <td>0</td>\n",
       "      <td>0</td>\n",
       "      <td>0</td>\n",
       "      <td>1</td>\n",
       "      <td>0</td>\n",
       "      <td>0</td>\n",
       "      <td>0</td>\n",
       "      <td>0</td>\n",
       "      <td>0</td>\n",
       "      <td>0</td>\n",
       "      <td>0</td>\n",
       "      <td>0</td>\n",
       "      <td>0</td>\n",
       "      <td>0</td>\n",
       "      <td>0</td>\n",
       "      <td>0</td>\n",
       "      <td>0</td>\n",
       "      <td>0</td>\n",
       "      <td>0</td>\n",
       "      <td>0</td>\n",
       "      <td>0</td>\n",
       "      <td>0</td>\n",
       "      <td>0</td>\n",
       "      <td>0</td>\n",
       "      <td>0</td>\n",
       "      <td>0</td>\n",
       "      <td>0</td>\n",
       "      <td>0</td>\n",
       "      <td>0</td>\n",
       "      <td>1</td>\n",
       "      <td>0</td>\n",
       "      <td>0</td>\n",
       "      <td>0</td>\n",
       "      <td>0</td>\n",
       "      <td>0</td>\n",
       "      <td>0</td>\n",
       "      <td>0</td>\n",
       "      <td>0</td>\n",
       "      <td>0</td>\n",
       "      <td>0</td>\n",
       "      <td>0</td>\n",
       "      <td>0</td>\n",
       "      <td>0</td>\n",
       "      <td>0</td>\n",
       "      <td>1</td>\n",
       "      <td>0</td>\n",
       "    </tr>\n",
       "    <tr>\n",
       "      <td>75399</td>\n",
       "      <td>0.006498</td>\n",
       "      <td>-0.171967</td>\n",
       "      <td>-0.056458</td>\n",
       "      <td>0</td>\n",
       "      <td>0</td>\n",
       "      <td>0</td>\n",
       "      <td>0</td>\n",
       "      <td>0</td>\n",
       "      <td>1</td>\n",
       "      <td>0</td>\n",
       "      <td>0</td>\n",
       "      <td>0</td>\n",
       "      <td>1</td>\n",
       "      <td>0</td>\n",
       "      <td>0</td>\n",
       "      <td>0</td>\n",
       "      <td>0</td>\n",
       "      <td>0</td>\n",
       "      <td>0</td>\n",
       "      <td>0</td>\n",
       "      <td>0</td>\n",
       "      <td>0</td>\n",
       "      <td>0</td>\n",
       "      <td>0</td>\n",
       "      <td>0</td>\n",
       "      <td>0</td>\n",
       "      <td>0</td>\n",
       "      <td>0</td>\n",
       "      <td>0</td>\n",
       "      <td>0</td>\n",
       "      <td>0</td>\n",
       "      <td>0</td>\n",
       "      <td>0</td>\n",
       "      <td>0</td>\n",
       "      <td>0</td>\n",
       "      <td>0</td>\n",
       "      <td>0</td>\n",
       "      <td>0</td>\n",
       "      <td>0</td>\n",
       "      <td>0</td>\n",
       "      <td>0</td>\n",
       "      <td>0</td>\n",
       "      <td>0</td>\n",
       "      <td>0</td>\n",
       "      <td>0</td>\n",
       "      <td>0</td>\n",
       "      <td>0</td>\n",
       "      <td>0</td>\n",
       "      <td>0</td>\n",
       "      <td>0</td>\n",
       "      <td>0</td>\n",
       "      <td>0</td>\n",
       "      <td>0</td>\n",
       "      <td>0</td>\n",
       "      <td>0</td>\n",
       "      <td>0</td>\n",
       "      <td>0</td>\n",
       "      <td>0</td>\n",
       "      <td>0</td>\n",
       "      <td>0</td>\n",
       "      <td>0</td>\n",
       "      <td>0</td>\n",
       "      <td>0</td>\n",
       "      <td>0</td>\n",
       "      <td>0</td>\n",
       "      <td>0</td>\n",
       "      <td>0</td>\n",
       "      <td>0</td>\n",
       "      <td>0</td>\n",
       "      <td>0</td>\n",
       "      <td>0</td>\n",
       "      <td>0</td>\n",
       "      <td>0</td>\n",
       "      <td>0</td>\n",
       "      <td>0</td>\n",
       "      <td>0</td>\n",
       "      <td>0</td>\n",
       "      <td>0</td>\n",
       "      <td>0</td>\n",
       "      <td>0</td>\n",
       "      <td>0</td>\n",
       "      <td>0</td>\n",
       "      <td>0</td>\n",
       "      <td>0</td>\n",
       "      <td>0</td>\n",
       "      <td>0</td>\n",
       "      <td>0</td>\n",
       "      <td>0</td>\n",
       "      <td>0</td>\n",
       "      <td>0</td>\n",
       "      <td>0</td>\n",
       "      <td>0</td>\n",
       "      <td>0</td>\n",
       "      <td>0</td>\n",
       "      <td>0</td>\n",
       "      <td>0</td>\n",
       "      <td>0</td>\n",
       "      <td>0</td>\n",
       "      <td>0</td>\n",
       "      <td>0</td>\n",
       "      <td>0</td>\n",
       "      <td>0</td>\n",
       "      <td>0</td>\n",
       "      <td>0</td>\n",
       "      <td>0</td>\n",
       "      <td>0</td>\n",
       "      <td>0</td>\n",
       "      <td>0</td>\n",
       "      <td>0</td>\n",
       "      <td>0</td>\n",
       "      <td>0</td>\n",
       "      <td>0</td>\n",
       "      <td>0</td>\n",
       "      <td>0</td>\n",
       "      <td>0</td>\n",
       "      <td>0</td>\n",
       "      <td>0</td>\n",
       "      <td>0</td>\n",
       "      <td>0</td>\n",
       "      <td>0</td>\n",
       "      <td>0</td>\n",
       "      <td>0</td>\n",
       "      <td>0</td>\n",
       "      <td>0</td>\n",
       "      <td>0</td>\n",
       "      <td>0</td>\n",
       "      <td>0</td>\n",
       "      <td>0</td>\n",
       "      <td>0</td>\n",
       "      <td>1</td>\n",
       "      <td>0</td>\n",
       "      <td>0</td>\n",
       "      <td>0</td>\n",
       "      <td>0</td>\n",
       "      <td>0</td>\n",
       "      <td>0</td>\n",
       "      <td>0</td>\n",
       "      <td>0</td>\n",
       "      <td>0</td>\n",
       "      <td>0</td>\n",
       "      <td>0</td>\n",
       "      <td>0</td>\n",
       "      <td>0</td>\n",
       "      <td>0</td>\n",
       "      <td>0</td>\n",
       "      <td>0</td>\n",
       "      <td>0</td>\n",
       "      <td>0</td>\n",
       "      <td>0</td>\n",
       "      <td>0</td>\n",
       "      <td>0</td>\n",
       "      <td>0</td>\n",
       "      <td>0</td>\n",
       "      <td>0</td>\n",
       "      <td>0</td>\n",
       "      <td>0</td>\n",
       "      <td>0</td>\n",
       "      <td>0</td>\n",
       "      <td>0</td>\n",
       "      <td>0</td>\n",
       "      <td>0</td>\n",
       "      <td>0</td>\n",
       "      <td>0</td>\n",
       "      <td>0</td>\n",
       "      <td>0</td>\n",
       "      <td>0</td>\n",
       "      <td>0</td>\n",
       "      <td>0</td>\n",
       "      <td>0</td>\n",
       "      <td>0</td>\n",
       "      <td>0</td>\n",
       "      <td>0</td>\n",
       "      <td>0</td>\n",
       "      <td>0</td>\n",
       "      <td>0</td>\n",
       "      <td>0</td>\n",
       "      <td>0</td>\n",
       "      <td>0</td>\n",
       "      <td>0</td>\n",
       "      <td>0</td>\n",
       "      <td>0</td>\n",
       "      <td>0</td>\n",
       "      <td>0</td>\n",
       "      <td>0</td>\n",
       "      <td>0</td>\n",
       "      <td>0</td>\n",
       "      <td>0</td>\n",
       "      <td>0</td>\n",
       "      <td>0</td>\n",
       "      <td>0</td>\n",
       "      <td>0</td>\n",
       "      <td>0</td>\n",
       "      <td>0</td>\n",
       "      <td>0</td>\n",
       "      <td>0</td>\n",
       "      <td>0</td>\n",
       "      <td>0</td>\n",
       "      <td>0</td>\n",
       "      <td>0</td>\n",
       "      <td>0</td>\n",
       "      <td>0</td>\n",
       "      <td>0</td>\n",
       "      <td>0</td>\n",
       "      <td>0</td>\n",
       "      <td>0</td>\n",
       "      <td>0</td>\n",
       "      <td>0</td>\n",
       "      <td>0</td>\n",
       "      <td>0</td>\n",
       "      <td>0</td>\n",
       "      <td>0</td>\n",
       "      <td>0</td>\n",
       "      <td>0</td>\n",
       "      <td>0</td>\n",
       "      <td>0</td>\n",
       "      <td>0</td>\n",
       "      <td>0</td>\n",
       "      <td>0</td>\n",
       "      <td>0</td>\n",
       "      <td>0</td>\n",
       "      <td>0</td>\n",
       "      <td>0</td>\n",
       "      <td>0</td>\n",
       "      <td>0</td>\n",
       "      <td>0</td>\n",
       "      <td>0</td>\n",
       "      <td>0</td>\n",
       "      <td>0</td>\n",
       "      <td>0</td>\n",
       "      <td>0</td>\n",
       "      <td>0</td>\n",
       "      <td>0</td>\n",
       "      <td>0</td>\n",
       "      <td>0</td>\n",
       "      <td>0</td>\n",
       "      <td>0</td>\n",
       "      <td>0</td>\n",
       "      <td>0</td>\n",
       "      <td>0</td>\n",
       "      <td>0</td>\n",
       "      <td>0</td>\n",
       "      <td>0</td>\n",
       "      <td>0</td>\n",
       "      <td>0</td>\n",
       "      <td>0</td>\n",
       "      <td>0</td>\n",
       "      <td>0</td>\n",
       "      <td>0</td>\n",
       "      <td>0</td>\n",
       "      <td>0</td>\n",
       "      <td>0</td>\n",
       "      <td>0</td>\n",
       "      <td>0</td>\n",
       "      <td>0</td>\n",
       "      <td>0</td>\n",
       "      <td>0</td>\n",
       "      <td>0</td>\n",
       "      <td>0</td>\n",
       "      <td>0</td>\n",
       "      <td>0</td>\n",
       "      <td>0</td>\n",
       "      <td>0</td>\n",
       "      <td>0</td>\n",
       "      <td>0</td>\n",
       "      <td>0</td>\n",
       "      <td>0</td>\n",
       "      <td>0</td>\n",
       "      <td>0</td>\n",
       "      <td>1</td>\n",
       "      <td>0</td>\n",
       "      <td>0</td>\n",
       "      <td>0</td>\n",
       "      <td>0</td>\n",
       "      <td>0</td>\n",
       "      <td>0</td>\n",
       "      <td>0</td>\n",
       "      <td>0</td>\n",
       "      <td>0</td>\n",
       "      <td>0</td>\n",
       "      <td>0</td>\n",
       "      <td>0</td>\n",
       "      <td>0</td>\n",
       "      <td>0</td>\n",
       "      <td>0</td>\n",
       "      <td>0</td>\n",
       "      <td>0</td>\n",
       "      <td>0</td>\n",
       "      <td>0</td>\n",
       "      <td>0</td>\n",
       "      <td>0</td>\n",
       "      <td>0</td>\n",
       "      <td>0</td>\n",
       "      <td>0</td>\n",
       "      <td>0</td>\n",
       "      <td>0</td>\n",
       "      <td>0</td>\n",
       "      <td>0</td>\n",
       "      <td>0</td>\n",
       "      <td>0</td>\n",
       "      <td>0</td>\n",
       "      <td>0</td>\n",
       "      <td>0</td>\n",
       "      <td>0</td>\n",
       "      <td>0</td>\n",
       "      <td>0</td>\n",
       "      <td>0</td>\n",
       "      <td>0</td>\n",
       "      <td>1</td>\n",
       "      <td>0</td>\n",
       "      <td>1</td>\n",
       "      <td>0</td>\n",
       "    </tr>\n",
       "  </tbody>\n",
       "</table>\n",
       "</div>"
      ],
      "text/plain": [
       "        RegistrationYear     Power  Kilometer  VehicleType_bus  \\\n",
       "139827         -0.124005 -0.171967  -0.962734                0   \n",
       "103241          0.071749 -0.029780  -2.257415                0   \n",
       "175492          0.017373 -0.010822  -1.739543                0   \n",
       "345910          0.049999 -0.205144  -1.739543                0   \n",
       "75399           0.006498 -0.171967  -0.056458                0   \n",
       "\n",
       "        VehicleType_convertible  VehicleType_coupe  VehicleType_other  \\\n",
       "139827                        0                  0                  0   \n",
       "103241                        0                  0                  0   \n",
       "175492                        1                  0                  0   \n",
       "345910                        0                  0                  0   \n",
       "75399                         0                  0                  0   \n",
       "\n",
       "        VehicleType_sedan  VehicleType_small  VehicleType_suv  \\\n",
       "139827                  1                  0                0   \n",
       "103241                  0                  1                0   \n",
       "175492                  0                  0                0   \n",
       "345910                  0                  1                0   \n",
       "75399                   0                  1                0   \n",
       "\n",
       "        VehicleType_wagon  Gearbox_auto  Gearbox_manual  Model_100  Model_145  \\\n",
       "139827                  0             0               1          0          0   \n",
       "103241                  0             0               1          0          0   \n",
       "175492                  0             0               1          0          0   \n",
       "345910                  0             0               1          0          0   \n",
       "75399                   0             0               1          0          0   \n",
       "\n",
       "        Model_147  Model_156  Model_159  Model_1_reihe  Model_1er  Model_200  \\\n",
       "139827          0          0          0              0          0          0   \n",
       "103241          0          0          0              0          0          0   \n",
       "175492          0          0          0              0          0          0   \n",
       "345910          0          0          0              1          0          0   \n",
       "75399           0          0          0              0          0          0   \n",
       "\n",
       "        Model_2_reihe  Model_300c  Model_3_reihe  Model_3er  Model_4_reihe  \\\n",
       "139827              0           0              0          0              0   \n",
       "103241              0           0              0          0              0   \n",
       "175492              0           0              0          0              0   \n",
       "345910              0           0              0          0              0   \n",
       "75399               0           0              0          0              0   \n",
       "\n",
       "        Model_500  Model_5_reihe  Model_5er  Model_601  Model_6_reihe  \\\n",
       "139827          0              0          0          0              0   \n",
       "103241          0              0          0          0              0   \n",
       "175492          0              0          0          0              0   \n",
       "345910          0              0          0          0              0   \n",
       "75399           0              0          0          0              0   \n",
       "\n",
       "        Model_6er  Model_7er  Model_80  Model_850  Model_90  Model_900  \\\n",
       "139827          0          0         0          0         0          0   \n",
       "103241          0          0         0          0         0          0   \n",
       "175492          0          0         0          0         0          0   \n",
       "345910          0          0         0          0         0          0   \n",
       "75399           0          0         0          0         0          0   \n",
       "\n",
       "        Model_9000  Model_911  Model_a1  Model_a2  Model_a3  Model_a4  \\\n",
       "139827           0          0         0         0         0         0   \n",
       "103241           0          0         0         0         0         0   \n",
       "175492           0          0         0         0         0         0   \n",
       "345910           0          0         0         0         0         0   \n",
       "75399            0          0         0         0         0         0   \n",
       "\n",
       "        Model_a5  Model_a6  Model_a8  Model_a_klasse  Model_accord  \\\n",
       "139827         0         0         0               0             0   \n",
       "103241         0         0         0               0             0   \n",
       "175492         0         0         0               0             0   \n",
       "345910         0         0         0               0             0   \n",
       "75399          0         0         0               0             0   \n",
       "\n",
       "        Model_agila  Model_alhambra  Model_almera  Model_altea  Model_amarok  \\\n",
       "139827            0               0             0            0             0   \n",
       "103241            0               0             0            0             0   \n",
       "175492            0               0             0            0             0   \n",
       "345910            0               0             0            0             0   \n",
       "75399             0               0             0            0             0   \n",
       "\n",
       "        Model_antara  Model_arosa  Model_astra  Model_auris  Model_avensis  \\\n",
       "139827             0            0            1            0              0   \n",
       "103241             0            0            0            0              0   \n",
       "175492             0            0            0            0              0   \n",
       "345910             0            0            0            0              0   \n",
       "75399              0            0            0            0              0   \n",
       "\n",
       "        Model_aveo  Model_aygo  Model_b_klasse  Model_b_max  Model_beetle  \\\n",
       "139827           0           0               0            0             0   \n",
       "103241           0           0               0            0             0   \n",
       "175492           0           0               0            0             0   \n",
       "345910           0           0               0            0             0   \n",
       "75399            0           0               0            0             0   \n",
       "\n",
       "        Model_berlingo  Model_bora  Model_boxster  Model_bravo  Model_c1  \\\n",
       "139827               0           0              0            0         0   \n",
       "103241               0           0              0            0         0   \n",
       "175492               0           0              0            0         0   \n",
       "345910               0           0              0            0         0   \n",
       "75399                0           0              0            0         0   \n",
       "\n",
       "        Model_c2  Model_c3  Model_c4  Model_c5  Model_c_klasse  Model_c_max  \\\n",
       "139827         0         0         0         0               0            0   \n",
       "103241         0         0         0         0               0            0   \n",
       "175492         0         0         0         0               0            0   \n",
       "345910         0         0         0         0               0            0   \n",
       "75399          0         0         0         0               0            0   \n",
       "\n",
       "        Model_c_reihe  Model_caddy  Model_calibra  Model_captiva  \\\n",
       "139827              0            0              0              0   \n",
       "103241              0            0              0              0   \n",
       "175492              0            0              0              0   \n",
       "345910              0            0              0              0   \n",
       "75399               0            0              0              0   \n",
       "\n",
       "        Model_carisma  Model_carnival  Model_cayenne  Model_cc  Model_ceed  \\\n",
       "139827              0               0              0         0           0   \n",
       "103241              0               0              0         0           0   \n",
       "175492              0               0              0         0           0   \n",
       "345910              0               0              0         0           0   \n",
       "75399               0               0              0         0           0   \n",
       "\n",
       "        Model_charade  Model_cherokee  Model_citigo  Model_civic  Model_cl  \\\n",
       "139827              0               0             0            0         0   \n",
       "103241              0               0             0            0         0   \n",
       "175492              0               0             0            0         0   \n",
       "345910              0               0             0            0         0   \n",
       "75399               0               0             0            0         0   \n",
       "\n",
       "        Model_clio  Model_clk  Model_clubman  Model_colt  Model_combo  \\\n",
       "139827           0          0              0           0            0   \n",
       "103241           0          0              0           0            0   \n",
       "175492           0          0              0           1            0   \n",
       "345910           0          0              0           0            0   \n",
       "75399            0          0              0           0            0   \n",
       "\n",
       "        Model_cooper  Model_cordoba  Model_corolla  Model_corsa  \\\n",
       "139827             0              0              0            0   \n",
       "103241             0              0              0            0   \n",
       "175492             0              0              0            0   \n",
       "345910             0              0              0            0   \n",
       "75399              0              0              0            0   \n",
       "\n",
       "        Model_cr_reihe  Model_croma  Model_crossfire  Model_cuore  \\\n",
       "139827               0            0                0            0   \n",
       "103241               0            0                0            0   \n",
       "175492               0            0                0            0   \n",
       "345910               0            0                0            0   \n",
       "75399                0            0                0            0   \n",
       "\n",
       "        Model_cx_reihe  Model_defender  Model_delta  Model_discovery  \\\n",
       "139827               0               0            0                0   \n",
       "103241               0               0            0                0   \n",
       "175492               0               0            0                0   \n",
       "345910               0               0            0                0   \n",
       "75399                0               0            0                0   \n",
       "\n",
       "        Model_doblo  Model_ducato  Model_duster  Model_e_klasse  \\\n",
       "139827            0             0             0               0   \n",
       "103241            0             0             0               0   \n",
       "175492            0             0             0               0   \n",
       "345910            0             0             0               0   \n",
       "75399             0             0             0               0   \n",
       "\n",
       "        Model_elefantino  Model_eos  Model_escort  Model_espace  Model_exeo  \\\n",
       "139827                 0          0             0             0           0   \n",
       "103241                 0          0             0             0           0   \n",
       "175492                 0          0             0             0           0   \n",
       "345910                 0          0             0             0           0   \n",
       "75399                  0          0             0             0           0   \n",
       "\n",
       "        Model_fabia  Model_fiesta  Model_focus  Model_forester  Model_forfour  \\\n",
       "139827            0             0            0               0              0   \n",
       "103241            0             0            0               0              0   \n",
       "175492            0             0            0               0              0   \n",
       "345910            0             0            0               0              0   \n",
       "75399             0             0            0               0              0   \n",
       "\n",
       "        Model_fortwo  Model_fox  Model_freelander  Model_fusion  \\\n",
       "139827             0          0                 0             0   \n",
       "103241             0          0                 0             0   \n",
       "175492             0          0                 0             0   \n",
       "345910             0          0                 0             0   \n",
       "75399              0          0                 0             0   \n",
       "\n",
       "        Model_g_klasse  Model_galant  Model_galaxy  Model_getz  Model_gl  \\\n",
       "139827               0             0             0           0         0   \n",
       "103241               0             0             0           0         0   \n",
       "175492               0             0             0           0         0   \n",
       "345910               0             0             0           0         0   \n",
       "75399                0             0             0           0         0   \n",
       "\n",
       "        Model_glk  Model_golf  Model_grand  Model_i3  Model_i_reihe  \\\n",
       "139827          0           0            0         0              0   \n",
       "103241          0           0            0         0              0   \n",
       "175492          0           0            0         0              0   \n",
       "345910          0           0            0         0              0   \n",
       "75399           0           1            0         0              0   \n",
       "\n",
       "        Model_ibiza  Model_impreza  Model_insignia  Model_jazz  Model_jetta  \\\n",
       "139827            0              0               0           0            0   \n",
       "103241            0              0               0           0            0   \n",
       "175492            0              0               0           0            0   \n",
       "345910            0              0               0           0            0   \n",
       "75399             0              0               0           0            0   \n",
       "\n",
       "        Model_jimny  Model_juke  Model_justy  Model_ka  Model_kadett  \\\n",
       "139827            0           0            0         0             0   \n",
       "103241            0           0            0         0             0   \n",
       "175492            0           0            0         0             0   \n",
       "345910            0           0            0         0             0   \n",
       "75399             0           0            0         0             0   \n",
       "\n",
       "        Model_kaefer  Model_kalina  Model_kalos  Model_kangoo  Model_kappa  \\\n",
       "139827             0             0            0             0            0   \n",
       "103241             0             0            0             0            0   \n",
       "175492             0             0            0             0            0   \n",
       "345910             0             0            0             0            0   \n",
       "75399              0             0            0             0            0   \n",
       "\n",
       "        Model_kuga  Model_laguna  Model_lancer  Model_lanos  Model_legacy  \\\n",
       "139827           0             0             0            0             0   \n",
       "103241           0             0             0            0             0   \n",
       "175492           0             0             0            0             0   \n",
       "345910           0             0             0            0             0   \n",
       "75399            0             0             0            0             0   \n",
       "\n",
       "        Model_leon  Model_lodgy  Model_logan  Model_lupo  Model_lybra  \\\n",
       "139827           0            0            0           0            0   \n",
       "103241           0            0            0           0            0   \n",
       "175492           0            0            0           0            0   \n",
       "345910           0            0            0           0            0   \n",
       "75399            0            0            0           0            0   \n",
       "\n",
       "        Model_m_klasse  Model_m_reihe  Model_materia  Model_matiz  \\\n",
       "139827               0              0              0            0   \n",
       "103241               0              0              0            0   \n",
       "175492               0              0              0            0   \n",
       "345910               0              0              0            0   \n",
       "75399                0              0              0            0   \n",
       "\n",
       "        Model_megane  Model_meriva  Model_micra  Model_mii  Model_modus  \\\n",
       "139827             0             0            0          0            0   \n",
       "103241             0             0            0          0            0   \n",
       "175492             0             0            0          0            0   \n",
       "345910             0             0            0          0            0   \n",
       "75399              0             0            0          0            0   \n",
       "\n",
       "        Model_mondeo  Model_move  Model_musa  Model_mustang  Model_mx_reihe  \\\n",
       "139827             0           0           0              0               0   \n",
       "103241             0           0           0              0               0   \n",
       "175492             0           0           0              0               0   \n",
       "345910             0           0           0              0               0   \n",
       "75399              0           0           0              0               0   \n",
       "\n",
       "        Model_navara  Model_niva  Model_note  Model_nubira  Model_octavia  \\\n",
       "139827             0           0           0             0              0   \n",
       "103241             0           0           0             0              0   \n",
       "175492             0           0           0             0              0   \n",
       "345910             0           0           0             0              0   \n",
       "75399              0           0           0             0              0   \n",
       "\n",
       "        Model_omega  Model_one  Model_other  Model_outlander  Model_pajero  \\\n",
       "139827            0          0            0                0             0   \n",
       "103241            0          0            0                0             0   \n",
       "175492            0          0            0                0             0   \n",
       "345910            0          0            0                0             0   \n",
       "75399             0          0            0                0             0   \n",
       "\n",
       "        Model_panda  Model_passat  Model_phaeton  Model_picanto  Model_polo  \\\n",
       "139827            0             0              0              0           0   \n",
       "103241            0             0              0              0           0   \n",
       "175492            0             0              0              0           0   \n",
       "345910            0             0              0              0           0   \n",
       "75399             0             0              0              0           0   \n",
       "\n",
       "        Model_primera  Model_ptcruiser  Model_punto  Model_q3  Model_q5  \\\n",
       "139827              0                0            0         0         0   \n",
       "103241              0                0            1         0         0   \n",
       "175492              0                0            0         0         0   \n",
       "345910              0                0            0         0         0   \n",
       "75399               0                0            0         0         0   \n",
       "\n",
       "        Model_q7  Model_qashqai  Model_r19  Model_range_rover  \\\n",
       "139827         0              0          0                  0   \n",
       "103241         0              0          0                  0   \n",
       "175492         0              0          0                  0   \n",
       "345910         0              0          0                  0   \n",
       "75399          0              0          0                  0   \n",
       "\n",
       "        Model_range_rover_evoque  Model_range_rover_sport  Model_rangerover  \\\n",
       "139827                         0                        0                 0   \n",
       "103241                         0                        0                 0   \n",
       "175492                         0                        0                 0   \n",
       "345910                         0                        0                 0   \n",
       "75399                          0                        0                 0   \n",
       "\n",
       "        Model_rav  Model_rio  Model_roadster  Model_roomster  Model_rx_reihe  \\\n",
       "139827          0          0               0               0               0   \n",
       "103241          0          0               0               0               0   \n",
       "175492          0          0               0               0               0   \n",
       "345910          0          0               0               0               0   \n",
       "75399           0          0               0               0               0   \n",
       "\n",
       "        Model_s60  Model_s_klasse  Model_s_max  Model_s_type  Model_samara  \\\n",
       "139827          0               0            0             0             0   \n",
       "103241          0               0            0             0             0   \n",
       "175492          0               0            0             0             0   \n",
       "345910          0               0            0             0             0   \n",
       "75399           0               0            0             0             0   \n",
       "\n",
       "        Model_sandero  Model_santa  Model_scenic  Model_scirocco  \\\n",
       "139827              0            0             0               0   \n",
       "103241              0            0             0               0   \n",
       "175492              0            0             0               0   \n",
       "345910              0            0             0               0   \n",
       "75399               0            0             0               0   \n",
       "\n",
       "        Model_seicento  Model_serie_2  Model_serie_3  Model_sharan  \\\n",
       "139827               0              0              0             0   \n",
       "103241               0              0              0             0   \n",
       "175492               0              0              0             0   \n",
       "345910               0              0              0             0   \n",
       "75399                0              0              0             0   \n",
       "\n",
       "        Model_signum  Model_sirion  Model_sl  Model_slk  Model_sorento  \\\n",
       "139827             0             0         0          0              0   \n",
       "103241             0             0         0          0              0   \n",
       "175492             0             0         0          0              0   \n",
       "345910             0             0         0          0              0   \n",
       "75399              0             0         0          0              0   \n",
       "\n",
       "        Model_spark  Model_spider  Model_sportage  Model_sprinter  \\\n",
       "139827            0             0               0               0   \n",
       "103241            0             0               0               0   \n",
       "175492            0             0               0               0   \n",
       "345910            0             0               0               0   \n",
       "75399             0             0               0               0   \n",
       "\n",
       "        Model_stilo  Model_superb  Model_swift  Model_terios  Model_tigra  \\\n",
       "139827            0             0            0             0            0   \n",
       "103241            0             0            0             0            0   \n",
       "175492            0             0            0             0            0   \n",
       "345910            0             0            0             0            0   \n",
       "75399             0             0            0             0            0   \n",
       "\n",
       "        Model_tiguan  Model_toledo  Model_touareg  Model_touran  \\\n",
       "139827             0             0              0             0   \n",
       "103241             0             0              0             0   \n",
       "175492             0             0              0             0   \n",
       "345910             0             0              0             0   \n",
       "75399              0             0              0             0   \n",
       "\n",
       "        Model_transit  Model_transporter  Model_tt  Model_tucson  \\\n",
       "139827              0                  0         0             0   \n",
       "103241              0                  0         0             0   \n",
       "175492              0                  0         0             0   \n",
       "345910              0                  0         0             0   \n",
       "75399               0                  0         0             0   \n",
       "\n",
       "        Model_twingo  Model_up  Model_v40  Model_v50  Model_v60  Model_v70  \\\n",
       "139827             0         0          0          0          0          0   \n",
       "103241             0         0          0          0          0          0   \n",
       "175492             0         0          0          0          0          0   \n",
       "345910             0         0          0          0          0          0   \n",
       "75399              0         0          0          0          0          0   \n",
       "\n",
       "        Model_v_klasse  Model_vectra  Model_verso  Model_viano  Model_vito  \\\n",
       "139827               0             0            0            0           0   \n",
       "103241               0             0            0            0           0   \n",
       "175492               0             0            0            0           0   \n",
       "345910               0             0            0            0           0   \n",
       "75399                0             0            0            0           0   \n",
       "\n",
       "        Model_vivaro  Model_voyager  Model_wrangler  Model_x_reihe  \\\n",
       "139827             0              0               0              0   \n",
       "103241             0              0               0              0   \n",
       "175492             0              0               0              0   \n",
       "345910             0              0               0              0   \n",
       "75399              0              0               0              0   \n",
       "\n",
       "        Model_x_trail  Model_x_type  Model_xc_reihe  Model_yaris  Model_yeti  \\\n",
       "139827              0             0               0            0           0   \n",
       "103241              0             0               0            0           0   \n",
       "175492              0             0               0            0           0   \n",
       "345910              0             0               0            0           0   \n",
       "75399               0             0               0            0           0   \n",
       "\n",
       "        Model_ypsilon  Model_z_reihe  Model_zafira  FuelType_cng  \\\n",
       "139827              0              0             0             0   \n",
       "103241              0              0             0             0   \n",
       "175492              0              0             0             0   \n",
       "345910              0              0             0             0   \n",
       "75399               0              0             0             0   \n",
       "\n",
       "        FuelType_electric  FuelType_gasoline  FuelType_hybrid  FuelType_lpg  \\\n",
       "139827                  0                  0                0             0   \n",
       "103241                  0                  0                0             0   \n",
       "175492                  0                  0                0             0   \n",
       "345910                  0                  0                0             0   \n",
       "75399                   0                  0                0             0   \n",
       "\n",
       "        FuelType_other  FuelType_petrol  Brand_alfa_romeo  Brand_audi  \\\n",
       "139827               0                1                 0           0   \n",
       "103241               0                1                 0           0   \n",
       "175492               0                1                 0           0   \n",
       "345910               0                1                 0           0   \n",
       "75399                0                1                 0           0   \n",
       "\n",
       "        Brand_bmw  Brand_chevrolet  Brand_chrysler  Brand_citroen  \\\n",
       "139827          0                0               0              0   \n",
       "103241          0                0               0              0   \n",
       "175492          0                0               0              0   \n",
       "345910          0                0               0              0   \n",
       "75399           0                0               0              0   \n",
       "\n",
       "        Brand_dacia  Brand_daewoo  Brand_daihatsu  Brand_fiat  Brand_ford  \\\n",
       "139827            0             0               0           0           0   \n",
       "103241            0             0               0           1           0   \n",
       "175492            0             0               0           0           0   \n",
       "345910            0             0               0           0           0   \n",
       "75399             0             0               0           0           0   \n",
       "\n",
       "        Brand_honda  Brand_hyundai  Brand_jaguar  Brand_jeep  Brand_kia  \\\n",
       "139827            0              0             0           0          0   \n",
       "103241            0              0             0           0          0   \n",
       "175492            0              0             0           0          0   \n",
       "345910            0              0             0           0          0   \n",
       "75399             0              0             0           0          0   \n",
       "\n",
       "        Brand_lada  Brand_lancia  Brand_land_rover  Brand_mazda  \\\n",
       "139827           0             0                 0            0   \n",
       "103241           0             0                 0            0   \n",
       "175492           0             0                 0            0   \n",
       "345910           0             0                 0            0   \n",
       "75399            0             0                 0            0   \n",
       "\n",
       "        Brand_mercedes_benz  Brand_mini  Brand_mitsubishi  Brand_nissan  \\\n",
       "139827                    0           0                 0             0   \n",
       "103241                    0           0                 0             0   \n",
       "175492                    0           0                 1             0   \n",
       "345910                    0           0                 0             0   \n",
       "75399                     0           0                 0             0   \n",
       "\n",
       "        Brand_opel  Brand_peugeot  Brand_porsche  Brand_renault  Brand_rover  \\\n",
       "139827           1              0              0              0            0   \n",
       "103241           0              0              0              0            0   \n",
       "175492           0              0              0              0            0   \n",
       "345910           0              1              0              0            0   \n",
       "75399            0              0              0              0            0   \n",
       "\n",
       "        Brand_saab  Brand_seat  Brand_skoda  Brand_smart  \\\n",
       "139827           0           0            0            0   \n",
       "103241           0           0            0            0   \n",
       "175492           0           0            0            0   \n",
       "345910           0           0            0            0   \n",
       "75399            0           0            0            0   \n",
       "\n",
       "        Brand_sonstige_autos  Brand_subaru  Brand_suzuki  Brand_toyota  \\\n",
       "139827                     0             0             0             0   \n",
       "103241                     0             0             0             0   \n",
       "175492                     0             0             0             0   \n",
       "345910                     0             0             0             0   \n",
       "75399                      0             0             0             0   \n",
       "\n",
       "        Brand_trabant  Brand_volkswagen  Brand_volvo  NotRepaired_no  \\\n",
       "139827              0                 0            0               1   \n",
       "103241              0                 0            0               1   \n",
       "175492              0                 0            0               1   \n",
       "345910              0                 0            0               1   \n",
       "75399               0                 1            0               1   \n",
       "\n",
       "        NotRepaired_yes  \n",
       "139827                0  \n",
       "103241                0  \n",
       "175492                0  \n",
       "345910                0  \n",
       "75399                 0  "
      ]
     },
     "execution_count": 37,
     "metadata": {},
     "output_type": "execute_result"
    }
   ],
   "source": [
    "#Настроим стандартизацию на обучающей выборке для преобразованных и непреобразованных выборок\n",
    "scaler = StandardScaler()\n",
    "scaler.fit(features_train[numeric])\n",
    "scaler.fit(features_train_raw[numeric])\n",
    "\n",
    "#Отключаем предупреждение SettingWithCopy\n",
    "pd.options.mode.chained_assignment = None\n",
    "\n",
    "#Сохраним преобразованные выборки в соответствующих переменных для преобразованных выборок\n",
    "features_train[numeric] = scaler.transform(features_train[numeric])\n",
    "features_valid[numeric] = scaler.transform(features_valid[numeric])\n",
    "features_test[numeric] = scaler.transform(features_test[numeric])\n",
    "\n",
    "#И для непреобразованных\n",
    "features_train_raw[numeric] = scaler.transform(features_train_raw[numeric])\n",
    "features_valid_raw[numeric] = scaler.transform(features_valid_raw[numeric])\n",
    "features_test_raw[numeric] = scaler.transform(features_test_raw[numeric])\n",
    "\n",
    "#Посмотрим, что получилось\n",
    "features_train.head()"
   ]
  },
  {
   "cell_type": "markdown",
   "metadata": {},
   "source": [
    "Мы подготовили задел для увеличения качества модели: избавились от пропусков и лишних столбцов, преобразовали в численную форму категориальные признаки и привели разнокалиберные численные к единому масштабу. Подготовленные данные разбиты на три выборки, теперь можно переходить к подбору наиболее эффективной модели обучения."
   ]
  },
  {
   "cell_type": "markdown",
   "metadata": {},
   "source": [
    "<a id='4'></a>\n",
    "## Обучение моделей"
   ]
  },
  {
   "cell_type": "markdown",
   "metadata": {},
   "source": [
    "Для начала попробуем обучить простые модели, чтобы было на что опираться при оценке качества, затем перейдем к градиентному бустингу."
   ]
  },
  {
   "cell_type": "markdown",
   "metadata": {},
   "source": [
    "<a id='4.1'></a>\n",
    "### Константная модель"
   ]
  },
  {
   "cell_type": "code",
   "execution_count": 38,
   "metadata": {},
   "outputs": [
    {
     "name": "stdout",
     "output_type": "stream",
     "text": [
      "RMSE константной модели: 4616.39\n"
     ]
    }
   ],
   "source": [
    "predicted_valid_const = pd.Series(target_train.mean(), index=target_valid.index)\n",
    "rmse_const = mean_squared_error(target_valid, predicted_valid_const)**0.5\n",
    "\n",
    "print('RMSE константной модели: {:.2f}'.format(rmse_const))"
   ]
  },
  {
   "cell_type": "markdown",
   "metadata": {},
   "source": [
    "<a id='4.2'></a>\n",
    "### Линейная регрессия"
   ]
  },
  {
   "cell_type": "code",
   "execution_count": 39,
   "metadata": {},
   "outputs": [
    {
     "name": "stdout",
     "output_type": "stream",
     "text": [
      "CPU times: user 11.7 s, sys: 3.82 s, total: 15.5 s\n",
      "Wall time: 15.5 s\n"
     ]
    },
    {
     "data": {
      "text/plain": [
       "LinearRegression(copy_X=True, fit_intercept=True, n_jobs=None, normalize=True)"
      ]
     },
     "execution_count": 39,
     "metadata": {},
     "output_type": "execute_result"
    }
   ],
   "source": [
    "%%time\n",
    "\n",
    "lr = LinearRegression(normalize=True)\n",
    "lr.fit(features_train, target_train)\n"
   ]
  },
  {
   "cell_type": "code",
   "execution_count": 40,
   "metadata": {},
   "outputs": [
    {
     "name": "stdout",
     "output_type": "stream",
     "text": [
      "RMSE линейной регрессии:  2756.625823724701\n",
      "CPU times: user 88.9 ms, sys: 69.3 ms, total: 158 ms\n",
      "Wall time: 115 ms\n"
     ]
    }
   ],
   "source": [
    "%%time\n",
    "predictions_lr = lr.predict(features_valid)\n",
    "print(\"RMSE линейной регрессии: \", mean_squared_error(target_valid, predictions_lr)**(0.5))"
   ]
  },
  {
   "cell_type": "markdown",
   "metadata": {},
   "source": [
    "<a id='4.3'></a>\n",
    "### Решающее дерево"
   ]
  },
  {
   "cell_type": "code",
   "execution_count": 41,
   "metadata": {},
   "outputs": [],
   "source": [
    "#Подберем лучшие гиперпараметры\n",
    "#params_dtr = {\n",
    "   # 'max_depth': range(1, 50),\n",
    "   # 'min_samples_split': range(2, 20), \n",
    "   # 'min_samples_leaf': range(1, 5)\n",
    "   # }\n",
    "\n",
    "\n",
    "#dtr = DecisionTreeRegressor(random_state=12345)\n",
    "#grid_dtr = GridSearchCV(estimator=dtr, param_grid=params_dtr, cv=5, scoring='neg_mean_squared_error')\n",
    "#grid_dtr.fit(features_train, target_train)\n",
    "\n",
    "#print(\"Лучшие гиперпараметры: \", grid_dtr.best_params_)"
   ]
  },
  {
   "cell_type": "markdown",
   "metadata": {},
   "source": [
    "Теперь обучим модель на лучших гиперпараметрах и замерим скорость"
   ]
  },
  {
   "cell_type": "code",
   "execution_count": 42,
   "metadata": {},
   "outputs": [
    {
     "name": "stdout",
     "output_type": "stream",
     "text": [
      "CPU times: user 5.41 s, sys: 50.5 ms, total: 5.46 s\n",
      "Wall time: 5.46 s\n"
     ]
    },
    {
     "data": {
      "text/plain": [
       "DecisionTreeRegressor(criterion='mse', max_depth=50, max_features=None,\n",
       "                      max_leaf_nodes=None, min_impurity_decrease=0.0,\n",
       "                      min_impurity_split=None, min_samples_leaf=2,\n",
       "                      min_samples_split=20, min_weight_fraction_leaf=0.0,\n",
       "                      presort=False, random_state=12345, splitter='best')"
      ]
     },
     "execution_count": 42,
     "metadata": {},
     "output_type": "execute_result"
    }
   ],
   "source": [
    "%%time\n",
    "dtr_best = DecisionTreeRegressor(max_depth=50, min_samples_split=20, min_samples_leaf=2, random_state=12345)\n",
    "dtr_best.fit(features_train, target_train)"
   ]
  },
  {
   "cell_type": "code",
   "execution_count": 43,
   "metadata": {},
   "outputs": [
    {
     "name": "stdout",
     "output_type": "stream",
     "text": [
      "RMSE решающего дерева:  1858.3504779319417\n",
      "CPU times: user 64 ms, sys: 41.9 ms, total: 106 ms\n",
      "Wall time: 112 ms\n"
     ]
    }
   ],
   "source": [
    "%%time\n",
    "predictions_dtr_best = dtr_best.predict(features_valid)\n",
    "print(\"RMSE решающего дерева: \", (mean_squared_error(target_valid, predictions_dtr_best))**(0.5))"
   ]
  },
  {
   "cell_type": "markdown",
   "metadata": {},
   "source": [
    "<a id='4.4'></a>\n",
    "### CatBoost"
   ]
  },
  {
   "cell_type": "code",
   "execution_count": 48,
   "metadata": {},
   "outputs": [],
   "source": [
    "#Запишем словарь категориальных признаков\n",
    "\n",
    "cat_features = ['VehicleType', 'Gearbox', 'Model', 'FuelType', 'Brand', 'NotRepaired']"
   ]
  },
  {
   "cell_type": "code",
   "execution_count": null,
   "metadata": {},
   "outputs": [],
   "source": [
    "#Подберем лучшие гиперпараметры\n",
    "#params_cat = {\n",
    "   # 'depth': [6, 8, 10, 16],\n",
    "   # 'iterations': [10, 20, 50, 100],\n",
    "   # 'learning_rate': [0.1, 0.2, 0.3]\n",
    "   # }\n",
    "\n",
    "#cat = CatBoostRegressor()\n",
    "#grid_cat = GridSearchCV(estimator=cat, param_grid=params_cat, cv=5, scoring='neg_mean_squared_error')\n",
    "#grid_cat.fit(features_train, target_train, verbose=5)\n",
    "\n",
    "#print(\"Лучшие гиперпараметры: \", grid_cat.best_params_)"
   ]
  },
  {
   "cell_type": "markdown",
   "metadata": {},
   "source": [
    "Теперь обучим модель на лучших гиперпараметрах и замерим скорость"
   ]
  },
  {
   "cell_type": "code",
   "execution_count": 49,
   "metadata": {},
   "outputs": [
    {
     "name": "stdout",
     "output_type": "stream",
     "text": [
      "0:\tlearn: 4243.7603828\ttotal: 3.42s\tremaining: 5m 38s\n",
      "5:\tlearn: 3146.9109904\ttotal: 9.41s\tremaining: 2m 27s\n",
      "10:\tlearn: 2568.9133007\ttotal: 21.7s\tremaining: 2m 55s\n",
      "15:\tlearn: 2212.7990123\ttotal: 33.3s\tremaining: 2m 55s\n",
      "20:\tlearn: 2010.7327706\ttotal: 45.8s\tremaining: 2m 52s\n",
      "25:\tlearn: 1895.3233962\ttotal: 57.9s\tremaining: 2m 44s\n",
      "30:\tlearn: 1815.0610920\ttotal: 1m 9s\tremaining: 2m 35s\n",
      "35:\tlearn: 1767.2151010\ttotal: 1m 21s\tremaining: 2m 25s\n",
      "40:\tlearn: 1730.4909571\ttotal: 1m 33s\tremaining: 2m 14s\n",
      "45:\tlearn: 1703.3012051\ttotal: 1m 45s\tremaining: 2m 3s\n",
      "50:\tlearn: 1681.7386946\ttotal: 1m 57s\tremaining: 1m 52s\n",
      "55:\tlearn: 1663.3605876\ttotal: 2m 9s\tremaining: 1m 41s\n",
      "60:\tlearn: 1647.5123777\ttotal: 2m 21s\tremaining: 1m 30s\n",
      "65:\tlearn: 1629.9560337\ttotal: 2m 34s\tremaining: 1m 19s\n",
      "70:\tlearn: 1616.7676265\ttotal: 2m 45s\tremaining: 1m 7s\n",
      "75:\tlearn: 1604.4776584\ttotal: 2m 57s\tremaining: 56.2s\n",
      "80:\tlearn: 1593.8496975\ttotal: 3m 7s\tremaining: 44s\n",
      "85:\tlearn: 1585.4891785\ttotal: 3m 17s\tremaining: 32.1s\n",
      "90:\tlearn: 1575.3395676\ttotal: 3m 29s\tremaining: 20.7s\n",
      "95:\tlearn: 1563.2462535\ttotal: 3m 40s\tremaining: 9.21s\n",
      "99:\tlearn: 1556.4671056\ttotal: 3m 48s\tremaining: 0us\n",
      "CPU times: user 3min 10s, sys: 38.8 s, total: 3min 48s\n",
      "Wall time: 3min 50s\n"
     ]
    },
    {
     "data": {
      "text/plain": [
       "<catboost.core.CatBoostRegressor at 0x7fa7399b2410>"
      ]
     },
     "execution_count": 49,
     "metadata": {},
     "output_type": "execute_result"
    }
   ],
   "source": [
    "%%time\n",
    "cat_best = CatBoostRegressor(depth=16, iterations=100, learning_rate=0.1, verbose=5)\n",
    "cat_best.fit(features_train_raw, target_train_raw, cat_features=cat_features)"
   ]
  },
  {
   "cell_type": "code",
   "execution_count": 50,
   "metadata": {},
   "outputs": [
    {
     "name": "stdout",
     "output_type": "stream",
     "text": [
      "RMSE CatBoost:  1840.525246340906\n",
      "CPU times: user 204 ms, sys: 18.2 ms, total: 222 ms\n",
      "Wall time: 198 ms\n"
     ]
    }
   ],
   "source": [
    "%%time\n",
    "predictions_cat_best = cat_best.predict(features_valid_raw)\n",
    "print(\"RMSE CatBoost: \", (mean_squared_error(target_valid_raw, predictions_cat_best))**(0.5))"
   ]
  },
  {
   "cell_type": "markdown",
   "metadata": {},
   "source": [
    "<a id='4.5'></a>\n",
    "### LightGBM"
   ]
  },
  {
   "cell_type": "code",
   "execution_count": null,
   "metadata": {},
   "outputs": [],
   "source": [
    "#Подберем лучшие гиперпараметры\n",
    "#params_light = {\n",
    "   # 'num_leaves': [10, 20, 30, 70],\n",
    "   # 'max_depth': range(-5, -1),\n",
    "   # 'n_estimators':[80, 100, 150]\n",
    "   # }\n",
    "\n",
    "#light = LGBMRegressor()\n",
    "#grid_light = GridSearchCV(estimator=light, param_grid=params_light, cv=5, scoring='neg_mean_squared_error')\n",
    "#grid_light.fit(features_train, target_train)\n",
    "\n",
    "#print(\"Лучшие гиперпараметры: \", grid_light.best_params_)"
   ]
  },
  {
   "cell_type": "code",
   "execution_count": 51,
   "metadata": {},
   "outputs": [],
   "source": [
    "#Заменим тип данных у категориальных признаков\n",
    "cat_feature = ['VehicleType', 'Gearbox', 'Model', 'FuelType', 'Brand', 'NotRepaired']\n",
    "for column in cat_feature:\n",
    "    features_train_raw[column] = features_train_raw[column].astype('category')\n",
    "    features_test_raw[column] = features_test_raw[column].astype('category')\n",
    "    features_valid_raw[column] = features_valid_raw[column].astype('category')"
   ]
  },
  {
   "cell_type": "code",
   "execution_count": 52,
   "metadata": {},
   "outputs": [
    {
     "name": "stdout",
     "output_type": "stream",
     "text": [
      "<class 'pandas.core.frame.DataFrame'>\n",
      "Int64Index: 185597 entries, 284761 to 240759\n",
      "Data columns (total 9 columns):\n",
      "VehicleType         185597 non-null category\n",
      "RegistrationYear    185597 non-null float64\n",
      "Gearbox             185597 non-null category\n",
      "Power               185597 non-null float64\n",
      "Model               185597 non-null category\n",
      "Kilometer           185597 non-null float64\n",
      "FuelType            185597 non-null category\n",
      "Brand               185597 non-null category\n",
      "NotRepaired         185597 non-null category\n",
      "dtypes: category(6), float64(3)\n",
      "memory usage: 6.9 MB\n"
     ]
    }
   ],
   "source": [
    "features_train_raw.info()"
   ]
  },
  {
   "cell_type": "markdown",
   "metadata": {},
   "source": [
    "Теперь обучим модель на лучших гиперпараметрах и замерим скорость\n"
   ]
  },
  {
   "cell_type": "code",
   "execution_count": 53,
   "metadata": {},
   "outputs": [
    {
     "name": "stdout",
     "output_type": "stream",
     "text": [
      "CPU times: user 2.56 s, sys: 28.4 ms, total: 2.59 s\n",
      "Wall time: 2.58 s\n"
     ]
    },
    {
     "data": {
      "text/plain": [
       "LGBMRegressor(boosting_type='gbdt', class_weight=None, colsample_bytree=1.0,\n",
       "              importance_type='split', learning_rate=0.1, max_depth=-5,\n",
       "              min_child_samples=20, min_child_weight=0.001, min_split_gain=0.0,\n",
       "              n_estimators=150, n_jobs=-1, num_leaves=70, objective=None,\n",
       "              random_state=None, reg_alpha=0.0, reg_lambda=0.0, silent=True,\n",
       "              subsample=1.0, subsample_for_bin=200000, subsample_freq=0)"
      ]
     },
     "execution_count": 53,
     "metadata": {},
     "output_type": "execute_result"
    }
   ],
   "source": [
    "%%time\n",
    "light_best = LGBMRegressor(num_leaves=70, max_depth=-5, n_estimators=150)\n",
    "light_best.fit(features_train_raw, target_train_raw)"
   ]
  },
  {
   "cell_type": "code",
   "execution_count": 58,
   "metadata": {},
   "outputs": [
    {
     "name": "stdout",
     "output_type": "stream",
     "text": [
      "RMSE LightGBM:  1780.8316566842252\n",
      "CPU times: user 877 ms, sys: 2.17 ms, total: 879 ms\n",
      "Wall time: 877 ms\n"
     ]
    }
   ],
   "source": [
    "%%time\n",
    "predictions_light_best = light_best.predict(features_valid_raw)\n",
    "print(\"RMSE LightGBM: \", (mean_squared_error(target_valid_raw, predictions_light_best))**(0.5))"
   ]
  },
  {
   "cell_type": "markdown",
   "metadata": {},
   "source": [
    "<a id='4.6'></a>\n",
    "### XGBoost"
   ]
  },
  {
   "cell_type": "code",
   "execution_count": null,
   "metadata": {},
   "outputs": [],
   "source": [
    "#Подберем лучшие гиперпараметры\n",
    "#params_xgbr = {\n",
    "    #'min_split_loss': range(0, 10),\n",
    "   # 'max_depth': range(6, 10)\n",
    "   # }\n",
    "\n",
    "#xgbr = XGBRegressor()\n",
    "#grid_xgbr = GridSearchCV(estimator=light, param_grid=params_xgbr, cv=5, scoring='neg_mean_squared_error')\n",
    "#grid_xgbr.fit(features_train, target_train)\n",
    "\n",
    "#print(\"Лучшие гиперпараметры: \", grid_xgbr.best_params_)"
   ]
  },
  {
   "cell_type": "markdown",
   "metadata": {},
   "source": [
    "Теперь обучим модель на лучших гиперпараметрах и замерим скорость"
   ]
  },
  {
   "cell_type": "code",
   "execution_count": 44,
   "metadata": {},
   "outputs": [
    {
     "name": "stderr",
     "output_type": "stream",
     "text": [
      "/opt/conda/lib/python3.7/site-packages/xgboost/core.py:587: FutureWarning: Series.base is deprecated and will be removed in a future version\n",
      "  if getattr(data, 'base', None) is not None and \\\n"
     ]
    },
    {
     "name": "stdout",
     "output_type": "stream",
     "text": [
      "[16:22:57] WARNING: /workspace/src/objective/regression_obj.cu:152: reg:linear is now deprecated in favor of reg:squarederror.\n",
      "CPU times: user 3min 53s, sys: 972 ms, total: 3min 53s\n",
      "Wall time: 3min 58s\n"
     ]
    },
    {
     "data": {
      "text/plain": [
       "XGBRegressor(base_score=0.5, booster='gbtree', colsample_bylevel=1,\n",
       "             colsample_bynode=1, colsample_bytree=1, gamma=0,\n",
       "             importance_type='gain', learning_rate=0.1, max_delta_step=0,\n",
       "             max_depth=9, min_child_weight=1, min_split_loss=0, missing=None,\n",
       "             n_estimators=100, n_jobs=1, nthread=None, objective='reg:linear',\n",
       "             random_state=0, reg_alpha=0, reg_lambda=1, scale_pos_weight=1,\n",
       "             seed=None, silent=None, subsample=1, verbosity=1)"
      ]
     },
     "execution_count": 44,
     "metadata": {},
     "output_type": "execute_result"
    }
   ],
   "source": [
    "%%time\n",
    "xgbr_best = XGBRegressor(min_split_loss=0, max_depth=9)\n",
    "xgbr_best.fit(features_train, target_train)"
   ]
  },
  {
   "cell_type": "code",
   "execution_count": 45,
   "metadata": {},
   "outputs": [
    {
     "name": "stdout",
     "output_type": "stream",
     "text": [
      "RMSE XGBoost:  1657.9390071564742\n",
      "CPU times: user 525 ms, sys: 141 ms, total: 665 ms\n",
      "Wall time: 663 ms\n"
     ]
    }
   ],
   "source": [
    "%%time\n",
    "predictions_xgbr_best = xgbr_best.predict(features_valid)\n",
    "print(\"RMSE XGBoost: \", (mean_squared_error(target_valid, predictions_xgbr_best))**(0.5))"
   ]
  },
  {
   "cell_type": "markdown",
   "metadata": {},
   "source": [
    "**Вывод**. Все рассмотренные модели показали существенно лучшее качество, чем константная. Наилучшие результаты по качеству показали модели градиентного бустинга. Подобранные на настоящий момент гиперпараметры вывели на первое место по качеству модель XGBoost, однако она довольно медленная. Наиболее быстрой является модель LightGBM, по качеству она на втором месте. Далее проверим все три модели градиентного бустинга на тестовой выборке."
   ]
  },
  {
   "cell_type": "markdown",
   "metadata": {},
   "source": [
    "## Анализ моделей"
   ]
  },
  {
   "cell_type": "markdown",
   "metadata": {},
   "source": [
    "<a id='5.1'></a>\n",
    "### Тестирование лучших моделей"
   ]
  },
  {
   "cell_type": "code",
   "execution_count": 46,
   "metadata": {},
   "outputs": [],
   "source": [
    "#Функция для предсказания на тестовой выборке\n",
    "def model(params, model_name, features_test, target_test):\n",
    "    predictions_test = model_name.predict(features_test)\n",
    "    print(\"RMSE модели: \", mean_squared_error(target_test, predictions_test)**(0.5))"
   ]
  },
  {
   "cell_type": "markdown",
   "metadata": {},
   "source": [
    "Сделаем предсказание на тестовой выборке и замерим время для модели LightGBM"
   ]
  },
  {
   "cell_type": "code",
   "execution_count": 55,
   "metadata": {},
   "outputs": [
    {
     "name": "stdout",
     "output_type": "stream",
     "text": [
      "RMSE модели:  1787.7563094592736\n",
      "CPU times: user 866 ms, sys: 1.82 ms, total: 867 ms\n",
      "Wall time: 866 ms\n"
     ]
    }
   ],
   "source": [
    "%%time\n",
    "params = {'num_leaves':70, 'max_depth':-5, 'n_estimators':150}\n",
    "model(params, light_best, features_test_raw, target_test_raw)"
   ]
  },
  {
   "cell_type": "markdown",
   "metadata": {},
   "source": [
    "Сделаем предсказание на тестовой выборке и замерим время для модели CatBoost"
   ]
  },
  {
   "cell_type": "code",
   "execution_count": 56,
   "metadata": {},
   "outputs": [
    {
     "name": "stdout",
     "output_type": "stream",
     "text": [
      "RMSE модели:  1842.8323003326827\n",
      "CPU times: user 154 ms, sys: 16.2 ms, total: 170 ms\n",
      "Wall time: 114 ms\n"
     ]
    }
   ],
   "source": [
    "%%time\n",
    "params = {'depth':16, 'iterations':100, 'verbose':5}\n",
    "model(params, cat_best, features_test_raw, target_test_raw)"
   ]
  },
  {
   "cell_type": "markdown",
   "metadata": {},
   "source": [
    "Сделаем предсказание на тестовой выборке и замерим время для модели XGBoost"
   ]
  },
  {
   "cell_type": "code",
   "execution_count": 47,
   "metadata": {},
   "outputs": [
    {
     "name": "stdout",
     "output_type": "stream",
     "text": [
      "RMSE модели:  1661.5032466517625\n",
      "CPU times: user 544 ms, sys: 173 ms, total: 717 ms\n",
      "Wall time: 719 ms\n"
     ]
    }
   ],
   "source": [
    "%%time\n",
    "params = {'max_depth':9, 'min_split_loss':0}\n",
    "model(params, xgbr_best, features_test, target_test)"
   ]
  },
  {
   "cell_type": "markdown",
   "metadata": {},
   "source": [
    "Тестирование показало, что лучший результат по качеству по-прежнему у модели LightGBM. По сравнению с предсказаниями на валидационной выборке качество предсказаний у моделей ухудшилось, но совсем незначительно, это нормально."
   ]
  },
  {
   "cell_type": "markdown",
   "metadata": {},
   "source": [
    "<a id='5.2'></a>\n",
    "### Сравнение моделей"
   ]
  },
  {
   "cell_type": "markdown",
   "metadata": {},
   "source": [
    "Выведем итоговую сравнительную таблицу для всех рассмотренных моделей. Вносить будем результаты, полученные на валидационной выборке."
   ]
  },
  {
   "cell_type": "code",
   "execution_count": 57,
   "metadata": {},
   "outputs": [
    {
     "data": {
      "text/html": [
       "<div>\n",
       "<style scoped>\n",
       "    .dataframe tbody tr th:only-of-type {\n",
       "        vertical-align: middle;\n",
       "    }\n",
       "\n",
       "    .dataframe tbody tr th {\n",
       "        vertical-align: top;\n",
       "    }\n",
       "\n",
       "    .dataframe thead th {\n",
       "        text-align: right;\n",
       "    }\n",
       "</style>\n",
       "<table border=\"1\" class=\"dataframe\">\n",
       "  <thead>\n",
       "    <tr style=\"text-align: right;\">\n",
       "      <th></th>\n",
       "      <th>Время обучения</th>\n",
       "      <th>Время предсказания</th>\n",
       "      <th>RMSE</th>\n",
       "    </tr>\n",
       "  </thead>\n",
       "  <tbody>\n",
       "    <tr>\n",
       "      <td>Линейная регрессия</td>\n",
       "      <td>15.5 s</td>\n",
       "      <td>115 ms</td>\n",
       "      <td>2756</td>\n",
       "    </tr>\n",
       "    <tr>\n",
       "      <td>Решающее дерево</td>\n",
       "      <td>5.46 s</td>\n",
       "      <td>112 ms</td>\n",
       "      <td>1858</td>\n",
       "    </tr>\n",
       "    <tr>\n",
       "      <td>CatBoost</td>\n",
       "      <td>3 min 5 s</td>\n",
       "      <td>198 ms</td>\n",
       "      <td>1840</td>\n",
       "    </tr>\n",
       "    <tr>\n",
       "      <td>LightGBM</td>\n",
       "      <td>2.58 s</td>\n",
       "      <td>984 ms</td>\n",
       "      <td>1780</td>\n",
       "    </tr>\n",
       "    <tr>\n",
       "      <td>XGBoost</td>\n",
       "      <td>3 min 58 s</td>\n",
       "      <td>663 ms</td>\n",
       "      <td>1657</td>\n",
       "    </tr>\n",
       "  </tbody>\n",
       "</table>\n",
       "</div>"
      ],
      "text/plain": [
       "                   Время обучения Время предсказания  RMSE\n",
       "Линейная регрессия         15.5 s             115 ms  2756\n",
       "Решающее дерево            5.46 s             112 ms  1858\n",
       "CatBoost                3 min 5 s             198 ms  1840\n",
       "LightGBM                   2.58 s             984 ms  1780\n",
       "XGBoost                3 min 58 s             663 ms  1657"
      ]
     },
     "execution_count": 57,
     "metadata": {},
     "output_type": "execute_result"
    }
   ],
   "source": [
    "#Итоговая таблица сравнения моделей \n",
    "data = [[\"15.5 s\", \"115 ms\", 2756],\n",
    "        [\"5.46 s\", \"112 ms\", 1858],\n",
    "        [\"3 min 5 s\", \"198 ms\", 1840],\n",
    "        [\"2.58 s\", \"984 ms\", 1780],\n",
    "        [\"3 min 58 s\", \"663 ms\", 1657]]\n",
    "model = [\"Линейная регрессия\", \"Решающее дерево\", \"CatBoost\", \"LightGBM\", \"XGBoost\"]\n",
    "\n",
    "pd.DataFrame(data=data, index=model, columns=[\"Время обучения\", \"Время предсказания\", \"RMSE\"])"
   ]
  },
  {
   "cell_type": "markdown",
   "metadata": {},
   "source": [
    "**Вывод.** Лучшие результаты по качеству показала модель XGBoost, однако по скорости она - самая медленная из всех. Лучше всего по скорости - модель LightGBM, она же на втором месте по качеству. Так как в ТЗ не заданы ориентиры по приемлемому времени обучения, мы не знаем, насколько подходит скорость XGBoost. Если она слишком медленная, то можно взять LightGBM, полагаю, что если потратить на тюнинг больше времени, ее качество можно будет повысить.\n",
    "\n",
    "Модель решающего дерева также показала неплохие результы - высокую скорость обучения и предсказания при хорошем показателе качества. Возможно, если тщательней подойти к подбору гиперпараметров, можно было бы остановиться на решающем дереве как наиболее простой и быстрой модели. Но при текущем раскладе оставляем настоящего лидера по качеству.  \n",
    "\n",
    "**Для определения рыночной стоимости автомобиля для сервиса \"Не бит, не крашен\" рекомендуется модель градиентного бустинга XGBoost (по самому высокому качеству) или LightGBM (самая быстрая и вторая по качеству)**"
   ]
  }
 ],
 "metadata": {
  "ExecuteTimeLog": [
   {
    "duration": 1540,
    "start_time": "2021-10-16T20:18:52.053Z"
   },
   {
    "duration": 1120,
    "start_time": "2021-10-16T20:19:53.102Z"
   },
   {
    "duration": 39,
    "start_time": "2021-10-16T20:20:05.964Z"
   },
   {
    "duration": 34,
    "start_time": "2021-10-16T20:21:09.962Z"
   },
   {
    "duration": 158,
    "start_time": "2021-10-16T20:21:39.540Z"
   },
   {
    "duration": 742,
    "start_time": "2021-10-16T20:25:51.195Z"
   },
   {
    "duration": 605,
    "start_time": "2021-10-16T20:26:12.801Z"
   },
   {
    "duration": 630,
    "start_time": "2021-10-16T20:26:38.710Z"
   },
   {
    "duration": 645,
    "start_time": "2021-10-16T20:26:48.815Z"
   },
   {
    "duration": 7632,
    "start_time": "2021-10-16T20:32:41.876Z"
   },
   {
    "duration": 314,
    "start_time": "2021-10-16T20:33:34.183Z"
   },
   {
    "duration": 301,
    "start_time": "2021-10-16T20:35:38.619Z"
   },
   {
    "duration": 319,
    "start_time": "2021-10-16T20:37:34.600Z"
   },
   {
    "duration": 125,
    "start_time": "2021-10-16T20:38:24.802Z"
   },
   {
    "duration": 820,
    "start_time": "2021-10-16T20:39:02.172Z"
   },
   {
    "duration": 772,
    "start_time": "2021-10-16T20:39:14.800Z"
   },
   {
    "duration": 330,
    "start_time": "2021-10-16T20:39:28.343Z"
   },
   {
    "duration": 121,
    "start_time": "2021-10-16T20:42:54.857Z"
   },
   {
    "duration": 114,
    "start_time": "2021-10-16T20:43:04.069Z"
   },
   {
    "duration": 118,
    "start_time": "2021-10-16T21:11:50.230Z"
   },
   {
    "duration": 112,
    "start_time": "2021-10-16T21:12:25.688Z"
   },
   {
    "duration": 114,
    "start_time": "2021-10-16T21:15:24.787Z"
   },
   {
    "duration": 113,
    "start_time": "2021-10-16T21:16:17.520Z"
   },
   {
    "duration": 69,
    "start_time": "2021-10-16T21:17:12.074Z"
   },
   {
    "duration": 384,
    "start_time": "2021-10-16T21:19:18.208Z"
   },
   {
    "duration": 375,
    "start_time": "2021-10-16T21:19:50.948Z"
   },
   {
    "duration": 398,
    "start_time": "2021-10-16T21:20:11.792Z"
   },
   {
    "duration": 27,
    "start_time": "2021-10-16T21:20:39.220Z"
   },
   {
    "duration": 8,
    "start_time": "2021-10-16T21:22:14.974Z"
   },
   {
    "duration": 370,
    "start_time": "2021-10-16T21:22:27.633Z"
   },
   {
    "duration": 60,
    "start_time": "2021-10-16T21:23:46.350Z"
   },
   {
    "duration": 21,
    "start_time": "2021-10-16T21:24:06.970Z"
   },
   {
    "duration": 25,
    "start_time": "2021-10-16T21:24:13.983Z"
   },
   {
    "duration": 58,
    "start_time": "2021-10-16T21:29:33.804Z"
   },
   {
    "duration": 56,
    "start_time": "2021-10-16T21:30:09.452Z"
   },
   {
    "duration": 300,
    "start_time": "2021-10-16T21:31:18.178Z"
   },
   {
    "duration": 298,
    "start_time": "2021-10-16T21:31:28.186Z"
   },
   {
    "duration": 324,
    "start_time": "2021-10-16T21:31:49.407Z"
   },
   {
    "duration": 317,
    "start_time": "2021-10-16T21:31:54.462Z"
   },
   {
    "duration": 337,
    "start_time": "2021-10-16T21:32:55.817Z"
   },
   {
    "duration": 62,
    "start_time": "2021-10-16T21:33:04.998Z"
   },
   {
    "duration": 57,
    "start_time": "2021-10-16T21:33:12.906Z"
   },
   {
    "duration": 340,
    "start_time": "2021-10-16T21:33:55.792Z"
   },
   {
    "duration": 61,
    "start_time": "2021-10-16T21:34:30.742Z"
   },
   {
    "duration": 26,
    "start_time": "2021-10-16T21:34:38.627Z"
   },
   {
    "duration": 25,
    "start_time": "2021-10-16T21:34:46.767Z"
   },
   {
    "duration": 341,
    "start_time": "2021-10-16T21:35:16.956Z"
   },
   {
    "duration": 59,
    "start_time": "2021-10-16T21:35:21.559Z"
   },
   {
    "duration": 58,
    "start_time": "2021-10-16T21:41:38.929Z"
   },
   {
    "duration": 8018,
    "start_time": "2021-10-16T21:54:08.635Z"
   },
   {
    "duration": 347,
    "start_time": "2021-10-16T21:56:02.588Z"
   },
   {
    "duration": 2846,
    "start_time": "2021-10-16T21:56:08.912Z"
   },
   {
    "duration": 341,
    "start_time": "2021-10-16T21:56:46.082Z"
   },
   {
    "duration": 328,
    "start_time": "2021-10-16T21:57:15.388Z"
   },
   {
    "duration": 684,
    "start_time": "2021-10-16T21:57:40.474Z"
   },
   {
    "duration": 483,
    "start_time": "2021-10-16T21:58:40.579Z"
   },
   {
    "duration": 2453,
    "start_time": "2021-10-16T21:59:00.123Z"
   },
   {
    "duration": 2459,
    "start_time": "2021-10-16T22:00:17.228Z"
   },
   {
    "duration": 2454,
    "start_time": "2021-10-16T22:00:48.921Z"
   },
   {
    "duration": 2442,
    "start_time": "2021-10-16T22:01:00.324Z"
   },
   {
    "duration": 102,
    "start_time": "2021-10-16T22:01:22.098Z"
   },
   {
    "duration": 152,
    "start_time": "2021-10-16T22:01:28.266Z"
   },
   {
    "duration": 158,
    "start_time": "2021-10-16T22:01:59.975Z"
   },
   {
    "duration": 484,
    "start_time": "2021-10-16T22:02:20.535Z"
   },
   {
    "duration": 473,
    "start_time": "2021-10-16T22:02:34.649Z"
   },
   {
    "duration": 158,
    "start_time": "2021-10-16T22:02:46.275Z"
   },
   {
    "duration": 158,
    "start_time": "2021-10-16T22:03:03.319Z"
   },
   {
    "duration": 159,
    "start_time": "2021-10-16T22:03:49.319Z"
   },
   {
    "duration": 311,
    "start_time": "2021-10-16T22:55:35.704Z"
   },
   {
    "duration": 37,
    "start_time": "2021-10-16T22:55:52.004Z"
   },
   {
    "duration": 288,
    "start_time": "2021-10-16T22:58:49.596Z"
   },
   {
    "duration": 25,
    "start_time": "2021-10-16T23:04:01.930Z"
   },
   {
    "duration": 114,
    "start_time": "2021-10-17T01:03:43.487Z"
   },
   {
    "duration": 299,
    "start_time": "2021-10-17T01:04:18.642Z"
   },
   {
    "duration": 361,
    "start_time": "2021-10-17T01:04:31.580Z"
   },
   {
    "duration": 352,
    "start_time": "2021-10-17T01:04:38.844Z"
   },
   {
    "duration": 107,
    "start_time": "2021-10-17T01:05:02.173Z"
   },
   {
    "duration": 50,
    "start_time": "2021-10-17T01:26:09.898Z"
   },
   {
    "duration": 16,
    "start_time": "2021-10-17T01:26:20.472Z"
   },
   {
    "duration": 306,
    "start_time": "2021-10-17T01:26:55.989Z"
   },
   {
    "duration": 10,
    "start_time": "2021-10-17T01:27:12.654Z"
   },
   {
    "duration": 113,
    "start_time": "2021-10-17T01:27:50.737Z"
   },
   {
    "duration": 12,
    "start_time": "2021-10-17T01:27:56.931Z"
   },
   {
    "duration": 59,
    "start_time": "2021-10-17T01:30:44.630Z"
   },
   {
    "duration": 8496,
    "start_time": "2021-10-17T01:31:08.643Z"
   },
   {
    "duration": 1458,
    "start_time": "2021-10-17T01:31:33.030Z"
   },
   {
    "duration": 1150,
    "start_time": "2021-10-17T01:31:34.491Z"
   },
   {
    "duration": 39,
    "start_time": "2021-10-17T01:31:35.645Z"
   },
   {
    "duration": 175,
    "start_time": "2021-10-17T01:31:35.699Z"
   },
   {
    "duration": 672,
    "start_time": "2021-10-17T01:31:35.877Z"
   },
   {
    "duration": 138,
    "start_time": "2021-10-17T01:31:36.552Z"
   },
   {
    "duration": 316,
    "start_time": "2021-10-17T01:31:37.280Z"
   },
   {
    "duration": 310,
    "start_time": "2021-10-17T01:31:37.287Z"
   },
   {
    "duration": 309,
    "start_time": "2021-10-17T01:31:37.289Z"
   },
   {
    "duration": 308,
    "start_time": "2021-10-17T01:31:37.292Z"
   },
   {
    "duration": 303,
    "start_time": "2021-10-17T01:31:37.298Z"
   },
   {
    "duration": 300,
    "start_time": "2021-10-17T01:31:37.302Z"
   },
   {
    "duration": 293,
    "start_time": "2021-10-17T01:31:37.310Z"
   },
   {
    "duration": 291,
    "start_time": "2021-10-17T01:31:37.313Z"
   },
   {
    "duration": 291,
    "start_time": "2021-10-17T01:31:37.315Z"
   },
   {
    "duration": 289,
    "start_time": "2021-10-17T01:31:37.318Z"
   },
   {
    "duration": 271,
    "start_time": "2021-10-17T01:31:37.337Z"
   },
   {
    "duration": 272,
    "start_time": "2021-10-17T01:31:37.338Z"
   },
   {
    "duration": 271,
    "start_time": "2021-10-17T01:31:37.340Z"
   },
   {
    "duration": 5,
    "start_time": "2021-10-17T01:32:01.032Z"
   },
   {
    "duration": 1132,
    "start_time": "2021-10-17T01:32:01.040Z"
   },
   {
    "duration": 42,
    "start_time": "2021-10-17T01:32:02.176Z"
   },
   {
    "duration": 179,
    "start_time": "2021-10-17T01:32:02.221Z"
   },
   {
    "duration": 632,
    "start_time": "2021-10-17T01:32:02.403Z"
   },
   {
    "duration": 133,
    "start_time": "2021-10-17T01:32:03.037Z"
   },
   {
    "duration": 173,
    "start_time": "2021-10-17T01:32:03.173Z"
   },
   {
    "duration": 78,
    "start_time": "2021-10-17T01:32:03.349Z"
   },
   {
    "duration": 124,
    "start_time": "2021-10-17T01:32:03.430Z"
   },
   {
    "duration": 86,
    "start_time": "2021-10-17T01:32:03.556Z"
   },
   {
    "duration": 307,
    "start_time": "2021-10-17T01:32:03.645Z"
   },
   {
    "duration": 115,
    "start_time": "2021-10-17T01:32:03.954Z"
   },
   {
    "duration": 312,
    "start_time": "2021-10-17T01:32:03.761Z"
   },
   {
    "duration": 117,
    "start_time": "2021-10-17T01:33:27.890Z"
   },
   {
    "duration": 16,
    "start_time": "2021-10-17T01:33:30.435Z"
   },
   {
    "duration": 534,
    "start_time": "2021-10-17T01:37:11.941Z"
   },
   {
    "duration": 3127,
    "start_time": "2021-10-17T01:37:28.734Z"
   },
   {
    "duration": 558,
    "start_time": "2021-10-17T01:37:48.932Z"
   },
   {
    "duration": 569,
    "start_time": "2021-10-17T01:38:58.089Z"
   },
   {
    "duration": 739,
    "start_time": "2021-10-17T01:39:09.421Z"
   },
   {
    "duration": 862,
    "start_time": "2021-10-17T01:39:43.781Z"
   },
   {
    "duration": 460,
    "start_time": "2021-10-17T01:40:46.511Z"
   },
   {
    "duration": 360,
    "start_time": "2021-10-17T01:42:00.976Z"
   },
   {
    "duration": 315,
    "start_time": "2021-10-17T01:43:36.561Z"
   },
   {
    "duration": 3814,
    "start_time": "2021-10-17T01:43:50.821Z"
   },
   {
    "duration": 325,
    "start_time": "2021-10-17T01:44:15.677Z"
   },
   {
    "duration": 863,
    "start_time": "2021-10-17T01:44:28.079Z"
   },
   {
    "duration": 861,
    "start_time": "2021-10-17T01:44:41.813Z"
   },
   {
    "duration": 903,
    "start_time": "2021-10-17T01:51:44.861Z"
   },
   {
    "duration": 31,
    "start_time": "2021-10-17T01:55:38.555Z"
   },
   {
    "duration": 907,
    "start_time": "2021-10-17T01:57:29.893Z"
   },
   {
    "duration": 13,
    "start_time": "2021-10-17T01:59:07.023Z"
   },
   {
    "duration": 14,
    "start_time": "2021-10-17T01:59:33.629Z"
   },
   {
    "duration": 12,
    "start_time": "2021-10-17T02:00:29.481Z"
   },
   {
    "duration": 12,
    "start_time": "2021-10-17T02:00:39.313Z"
   },
   {
    "duration": 12,
    "start_time": "2021-10-17T02:00:51.276Z"
   },
   {
    "duration": 13,
    "start_time": "2021-10-17T02:00:59.792Z"
   },
   {
    "duration": 14,
    "start_time": "2021-10-17T02:01:53.664Z"
   },
   {
    "duration": 490,
    "start_time": "2021-10-17T02:05:09.855Z"
   },
   {
    "duration": 33,
    "start_time": "2021-10-17T02:05:16.386Z"
   },
   {
    "duration": 15,
    "start_time": "2021-10-17T02:05:47.691Z"
   },
   {
    "duration": 317,
    "start_time": "2021-10-17T02:13:00.337Z"
   },
   {
    "duration": 320,
    "start_time": "2021-10-17T02:13:06.069Z"
   },
   {
    "duration": 42,
    "start_time": "2021-10-17T02:13:50.323Z"
   },
   {
    "duration": 69,
    "start_time": "2021-10-17T02:14:16.954Z"
   },
   {
    "duration": 1547,
    "start_time": "2021-10-17T02:14:23.934Z"
   },
   {
    "duration": 1263,
    "start_time": "2021-10-17T02:14:25.484Z"
   },
   {
    "duration": 50,
    "start_time": "2021-10-17T02:14:26.750Z"
   },
   {
    "duration": 170,
    "start_time": "2021-10-17T02:14:26.803Z"
   },
   {
    "duration": 673,
    "start_time": "2021-10-17T02:14:26.975Z"
   },
   {
    "duration": 132,
    "start_time": "2021-10-17T02:14:27.651Z"
   },
   {
    "duration": 178,
    "start_time": "2021-10-17T02:14:27.786Z"
   },
   {
    "duration": 73,
    "start_time": "2021-10-17T02:14:27.968Z"
   },
   {
    "duration": 132,
    "start_time": "2021-10-17T02:14:28.044Z"
   },
   {
    "duration": 73,
    "start_time": "2021-10-17T02:14:28.179Z"
   },
   {
    "duration": 307,
    "start_time": "2021-10-17T02:14:28.255Z"
   },
   {
    "duration": 119,
    "start_time": "2021-10-17T02:14:28.565Z"
   },
   {
    "duration": 21,
    "start_time": "2021-10-17T02:14:28.686Z"
   },
   {
    "duration": 903,
    "start_time": "2021-10-17T02:14:28.710Z"
   },
   {
    "duration": 866,
    "start_time": "2021-10-17T02:14:29.616Z"
   },
   {
    "duration": 45,
    "start_time": "2021-10-17T02:14:30.485Z"
   },
   {
    "duration": 906,
    "start_time": "2021-10-17T02:14:30.533Z"
   },
   {
    "duration": 13,
    "start_time": "2021-10-17T02:14:31.441Z"
   },
   {
    "duration": 14,
    "start_time": "2021-10-17T02:14:31.457Z"
   },
   {
    "duration": 67,
    "start_time": "2021-10-17T02:14:31.501Z"
   },
   {
    "duration": 13,
    "start_time": "2021-10-17T02:14:58.841Z"
   },
   {
    "duration": 16,
    "start_time": "2021-10-17T02:15:23.898Z"
   },
   {
    "duration": 15,
    "start_time": "2021-10-17T02:15:46.185Z"
   },
   {
    "duration": 981,
    "start_time": "2021-10-17T02:16:00.104Z"
   },
   {
    "duration": 870,
    "start_time": "2021-10-17T02:16:11.435Z"
   },
   {
    "duration": 872,
    "start_time": "2021-10-17T02:16:39.610Z"
   },
   {
    "duration": 867,
    "start_time": "2021-10-17T02:16:47.350Z"
   },
   {
    "duration": 862,
    "start_time": "2021-10-17T02:17:18.931Z"
   },
   {
    "duration": 48,
    "start_time": "2021-10-17T02:18:19.640Z"
   },
   {
    "duration": 16,
    "start_time": "2021-10-17T02:18:52.682Z"
   },
   {
    "duration": 1466,
    "start_time": "2021-10-17T02:19:13.228Z"
   },
   {
    "duration": 1141,
    "start_time": "2021-10-17T02:19:14.696Z"
   },
   {
    "duration": 38,
    "start_time": "2021-10-17T02:19:15.840Z"
   },
   {
    "duration": 180,
    "start_time": "2021-10-17T02:19:15.881Z"
   },
   {
    "duration": 645,
    "start_time": "2021-10-17T02:19:16.063Z"
   },
   {
    "duration": 131,
    "start_time": "2021-10-17T02:19:16.710Z"
   },
   {
    "duration": 184,
    "start_time": "2021-10-17T02:19:16.844Z"
   },
   {
    "duration": 81,
    "start_time": "2021-10-17T02:19:17.031Z"
   },
   {
    "duration": 122,
    "start_time": "2021-10-17T02:19:17.117Z"
   },
   {
    "duration": 93,
    "start_time": "2021-10-17T02:19:17.243Z"
   },
   {
    "duration": 299,
    "start_time": "2021-10-17T02:19:17.339Z"
   },
   {
    "duration": 114,
    "start_time": "2021-10-17T02:19:17.641Z"
   },
   {
    "duration": 17,
    "start_time": "2021-10-17T02:19:17.758Z"
   },
   {
    "duration": 907,
    "start_time": "2021-10-17T02:19:17.778Z"
   },
   {
    "duration": 880,
    "start_time": "2021-10-17T02:19:18.689Z"
   },
   {
    "duration": 55,
    "start_time": "2021-10-17T02:19:19.572Z"
   },
   {
    "duration": 874,
    "start_time": "2021-10-17T02:19:19.630Z"
   },
   {
    "duration": 16,
    "start_time": "2021-10-17T02:19:20.507Z"
   },
   {
    "duration": 15,
    "start_time": "2021-10-17T02:19:20.526Z"
   },
   {
    "duration": 111,
    "start_time": "2021-10-17T02:19:20.544Z"
   },
   {
    "duration": 914,
    "start_time": "2021-10-17T02:22:17.937Z"
   },
   {
    "duration": 853,
    "start_time": "2021-10-17T02:22:29.044Z"
   },
   {
    "duration": 877,
    "start_time": "2021-10-17T02:24:04.244Z"
   },
   {
    "duration": 875,
    "start_time": "2021-10-17T02:24:22.608Z"
   },
   {
    "duration": 870,
    "start_time": "2021-10-17T02:24:33.713Z"
   },
   {
    "duration": 1002,
    "start_time": "2021-10-17T02:24:42.967Z"
   },
   {
    "duration": 879,
    "start_time": "2021-10-17T02:25:28.208Z"
   },
   {
    "duration": 873,
    "start_time": "2021-10-17T02:25:38.931Z"
   },
   {
    "duration": 3386,
    "start_time": "2021-10-17T02:25:46.815Z"
   },
   {
    "duration": 3388,
    "start_time": "2021-10-17T02:25:56.522Z"
   },
   {
    "duration": 894,
    "start_time": "2021-10-17T02:27:01.830Z"
   },
   {
    "duration": 901,
    "start_time": "2021-10-17T02:27:13.042Z"
   },
   {
    "duration": 885,
    "start_time": "2021-10-17T02:27:23.824Z"
   },
   {
    "duration": 836,
    "start_time": "2021-10-17T02:27:42.141Z"
   },
   {
    "duration": 1017,
    "start_time": "2021-10-17T02:27:56.191Z"
   },
   {
    "duration": 859,
    "start_time": "2021-10-17T02:28:27.014Z"
   },
   {
    "duration": 864,
    "start_time": "2021-10-17T02:28:48.769Z"
   },
   {
    "duration": 45,
    "start_time": "2021-10-17T02:30:37.034Z"
   },
   {
    "duration": 107,
    "start_time": "2021-10-17T02:30:56.663Z"
   },
   {
    "duration": 102,
    "start_time": "2021-10-17T02:31:07.300Z"
   },
   {
    "duration": 1480,
    "start_time": "2021-10-17T02:32:05.612Z"
   },
   {
    "duration": 1151,
    "start_time": "2021-10-17T02:32:07.095Z"
   },
   {
    "duration": 37,
    "start_time": "2021-10-17T02:32:08.250Z"
   },
   {
    "duration": 168,
    "start_time": "2021-10-17T02:32:08.290Z"
   },
   {
    "duration": 648,
    "start_time": "2021-10-17T02:32:08.460Z"
   },
   {
    "duration": 127,
    "start_time": "2021-10-17T02:32:09.111Z"
   },
   {
    "duration": 164,
    "start_time": "2021-10-17T02:32:09.240Z"
   },
   {
    "duration": 57,
    "start_time": "2021-10-17T02:32:09.408Z"
   },
   {
    "duration": 124,
    "start_time": "2021-10-17T02:32:09.468Z"
   },
   {
    "duration": 64,
    "start_time": "2021-10-17T02:32:09.595Z"
   },
   {
    "duration": 383,
    "start_time": "2021-10-17T02:32:09.662Z"
   },
   {
    "duration": 158,
    "start_time": "2021-10-17T02:32:10.047Z"
   },
   {
    "duration": 16,
    "start_time": "2021-10-17T02:32:10.208Z"
   },
   {
    "duration": 1459,
    "start_time": "2021-10-17T02:32:10.227Z"
   },
   {
    "duration": 1492,
    "start_time": "2021-10-17T02:32:11.690Z"
   },
   {
    "duration": 50,
    "start_time": "2021-10-17T02:32:13.185Z"
   },
   {
    "duration": 1407,
    "start_time": "2021-10-17T02:32:13.238Z"
   },
   {
    "duration": 19,
    "start_time": "2021-10-17T02:32:14.649Z"
   },
   {
    "duration": 40,
    "start_time": "2021-10-17T02:32:14.672Z"
   },
   {
    "duration": 42,
    "start_time": "2021-10-17T02:32:14.716Z"
   },
   {
    "duration": 1517,
    "start_time": "2021-10-17T02:32:14.762Z"
   },
   {
    "duration": 54,
    "start_time": "2021-10-17T02:32:16.282Z"
   },
   {
    "duration": 155,
    "start_time": "2021-10-17T02:32:16.342Z"
   },
   {
    "duration": 70,
    "start_time": "2021-10-17T02:34:14.238Z"
   },
   {
    "duration": 16,
    "start_time": "2021-10-17T02:46:22.761Z"
   },
   {
    "duration": 472,
    "start_time": "2021-10-17T02:47:06.981Z"
   },
   {
    "duration": 431,
    "start_time": "2021-10-17T02:47:20.851Z"
   },
   {
    "duration": 401,
    "start_time": "2021-10-17T02:48:40.371Z"
   },
   {
    "duration": 360,
    "start_time": "2021-10-17T02:49:27.713Z"
   },
   {
    "duration": 1589,
    "start_time": "2021-10-17T03:10:31.001Z"
   },
   {
    "duration": 1155,
    "start_time": "2021-10-17T03:10:32.593Z"
   },
   {
    "duration": 37,
    "start_time": "2021-10-17T03:10:33.752Z"
   },
   {
    "duration": 166,
    "start_time": "2021-10-17T03:10:33.801Z"
   },
   {
    "duration": 664,
    "start_time": "2021-10-17T03:10:33.969Z"
   },
   {
    "duration": 135,
    "start_time": "2021-10-17T03:10:34.635Z"
   },
   {
    "duration": 172,
    "start_time": "2021-10-17T03:10:34.772Z"
   },
   {
    "duration": 79,
    "start_time": "2021-10-17T03:10:34.946Z"
   },
   {
    "duration": 122,
    "start_time": "2021-10-17T03:10:35.029Z"
   },
   {
    "duration": 83,
    "start_time": "2021-10-17T03:10:35.153Z"
   },
   {
    "duration": 299,
    "start_time": "2021-10-17T03:10:35.238Z"
   },
   {
    "duration": 95,
    "start_time": "2021-10-17T03:10:35.540Z"
   },
   {
    "duration": 920,
    "start_time": "2021-10-17T03:10:35.637Z"
   },
   {
    "duration": 886,
    "start_time": "2021-10-17T03:10:36.559Z"
   },
   {
    "duration": 55,
    "start_time": "2021-10-17T03:10:37.448Z"
   },
   {
    "duration": 883,
    "start_time": "2021-10-17T03:10:37.505Z"
   },
   {
    "duration": 21,
    "start_time": "2021-10-17T03:10:38.390Z"
   },
   {
    "duration": 14,
    "start_time": "2021-10-17T03:10:38.414Z"
   },
   {
    "duration": 80,
    "start_time": "2021-10-17T03:10:38.430Z"
   },
   {
    "duration": 984,
    "start_time": "2021-10-17T03:10:38.512Z"
   },
   {
    "duration": 48,
    "start_time": "2021-10-17T03:10:39.501Z"
   },
   {
    "duration": 98,
    "start_time": "2021-10-17T03:10:39.551Z"
   },
   {
    "duration": 16,
    "start_time": "2021-10-17T03:10:39.652Z"
   },
   {
    "duration": 453,
    "start_time": "2021-10-17T03:10:39.670Z"
   },
   {
    "duration": 302,
    "start_time": "2021-10-17T03:10:39.824Z"
   },
   {
    "duration": 1510,
    "start_time": "2021-10-17T03:12:24.976Z"
   },
   {
    "duration": 1122,
    "start_time": "2021-10-17T03:12:26.489Z"
   },
   {
    "duration": 41,
    "start_time": "2021-10-17T03:12:27.615Z"
   },
   {
    "duration": 186,
    "start_time": "2021-10-17T03:12:27.659Z"
   },
   {
    "duration": 655,
    "start_time": "2021-10-17T03:12:27.848Z"
   },
   {
    "duration": 136,
    "start_time": "2021-10-17T03:12:28.506Z"
   },
   {
    "duration": 180,
    "start_time": "2021-10-17T03:12:28.646Z"
   },
   {
    "duration": 82,
    "start_time": "2021-10-17T03:12:28.829Z"
   },
   {
    "duration": 127,
    "start_time": "2021-10-17T03:12:28.918Z"
   },
   {
    "duration": 89,
    "start_time": "2021-10-17T03:12:29.049Z"
   },
   {
    "duration": 303,
    "start_time": "2021-10-17T03:12:29.141Z"
   },
   {
    "duration": 128,
    "start_time": "2021-10-17T03:12:29.447Z"
   },
   {
    "duration": 29,
    "start_time": "2021-10-17T03:12:29.577Z"
   },
   {
    "duration": 909,
    "start_time": "2021-10-17T03:12:29.610Z"
   },
   {
    "duration": 877,
    "start_time": "2021-10-17T03:12:30.523Z"
   },
   {
    "duration": 44,
    "start_time": "2021-10-17T03:12:31.404Z"
   },
   {
    "duration": 895,
    "start_time": "2021-10-17T03:12:31.451Z"
   },
   {
    "duration": 16,
    "start_time": "2021-10-17T03:12:32.349Z"
   },
   {
    "duration": 40,
    "start_time": "2021-10-17T03:12:32.367Z"
   },
   {
    "duration": 54,
    "start_time": "2021-10-17T03:12:32.410Z"
   },
   {
    "duration": 969,
    "start_time": "2021-10-17T03:12:32.467Z"
   },
   {
    "duration": 61,
    "start_time": "2021-10-17T03:12:33.439Z"
   },
   {
    "duration": 79,
    "start_time": "2021-10-17T03:12:33.503Z"
   },
   {
    "duration": 31,
    "start_time": "2021-10-17T03:12:33.584Z"
   },
   {
    "duration": 446,
    "start_time": "2021-10-17T03:12:33.617Z"
   },
   {
    "duration": 297,
    "start_time": "2021-10-17T03:12:33.768Z"
   },
   {
    "duration": 684,
    "start_time": "2021-10-17T03:18:10.046Z"
   },
   {
    "duration": 654,
    "start_time": "2021-10-17T03:19:52.673Z"
   },
   {
    "duration": 1488,
    "start_time": "2021-10-17T03:20:56.918Z"
   },
   {
    "duration": 1145,
    "start_time": "2021-10-17T03:20:58.409Z"
   },
   {
    "duration": 56,
    "start_time": "2021-10-17T03:20:59.558Z"
   },
   {
    "duration": 179,
    "start_time": "2021-10-17T03:20:59.617Z"
   },
   {
    "duration": 701,
    "start_time": "2021-10-17T03:20:59.801Z"
   },
   {
    "duration": 149,
    "start_time": "2021-10-17T03:21:00.505Z"
   },
   {
    "duration": 186,
    "start_time": "2021-10-17T03:21:00.658Z"
   },
   {
    "duration": 79,
    "start_time": "2021-10-17T03:21:00.849Z"
   },
   {
    "duration": 136,
    "start_time": "2021-10-17T03:21:00.932Z"
   },
   {
    "duration": 88,
    "start_time": "2021-10-17T03:21:01.070Z"
   },
   {
    "duration": 303,
    "start_time": "2021-10-17T03:21:01.160Z"
   },
   {
    "duration": 129,
    "start_time": "2021-10-17T03:21:01.465Z"
   },
   {
    "duration": 17,
    "start_time": "2021-10-17T03:21:01.596Z"
   },
   {
    "duration": 912,
    "start_time": "2021-10-17T03:21:01.615Z"
   },
   {
    "duration": 878,
    "start_time": "2021-10-17T03:21:02.530Z"
   },
   {
    "duration": 38,
    "start_time": "2021-10-17T03:21:03.410Z"
   },
   {
    "duration": 895,
    "start_time": "2021-10-17T03:21:03.451Z"
   },
   {
    "duration": 13,
    "start_time": "2021-10-17T03:21:04.348Z"
   },
   {
    "duration": 37,
    "start_time": "2021-10-17T03:21:04.364Z"
   },
   {
    "duration": 53,
    "start_time": "2021-10-17T03:21:04.403Z"
   },
   {
    "duration": 961,
    "start_time": "2021-10-17T03:21:04.458Z"
   },
   {
    "duration": 42,
    "start_time": "2021-10-17T03:21:05.421Z"
   },
   {
    "duration": 94,
    "start_time": "2021-10-17T03:21:05.467Z"
   },
   {
    "duration": 36,
    "start_time": "2021-10-17T03:21:05.564Z"
   },
   {
    "duration": 829,
    "start_time": "2021-10-17T03:21:05.602Z"
   },
   {
    "duration": 3,
    "start_time": "2021-10-17T03:21:06.433Z"
   },
   {
    "duration": 499,
    "start_time": "2021-10-17T03:25:12.409Z"
   },
   {
    "duration": 192,
    "start_time": "2021-10-17T03:25:30.201Z"
   },
   {
    "duration": 1566,
    "start_time": "2021-10-17T17:31:17.285Z"
   },
   {
    "duration": 1218,
    "start_time": "2021-10-17T17:31:18.854Z"
   },
   {
    "duration": 38,
    "start_time": "2021-10-17T17:31:20.075Z"
   },
   {
    "duration": 172,
    "start_time": "2021-10-17T17:31:20.115Z"
   },
   {
    "duration": 643,
    "start_time": "2021-10-17T17:31:20.289Z"
   },
   {
    "duration": 143,
    "start_time": "2021-10-17T17:31:20.935Z"
   },
   {
    "duration": 177,
    "start_time": "2021-10-17T17:31:21.080Z"
   },
   {
    "duration": 59,
    "start_time": "2021-10-17T17:31:21.262Z"
   },
   {
    "duration": 139,
    "start_time": "2021-10-17T17:31:21.325Z"
   },
   {
    "duration": 65,
    "start_time": "2021-10-17T17:31:21.468Z"
   },
   {
    "duration": 327,
    "start_time": "2021-10-17T17:31:21.535Z"
   },
   {
    "duration": 126,
    "start_time": "2021-10-17T17:31:21.864Z"
   },
   {
    "duration": 18,
    "start_time": "2021-10-17T17:31:21.993Z"
   },
   {
    "duration": 904,
    "start_time": "2021-10-17T17:31:22.013Z"
   },
   {
    "duration": 852,
    "start_time": "2021-10-17T17:31:22.919Z"
   },
   {
    "duration": 37,
    "start_time": "2021-10-17T17:31:23.774Z"
   },
   {
    "duration": 874,
    "start_time": "2021-10-17T17:31:23.814Z"
   },
   {
    "duration": 13,
    "start_time": "2021-10-17T17:31:24.690Z"
   },
   {
    "duration": 31,
    "start_time": "2021-10-17T17:31:24.705Z"
   },
   {
    "duration": 58,
    "start_time": "2021-10-17T17:31:24.738Z"
   },
   {
    "duration": 954,
    "start_time": "2021-10-17T17:31:24.799Z"
   },
   {
    "duration": 47,
    "start_time": "2021-10-17T17:31:25.755Z"
   },
   {
    "duration": 93,
    "start_time": "2021-10-17T17:31:25.805Z"
   },
   {
    "duration": 15,
    "start_time": "2021-10-17T17:31:25.900Z"
   },
   {
    "duration": 1000,
    "start_time": "2021-10-17T17:31:25.918Z"
   },
   {
    "duration": 192,
    "start_time": "2021-10-17T17:31:26.921Z"
   },
   {
    "duration": 101,
    "start_time": "2021-10-17T19:04:02.699Z"
   },
   {
    "duration": 504,
    "start_time": "2021-10-17T19:04:30.391Z"
   },
   {
    "duration": 322,
    "start_time": "2021-10-17T19:12:17.311Z"
   },
   {
    "duration": 347,
    "start_time": "2021-10-17T19:12:27.494Z"
   },
   {
    "duration": 6,
    "start_time": "2021-10-17T19:13:00.837Z"
   },
   {
    "duration": 983,
    "start_time": "2021-10-17T19:16:39.688Z"
   },
   {
    "duration": 274,
    "start_time": "2021-10-17T19:17:03.231Z"
   },
   {
    "duration": 6,
    "start_time": "2021-10-17T19:18:45.530Z"
   },
   {
    "duration": 158,
    "start_time": "2021-10-17T20:18:55.915Z"
   },
   {
    "duration": 35,
    "start_time": "2021-10-17T20:20:28.161Z"
   },
   {
    "duration": 36,
    "start_time": "2021-10-17T20:20:40.260Z"
   },
   {
    "duration": 91,
    "start_time": "2021-10-17T20:20:51.983Z"
   },
   {
    "duration": 1433,
    "start_time": "2021-10-17T20:22:04.507Z"
   },
   {
    "duration": 1099,
    "start_time": "2021-10-17T20:22:05.944Z"
   },
   {
    "duration": 46,
    "start_time": "2021-10-17T20:22:07.046Z"
   },
   {
    "duration": 168,
    "start_time": "2021-10-17T20:22:07.094Z"
   },
   {
    "duration": 618,
    "start_time": "2021-10-17T20:22:07.264Z"
   },
   {
    "duration": 132,
    "start_time": "2021-10-17T20:22:07.884Z"
   },
   {
    "duration": 177,
    "start_time": "2021-10-17T20:22:08.019Z"
   },
   {
    "duration": 70,
    "start_time": "2021-10-17T20:22:08.200Z"
   },
   {
    "duration": 118,
    "start_time": "2021-10-17T20:22:08.273Z"
   },
   {
    "duration": 75,
    "start_time": "2021-10-17T20:22:08.394Z"
   },
   {
    "duration": 276,
    "start_time": "2021-10-17T20:22:08.472Z"
   },
   {
    "duration": 118,
    "start_time": "2021-10-17T20:22:08.750Z"
   },
   {
    "duration": 16,
    "start_time": "2021-10-17T20:22:08.870Z"
   },
   {
    "duration": 925,
    "start_time": "2021-10-17T20:22:08.888Z"
   },
   {
    "duration": 989,
    "start_time": "2021-10-17T20:22:09.816Z"
   },
   {
    "duration": 35,
    "start_time": "2021-10-17T20:22:10.808Z"
   },
   {
    "duration": 910,
    "start_time": "2021-10-17T20:22:10.845Z"
   },
   {
    "duration": 14,
    "start_time": "2021-10-17T20:22:11.761Z"
   },
   {
    "duration": 14,
    "start_time": "2021-10-17T20:22:11.777Z"
   },
   {
    "duration": 74,
    "start_time": "2021-10-17T20:22:11.794Z"
   },
   {
    "duration": 928,
    "start_time": "2021-10-17T20:22:11.871Z"
   },
   {
    "duration": 37,
    "start_time": "2021-10-17T20:22:12.801Z"
   },
   {
    "duration": 82,
    "start_time": "2021-10-17T20:22:12.842Z"
   },
   {
    "duration": 36,
    "start_time": "2021-10-17T20:22:12.926Z"
   },
   {
    "duration": 670,
    "start_time": "2021-10-17T20:22:12.964Z"
   },
   {
    "duration": 181,
    "start_time": "2021-10-17T20:22:13.637Z"
   },
   {
    "duration": 109,
    "start_time": "2021-10-17T20:22:13.820Z"
   },
   {
    "duration": 831,
    "start_time": "2021-10-17T20:22:13.931Z"
   },
   {
    "duration": 269,
    "start_time": "2021-10-17T20:22:14.764Z"
   },
   {
    "duration": 6,
    "start_time": "2021-10-17T20:22:15.036Z"
   },
   {
    "duration": 195,
    "start_time": "2021-10-17T20:22:15.045Z"
   },
   {
    "duration": 2097,
    "start_time": "2021-10-17T21:31:25.073Z"
   },
   {
    "duration": 465,
    "start_time": "2021-10-17T21:32:10.469Z"
   },
   {
    "duration": 146,
    "start_time": "2021-10-17T21:32:54.126Z"
   },
   {
    "duration": 3,
    "start_time": "2021-10-17T21:34:52.456Z"
   },
   {
    "duration": 295,
    "start_time": "2021-10-17T21:34:53.627Z"
   },
   {
    "duration": 287,
    "start_time": "2021-10-17T22:16:24.142Z"
   },
   {
    "duration": 311,
    "start_time": "2021-10-17T22:16:56.041Z"
   },
   {
    "duration": 6,
    "start_time": "2021-10-17T22:18:08.467Z"
   },
   {
    "duration": 9,
    "start_time": "2021-10-17T22:18:13.692Z"
   },
   {
    "duration": 9,
    "start_time": "2021-10-17T22:20:18.060Z"
   },
   {
    "duration": 6,
    "start_time": "2021-10-17T22:59:09.870Z"
   },
   {
    "duration": 43,
    "start_time": "2021-10-17T23:02:23.523Z"
   },
   {
    "duration": 672566,
    "start_time": "2021-10-18T00:00:32.328Z"
   },
   {
    "duration": 1065,
    "start_time": "2021-10-18T07:44:13.239Z"
   },
   {
    "duration": 724,
    "start_time": "2021-10-18T07:44:14.306Z"
   },
   {
    "duration": 25,
    "start_time": "2021-10-18T07:44:15.032Z"
   },
   {
    "duration": 120,
    "start_time": "2021-10-18T07:44:15.058Z"
   },
   {
    "duration": 383,
    "start_time": "2021-10-18T07:44:15.191Z"
   },
   {
    "duration": 95,
    "start_time": "2021-10-18T07:44:15.576Z"
   },
   {
    "duration": 125,
    "start_time": "2021-10-18T07:44:15.672Z"
   },
   {
    "duration": 37,
    "start_time": "2021-10-18T07:44:15.799Z"
   },
   {
    "duration": 94,
    "start_time": "2021-10-18T07:44:15.838Z"
   },
   {
    "duration": 43,
    "start_time": "2021-10-18T07:44:15.933Z"
   },
   {
    "duration": 183,
    "start_time": "2021-10-18T07:44:15.978Z"
   },
   {
    "duration": 79,
    "start_time": "2021-10-18T07:44:16.163Z"
   },
   {
    "duration": 10,
    "start_time": "2021-10-18T07:44:16.244Z"
   },
   {
    "duration": 524,
    "start_time": "2021-10-18T07:44:16.255Z"
   },
   {
    "duration": 511,
    "start_time": "2021-10-18T07:44:16.780Z"
   },
   {
    "duration": 19,
    "start_time": "2021-10-18T07:44:17.293Z"
   },
   {
    "duration": 514,
    "start_time": "2021-10-18T07:44:17.313Z"
   },
   {
    "duration": 9,
    "start_time": "2021-10-18T07:44:17.829Z"
   },
   {
    "duration": 10,
    "start_time": "2021-10-18T07:44:17.839Z"
   },
   {
    "duration": 47,
    "start_time": "2021-10-18T07:44:17.851Z"
   },
   {
    "duration": 574,
    "start_time": "2021-10-18T07:44:17.900Z"
   },
   {
    "duration": 29,
    "start_time": "2021-10-18T07:44:18.476Z"
   },
   {
    "duration": 47,
    "start_time": "2021-10-18T07:44:18.508Z"
   },
   {
    "duration": 10,
    "start_time": "2021-10-18T07:44:18.558Z"
   },
   {
    "duration": 573,
    "start_time": "2021-10-18T07:44:18.592Z"
   },
   {
    "duration": 177,
    "start_time": "2021-10-18T07:44:19.167Z"
   },
   {
    "duration": 105,
    "start_time": "2021-10-18T07:44:19.346Z"
   },
   {
    "duration": 541,
    "start_time": "2021-10-18T07:44:19.453Z"
   },
   {
    "duration": 216,
    "start_time": "2021-10-18T07:44:19.996Z"
   },
   {
    "duration": 5,
    "start_time": "2021-10-18T07:44:20.213Z"
   },
   {
    "duration": 81,
    "start_time": "2021-10-18T07:44:20.220Z"
   },
   {
    "duration": 2,
    "start_time": "2021-10-18T07:44:20.303Z"
   },
   {
    "duration": 185,
    "start_time": "2021-10-18T07:44:20.306Z"
   },
   {
    "duration": 4,
    "start_time": "2021-10-18T07:44:20.493Z"
   },
   {
    "duration": 1606,
    "start_time": "2021-10-20T08:52:11.717Z"
   },
   {
    "duration": 15356,
    "start_time": "2021-10-20T08:52:13.326Z"
   },
   {
    "duration": 41,
    "start_time": "2021-10-20T08:52:28.686Z"
   },
   {
    "duration": 170,
    "start_time": "2021-10-20T08:52:28.730Z"
   },
   {
    "duration": 624,
    "start_time": "2021-10-20T08:52:28.902Z"
   },
   {
    "duration": 132,
    "start_time": "2021-10-20T08:52:29.528Z"
   },
   {
    "duration": 171,
    "start_time": "2021-10-20T08:52:29.662Z"
   },
   {
    "duration": 67,
    "start_time": "2021-10-20T08:52:29.837Z"
   },
   {
    "duration": 125,
    "start_time": "2021-10-20T08:52:29.907Z"
   },
   {
    "duration": 81,
    "start_time": "2021-10-20T08:52:30.034Z"
   },
   {
    "duration": 273,
    "start_time": "2021-10-20T08:52:30.117Z"
   },
   {
    "duration": 115,
    "start_time": "2021-10-20T08:52:30.392Z"
   },
   {
    "duration": 16,
    "start_time": "2021-10-20T08:52:30.510Z"
   },
   {
    "duration": 902,
    "start_time": "2021-10-20T08:52:30.528Z"
   },
   {
    "duration": 873,
    "start_time": "2021-10-20T08:52:31.432Z"
   },
   {
    "duration": 35,
    "start_time": "2021-10-20T08:52:32.307Z"
   },
   {
    "duration": 896,
    "start_time": "2021-10-20T08:52:32.345Z"
   },
   {
    "duration": 13,
    "start_time": "2021-10-20T08:52:33.244Z"
   },
   {
    "duration": 13,
    "start_time": "2021-10-20T08:52:33.260Z"
   },
   {
    "duration": 45,
    "start_time": "2021-10-20T08:52:33.300Z"
   },
   {
    "duration": 935,
    "start_time": "2021-10-20T08:52:33.348Z"
   },
   {
    "duration": 50,
    "start_time": "2021-10-20T08:52:34.285Z"
   },
   {
    "duration": 73,
    "start_time": "2021-10-20T08:52:34.340Z"
   },
   {
    "duration": 15,
    "start_time": "2021-10-20T08:52:34.416Z"
   },
   {
    "duration": 705,
    "start_time": "2021-10-20T08:52:34.434Z"
   },
   {
    "duration": 189,
    "start_time": "2021-10-20T08:52:35.141Z"
   },
   {
    "duration": 104,
    "start_time": "2021-10-20T08:52:35.332Z"
   },
   {
    "duration": 864,
    "start_time": "2021-10-20T08:52:35.438Z"
   },
   {
    "duration": 278,
    "start_time": "2021-10-20T08:52:36.305Z"
   },
   {
    "duration": 7,
    "start_time": "2021-10-20T08:52:36.585Z"
   },
   {
    "duration": 152,
    "start_time": "2021-10-20T08:52:36.601Z"
   },
   {
    "duration": 3,
    "start_time": "2021-10-20T08:52:36.756Z"
   },
   {
    "duration": 322,
    "start_time": "2021-10-20T08:52:36.761Z"
   },
   {
    "duration": 10,
    "start_time": "2021-10-20T08:53:14.415Z"
   },
   {
    "duration": 105,
    "start_time": "2021-10-20T12:29:47.342Z"
   },
   {
    "duration": 378,
    "start_time": "2021-10-20T12:33:21.613Z"
   },
   {
    "duration": 6,
    "start_time": "2021-10-20T12:34:08.326Z"
   },
   {
    "duration": 240,
    "start_time": "2021-10-20T12:34:27.855Z"
   },
   {
    "duration": 73693,
    "start_time": "2021-10-20T12:35:06.242Z"
   },
   {
    "duration": 71119,
    "start_time": "2021-10-20T12:36:41.880Z"
   },
   {
    "duration": 334,
    "start_time": "2021-10-20T12:43:46.289Z"
   },
   {
    "duration": 7,
    "start_time": "2021-10-20T12:44:14.593Z"
   },
   {
    "duration": 10,
    "start_time": "2021-10-20T12:46:01.499Z"
   },
   {
    "duration": 6,
    "start_time": "2021-10-20T12:50:33.810Z"
   },
   {
    "duration": 7,
    "start_time": "2021-10-20T12:58:55.358Z"
   },
   {
    "duration": 337,
    "start_time": "2021-10-20T12:59:45.977Z"
   },
   {
    "duration": 621335,
    "start_time": "2021-10-20T13:00:40.980Z"
   },
   {
    "duration": 704,
    "start_time": "2021-10-20T13:29:30.376Z"
   },
   {
    "duration": 217,
    "start_time": "2021-10-20T13:41:29.136Z"
   },
   {
    "duration": 97927,
    "start_time": "2021-10-20T13:42:29.390Z"
   },
   {
    "duration": 95180,
    "start_time": "2021-10-20T13:46:43.759Z"
   },
   {
    "duration": 21311,
    "start_time": "2021-10-20T13:53:10.300Z"
   },
   {
    "duration": 234,
    "start_time": "2021-10-20T14:31:19.647Z"
   },
   {
    "duration": 1659871,
    "start_time": "2021-10-20T14:31:28.049Z"
   },
   {
    "duration": 768095,
    "start_time": "2021-10-20T14:59:20.220Z"
   },
   {
    "duration": 1154646,
    "start_time": "2021-10-20T15:12:16.630Z"
   },
   {
    "duration": 1135273,
    "start_time": "2021-10-20T15:40:25.246Z"
   },
   {
    "duration": 1153589,
    "start_time": "2021-10-20T17:29:00.431Z"
   },
   {
    "duration": 1153534,
    "start_time": "2021-10-20T18:06:42.520Z"
   },
   {
    "duration": 3731,
    "start_time": "2021-10-20T19:21:36.016Z"
   },
   {
    "duration": 3858,
    "start_time": "2021-10-20T19:23:19.478Z"
   },
   {
    "duration": 4049,
    "start_time": "2021-10-20T19:23:51.353Z"
   },
   {
    "duration": 3856,
    "start_time": "2021-10-20T19:26:56.039Z"
   },
   {
    "duration": 1401653,
    "start_time": "2021-10-20T19:27:27.213Z"
   },
   {
    "duration": 9442,
    "start_time": "2021-10-20T20:24:04.674Z"
   },
   {
    "duration": 331,
    "start_time": "2021-10-20T20:30:17.335Z"
   },
   {
    "duration": 334,
    "start_time": "2021-10-20T20:30:36.776Z"
   },
   {
    "duration": 7984,
    "start_time": "2021-10-20T20:32:42.911Z"
   },
   {
    "duration": 78364,
    "start_time": "2021-10-20T20:33:35.956Z"
   },
   {
    "duration": 16251407,
    "start_time": "2021-10-20T20:36:41.906Z"
   },
   {
    "duration": 564062,
    "start_time": "2021-10-21T01:07:51.722Z"
   },
   {
    "duration": 12,
    "start_time": "2021-10-21T02:12:22.512Z"
   },
   {
    "duration": 1518,
    "start_time": "2021-10-21T09:15:34.220Z"
   },
   {
    "duration": 1079,
    "start_time": "2021-10-21T09:15:35.740Z"
   },
   {
    "duration": 38,
    "start_time": "2021-10-21T09:15:36.823Z"
   },
   {
    "duration": 167,
    "start_time": "2021-10-21T09:15:36.864Z"
   },
   {
    "duration": 634,
    "start_time": "2021-10-21T09:15:37.033Z"
   },
   {
    "duration": 138,
    "start_time": "2021-10-21T09:15:37.670Z"
   },
   {
    "duration": 165,
    "start_time": "2021-10-21T09:15:37.810Z"
   },
   {
    "duration": 74,
    "start_time": "2021-10-21T09:15:37.979Z"
   },
   {
    "duration": 126,
    "start_time": "2021-10-21T09:15:38.056Z"
   },
   {
    "duration": 81,
    "start_time": "2021-10-21T09:15:38.185Z"
   },
   {
    "duration": 259,
    "start_time": "2021-10-21T09:15:38.269Z"
   },
   {
    "duration": 111,
    "start_time": "2021-10-21T09:15:38.530Z"
   },
   {
    "duration": 16,
    "start_time": "2021-10-21T09:15:38.644Z"
   },
   {
    "duration": 981,
    "start_time": "2021-10-21T09:15:38.663Z"
   },
   {
    "duration": 852,
    "start_time": "2021-10-21T09:15:39.647Z"
   },
   {
    "duration": 46,
    "start_time": "2021-10-21T09:15:40.501Z"
   },
   {
    "duration": 993,
    "start_time": "2021-10-21T09:15:40.550Z"
   },
   {
    "duration": 12,
    "start_time": "2021-10-21T09:15:41.546Z"
   },
   {
    "duration": 13,
    "start_time": "2021-10-21T09:15:41.561Z"
   },
   {
    "duration": 73,
    "start_time": "2021-10-21T09:15:41.576Z"
   },
   {
    "duration": 850,
    "start_time": "2021-10-21T09:15:41.652Z"
   },
   {
    "duration": 48,
    "start_time": "2021-10-21T09:15:42.505Z"
   },
   {
    "duration": 86,
    "start_time": "2021-10-21T09:15:42.559Z"
   },
   {
    "duration": 15,
    "start_time": "2021-10-21T09:15:42.649Z"
   },
   {
    "duration": 952,
    "start_time": "2021-10-21T09:15:42.667Z"
   },
   {
    "duration": 176,
    "start_time": "2021-10-21T09:15:43.623Z"
   },
   {
    "duration": 100,
    "start_time": "2021-10-21T09:15:43.801Z"
   },
   {
    "duration": 810,
    "start_time": "2021-10-21T09:15:43.903Z"
   },
   {
    "duration": 261,
    "start_time": "2021-10-21T09:15:44.716Z"
   },
   {
    "duration": 6,
    "start_time": "2021-10-21T09:15:44.979Z"
   },
   {
    "duration": 152,
    "start_time": "2021-10-21T09:15:44.987Z"
   },
   {
    "duration": 3,
    "start_time": "2021-10-21T09:15:45.141Z"
   },
   {
    "duration": 314,
    "start_time": "2021-10-21T09:15:45.146Z"
   },
   {
    "duration": 389,
    "start_time": "2021-10-21T09:15:45.462Z"
   },
   {
    "duration": 62,
    "start_time": "2021-10-21T09:15:45.791Z"
   },
   {
    "duration": 54,
    "start_time": "2021-10-21T09:15:45.801Z"
   },
   {
    "duration": 50,
    "start_time": "2021-10-21T09:15:45.806Z"
   },
   {
    "duration": 45,
    "start_time": "2021-10-21T09:15:45.813Z"
   },
   {
    "duration": 41,
    "start_time": "2021-10-21T09:15:45.818Z"
   },
   {
    "duration": 39,
    "start_time": "2021-10-21T09:15:45.822Z"
   },
   {
    "duration": 33,
    "start_time": "2021-10-21T09:15:45.830Z"
   },
   {
    "duration": 29,
    "start_time": "2021-10-21T09:15:45.835Z"
   },
   {
    "duration": 24,
    "start_time": "2021-10-21T09:15:45.841Z"
   },
   {
    "duration": 1462,
    "start_time": "2021-10-21T09:16:15.461Z"
   },
   {
    "duration": 1091,
    "start_time": "2021-10-21T09:16:16.926Z"
   },
   {
    "duration": 39,
    "start_time": "2021-10-21T09:16:18.021Z"
   },
   {
    "duration": 177,
    "start_time": "2021-10-21T09:16:18.064Z"
   },
   {
    "duration": 647,
    "start_time": "2021-10-21T09:16:18.244Z"
   },
   {
    "duration": 137,
    "start_time": "2021-10-21T09:16:18.894Z"
   },
   {
    "duration": 169,
    "start_time": "2021-10-21T09:16:19.034Z"
   },
   {
    "duration": 71,
    "start_time": "2021-10-21T09:16:19.206Z"
   },
   {
    "duration": 119,
    "start_time": "2021-10-21T09:16:19.283Z"
   },
   {
    "duration": 62,
    "start_time": "2021-10-21T09:16:19.422Z"
   },
   {
    "duration": 272,
    "start_time": "2021-10-21T09:16:19.486Z"
   },
   {
    "duration": 112,
    "start_time": "2021-10-21T09:16:19.760Z"
   },
   {
    "duration": 16,
    "start_time": "2021-10-21T09:16:19.874Z"
   },
   {
    "duration": 876,
    "start_time": "2021-10-21T09:16:19.892Z"
   },
   {
    "duration": 828,
    "start_time": "2021-10-21T09:16:20.770Z"
   },
   {
    "duration": 51,
    "start_time": "2021-10-21T09:16:21.601Z"
   },
   {
    "duration": 916,
    "start_time": "2021-10-21T09:16:21.654Z"
   },
   {
    "duration": 12,
    "start_time": "2021-10-21T09:16:22.573Z"
   },
   {
    "duration": 15,
    "start_time": "2021-10-21T09:16:22.587Z"
   },
   {
    "duration": 42,
    "start_time": "2021-10-21T09:16:22.623Z"
   },
   {
    "duration": 855,
    "start_time": "2021-10-21T09:16:22.667Z"
   },
   {
    "duration": 36,
    "start_time": "2021-10-21T09:16:23.524Z"
   },
   {
    "duration": 82,
    "start_time": "2021-10-21T09:16:23.563Z"
   },
   {
    "duration": 15,
    "start_time": "2021-10-21T09:16:23.647Z"
   },
   {
    "duration": 679,
    "start_time": "2021-10-21T09:16:23.665Z"
   },
   {
    "duration": 177,
    "start_time": "2021-10-21T09:16:24.347Z"
   },
   {
    "duration": 100,
    "start_time": "2021-10-21T09:16:24.529Z"
   },
   {
    "duration": 891,
    "start_time": "2021-10-21T09:16:24.632Z"
   },
   {
    "duration": 266,
    "start_time": "2021-10-21T09:16:25.525Z"
   },
   {
    "duration": 5,
    "start_time": "2021-10-21T09:16:25.794Z"
   },
   {
    "duration": 192,
    "start_time": "2021-10-21T09:16:25.802Z"
   },
   {
    "duration": 5,
    "start_time": "2021-10-21T09:16:25.997Z"
   },
   {
    "duration": 319,
    "start_time": "2021-10-21T09:16:26.005Z"
   },
   {
    "duration": 413,
    "start_time": "2021-10-21T09:16:26.327Z"
   },
   {
    "duration": 75,
    "start_time": "2021-10-21T09:16:26.668Z"
   },
   {
    "duration": 72,
    "start_time": "2021-10-21T09:16:26.672Z"
   },
   {
    "duration": 70,
    "start_time": "2021-10-21T09:16:26.675Z"
   },
   {
    "duration": 63,
    "start_time": "2021-10-21T09:16:26.684Z"
   },
   {
    "duration": 60,
    "start_time": "2021-10-21T09:16:26.688Z"
   },
   {
    "duration": 57,
    "start_time": "2021-10-21T09:16:26.693Z"
   },
   {
    "duration": 51,
    "start_time": "2021-10-21T09:16:26.700Z"
   },
   {
    "duration": 48,
    "start_time": "2021-10-21T09:16:26.704Z"
   },
   {
    "duration": 46,
    "start_time": "2021-10-21T09:16:26.708Z"
   },
   {
    "duration": 1520,
    "start_time": "2021-10-21T09:17:26.303Z"
   },
   {
    "duration": 1058,
    "start_time": "2021-10-21T09:17:27.826Z"
   },
   {
    "duration": 45,
    "start_time": "2021-10-21T09:17:28.887Z"
   },
   {
    "duration": 163,
    "start_time": "2021-10-21T09:17:28.935Z"
   },
   {
    "duration": 581,
    "start_time": "2021-10-21T09:17:29.100Z"
   },
   {
    "duration": 126,
    "start_time": "2021-10-21T09:17:29.683Z"
   },
   {
    "duration": 169,
    "start_time": "2021-10-21T09:17:29.811Z"
   },
   {
    "duration": 69,
    "start_time": "2021-10-21T09:17:29.984Z"
   },
   {
    "duration": 123,
    "start_time": "2021-10-21T09:17:30.056Z"
   },
   {
    "duration": 80,
    "start_time": "2021-10-21T09:17:30.182Z"
   },
   {
    "duration": 267,
    "start_time": "2021-10-21T09:17:30.264Z"
   },
   {
    "duration": 110,
    "start_time": "2021-10-21T09:17:30.534Z"
   },
   {
    "duration": 17,
    "start_time": "2021-10-21T09:17:30.646Z"
   },
   {
    "duration": 892,
    "start_time": "2021-10-21T09:17:30.665Z"
   },
   {
    "duration": 841,
    "start_time": "2021-10-21T09:17:31.559Z"
   },
   {
    "duration": 45,
    "start_time": "2021-10-21T09:17:32.403Z"
   },
   {
    "duration": 948,
    "start_time": "2021-10-21T09:17:32.450Z"
   },
   {
    "duration": 25,
    "start_time": "2021-10-21T09:17:33.401Z"
   },
   {
    "duration": 14,
    "start_time": "2021-10-21T09:17:33.429Z"
   },
   {
    "duration": 41,
    "start_time": "2021-10-21T09:17:33.445Z"
   },
   {
    "duration": 872,
    "start_time": "2021-10-21T09:17:33.489Z"
   },
   {
    "duration": 36,
    "start_time": "2021-10-21T09:17:34.363Z"
   },
   {
    "duration": 78,
    "start_time": "2021-10-21T09:17:34.404Z"
   },
   {
    "duration": 15,
    "start_time": "2021-10-21T09:17:34.484Z"
   },
   {
    "duration": 722,
    "start_time": "2021-10-21T09:17:34.501Z"
   },
   {
    "duration": 182,
    "start_time": "2021-10-21T09:17:35.226Z"
   },
   {
    "duration": 96,
    "start_time": "2021-10-21T09:17:35.411Z"
   },
   {
    "duration": 829,
    "start_time": "2021-10-21T09:17:35.510Z"
   },
   {
    "duration": 265,
    "start_time": "2021-10-21T09:17:36.342Z"
   },
   {
    "duration": 13,
    "start_time": "2021-10-21T09:17:36.610Z"
   },
   {
    "duration": 171,
    "start_time": "2021-10-21T09:17:36.625Z"
   },
   {
    "duration": 3,
    "start_time": "2021-10-21T09:17:36.799Z"
   },
   {
    "duration": 319,
    "start_time": "2021-10-21T09:17:36.805Z"
   },
   {
    "duration": 7,
    "start_time": "2021-10-21T09:17:37.127Z"
   },
   {
    "duration": 17089,
    "start_time": "2021-10-21T09:17:37.137Z"
   },
   {
    "duration": 1071427,
    "start_time": "2021-10-21T09:17:54.230Z"
   },
   {
    "duration": 7,
    "start_time": "2021-10-21T09:35:45.660Z"
   },
   {
    "duration": 95,
    "start_time": "2021-10-21T09:35:45.574Z"
   },
   {
    "duration": 94,
    "start_time": "2021-10-21T09:35:45.577Z"
   },
   {
    "duration": 92,
    "start_time": "2021-10-21T09:35:45.581Z"
   },
   {
    "duration": 91,
    "start_time": "2021-10-21T09:35:45.583Z"
   },
   {
    "duration": 87,
    "start_time": "2021-10-21T09:35:45.588Z"
   },
   {
    "duration": 86,
    "start_time": "2021-10-21T09:35:45.591Z"
   },
   {
    "duration": 6,
    "start_time": "2021-10-21T09:52:29.302Z"
   },
   {
    "duration": 3839,
    "start_time": "2021-10-21T09:59:57.824Z"
   },
   {
    "duration": 30273,
    "start_time": "2021-10-21T10:00:22.247Z"
   },
   {
    "duration": 381,
    "start_time": "2021-10-21T11:57:37.745Z"
   },
   {
    "duration": 1514,
    "start_time": "2021-10-21T11:58:13.930Z"
   },
   {
    "duration": 1123,
    "start_time": "2021-10-21T11:58:15.447Z"
   },
   {
    "duration": 36,
    "start_time": "2021-10-21T11:58:16.573Z"
   },
   {
    "duration": 175,
    "start_time": "2021-10-21T11:58:16.612Z"
   },
   {
    "duration": 633,
    "start_time": "2021-10-21T11:58:16.789Z"
   },
   {
    "duration": 123,
    "start_time": "2021-10-21T11:58:17.424Z"
   },
   {
    "duration": 169,
    "start_time": "2021-10-21T11:58:17.550Z"
   },
   {
    "duration": 57,
    "start_time": "2021-10-21T11:58:17.723Z"
   },
   {
    "duration": 144,
    "start_time": "2021-10-21T11:58:17.783Z"
   },
   {
    "duration": 63,
    "start_time": "2021-10-21T11:58:17.930Z"
   },
   {
    "duration": 270,
    "start_time": "2021-10-21T11:58:17.995Z"
   },
   {
    "duration": 110,
    "start_time": "2021-10-21T11:58:18.267Z"
   },
   {
    "duration": 15,
    "start_time": "2021-10-21T11:58:18.380Z"
   },
   {
    "duration": 893,
    "start_time": "2021-10-21T11:58:18.397Z"
   },
   {
    "duration": 848,
    "start_time": "2021-10-21T11:58:19.292Z"
   },
   {
    "duration": 33,
    "start_time": "2021-10-21T11:58:20.142Z"
   },
   {
    "duration": 939,
    "start_time": "2021-10-21T11:58:20.178Z"
   },
   {
    "duration": 12,
    "start_time": "2021-10-21T11:58:21.123Z"
   },
   {
    "duration": 14,
    "start_time": "2021-10-21T11:58:21.138Z"
   },
   {
    "duration": 70,
    "start_time": "2021-10-21T11:58:21.155Z"
   },
   {
    "duration": 852,
    "start_time": "2021-10-21T11:58:21.227Z"
   },
   {
    "duration": 49,
    "start_time": "2021-10-21T11:58:22.082Z"
   },
   {
    "duration": 62,
    "start_time": "2021-10-21T11:58:22.136Z"
   },
   {
    "duration": 28,
    "start_time": "2021-10-21T11:58:22.201Z"
   },
   {
    "duration": 846,
    "start_time": "2021-10-21T11:58:22.232Z"
   },
   {
    "duration": 185,
    "start_time": "2021-10-21T11:58:23.081Z"
   },
   {
    "duration": 110,
    "start_time": "2021-10-21T11:58:23.269Z"
   },
   {
    "duration": 826,
    "start_time": "2021-10-21T11:58:23.382Z"
   },
   {
    "duration": 270,
    "start_time": "2021-10-21T11:58:24.210Z"
   },
   {
    "duration": 7,
    "start_time": "2021-10-21T11:58:24.482Z"
   },
   {
    "duration": 163,
    "start_time": "2021-10-21T11:58:24.491Z"
   },
   {
    "duration": 3,
    "start_time": "2021-10-21T11:58:24.657Z"
   },
   {
    "duration": 325,
    "start_time": "2021-10-21T11:58:24.663Z"
   },
   {
    "duration": 8,
    "start_time": "2021-10-21T11:58:24.991Z"
   },
   {
    "duration": 18026,
    "start_time": "2021-10-21T11:58:25.001Z"
   },
   {
    "duration": 1108182,
    "start_time": "2021-10-21T11:58:43.122Z"
   },
   {
    "duration": 3486,
    "start_time": "2021-10-21T12:17:11.306Z"
   },
   {
    "duration": 1552,
    "start_time": "2021-10-21T12:44:37.897Z"
   },
   {
    "duration": 1087,
    "start_time": "2021-10-21T12:44:39.452Z"
   },
   {
    "duration": 40,
    "start_time": "2021-10-21T12:44:40.543Z"
   },
   {
    "duration": 168,
    "start_time": "2021-10-21T12:44:40.585Z"
   },
   {
    "duration": 757,
    "start_time": "2021-10-21T12:44:40.755Z"
   },
   {
    "duration": 200,
    "start_time": "2021-10-21T12:44:41.514Z"
   },
   {
    "duration": 292,
    "start_time": "2021-10-21T12:44:41.723Z"
   },
   {
    "duration": 82,
    "start_time": "2021-10-21T12:44:42.023Z"
   },
   {
    "duration": 123,
    "start_time": "2021-10-21T12:44:42.122Z"
   },
   {
    "duration": 86,
    "start_time": "2021-10-21T12:44:42.249Z"
   },
   {
    "duration": 274,
    "start_time": "2021-10-21T12:44:42.338Z"
   },
   {
    "duration": 113,
    "start_time": "2021-10-21T12:44:42.615Z"
   },
   {
    "duration": 16,
    "start_time": "2021-10-21T12:44:42.730Z"
   },
   {
    "duration": 985,
    "start_time": "2021-10-21T12:44:42.749Z"
   },
   {
    "duration": 843,
    "start_time": "2021-10-21T12:44:43.737Z"
   },
   {
    "duration": 55,
    "start_time": "2021-10-21T12:44:44.583Z"
   },
   {
    "duration": 933,
    "start_time": "2021-10-21T12:44:44.640Z"
   },
   {
    "duration": 13,
    "start_time": "2021-10-21T12:44:45.576Z"
   },
   {
    "duration": 34,
    "start_time": "2021-10-21T12:44:45.591Z"
   },
   {
    "duration": 42,
    "start_time": "2021-10-21T12:44:45.627Z"
   },
   {
    "duration": 855,
    "start_time": "2021-10-21T12:44:45.672Z"
   },
   {
    "duration": 37,
    "start_time": "2021-10-21T12:44:46.530Z"
   },
   {
    "duration": 82,
    "start_time": "2021-10-21T12:44:46.570Z"
   },
   {
    "duration": 15,
    "start_time": "2021-10-21T12:44:46.655Z"
   },
   {
    "duration": 675,
    "start_time": "2021-10-21T12:44:46.673Z"
   },
   {
    "duration": 179,
    "start_time": "2021-10-21T12:44:47.351Z"
   },
   {
    "duration": 99,
    "start_time": "2021-10-21T12:44:47.536Z"
   },
   {
    "duration": 820,
    "start_time": "2021-10-21T12:44:47.638Z"
   },
   {
    "duration": 264,
    "start_time": "2021-10-21T12:44:48.461Z"
   },
   {
    "duration": 5,
    "start_time": "2021-10-21T12:44:48.728Z"
   },
   {
    "duration": 157,
    "start_time": "2021-10-21T12:44:48.735Z"
   },
   {
    "duration": 4,
    "start_time": "2021-10-21T12:44:48.894Z"
   },
   {
    "duration": 317,
    "start_time": "2021-10-21T12:44:48.900Z"
   },
   {
    "duration": 7,
    "start_time": "2021-10-21T12:44:49.220Z"
   },
   {
    "duration": 17401,
    "start_time": "2021-10-21T12:44:49.230Z"
   },
   {
    "duration": 1102249,
    "start_time": "2021-10-21T12:45:06.724Z"
   },
   {
    "duration": 3612,
    "start_time": "2021-10-21T13:03:28.977Z"
   },
   {
    "duration": 1153368,
    "start_time": "2021-10-21T13:03:32.592Z"
   },
   {
    "duration": -572,
    "start_time": "2021-10-21T13:22:46.535Z"
   },
   {
    "duration": -578,
    "start_time": "2021-10-21T13:22:46.543Z"
   },
   {
    "duration": -579,
    "start_time": "2021-10-21T13:22:46.547Z"
   },
   {
    "duration": -580,
    "start_time": "2021-10-21T13:22:46.550Z"
   },
   {
    "duration": -582,
    "start_time": "2021-10-21T13:22:46.554Z"
   },
   {
    "duration": -584,
    "start_time": "2021-10-21T13:22:46.559Z"
   },
   {
    "duration": 1392176,
    "start_time": "2021-10-21T13:26:49.073Z"
   },
   {
    "duration": 117,
    "start_time": "2021-10-21T13:56:52.622Z"
   },
   {
    "duration": 238,
    "start_time": "2021-10-21T14:12:52.876Z"
   },
   {
    "duration": 1553,
    "start_time": "2021-10-21T14:13:15.312Z"
   },
   {
    "duration": 1143,
    "start_time": "2021-10-21T14:13:23.097Z"
   },
   {
    "duration": 39,
    "start_time": "2021-10-21T14:13:24.242Z"
   },
   {
    "duration": 177,
    "start_time": "2021-10-21T14:13:24.283Z"
   },
   {
    "duration": 635,
    "start_time": "2021-10-21T14:13:24.463Z"
   },
   {
    "duration": 135,
    "start_time": "2021-10-21T14:13:25.101Z"
   },
   {
    "duration": 166,
    "start_time": "2021-10-21T14:13:25.239Z"
   },
   {
    "duration": 60,
    "start_time": "2021-10-21T14:13:25.584Z"
   },
   {
    "duration": 109,
    "start_time": "2021-10-21T14:13:26.047Z"
   },
   {
    "duration": 69,
    "start_time": "2021-10-21T14:13:28.279Z"
   },
   {
    "duration": 257,
    "start_time": "2021-10-21T14:13:28.620Z"
   },
   {
    "duration": 104,
    "start_time": "2021-10-21T14:13:29.137Z"
   },
   {
    "duration": 18,
    "start_time": "2021-10-21T14:13:29.377Z"
   },
   {
    "duration": 887,
    "start_time": "2021-10-21T14:13:30.067Z"
   },
   {
    "duration": 859,
    "start_time": "2021-10-21T14:13:30.957Z"
   },
   {
    "duration": 35,
    "start_time": "2021-10-21T14:13:31.823Z"
   },
   {
    "duration": 866,
    "start_time": "2021-10-21T14:13:31.860Z"
   },
   {
    "duration": 12,
    "start_time": "2021-10-21T14:13:32.729Z"
   },
   {
    "duration": 17,
    "start_time": "2021-10-21T14:13:32.744Z"
   },
   {
    "duration": 47,
    "start_time": "2021-10-21T14:13:33.517Z"
   },
   {
    "duration": 928,
    "start_time": "2021-10-21T14:13:34.365Z"
   },
   {
    "duration": 54,
    "start_time": "2021-10-21T14:13:35.296Z"
   },
   {
    "duration": 62,
    "start_time": "2021-10-21T14:13:35.684Z"
   },
   {
    "duration": 16,
    "start_time": "2021-10-21T14:13:36.154Z"
   },
   {
    "duration": 648,
    "start_time": "2021-10-21T14:13:37.794Z"
   },
   {
    "duration": 167,
    "start_time": "2021-10-21T14:13:41.793Z"
   },
   {
    "duration": 91,
    "start_time": "2021-10-21T14:13:42.671Z"
   },
   {
    "duration": 816,
    "start_time": "2021-10-21T14:13:43.080Z"
   },
   {
    "duration": 270,
    "start_time": "2021-10-21T14:13:43.900Z"
   },
   {
    "duration": 7,
    "start_time": "2021-10-21T14:13:44.173Z"
   },
   {
    "duration": 145,
    "start_time": "2021-10-21T14:13:46.129Z"
   },
   {
    "duration": 4,
    "start_time": "2021-10-21T14:13:46.405Z"
   },
   {
    "duration": 298,
    "start_time": "2021-10-21T14:13:47.032Z"
   },
   {
    "duration": 7,
    "start_time": "2021-10-21T14:13:52.931Z"
   },
   {
    "duration": 17739,
    "start_time": "2021-10-21T14:13:54.907Z"
   },
   {
    "duration": 111859,
    "start_time": "2021-10-21T14:14:23.775Z"
   },
   {
    "duration": -282,
    "start_time": "2021-10-21T19:05:02.681Z"
   },
   {
    "duration": 734030,
    "start_time": "2021-10-21T19:05:04.109Z"
   },
   {
    "duration": 11979,
    "start_time": "2021-10-21T19:18:43.055Z"
   },
   {
    "duration": 68767,
    "start_time": "2021-10-21T19:20:00.680Z"
   },
   {
    "duration": 1970530,
    "start_time": "2021-10-21T19:21:39.599Z"
   },
   {
    "duration": 305,
    "start_time": "2021-10-21T19:56:34.400Z"
   },
   {
    "duration": 1541,
    "start_time": "2021-10-21T19:56:54.811Z"
   },
   {
    "duration": 1102,
    "start_time": "2021-10-21T19:56:56.355Z"
   },
   {
    "duration": 41,
    "start_time": "2021-10-21T19:57:02.742Z"
   },
   {
    "duration": 159,
    "start_time": "2021-10-21T19:57:03.264Z"
   },
   {
    "duration": 709,
    "start_time": "2021-10-21T19:57:03.786Z"
   },
   {
    "duration": 141,
    "start_time": "2021-10-21T19:57:04.498Z"
   },
   {
    "duration": 158,
    "start_time": "2021-10-21T19:57:04.838Z"
   },
   {
    "duration": 60,
    "start_time": "2021-10-21T19:57:05.263Z"
   },
   {
    "duration": 113,
    "start_time": "2021-10-21T19:57:05.710Z"
   },
   {
    "duration": 69,
    "start_time": "2021-10-21T19:57:06.675Z"
   },
   {
    "duration": 260,
    "start_time": "2021-10-21T19:57:06.871Z"
   },
   {
    "duration": 102,
    "start_time": "2021-10-21T19:57:07.381Z"
   },
   {
    "duration": 17,
    "start_time": "2021-10-21T19:57:08.715Z"
   },
   {
    "duration": 882,
    "start_time": "2021-10-21T19:57:09.532Z"
   },
   {
    "duration": 879,
    "start_time": "2021-10-21T19:57:10.417Z"
   },
   {
    "duration": 45,
    "start_time": "2021-10-21T19:57:11.299Z"
   },
   {
    "duration": 856,
    "start_time": "2021-10-21T19:57:11.347Z"
   },
   {
    "duration": 22,
    "start_time": "2021-10-21T19:57:12.206Z"
   },
   {
    "duration": 16,
    "start_time": "2021-10-21T19:57:12.230Z"
   },
   {
    "duration": 75,
    "start_time": "2021-10-21T19:57:12.248Z"
   },
   {
    "duration": 942,
    "start_time": "2021-10-21T19:57:12.471Z"
   },
   {
    "duration": 40,
    "start_time": "2021-10-21T19:57:13.422Z"
   },
   {
    "duration": 79,
    "start_time": "2021-10-21T19:57:13.465Z"
   },
   {
    "duration": 17,
    "start_time": "2021-10-21T19:57:13.664Z"
   },
   {
    "duration": 826,
    "start_time": "2021-10-21T19:57:14.527Z"
   },
   {
    "duration": 174,
    "start_time": "2021-10-21T19:57:16.090Z"
   },
   {
    "duration": 98,
    "start_time": "2021-10-21T19:57:16.580Z"
   },
   {
    "duration": 817,
    "start_time": "2021-10-21T19:57:16.791Z"
   },
   {
    "duration": 268,
    "start_time": "2021-10-21T19:57:17.611Z"
   },
   {
    "duration": 6,
    "start_time": "2021-10-21T19:57:17.882Z"
   },
   {
    "duration": 141,
    "start_time": "2021-10-21T19:57:19.545Z"
   },
   {
    "duration": 4,
    "start_time": "2021-10-21T19:57:19.762Z"
   },
   {
    "duration": 305,
    "start_time": "2021-10-21T19:57:19.995Z"
   },
   {
    "duration": 8,
    "start_time": "2021-10-21T19:57:24.779Z"
   },
   {
    "duration": 19218,
    "start_time": "2021-10-21T19:57:30.712Z"
   },
   {
    "duration": 3602,
    "start_time": "2021-10-21T19:58:08.173Z"
   },
   {
    "duration": 112886,
    "start_time": "2021-10-21T19:58:20.068Z"
   },
   {
    "duration": 12751,
    "start_time": "2021-10-21T20:00:58.173Z"
   },
   {
    "duration": 368532,
    "start_time": "2021-10-21T20:01:18.096Z"
   },
   {
    "duration": 213692,
    "start_time": "2021-10-21T20:18:02.337Z"
   },
   {
    "duration": 1842,
    "start_time": "2021-10-22T11:51:31.672Z"
   },
   {
    "duration": 1097,
    "start_time": "2021-10-22T11:51:34.178Z"
   },
   {
    "duration": 43,
    "start_time": "2021-10-22T11:51:35.278Z"
   },
   {
    "duration": 192,
    "start_time": "2021-10-22T11:51:35.323Z"
   },
   {
    "duration": 648,
    "start_time": "2021-10-22T11:51:35.518Z"
   },
   {
    "duration": 140,
    "start_time": "2021-10-22T11:51:36.168Z"
   },
   {
    "duration": 165,
    "start_time": "2021-10-22T11:51:36.311Z"
   },
   {
    "duration": 57,
    "start_time": "2021-10-22T11:51:36.482Z"
   },
   {
    "duration": 121,
    "start_time": "2021-10-22T11:51:36.586Z"
   },
   {
    "duration": 66,
    "start_time": "2021-10-22T11:51:38.151Z"
   },
   {
    "duration": 316,
    "start_time": "2021-10-22T11:51:38.549Z"
   },
   {
    "duration": 109,
    "start_time": "2021-10-22T11:51:39.014Z"
   },
   {
    "duration": 15,
    "start_time": "2021-10-22T11:51:39.210Z"
   },
   {
    "duration": 900,
    "start_time": "2021-10-22T11:51:39.916Z"
   },
   {
    "duration": 875,
    "start_time": "2021-10-22T11:51:40.819Z"
   },
   {
    "duration": 35,
    "start_time": "2021-10-22T11:51:41.698Z"
   },
   {
    "duration": 886,
    "start_time": "2021-10-22T11:51:41.735Z"
   },
   {
    "duration": 14,
    "start_time": "2021-10-22T11:51:42.624Z"
   },
   {
    "duration": 16,
    "start_time": "2021-10-22T11:51:42.990Z"
   },
   {
    "duration": 47,
    "start_time": "2021-10-22T11:51:43.405Z"
   },
   {
    "duration": 962,
    "start_time": "2021-10-22T11:51:44.467Z"
   },
   {
    "duration": 37,
    "start_time": "2021-10-22T11:51:48.174Z"
   },
   {
    "duration": 62,
    "start_time": "2021-10-22T11:51:48.508Z"
   },
   {
    "duration": 16,
    "start_time": "2021-10-22T11:51:48.741Z"
   },
   {
    "duration": 810,
    "start_time": "2021-10-22T11:51:49.434Z"
   },
   {
    "duration": 184,
    "start_time": "2021-10-22T11:51:50.246Z"
   },
   {
    "duration": 96,
    "start_time": "2021-10-22T11:51:51.420Z"
   },
   {
    "duration": 877,
    "start_time": "2021-10-22T11:51:51.660Z"
   },
   {
    "duration": 296,
    "start_time": "2021-10-22T11:51:52.539Z"
   },
   {
    "duration": 6,
    "start_time": "2021-10-22T11:51:52.838Z"
   },
   {
    "duration": 147,
    "start_time": "2021-10-22T11:51:53.042Z"
   },
   {
    "duration": 3,
    "start_time": "2021-10-22T11:51:55.057Z"
   },
   {
    "duration": 307,
    "start_time": "2021-10-22T11:51:55.308Z"
   },
   {
    "duration": 7,
    "start_time": "2021-10-22T11:52:00.849Z"
   },
   {
    "duration": 23695,
    "start_time": "2021-10-22T11:52:05.098Z"
   },
   {
    "duration": 3750,
    "start_time": "2021-10-22T11:52:28.797Z"
   },
   {
    "duration": 224374,
    "start_time": "2021-10-22T11:56:34.922Z"
   },
   {
    "duration": 11807,
    "start_time": "2021-10-22T12:04:31.075Z"
   },
   {
    "duration": 1770,
    "start_time": "2021-10-22T12:05:36.696Z"
   },
   {
    "duration": 1162,
    "start_time": "2021-10-22T12:05:38.469Z"
   },
   {
    "duration": 49,
    "start_time": "2021-10-22T12:05:39.635Z"
   },
   {
    "duration": 163,
    "start_time": "2021-10-22T12:05:39.688Z"
   },
   {
    "duration": 564,
    "start_time": "2021-10-22T12:05:39.853Z"
   },
   {
    "duration": 126,
    "start_time": "2021-10-22T12:05:40.419Z"
   },
   {
    "duration": 154,
    "start_time": "2021-10-22T12:05:40.547Z"
   },
   {
    "duration": 51,
    "start_time": "2021-10-22T12:05:40.705Z"
   },
   {
    "duration": 135,
    "start_time": "2021-10-22T12:05:40.759Z"
   },
   {
    "duration": 62,
    "start_time": "2021-10-22T12:05:40.897Z"
   },
   {
    "duration": 271,
    "start_time": "2021-10-22T12:05:40.961Z"
   },
   {
    "duration": 109,
    "start_time": "2021-10-22T12:05:41.234Z"
   },
   {
    "duration": 16,
    "start_time": "2021-10-22T12:05:41.345Z"
   },
   {
    "duration": 857,
    "start_time": "2021-10-22T12:05:41.363Z"
   },
   {
    "duration": 1007,
    "start_time": "2021-10-22T12:05:42.223Z"
   },
   {
    "duration": 32,
    "start_time": "2021-10-22T12:05:43.232Z"
   },
   {
    "duration": 915,
    "start_time": "2021-10-22T12:05:43.267Z"
   },
   {
    "duration": 13,
    "start_time": "2021-10-22T12:05:44.184Z"
   },
   {
    "duration": 13,
    "start_time": "2021-10-22T12:05:44.200Z"
   },
   {
    "duration": 68,
    "start_time": "2021-10-22T12:05:44.216Z"
   },
   {
    "duration": 821,
    "start_time": "2021-10-22T12:05:44.286Z"
   },
   {
    "duration": 37,
    "start_time": "2021-10-22T12:05:45.110Z"
   },
   {
    "duration": 78,
    "start_time": "2021-10-22T12:05:45.152Z"
   },
   {
    "duration": 16,
    "start_time": "2021-10-22T12:05:45.233Z"
   },
   {
    "duration": 684,
    "start_time": "2021-10-22T12:05:45.252Z"
   },
   {
    "duration": 192,
    "start_time": "2021-10-22T12:05:45.939Z"
   },
   {
    "duration": 106,
    "start_time": "2021-10-22T12:05:46.133Z"
   },
   {
    "duration": 840,
    "start_time": "2021-10-22T12:05:46.242Z"
   },
   {
    "duration": 252,
    "start_time": "2021-10-22T12:05:47.085Z"
   },
   {
    "duration": 7,
    "start_time": "2021-10-22T12:05:47.340Z"
   },
   {
    "duration": 152,
    "start_time": "2021-10-22T12:05:47.349Z"
   },
   {
    "duration": 4,
    "start_time": "2021-10-22T12:05:47.504Z"
   },
   {
    "duration": 317,
    "start_time": "2021-10-22T12:05:47.510Z"
   },
   {
    "duration": 8,
    "start_time": "2021-10-22T12:05:47.830Z"
   },
   {
    "duration": 18347,
    "start_time": "2021-10-22T12:05:47.840Z"
   },
   {
    "duration": 92,
    "start_time": "2021-10-22T12:06:06.191Z"
   },
   {
    "duration": 3482,
    "start_time": "2021-10-22T12:06:06.286Z"
   },
   {
    "duration": 4,
    "start_time": "2021-10-22T12:06:09.770Z"
   },
   {
    "duration": 214409,
    "start_time": "2021-10-22T12:06:09.783Z"
   },
   {
    "duration": 3,
    "start_time": "2021-10-22T12:09:44.195Z"
   },
   {
    "duration": 11895,
    "start_time": "2021-10-22T12:09:44.201Z"
   },
   {
    "duration": 3,
    "start_time": "2021-10-22T12:09:56.098Z"
   },
   {
    "duration": 1906,
    "start_time": "2021-10-22T12:16:43.440Z"
   },
   {
    "duration": 1059,
    "start_time": "2021-10-22T12:16:45.350Z"
   },
   {
    "duration": 36,
    "start_time": "2021-10-22T12:16:46.413Z"
   },
   {
    "duration": 171,
    "start_time": "2021-10-22T12:16:46.453Z"
   },
   {
    "duration": 584,
    "start_time": "2021-10-22T12:16:46.626Z"
   },
   {
    "duration": 128,
    "start_time": "2021-10-22T12:16:47.213Z"
   },
   {
    "duration": 165,
    "start_time": "2021-10-22T12:16:47.344Z"
   },
   {
    "duration": 69,
    "start_time": "2021-10-22T12:16:47.513Z"
   },
   {
    "duration": 119,
    "start_time": "2021-10-22T12:16:47.586Z"
   },
   {
    "duration": 76,
    "start_time": "2021-10-22T12:16:47.707Z"
   },
   {
    "duration": 277,
    "start_time": "2021-10-22T12:16:47.786Z"
   },
   {
    "duration": 100,
    "start_time": "2021-10-22T12:16:48.065Z"
   },
   {
    "duration": 28,
    "start_time": "2021-10-22T12:16:48.168Z"
   },
   {
    "duration": 889,
    "start_time": "2021-10-22T12:16:48.198Z"
   },
   {
    "duration": 825,
    "start_time": "2021-10-22T12:16:49.090Z"
   },
   {
    "duration": 33,
    "start_time": "2021-10-22T12:16:49.917Z"
   },
   {
    "duration": 943,
    "start_time": "2021-10-22T12:16:49.952Z"
   },
   {
    "duration": 13,
    "start_time": "2021-10-22T12:16:50.897Z"
   },
   {
    "duration": 13,
    "start_time": "2021-10-22T12:16:50.912Z"
   },
   {
    "duration": 73,
    "start_time": "2021-10-22T12:16:50.927Z"
   },
   {
    "duration": 841,
    "start_time": "2021-10-22T12:16:51.002Z"
   },
   {
    "duration": 56,
    "start_time": "2021-10-22T12:16:51.846Z"
   },
   {
    "duration": 77,
    "start_time": "2021-10-22T12:16:51.907Z"
   },
   {
    "duration": 16,
    "start_time": "2021-10-22T12:16:51.988Z"
   },
   {
    "duration": 685,
    "start_time": "2021-10-22T12:16:52.006Z"
   },
   {
    "duration": 205,
    "start_time": "2021-10-22T12:16:52.694Z"
   },
   {
    "duration": 117,
    "start_time": "2021-10-22T12:16:52.902Z"
   },
   {
    "duration": 838,
    "start_time": "2021-10-22T12:16:53.021Z"
   },
   {
    "duration": 256,
    "start_time": "2021-10-22T12:16:53.861Z"
   },
   {
    "duration": 6,
    "start_time": "2021-10-22T12:16:54.119Z"
   },
   {
    "duration": 151,
    "start_time": "2021-10-22T12:16:54.128Z"
   },
   {
    "duration": 3,
    "start_time": "2021-10-22T12:16:54.281Z"
   },
   {
    "duration": 304,
    "start_time": "2021-10-22T12:16:54.287Z"
   },
   {
    "duration": 8,
    "start_time": "2021-10-22T12:16:54.593Z"
   },
   {
    "duration": 17785,
    "start_time": "2021-10-22T12:16:54.603Z"
   },
   {
    "duration": 3,
    "start_time": "2021-10-22T12:17:12.392Z"
   },
   {
    "duration": 3465,
    "start_time": "2021-10-22T12:17:12.484Z"
   },
   {
    "duration": 3,
    "start_time": "2021-10-22T12:17:15.952Z"
   },
   {
    "duration": 226648,
    "start_time": "2021-10-22T12:17:15.958Z"
   },
   {
    "duration": 3,
    "start_time": "2021-10-22T12:21:02.609Z"
   },
   {
    "duration": 41098,
    "start_time": "2021-10-22T12:21:02.614Z"
   },
   {
    "duration": 69,
    "start_time": "2021-10-22T12:21:43.714Z"
   },
   {
    "duration": 336,
    "start_time": "2021-10-22T12:21:43.786Z"
   },
   {
    "duration": 198,
    "start_time": "2021-10-22T12:22:34.866Z"
   },
   {
    "duration": 224,
    "start_time": "2021-10-22T12:22:42.591Z"
   },
   {
    "duration": 1489,
    "start_time": "2021-10-22T12:23:08.714Z"
   },
   {
    "duration": 1162,
    "start_time": "2021-10-22T12:23:10.206Z"
   },
   {
    "duration": 46,
    "start_time": "2021-10-22T12:23:11.371Z"
   },
   {
    "duration": 498,
    "start_time": "2021-10-22T12:23:11.421Z"
   },
   {
    "duration": 932,
    "start_time": "2021-10-22T12:23:11.922Z"
   },
   {
    "duration": 584,
    "start_time": "2021-10-22T12:23:12.857Z"
   },
   {
    "duration": 1279,
    "start_time": "2021-10-22T12:23:13.444Z"
   },
   {
    "duration": 112,
    "start_time": "2021-10-22T12:23:14.726Z"
   },
   {
    "duration": 308,
    "start_time": "2021-10-22T12:23:14.842Z"
   },
   {
    "duration": 318,
    "start_time": "2021-10-22T12:23:15.153Z"
   },
   {
    "duration": 1414,
    "start_time": "2021-10-22T12:23:15.473Z"
   },
   {
    "duration": 121,
    "start_time": "2021-10-22T12:23:16.890Z"
   },
   {
    "duration": 16,
    "start_time": "2021-10-22T12:23:17.014Z"
   },
   {
    "duration": 933,
    "start_time": "2021-10-22T12:23:17.032Z"
   },
   {
    "duration": 907,
    "start_time": "2021-10-22T12:23:17.968Z"
   },
   {
    "duration": 42,
    "start_time": "2021-10-22T12:23:18.877Z"
   },
   {
    "duration": 990,
    "start_time": "2021-10-22T12:23:18.922Z"
   },
   {
    "duration": 13,
    "start_time": "2021-10-22T12:23:19.914Z"
   },
   {
    "duration": 14,
    "start_time": "2021-10-22T12:23:19.931Z"
   },
   {
    "duration": 69,
    "start_time": "2021-10-22T12:23:19.948Z"
   },
   {
    "duration": 926,
    "start_time": "2021-10-22T12:23:20.020Z"
   },
   {
    "duration": 49,
    "start_time": "2021-10-22T12:23:20.949Z"
   },
   {
    "duration": 85,
    "start_time": "2021-10-22T12:23:21.001Z"
   },
   {
    "duration": 23,
    "start_time": "2021-10-22T12:23:21.088Z"
   },
   {
    "duration": 793,
    "start_time": "2021-10-22T12:23:21.114Z"
   },
   {
    "duration": 188,
    "start_time": "2021-10-22T12:23:21.909Z"
   },
   {
    "duration": 104,
    "start_time": "2021-10-22T12:23:22.104Z"
   },
   {
    "duration": 951,
    "start_time": "2021-10-22T12:23:22.211Z"
   },
   {
    "duration": 271,
    "start_time": "2021-10-22T12:23:23.164Z"
   },
   {
    "duration": 6,
    "start_time": "2021-10-22T12:23:23.437Z"
   },
   {
    "duration": 188,
    "start_time": "2021-10-22T12:23:23.446Z"
   },
   {
    "duration": 4,
    "start_time": "2021-10-22T12:23:23.636Z"
   },
   {
    "duration": 326,
    "start_time": "2021-10-22T12:23:23.643Z"
   },
   {
    "duration": 23,
    "start_time": "2021-10-22T12:23:23.972Z"
   },
   {
    "duration": 23204,
    "start_time": "2021-10-22T12:23:23.998Z"
   },
   {
    "duration": 78,
    "start_time": "2021-10-22T12:23:47.205Z"
   },
   {
    "duration": 3690,
    "start_time": "2021-10-22T12:23:47.287Z"
   },
   {
    "duration": 5,
    "start_time": "2021-10-22T12:23:50.983Z"
   },
   {
    "duration": 228895,
    "start_time": "2021-10-22T12:23:50.991Z"
   },
   {
    "duration": 4,
    "start_time": "2021-10-22T12:27:39.888Z"
   },
   {
    "duration": 34806,
    "start_time": "2021-10-22T12:27:39.895Z"
   },
   {
    "duration": 4,
    "start_time": "2021-10-22T12:28:14.704Z"
   },
   {
    "duration": 260,
    "start_time": "2021-10-22T12:28:44.966Z"
   },
   {
    "duration": 1858,
    "start_time": "2021-10-22T12:29:01.826Z"
   },
   {
    "duration": 1136,
    "start_time": "2021-10-22T12:29:10.064Z"
   },
   {
    "duration": 40,
    "start_time": "2021-10-22T12:29:11.203Z"
   },
   {
    "duration": 187,
    "start_time": "2021-10-22T12:29:11.246Z"
   },
   {
    "duration": 633,
    "start_time": "2021-10-22T12:29:11.436Z"
   },
   {
    "duration": 131,
    "start_time": "2021-10-22T12:29:12.071Z"
   },
   {
    "duration": 177,
    "start_time": "2021-10-22T12:29:12.205Z"
   },
   {
    "duration": 54,
    "start_time": "2021-10-22T12:29:12.385Z"
   },
   {
    "duration": 156,
    "start_time": "2021-10-22T12:29:12.442Z"
   },
   {
    "duration": 81,
    "start_time": "2021-10-22T12:29:12.602Z"
   },
   {
    "duration": 316,
    "start_time": "2021-10-22T12:29:12.687Z"
   },
   {
    "duration": 117,
    "start_time": "2021-10-22T12:29:13.006Z"
   },
   {
    "duration": 16,
    "start_time": "2021-10-22T12:29:13.150Z"
   },
   {
    "duration": 904,
    "start_time": "2021-10-22T12:29:13.775Z"
   },
   {
    "duration": 890,
    "start_time": "2021-10-22T12:29:14.682Z"
   },
   {
    "duration": 43,
    "start_time": "2021-10-22T12:29:15.574Z"
   },
   {
    "duration": 897,
    "start_time": "2021-10-22T12:29:15.620Z"
   },
   {
    "duration": 17,
    "start_time": "2021-10-22T12:29:16.520Z"
   },
   {
    "duration": 15,
    "start_time": "2021-10-22T12:29:16.540Z"
   },
   {
    "duration": 48,
    "start_time": "2021-10-22T12:29:16.585Z"
   },
   {
    "duration": 977,
    "start_time": "2021-10-22T12:29:16.636Z"
   },
   {
    "duration": 37,
    "start_time": "2021-10-22T12:29:17.615Z"
   },
   {
    "duration": 87,
    "start_time": "2021-10-22T12:29:17.654Z"
   },
   {
    "duration": 16,
    "start_time": "2021-10-22T12:29:17.743Z"
   },
   {
    "duration": 746,
    "start_time": "2021-10-22T12:29:18.036Z"
   },
   {
    "duration": 182,
    "start_time": "2021-10-22T12:29:18.787Z"
   },
   {
    "duration": 98,
    "start_time": "2021-10-22T12:29:19.019Z"
   },
   {
    "duration": 865,
    "start_time": "2021-10-22T12:29:19.298Z"
   },
   {
    "duration": 293,
    "start_time": "2021-10-22T12:29:20.166Z"
   },
   {
    "duration": 6,
    "start_time": "2021-10-22T12:29:20.462Z"
   },
   {
    "duration": 150,
    "start_time": "2021-10-22T12:29:21.833Z"
   },
   {
    "duration": 4,
    "start_time": "2021-10-22T12:29:22.041Z"
   },
   {
    "duration": 313,
    "start_time": "2021-10-22T12:29:22.275Z"
   },
   {
    "duration": 9,
    "start_time": "2021-10-22T12:29:25.383Z"
   },
   {
    "duration": 25297,
    "start_time": "2021-10-22T12:29:30.800Z"
   },
   {
    "duration": 374697,
    "start_time": "2021-10-22T12:30:08.618Z"
   },
   {
    "duration": 5566,
    "start_time": "2021-10-22T12:36:57.061Z"
   },
   {
    "duration": 6212,
    "start_time": "2021-10-22T12:37:18.334Z"
   },
   {
    "duration": 6444,
    "start_time": "2021-10-22T12:37:38.270Z"
   },
   {
    "duration": 5811,
    "start_time": "2021-10-22T12:46:13.773Z"
   },
   {
    "duration": 5437,
    "start_time": "2021-10-22T12:46:40.400Z"
   },
   {
    "duration": 5792,
    "start_time": "2021-10-22T12:46:54.593Z"
   },
   {
    "duration": 216827,
    "start_time": "2021-10-22T12:53:40.766Z"
   },
   {
    "duration": 1762,
    "start_time": "2021-10-22T13:09:23.617Z"
   },
   {
    "duration": 1037,
    "start_time": "2021-10-22T13:09:25.950Z"
   },
   {
    "duration": 39,
    "start_time": "2021-10-22T13:09:26.989Z"
   },
   {
    "duration": 167,
    "start_time": "2021-10-22T13:09:27.030Z"
   },
   {
    "duration": 578,
    "start_time": "2021-10-22T13:09:27.200Z"
   },
   {
    "duration": 133,
    "start_time": "2021-10-22T13:09:27.783Z"
   },
   {
    "duration": 166,
    "start_time": "2021-10-22T13:09:27.919Z"
   },
   {
    "duration": 50,
    "start_time": "2021-10-22T13:09:28.088Z"
   },
   {
    "duration": 132,
    "start_time": "2021-10-22T13:09:28.141Z"
   },
   {
    "duration": 59,
    "start_time": "2021-10-22T13:09:28.283Z"
   },
   {
    "duration": 240,
    "start_time": "2021-10-22T13:09:28.424Z"
   },
   {
    "duration": 97,
    "start_time": "2021-10-22T13:09:28.837Z"
   },
   {
    "duration": 16,
    "start_time": "2021-10-22T13:09:29.052Z"
   },
   {
    "duration": 875,
    "start_time": "2021-10-22T13:09:29.721Z"
   },
   {
    "duration": 855,
    "start_time": "2021-10-22T13:09:30.599Z"
   },
   {
    "duration": 48,
    "start_time": "2021-10-22T13:09:31.459Z"
   },
   {
    "duration": 846,
    "start_time": "2021-10-22T13:09:31.510Z"
   },
   {
    "duration": 12,
    "start_time": "2021-10-22T13:09:32.358Z"
   },
   {
    "duration": 14,
    "start_time": "2021-10-22T13:09:32.383Z"
   },
   {
    "duration": 43,
    "start_time": "2021-10-22T13:09:32.399Z"
   },
   {
    "duration": 950,
    "start_time": "2021-10-22T13:09:32.445Z"
   },
   {
    "duration": 44,
    "start_time": "2021-10-22T13:09:33.400Z"
   },
   {
    "duration": 85,
    "start_time": "2021-10-22T13:09:33.448Z"
   },
   {
    "duration": 15,
    "start_time": "2021-10-22T13:09:33.536Z"
   },
   {
    "duration": 660,
    "start_time": "2021-10-22T13:09:33.772Z"
   },
   {
    "duration": 185,
    "start_time": "2021-10-22T13:09:34.435Z"
   },
   {
    "duration": 93,
    "start_time": "2021-10-22T13:09:34.915Z"
   },
   {
    "duration": 812,
    "start_time": "2021-10-22T13:09:35.179Z"
   },
   {
    "duration": 257,
    "start_time": "2021-10-22T13:09:35.993Z"
   },
   {
    "duration": 6,
    "start_time": "2021-10-22T13:09:36.253Z"
   },
   {
    "duration": 138,
    "start_time": "2021-10-22T13:09:37.282Z"
   },
   {
    "duration": 4,
    "start_time": "2021-10-22T13:09:37.653Z"
   },
   {
    "duration": 285,
    "start_time": "2021-10-22T13:09:37.885Z"
   },
   {
    "duration": 9,
    "start_time": "2021-10-22T13:09:38.979Z"
   },
   {
    "duration": 16941,
    "start_time": "2021-10-22T13:09:41.742Z"
   },
   {
    "duration": 5468,
    "start_time": "2021-10-22T13:11:01.865Z"
   },
   {
    "duration": 215958,
    "start_time": "2021-10-22T13:11:12.639Z"
   },
   {
    "duration": 57446,
    "start_time": "2021-10-22T13:16:15.680Z"
   },
   {
    "duration": 4,
    "start_time": "2021-10-22T13:17:30.005Z"
   },
   {
    "duration": 4,
    "start_time": "2021-10-22T13:18:30.634Z"
   },
   {
    "duration": 97,
    "start_time": "2021-10-22T13:22:41.137Z"
   },
   {
    "duration": 75,
    "start_time": "2021-10-22T13:24:03.742Z"
   },
   {
    "duration": 98434,
    "start_time": "2021-10-22T13:24:09.660Z"
   },
   {
    "duration": 320,
    "start_time": "2021-10-22T13:26:54.264Z"
   },
   {
    "duration": 1691,
    "start_time": "2021-10-22T13:27:15.806Z"
   },
   {
    "duration": 4,
    "start_time": "2021-10-22T13:28:13.265Z"
   },
   {
    "duration": 1656,
    "start_time": "2021-10-22T13:28:14.855Z"
   },
   {
    "duration": 1632,
    "start_time": "2021-10-22T13:28:46.078Z"
   },
   {
    "duration": 1689,
    "start_time": "2021-10-22T13:29:11.099Z"
   },
   {
    "duration": 4,
    "start_time": "2021-10-22T13:29:53.098Z"
   },
   {
    "duration": 1693,
    "start_time": "2021-10-22T13:29:53.992Z"
   },
   {
    "duration": 5,
    "start_time": "2021-10-22T13:31:31.162Z"
   },
   {
    "duration": 1691,
    "start_time": "2021-10-22T13:31:33.020Z"
   },
   {
    "duration": 5,
    "start_time": "2021-10-22T13:32:02.385Z"
   },
   {
    "duration": 1749,
    "start_time": "2021-10-22T13:32:03.239Z"
   },
   {
    "duration": 4,
    "start_time": "2021-10-22T13:32:21.469Z"
   },
   {
    "duration": 2181,
    "start_time": "2021-10-22T13:32:22.500Z"
   },
   {
    "duration": 5,
    "start_time": "2021-10-22T13:32:31.086Z"
   },
   {
    "duration": 1614,
    "start_time": "2021-10-22T13:32:32.090Z"
   },
   {
    "duration": 4,
    "start_time": "2021-10-22T13:33:10.222Z"
   },
   {
    "duration": 2042,
    "start_time": "2021-10-22T13:33:10.870Z"
   },
   {
    "duration": 4,
    "start_time": "2021-10-22T13:39:22.509Z"
   },
   {
    "duration": 1667,
    "start_time": "2021-10-22T13:39:24.726Z"
   },
   {
    "duration": 48,
    "start_time": "2021-10-22T13:42:41.447Z"
   },
   {
    "duration": 1655,
    "start_time": "2021-10-22T13:42:58.943Z"
   },
   {
    "duration": 108,
    "start_time": "2021-10-22T13:43:01.783Z"
   },
   {
    "duration": 1667,
    "start_time": "2021-10-22T16:57:40.197Z"
   },
   {
    "duration": 1195,
    "start_time": "2021-10-22T16:57:41.866Z"
   },
   {
    "duration": 50,
    "start_time": "2021-10-22T16:57:43.064Z"
   },
   {
    "duration": 202,
    "start_time": "2021-10-22T16:57:43.118Z"
   },
   {
    "duration": 667,
    "start_time": "2021-10-22T16:57:43.323Z"
   },
   {
    "duration": 142,
    "start_time": "2021-10-22T16:57:43.992Z"
   },
   {
    "duration": 182,
    "start_time": "2021-10-22T16:57:44.136Z"
   },
   {
    "duration": 59,
    "start_time": "2021-10-22T16:57:44.320Z"
   },
   {
    "duration": 123,
    "start_time": "2021-10-22T16:57:44.402Z"
   },
   {
    "duration": 68,
    "start_time": "2021-10-22T16:57:46.086Z"
   },
   {
    "duration": 274,
    "start_time": "2021-10-22T16:57:46.281Z"
   },
   {
    "duration": 116,
    "start_time": "2021-10-22T16:57:46.686Z"
   },
   {
    "duration": 17,
    "start_time": "2021-10-22T16:57:46.878Z"
   },
   {
    "duration": 961,
    "start_time": "2021-10-22T16:57:47.503Z"
   },
   {
    "duration": 926,
    "start_time": "2021-10-22T16:57:48.467Z"
   },
   {
    "duration": 36,
    "start_time": "2021-10-22T16:57:49.401Z"
   },
   {
    "duration": 943,
    "start_time": "2021-10-22T16:57:49.440Z"
   },
   {
    "duration": 17,
    "start_time": "2021-10-22T16:57:50.386Z"
   },
   {
    "duration": 27,
    "start_time": "2021-10-22T16:57:50.406Z"
   },
   {
    "duration": 48,
    "start_time": "2021-10-22T16:57:50.436Z"
   },
   {
    "duration": 1001,
    "start_time": "2021-10-22T16:57:51.693Z"
   },
   {
    "duration": 42,
    "start_time": "2021-10-22T16:57:52.697Z"
   },
   {
    "duration": 90,
    "start_time": "2021-10-22T16:57:52.742Z"
   },
   {
    "duration": 16,
    "start_time": "2021-10-22T16:57:52.835Z"
   },
   {
    "duration": 1163,
    "start_time": "2021-10-22T16:58:10.973Z"
   },
   {
    "duration": 197,
    "start_time": "2021-10-22T16:58:12.139Z"
   },
   {
    "duration": 108,
    "start_time": "2021-10-22T16:58:12.339Z"
   },
   {
    "duration": 929,
    "start_time": "2021-10-22T16:58:12.450Z"
   },
   {
    "duration": 283,
    "start_time": "2021-10-22T16:58:13.382Z"
   },
   {
    "duration": 6,
    "start_time": "2021-10-22T16:58:13.667Z"
   },
   {
    "duration": 150,
    "start_time": "2021-10-22T16:58:13.701Z"
   },
   {
    "duration": 6,
    "start_time": "2021-10-22T16:58:37.581Z"
   },
   {
    "duration": 146,
    "start_time": "2021-10-22T16:58:38.260Z"
   },
   {
    "duration": 3,
    "start_time": "2021-10-22T16:58:38.507Z"
   },
   {
    "duration": 312,
    "start_time": "2021-10-22T16:58:38.735Z"
   },
   {
    "duration": 8,
    "start_time": "2021-10-22T16:58:40.420Z"
   },
   {
    "duration": 18292,
    "start_time": "2021-10-22T16:58:43.710Z"
   },
   {
    "duration": 222459,
    "start_time": "2021-10-22T17:04:27.254Z"
   },
   {
    "duration": 16362,
    "start_time": "2021-10-22T17:17:32.960Z"
   },
   {
    "duration": 1657,
    "start_time": "2021-10-22T17:24:17.711Z"
   },
   {
    "duration": 1155,
    "start_time": "2021-10-22T17:24:19.370Z"
   },
   {
    "duration": 39,
    "start_time": "2021-10-22T17:24:20.528Z"
   },
   {
    "duration": 180,
    "start_time": "2021-10-22T17:24:20.570Z"
   },
   {
    "duration": 656,
    "start_time": "2021-10-22T17:24:20.753Z"
   },
   {
    "duration": 137,
    "start_time": "2021-10-22T17:24:21.412Z"
   },
   {
    "duration": 182,
    "start_time": "2021-10-22T17:24:21.551Z"
   },
   {
    "duration": 76,
    "start_time": "2021-10-22T17:24:21.738Z"
   },
   {
    "duration": 134,
    "start_time": "2021-10-22T17:24:21.818Z"
   },
   {
    "duration": 76,
    "start_time": "2021-10-22T17:24:21.955Z"
   },
   {
    "duration": 281,
    "start_time": "2021-10-22T17:24:22.034Z"
   },
   {
    "duration": 117,
    "start_time": "2021-10-22T17:24:22.318Z"
   },
   {
    "duration": 15,
    "start_time": "2021-10-22T17:24:22.438Z"
   },
   {
    "duration": 962,
    "start_time": "2021-10-22T17:24:22.456Z"
   },
   {
    "duration": 901,
    "start_time": "2021-10-22T17:24:23.421Z"
   },
   {
    "duration": 36,
    "start_time": "2021-10-22T17:24:24.326Z"
   },
   {
    "duration": 935,
    "start_time": "2021-10-22T17:24:24.364Z"
   },
   {
    "duration": 12,
    "start_time": "2021-10-22T17:24:25.302Z"
   },
   {
    "duration": 13,
    "start_time": "2021-10-22T17:24:25.317Z"
   },
   {
    "duration": 80,
    "start_time": "2021-10-22T17:24:25.333Z"
   },
   {
    "duration": 978,
    "start_time": "2021-10-22T17:24:25.416Z"
   },
   {
    "duration": 40,
    "start_time": "2021-10-22T17:24:26.397Z"
   },
   {
    "duration": 88,
    "start_time": "2021-10-22T17:24:26.440Z"
   },
   {
    "duration": 17,
    "start_time": "2021-10-22T17:24:26.531Z"
   },
   {
    "duration": 851,
    "start_time": "2021-10-22T17:24:26.550Z"
   },
   {
    "duration": 188,
    "start_time": "2021-10-22T17:24:27.404Z"
   },
   {
    "duration": 101,
    "start_time": "2021-10-22T17:24:27.599Z"
   },
   {
    "duration": 892,
    "start_time": "2021-10-22T17:24:27.703Z"
   },
   {
    "duration": 290,
    "start_time": "2021-10-22T17:24:28.598Z"
   },
   {
    "duration": 8,
    "start_time": "2021-10-22T17:24:29.445Z"
   },
   {
    "duration": 186,
    "start_time": "2021-10-22T17:24:29.457Z"
   },
   {
    "duration": 3,
    "start_time": "2021-10-22T17:24:29.646Z"
   },
   {
    "duration": 317,
    "start_time": "2021-10-22T17:24:29.651Z"
   },
   {
    "duration": 10,
    "start_time": "2021-10-22T17:24:31.122Z"
   },
   {
    "duration": 18582,
    "start_time": "2021-10-22T17:24:31.222Z"
   },
   {
    "duration": 384369,
    "start_time": "2021-10-22T17:25:46.433Z"
   },
   {
    "duration": 5970,
    "start_time": "2021-10-22T17:38:37.370Z"
   },
   {
    "duration": 222003,
    "start_time": "2021-10-22T17:38:50.707Z"
   },
   {
    "duration": 1637,
    "start_time": "2021-10-22T17:43:34.197Z"
   },
   {
    "duration": 1158,
    "start_time": "2021-10-22T17:43:37.034Z"
   },
   {
    "duration": 38,
    "start_time": "2021-10-22T17:43:38.195Z"
   },
   {
    "duration": 177,
    "start_time": "2021-10-22T17:43:38.236Z"
   },
   {
    "duration": 645,
    "start_time": "2021-10-22T17:43:38.415Z"
   },
   {
    "duration": 132,
    "start_time": "2021-10-22T17:43:39.062Z"
   },
   {
    "duration": 177,
    "start_time": "2021-10-22T17:43:39.200Z"
   },
   {
    "duration": 72,
    "start_time": "2021-10-22T17:43:39.379Z"
   },
   {
    "duration": 117,
    "start_time": "2021-10-22T17:43:39.454Z"
   },
   {
    "duration": 85,
    "start_time": "2021-10-22T17:43:39.574Z"
   },
   {
    "duration": 284,
    "start_time": "2021-10-22T17:43:39.662Z"
   },
   {
    "duration": 108,
    "start_time": "2021-10-22T17:43:39.961Z"
   },
   {
    "duration": 16,
    "start_time": "2021-10-22T17:43:40.193Z"
   },
   {
    "duration": 901,
    "start_time": "2021-10-22T17:43:40.888Z"
   },
   {
    "duration": 913,
    "start_time": "2021-10-22T17:43:41.791Z"
   },
   {
    "duration": 35,
    "start_time": "2021-10-22T17:43:42.707Z"
   },
   {
    "duration": 898,
    "start_time": "2021-10-22T17:43:42.744Z"
   },
   {
    "duration": 14,
    "start_time": "2021-10-22T17:43:43.645Z"
   },
   {
    "duration": 40,
    "start_time": "2021-10-22T17:43:43.662Z"
   },
   {
    "duration": 48,
    "start_time": "2021-10-22T17:43:43.704Z"
   },
   {
    "duration": 976,
    "start_time": "2021-10-22T17:43:44.341Z"
   },
   {
    "duration": 40,
    "start_time": "2021-10-22T17:43:45.319Z"
   },
   {
    "duration": 91,
    "start_time": "2021-10-22T17:43:45.362Z"
   },
   {
    "duration": 16,
    "start_time": "2021-10-22T17:43:45.456Z"
   },
   {
    "duration": 754,
    "start_time": "2021-10-22T17:43:46.285Z"
   },
   {
    "duration": 187,
    "start_time": "2021-10-22T17:43:47.042Z"
   },
   {
    "duration": 103,
    "start_time": "2021-10-22T17:43:47.324Z"
   },
   {
    "duration": 868,
    "start_time": "2021-10-22T17:43:47.992Z"
   },
   {
    "duration": 288,
    "start_time": "2021-10-22T17:43:48.863Z"
   },
   {
    "duration": 6,
    "start_time": "2021-10-22T17:43:49.154Z"
   },
   {
    "duration": 146,
    "start_time": "2021-10-22T17:43:49.250Z"
   },
   {
    "duration": 4,
    "start_time": "2021-10-22T17:43:49.483Z"
   },
   {
    "duration": 315,
    "start_time": "2021-10-22T17:43:49.716Z"
   },
   {
    "duration": 9,
    "start_time": "2021-10-22T17:43:50.855Z"
   },
   {
    "duration": 17808,
    "start_time": "2021-10-22T17:43:51.318Z"
   },
   {
    "duration": 5,
    "start_time": "2021-10-22T17:44:09.204Z"
   },
   {
    "duration": 6216,
    "start_time": "2021-10-22T17:44:09.303Z"
   },
   {
    "duration": 46082,
    "start_time": "2021-10-22T17:44:15.522Z"
   },
   {
    "duration": 499,
    "start_time": "2021-10-22T18:11:38.403Z"
   },
   {
    "duration": 126,
    "start_time": "2021-10-22T18:12:06.850Z"
   },
   {
    "duration": 349,
    "start_time": "2021-10-22T18:12:15.002Z"
   },
   {
    "duration": 20381,
    "start_time": "2021-10-22T18:20:51.629Z"
   },
   {
    "duration": 159,
    "start_time": "2021-10-22T18:21:19.345Z"
   },
   {
    "duration": 5913,
    "start_time": "2021-10-22T18:21:38.757Z"
   },
   {
    "duration": 143,
    "start_time": "2021-10-22T18:23:14.020Z"
   },
   {
    "duration": 233180,
    "start_time": "2021-10-22T18:23:34.661Z"
   },
   {
    "duration": 83,
    "start_time": "2021-10-22T18:27:55.033Z"
   },
   {
    "duration": 1621,
    "start_time": "2021-10-22T18:28:55.328Z"
   },
   {
    "duration": 1219,
    "start_time": "2021-10-22T18:28:56.952Z"
   },
   {
    "duration": 51,
    "start_time": "2021-10-22T18:28:58.178Z"
   },
   {
    "duration": 188,
    "start_time": "2021-10-22T18:28:58.234Z"
   },
   {
    "duration": 702,
    "start_time": "2021-10-22T18:28:58.425Z"
   },
   {
    "duration": 132,
    "start_time": "2021-10-22T18:28:59.129Z"
   },
   {
    "duration": 179,
    "start_time": "2021-10-22T18:28:59.265Z"
   },
   {
    "duration": 81,
    "start_time": "2021-10-22T18:28:59.447Z"
   },
   {
    "duration": 127,
    "start_time": "2021-10-22T18:28:59.530Z"
   },
   {
    "duration": 89,
    "start_time": "2021-10-22T18:28:59.659Z"
   },
   {
    "duration": 294,
    "start_time": "2021-10-22T18:28:59.751Z"
   },
   {
    "duration": 120,
    "start_time": "2021-10-22T18:29:00.047Z"
   },
   {
    "duration": 18,
    "start_time": "2021-10-22T18:29:00.170Z"
   },
   {
    "duration": 943,
    "start_time": "2021-10-22T18:29:00.201Z"
   },
   {
    "duration": 908,
    "start_time": "2021-10-22T18:29:01.147Z"
   },
   {
    "duration": 48,
    "start_time": "2021-10-22T18:29:02.057Z"
   },
   {
    "duration": 1033,
    "start_time": "2021-10-22T18:29:02.108Z"
   },
   {
    "duration": 14,
    "start_time": "2021-10-22T18:29:03.145Z"
   },
   {
    "duration": 15,
    "start_time": "2021-10-22T18:29:03.161Z"
   },
   {
    "duration": 66,
    "start_time": "2021-10-22T18:29:03.178Z"
   },
   {
    "duration": 1042,
    "start_time": "2021-10-22T18:29:03.247Z"
   },
   {
    "duration": 48,
    "start_time": "2021-10-22T18:29:04.291Z"
   },
   {
    "duration": 83,
    "start_time": "2021-10-22T18:29:04.342Z"
   },
   {
    "duration": 17,
    "start_time": "2021-10-22T18:29:04.427Z"
   },
   {
    "duration": 990,
    "start_time": "2021-10-22T18:29:04.451Z"
   },
   {
    "duration": 193,
    "start_time": "2021-10-22T18:29:05.444Z"
   },
   {
    "duration": 117,
    "start_time": "2021-10-22T18:29:05.640Z"
   },
   {
    "duration": 914,
    "start_time": "2021-10-22T18:29:05.761Z"
   },
   {
    "duration": 302,
    "start_time": "2021-10-22T18:29:06.678Z"
   },
   {
    "duration": 17,
    "start_time": "2021-10-22T18:29:06.984Z"
   },
   {
    "duration": 165,
    "start_time": "2021-10-22T18:29:07.005Z"
   },
   {
    "duration": 4,
    "start_time": "2021-10-22T18:29:07.192Z"
   },
   {
    "duration": 343,
    "start_time": "2021-10-22T18:29:07.400Z"
   },
   {
    "duration": 8,
    "start_time": "2021-10-22T18:29:08.802Z"
   },
   {
    "duration": 396,
    "start_time": "2021-10-22T18:29:47.412Z"
   },
   {
    "duration": 17701,
    "start_time": "2021-10-22T18:29:54.511Z"
   },
   {
    "duration": 154,
    "start_time": "2021-10-22T18:30:32.550Z"
   },
   {
    "duration": 401737,
    "start_time": "2021-10-22T18:30:49.451Z"
   },
   {
    "duration": 1051,
    "start_time": "2021-10-22T18:37:57.434Z"
   },
   {
    "duration": 5215,
    "start_time": "2021-10-22T18:38:14.814Z"
   },
   {
    "duration": 1430,
    "start_time": "2021-10-22T18:38:24.684Z"
   },
   {
    "duration": 148,
    "start_time": "2021-10-22T18:44:29.736Z"
   },
   {
    "duration": 120,
    "start_time": "2021-10-22T18:44:42.201Z"
   },
   {
    "duration": 276,
    "start_time": "2021-10-22T18:44:56.964Z"
   },
   {
    "duration": 6,
    "start_time": "2021-10-22T18:45:02.204Z"
   },
   {
    "duration": 1614,
    "start_time": "2021-10-22T18:45:04.210Z"
   },
   {
    "duration": 280,
    "start_time": "2021-10-22T18:45:08.699Z"
   },
   {
    "duration": 1413,
    "start_time": "2021-10-22T18:45:15.615Z"
   },
   {
    "duration": 244106,
    "start_time": "2021-10-22T18:45:25.103Z"
   },
   {
    "duration": 147,
    "start_time": "2021-10-22T18:49:58.369Z"
   },
   {
    "duration": 62,
    "start_time": "2021-10-22T18:50:07.555Z"
   },
   {
    "duration": 16,
    "start_time": "2021-10-22T19:28:13.909Z"
   },
   {
    "duration": 354,
    "start_time": "2021-10-22T19:40:31.813Z"
   },
   {
    "duration": 15,
    "start_time": "2021-10-22T19:40:36.680Z"
   },
   {
    "duration": 7,
    "start_time": "2021-10-22T19:53:37.389Z"
   },
   {
    "duration": 1171,
    "start_time": "2021-10-22T19:53:37.399Z"
   },
   {
    "duration": 42,
    "start_time": "2021-10-22T19:53:38.574Z"
   },
   {
    "duration": 168,
    "start_time": "2021-10-22T19:53:38.619Z"
   },
   {
    "duration": 635,
    "start_time": "2021-10-22T19:53:38.801Z"
   },
   {
    "duration": 186,
    "start_time": "2021-10-22T19:53:39.439Z"
   },
   {
    "duration": 277,
    "start_time": "2021-10-22T19:53:39.629Z"
   },
   {
    "duration": 98,
    "start_time": "2021-10-22T19:53:39.912Z"
   },
   {
    "duration": 128,
    "start_time": "2021-10-22T19:53:40.015Z"
   },
   {
    "duration": 80,
    "start_time": "2021-10-22T19:53:40.146Z"
   },
   {
    "duration": 293,
    "start_time": "2021-10-22T19:53:40.229Z"
   },
   {
    "duration": 119,
    "start_time": "2021-10-22T19:53:40.525Z"
   },
   {
    "duration": 16,
    "start_time": "2021-10-22T19:53:40.646Z"
   },
   {
    "duration": 925,
    "start_time": "2021-10-22T19:53:40.665Z"
   },
   {
    "duration": 1272,
    "start_time": "2021-10-22T19:53:41.593Z"
   },
   {
    "duration": 57,
    "start_time": "2021-10-22T19:53:42.867Z"
   },
   {
    "duration": 1285,
    "start_time": "2021-10-22T19:53:42.927Z"
   },
   {
    "duration": 17,
    "start_time": "2021-10-22T19:53:44.215Z"
   },
   {
    "duration": 18,
    "start_time": "2021-10-22T19:53:44.235Z"
   },
   {
    "duration": 87,
    "start_time": "2021-10-22T19:53:44.256Z"
   },
   {
    "duration": 1403,
    "start_time": "2021-10-22T19:53:44.346Z"
   },
   {
    "duration": 61,
    "start_time": "2021-10-22T19:53:45.751Z"
   },
   {
    "duration": 99,
    "start_time": "2021-10-22T19:53:45.820Z"
   },
   {
    "duration": 24,
    "start_time": "2021-10-22T19:53:45.923Z"
   },
   {
    "duration": 1550,
    "start_time": "2021-10-22T19:53:45.950Z"
   },
   {
    "duration": 198,
    "start_time": "2021-10-22T19:53:47.502Z"
   },
   {
    "duration": 132,
    "start_time": "2021-10-22T19:53:47.704Z"
   },
   {
    "duration": 906,
    "start_time": "2021-10-22T19:53:47.839Z"
   },
   {
    "duration": 264,
    "start_time": "2021-10-22T19:53:48.747Z"
   },
   {
    "duration": 6,
    "start_time": "2021-10-22T19:53:49.014Z"
   },
   {
    "duration": 170,
    "start_time": "2021-10-22T19:53:49.023Z"
   },
   {
    "duration": 6,
    "start_time": "2021-10-22T19:53:49.195Z"
   },
   {
    "duration": 520,
    "start_time": "2021-10-22T19:53:49.204Z"
   },
   {
    "duration": 9,
    "start_time": "2021-10-22T19:53:49.726Z"
   },
   {
    "duration": 1687,
    "start_time": "2021-10-22T19:58:41.957Z"
   },
   {
    "duration": 1189,
    "start_time": "2021-10-22T19:58:44.828Z"
   },
   {
    "duration": 42,
    "start_time": "2021-10-22T19:58:46.028Z"
   },
   {
    "duration": 165,
    "start_time": "2021-10-22T19:58:46.882Z"
   },
   {
    "duration": 724,
    "start_time": "2021-10-22T19:58:47.353Z"
   },
   {
    "duration": 146,
    "start_time": "2021-10-22T19:58:48.081Z"
   },
   {
    "duration": 166,
    "start_time": "2021-10-22T19:58:48.278Z"
   },
   {
    "duration": 63,
    "start_time": "2021-10-22T19:58:50.245Z"
   },
   {
    "duration": 123,
    "start_time": "2021-10-22T19:58:50.700Z"
   },
   {
    "duration": 70,
    "start_time": "2021-10-22T19:58:52.195Z"
   },
   {
    "duration": 274,
    "start_time": "2021-10-22T19:58:52.577Z"
   },
   {
    "duration": 111,
    "start_time": "2021-10-22T19:58:53.362Z"
   },
   {
    "duration": 18,
    "start_time": "2021-10-22T19:58:53.693Z"
   },
   {
    "duration": 910,
    "start_time": "2021-10-22T19:58:54.739Z"
   },
   {
    "duration": 1007,
    "start_time": "2021-10-22T19:58:55.652Z"
   },
   {
    "duration": 54,
    "start_time": "2021-10-22T19:58:56.663Z"
   },
   {
    "duration": 1011,
    "start_time": "2021-10-22T19:58:56.720Z"
   },
   {
    "duration": 15,
    "start_time": "2021-10-22T19:58:57.735Z"
   },
   {
    "duration": 49,
    "start_time": "2021-10-22T19:58:57.753Z"
   },
   {
    "duration": 69,
    "start_time": "2021-10-22T19:58:57.907Z"
   },
   {
    "duration": 1470,
    "start_time": "2021-10-22T19:58:58.682Z"
   },
   {
    "duration": 82,
    "start_time": "2021-10-22T19:59:00.156Z"
   },
   {
    "duration": 110,
    "start_time": "2021-10-22T19:59:00.243Z"
   },
   {
    "duration": 29,
    "start_time": "2021-10-22T19:59:00.357Z"
   },
   {
    "duration": 1142,
    "start_time": "2021-10-22T19:59:01.518Z"
   },
   {
    "duration": 175,
    "start_time": "2021-10-22T19:59:04.007Z"
   },
   {
    "duration": 98,
    "start_time": "2021-10-22T19:59:05.184Z"
   },
   {
    "duration": 874,
    "start_time": "2021-10-22T19:59:05.628Z"
   },
   {
    "duration": 290,
    "start_time": "2021-10-22T19:59:06.505Z"
   },
   {
    "duration": 6,
    "start_time": "2021-10-22T19:59:07.503Z"
   },
   {
    "duration": 161,
    "start_time": "2021-10-22T19:59:09.092Z"
   },
   {
    "duration": 4,
    "start_time": "2021-10-22T19:59:09.536Z"
   },
   {
    "duration": 314,
    "start_time": "2021-10-22T19:59:09.934Z"
   },
   {
    "duration": 8,
    "start_time": "2021-10-22T19:59:12.145Z"
   },
   {
    "duration": 21977,
    "start_time": "2021-10-22T19:59:13.044Z"
   },
   {
    "duration": 276,
    "start_time": "2021-10-22T19:59:35.025Z"
   },
   {
    "duration": 6285,
    "start_time": "2021-10-22T19:59:41.236Z"
   },
   {
    "duration": 137,
    "start_time": "2021-10-22T19:59:50.354Z"
   },
   {
    "duration": 229453,
    "start_time": "2021-10-22T19:59:54.407Z"
   },
   {
    "duration": 144,
    "start_time": "2021-10-22T20:04:09.074Z"
   },
   {
    "duration": 2103,
    "start_time": "2021-10-22T20:14:09.126Z"
   },
   {
    "duration": 1804,
    "start_time": "2021-10-22T20:14:12.214Z"
   },
   {
    "duration": 63,
    "start_time": "2021-10-22T20:14:14.021Z"
   },
   {
    "duration": 278,
    "start_time": "2021-10-22T20:14:14.153Z"
   },
   {
    "duration": 1091,
    "start_time": "2021-10-22T20:14:14.434Z"
   },
   {
    "duration": 191,
    "start_time": "2021-10-22T20:14:15.529Z"
   },
   {
    "duration": 290,
    "start_time": "2021-10-22T20:14:15.724Z"
   },
   {
    "duration": 102,
    "start_time": "2021-10-22T20:14:16.018Z"
   },
   {
    "duration": 201,
    "start_time": "2021-10-22T20:14:16.124Z"
   },
   {
    "duration": 103,
    "start_time": "2021-10-22T20:14:16.329Z"
   },
   {
    "duration": 284,
    "start_time": "2021-10-22T20:14:16.436Z"
   },
   {
    "duration": 116,
    "start_time": "2021-10-22T20:14:16.723Z"
   },
   {
    "duration": 17,
    "start_time": "2021-10-22T20:14:16.896Z"
   },
   {
    "duration": 923,
    "start_time": "2021-10-22T20:14:17.548Z"
   },
   {
    "duration": 851,
    "start_time": "2021-10-22T20:14:24.535Z"
   },
   {
    "duration": 45,
    "start_time": "2021-10-22T20:14:25.388Z"
   },
   {
    "duration": 885,
    "start_time": "2021-10-22T20:14:26.067Z"
   },
   {
    "duration": 13,
    "start_time": "2021-10-22T20:14:26.955Z"
   },
   {
    "duration": 35,
    "start_time": "2021-10-22T20:14:26.971Z"
   },
   {
    "duration": 49,
    "start_time": "2021-10-22T20:14:27.009Z"
   },
   {
    "duration": 970,
    "start_time": "2021-10-22T20:14:27.388Z"
   },
   {
    "duration": 52,
    "start_time": "2021-10-22T20:14:28.361Z"
   },
   {
    "duration": 65,
    "start_time": "2021-10-22T20:14:28.417Z"
   },
   {
    "duration": 16,
    "start_time": "2021-10-22T20:14:28.501Z"
   },
   {
    "duration": 988,
    "start_time": "2021-10-22T20:14:28.906Z"
   },
   {
    "duration": 190,
    "start_time": "2021-10-22T20:14:29.897Z"
   },
   {
    "duration": 101,
    "start_time": "2021-10-22T20:14:30.195Z"
   },
   {
    "duration": 942,
    "start_time": "2021-10-22T20:14:30.413Z"
   },
   {
    "duration": 287,
    "start_time": "2021-10-22T20:14:31.358Z"
   },
   {
    "duration": 7,
    "start_time": "2021-10-22T20:14:31.648Z"
   },
   {
    "duration": 142,
    "start_time": "2021-10-22T20:14:31.942Z"
   },
   {
    "duration": 3,
    "start_time": "2021-10-22T20:14:32.265Z"
   },
   {
    "duration": 332,
    "start_time": "2021-10-22T20:14:32.531Z"
   },
   {
    "duration": 8,
    "start_time": "2021-10-22T20:14:35.824Z"
   },
   {
    "duration": 21789,
    "start_time": "2021-10-22T20:14:36.424Z"
   },
   {
    "duration": 285,
    "start_time": "2021-10-22T20:14:58.217Z"
   },
   {
    "duration": 6199,
    "start_time": "2021-10-22T20:15:05.880Z"
   },
   {
    "duration": 137,
    "start_time": "2021-10-22T20:15:15.276Z"
   },
   {
    "duration": 232932,
    "start_time": "2021-10-22T20:15:19.440Z"
   },
   {
    "duration": 85,
    "start_time": "2021-10-22T20:19:55.029Z"
   },
   {
    "duration": 409874,
    "start_time": "2021-10-22T20:20:03.145Z"
   },
   {
    "duration": 1687,
    "start_time": "2021-10-22T20:31:43.352Z"
   },
   {
    "duration": 308,
    "start_time": "2021-10-22T20:32:21.303Z"
   },
   {
    "duration": 1593,
    "start_time": "2021-10-22T20:32:58.835Z"
   },
   {
    "duration": 1298,
    "start_time": "2021-10-22T20:33:00.431Z"
   },
   {
    "duration": 39,
    "start_time": "2021-10-22T20:33:01.732Z"
   },
   {
    "duration": 186,
    "start_time": "2021-10-22T20:33:01.774Z"
   },
   {
    "duration": 725,
    "start_time": "2021-10-22T20:33:01.963Z"
   },
   {
    "duration": 155,
    "start_time": "2021-10-22T20:33:02.692Z"
   },
   {
    "duration": 287,
    "start_time": "2021-10-22T20:33:02.853Z"
   },
   {
    "duration": 83,
    "start_time": "2021-10-22T20:33:03.142Z"
   },
   {
    "duration": 205,
    "start_time": "2021-10-22T20:33:03.319Z"
   },
   {
    "duration": 84,
    "start_time": "2021-10-22T20:33:04.614Z"
   },
   {
    "duration": 446,
    "start_time": "2021-10-22T20:33:04.957Z"
   },
   {
    "duration": 125,
    "start_time": "2021-10-22T20:33:05.575Z"
   },
   {
    "duration": 16,
    "start_time": "2021-10-22T20:33:05.891Z"
   },
   {
    "duration": 917,
    "start_time": "2021-10-22T20:33:06.906Z"
   },
   {
    "duration": 890,
    "start_time": "2021-10-22T20:33:07.826Z"
   },
   {
    "duration": 35,
    "start_time": "2021-10-22T20:33:08.719Z"
   },
   {
    "duration": 910,
    "start_time": "2021-10-22T20:33:08.757Z"
   },
   {
    "duration": 13,
    "start_time": "2021-10-22T20:33:09.669Z"
   },
   {
    "duration": 16,
    "start_time": "2021-10-22T20:33:09.700Z"
   },
   {
    "duration": 48,
    "start_time": "2021-10-22T20:33:09.719Z"
   },
   {
    "duration": 1008,
    "start_time": "2021-10-22T20:33:09.769Z"
   },
   {
    "duration": 50,
    "start_time": "2021-10-22T20:33:10.780Z"
   },
   {
    "duration": 80,
    "start_time": "2021-10-22T20:33:10.833Z"
   },
   {
    "duration": 15,
    "start_time": "2021-10-22T20:33:10.916Z"
   },
   {
    "duration": 1062,
    "start_time": "2021-10-22T20:33:11.447Z"
   },
   {
    "duration": 200,
    "start_time": "2021-10-22T20:33:12.512Z"
   },
   {
    "duration": 112,
    "start_time": "2021-10-22T20:33:12.714Z"
   },
   {
    "duration": 1205,
    "start_time": "2021-10-22T20:33:12.828Z"
   },
   {
    "duration": 285,
    "start_time": "2021-10-22T20:33:14.035Z"
   },
   {
    "duration": 6,
    "start_time": "2021-10-22T20:33:14.323Z"
   },
   {
    "duration": 200,
    "start_time": "2021-10-22T20:33:14.407Z"
   },
   {
    "duration": 4,
    "start_time": "2021-10-22T20:33:14.716Z"
   },
   {
    "duration": 323,
    "start_time": "2021-10-22T20:33:14.941Z"
   },
   {
    "duration": 8,
    "start_time": "2021-10-22T20:33:16.204Z"
   },
   {
    "duration": 22569,
    "start_time": "2021-10-22T20:33:23.134Z"
   },
   {
    "duration": 202,
    "start_time": "2021-10-22T20:33:45.707Z"
   },
   {
    "duration": 382737,
    "start_time": "2021-10-22T20:34:43.472Z"
   },
   {
    "duration": 1052,
    "start_time": "2021-10-22T20:53:18.915Z"
   },
   {
    "duration": 401,
    "start_time": "2021-10-22T20:53:29.441Z"
   },
   {
    "duration": 5,
    "start_time": "2021-10-22T20:53:33.708Z"
   },
   {
    "duration": 1065,
    "start_time": "2021-10-22T20:53:35.992Z"
   },
   {
    "duration": 5208,
    "start_time": "2021-10-22T20:54:13.405Z"
   },
   {
    "duration": 1414,
    "start_time": "2021-10-22T20:54:21.890Z"
   },
   {
    "duration": 1517,
    "start_time": "2021-10-22T20:54:39.589Z"
   },
   {
    "duration": 240,
    "start_time": "2021-10-22T20:54:44.161Z"
   },
   {
    "duration": 233510,
    "start_time": "2021-10-22T20:54:55.077Z"
   },
   {
    "duration": 78,
    "start_time": "2021-10-22T21:00:45.446Z"
   },
   {
    "duration": 73,
    "start_time": "2021-10-22T21:00:55.844Z"
   },
   {
    "duration": 14,
    "start_time": "2021-10-22T21:08:46.247Z"
   },
   {
    "duration": 1310,
    "start_time": "2021-10-24T12:12:47.278Z"
   },
   {
    "duration": 825,
    "start_time": "2021-10-24T12:12:49.389Z"
   },
   {
    "duration": 26,
    "start_time": "2021-10-24T12:12:50.216Z"
   },
   {
    "duration": 129,
    "start_time": "2021-10-24T12:12:50.425Z"
   },
   {
    "duration": 462,
    "start_time": "2021-10-24T12:12:50.676Z"
   },
   {
    "duration": 107,
    "start_time": "2021-10-24T12:12:51.140Z"
   },
   {
    "duration": 133,
    "start_time": "2021-10-24T12:12:51.249Z"
   },
   {
    "duration": 48,
    "start_time": "2021-10-24T12:12:51.451Z"
   },
   {
    "duration": 81,
    "start_time": "2021-10-24T12:12:52.292Z"
   },
   {
    "duration": 47,
    "start_time": "2021-10-24T12:15:03.155Z"
   },
   {
    "duration": 232,
    "start_time": "2021-10-24T12:15:03.682Z"
   },
   {
    "duration": 108,
    "start_time": "2021-10-24T12:15:04.261Z"
   },
   {
    "duration": 14,
    "start_time": "2021-10-24T12:15:05.357Z"
   },
   {
    "duration": 563,
    "start_time": "2021-10-24T12:15:14.581Z"
   },
   {
    "duration": 575,
    "start_time": "2021-10-24T12:15:15.146Z"
   },
   {
    "duration": 22,
    "start_time": "2021-10-24T12:15:15.987Z"
   },
   {
    "duration": 570,
    "start_time": "2021-10-24T12:15:16.733Z"
   },
   {
    "duration": 14,
    "start_time": "2021-10-24T12:15:17.577Z"
   },
   {
    "duration": 12,
    "start_time": "2021-10-24T12:15:17.985Z"
   },
   {
    "duration": 35,
    "start_time": "2021-10-24T12:15:18.374Z"
   },
   {
    "duration": 615,
    "start_time": "2021-10-24T12:15:19.112Z"
   },
   {
    "duration": 21,
    "start_time": "2021-10-24T12:15:19.917Z"
   },
   {
    "duration": 51,
    "start_time": "2021-10-24T12:15:20.195Z"
   },
   {
    "duration": 12,
    "start_time": "2021-10-24T12:15:20.425Z"
   },
   {
    "duration": 723,
    "start_time": "2021-10-24T12:16:15.550Z"
   },
   {
    "duration": 167,
    "start_time": "2021-10-24T12:16:16.275Z"
   },
   {
    "duration": 95,
    "start_time": "2021-10-24T12:16:16.948Z"
   },
   {
    "duration": 617,
    "start_time": "2021-10-24T12:16:19.103Z"
   },
   {
    "duration": 224,
    "start_time": "2021-10-24T12:16:19.722Z"
   },
   {
    "duration": 4,
    "start_time": "2021-10-24T12:16:19.948Z"
   },
   {
    "duration": 81,
    "start_time": "2021-10-24T12:16:28.266Z"
   },
   {
    "duration": 2,
    "start_time": "2021-10-24T12:16:28.545Z"
   },
   {
    "duration": 209,
    "start_time": "2021-10-24T12:16:28.836Z"
   },
   {
    "duration": 6,
    "start_time": "2021-10-24T12:17:09.681Z"
   },
   {
    "duration": 22926,
    "start_time": "2021-10-24T12:17:11.743Z"
   },
   {
    "duration": 192,
    "start_time": "2021-10-24T12:17:34.672Z"
   },
   {
    "duration": 5723,
    "start_time": "2021-10-24T12:22:04.926Z"
   },
   {
    "duration": 114,
    "start_time": "2021-10-24T12:22:17.626Z"
   },
   {
    "duration": 234083,
    "start_time": "2021-10-24T12:23:23.220Z"
   },
   {
    "duration": 765,
    "start_time": "2021-10-24T12:47:06.889Z"
   },
   {
    "duration": 19,
    "start_time": "2021-10-24T13:59:53.382Z"
   },
   {
    "duration": 97,
    "start_time": "2021-10-24T14:00:53.242Z"
   },
   {
    "duration": 38,
    "start_time": "2021-10-24T14:01:14.080Z"
   },
   {
    "duration": 4,
    "start_time": "2021-10-24T14:01:34.940Z"
   },
   {
    "duration": 5,
    "start_time": "2021-10-24T14:04:53.250Z"
   },
   {
    "duration": 860,
    "start_time": "2021-10-24T14:04:54.083Z"
   },
   {
    "duration": 41,
    "start_time": "2021-10-24T14:04:54.946Z"
   },
   {
    "duration": 134,
    "start_time": "2021-10-24T14:04:54.989Z"
   },
   {
    "duration": 476,
    "start_time": "2021-10-24T14:04:55.125Z"
   },
   {
    "duration": 108,
    "start_time": "2021-10-24T14:04:55.603Z"
   },
   {
    "duration": 140,
    "start_time": "2021-10-24T14:04:55.713Z"
   },
   {
    "duration": 50,
    "start_time": "2021-10-24T14:04:55.855Z"
   },
   {
    "duration": 93,
    "start_time": "2021-10-24T14:04:55.907Z"
   },
   {
    "duration": 37,
    "start_time": "2021-10-24T14:04:56.822Z"
   },
   {
    "duration": 194,
    "start_time": "2021-10-24T14:04:57.301Z"
   },
   {
    "duration": 84,
    "start_time": "2021-10-24T14:04:57.759Z"
   },
   {
    "duration": 12,
    "start_time": "2021-10-24T14:04:57.958Z"
   },
   {
    "duration": 586,
    "start_time": "2021-10-24T14:04:58.939Z"
   },
   {
    "duration": 571,
    "start_time": "2021-10-24T14:04:59.527Z"
   },
   {
    "duration": 27,
    "start_time": "2021-10-24T14:05:00.100Z"
   },
   {
    "duration": 579,
    "start_time": "2021-10-24T14:05:00.129Z"
   },
   {
    "duration": 11,
    "start_time": "2021-10-24T14:05:00.711Z"
   },
   {
    "duration": 11,
    "start_time": "2021-10-24T14:05:00.772Z"
   },
   {
    "duration": 30,
    "start_time": "2021-10-24T14:05:00.995Z"
   },
   {
    "duration": 574,
    "start_time": "2021-10-24T14:05:01.452Z"
   },
   {
    "duration": 24,
    "start_time": "2021-10-24T14:05:02.027Z"
   },
   {
    "duration": 59,
    "start_time": "2021-10-24T14:05:02.119Z"
   },
   {
    "duration": 15,
    "start_time": "2021-10-24T14:05:02.344Z"
   },
   {
    "duration": 754,
    "start_time": "2021-10-24T14:05:03.276Z"
   },
   {
    "duration": 173,
    "start_time": "2021-10-24T14:05:04.032Z"
   },
   {
    "duration": 92,
    "start_time": "2021-10-24T14:05:04.226Z"
   },
   {
    "duration": 638,
    "start_time": "2021-10-24T14:05:05.246Z"
   },
   {
    "duration": 225,
    "start_time": "2021-10-24T14:05:05.886Z"
   },
   {
    "duration": 5,
    "start_time": "2021-10-24T14:05:06.113Z"
   },
   {
    "duration": 22,
    "start_time": "2021-10-24T14:05:16.049Z"
   },
   {
    "duration": 88,
    "start_time": "2021-10-24T14:05:16.321Z"
   },
   {
    "duration": 39,
    "start_time": "2021-10-24T14:05:16.589Z"
   },
   {
    "duration": 6,
    "start_time": "2021-10-24T14:05:16.867Z"
   },
   {
    "duration": 88,
    "start_time": "2021-10-24T14:05:19.045Z"
   },
   {
    "duration": 3,
    "start_time": "2021-10-24T14:05:20.018Z"
   },
   {
    "duration": 342,
    "start_time": "2021-10-24T14:05:21.879Z"
   },
   {
    "duration": 8,
    "start_time": "2021-10-24T14:05:26.666Z"
   },
   {
    "duration": 22401,
    "start_time": "2021-10-24T14:05:27.964Z"
   },
   {
    "duration": 203,
    "start_time": "2021-10-24T14:05:50.367Z"
   },
   {
    "duration": 6098,
    "start_time": "2021-10-24T14:07:02.093Z"
   },
   {
    "duration": 124,
    "start_time": "2021-10-24T14:07:08.194Z"
   },
   {
    "duration": 11,
    "start_time": "2021-10-24T14:07:38.579Z"
   },
   {
    "duration": 70,
    "start_time": "2021-10-24T14:19:57.669Z"
   },
   {
    "duration": 3,
    "start_time": "2021-10-24T14:21:06.412Z"
   },
   {
    "duration": 279,
    "start_time": "2021-10-24T14:21:53.991Z"
   },
   {
    "duration": 187,
    "start_time": "2021-10-24T14:22:31.414Z"
   },
   {
    "duration": 3,
    "start_time": "2021-10-24T14:22:55.489Z"
   },
   {
    "duration": 1328,
    "start_time": "2021-10-24T14:28:08.204Z"
   },
   {
    "duration": 1033,
    "start_time": "2021-10-24T14:28:14.941Z"
   },
   {
    "duration": 32,
    "start_time": "2021-10-24T14:28:15.978Z"
   },
   {
    "duration": 152,
    "start_time": "2021-10-24T14:28:16.013Z"
   },
   {
    "duration": 542,
    "start_time": "2021-10-24T14:28:16.168Z"
   },
   {
    "duration": 122,
    "start_time": "2021-10-24T14:28:16.711Z"
   },
   {
    "duration": 146,
    "start_time": "2021-10-24T14:28:16.835Z"
   },
   {
    "duration": 52,
    "start_time": "2021-10-24T14:28:16.983Z"
   },
   {
    "duration": 93,
    "start_time": "2021-10-24T14:28:18.948Z"
   },
   {
    "duration": 56,
    "start_time": "2021-10-24T14:28:20.001Z"
   },
   {
    "duration": 189,
    "start_time": "2021-10-24T14:28:20.439Z"
   },
   {
    "duration": 85,
    "start_time": "2021-10-24T14:28:20.930Z"
   },
   {
    "duration": 11,
    "start_time": "2021-10-24T14:28:21.124Z"
   },
   {
    "duration": 566,
    "start_time": "2021-10-24T14:28:21.979Z"
   },
   {
    "duration": 560,
    "start_time": "2021-10-24T14:28:22.547Z"
   },
   {
    "duration": 23,
    "start_time": "2021-10-24T14:28:23.109Z"
   },
   {
    "duration": 657,
    "start_time": "2021-10-24T14:28:23.134Z"
   },
   {
    "duration": 10,
    "start_time": "2021-10-24T14:28:23.793Z"
   },
   {
    "duration": 12,
    "start_time": "2021-10-24T14:28:23.805Z"
   },
   {
    "duration": 29,
    "start_time": "2021-10-24T14:28:24.004Z"
   },
   {
    "duration": 651,
    "start_time": "2021-10-24T14:28:24.378Z"
   },
   {
    "duration": 39,
    "start_time": "2021-10-24T14:28:25.032Z"
   },
   {
    "duration": 57,
    "start_time": "2021-10-24T14:28:25.073Z"
   },
   {
    "duration": 20,
    "start_time": "2021-10-24T14:28:25.264Z"
   },
   {
    "duration": 1000,
    "start_time": "2021-10-24T14:28:26.187Z"
   },
   {
    "duration": 169,
    "start_time": "2021-10-24T14:28:27.189Z"
   },
   {
    "duration": 100,
    "start_time": "2021-10-24T14:28:27.363Z"
   },
   {
    "duration": 616,
    "start_time": "2021-10-24T14:28:27.468Z"
   },
   {
    "duration": 236,
    "start_time": "2021-10-24T14:28:28.087Z"
   },
   {
    "duration": 5,
    "start_time": "2021-10-24T14:28:28.325Z"
   },
   {
    "duration": 18,
    "start_time": "2021-10-24T14:28:28.890Z"
   },
   {
    "duration": 101,
    "start_time": "2021-10-24T14:28:29.130Z"
   },
   {
    "duration": 38,
    "start_time": "2021-10-24T14:28:29.347Z"
   },
   {
    "duration": 5,
    "start_time": "2021-10-24T14:28:29.605Z"
   },
   {
    "duration": 84,
    "start_time": "2021-10-24T14:28:30.854Z"
   },
   {
    "duration": 3,
    "start_time": "2021-10-24T14:28:31.061Z"
   },
   {
    "duration": 342,
    "start_time": "2021-10-24T14:28:31.633Z"
   },
   {
    "duration": 7,
    "start_time": "2021-10-24T14:28:49.437Z"
   },
   {
    "duration": 22231,
    "start_time": "2021-10-24T14:28:50.045Z"
   },
   {
    "duration": 207,
    "start_time": "2021-10-24T14:29:12.278Z"
   },
   {
    "duration": 79,
    "start_time": "2021-10-24T14:29:12.488Z"
   },
   {
    "duration": 6147,
    "start_time": "2021-10-24T14:29:12.571Z"
   },
   {
    "duration": 124,
    "start_time": "2021-10-24T14:29:18.720Z"
   },
   {
    "duration": 3,
    "start_time": "2021-10-24T14:30:27.691Z"
   },
   {
    "duration": 3,
    "start_time": "2021-10-24T14:30:28.494Z"
   },
   {
    "duration": 237061,
    "start_time": "2021-10-24T14:30:30.230Z"
   },
   {
    "duration": 143,
    "start_time": "2021-10-24T14:36:57.536Z"
   },
   {
    "duration": 233752,
    "start_time": "2021-10-24T14:38:27.253Z"
   },
   {
    "duration": 261,
    "start_time": "2021-10-24T14:42:51.423Z"
   },
   {
    "duration": 231893,
    "start_time": "2021-10-24T14:43:03.591Z"
   },
   {
    "duration": 215,
    "start_time": "2021-10-24T14:48:31.781Z"
   },
   {
    "duration": 342,
    "start_time": "2021-10-24T15:02:14.801Z"
   },
   {
    "duration": 281,
    "start_time": "2021-10-24T15:03:13.215Z"
   },
   {
    "duration": 249,
    "start_time": "2021-10-24T15:03:25.565Z"
   },
   {
    "duration": 324,
    "start_time": "2021-10-24T15:03:41.941Z"
   },
   {
    "duration": 3,
    "start_time": "2021-10-24T15:06:35.193Z"
   },
   {
    "duration": 219,
    "start_time": "2021-10-24T15:07:46.141Z"
   },
   {
    "duration": 173,
    "start_time": "2021-10-24T15:08:18.531Z"
   },
   {
    "duration": 684,
    "start_time": "2021-10-24T15:13:00.115Z"
   },
   {
    "duration": 117,
    "start_time": "2021-10-24T15:15:58.303Z"
   },
   {
    "duration": 8,
    "start_time": "2021-10-24T15:16:13.845Z"
   },
   {
    "duration": 206,
    "start_time": "2021-10-24T15:16:15.389Z"
   },
   {
    "duration": 252,
    "start_time": "2021-10-24T15:17:05.532Z"
   },
   {
    "duration": 100,
    "start_time": "2021-10-24T15:17:26.817Z"
   },
   {
    "duration": 1299,
    "start_time": "2021-10-24T15:19:45.186Z"
   },
   {
    "duration": 1024,
    "start_time": "2021-10-24T15:19:50.592Z"
   },
   {
    "duration": 28,
    "start_time": "2021-10-24T15:19:51.619Z"
   },
   {
    "duration": 154,
    "start_time": "2021-10-24T15:19:51.649Z"
   },
   {
    "duration": 522,
    "start_time": "2021-10-24T15:19:51.806Z"
   },
   {
    "duration": 122,
    "start_time": "2021-10-24T15:19:52.331Z"
   },
   {
    "duration": 155,
    "start_time": "2021-10-24T15:19:52.455Z"
   },
   {
    "duration": 62,
    "start_time": "2021-10-24T15:19:52.612Z"
   },
   {
    "duration": 81,
    "start_time": "2021-10-24T15:19:52.828Z"
   },
   {
    "duration": 59,
    "start_time": "2021-10-24T15:19:53.950Z"
   },
   {
    "duration": 207,
    "start_time": "2021-10-24T15:19:54.417Z"
   },
   {
    "duration": 93,
    "start_time": "2021-10-24T15:19:54.890Z"
   },
   {
    "duration": 11,
    "start_time": "2021-10-24T15:19:55.148Z"
   },
   {
    "duration": 696,
    "start_time": "2021-10-24T15:19:56.134Z"
   },
   {
    "duration": 640,
    "start_time": "2021-10-24T15:19:56.832Z"
   },
   {
    "duration": 21,
    "start_time": "2021-10-24T15:19:57.475Z"
   },
   {
    "duration": 555,
    "start_time": "2021-10-24T15:19:57.716Z"
   },
   {
    "duration": 10,
    "start_time": "2021-10-24T15:19:58.395Z"
   },
   {
    "duration": 13,
    "start_time": "2021-10-24T15:19:58.578Z"
   },
   {
    "duration": 30,
    "start_time": "2021-10-24T15:19:58.802Z"
   },
   {
    "duration": 653,
    "start_time": "2021-10-24T15:19:59.237Z"
   },
   {
    "duration": 23,
    "start_time": "2021-10-24T15:19:59.892Z"
   },
   {
    "duration": 64,
    "start_time": "2021-10-24T15:19:59.921Z"
   },
   {
    "duration": 16,
    "start_time": "2021-10-24T15:20:00.160Z"
   },
   {
    "duration": 836,
    "start_time": "2021-10-24T15:20:01.069Z"
   },
   {
    "duration": 176,
    "start_time": "2021-10-24T15:20:01.907Z"
   },
   {
    "duration": 98,
    "start_time": "2021-10-24T15:20:02.085Z"
   },
   {
    "duration": 633,
    "start_time": "2021-10-24T15:20:02.261Z"
   },
   {
    "duration": 236,
    "start_time": "2021-10-24T15:20:02.896Z"
   },
   {
    "duration": 4,
    "start_time": "2021-10-24T15:20:03.134Z"
   },
   {
    "duration": 17,
    "start_time": "2021-10-24T15:20:03.422Z"
   },
   {
    "duration": 96,
    "start_time": "2021-10-24T15:20:03.648Z"
   },
   {
    "duration": 37,
    "start_time": "2021-10-24T15:20:03.899Z"
   },
   {
    "duration": 5,
    "start_time": "2021-10-24T15:20:04.116Z"
   },
   {
    "duration": 92,
    "start_time": "2021-10-24T15:20:04.826Z"
   },
   {
    "duration": 3,
    "start_time": "2021-10-24T15:20:05.063Z"
   },
   {
    "duration": 414,
    "start_time": "2021-10-24T15:20:05.541Z"
   },
   {
    "duration": 7,
    "start_time": "2021-10-24T15:20:06.998Z"
   },
   {
    "duration": 25912,
    "start_time": "2021-10-24T15:20:07.459Z"
   },
   {
    "duration": 196,
    "start_time": "2021-10-24T15:20:33.372Z"
   },
   {
    "duration": 6,
    "start_time": "2021-10-24T15:20:33.571Z"
   },
   {
    "duration": 6776,
    "start_time": "2021-10-24T15:20:33.580Z"
   },
   {
    "duration": 133,
    "start_time": "2021-10-24T15:20:40.367Z"
   },
   {
    "duration": 4,
    "start_time": "2021-10-24T15:20:40.502Z"
   },
   {
    "duration": 5,
    "start_time": "2021-10-24T15:20:40.508Z"
   },
   {
    "duration": 228409,
    "start_time": "2021-10-24T15:20:40.515Z"
   },
   {
    "duration": 238,
    "start_time": "2021-10-24T15:24:28.926Z"
   },
   {
    "duration": 253,
    "start_time": "2021-10-24T15:25:36.419Z"
   },
   {
    "duration": 467,
    "start_time": "2021-10-24T15:26:05.606Z"
   },
   {
    "duration": 81,
    "start_time": "2021-10-24T15:26:17.265Z"
   },
   {
    "duration": 1284,
    "start_time": "2021-10-24T15:30:22.038Z"
   },
   {
    "duration": 1138,
    "start_time": "2021-10-24T15:30:24.514Z"
   },
   {
    "duration": 46,
    "start_time": "2021-10-24T15:30:25.654Z"
   },
   {
    "duration": 153,
    "start_time": "2021-10-24T15:30:25.702Z"
   },
   {
    "duration": 532,
    "start_time": "2021-10-24T15:30:25.857Z"
   },
   {
    "duration": 136,
    "start_time": "2021-10-24T15:30:26.391Z"
   },
   {
    "duration": 145,
    "start_time": "2021-10-24T15:30:26.529Z"
   },
   {
    "duration": 54,
    "start_time": "2021-10-24T15:30:26.676Z"
   },
   {
    "duration": 102,
    "start_time": "2021-10-24T15:30:26.732Z"
   },
   {
    "duration": 55,
    "start_time": "2021-10-24T15:30:27.109Z"
   },
   {
    "duration": 214,
    "start_time": "2021-10-24T15:30:27.561Z"
   },
   {
    "duration": 97,
    "start_time": "2021-10-24T15:30:27.987Z"
   },
   {
    "duration": 15,
    "start_time": "2021-10-24T15:30:28.191Z"
   },
   {
    "duration": 565,
    "start_time": "2021-10-24T15:30:29.082Z"
   },
   {
    "duration": 572,
    "start_time": "2021-10-24T15:30:29.649Z"
   },
   {
    "duration": 22,
    "start_time": "2021-10-24T15:30:30.223Z"
   },
   {
    "duration": 534,
    "start_time": "2021-10-24T15:30:30.295Z"
   },
   {
    "duration": 10,
    "start_time": "2021-10-24T15:30:30.831Z"
   },
   {
    "duration": 14,
    "start_time": "2021-10-24T15:30:30.965Z"
   },
   {
    "duration": 39,
    "start_time": "2021-10-24T15:30:31.199Z"
   },
   {
    "duration": 630,
    "start_time": "2021-10-24T15:30:31.657Z"
   },
   {
    "duration": 24,
    "start_time": "2021-10-24T15:30:32.290Z"
   },
   {
    "duration": 59,
    "start_time": "2021-10-24T15:30:32.351Z"
   },
   {
    "duration": 12,
    "start_time": "2021-10-24T15:30:32.599Z"
   },
   {
    "duration": 862,
    "start_time": "2021-10-24T15:30:33.481Z"
   },
   {
    "duration": 180,
    "start_time": "2021-10-24T15:30:34.345Z"
   },
   {
    "duration": 101,
    "start_time": "2021-10-24T15:30:34.527Z"
   },
   {
    "duration": 615,
    "start_time": "2021-10-24T15:30:34.644Z"
   },
   {
    "duration": 214,
    "start_time": "2021-10-24T15:30:35.262Z"
   },
   {
    "duration": 4,
    "start_time": "2021-10-24T15:30:35.478Z"
   },
   {
    "duration": 17,
    "start_time": "2021-10-24T15:30:35.799Z"
   },
   {
    "duration": 147,
    "start_time": "2021-10-24T15:30:36.039Z"
   },
   {
    "duration": 55,
    "start_time": "2021-10-24T15:30:36.255Z"
   },
   {
    "duration": 5,
    "start_time": "2021-10-24T15:30:36.483Z"
   },
   {
    "duration": 126,
    "start_time": "2021-10-24T15:30:37.182Z"
   },
   {
    "duration": 3,
    "start_time": "2021-10-24T15:30:37.588Z"
   },
   {
    "duration": 352,
    "start_time": "2021-10-24T15:30:37.879Z"
   },
   {
    "duration": 7,
    "start_time": "2021-10-24T15:30:39.280Z"
   },
   {
    "duration": 24027,
    "start_time": "2021-10-24T15:30:39.739Z"
   },
   {
    "duration": 127,
    "start_time": "2021-10-24T15:31:03.768Z"
   },
   {
    "duration": 4,
    "start_time": "2021-10-24T15:31:03.965Z"
   },
   {
    "duration": 6144,
    "start_time": "2021-10-24T15:31:03.971Z"
   },
   {
    "duration": 128,
    "start_time": "2021-10-24T15:31:10.118Z"
   },
   {
    "duration": 3,
    "start_time": "2021-10-24T15:31:10.248Z"
   },
   {
    "duration": 11,
    "start_time": "2021-10-24T15:31:10.253Z"
   },
   {
    "duration": 227590,
    "start_time": "2021-10-24T15:31:10.267Z"
   },
   {
    "duration": 225,
    "start_time": "2021-10-24T15:34:57.864Z"
   },
   {
    "duration": 113,
    "start_time": "2021-10-24T15:37:50.665Z"
   },
   {
    "duration": 13,
    "start_time": "2021-10-24T15:37:53.102Z"
   },
   {
    "duration": 651762,
    "start_time": "2021-10-24T15:37:58.216Z"
   },
   {
    "duration": 281,
    "start_time": "2021-10-24T15:48:49.983Z"
   },
   {
    "duration": 58,
    "start_time": "2021-10-24T15:51:03.434Z"
   },
   {
    "duration": 1110,
    "start_time": "2021-10-24T15:51:09.956Z"
   },
   {
    "duration": 1399,
    "start_time": "2021-10-24T15:53:59.710Z"
   },
   {
    "duration": 1233,
    "start_time": "2021-10-24T15:54:01.703Z"
   },
   {
    "duration": 35,
    "start_time": "2021-10-24T15:54:02.938Z"
   },
   {
    "duration": 225,
    "start_time": "2021-10-24T15:54:02.975Z"
   },
   {
    "duration": 696,
    "start_time": "2021-10-24T15:54:03.202Z"
   },
   {
    "duration": 144,
    "start_time": "2021-10-24T15:54:03.900Z"
   },
   {
    "duration": 240,
    "start_time": "2021-10-24T15:54:04.046Z"
   },
   {
    "duration": 52,
    "start_time": "2021-10-24T15:54:04.288Z"
   },
   {
    "duration": 114,
    "start_time": "2021-10-24T15:54:04.343Z"
   },
   {
    "duration": 68,
    "start_time": "2021-10-24T15:54:04.460Z"
   },
   {
    "duration": 208,
    "start_time": "2021-10-24T15:54:05.019Z"
   },
   {
    "duration": 89,
    "start_time": "2021-10-24T15:54:05.683Z"
   },
   {
    "duration": 13,
    "start_time": "2021-10-24T15:54:05.912Z"
   },
   {
    "duration": 546,
    "start_time": "2021-10-24T15:54:06.811Z"
   },
   {
    "duration": 554,
    "start_time": "2021-10-24T15:54:07.364Z"
   },
   {
    "duration": 22,
    "start_time": "2021-10-24T15:54:07.920Z"
   },
   {
    "duration": 559,
    "start_time": "2021-10-24T15:54:07.944Z"
   },
   {
    "duration": 13,
    "start_time": "2021-10-24T15:54:08.506Z"
   },
   {
    "duration": 11,
    "start_time": "2021-10-24T15:54:08.601Z"
   },
   {
    "duration": 30,
    "start_time": "2021-10-24T15:54:08.815Z"
   },
   {
    "duration": 651,
    "start_time": "2021-10-24T15:54:09.235Z"
   },
   {
    "duration": 24,
    "start_time": "2021-10-24T15:54:09.889Z"
   },
   {
    "duration": 91,
    "start_time": "2021-10-24T15:54:09.916Z"
   },
   {
    "duration": 17,
    "start_time": "2021-10-24T15:54:10.126Z"
   },
   {
    "duration": 849,
    "start_time": "2021-10-24T15:54:11.037Z"
   },
   {
    "duration": 161,
    "start_time": "2021-10-24T15:54:12.724Z"
   },
   {
    "duration": 91,
    "start_time": "2021-10-24T15:54:13.224Z"
   },
   {
    "duration": 607,
    "start_time": "2021-10-24T15:54:13.506Z"
   },
   {
    "duration": 211,
    "start_time": "2021-10-24T15:54:14.386Z"
   },
   {
    "duration": 5,
    "start_time": "2021-10-24T15:54:14.634Z"
   },
   {
    "duration": 27,
    "start_time": "2021-10-24T15:54:15.323Z"
   },
   {
    "duration": 95,
    "start_time": "2021-10-24T15:54:15.527Z"
   },
   {
    "duration": 57,
    "start_time": "2021-10-24T15:54:15.747Z"
   },
   {
    "duration": 6,
    "start_time": "2021-10-24T15:54:16.003Z"
   },
   {
    "duration": 79,
    "start_time": "2021-10-24T15:54:17.129Z"
   },
   {
    "duration": 3,
    "start_time": "2021-10-24T15:54:17.369Z"
   },
   {
    "duration": 348,
    "start_time": "2021-10-24T15:54:17.817Z"
   },
   {
    "duration": 7,
    "start_time": "2021-10-24T15:54:19.843Z"
   },
   {
    "duration": 21509,
    "start_time": "2021-10-24T15:54:20.764Z"
   },
   {
    "duration": 205,
    "start_time": "2021-10-24T15:54:42.275Z"
   },
   {
    "duration": 9,
    "start_time": "2021-10-24T15:54:42.563Z"
   },
   {
    "duration": 5984,
    "start_time": "2021-10-24T15:54:42.575Z"
   },
   {
    "duration": 126,
    "start_time": "2021-10-24T15:54:48.564Z"
   },
   {
    "duration": 253887,
    "start_time": "2021-10-24T15:55:09.194Z"
   },
   {
    "duration": 730,
    "start_time": "2021-10-24T16:03:27.536Z"
   },
   {
    "duration": 3,
    "start_time": "2021-10-24T16:03:35.685Z"
   },
   {
    "duration": 724,
    "start_time": "2021-10-24T16:03:40.805Z"
   },
   {
    "duration": 274,
    "start_time": "2021-10-24T16:06:41.785Z"
   },
   {
    "duration": 4,
    "start_time": "2021-10-24T16:06:48.301Z"
   },
   {
    "duration": 3,
    "start_time": "2021-10-24T16:06:49.157Z"
   },
   {
    "duration": 227876,
    "start_time": "2021-10-24T16:06:51.319Z"
   },
   {
    "duration": 196,
    "start_time": "2021-10-24T16:14:00.882Z"
   },
   {
    "duration": 598,
    "start_time": "2021-10-24T16:14:16.384Z"
   },
   {
    "duration": 169,
    "start_time": "2021-10-24T16:18:30.423Z"
   },
   {
    "duration": 7,
    "start_time": "2021-10-24T16:18:38.674Z"
   },
   {
    "duration": 177,
    "start_time": "2021-10-24T16:18:43.168Z"
   },
   {
    "duration": 3,
    "start_time": "2021-10-24T16:18:59.220Z"
   },
   {
    "duration": 174,
    "start_time": "2021-10-24T16:19:01.517Z"
   },
   {
    "duration": 1287,
    "start_time": "2021-10-24T16:21:48.692Z"
   },
   {
    "duration": 836,
    "start_time": "2021-10-24T16:21:49.981Z"
   },
   {
    "duration": 27,
    "start_time": "2021-10-24T16:21:50.820Z"
   },
   {
    "duration": 135,
    "start_time": "2021-10-24T16:21:50.849Z"
   },
   {
    "duration": 478,
    "start_time": "2021-10-24T16:21:50.986Z"
   },
   {
    "duration": 109,
    "start_time": "2021-10-24T16:21:51.466Z"
   },
   {
    "duration": 134,
    "start_time": "2021-10-24T16:21:51.577Z"
   },
   {
    "duration": 56,
    "start_time": "2021-10-24T16:21:51.713Z"
   },
   {
    "duration": 79,
    "start_time": "2021-10-24T16:21:51.770Z"
   },
   {
    "duration": 53,
    "start_time": "2021-10-24T16:21:51.863Z"
   },
   {
    "duration": 260,
    "start_time": "2021-10-24T16:21:52.027Z"
   },
   {
    "duration": 72,
    "start_time": "2021-10-24T16:21:52.476Z"
   },
   {
    "duration": 11,
    "start_time": "2021-10-24T16:21:52.684Z"
   },
   {
    "duration": 516,
    "start_time": "2021-10-24T16:21:53.556Z"
   },
   {
    "duration": 509,
    "start_time": "2021-10-24T16:21:54.074Z"
   },
   {
    "duration": 22,
    "start_time": "2021-10-24T16:21:54.585Z"
   },
   {
    "duration": 501,
    "start_time": "2021-10-24T16:21:54.685Z"
   },
   {
    "duration": 10,
    "start_time": "2021-10-24T16:21:55.187Z"
   },
   {
    "duration": 11,
    "start_time": "2021-10-24T16:21:55.360Z"
   },
   {
    "duration": 31,
    "start_time": "2021-10-24T16:21:55.579Z"
   },
   {
    "duration": 580,
    "start_time": "2021-10-24T16:21:56.050Z"
   },
   {
    "duration": 32,
    "start_time": "2021-10-24T16:21:56.631Z"
   },
   {
    "duration": 50,
    "start_time": "2021-10-24T16:21:56.710Z"
   },
   {
    "duration": 10,
    "start_time": "2021-10-24T16:21:56.945Z"
   },
   {
    "duration": 704,
    "start_time": "2021-10-24T16:21:57.908Z"
   },
   {
    "duration": 162,
    "start_time": "2021-10-24T16:21:58.614Z"
   },
   {
    "duration": 89,
    "start_time": "2021-10-24T16:21:58.820Z"
   },
   {
    "duration": 570,
    "start_time": "2021-10-24T16:21:59.069Z"
   },
   {
    "duration": 205,
    "start_time": "2021-10-24T16:21:59.641Z"
   },
   {
    "duration": 5,
    "start_time": "2021-10-24T16:21:59.848Z"
   },
   {
    "duration": 17,
    "start_time": "2021-10-24T16:22:00.229Z"
   },
   {
    "duration": 91,
    "start_time": "2021-10-24T16:22:00.474Z"
   },
   {
    "duration": 41,
    "start_time": "2021-10-24T16:22:00.710Z"
   },
   {
    "duration": 4,
    "start_time": "2021-10-24T16:22:00.937Z"
   },
   {
    "duration": 76,
    "start_time": "2021-10-24T16:22:01.655Z"
   },
   {
    "duration": 3,
    "start_time": "2021-10-24T16:22:01.873Z"
   },
   {
    "duration": 322,
    "start_time": "2021-10-24T16:22:02.311Z"
   },
   {
    "duration": 6,
    "start_time": "2021-10-24T16:22:03.716Z"
   },
   {
    "duration": 15489,
    "start_time": "2021-10-24T16:22:04.184Z"
   },
   {
    "duration": 121,
    "start_time": "2021-10-24T16:22:19.764Z"
   },
   {
    "duration": 3,
    "start_time": "2021-10-24T16:22:19.965Z"
   },
   {
    "duration": 5565,
    "start_time": "2021-10-24T16:22:19.971Z"
   },
   {
    "duration": 116,
    "start_time": "2021-10-24T16:22:25.537Z"
   },
   {
    "duration": 238860,
    "start_time": "2021-10-24T16:22:56.366Z"
   },
   {
    "duration": 666,
    "start_time": "2021-10-24T16:29:25.699Z"
   },
   {
    "duration": 3,
    "start_time": "2021-10-24T16:37:43.788Z"
   },
   {
    "duration": 724,
    "start_time": "2021-10-24T16:39:08.207Z"
   },
   {
    "duration": 4,
    "start_time": "2021-10-24T16:41:16.469Z"
   },
   {
    "duration": 230865,
    "start_time": "2021-10-24T16:41:20.308Z"
   },
   {
    "duration": 203,
    "start_time": "2021-10-24T16:45:22.275Z"
   },
   {
    "duration": 132,
    "start_time": "2021-10-24T16:46:12.185Z"
   },
   {
    "duration": 13,
    "start_time": "2021-10-24T16:46:16.210Z"
   },
   {
    "duration": 2591,
    "start_time": "2021-10-24T16:46:19.737Z"
   },
   {
    "duration": 989,
    "start_time": "2021-10-24T16:46:31.850Z"
   },
   {
    "duration": 870,
    "start_time": "2021-10-24T16:46:50.287Z"
   },
   {
    "duration": 117,
    "start_time": "2021-10-24T16:46:53.364Z"
   },
   {
    "duration": 10,
    "start_time": "2021-10-24T17:06:53.137Z"
   },
   {
    "duration": 882,
    "start_time": "2021-10-24T17:35:38.295Z"
   }
  ],
  "kernelspec": {
   "display_name": "Python 3",
   "language": "python",
   "name": "python3"
  },
  "language_info": {
   "codemirror_mode": {
    "name": "ipython",
    "version": 3
   },
   "file_extension": ".py",
   "mimetype": "text/x-python",
   "name": "python",
   "nbconvert_exporter": "python",
   "pygments_lexer": "ipython3",
   "version": "3.8.8"
  },
  "toc": {
   "base_numbering": 1,
   "nav_menu": {},
   "number_sections": true,
   "sideBar": true,
   "skip_h1_title": true,
   "title_cell": "Table of Contents",
   "title_sidebar": "Contents",
   "toc_cell": false,
   "toc_position": {},
   "toc_section_display": true,
   "toc_window_display": false
  }
 },
 "nbformat": 4,
 "nbformat_minor": 2
}
