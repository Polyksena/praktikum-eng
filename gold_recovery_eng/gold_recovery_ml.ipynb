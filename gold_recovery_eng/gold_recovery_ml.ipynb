{
 "cells": [
  {
   "cell_type": "markdown",
   "metadata": {},
   "source": [
    "# Исследование технологического процесса очистки золота"
   ]
  },
  {
   "cell_type": "markdown",
   "metadata": {
    "toc": true
   },
   "source": [
    "<h2>Содержание<span class=\"tocSkip\"></span></h2>\n",
    "<div class=\"toc\"><ul class=\"toc-item\"><li><span><a href=\"#Описание-проекта\" data-toc-modified-id=\"Описание-проекта-1\"><span class=\"toc-item-num\">1&nbsp;&nbsp;</span>Описание проекта</a></span><ul class=\"toc-item\"><li><span><a href=\"#Описание-данных\" data-toc-modified-id=\"Описание-данных-1.1\"><span class=\"toc-item-num\">1.1&nbsp;&nbsp;</span>Описание данных</a></span></li></ul></li><li><span><a href=\"#Цель-проекта\" data-toc-modified-id=\"Цель-проекта-2\"><span class=\"toc-item-num\">2&nbsp;&nbsp;</span>Цель проекта</a></span></li><li><span><a href=\"#Подготовка-данных\" data-toc-modified-id=\"Подготовка-данных-3\"><span class=\"toc-item-num\">3&nbsp;&nbsp;</span>Подготовка данных</a></span><ul class=\"toc-item\"><li><span><a href=\"#Изучение-данных\" data-toc-modified-id=\"Изучение-данных-3.1\"><span class=\"toc-item-num\">3.1&nbsp;&nbsp;</span>Изучение данных</a></span></li><li><span><a href=\"#Проверка-расчета-эффективности-обогащения\" data-toc-modified-id=\"Проверка-расчета-эффективности-обогащения-3.2\"><span class=\"toc-item-num\">3.2&nbsp;&nbsp;</span>Проверка расчета эффективности обогащения</a></span></li><li><span><a href=\"#Анализ-признаков,-недоступных-в-тестовой-выборке\" data-toc-modified-id=\"Анализ-признаков,-недоступных-в-тестовой-выборке-3.3\"><span class=\"toc-item-num\">3.3&nbsp;&nbsp;</span>Анализ признаков, недоступных в тестовой выборке</a></span></li><li><span><a href=\"#Предобработка-данных\" data-toc-modified-id=\"Предобработка-данных-3.4\"><span class=\"toc-item-num\">3.4&nbsp;&nbsp;</span>Предобработка данных</a></span></li></ul></li><li><span><a href=\"#Анализ-данных\" data-toc-modified-id=\"Анализ-данных-4\"><span class=\"toc-item-num\">4&nbsp;&nbsp;</span>Анализ данных</a></span><ul class=\"toc-item\"><li><span><a href=\"#Анализ-изменения-концентрации-металлов-на-различных-этапах-очистки\" data-toc-modified-id=\"Анализ-изменения-концентрации-металлов-на-различных-этапах-очистки-4.1\"><span class=\"toc-item-num\">4.1&nbsp;&nbsp;</span>Анализ изменения концентрации металлов на различных этапах очистки</a></span></li><li><span><a href=\"#Сравненение-распределения-размеров-гранул-сырья-на-обучающей-и-тестовой-выборках\" data-toc-modified-id=\"Сравненение-распределения-размеров-гранул-сырья-на-обучающей-и-тестовой-выборках-4.2\"><span class=\"toc-item-num\">4.2&nbsp;&nbsp;</span>Сравненение распределения размеров гранул сырья на обучающей и тестовой выборках</a></span></li><li><span><a href=\"#Исследование-суммарной-концентрации-всех-веществ-на-разных-стадиях\" data-toc-modified-id=\"Исследование-суммарной-концентрации-всех-веществ-на-разных-стадиях-4.3\"><span class=\"toc-item-num\">4.3&nbsp;&nbsp;</span>Исследование суммарной концентрации всех веществ на разных стадиях</a></span></li><li><span><a href=\"#Вывод-по-анализу-данных\" data-toc-modified-id=\"Вывод-по-анализу-данных-4.4\"><span class=\"toc-item-num\">4.4&nbsp;&nbsp;</span>Вывод по анализу данных</a></span></li></ul></li><li><span><a href=\"#Построение-модели\" data-toc-modified-id=\"Построение-модели-5\"><span class=\"toc-item-num\">5&nbsp;&nbsp;</span>Построение модели</a></span><ul class=\"toc-item\"><li><span><a href=\"#Функция-для-вычисления-итогового-sMAPE\" data-toc-modified-id=\"Функция-для-вычисления-итогового-sMAPE-5.1\"><span class=\"toc-item-num\">5.1&nbsp;&nbsp;</span>Функция для вычисления итогового sMAPE</a></span></li><li><span><a href=\"#Обучение-моделей-и-выбор-лучшей\" data-toc-modified-id=\"Обучение-моделей-и-выбор-лучшей-5.2\"><span class=\"toc-item-num\">5.2&nbsp;&nbsp;</span>Обучение моделей и выбор лучшей</a></span><ul class=\"toc-item\"><li><span><a href=\"#Модель-линейной-регрессии\" data-toc-modified-id=\"Модель-линейной-регрессии-5.2.1\"><span class=\"toc-item-num\">5.2.1&nbsp;&nbsp;</span>Модель линейной регрессии</a></span></li><li><span><a href=\"#Модель-случайного-леса\" data-toc-modified-id=\"Модель-случайного-леса-5.2.2\"><span class=\"toc-item-num\">5.2.2&nbsp;&nbsp;</span>Модель случайного леса</a></span></li><li><span><a href=\"#Модель-решающего-дерева\" data-toc-modified-id=\"Модель-решающего-дерева-5.2.3\"><span class=\"toc-item-num\">5.2.3&nbsp;&nbsp;</span>Модель решающего дерева</a></span></li><li><span><a href=\"#Вывод-по-обучению-моделей\" data-toc-modified-id=\"Вывод-по-обучению-моделей-5.2.4\"><span class=\"toc-item-num\">5.2.4&nbsp;&nbsp;</span>Вывод по обучению моделей</a></span></li></ul></li><li><span><a href=\"#Проверка-лучшей-модели-на-тестовой-выборке\" data-toc-modified-id=\"Проверка-лучшей-модели-на-тестовой-выборке-5.3\"><span class=\"toc-item-num\">5.3&nbsp;&nbsp;</span>Проверка лучшей модели на тестовой выборке</a></span><ul class=\"toc-item\"><li><span><a href=\"#Проверка-модели-на-адекватность\" data-toc-modified-id=\"Проверка-модели-на-адекватность-5.3.1\"><span class=\"toc-item-num\">5.3.1&nbsp;&nbsp;</span>Проверка модели на адекватность</a></span></li></ul></li></ul></li><li><span><a href=\"#Общий-вывод\" data-toc-modified-id=\"Общий-вывод-6\"><span class=\"toc-item-num\">6&nbsp;&nbsp;</span>Общий вывод</a></span></li><li><span><a href=\"#Чек-лист-готовности-проекта\" data-toc-modified-id=\"Чек-лист-готовности-проекта-7\"><span class=\"toc-item-num\">7&nbsp;&nbsp;</span>Чек-лист готовности проекта</a></span></li></ul></div>"
   ]
  },
  {
   "cell_type": "markdown",
   "metadata": {},
   "source": [
    "<a id='description'></a>\n",
    "## Описание проекта"
   ]
  },
  {
   "cell_type": "markdown",
   "metadata": {},
   "source": [
    "Технологический процесс восстановления золота из золотосодержащей руды выглядит следующим образом. Когда добытая руда проходит первичную обработку, получается дроблёная смесь. Её отправляют на флотацию (обогащение) и двухэтапную очистку.  \n",
    "\n",
    "Описание стадий:  \n",
    "1. Флотация\n",
    "Во флотационную установку подаётся смесь золотосодержащей руды. После обогащения получается черновой концентрат и «отвальные хвосты», то есть остатки продукта с низкой концентрацией ценных металлов.\n",
    "На стабильность этого процесса влияет непостоянное и неоптимальное физико-химическое состояние флотационной пульпы (смеси твёрдых частиц и жидкости).\n",
    "2. Очистка\n",
    "Черновой концентрат проходит две очистки. На выходе получается финальный концентрат и новые отвальные хвосты.  \n",
    "\n",
    "### Описание данных\n",
    "\n",
    "**Технологический процесс:**  \n",
    "•\tRougher feed — исходное сырье  \n",
    "•\tRougher additions (или reagent additions) — флотационные реагенты: Xanthate, Sulphate, Depressant  \n",
    "•\tXanthate — ксантогенат (промотер, или активатор флотации);  \n",
    "•\tSulphate — сульфат (на данном производстве сульфид натрия);  \n",
    "•\tDepressant — депрессант (силикат натрия).  \n",
    "•\tRougher process (англ. «грубый процесс») — флотация  \n",
    "•\tRougher tails — отвальные хвосты  \n",
    "•\tFloat banks — флотационная установка  \n",
    "•\tCleaner process — очистка  \n",
    "•\tRougher Au — черновой концентрат золота  \n",
    "•\tFinal Au — финальный концентрат золота  \n",
    "\n",
    "**Параметры этапов:**  \n",
    "•\tair amount — объём воздуха  \n",
    "•\tfluid levels — уровень жидкости  \n",
    "•\tfeed size — размер гранул сырья  \n",
    "•\tfeed rate — скорость подачи   \n",
    "\n",
    "**Наименование признаков:**  \n",
    "[этап].[тип_параметра].[название_параметра]  \n",
    "Пример: rougher.input.feed_ag  \n",
    "\n",
    "**Возможные значения для блока [этап]:**    \n",
    "•\trougher — флотация  \n",
    "•\tprimary_cleaner — первичная очистка  \n",
    "•\tsecondary_cleaner — вторичная очистка  \n",
    "•\tfinal — финальные характеристики  \n",
    "\n",
    "**Возможные значения для блока [тип_параметра]:**  \n",
    "•\tinput — параметры сырья  \n",
    "•\toutput — параметры продукта  \n",
    "•\tstate — параметры, характеризующие текущее состояние этапа  \n",
    "•\tcalculation — расчётные характеристики  \n",
    "\n"
   ]
  },
  {
   "cell_type": "markdown",
   "metadata": {},
   "source": [
    "Данные находятся в трёх файлах:  \n",
    "•\tgold_recovery_train_new.csv — обучающая выборка;  \n",
    "•\tgold_recovery_test_new.csv — тестовая выборка;  \n",
    "•\tgold_recovery_full_new.csv — исходные данные.  \n",
    "\n",
    "Данные индексируются датой и временем получения информации (признак date). Соседние по времени параметры часто похожи.\n",
    "Некоторые параметры недоступны, потому что замеряются и/или рассчитываются значительно позже. Из-за этого в тестовой выборке отсутствуют некоторые признаки, которые могут быть в обучающей. Также в тестовом наборе нет целевых признаков.  \n",
    "Исходный датасет содержит обучающую и тестовую выборки со всеми признаками.  \n",
    "В нашем распоряжении сырые данные: их просто выгрузили из хранилища. Прежде чем приступить к построению модели, проверьте по нашей инструкции их на корректность.\n"
   ]
  },
  {
   "cell_type": "markdown",
   "metadata": {},
   "source": [
    "<a id='purpose'></a>\n",
    "## Цель проекта"
   ]
  },
  {
   "cell_type": "markdown",
   "metadata": {},
   "source": [
    "Необходимо создать модель машинного обучения, которая будет предсказывать коэффициент восстановления золота из золотосодержащей руды. Благодаря чему предприятие сможет оптимизировать производственный процесс, подобрав наиболее эффективные характеристики.  \n",
    "\n",
    "В процессе решения задачи потребуется смоделировать процесс восстановления золота из золотосодержащей руды. Для получения прогноза рассчитаем эффективность обогащения чернового концентрата и концентрата. В результате получим итоговую метрику качества sMAPE (симметричное среднее абсолютное процентное отклонение), которую следует рассчитывать по формуле:  \n",
    "**Итоговое sMAPE = 25% * sMAPE (черновой) + 75% * sMAPE (финальный)**"
   ]
  },
  {
   "cell_type": "markdown",
   "metadata": {},
   "source": [
    "<a id='1'></a>\n",
    "## Подготовка данных"
   ]
  },
  {
   "cell_type": "code",
   "execution_count": 1,
   "metadata": {},
   "outputs": [],
   "source": [
    "#Импортируем нужные библиотеки\n",
    "import pandas as pd\n",
    "import numpy as np\n",
    "import seaborn as sns\n",
    "import matplotlib.pyplot as plt\n",
    "\n",
    "from sklearn.metrics import mean_absolute_error, make_scorer\n",
    "from sklearn.preprocessing import StandardScaler\n",
    "import random\n",
    "from sklearn.pipeline import Pipeline\n",
    "from sklearn.impute import SimpleImputer\n",
    "from sklearn.base import BaseEstimator\n",
    "from sklearn.dummy import DummyRegressor\n",
    "from sklearn.tree import DecisionTreeRegressor\n",
    "from sklearn.ensemble import RandomForestRegressor\n",
    "from sklearn.linear_model import LinearRegression\n",
    "from sklearn.model_selection import GridSearchCV, cross_val_score"
   ]
  },
  {
   "cell_type": "markdown",
   "metadata": {},
   "source": [
    "<a id='1.1'></a>\n",
    "### Изучение данных"
   ]
  },
  {
   "cell_type": "code",
   "execution_count": 2,
   "metadata": {},
   "outputs": [],
   "source": [
    "#Прочитаем данные\n",
    "train = pd.read_csv('/datasets/gold_recovery_train_new.csv')\n",
    "test = pd.read_csv('/datasets/gold_recovery_test_new.csv')\n",
    "full = pd.read_csv('/datasets/gold_recovery_full_new.csv')"
   ]
  },
  {
   "cell_type": "code",
   "execution_count": 3,
   "metadata": {},
   "outputs": [],
   "source": [
    "#Заведем словарь с именами датасетов для дальнейшего использования в циклах\n",
    "data = [train, test, full]\n",
    "data_names = ['gold_train', 'gold_test', 'gold_full']"
   ]
  },
  {
   "cell_type": "code",
   "execution_count": 4,
   "metadata": {},
   "outputs": [
    {
     "name": "stdout",
     "output_type": "stream",
     "text": [
      "---------------///////////---------------\n",
      "Сводная информация о датасете: gold_train\n",
      "Количество полных дубликатов: 0\n",
      "Размер датасета: (14149, 87)\n"
     ]
    },
    {
     "data": {
      "text/html": [
       "<div>\n",
       "<style scoped>\n",
       "    .dataframe tbody tr th:only-of-type {\n",
       "        vertical-align: middle;\n",
       "    }\n",
       "\n",
       "    .dataframe tbody tr th {\n",
       "        vertical-align: top;\n",
       "    }\n",
       "\n",
       "    .dataframe thead th {\n",
       "        text-align: right;\n",
       "    }\n",
       "</style>\n",
       "<table border=\"1\" class=\"dataframe\">\n",
       "  <thead>\n",
       "    <tr style=\"text-align: right;\">\n",
       "      <th></th>\n",
       "      <th>date</th>\n",
       "      <th>final.output.concentrate_ag</th>\n",
       "      <th>final.output.concentrate_pb</th>\n",
       "      <th>final.output.concentrate_sol</th>\n",
       "      <th>final.output.concentrate_au</th>\n",
       "      <th>final.output.recovery</th>\n",
       "      <th>final.output.tail_ag</th>\n",
       "      <th>final.output.tail_pb</th>\n",
       "      <th>final.output.tail_sol</th>\n",
       "      <th>final.output.tail_au</th>\n",
       "      <th>...</th>\n",
       "      <th>secondary_cleaner.state.floatbank4_a_air</th>\n",
       "      <th>secondary_cleaner.state.floatbank4_a_level</th>\n",
       "      <th>secondary_cleaner.state.floatbank4_b_air</th>\n",
       "      <th>secondary_cleaner.state.floatbank4_b_level</th>\n",
       "      <th>secondary_cleaner.state.floatbank5_a_air</th>\n",
       "      <th>secondary_cleaner.state.floatbank5_a_level</th>\n",
       "      <th>secondary_cleaner.state.floatbank5_b_air</th>\n",
       "      <th>secondary_cleaner.state.floatbank5_b_level</th>\n",
       "      <th>secondary_cleaner.state.floatbank6_a_air</th>\n",
       "      <th>secondary_cleaner.state.floatbank6_a_level</th>\n",
       "    </tr>\n",
       "  </thead>\n",
       "  <tbody>\n",
       "    <tr>\n",
       "      <td>0</td>\n",
       "      <td>2016-01-15 00:00:00</td>\n",
       "      <td>6.055403</td>\n",
       "      <td>9.889648</td>\n",
       "      <td>5.507324</td>\n",
       "      <td>42.192020</td>\n",
       "      <td>70.541216</td>\n",
       "      <td>10.411962</td>\n",
       "      <td>0.895447</td>\n",
       "      <td>16.904297</td>\n",
       "      <td>2.143149</td>\n",
       "      <td>...</td>\n",
       "      <td>14.016835</td>\n",
       "      <td>-502.488007</td>\n",
       "      <td>12.099931</td>\n",
       "      <td>-504.715942</td>\n",
       "      <td>9.925633</td>\n",
       "      <td>-498.310211</td>\n",
       "      <td>8.079666</td>\n",
       "      <td>-500.470978</td>\n",
       "      <td>14.151341</td>\n",
       "      <td>-605.841980</td>\n",
       "    </tr>\n",
       "    <tr>\n",
       "      <td>1</td>\n",
       "      <td>2016-01-15 01:00:00</td>\n",
       "      <td>6.029369</td>\n",
       "      <td>9.968944</td>\n",
       "      <td>5.257781</td>\n",
       "      <td>42.701629</td>\n",
       "      <td>69.266198</td>\n",
       "      <td>10.462676</td>\n",
       "      <td>0.927452</td>\n",
       "      <td>16.634514</td>\n",
       "      <td>2.224930</td>\n",
       "      <td>...</td>\n",
       "      <td>13.992281</td>\n",
       "      <td>-505.503262</td>\n",
       "      <td>11.950531</td>\n",
       "      <td>-501.331529</td>\n",
       "      <td>10.039245</td>\n",
       "      <td>-500.169983</td>\n",
       "      <td>7.984757</td>\n",
       "      <td>-500.582168</td>\n",
       "      <td>13.998353</td>\n",
       "      <td>-599.787184</td>\n",
       "    </tr>\n",
       "    <tr>\n",
       "      <td>2</td>\n",
       "      <td>2016-01-15 02:00:00</td>\n",
       "      <td>6.055926</td>\n",
       "      <td>10.213995</td>\n",
       "      <td>5.383759</td>\n",
       "      <td>42.657501</td>\n",
       "      <td>68.116445</td>\n",
       "      <td>10.507046</td>\n",
       "      <td>0.953716</td>\n",
       "      <td>16.208849</td>\n",
       "      <td>2.257889</td>\n",
       "      <td>...</td>\n",
       "      <td>14.015015</td>\n",
       "      <td>-502.520901</td>\n",
       "      <td>11.912783</td>\n",
       "      <td>-501.133383</td>\n",
       "      <td>10.070913</td>\n",
       "      <td>-500.129135</td>\n",
       "      <td>8.013877</td>\n",
       "      <td>-500.517572</td>\n",
       "      <td>14.028663</td>\n",
       "      <td>-601.427363</td>\n",
       "    </tr>\n",
       "    <tr>\n",
       "      <td>3</td>\n",
       "      <td>2016-01-15 03:00:00</td>\n",
       "      <td>6.047977</td>\n",
       "      <td>9.977019</td>\n",
       "      <td>4.858634</td>\n",
       "      <td>42.689819</td>\n",
       "      <td>68.347543</td>\n",
       "      <td>10.422762</td>\n",
       "      <td>0.883763</td>\n",
       "      <td>16.532835</td>\n",
       "      <td>2.146849</td>\n",
       "      <td>...</td>\n",
       "      <td>14.036510</td>\n",
       "      <td>-500.857308</td>\n",
       "      <td>11.999550</td>\n",
       "      <td>-501.193686</td>\n",
       "      <td>9.970366</td>\n",
       "      <td>-499.201640</td>\n",
       "      <td>7.977324</td>\n",
       "      <td>-500.255908</td>\n",
       "      <td>14.005551</td>\n",
       "      <td>-599.996129</td>\n",
       "    </tr>\n",
       "    <tr>\n",
       "      <td>4</td>\n",
       "      <td>2016-01-15 04:00:00</td>\n",
       "      <td>6.148599</td>\n",
       "      <td>10.142511</td>\n",
       "      <td>4.939416</td>\n",
       "      <td>42.774141</td>\n",
       "      <td>66.927016</td>\n",
       "      <td>10.360302</td>\n",
       "      <td>0.792826</td>\n",
       "      <td>16.525686</td>\n",
       "      <td>2.055292</td>\n",
       "      <td>...</td>\n",
       "      <td>14.027298</td>\n",
       "      <td>-499.838632</td>\n",
       "      <td>11.953070</td>\n",
       "      <td>-501.053894</td>\n",
       "      <td>9.925709</td>\n",
       "      <td>-501.686727</td>\n",
       "      <td>7.894242</td>\n",
       "      <td>-500.356035</td>\n",
       "      <td>13.996647</td>\n",
       "      <td>-601.496691</td>\n",
       "    </tr>\n",
       "  </tbody>\n",
       "</table>\n",
       "<p>5 rows × 87 columns</p>\n",
       "</div>"
      ],
      "text/plain": [
       "                  date  final.output.concentrate_ag  \\\n",
       "0  2016-01-15 00:00:00                     6.055403   \n",
       "1  2016-01-15 01:00:00                     6.029369   \n",
       "2  2016-01-15 02:00:00                     6.055926   \n",
       "3  2016-01-15 03:00:00                     6.047977   \n",
       "4  2016-01-15 04:00:00                     6.148599   \n",
       "\n",
       "   final.output.concentrate_pb  final.output.concentrate_sol  \\\n",
       "0                     9.889648                      5.507324   \n",
       "1                     9.968944                      5.257781   \n",
       "2                    10.213995                      5.383759   \n",
       "3                     9.977019                      4.858634   \n",
       "4                    10.142511                      4.939416   \n",
       "\n",
       "   final.output.concentrate_au  final.output.recovery  final.output.tail_ag  \\\n",
       "0                    42.192020              70.541216             10.411962   \n",
       "1                    42.701629              69.266198             10.462676   \n",
       "2                    42.657501              68.116445             10.507046   \n",
       "3                    42.689819              68.347543             10.422762   \n",
       "4                    42.774141              66.927016             10.360302   \n",
       "\n",
       "   final.output.tail_pb  final.output.tail_sol  final.output.tail_au  ...  \\\n",
       "0              0.895447              16.904297              2.143149  ...   \n",
       "1              0.927452              16.634514              2.224930  ...   \n",
       "2              0.953716              16.208849              2.257889  ...   \n",
       "3              0.883763              16.532835              2.146849  ...   \n",
       "4              0.792826              16.525686              2.055292  ...   \n",
       "\n",
       "   secondary_cleaner.state.floatbank4_a_air  \\\n",
       "0                                 14.016835   \n",
       "1                                 13.992281   \n",
       "2                                 14.015015   \n",
       "3                                 14.036510   \n",
       "4                                 14.027298   \n",
       "\n",
       "   secondary_cleaner.state.floatbank4_a_level  \\\n",
       "0                                 -502.488007   \n",
       "1                                 -505.503262   \n",
       "2                                 -502.520901   \n",
       "3                                 -500.857308   \n",
       "4                                 -499.838632   \n",
       "\n",
       "   secondary_cleaner.state.floatbank4_b_air  \\\n",
       "0                                 12.099931   \n",
       "1                                 11.950531   \n",
       "2                                 11.912783   \n",
       "3                                 11.999550   \n",
       "4                                 11.953070   \n",
       "\n",
       "   secondary_cleaner.state.floatbank4_b_level  \\\n",
       "0                                 -504.715942   \n",
       "1                                 -501.331529   \n",
       "2                                 -501.133383   \n",
       "3                                 -501.193686   \n",
       "4                                 -501.053894   \n",
       "\n",
       "   secondary_cleaner.state.floatbank5_a_air  \\\n",
       "0                                  9.925633   \n",
       "1                                 10.039245   \n",
       "2                                 10.070913   \n",
       "3                                  9.970366   \n",
       "4                                  9.925709   \n",
       "\n",
       "   secondary_cleaner.state.floatbank5_a_level  \\\n",
       "0                                 -498.310211   \n",
       "1                                 -500.169983   \n",
       "2                                 -500.129135   \n",
       "3                                 -499.201640   \n",
       "4                                 -501.686727   \n",
       "\n",
       "   secondary_cleaner.state.floatbank5_b_air  \\\n",
       "0                                  8.079666   \n",
       "1                                  7.984757   \n",
       "2                                  8.013877   \n",
       "3                                  7.977324   \n",
       "4                                  7.894242   \n",
       "\n",
       "   secondary_cleaner.state.floatbank5_b_level  \\\n",
       "0                                 -500.470978   \n",
       "1                                 -500.582168   \n",
       "2                                 -500.517572   \n",
       "3                                 -500.255908   \n",
       "4                                 -500.356035   \n",
       "\n",
       "   secondary_cleaner.state.floatbank6_a_air  \\\n",
       "0                                 14.151341   \n",
       "1                                 13.998353   \n",
       "2                                 14.028663   \n",
       "3                                 14.005551   \n",
       "4                                 13.996647   \n",
       "\n",
       "   secondary_cleaner.state.floatbank6_a_level  \n",
       "0                                 -605.841980  \n",
       "1                                 -599.787184  \n",
       "2                                 -601.427363  \n",
       "3                                 -599.996129  \n",
       "4                                 -601.496691  \n",
       "\n",
       "[5 rows x 87 columns]"
      ]
     },
     "metadata": {},
     "output_type": "display_data"
    },
    {
     "name": "stdout",
     "output_type": "stream",
     "text": [
      "<class 'pandas.core.frame.DataFrame'>\n",
      "RangeIndex: 14149 entries, 0 to 14148\n",
      "Data columns (total 87 columns):\n",
      "date                                                  14149 non-null object\n",
      "final.output.concentrate_ag                           14148 non-null float64\n",
      "final.output.concentrate_pb                           14148 non-null float64\n",
      "final.output.concentrate_sol                          13938 non-null float64\n",
      "final.output.concentrate_au                           14149 non-null float64\n",
      "final.output.recovery                                 14149 non-null float64\n",
      "final.output.tail_ag                                  14149 non-null float64\n",
      "final.output.tail_pb                                  14049 non-null float64\n",
      "final.output.tail_sol                                 14144 non-null float64\n",
      "final.output.tail_au                                  14149 non-null float64\n",
      "primary_cleaner.input.sulfate                         14129 non-null float64\n",
      "primary_cleaner.input.depressant                      14117 non-null float64\n",
      "primary_cleaner.input.feed_size                       14149 non-null float64\n",
      "primary_cleaner.input.xanthate                        14049 non-null float64\n",
      "primary_cleaner.output.concentrate_ag                 14149 non-null float64\n",
      "primary_cleaner.output.concentrate_pb                 14063 non-null float64\n",
      "primary_cleaner.output.concentrate_sol                13863 non-null float64\n",
      "primary_cleaner.output.concentrate_au                 14149 non-null float64\n",
      "primary_cleaner.output.tail_ag                        14148 non-null float64\n",
      "primary_cleaner.output.tail_pb                        14134 non-null float64\n",
      "primary_cleaner.output.tail_sol                       14103 non-null float64\n",
      "primary_cleaner.output.tail_au                        14149 non-null float64\n",
      "primary_cleaner.state.floatbank8_a_air                14145 non-null float64\n",
      "primary_cleaner.state.floatbank8_a_level              14148 non-null float64\n",
      "primary_cleaner.state.floatbank8_b_air                14145 non-null float64\n",
      "primary_cleaner.state.floatbank8_b_level              14148 non-null float64\n",
      "primary_cleaner.state.floatbank8_c_air                14147 non-null float64\n",
      "primary_cleaner.state.floatbank8_c_level              14148 non-null float64\n",
      "primary_cleaner.state.floatbank8_d_air                14146 non-null float64\n",
      "primary_cleaner.state.floatbank8_d_level              14148 non-null float64\n",
      "rougher.calculation.sulfate_to_au_concentrate         14148 non-null float64\n",
      "rougher.calculation.floatbank10_sulfate_to_au_feed    14148 non-null float64\n",
      "rougher.calculation.floatbank11_sulfate_to_au_feed    14148 non-null float64\n",
      "rougher.calculation.au_pb_ratio                       14149 non-null float64\n",
      "rougher.input.feed_ag                                 14149 non-null float64\n",
      "rougher.input.feed_pb                                 14049 non-null float64\n",
      "rougher.input.feed_rate                               14141 non-null float64\n",
      "rougher.input.feed_size                               14005 non-null float64\n",
      "rougher.input.feed_sol                                14071 non-null float64\n",
      "rougher.input.feed_au                                 14149 non-null float64\n",
      "rougher.input.floatbank10_sulfate                     14120 non-null float64\n",
      "rougher.input.floatbank10_xanthate                    14141 non-null float64\n",
      "rougher.input.floatbank11_sulfate                     14113 non-null float64\n",
      "rougher.input.floatbank11_xanthate                    13721 non-null float64\n",
      "rougher.output.concentrate_ag                         14149 non-null float64\n",
      "rougher.output.concentrate_pb                         14149 non-null float64\n",
      "rougher.output.concentrate_sol                        14127 non-null float64\n",
      "rougher.output.concentrate_au                         14149 non-null float64\n",
      "rougher.output.recovery                               14149 non-null float64\n",
      "rougher.output.tail_ag                                14148 non-null float64\n",
      "rougher.output.tail_pb                                14149 non-null float64\n",
      "rougher.output.tail_sol                               14149 non-null float64\n",
      "rougher.output.tail_au                                14149 non-null float64\n",
      "rougher.state.floatbank10_a_air                       14148 non-null float64\n",
      "rougher.state.floatbank10_a_level                     14148 non-null float64\n",
      "rougher.state.floatbank10_b_air                       14148 non-null float64\n",
      "rougher.state.floatbank10_b_level                     14148 non-null float64\n",
      "rougher.state.floatbank10_c_air                       14148 non-null float64\n",
      "rougher.state.floatbank10_c_level                     14148 non-null float64\n",
      "rougher.state.floatbank10_d_air                       14149 non-null float64\n",
      "rougher.state.floatbank10_d_level                     14149 non-null float64\n",
      "rougher.state.floatbank10_e_air                       13713 non-null float64\n",
      "rougher.state.floatbank10_e_level                     14149 non-null float64\n",
      "rougher.state.floatbank10_f_air                       14149 non-null float64\n",
      "rougher.state.floatbank10_f_level                     14149 non-null float64\n",
      "secondary_cleaner.output.tail_ag                      14147 non-null float64\n",
      "secondary_cleaner.output.tail_pb                      14139 non-null float64\n",
      "secondary_cleaner.output.tail_sol                     12544 non-null float64\n",
      "secondary_cleaner.output.tail_au                      14149 non-null float64\n",
      "secondary_cleaner.state.floatbank2_a_air              13932 non-null float64\n",
      "secondary_cleaner.state.floatbank2_a_level            14148 non-null float64\n",
      "secondary_cleaner.state.floatbank2_b_air              14128 non-null float64\n",
      "secondary_cleaner.state.floatbank2_b_level            14148 non-null float64\n",
      "secondary_cleaner.state.floatbank3_a_air              14145 non-null float64\n",
      "secondary_cleaner.state.floatbank3_a_level            14148 non-null float64\n",
      "secondary_cleaner.state.floatbank3_b_air              14148 non-null float64\n",
      "secondary_cleaner.state.floatbank3_b_level            14148 non-null float64\n",
      "secondary_cleaner.state.floatbank4_a_air              14143 non-null float64\n",
      "secondary_cleaner.state.floatbank4_a_level            14148 non-null float64\n",
      "secondary_cleaner.state.floatbank4_b_air              14148 non-null float64\n",
      "secondary_cleaner.state.floatbank4_b_level            14148 non-null float64\n",
      "secondary_cleaner.state.floatbank5_a_air              14148 non-null float64\n",
      "secondary_cleaner.state.floatbank5_a_level            14148 non-null float64\n",
      "secondary_cleaner.state.floatbank5_b_air              14148 non-null float64\n",
      "secondary_cleaner.state.floatbank5_b_level            14148 non-null float64\n",
      "secondary_cleaner.state.floatbank6_a_air              14147 non-null float64\n",
      "secondary_cleaner.state.floatbank6_a_level            14148 non-null float64\n",
      "dtypes: float64(86), object(1)\n",
      "memory usage: 9.4+ MB\n",
      "\n",
      "Количество пропущенных значений в датасете: gold_train\n"
     ]
    },
    {
     "data": {
      "text/html": [
       "<div>\n",
       "<style scoped>\n",
       "    .dataframe tbody tr th:only-of-type {\n",
       "        vertical-align: middle;\n",
       "    }\n",
       "\n",
       "    .dataframe tbody tr th {\n",
       "        vertical-align: top;\n",
       "    }\n",
       "\n",
       "    .dataframe thead th {\n",
       "        text-align: right;\n",
       "    }\n",
       "</style>\n",
       "<table border=\"1\" class=\"dataframe\">\n",
       "  <thead>\n",
       "    <tr style=\"text-align: right;\">\n",
       "      <th></th>\n",
       "      <th>missing_values</th>\n",
       "      <th>% of total</th>\n",
       "    </tr>\n",
       "  </thead>\n",
       "  <tbody>\n",
       "    <tr>\n",
       "      <td>secondary_cleaner.output.tail_sol</td>\n",
       "      <td>1605</td>\n",
       "      <td>11.34</td>\n",
       "    </tr>\n",
       "    <tr>\n",
       "      <td>rougher.state.floatbank10_e_air</td>\n",
       "      <td>436</td>\n",
       "      <td>3.08</td>\n",
       "    </tr>\n",
       "    <tr>\n",
       "      <td>rougher.input.floatbank11_xanthate</td>\n",
       "      <td>428</td>\n",
       "      <td>3.02</td>\n",
       "    </tr>\n",
       "    <tr>\n",
       "      <td>primary_cleaner.output.concentrate_sol</td>\n",
       "      <td>286</td>\n",
       "      <td>2.02</td>\n",
       "    </tr>\n",
       "    <tr>\n",
       "      <td>secondary_cleaner.state.floatbank2_a_air</td>\n",
       "      <td>217</td>\n",
       "      <td>1.53</td>\n",
       "    </tr>\n",
       "    <tr>\n",
       "      <td>...</td>\n",
       "      <td>...</td>\n",
       "      <td>...</td>\n",
       "    </tr>\n",
       "    <tr>\n",
       "      <td>rougher.output.concentrate_pb</td>\n",
       "      <td>0</td>\n",
       "      <td>0.00</td>\n",
       "    </tr>\n",
       "    <tr>\n",
       "      <td>rougher.output.concentrate_au</td>\n",
       "      <td>0</td>\n",
       "      <td>0.00</td>\n",
       "    </tr>\n",
       "    <tr>\n",
       "      <td>rougher.output.recovery</td>\n",
       "      <td>0</td>\n",
       "      <td>0.00</td>\n",
       "    </tr>\n",
       "    <tr>\n",
       "      <td>rougher.output.tail_pb</td>\n",
       "      <td>0</td>\n",
       "      <td>0.00</td>\n",
       "    </tr>\n",
       "    <tr>\n",
       "      <td>date</td>\n",
       "      <td>0</td>\n",
       "      <td>0.00</td>\n",
       "    </tr>\n",
       "  </tbody>\n",
       "</table>\n",
       "<p>87 rows × 2 columns</p>\n",
       "</div>"
      ],
      "text/plain": [
       "                                          missing_values  % of total\n",
       "secondary_cleaner.output.tail_sol                   1605       11.34\n",
       "rougher.state.floatbank10_e_air                      436        3.08\n",
       "rougher.input.floatbank11_xanthate                   428        3.02\n",
       "primary_cleaner.output.concentrate_sol               286        2.02\n",
       "secondary_cleaner.state.floatbank2_a_air             217        1.53\n",
       "...                                                  ...         ...\n",
       "rougher.output.concentrate_pb                          0        0.00\n",
       "rougher.output.concentrate_au                          0        0.00\n",
       "rougher.output.recovery                                0        0.00\n",
       "rougher.output.tail_pb                                 0        0.00\n",
       "date                                                   0        0.00\n",
       "\n",
       "[87 rows x 2 columns]"
      ]
     },
     "metadata": {},
     "output_type": "display_data"
    },
    {
     "name": "stdout",
     "output_type": "stream",
     "text": [
      "\n",
      "---------------///////////---------------\n",
      "Сводная информация о датасете: gold_test\n",
      "Количество полных дубликатов: 0\n",
      "Размер датасета: (5290, 53)\n"
     ]
    },
    {
     "data": {
      "text/html": [
       "<div>\n",
       "<style scoped>\n",
       "    .dataframe tbody tr th:only-of-type {\n",
       "        vertical-align: middle;\n",
       "    }\n",
       "\n",
       "    .dataframe tbody tr th {\n",
       "        vertical-align: top;\n",
       "    }\n",
       "\n",
       "    .dataframe thead th {\n",
       "        text-align: right;\n",
       "    }\n",
       "</style>\n",
       "<table border=\"1\" class=\"dataframe\">\n",
       "  <thead>\n",
       "    <tr style=\"text-align: right;\">\n",
       "      <th></th>\n",
       "      <th>date</th>\n",
       "      <th>primary_cleaner.input.sulfate</th>\n",
       "      <th>primary_cleaner.input.depressant</th>\n",
       "      <th>primary_cleaner.input.feed_size</th>\n",
       "      <th>primary_cleaner.input.xanthate</th>\n",
       "      <th>primary_cleaner.state.floatbank8_a_air</th>\n",
       "      <th>primary_cleaner.state.floatbank8_a_level</th>\n",
       "      <th>primary_cleaner.state.floatbank8_b_air</th>\n",
       "      <th>primary_cleaner.state.floatbank8_b_level</th>\n",
       "      <th>primary_cleaner.state.floatbank8_c_air</th>\n",
       "      <th>...</th>\n",
       "      <th>secondary_cleaner.state.floatbank4_a_air</th>\n",
       "      <th>secondary_cleaner.state.floatbank4_a_level</th>\n",
       "      <th>secondary_cleaner.state.floatbank4_b_air</th>\n",
       "      <th>secondary_cleaner.state.floatbank4_b_level</th>\n",
       "      <th>secondary_cleaner.state.floatbank5_a_air</th>\n",
       "      <th>secondary_cleaner.state.floatbank5_a_level</th>\n",
       "      <th>secondary_cleaner.state.floatbank5_b_air</th>\n",
       "      <th>secondary_cleaner.state.floatbank5_b_level</th>\n",
       "      <th>secondary_cleaner.state.floatbank6_a_air</th>\n",
       "      <th>secondary_cleaner.state.floatbank6_a_level</th>\n",
       "    </tr>\n",
       "  </thead>\n",
       "  <tbody>\n",
       "    <tr>\n",
       "      <td>0</td>\n",
       "      <td>2016-09-01 00:59:59</td>\n",
       "      <td>210.800909</td>\n",
       "      <td>14.993118</td>\n",
       "      <td>8.080000</td>\n",
       "      <td>1.005021</td>\n",
       "      <td>1398.981301</td>\n",
       "      <td>-500.225577</td>\n",
       "      <td>1399.144926</td>\n",
       "      <td>-499.919735</td>\n",
       "      <td>1400.102998</td>\n",
       "      <td>...</td>\n",
       "      <td>12.023554</td>\n",
       "      <td>-497.795834</td>\n",
       "      <td>8.016656</td>\n",
       "      <td>-501.289139</td>\n",
       "      <td>7.946562</td>\n",
       "      <td>-432.317850</td>\n",
       "      <td>4.872511</td>\n",
       "      <td>-500.037437</td>\n",
       "      <td>26.705889</td>\n",
       "      <td>-499.709414</td>\n",
       "    </tr>\n",
       "    <tr>\n",
       "      <td>1</td>\n",
       "      <td>2016-09-01 01:59:59</td>\n",
       "      <td>215.392455</td>\n",
       "      <td>14.987471</td>\n",
       "      <td>8.080000</td>\n",
       "      <td>0.990469</td>\n",
       "      <td>1398.777912</td>\n",
       "      <td>-500.057435</td>\n",
       "      <td>1398.055362</td>\n",
       "      <td>-499.778182</td>\n",
       "      <td>1396.151033</td>\n",
       "      <td>...</td>\n",
       "      <td>12.058140</td>\n",
       "      <td>-498.695773</td>\n",
       "      <td>8.130979</td>\n",
       "      <td>-499.634209</td>\n",
       "      <td>7.958270</td>\n",
       "      <td>-525.839648</td>\n",
       "      <td>4.878850</td>\n",
       "      <td>-500.162375</td>\n",
       "      <td>25.019940</td>\n",
       "      <td>-499.819438</td>\n",
       "    </tr>\n",
       "    <tr>\n",
       "      <td>2</td>\n",
       "      <td>2016-09-01 02:59:59</td>\n",
       "      <td>215.259946</td>\n",
       "      <td>12.884934</td>\n",
       "      <td>7.786667</td>\n",
       "      <td>0.996043</td>\n",
       "      <td>1398.493666</td>\n",
       "      <td>-500.868360</td>\n",
       "      <td>1398.860436</td>\n",
       "      <td>-499.764529</td>\n",
       "      <td>1398.075709</td>\n",
       "      <td>...</td>\n",
       "      <td>11.962366</td>\n",
       "      <td>-498.767484</td>\n",
       "      <td>8.096893</td>\n",
       "      <td>-500.827423</td>\n",
       "      <td>8.071056</td>\n",
       "      <td>-500.801673</td>\n",
       "      <td>4.905125</td>\n",
       "      <td>-499.828510</td>\n",
       "      <td>24.994862</td>\n",
       "      <td>-500.622559</td>\n",
       "    </tr>\n",
       "    <tr>\n",
       "      <td>3</td>\n",
       "      <td>2016-09-01 03:59:59</td>\n",
       "      <td>215.336236</td>\n",
       "      <td>12.006805</td>\n",
       "      <td>7.640000</td>\n",
       "      <td>0.863514</td>\n",
       "      <td>1399.618111</td>\n",
       "      <td>-498.863574</td>\n",
       "      <td>1397.440120</td>\n",
       "      <td>-499.211024</td>\n",
       "      <td>1400.129303</td>\n",
       "      <td>...</td>\n",
       "      <td>12.033091</td>\n",
       "      <td>-498.350935</td>\n",
       "      <td>8.074946</td>\n",
       "      <td>-499.474407</td>\n",
       "      <td>7.897085</td>\n",
       "      <td>-500.868509</td>\n",
       "      <td>4.931400</td>\n",
       "      <td>-499.963623</td>\n",
       "      <td>24.948919</td>\n",
       "      <td>-498.709987</td>\n",
       "    </tr>\n",
       "    <tr>\n",
       "      <td>4</td>\n",
       "      <td>2016-09-01 04:59:59</td>\n",
       "      <td>199.099327</td>\n",
       "      <td>10.682530</td>\n",
       "      <td>7.530000</td>\n",
       "      <td>0.805575</td>\n",
       "      <td>1401.268123</td>\n",
       "      <td>-500.808305</td>\n",
       "      <td>1398.128818</td>\n",
       "      <td>-499.504543</td>\n",
       "      <td>1402.172226</td>\n",
       "      <td>...</td>\n",
       "      <td>12.025367</td>\n",
       "      <td>-500.786497</td>\n",
       "      <td>8.054678</td>\n",
       "      <td>-500.397500</td>\n",
       "      <td>8.107890</td>\n",
       "      <td>-509.526725</td>\n",
       "      <td>4.957674</td>\n",
       "      <td>-500.360026</td>\n",
       "      <td>25.003331</td>\n",
       "      <td>-500.856333</td>\n",
       "    </tr>\n",
       "  </tbody>\n",
       "</table>\n",
       "<p>5 rows × 53 columns</p>\n",
       "</div>"
      ],
      "text/plain": [
       "                  date  primary_cleaner.input.sulfate  \\\n",
       "0  2016-09-01 00:59:59                     210.800909   \n",
       "1  2016-09-01 01:59:59                     215.392455   \n",
       "2  2016-09-01 02:59:59                     215.259946   \n",
       "3  2016-09-01 03:59:59                     215.336236   \n",
       "4  2016-09-01 04:59:59                     199.099327   \n",
       "\n",
       "   primary_cleaner.input.depressant  primary_cleaner.input.feed_size  \\\n",
       "0                         14.993118                         8.080000   \n",
       "1                         14.987471                         8.080000   \n",
       "2                         12.884934                         7.786667   \n",
       "3                         12.006805                         7.640000   \n",
       "4                         10.682530                         7.530000   \n",
       "\n",
       "   primary_cleaner.input.xanthate  primary_cleaner.state.floatbank8_a_air  \\\n",
       "0                        1.005021                             1398.981301   \n",
       "1                        0.990469                             1398.777912   \n",
       "2                        0.996043                             1398.493666   \n",
       "3                        0.863514                             1399.618111   \n",
       "4                        0.805575                             1401.268123   \n",
       "\n",
       "   primary_cleaner.state.floatbank8_a_level  \\\n",
       "0                               -500.225577   \n",
       "1                               -500.057435   \n",
       "2                               -500.868360   \n",
       "3                               -498.863574   \n",
       "4                               -500.808305   \n",
       "\n",
       "   primary_cleaner.state.floatbank8_b_air  \\\n",
       "0                             1399.144926   \n",
       "1                             1398.055362   \n",
       "2                             1398.860436   \n",
       "3                             1397.440120   \n",
       "4                             1398.128818   \n",
       "\n",
       "   primary_cleaner.state.floatbank8_b_level  \\\n",
       "0                               -499.919735   \n",
       "1                               -499.778182   \n",
       "2                               -499.764529   \n",
       "3                               -499.211024   \n",
       "4                               -499.504543   \n",
       "\n",
       "   primary_cleaner.state.floatbank8_c_air  ...  \\\n",
       "0                             1400.102998  ...   \n",
       "1                             1396.151033  ...   \n",
       "2                             1398.075709  ...   \n",
       "3                             1400.129303  ...   \n",
       "4                             1402.172226  ...   \n",
       "\n",
       "   secondary_cleaner.state.floatbank4_a_air  \\\n",
       "0                                 12.023554   \n",
       "1                                 12.058140   \n",
       "2                                 11.962366   \n",
       "3                                 12.033091   \n",
       "4                                 12.025367   \n",
       "\n",
       "   secondary_cleaner.state.floatbank4_a_level  \\\n",
       "0                                 -497.795834   \n",
       "1                                 -498.695773   \n",
       "2                                 -498.767484   \n",
       "3                                 -498.350935   \n",
       "4                                 -500.786497   \n",
       "\n",
       "   secondary_cleaner.state.floatbank4_b_air  \\\n",
       "0                                  8.016656   \n",
       "1                                  8.130979   \n",
       "2                                  8.096893   \n",
       "3                                  8.074946   \n",
       "4                                  8.054678   \n",
       "\n",
       "   secondary_cleaner.state.floatbank4_b_level  \\\n",
       "0                                 -501.289139   \n",
       "1                                 -499.634209   \n",
       "2                                 -500.827423   \n",
       "3                                 -499.474407   \n",
       "4                                 -500.397500   \n",
       "\n",
       "   secondary_cleaner.state.floatbank5_a_air  \\\n",
       "0                                  7.946562   \n",
       "1                                  7.958270   \n",
       "2                                  8.071056   \n",
       "3                                  7.897085   \n",
       "4                                  8.107890   \n",
       "\n",
       "   secondary_cleaner.state.floatbank5_a_level  \\\n",
       "0                                 -432.317850   \n",
       "1                                 -525.839648   \n",
       "2                                 -500.801673   \n",
       "3                                 -500.868509   \n",
       "4                                 -509.526725   \n",
       "\n",
       "   secondary_cleaner.state.floatbank5_b_air  \\\n",
       "0                                  4.872511   \n",
       "1                                  4.878850   \n",
       "2                                  4.905125   \n",
       "3                                  4.931400   \n",
       "4                                  4.957674   \n",
       "\n",
       "   secondary_cleaner.state.floatbank5_b_level  \\\n",
       "0                                 -500.037437   \n",
       "1                                 -500.162375   \n",
       "2                                 -499.828510   \n",
       "3                                 -499.963623   \n",
       "4                                 -500.360026   \n",
       "\n",
       "   secondary_cleaner.state.floatbank6_a_air  \\\n",
       "0                                 26.705889   \n",
       "1                                 25.019940   \n",
       "2                                 24.994862   \n",
       "3                                 24.948919   \n",
       "4                                 25.003331   \n",
       "\n",
       "   secondary_cleaner.state.floatbank6_a_level  \n",
       "0                                 -499.709414  \n",
       "1                                 -499.819438  \n",
       "2                                 -500.622559  \n",
       "3                                 -498.709987  \n",
       "4                                 -500.856333  \n",
       "\n",
       "[5 rows x 53 columns]"
      ]
     },
     "metadata": {},
     "output_type": "display_data"
    },
    {
     "name": "stdout",
     "output_type": "stream",
     "text": [
      "<class 'pandas.core.frame.DataFrame'>\n",
      "RangeIndex: 5290 entries, 0 to 5289\n",
      "Data columns (total 53 columns):\n",
      "date                                          5290 non-null object\n",
      "primary_cleaner.input.sulfate                 5286 non-null float64\n",
      "primary_cleaner.input.depressant              5285 non-null float64\n",
      "primary_cleaner.input.feed_size               5290 non-null float64\n",
      "primary_cleaner.input.xanthate                5286 non-null float64\n",
      "primary_cleaner.state.floatbank8_a_air        5290 non-null float64\n",
      "primary_cleaner.state.floatbank8_a_level      5290 non-null float64\n",
      "primary_cleaner.state.floatbank8_b_air        5290 non-null float64\n",
      "primary_cleaner.state.floatbank8_b_level      5290 non-null float64\n",
      "primary_cleaner.state.floatbank8_c_air        5290 non-null float64\n",
      "primary_cleaner.state.floatbank8_c_level      5290 non-null float64\n",
      "primary_cleaner.state.floatbank8_d_air        5290 non-null float64\n",
      "primary_cleaner.state.floatbank8_d_level      5290 non-null float64\n",
      "rougher.input.feed_ag                         5290 non-null float64\n",
      "rougher.input.feed_pb                         5290 non-null float64\n",
      "rougher.input.feed_rate                       5287 non-null float64\n",
      "rougher.input.feed_size                       5289 non-null float64\n",
      "rougher.input.feed_sol                        5269 non-null float64\n",
      "rougher.input.feed_au                         5290 non-null float64\n",
      "rougher.input.floatbank10_sulfate             5285 non-null float64\n",
      "rougher.input.floatbank10_xanthate            5290 non-null float64\n",
      "rougher.input.floatbank11_sulfate             5282 non-null float64\n",
      "rougher.input.floatbank11_xanthate            5265 non-null float64\n",
      "rougher.state.floatbank10_a_air               5290 non-null float64\n",
      "rougher.state.floatbank10_a_level             5290 non-null float64\n",
      "rougher.state.floatbank10_b_air               5290 non-null float64\n",
      "rougher.state.floatbank10_b_level             5290 non-null float64\n",
      "rougher.state.floatbank10_c_air               5290 non-null float64\n",
      "rougher.state.floatbank10_c_level             5290 non-null float64\n",
      "rougher.state.floatbank10_d_air               5290 non-null float64\n",
      "rougher.state.floatbank10_d_level             5290 non-null float64\n",
      "rougher.state.floatbank10_e_air               5290 non-null float64\n",
      "rougher.state.floatbank10_e_level             5290 non-null float64\n",
      "rougher.state.floatbank10_f_air               5290 non-null float64\n",
      "rougher.state.floatbank10_f_level             5290 non-null float64\n",
      "secondary_cleaner.state.floatbank2_a_air      5287 non-null float64\n",
      "secondary_cleaner.state.floatbank2_a_level    5290 non-null float64\n",
      "secondary_cleaner.state.floatbank2_b_air      5288 non-null float64\n",
      "secondary_cleaner.state.floatbank2_b_level    5290 non-null float64\n",
      "secondary_cleaner.state.floatbank3_a_air      5281 non-null float64\n",
      "secondary_cleaner.state.floatbank3_a_level    5290 non-null float64\n",
      "secondary_cleaner.state.floatbank3_b_air      5290 non-null float64\n",
      "secondary_cleaner.state.floatbank3_b_level    5290 non-null float64\n",
      "secondary_cleaner.state.floatbank4_a_air      5290 non-null float64\n",
      "secondary_cleaner.state.floatbank4_a_level    5290 non-null float64\n",
      "secondary_cleaner.state.floatbank4_b_air      5290 non-null float64\n",
      "secondary_cleaner.state.floatbank4_b_level    5290 non-null float64\n",
      "secondary_cleaner.state.floatbank5_a_air      5290 non-null float64\n",
      "secondary_cleaner.state.floatbank5_a_level    5290 non-null float64\n",
      "secondary_cleaner.state.floatbank5_b_air      5290 non-null float64\n",
      "secondary_cleaner.state.floatbank5_b_level    5290 non-null float64\n",
      "secondary_cleaner.state.floatbank6_a_air      5290 non-null float64\n",
      "secondary_cleaner.state.floatbank6_a_level    5290 non-null float64\n",
      "dtypes: float64(52), object(1)\n",
      "memory usage: 2.1+ MB\n",
      "\n",
      "Количество пропущенных значений в датасете: gold_test\n"
     ]
    },
    {
     "data": {
      "text/html": [
       "<div>\n",
       "<style scoped>\n",
       "    .dataframe tbody tr th:only-of-type {\n",
       "        vertical-align: middle;\n",
       "    }\n",
       "\n",
       "    .dataframe tbody tr th {\n",
       "        vertical-align: top;\n",
       "    }\n",
       "\n",
       "    .dataframe thead th {\n",
       "        text-align: right;\n",
       "    }\n",
       "</style>\n",
       "<table border=\"1\" class=\"dataframe\">\n",
       "  <thead>\n",
       "    <tr style=\"text-align: right;\">\n",
       "      <th></th>\n",
       "      <th>missing_values</th>\n",
       "      <th>% of total</th>\n",
       "    </tr>\n",
       "  </thead>\n",
       "  <tbody>\n",
       "    <tr>\n",
       "      <td>rougher.input.floatbank11_xanthate</td>\n",
       "      <td>25</td>\n",
       "      <td>0.47</td>\n",
       "    </tr>\n",
       "    <tr>\n",
       "      <td>rougher.input.feed_sol</td>\n",
       "      <td>21</td>\n",
       "      <td>0.40</td>\n",
       "    </tr>\n",
       "    <tr>\n",
       "      <td>secondary_cleaner.state.floatbank3_a_air</td>\n",
       "      <td>9</td>\n",
       "      <td>0.17</td>\n",
       "    </tr>\n",
       "    <tr>\n",
       "      <td>rougher.input.floatbank11_sulfate</td>\n",
       "      <td>8</td>\n",
       "      <td>0.15</td>\n",
       "    </tr>\n",
       "    <tr>\n",
       "      <td>primary_cleaner.input.depressant</td>\n",
       "      <td>5</td>\n",
       "      <td>0.09</td>\n",
       "    </tr>\n",
       "    <tr>\n",
       "      <td>rougher.input.floatbank10_sulfate</td>\n",
       "      <td>5</td>\n",
       "      <td>0.09</td>\n",
       "    </tr>\n",
       "    <tr>\n",
       "      <td>primary_cleaner.input.xanthate</td>\n",
       "      <td>4</td>\n",
       "      <td>0.08</td>\n",
       "    </tr>\n",
       "    <tr>\n",
       "      <td>primary_cleaner.input.sulfate</td>\n",
       "      <td>4</td>\n",
       "      <td>0.08</td>\n",
       "    </tr>\n",
       "    <tr>\n",
       "      <td>rougher.input.feed_rate</td>\n",
       "      <td>3</td>\n",
       "      <td>0.06</td>\n",
       "    </tr>\n",
       "    <tr>\n",
       "      <td>secondary_cleaner.state.floatbank2_a_air</td>\n",
       "      <td>3</td>\n",
       "      <td>0.06</td>\n",
       "    </tr>\n",
       "    <tr>\n",
       "      <td>secondary_cleaner.state.floatbank2_b_air</td>\n",
       "      <td>2</td>\n",
       "      <td>0.04</td>\n",
       "    </tr>\n",
       "    <tr>\n",
       "      <td>rougher.input.feed_size</td>\n",
       "      <td>1</td>\n",
       "      <td>0.02</td>\n",
       "    </tr>\n",
       "    <tr>\n",
       "      <td>secondary_cleaner.state.floatbank2_b_level</td>\n",
       "      <td>0</td>\n",
       "      <td>0.00</td>\n",
       "    </tr>\n",
       "    <tr>\n",
       "      <td>rougher.state.floatbank10_f_level</td>\n",
       "      <td>0</td>\n",
       "      <td>0.00</td>\n",
       "    </tr>\n",
       "    <tr>\n",
       "      <td>rougher.state.floatbank10_f_air</td>\n",
       "      <td>0</td>\n",
       "      <td>0.00</td>\n",
       "    </tr>\n",
       "    <tr>\n",
       "      <td>secondary_cleaner.state.floatbank3_a_level</td>\n",
       "      <td>0</td>\n",
       "      <td>0.00</td>\n",
       "    </tr>\n",
       "    <tr>\n",
       "      <td>secondary_cleaner.state.floatbank2_a_level</td>\n",
       "      <td>0</td>\n",
       "      <td>0.00</td>\n",
       "    </tr>\n",
       "    <tr>\n",
       "      <td>date</td>\n",
       "      <td>0</td>\n",
       "      <td>0.00</td>\n",
       "    </tr>\n",
       "    <tr>\n",
       "      <td>rougher.state.floatbank10_e_air</td>\n",
       "      <td>0</td>\n",
       "      <td>0.00</td>\n",
       "    </tr>\n",
       "    <tr>\n",
       "      <td>secondary_cleaner.state.floatbank3_b_air</td>\n",
       "      <td>0</td>\n",
       "      <td>0.00</td>\n",
       "    </tr>\n",
       "    <tr>\n",
       "      <td>secondary_cleaner.state.floatbank3_b_level</td>\n",
       "      <td>0</td>\n",
       "      <td>0.00</td>\n",
       "    </tr>\n",
       "    <tr>\n",
       "      <td>secondary_cleaner.state.floatbank4_a_air</td>\n",
       "      <td>0</td>\n",
       "      <td>0.00</td>\n",
       "    </tr>\n",
       "    <tr>\n",
       "      <td>secondary_cleaner.state.floatbank4_a_level</td>\n",
       "      <td>0</td>\n",
       "      <td>0.00</td>\n",
       "    </tr>\n",
       "    <tr>\n",
       "      <td>secondary_cleaner.state.floatbank4_b_air</td>\n",
       "      <td>0</td>\n",
       "      <td>0.00</td>\n",
       "    </tr>\n",
       "    <tr>\n",
       "      <td>secondary_cleaner.state.floatbank4_b_level</td>\n",
       "      <td>0</td>\n",
       "      <td>0.00</td>\n",
       "    </tr>\n",
       "    <tr>\n",
       "      <td>secondary_cleaner.state.floatbank5_a_air</td>\n",
       "      <td>0</td>\n",
       "      <td>0.00</td>\n",
       "    </tr>\n",
       "    <tr>\n",
       "      <td>secondary_cleaner.state.floatbank5_a_level</td>\n",
       "      <td>0</td>\n",
       "      <td>0.00</td>\n",
       "    </tr>\n",
       "    <tr>\n",
       "      <td>secondary_cleaner.state.floatbank5_b_air</td>\n",
       "      <td>0</td>\n",
       "      <td>0.00</td>\n",
       "    </tr>\n",
       "    <tr>\n",
       "      <td>secondary_cleaner.state.floatbank5_b_level</td>\n",
       "      <td>0</td>\n",
       "      <td>0.00</td>\n",
       "    </tr>\n",
       "    <tr>\n",
       "      <td>secondary_cleaner.state.floatbank6_a_air</td>\n",
       "      <td>0</td>\n",
       "      <td>0.00</td>\n",
       "    </tr>\n",
       "    <tr>\n",
       "      <td>rougher.state.floatbank10_e_level</td>\n",
       "      <td>0</td>\n",
       "      <td>0.00</td>\n",
       "    </tr>\n",
       "    <tr>\n",
       "      <td>rougher.state.floatbank10_b_level</td>\n",
       "      <td>0</td>\n",
       "      <td>0.00</td>\n",
       "    </tr>\n",
       "    <tr>\n",
       "      <td>rougher.state.floatbank10_d_level</td>\n",
       "      <td>0</td>\n",
       "      <td>0.00</td>\n",
       "    </tr>\n",
       "    <tr>\n",
       "      <td>primary_cleaner.state.floatbank8_d_level</td>\n",
       "      <td>0</td>\n",
       "      <td>0.00</td>\n",
       "    </tr>\n",
       "    <tr>\n",
       "      <td>primary_cleaner.input.feed_size</td>\n",
       "      <td>0</td>\n",
       "      <td>0.00</td>\n",
       "    </tr>\n",
       "    <tr>\n",
       "      <td>primary_cleaner.state.floatbank8_a_air</td>\n",
       "      <td>0</td>\n",
       "      <td>0.00</td>\n",
       "    </tr>\n",
       "    <tr>\n",
       "      <td>primary_cleaner.state.floatbank8_a_level</td>\n",
       "      <td>0</td>\n",
       "      <td>0.00</td>\n",
       "    </tr>\n",
       "    <tr>\n",
       "      <td>primary_cleaner.state.floatbank8_b_air</td>\n",
       "      <td>0</td>\n",
       "      <td>0.00</td>\n",
       "    </tr>\n",
       "    <tr>\n",
       "      <td>primary_cleaner.state.floatbank8_b_level</td>\n",
       "      <td>0</td>\n",
       "      <td>0.00</td>\n",
       "    </tr>\n",
       "    <tr>\n",
       "      <td>primary_cleaner.state.floatbank8_c_air</td>\n",
       "      <td>0</td>\n",
       "      <td>0.00</td>\n",
       "    </tr>\n",
       "    <tr>\n",
       "      <td>primary_cleaner.state.floatbank8_c_level</td>\n",
       "      <td>0</td>\n",
       "      <td>0.00</td>\n",
       "    </tr>\n",
       "    <tr>\n",
       "      <td>primary_cleaner.state.floatbank8_d_air</td>\n",
       "      <td>0</td>\n",
       "      <td>0.00</td>\n",
       "    </tr>\n",
       "    <tr>\n",
       "      <td>rougher.input.feed_ag</td>\n",
       "      <td>0</td>\n",
       "      <td>0.00</td>\n",
       "    </tr>\n",
       "    <tr>\n",
       "      <td>rougher.state.floatbank10_d_air</td>\n",
       "      <td>0</td>\n",
       "      <td>0.00</td>\n",
       "    </tr>\n",
       "    <tr>\n",
       "      <td>rougher.input.feed_pb</td>\n",
       "      <td>0</td>\n",
       "      <td>0.00</td>\n",
       "    </tr>\n",
       "    <tr>\n",
       "      <td>rougher.input.feed_au</td>\n",
       "      <td>0</td>\n",
       "      <td>0.00</td>\n",
       "    </tr>\n",
       "    <tr>\n",
       "      <td>rougher.input.floatbank10_xanthate</td>\n",
       "      <td>0</td>\n",
       "      <td>0.00</td>\n",
       "    </tr>\n",
       "    <tr>\n",
       "      <td>rougher.state.floatbank10_a_air</td>\n",
       "      <td>0</td>\n",
       "      <td>0.00</td>\n",
       "    </tr>\n",
       "    <tr>\n",
       "      <td>rougher.state.floatbank10_a_level</td>\n",
       "      <td>0</td>\n",
       "      <td>0.00</td>\n",
       "    </tr>\n",
       "    <tr>\n",
       "      <td>rougher.state.floatbank10_b_air</td>\n",
       "      <td>0</td>\n",
       "      <td>0.00</td>\n",
       "    </tr>\n",
       "    <tr>\n",
       "      <td>rougher.state.floatbank10_c_air</td>\n",
       "      <td>0</td>\n",
       "      <td>0.00</td>\n",
       "    </tr>\n",
       "    <tr>\n",
       "      <td>rougher.state.floatbank10_c_level</td>\n",
       "      <td>0</td>\n",
       "      <td>0.00</td>\n",
       "    </tr>\n",
       "    <tr>\n",
       "      <td>secondary_cleaner.state.floatbank6_a_level</td>\n",
       "      <td>0</td>\n",
       "      <td>0.00</td>\n",
       "    </tr>\n",
       "  </tbody>\n",
       "</table>\n",
       "</div>"
      ],
      "text/plain": [
       "                                            missing_values  % of total\n",
       "rougher.input.floatbank11_xanthate                      25        0.47\n",
       "rougher.input.feed_sol                                  21        0.40\n",
       "secondary_cleaner.state.floatbank3_a_air                 9        0.17\n",
       "rougher.input.floatbank11_sulfate                        8        0.15\n",
       "primary_cleaner.input.depressant                         5        0.09\n",
       "rougher.input.floatbank10_sulfate                        5        0.09\n",
       "primary_cleaner.input.xanthate                           4        0.08\n",
       "primary_cleaner.input.sulfate                            4        0.08\n",
       "rougher.input.feed_rate                                  3        0.06\n",
       "secondary_cleaner.state.floatbank2_a_air                 3        0.06\n",
       "secondary_cleaner.state.floatbank2_b_air                 2        0.04\n",
       "rougher.input.feed_size                                  1        0.02\n",
       "secondary_cleaner.state.floatbank2_b_level               0        0.00\n",
       "rougher.state.floatbank10_f_level                        0        0.00\n",
       "rougher.state.floatbank10_f_air                          0        0.00\n",
       "secondary_cleaner.state.floatbank3_a_level               0        0.00\n",
       "secondary_cleaner.state.floatbank2_a_level               0        0.00\n",
       "date                                                     0        0.00\n",
       "rougher.state.floatbank10_e_air                          0        0.00\n",
       "secondary_cleaner.state.floatbank3_b_air                 0        0.00\n",
       "secondary_cleaner.state.floatbank3_b_level               0        0.00\n",
       "secondary_cleaner.state.floatbank4_a_air                 0        0.00\n",
       "secondary_cleaner.state.floatbank4_a_level               0        0.00\n",
       "secondary_cleaner.state.floatbank4_b_air                 0        0.00\n",
       "secondary_cleaner.state.floatbank4_b_level               0        0.00\n",
       "secondary_cleaner.state.floatbank5_a_air                 0        0.00\n",
       "secondary_cleaner.state.floatbank5_a_level               0        0.00\n",
       "secondary_cleaner.state.floatbank5_b_air                 0        0.00\n",
       "secondary_cleaner.state.floatbank5_b_level               0        0.00\n",
       "secondary_cleaner.state.floatbank6_a_air                 0        0.00\n",
       "rougher.state.floatbank10_e_level                        0        0.00\n",
       "rougher.state.floatbank10_b_level                        0        0.00\n",
       "rougher.state.floatbank10_d_level                        0        0.00\n",
       "primary_cleaner.state.floatbank8_d_level                 0        0.00\n",
       "primary_cleaner.input.feed_size                          0        0.00\n",
       "primary_cleaner.state.floatbank8_a_air                   0        0.00\n",
       "primary_cleaner.state.floatbank8_a_level                 0        0.00\n",
       "primary_cleaner.state.floatbank8_b_air                   0        0.00\n",
       "primary_cleaner.state.floatbank8_b_level                 0        0.00\n",
       "primary_cleaner.state.floatbank8_c_air                   0        0.00\n",
       "primary_cleaner.state.floatbank8_c_level                 0        0.00\n",
       "primary_cleaner.state.floatbank8_d_air                   0        0.00\n",
       "rougher.input.feed_ag                                    0        0.00\n",
       "rougher.state.floatbank10_d_air                          0        0.00\n",
       "rougher.input.feed_pb                                    0        0.00\n",
       "rougher.input.feed_au                                    0        0.00\n",
       "rougher.input.floatbank10_xanthate                       0        0.00\n",
       "rougher.state.floatbank10_a_air                          0        0.00\n",
       "rougher.state.floatbank10_a_level                        0        0.00\n",
       "rougher.state.floatbank10_b_air                          0        0.00\n",
       "rougher.state.floatbank10_c_air                          0        0.00\n",
       "rougher.state.floatbank10_c_level                        0        0.00\n",
       "secondary_cleaner.state.floatbank6_a_level               0        0.00"
      ]
     },
     "metadata": {},
     "output_type": "display_data"
    },
    {
     "name": "stdout",
     "output_type": "stream",
     "text": [
      "\n",
      "---------------///////////---------------\n",
      "Сводная информация о датасете: gold_full\n",
      "Количество полных дубликатов: 0\n",
      "Размер датасета: (19439, 87)\n"
     ]
    },
    {
     "data": {
      "text/html": [
       "<div>\n",
       "<style scoped>\n",
       "    .dataframe tbody tr th:only-of-type {\n",
       "        vertical-align: middle;\n",
       "    }\n",
       "\n",
       "    .dataframe tbody tr th {\n",
       "        vertical-align: top;\n",
       "    }\n",
       "\n",
       "    .dataframe thead th {\n",
       "        text-align: right;\n",
       "    }\n",
       "</style>\n",
       "<table border=\"1\" class=\"dataframe\">\n",
       "  <thead>\n",
       "    <tr style=\"text-align: right;\">\n",
       "      <th></th>\n",
       "      <th>date</th>\n",
       "      <th>final.output.concentrate_ag</th>\n",
       "      <th>final.output.concentrate_pb</th>\n",
       "      <th>final.output.concentrate_sol</th>\n",
       "      <th>final.output.concentrate_au</th>\n",
       "      <th>final.output.recovery</th>\n",
       "      <th>final.output.tail_ag</th>\n",
       "      <th>final.output.tail_pb</th>\n",
       "      <th>final.output.tail_sol</th>\n",
       "      <th>final.output.tail_au</th>\n",
       "      <th>...</th>\n",
       "      <th>secondary_cleaner.state.floatbank4_a_air</th>\n",
       "      <th>secondary_cleaner.state.floatbank4_a_level</th>\n",
       "      <th>secondary_cleaner.state.floatbank4_b_air</th>\n",
       "      <th>secondary_cleaner.state.floatbank4_b_level</th>\n",
       "      <th>secondary_cleaner.state.floatbank5_a_air</th>\n",
       "      <th>secondary_cleaner.state.floatbank5_a_level</th>\n",
       "      <th>secondary_cleaner.state.floatbank5_b_air</th>\n",
       "      <th>secondary_cleaner.state.floatbank5_b_level</th>\n",
       "      <th>secondary_cleaner.state.floatbank6_a_air</th>\n",
       "      <th>secondary_cleaner.state.floatbank6_a_level</th>\n",
       "    </tr>\n",
       "  </thead>\n",
       "  <tbody>\n",
       "    <tr>\n",
       "      <td>0</td>\n",
       "      <td>2016-01-15 00:00:00</td>\n",
       "      <td>6.055403</td>\n",
       "      <td>9.889648</td>\n",
       "      <td>5.507324</td>\n",
       "      <td>42.192020</td>\n",
       "      <td>70.541216</td>\n",
       "      <td>10.411962</td>\n",
       "      <td>0.895447</td>\n",
       "      <td>16.904297</td>\n",
       "      <td>2.143149</td>\n",
       "      <td>...</td>\n",
       "      <td>14.016835</td>\n",
       "      <td>-502.488007</td>\n",
       "      <td>12.099931</td>\n",
       "      <td>-504.715942</td>\n",
       "      <td>9.925633</td>\n",
       "      <td>-498.310211</td>\n",
       "      <td>8.079666</td>\n",
       "      <td>-500.470978</td>\n",
       "      <td>14.151341</td>\n",
       "      <td>-605.841980</td>\n",
       "    </tr>\n",
       "    <tr>\n",
       "      <td>1</td>\n",
       "      <td>2016-01-15 01:00:00</td>\n",
       "      <td>6.029369</td>\n",
       "      <td>9.968944</td>\n",
       "      <td>5.257781</td>\n",
       "      <td>42.701629</td>\n",
       "      <td>69.266198</td>\n",
       "      <td>10.462676</td>\n",
       "      <td>0.927452</td>\n",
       "      <td>16.634514</td>\n",
       "      <td>2.224930</td>\n",
       "      <td>...</td>\n",
       "      <td>13.992281</td>\n",
       "      <td>-505.503262</td>\n",
       "      <td>11.950531</td>\n",
       "      <td>-501.331529</td>\n",
       "      <td>10.039245</td>\n",
       "      <td>-500.169983</td>\n",
       "      <td>7.984757</td>\n",
       "      <td>-500.582168</td>\n",
       "      <td>13.998353</td>\n",
       "      <td>-599.787184</td>\n",
       "    </tr>\n",
       "    <tr>\n",
       "      <td>2</td>\n",
       "      <td>2016-01-15 02:00:00</td>\n",
       "      <td>6.055926</td>\n",
       "      <td>10.213995</td>\n",
       "      <td>5.383759</td>\n",
       "      <td>42.657501</td>\n",
       "      <td>68.116445</td>\n",
       "      <td>10.507046</td>\n",
       "      <td>0.953716</td>\n",
       "      <td>16.208849</td>\n",
       "      <td>2.257889</td>\n",
       "      <td>...</td>\n",
       "      <td>14.015015</td>\n",
       "      <td>-502.520901</td>\n",
       "      <td>11.912783</td>\n",
       "      <td>-501.133383</td>\n",
       "      <td>10.070913</td>\n",
       "      <td>-500.129135</td>\n",
       "      <td>8.013877</td>\n",
       "      <td>-500.517572</td>\n",
       "      <td>14.028663</td>\n",
       "      <td>-601.427363</td>\n",
       "    </tr>\n",
       "    <tr>\n",
       "      <td>3</td>\n",
       "      <td>2016-01-15 03:00:00</td>\n",
       "      <td>6.047977</td>\n",
       "      <td>9.977019</td>\n",
       "      <td>4.858634</td>\n",
       "      <td>42.689819</td>\n",
       "      <td>68.347543</td>\n",
       "      <td>10.422762</td>\n",
       "      <td>0.883763</td>\n",
       "      <td>16.532835</td>\n",
       "      <td>2.146849</td>\n",
       "      <td>...</td>\n",
       "      <td>14.036510</td>\n",
       "      <td>-500.857308</td>\n",
       "      <td>11.999550</td>\n",
       "      <td>-501.193686</td>\n",
       "      <td>9.970366</td>\n",
       "      <td>-499.201640</td>\n",
       "      <td>7.977324</td>\n",
       "      <td>-500.255908</td>\n",
       "      <td>14.005551</td>\n",
       "      <td>-599.996129</td>\n",
       "    </tr>\n",
       "    <tr>\n",
       "      <td>4</td>\n",
       "      <td>2016-01-15 04:00:00</td>\n",
       "      <td>6.148599</td>\n",
       "      <td>10.142511</td>\n",
       "      <td>4.939416</td>\n",
       "      <td>42.774141</td>\n",
       "      <td>66.927016</td>\n",
       "      <td>10.360302</td>\n",
       "      <td>0.792826</td>\n",
       "      <td>16.525686</td>\n",
       "      <td>2.055292</td>\n",
       "      <td>...</td>\n",
       "      <td>14.027298</td>\n",
       "      <td>-499.838632</td>\n",
       "      <td>11.953070</td>\n",
       "      <td>-501.053894</td>\n",
       "      <td>9.925709</td>\n",
       "      <td>-501.686727</td>\n",
       "      <td>7.894242</td>\n",
       "      <td>-500.356035</td>\n",
       "      <td>13.996647</td>\n",
       "      <td>-601.496691</td>\n",
       "    </tr>\n",
       "  </tbody>\n",
       "</table>\n",
       "<p>5 rows × 87 columns</p>\n",
       "</div>"
      ],
      "text/plain": [
       "                  date  final.output.concentrate_ag  \\\n",
       "0  2016-01-15 00:00:00                     6.055403   \n",
       "1  2016-01-15 01:00:00                     6.029369   \n",
       "2  2016-01-15 02:00:00                     6.055926   \n",
       "3  2016-01-15 03:00:00                     6.047977   \n",
       "4  2016-01-15 04:00:00                     6.148599   \n",
       "\n",
       "   final.output.concentrate_pb  final.output.concentrate_sol  \\\n",
       "0                     9.889648                      5.507324   \n",
       "1                     9.968944                      5.257781   \n",
       "2                    10.213995                      5.383759   \n",
       "3                     9.977019                      4.858634   \n",
       "4                    10.142511                      4.939416   \n",
       "\n",
       "   final.output.concentrate_au  final.output.recovery  final.output.tail_ag  \\\n",
       "0                    42.192020              70.541216             10.411962   \n",
       "1                    42.701629              69.266198             10.462676   \n",
       "2                    42.657501              68.116445             10.507046   \n",
       "3                    42.689819              68.347543             10.422762   \n",
       "4                    42.774141              66.927016             10.360302   \n",
       "\n",
       "   final.output.tail_pb  final.output.tail_sol  final.output.tail_au  ...  \\\n",
       "0              0.895447              16.904297              2.143149  ...   \n",
       "1              0.927452              16.634514              2.224930  ...   \n",
       "2              0.953716              16.208849              2.257889  ...   \n",
       "3              0.883763              16.532835              2.146849  ...   \n",
       "4              0.792826              16.525686              2.055292  ...   \n",
       "\n",
       "   secondary_cleaner.state.floatbank4_a_air  \\\n",
       "0                                 14.016835   \n",
       "1                                 13.992281   \n",
       "2                                 14.015015   \n",
       "3                                 14.036510   \n",
       "4                                 14.027298   \n",
       "\n",
       "   secondary_cleaner.state.floatbank4_a_level  \\\n",
       "0                                 -502.488007   \n",
       "1                                 -505.503262   \n",
       "2                                 -502.520901   \n",
       "3                                 -500.857308   \n",
       "4                                 -499.838632   \n",
       "\n",
       "   secondary_cleaner.state.floatbank4_b_air  \\\n",
       "0                                 12.099931   \n",
       "1                                 11.950531   \n",
       "2                                 11.912783   \n",
       "3                                 11.999550   \n",
       "4                                 11.953070   \n",
       "\n",
       "   secondary_cleaner.state.floatbank4_b_level  \\\n",
       "0                                 -504.715942   \n",
       "1                                 -501.331529   \n",
       "2                                 -501.133383   \n",
       "3                                 -501.193686   \n",
       "4                                 -501.053894   \n",
       "\n",
       "   secondary_cleaner.state.floatbank5_a_air  \\\n",
       "0                                  9.925633   \n",
       "1                                 10.039245   \n",
       "2                                 10.070913   \n",
       "3                                  9.970366   \n",
       "4                                  9.925709   \n",
       "\n",
       "   secondary_cleaner.state.floatbank5_a_level  \\\n",
       "0                                 -498.310211   \n",
       "1                                 -500.169983   \n",
       "2                                 -500.129135   \n",
       "3                                 -499.201640   \n",
       "4                                 -501.686727   \n",
       "\n",
       "   secondary_cleaner.state.floatbank5_b_air  \\\n",
       "0                                  8.079666   \n",
       "1                                  7.984757   \n",
       "2                                  8.013877   \n",
       "3                                  7.977324   \n",
       "4                                  7.894242   \n",
       "\n",
       "   secondary_cleaner.state.floatbank5_b_level  \\\n",
       "0                                 -500.470978   \n",
       "1                                 -500.582168   \n",
       "2                                 -500.517572   \n",
       "3                                 -500.255908   \n",
       "4                                 -500.356035   \n",
       "\n",
       "   secondary_cleaner.state.floatbank6_a_air  \\\n",
       "0                                 14.151341   \n",
       "1                                 13.998353   \n",
       "2                                 14.028663   \n",
       "3                                 14.005551   \n",
       "4                                 13.996647   \n",
       "\n",
       "   secondary_cleaner.state.floatbank6_a_level  \n",
       "0                                 -605.841980  \n",
       "1                                 -599.787184  \n",
       "2                                 -601.427363  \n",
       "3                                 -599.996129  \n",
       "4                                 -601.496691  \n",
       "\n",
       "[5 rows x 87 columns]"
      ]
     },
     "metadata": {},
     "output_type": "display_data"
    },
    {
     "name": "stdout",
     "output_type": "stream",
     "text": [
      "<class 'pandas.core.frame.DataFrame'>\n",
      "RangeIndex: 19439 entries, 0 to 19438\n",
      "Data columns (total 87 columns):\n",
      "date                                                  19439 non-null object\n",
      "final.output.concentrate_ag                           19438 non-null float64\n",
      "final.output.concentrate_pb                           19438 non-null float64\n",
      "final.output.concentrate_sol                          19228 non-null float64\n",
      "final.output.concentrate_au                           19439 non-null float64\n",
      "final.output.recovery                                 19439 non-null float64\n",
      "final.output.tail_ag                                  19438 non-null float64\n",
      "final.output.tail_pb                                  19338 non-null float64\n",
      "final.output.tail_sol                                 19433 non-null float64\n",
      "final.output.tail_au                                  19439 non-null float64\n",
      "primary_cleaner.input.sulfate                         19415 non-null float64\n",
      "primary_cleaner.input.depressant                      19402 non-null float64\n",
      "primary_cleaner.input.feed_size                       19439 non-null float64\n",
      "primary_cleaner.input.xanthate                        19335 non-null float64\n",
      "primary_cleaner.output.concentrate_ag                 19439 non-null float64\n",
      "primary_cleaner.output.concentrate_pb                 19323 non-null float64\n",
      "primary_cleaner.output.concentrate_sol                19069 non-null float64\n",
      "primary_cleaner.output.concentrate_au                 19439 non-null float64\n",
      "primary_cleaner.output.tail_ag                        19435 non-null float64\n",
      "primary_cleaner.output.tail_pb                        19418 non-null float64\n",
      "primary_cleaner.output.tail_sol                       19377 non-null float64\n",
      "primary_cleaner.output.tail_au                        19439 non-null float64\n",
      "primary_cleaner.state.floatbank8_a_air                19435 non-null float64\n",
      "primary_cleaner.state.floatbank8_a_level              19438 non-null float64\n",
      "primary_cleaner.state.floatbank8_b_air                19435 non-null float64\n",
      "primary_cleaner.state.floatbank8_b_level              19438 non-null float64\n",
      "primary_cleaner.state.floatbank8_c_air                19437 non-null float64\n",
      "primary_cleaner.state.floatbank8_c_level              19438 non-null float64\n",
      "primary_cleaner.state.floatbank8_d_air                19436 non-null float64\n",
      "primary_cleaner.state.floatbank8_d_level              19438 non-null float64\n",
      "rougher.calculation.sulfate_to_au_concentrate         19437 non-null float64\n",
      "rougher.calculation.floatbank10_sulfate_to_au_feed    19437 non-null float64\n",
      "rougher.calculation.floatbank11_sulfate_to_au_feed    19437 non-null float64\n",
      "rougher.calculation.au_pb_ratio                       19439 non-null float64\n",
      "rougher.input.feed_ag                                 19439 non-null float64\n",
      "rougher.input.feed_pb                                 19339 non-null float64\n",
      "rougher.input.feed_rate                               19428 non-null float64\n",
      "rougher.input.feed_size                               19294 non-null float64\n",
      "rougher.input.feed_sol                                19340 non-null float64\n",
      "rougher.input.feed_au                                 19439 non-null float64\n",
      "rougher.input.floatbank10_sulfate                     19405 non-null float64\n",
      "rougher.input.floatbank10_xanthate                    19431 non-null float64\n",
      "rougher.input.floatbank11_sulfate                     19395 non-null float64\n",
      "rougher.input.floatbank11_xanthate                    18986 non-null float64\n",
      "rougher.output.concentrate_ag                         19439 non-null float64\n",
      "rougher.output.concentrate_pb                         19439 non-null float64\n",
      "rougher.output.concentrate_sol                        19416 non-null float64\n",
      "rougher.output.concentrate_au                         19439 non-null float64\n",
      "rougher.output.recovery                               19439 non-null float64\n",
      "rougher.output.tail_ag                                19438 non-null float64\n",
      "rougher.output.tail_pb                                19439 non-null float64\n",
      "rougher.output.tail_sol                               19439 non-null float64\n",
      "rougher.output.tail_au                                19439 non-null float64\n",
      "rougher.state.floatbank10_a_air                       19438 non-null float64\n",
      "rougher.state.floatbank10_a_level                     19438 non-null float64\n",
      "rougher.state.floatbank10_b_air                       19438 non-null float64\n",
      "rougher.state.floatbank10_b_level                     19438 non-null float64\n",
      "rougher.state.floatbank10_c_air                       19438 non-null float64\n",
      "rougher.state.floatbank10_c_level                     19438 non-null float64\n",
      "rougher.state.floatbank10_d_air                       19439 non-null float64\n",
      "rougher.state.floatbank10_d_level                     19439 non-null float64\n",
      "rougher.state.floatbank10_e_air                       19003 non-null float64\n",
      "rougher.state.floatbank10_e_level                     19439 non-null float64\n",
      "rougher.state.floatbank10_f_air                       19439 non-null float64\n",
      "rougher.state.floatbank10_f_level                     19439 non-null float64\n",
      "secondary_cleaner.output.tail_ag                      19437 non-null float64\n",
      "secondary_cleaner.output.tail_pb                      19427 non-null float64\n",
      "secondary_cleaner.output.tail_sol                     17691 non-null float64\n",
      "secondary_cleaner.output.tail_au                      19439 non-null float64\n",
      "secondary_cleaner.state.floatbank2_a_air              19219 non-null float64\n",
      "secondary_cleaner.state.floatbank2_a_level            19438 non-null float64\n",
      "secondary_cleaner.state.floatbank2_b_air              19416 non-null float64\n",
      "secondary_cleaner.state.floatbank2_b_level            19438 non-null float64\n",
      "secondary_cleaner.state.floatbank3_a_air              19426 non-null float64\n",
      "secondary_cleaner.state.floatbank3_a_level            19438 non-null float64\n",
      "secondary_cleaner.state.floatbank3_b_air              19438 non-null float64\n",
      "secondary_cleaner.state.floatbank3_b_level            19438 non-null float64\n",
      "secondary_cleaner.state.floatbank4_a_air              19433 non-null float64\n",
      "secondary_cleaner.state.floatbank4_a_level            19438 non-null float64\n",
      "secondary_cleaner.state.floatbank4_b_air              19438 non-null float64\n",
      "secondary_cleaner.state.floatbank4_b_level            19438 non-null float64\n",
      "secondary_cleaner.state.floatbank5_a_air              19438 non-null float64\n",
      "secondary_cleaner.state.floatbank5_a_level            19438 non-null float64\n",
      "secondary_cleaner.state.floatbank5_b_air              19438 non-null float64\n",
      "secondary_cleaner.state.floatbank5_b_level            19438 non-null float64\n",
      "secondary_cleaner.state.floatbank6_a_air              19437 non-null float64\n",
      "secondary_cleaner.state.floatbank6_a_level            19438 non-null float64\n",
      "dtypes: float64(86), object(1)\n",
      "memory usage: 12.9+ MB\n",
      "\n",
      "Количество пропущенных значений в датасете: gold_full\n"
     ]
    },
    {
     "data": {
      "text/html": [
       "<div>\n",
       "<style scoped>\n",
       "    .dataframe tbody tr th:only-of-type {\n",
       "        vertical-align: middle;\n",
       "    }\n",
       "\n",
       "    .dataframe tbody tr th {\n",
       "        vertical-align: top;\n",
       "    }\n",
       "\n",
       "    .dataframe thead th {\n",
       "        text-align: right;\n",
       "    }\n",
       "</style>\n",
       "<table border=\"1\" class=\"dataframe\">\n",
       "  <thead>\n",
       "    <tr style=\"text-align: right;\">\n",
       "      <th></th>\n",
       "      <th>missing_values</th>\n",
       "      <th>% of total</th>\n",
       "    </tr>\n",
       "  </thead>\n",
       "  <tbody>\n",
       "    <tr>\n",
       "      <td>secondary_cleaner.output.tail_sol</td>\n",
       "      <td>1748</td>\n",
       "      <td>8.99</td>\n",
       "    </tr>\n",
       "    <tr>\n",
       "      <td>rougher.input.floatbank11_xanthate</td>\n",
       "      <td>453</td>\n",
       "      <td>2.33</td>\n",
       "    </tr>\n",
       "    <tr>\n",
       "      <td>rougher.state.floatbank10_e_air</td>\n",
       "      <td>436</td>\n",
       "      <td>2.24</td>\n",
       "    </tr>\n",
       "    <tr>\n",
       "      <td>primary_cleaner.output.concentrate_sol</td>\n",
       "      <td>370</td>\n",
       "      <td>1.90</td>\n",
       "    </tr>\n",
       "    <tr>\n",
       "      <td>secondary_cleaner.state.floatbank2_a_air</td>\n",
       "      <td>220</td>\n",
       "      <td>1.13</td>\n",
       "    </tr>\n",
       "    <tr>\n",
       "      <td>...</td>\n",
       "      <td>...</td>\n",
       "      <td>...</td>\n",
       "    </tr>\n",
       "    <tr>\n",
       "      <td>rougher.state.floatbank10_d_level</td>\n",
       "      <td>0</td>\n",
       "      <td>0.00</td>\n",
       "    </tr>\n",
       "    <tr>\n",
       "      <td>rougher.state.floatbank10_d_air</td>\n",
       "      <td>0</td>\n",
       "      <td>0.00</td>\n",
       "    </tr>\n",
       "    <tr>\n",
       "      <td>rougher.output.tail_pb</td>\n",
       "      <td>0</td>\n",
       "      <td>0.00</td>\n",
       "    </tr>\n",
       "    <tr>\n",
       "      <td>rougher.output.tail_sol</td>\n",
       "      <td>0</td>\n",
       "      <td>0.00</td>\n",
       "    </tr>\n",
       "    <tr>\n",
       "      <td>date</td>\n",
       "      <td>0</td>\n",
       "      <td>0.00</td>\n",
       "    </tr>\n",
       "  </tbody>\n",
       "</table>\n",
       "<p>87 rows × 2 columns</p>\n",
       "</div>"
      ],
      "text/plain": [
       "                                          missing_values  % of total\n",
       "secondary_cleaner.output.tail_sol                   1748        8.99\n",
       "rougher.input.floatbank11_xanthate                   453        2.33\n",
       "rougher.state.floatbank10_e_air                      436        2.24\n",
       "primary_cleaner.output.concentrate_sol               370        1.90\n",
       "secondary_cleaner.state.floatbank2_a_air             220        1.13\n",
       "...                                                  ...         ...\n",
       "rougher.state.floatbank10_d_level                      0        0.00\n",
       "rougher.state.floatbank10_d_air                        0        0.00\n",
       "rougher.output.tail_pb                                 0        0.00\n",
       "rougher.output.tail_sol                                0        0.00\n",
       "date                                                   0        0.00\n",
       "\n",
       "[87 rows x 2 columns]"
      ]
     },
     "metadata": {},
     "output_type": "display_data"
    },
    {
     "name": "stdout",
     "output_type": "stream",
     "text": [
      "\n"
     ]
    }
   ],
   "source": [
    "for idx, dataset in enumerate(data):\n",
    "    print('---------------///////////---------------')\n",
    "    print(f'Сводная информация о датасете: {data_names[idx]}') \n",
    "    print(f'Количество полных дубликатов: {dataset.duplicated().sum()}')\n",
    "    print(f'Размер датасета: {dataset.shape}')\n",
    "    display(dataset.head())\n",
    "    dataset.info()\n",
    "    print()\n",
    "    print(f'Количество пропущенных значений в датасете: {data_names[idx]}')\n",
    "    missed = dataset.isna().sum().to_frame()\n",
    "    missed = missed.rename(columns = {0: 'missing_values'})\n",
    "    missed['% of total'] = ((missed['missing_values'] / dataset.shape[0])*100).round(2)\n",
    "    display(missed.sort_values(by = 'missing_values', ascending = False))\n",
    "    print()"
   ]
  },
  {
   "cell_type": "markdown",
   "metadata": {},
   "source": [
    "**Вывод по первичному изучению данных:**\n",
    "1. Перед нами три датасета: с исходными данными, обучающей и тестовой выборкой. В исходном и обучающем по 87 колонок, в тестовом их только 53. По условиям мы знаем, что в тестовой выборке отсутствуют целевые признаки (не хватает 34 колонок), далее мы будем отдельно анализировать их.\n",
    "2. Обнаружен некорректный тип данных в столбцах date, необходимо перевести их в формат даты. Остальные данные имеют формат float, в рамках задачи это кажется верным.\n",
    "3. Ни в одном из датасетов не имеется строк с полными дубликатами.\n",
    "4. Обнаружен ряд пропусков. Наименьшее количество - в тестовой выборке (в основном сотые доли процента, в паре столбов - приближается к 0.5%). В остальных двух больше всего пропусков выявлено в столбце secondary_cleaner.output.tail_sol, также есть пропуски и среди других признаков. Далее будем рассматривать их подробнее и пробовать заполнить."
   ]
  },
  {
   "cell_type": "markdown",
   "metadata": {},
   "source": [
    "<a id='1.2'></a>\n",
    "### Проверка расчета эффективности обогащения"
   ]
  },
  {
   "cell_type": "markdown",
   "metadata": {},
   "source": [
    "По условиям проекта нам необходимо проверить, что эффективность обогащения рассчитана правильно. Для этого вычислим ее на обучающей выборке для признака rougher.output.recovery, а затем найдем MAE между расчетным значением и фактическим значением признака."
   ]
  },
  {
   "cell_type": "code",
   "execution_count": 5,
   "metadata": {},
   "outputs": [
    {
     "data": {
      "text/plain": [
       "count    14149.000000\n",
       "mean        82.704502\n",
       "std         14.479156\n",
       "min          0.000000\n",
       "25%         79.993067\n",
       "50%         85.299462\n",
       "75%         90.165021\n",
       "max        100.000000\n",
       "Name: rougher.output.recovery, dtype: float64"
      ]
     },
     "execution_count": 5,
     "metadata": {},
     "output_type": "execute_result"
    }
   ],
   "source": [
    "#Проверим, какие значения принимает признак в обучающей выборке\n",
    "train['rougher.output.recovery'].describe()"
   ]
  },
  {
   "cell_type": "markdown",
   "metadata": {},
   "source": [
    "Значения выглядят правдоподобно - от 0 до 100%. Судя по первичному анализу, пропуски отсутствуют"
   ]
  },
  {
   "cell_type": "markdown",
   "metadata": {},
   "source": [
    "Формула для расчета эффективности обогащения:\n",
    "$$\n",
    "\\mathbf{Recovery} = \\frac{C * (F - T)}{F * (C - T)} * 100\\%\n",
    "$$"
   ]
  },
  {
   "cell_type": "markdown",
   "metadata": {},
   "source": [
    "где:\n",
    "С - доля золота в концентрате после флотации/очистки;\n",
    "F — доля золота в сырье/концентрате до флотации/очистки;\n",
    "T — доля золота в отвальных хвостах после флотации/очистки"
   ]
  },
  {
   "cell_type": "code",
   "execution_count": 6,
   "metadata": {},
   "outputs": [
    {
     "data": {
      "text/plain": [
       "count    14149.000000\n",
       "mean        82.704502\n",
       "std         14.479156\n",
       "min         -0.000000\n",
       "25%         79.993067\n",
       "50%         85.299462\n",
       "75%         90.165021\n",
       "max        100.000000\n",
       "Name: rougher.output.recovery_calc, dtype: float64"
      ]
     },
     "execution_count": 6,
     "metadata": {},
     "output_type": "execute_result"
    }
   ],
   "source": [
    "#Рассчитаем эффективность обогащения для обучающей выборки\n",
    "C = train['rougher.output.concentrate_au']\n",
    "F = train['rougher.input.feed_au']\n",
    "T = train['rougher.output.tail_au']\n",
    "train['rougher.output.recovery_calc'] = (C * (F - T) ) / (F * (C - T)) * 100\n",
    "\n",
    "#Проверим, какие значения принимает расчитанный признак в обучающей выборке\n",
    "train['rougher.output.recovery_calc'].describe()"
   ]
  },
  {
   "cell_type": "markdown",
   "metadata": {},
   "source": [
    "Здесь получаем разброс значений от 0 до 100, все реалистично"
   ]
  },
  {
   "cell_type": "code",
   "execution_count": 7,
   "metadata": {},
   "outputs": [
    {
     "name": "stdout",
     "output_type": "stream",
     "text": [
      "Среднее абсолютное отклонение МАЕ для показателей эффективности обогащения составляет:  9.682896147825551e-15\n"
     ]
    }
   ],
   "source": [
    "#Рассчитаем MAE на основе расчетного и фактического показателей эффективности обогащения\n",
    "mae = mean_absolute_error(train['rougher.output.recovery_calc'], train['rougher.output.recovery'])\n",
    "print('Среднее абсолютное отклонение МАЕ для показателей эффективности обогащения составляет: ', mae)\n"
   ]
  },
  {
   "cell_type": "code",
   "execution_count": 8,
   "metadata": {},
   "outputs": [],
   "source": [
    "#Колонку с расчетнымми данными теперь можно удалить за ненадобностью\n",
    "train = train.drop('rougher.output.recovery_calc', axis=1)"
   ]
  },
  {
   "cell_type": "markdown",
   "metadata": {},
   "source": [
    "**Вывод.** Значение среднего абсолютного отклонения между расчетными и табличными данными очень близко к нулю. Это означает, что данные об эффективности обогащения золота, содержащиеся в обучающей выборке, можно считать точными. "
   ]
  },
  {
   "cell_type": "markdown",
   "metadata": {},
   "source": [
    "<a id='1.3'></a>\n",
    "### Анализ признаков, недоступных в тестовой выборке"
   ]
  },
  {
   "cell_type": "code",
   "execution_count": 9,
   "metadata": {},
   "outputs": [
    {
     "data": {
      "text/plain": [
       "{'final.output.concentrate_ag',\n",
       " 'final.output.concentrate_au',\n",
       " 'final.output.concentrate_pb',\n",
       " 'final.output.concentrate_sol',\n",
       " 'final.output.recovery',\n",
       " 'final.output.tail_ag',\n",
       " 'final.output.tail_au',\n",
       " 'final.output.tail_pb',\n",
       " 'final.output.tail_sol',\n",
       " 'primary_cleaner.output.concentrate_ag',\n",
       " 'primary_cleaner.output.concentrate_au',\n",
       " 'primary_cleaner.output.concentrate_pb',\n",
       " 'primary_cleaner.output.concentrate_sol',\n",
       " 'primary_cleaner.output.tail_ag',\n",
       " 'primary_cleaner.output.tail_au',\n",
       " 'primary_cleaner.output.tail_pb',\n",
       " 'primary_cleaner.output.tail_sol',\n",
       " 'rougher.calculation.au_pb_ratio',\n",
       " 'rougher.calculation.floatbank10_sulfate_to_au_feed',\n",
       " 'rougher.calculation.floatbank11_sulfate_to_au_feed',\n",
       " 'rougher.calculation.sulfate_to_au_concentrate',\n",
       " 'rougher.output.concentrate_ag',\n",
       " 'rougher.output.concentrate_au',\n",
       " 'rougher.output.concentrate_pb',\n",
       " 'rougher.output.concentrate_sol',\n",
       " 'rougher.output.recovery',\n",
       " 'rougher.output.tail_ag',\n",
       " 'rougher.output.tail_au',\n",
       " 'rougher.output.tail_pb',\n",
       " 'rougher.output.tail_sol',\n",
       " 'secondary_cleaner.output.tail_ag',\n",
       " 'secondary_cleaner.output.tail_au',\n",
       " 'secondary_cleaner.output.tail_pb',\n",
       " 'secondary_cleaner.output.tail_sol'}"
      ]
     },
     "execution_count": 9,
     "metadata": {},
     "output_type": "execute_result"
    }
   ],
   "source": [
    "#Выведем список из 34 признаков, отсутствующих в тестовой выборке\n",
    "missing_features = set(train.columns) - set(test.columns)\n",
    "missing_features"
   ]
  },
  {
   "cell_type": "markdown",
   "metadata": {},
   "source": [
    "**Вывод.** Видим, что в тестовой выборке отсутствуют колонки с типами output и calculation, в которых содержится информация о расчетных характеристиках и параметрах продукта на выходе после следующих этапов обработки: final, primary, rougher, secondary_cleaner.  \n",
    "\n",
    "Очевидно, эти данные намеренно исключены из тестовой выборки, поскольку их невозможно извлечь в процессе выполнения технологических процессов, а значит, они могут повлиять на качество обучаемой модели. Поэтому будет лучше удалить их и из обучающей выборки тоже.  \n",
    "\n",
    "Также можно отметить, что в тестовой выборке уже отсутствуют и целевые признаки (rougher.output.recovery и final.output.recovery)"
   ]
  },
  {
   "cell_type": "code",
   "execution_count": 10,
   "metadata": {},
   "outputs": [],
   "source": [
    "#Удалим из обучающей выборки отсутствующие в тестовой колонки\n",
    "train.drop(missing_features, axis=1, inplace=True)"
   ]
  },
  {
   "cell_type": "markdown",
   "metadata": {},
   "source": [
    "<a id='1.4'></a>\n",
    "### Предобработка данных"
   ]
  },
  {
   "cell_type": "code",
   "execution_count": 11,
   "metadata": {},
   "outputs": [],
   "source": [
    "#Приведем колонки с датами к корректному формату\n",
    "for dataset in data:\n",
    "    dataset['date'] = pd.to_datetime(dataset['date'],format='%Y-%m-%d %H:%M:%S')"
   ]
  },
  {
   "cell_type": "markdown",
   "metadata": {},
   "source": [
    "После манипуляций с отсутствующими признаками количество пропусков в обучающей выборке уменьшилось.   \n",
    "\n",
    "Из условия нам известно, что соседние по времени параметры часто очень похожи, поэтому мы можем заполнить оставшиеся пропуски, используя это знание, на основе данных из соседних ячеек (предыдущего по времени наблюдения)."
   ]
  },
  {
   "cell_type": "code",
   "execution_count": 12,
   "metadata": {},
   "outputs": [],
   "source": [
    "train['date'] = pd.to_datetime(train['date'],format='%Y-%m-%d %H:%M:%S')"
   ]
  },
  {
   "cell_type": "code",
   "execution_count": 13,
   "metadata": {},
   "outputs": [],
   "source": [
    "train = train.fillna(method='ffill', axis = 0)\n",
    "test = test.fillna(method='ffill', axis = 0)"
   ]
  },
  {
   "cell_type": "code",
   "execution_count": 14,
   "metadata": {},
   "outputs": [],
   "source": [
    "#Перезапишем словарь с именами датасетов для дальнейшего использования в циклах\n",
    "data = [train, test, full]\n",
    "data_names = ['gold_train', 'gold_test', 'gold_full']"
   ]
  },
  {
   "cell_type": "code",
   "execution_count": 15,
   "metadata": {
    "scrolled": false
   },
   "outputs": [
    {
     "name": "stdout",
     "output_type": "stream",
     "text": [
      "---------------///////////---------------\n",
      "Количество пропущенных значений в датасете: gold_train\n"
     ]
    },
    {
     "data": {
      "text/html": [
       "<div>\n",
       "<style scoped>\n",
       "    .dataframe tbody tr th:only-of-type {\n",
       "        vertical-align: middle;\n",
       "    }\n",
       "\n",
       "    .dataframe tbody tr th {\n",
       "        vertical-align: top;\n",
       "    }\n",
       "\n",
       "    .dataframe thead th {\n",
       "        text-align: right;\n",
       "    }\n",
       "</style>\n",
       "<table border=\"1\" class=\"dataframe\">\n",
       "  <thead>\n",
       "    <tr style=\"text-align: right;\">\n",
       "      <th></th>\n",
       "      <th>missing_values</th>\n",
       "      <th>% of total</th>\n",
       "    </tr>\n",
       "  </thead>\n",
       "  <tbody>\n",
       "    <tr>\n",
       "      <td>date</td>\n",
       "      <td>0</td>\n",
       "      <td>0.0</td>\n",
       "    </tr>\n",
       "    <tr>\n",
       "      <td>rougher.state.floatbank10_c_air</td>\n",
       "      <td>0</td>\n",
       "      <td>0.0</td>\n",
       "    </tr>\n",
       "    <tr>\n",
       "      <td>rougher.state.floatbank10_d_air</td>\n",
       "      <td>0</td>\n",
       "      <td>0.0</td>\n",
       "    </tr>\n",
       "    <tr>\n",
       "      <td>rougher.state.floatbank10_d_level</td>\n",
       "      <td>0</td>\n",
       "      <td>0.0</td>\n",
       "    </tr>\n",
       "    <tr>\n",
       "      <td>rougher.state.floatbank10_e_air</td>\n",
       "      <td>0</td>\n",
       "      <td>0.0</td>\n",
       "    </tr>\n",
       "    <tr>\n",
       "      <td>rougher.state.floatbank10_e_level</td>\n",
       "      <td>0</td>\n",
       "      <td>0.0</td>\n",
       "    </tr>\n",
       "    <tr>\n",
       "      <td>rougher.state.floatbank10_f_air</td>\n",
       "      <td>0</td>\n",
       "      <td>0.0</td>\n",
       "    </tr>\n",
       "    <tr>\n",
       "      <td>rougher.state.floatbank10_f_level</td>\n",
       "      <td>0</td>\n",
       "      <td>0.0</td>\n",
       "    </tr>\n",
       "    <tr>\n",
       "      <td>secondary_cleaner.state.floatbank2_a_air</td>\n",
       "      <td>0</td>\n",
       "      <td>0.0</td>\n",
       "    </tr>\n",
       "    <tr>\n",
       "      <td>secondary_cleaner.state.floatbank2_a_level</td>\n",
       "      <td>0</td>\n",
       "      <td>0.0</td>\n",
       "    </tr>\n",
       "    <tr>\n",
       "      <td>secondary_cleaner.state.floatbank2_b_air</td>\n",
       "      <td>0</td>\n",
       "      <td>0.0</td>\n",
       "    </tr>\n",
       "    <tr>\n",
       "      <td>secondary_cleaner.state.floatbank2_b_level</td>\n",
       "      <td>0</td>\n",
       "      <td>0.0</td>\n",
       "    </tr>\n",
       "    <tr>\n",
       "      <td>secondary_cleaner.state.floatbank3_a_air</td>\n",
       "      <td>0</td>\n",
       "      <td>0.0</td>\n",
       "    </tr>\n",
       "    <tr>\n",
       "      <td>secondary_cleaner.state.floatbank3_a_level</td>\n",
       "      <td>0</td>\n",
       "      <td>0.0</td>\n",
       "    </tr>\n",
       "    <tr>\n",
       "      <td>secondary_cleaner.state.floatbank3_b_air</td>\n",
       "      <td>0</td>\n",
       "      <td>0.0</td>\n",
       "    </tr>\n",
       "    <tr>\n",
       "      <td>secondary_cleaner.state.floatbank3_b_level</td>\n",
       "      <td>0</td>\n",
       "      <td>0.0</td>\n",
       "    </tr>\n",
       "    <tr>\n",
       "      <td>secondary_cleaner.state.floatbank4_a_air</td>\n",
       "      <td>0</td>\n",
       "      <td>0.0</td>\n",
       "    </tr>\n",
       "    <tr>\n",
       "      <td>secondary_cleaner.state.floatbank4_a_level</td>\n",
       "      <td>0</td>\n",
       "      <td>0.0</td>\n",
       "    </tr>\n",
       "    <tr>\n",
       "      <td>secondary_cleaner.state.floatbank4_b_air</td>\n",
       "      <td>0</td>\n",
       "      <td>0.0</td>\n",
       "    </tr>\n",
       "    <tr>\n",
       "      <td>secondary_cleaner.state.floatbank4_b_level</td>\n",
       "      <td>0</td>\n",
       "      <td>0.0</td>\n",
       "    </tr>\n",
       "    <tr>\n",
       "      <td>secondary_cleaner.state.floatbank5_a_air</td>\n",
       "      <td>0</td>\n",
       "      <td>0.0</td>\n",
       "    </tr>\n",
       "    <tr>\n",
       "      <td>secondary_cleaner.state.floatbank5_a_level</td>\n",
       "      <td>0</td>\n",
       "      <td>0.0</td>\n",
       "    </tr>\n",
       "    <tr>\n",
       "      <td>secondary_cleaner.state.floatbank5_b_air</td>\n",
       "      <td>0</td>\n",
       "      <td>0.0</td>\n",
       "    </tr>\n",
       "    <tr>\n",
       "      <td>secondary_cleaner.state.floatbank5_b_level</td>\n",
       "      <td>0</td>\n",
       "      <td>0.0</td>\n",
       "    </tr>\n",
       "    <tr>\n",
       "      <td>secondary_cleaner.state.floatbank6_a_air</td>\n",
       "      <td>0</td>\n",
       "      <td>0.0</td>\n",
       "    </tr>\n",
       "    <tr>\n",
       "      <td>rougher.state.floatbank10_c_level</td>\n",
       "      <td>0</td>\n",
       "      <td>0.0</td>\n",
       "    </tr>\n",
       "    <tr>\n",
       "      <td>rougher.state.floatbank10_b_level</td>\n",
       "      <td>0</td>\n",
       "      <td>0.0</td>\n",
       "    </tr>\n",
       "    <tr>\n",
       "      <td>primary_cleaner.input.sulfate</td>\n",
       "      <td>0</td>\n",
       "      <td>0.0</td>\n",
       "    </tr>\n",
       "    <tr>\n",
       "      <td>rougher.state.floatbank10_b_air</td>\n",
       "      <td>0</td>\n",
       "      <td>0.0</td>\n",
       "    </tr>\n",
       "    <tr>\n",
       "      <td>primary_cleaner.input.depressant</td>\n",
       "      <td>0</td>\n",
       "      <td>0.0</td>\n",
       "    </tr>\n",
       "    <tr>\n",
       "      <td>primary_cleaner.input.feed_size</td>\n",
       "      <td>0</td>\n",
       "      <td>0.0</td>\n",
       "    </tr>\n",
       "    <tr>\n",
       "      <td>primary_cleaner.input.xanthate</td>\n",
       "      <td>0</td>\n",
       "      <td>0.0</td>\n",
       "    </tr>\n",
       "    <tr>\n",
       "      <td>primary_cleaner.state.floatbank8_a_air</td>\n",
       "      <td>0</td>\n",
       "      <td>0.0</td>\n",
       "    </tr>\n",
       "    <tr>\n",
       "      <td>primary_cleaner.state.floatbank8_a_level</td>\n",
       "      <td>0</td>\n",
       "      <td>0.0</td>\n",
       "    </tr>\n",
       "    <tr>\n",
       "      <td>primary_cleaner.state.floatbank8_b_air</td>\n",
       "      <td>0</td>\n",
       "      <td>0.0</td>\n",
       "    </tr>\n",
       "    <tr>\n",
       "      <td>primary_cleaner.state.floatbank8_b_level</td>\n",
       "      <td>0</td>\n",
       "      <td>0.0</td>\n",
       "    </tr>\n",
       "    <tr>\n",
       "      <td>primary_cleaner.state.floatbank8_c_air</td>\n",
       "      <td>0</td>\n",
       "      <td>0.0</td>\n",
       "    </tr>\n",
       "    <tr>\n",
       "      <td>primary_cleaner.state.floatbank8_c_level</td>\n",
       "      <td>0</td>\n",
       "      <td>0.0</td>\n",
       "    </tr>\n",
       "    <tr>\n",
       "      <td>primary_cleaner.state.floatbank8_d_air</td>\n",
       "      <td>0</td>\n",
       "      <td>0.0</td>\n",
       "    </tr>\n",
       "    <tr>\n",
       "      <td>primary_cleaner.state.floatbank8_d_level</td>\n",
       "      <td>0</td>\n",
       "      <td>0.0</td>\n",
       "    </tr>\n",
       "    <tr>\n",
       "      <td>rougher.input.feed_ag</td>\n",
       "      <td>0</td>\n",
       "      <td>0.0</td>\n",
       "    </tr>\n",
       "    <tr>\n",
       "      <td>rougher.input.feed_pb</td>\n",
       "      <td>0</td>\n",
       "      <td>0.0</td>\n",
       "    </tr>\n",
       "    <tr>\n",
       "      <td>rougher.input.feed_rate</td>\n",
       "      <td>0</td>\n",
       "      <td>0.0</td>\n",
       "    </tr>\n",
       "    <tr>\n",
       "      <td>rougher.input.feed_size</td>\n",
       "      <td>0</td>\n",
       "      <td>0.0</td>\n",
       "    </tr>\n",
       "    <tr>\n",
       "      <td>rougher.input.feed_sol</td>\n",
       "      <td>0</td>\n",
       "      <td>0.0</td>\n",
       "    </tr>\n",
       "    <tr>\n",
       "      <td>rougher.input.feed_au</td>\n",
       "      <td>0</td>\n",
       "      <td>0.0</td>\n",
       "    </tr>\n",
       "    <tr>\n",
       "      <td>rougher.input.floatbank10_sulfate</td>\n",
       "      <td>0</td>\n",
       "      <td>0.0</td>\n",
       "    </tr>\n",
       "    <tr>\n",
       "      <td>rougher.input.floatbank10_xanthate</td>\n",
       "      <td>0</td>\n",
       "      <td>0.0</td>\n",
       "    </tr>\n",
       "    <tr>\n",
       "      <td>rougher.input.floatbank11_sulfate</td>\n",
       "      <td>0</td>\n",
       "      <td>0.0</td>\n",
       "    </tr>\n",
       "    <tr>\n",
       "      <td>rougher.input.floatbank11_xanthate</td>\n",
       "      <td>0</td>\n",
       "      <td>0.0</td>\n",
       "    </tr>\n",
       "    <tr>\n",
       "      <td>rougher.state.floatbank10_a_air</td>\n",
       "      <td>0</td>\n",
       "      <td>0.0</td>\n",
       "    </tr>\n",
       "    <tr>\n",
       "      <td>rougher.state.floatbank10_a_level</td>\n",
       "      <td>0</td>\n",
       "      <td>0.0</td>\n",
       "    </tr>\n",
       "    <tr>\n",
       "      <td>secondary_cleaner.state.floatbank6_a_level</td>\n",
       "      <td>0</td>\n",
       "      <td>0.0</td>\n",
       "    </tr>\n",
       "  </tbody>\n",
       "</table>\n",
       "</div>"
      ],
      "text/plain": [
       "                                            missing_values  % of total\n",
       "date                                                     0         0.0\n",
       "rougher.state.floatbank10_c_air                          0         0.0\n",
       "rougher.state.floatbank10_d_air                          0         0.0\n",
       "rougher.state.floatbank10_d_level                        0         0.0\n",
       "rougher.state.floatbank10_e_air                          0         0.0\n",
       "rougher.state.floatbank10_e_level                        0         0.0\n",
       "rougher.state.floatbank10_f_air                          0         0.0\n",
       "rougher.state.floatbank10_f_level                        0         0.0\n",
       "secondary_cleaner.state.floatbank2_a_air                 0         0.0\n",
       "secondary_cleaner.state.floatbank2_a_level               0         0.0\n",
       "secondary_cleaner.state.floatbank2_b_air                 0         0.0\n",
       "secondary_cleaner.state.floatbank2_b_level               0         0.0\n",
       "secondary_cleaner.state.floatbank3_a_air                 0         0.0\n",
       "secondary_cleaner.state.floatbank3_a_level               0         0.0\n",
       "secondary_cleaner.state.floatbank3_b_air                 0         0.0\n",
       "secondary_cleaner.state.floatbank3_b_level               0         0.0\n",
       "secondary_cleaner.state.floatbank4_a_air                 0         0.0\n",
       "secondary_cleaner.state.floatbank4_a_level               0         0.0\n",
       "secondary_cleaner.state.floatbank4_b_air                 0         0.0\n",
       "secondary_cleaner.state.floatbank4_b_level               0         0.0\n",
       "secondary_cleaner.state.floatbank5_a_air                 0         0.0\n",
       "secondary_cleaner.state.floatbank5_a_level               0         0.0\n",
       "secondary_cleaner.state.floatbank5_b_air                 0         0.0\n",
       "secondary_cleaner.state.floatbank5_b_level               0         0.0\n",
       "secondary_cleaner.state.floatbank6_a_air                 0         0.0\n",
       "rougher.state.floatbank10_c_level                        0         0.0\n",
       "rougher.state.floatbank10_b_level                        0         0.0\n",
       "primary_cleaner.input.sulfate                            0         0.0\n",
       "rougher.state.floatbank10_b_air                          0         0.0\n",
       "primary_cleaner.input.depressant                         0         0.0\n",
       "primary_cleaner.input.feed_size                          0         0.0\n",
       "primary_cleaner.input.xanthate                           0         0.0\n",
       "primary_cleaner.state.floatbank8_a_air                   0         0.0\n",
       "primary_cleaner.state.floatbank8_a_level                 0         0.0\n",
       "primary_cleaner.state.floatbank8_b_air                   0         0.0\n",
       "primary_cleaner.state.floatbank8_b_level                 0         0.0\n",
       "primary_cleaner.state.floatbank8_c_air                   0         0.0\n",
       "primary_cleaner.state.floatbank8_c_level                 0         0.0\n",
       "primary_cleaner.state.floatbank8_d_air                   0         0.0\n",
       "primary_cleaner.state.floatbank8_d_level                 0         0.0\n",
       "rougher.input.feed_ag                                    0         0.0\n",
       "rougher.input.feed_pb                                    0         0.0\n",
       "rougher.input.feed_rate                                  0         0.0\n",
       "rougher.input.feed_size                                  0         0.0\n",
       "rougher.input.feed_sol                                   0         0.0\n",
       "rougher.input.feed_au                                    0         0.0\n",
       "rougher.input.floatbank10_sulfate                        0         0.0\n",
       "rougher.input.floatbank10_xanthate                       0         0.0\n",
       "rougher.input.floatbank11_sulfate                        0         0.0\n",
       "rougher.input.floatbank11_xanthate                       0         0.0\n",
       "rougher.state.floatbank10_a_air                          0         0.0\n",
       "rougher.state.floatbank10_a_level                        0         0.0\n",
       "secondary_cleaner.state.floatbank6_a_level               0         0.0"
      ]
     },
     "metadata": {},
     "output_type": "display_data"
    },
    {
     "data": {
      "text/plain": [
       "(14149, 53)"
      ]
     },
     "metadata": {},
     "output_type": "display_data"
    },
    {
     "name": "stdout",
     "output_type": "stream",
     "text": [
      "\n",
      "---------------///////////---------------\n",
      "Количество пропущенных значений в датасете: gold_test\n"
     ]
    },
    {
     "data": {
      "text/html": [
       "<div>\n",
       "<style scoped>\n",
       "    .dataframe tbody tr th:only-of-type {\n",
       "        vertical-align: middle;\n",
       "    }\n",
       "\n",
       "    .dataframe tbody tr th {\n",
       "        vertical-align: top;\n",
       "    }\n",
       "\n",
       "    .dataframe thead th {\n",
       "        text-align: right;\n",
       "    }\n",
       "</style>\n",
       "<table border=\"1\" class=\"dataframe\">\n",
       "  <thead>\n",
       "    <tr style=\"text-align: right;\">\n",
       "      <th></th>\n",
       "      <th>missing_values</th>\n",
       "      <th>% of total</th>\n",
       "    </tr>\n",
       "  </thead>\n",
       "  <tbody>\n",
       "    <tr>\n",
       "      <td>date</td>\n",
       "      <td>0</td>\n",
       "      <td>0.0</td>\n",
       "    </tr>\n",
       "    <tr>\n",
       "      <td>rougher.state.floatbank10_c_air</td>\n",
       "      <td>0</td>\n",
       "      <td>0.0</td>\n",
       "    </tr>\n",
       "    <tr>\n",
       "      <td>rougher.state.floatbank10_d_air</td>\n",
       "      <td>0</td>\n",
       "      <td>0.0</td>\n",
       "    </tr>\n",
       "    <tr>\n",
       "      <td>rougher.state.floatbank10_d_level</td>\n",
       "      <td>0</td>\n",
       "      <td>0.0</td>\n",
       "    </tr>\n",
       "    <tr>\n",
       "      <td>rougher.state.floatbank10_e_air</td>\n",
       "      <td>0</td>\n",
       "      <td>0.0</td>\n",
       "    </tr>\n",
       "    <tr>\n",
       "      <td>rougher.state.floatbank10_e_level</td>\n",
       "      <td>0</td>\n",
       "      <td>0.0</td>\n",
       "    </tr>\n",
       "    <tr>\n",
       "      <td>rougher.state.floatbank10_f_air</td>\n",
       "      <td>0</td>\n",
       "      <td>0.0</td>\n",
       "    </tr>\n",
       "    <tr>\n",
       "      <td>rougher.state.floatbank10_f_level</td>\n",
       "      <td>0</td>\n",
       "      <td>0.0</td>\n",
       "    </tr>\n",
       "    <tr>\n",
       "      <td>secondary_cleaner.state.floatbank2_a_air</td>\n",
       "      <td>0</td>\n",
       "      <td>0.0</td>\n",
       "    </tr>\n",
       "    <tr>\n",
       "      <td>secondary_cleaner.state.floatbank2_a_level</td>\n",
       "      <td>0</td>\n",
       "      <td>0.0</td>\n",
       "    </tr>\n",
       "    <tr>\n",
       "      <td>secondary_cleaner.state.floatbank2_b_air</td>\n",
       "      <td>0</td>\n",
       "      <td>0.0</td>\n",
       "    </tr>\n",
       "    <tr>\n",
       "      <td>secondary_cleaner.state.floatbank2_b_level</td>\n",
       "      <td>0</td>\n",
       "      <td>0.0</td>\n",
       "    </tr>\n",
       "    <tr>\n",
       "      <td>secondary_cleaner.state.floatbank3_a_air</td>\n",
       "      <td>0</td>\n",
       "      <td>0.0</td>\n",
       "    </tr>\n",
       "    <tr>\n",
       "      <td>secondary_cleaner.state.floatbank3_a_level</td>\n",
       "      <td>0</td>\n",
       "      <td>0.0</td>\n",
       "    </tr>\n",
       "    <tr>\n",
       "      <td>secondary_cleaner.state.floatbank3_b_air</td>\n",
       "      <td>0</td>\n",
       "      <td>0.0</td>\n",
       "    </tr>\n",
       "    <tr>\n",
       "      <td>secondary_cleaner.state.floatbank3_b_level</td>\n",
       "      <td>0</td>\n",
       "      <td>0.0</td>\n",
       "    </tr>\n",
       "    <tr>\n",
       "      <td>secondary_cleaner.state.floatbank4_a_air</td>\n",
       "      <td>0</td>\n",
       "      <td>0.0</td>\n",
       "    </tr>\n",
       "    <tr>\n",
       "      <td>secondary_cleaner.state.floatbank4_a_level</td>\n",
       "      <td>0</td>\n",
       "      <td>0.0</td>\n",
       "    </tr>\n",
       "    <tr>\n",
       "      <td>secondary_cleaner.state.floatbank4_b_air</td>\n",
       "      <td>0</td>\n",
       "      <td>0.0</td>\n",
       "    </tr>\n",
       "    <tr>\n",
       "      <td>secondary_cleaner.state.floatbank4_b_level</td>\n",
       "      <td>0</td>\n",
       "      <td>0.0</td>\n",
       "    </tr>\n",
       "    <tr>\n",
       "      <td>secondary_cleaner.state.floatbank5_a_air</td>\n",
       "      <td>0</td>\n",
       "      <td>0.0</td>\n",
       "    </tr>\n",
       "    <tr>\n",
       "      <td>secondary_cleaner.state.floatbank5_a_level</td>\n",
       "      <td>0</td>\n",
       "      <td>0.0</td>\n",
       "    </tr>\n",
       "    <tr>\n",
       "      <td>secondary_cleaner.state.floatbank5_b_air</td>\n",
       "      <td>0</td>\n",
       "      <td>0.0</td>\n",
       "    </tr>\n",
       "    <tr>\n",
       "      <td>secondary_cleaner.state.floatbank5_b_level</td>\n",
       "      <td>0</td>\n",
       "      <td>0.0</td>\n",
       "    </tr>\n",
       "    <tr>\n",
       "      <td>secondary_cleaner.state.floatbank6_a_air</td>\n",
       "      <td>0</td>\n",
       "      <td>0.0</td>\n",
       "    </tr>\n",
       "    <tr>\n",
       "      <td>rougher.state.floatbank10_c_level</td>\n",
       "      <td>0</td>\n",
       "      <td>0.0</td>\n",
       "    </tr>\n",
       "    <tr>\n",
       "      <td>rougher.state.floatbank10_b_level</td>\n",
       "      <td>0</td>\n",
       "      <td>0.0</td>\n",
       "    </tr>\n",
       "    <tr>\n",
       "      <td>primary_cleaner.input.sulfate</td>\n",
       "      <td>0</td>\n",
       "      <td>0.0</td>\n",
       "    </tr>\n",
       "    <tr>\n",
       "      <td>rougher.state.floatbank10_b_air</td>\n",
       "      <td>0</td>\n",
       "      <td>0.0</td>\n",
       "    </tr>\n",
       "    <tr>\n",
       "      <td>primary_cleaner.input.depressant</td>\n",
       "      <td>0</td>\n",
       "      <td>0.0</td>\n",
       "    </tr>\n",
       "    <tr>\n",
       "      <td>primary_cleaner.input.feed_size</td>\n",
       "      <td>0</td>\n",
       "      <td>0.0</td>\n",
       "    </tr>\n",
       "    <tr>\n",
       "      <td>primary_cleaner.input.xanthate</td>\n",
       "      <td>0</td>\n",
       "      <td>0.0</td>\n",
       "    </tr>\n",
       "    <tr>\n",
       "      <td>primary_cleaner.state.floatbank8_a_air</td>\n",
       "      <td>0</td>\n",
       "      <td>0.0</td>\n",
       "    </tr>\n",
       "    <tr>\n",
       "      <td>primary_cleaner.state.floatbank8_a_level</td>\n",
       "      <td>0</td>\n",
       "      <td>0.0</td>\n",
       "    </tr>\n",
       "    <tr>\n",
       "      <td>primary_cleaner.state.floatbank8_b_air</td>\n",
       "      <td>0</td>\n",
       "      <td>0.0</td>\n",
       "    </tr>\n",
       "    <tr>\n",
       "      <td>primary_cleaner.state.floatbank8_b_level</td>\n",
       "      <td>0</td>\n",
       "      <td>0.0</td>\n",
       "    </tr>\n",
       "    <tr>\n",
       "      <td>primary_cleaner.state.floatbank8_c_air</td>\n",
       "      <td>0</td>\n",
       "      <td>0.0</td>\n",
       "    </tr>\n",
       "    <tr>\n",
       "      <td>primary_cleaner.state.floatbank8_c_level</td>\n",
       "      <td>0</td>\n",
       "      <td>0.0</td>\n",
       "    </tr>\n",
       "    <tr>\n",
       "      <td>primary_cleaner.state.floatbank8_d_air</td>\n",
       "      <td>0</td>\n",
       "      <td>0.0</td>\n",
       "    </tr>\n",
       "    <tr>\n",
       "      <td>primary_cleaner.state.floatbank8_d_level</td>\n",
       "      <td>0</td>\n",
       "      <td>0.0</td>\n",
       "    </tr>\n",
       "    <tr>\n",
       "      <td>rougher.input.feed_ag</td>\n",
       "      <td>0</td>\n",
       "      <td>0.0</td>\n",
       "    </tr>\n",
       "    <tr>\n",
       "      <td>rougher.input.feed_pb</td>\n",
       "      <td>0</td>\n",
       "      <td>0.0</td>\n",
       "    </tr>\n",
       "    <tr>\n",
       "      <td>rougher.input.feed_rate</td>\n",
       "      <td>0</td>\n",
       "      <td>0.0</td>\n",
       "    </tr>\n",
       "    <tr>\n",
       "      <td>rougher.input.feed_size</td>\n",
       "      <td>0</td>\n",
       "      <td>0.0</td>\n",
       "    </tr>\n",
       "    <tr>\n",
       "      <td>rougher.input.feed_sol</td>\n",
       "      <td>0</td>\n",
       "      <td>0.0</td>\n",
       "    </tr>\n",
       "    <tr>\n",
       "      <td>rougher.input.feed_au</td>\n",
       "      <td>0</td>\n",
       "      <td>0.0</td>\n",
       "    </tr>\n",
       "    <tr>\n",
       "      <td>rougher.input.floatbank10_sulfate</td>\n",
       "      <td>0</td>\n",
       "      <td>0.0</td>\n",
       "    </tr>\n",
       "    <tr>\n",
       "      <td>rougher.input.floatbank10_xanthate</td>\n",
       "      <td>0</td>\n",
       "      <td>0.0</td>\n",
       "    </tr>\n",
       "    <tr>\n",
       "      <td>rougher.input.floatbank11_sulfate</td>\n",
       "      <td>0</td>\n",
       "      <td>0.0</td>\n",
       "    </tr>\n",
       "    <tr>\n",
       "      <td>rougher.input.floatbank11_xanthate</td>\n",
       "      <td>0</td>\n",
       "      <td>0.0</td>\n",
       "    </tr>\n",
       "    <tr>\n",
       "      <td>rougher.state.floatbank10_a_air</td>\n",
       "      <td>0</td>\n",
       "      <td>0.0</td>\n",
       "    </tr>\n",
       "    <tr>\n",
       "      <td>rougher.state.floatbank10_a_level</td>\n",
       "      <td>0</td>\n",
       "      <td>0.0</td>\n",
       "    </tr>\n",
       "    <tr>\n",
       "      <td>secondary_cleaner.state.floatbank6_a_level</td>\n",
       "      <td>0</td>\n",
       "      <td>0.0</td>\n",
       "    </tr>\n",
       "  </tbody>\n",
       "</table>\n",
       "</div>"
      ],
      "text/plain": [
       "                                            missing_values  % of total\n",
       "date                                                     0         0.0\n",
       "rougher.state.floatbank10_c_air                          0         0.0\n",
       "rougher.state.floatbank10_d_air                          0         0.0\n",
       "rougher.state.floatbank10_d_level                        0         0.0\n",
       "rougher.state.floatbank10_e_air                          0         0.0\n",
       "rougher.state.floatbank10_e_level                        0         0.0\n",
       "rougher.state.floatbank10_f_air                          0         0.0\n",
       "rougher.state.floatbank10_f_level                        0         0.0\n",
       "secondary_cleaner.state.floatbank2_a_air                 0         0.0\n",
       "secondary_cleaner.state.floatbank2_a_level               0         0.0\n",
       "secondary_cleaner.state.floatbank2_b_air                 0         0.0\n",
       "secondary_cleaner.state.floatbank2_b_level               0         0.0\n",
       "secondary_cleaner.state.floatbank3_a_air                 0         0.0\n",
       "secondary_cleaner.state.floatbank3_a_level               0         0.0\n",
       "secondary_cleaner.state.floatbank3_b_air                 0         0.0\n",
       "secondary_cleaner.state.floatbank3_b_level               0         0.0\n",
       "secondary_cleaner.state.floatbank4_a_air                 0         0.0\n",
       "secondary_cleaner.state.floatbank4_a_level               0         0.0\n",
       "secondary_cleaner.state.floatbank4_b_air                 0         0.0\n",
       "secondary_cleaner.state.floatbank4_b_level               0         0.0\n",
       "secondary_cleaner.state.floatbank5_a_air                 0         0.0\n",
       "secondary_cleaner.state.floatbank5_a_level               0         0.0\n",
       "secondary_cleaner.state.floatbank5_b_air                 0         0.0\n",
       "secondary_cleaner.state.floatbank5_b_level               0         0.0\n",
       "secondary_cleaner.state.floatbank6_a_air                 0         0.0\n",
       "rougher.state.floatbank10_c_level                        0         0.0\n",
       "rougher.state.floatbank10_b_level                        0         0.0\n",
       "primary_cleaner.input.sulfate                            0         0.0\n",
       "rougher.state.floatbank10_b_air                          0         0.0\n",
       "primary_cleaner.input.depressant                         0         0.0\n",
       "primary_cleaner.input.feed_size                          0         0.0\n",
       "primary_cleaner.input.xanthate                           0         0.0\n",
       "primary_cleaner.state.floatbank8_a_air                   0         0.0\n",
       "primary_cleaner.state.floatbank8_a_level                 0         0.0\n",
       "primary_cleaner.state.floatbank8_b_air                   0         0.0\n",
       "primary_cleaner.state.floatbank8_b_level                 0         0.0\n",
       "primary_cleaner.state.floatbank8_c_air                   0         0.0\n",
       "primary_cleaner.state.floatbank8_c_level                 0         0.0\n",
       "primary_cleaner.state.floatbank8_d_air                   0         0.0\n",
       "primary_cleaner.state.floatbank8_d_level                 0         0.0\n",
       "rougher.input.feed_ag                                    0         0.0\n",
       "rougher.input.feed_pb                                    0         0.0\n",
       "rougher.input.feed_rate                                  0         0.0\n",
       "rougher.input.feed_size                                  0         0.0\n",
       "rougher.input.feed_sol                                   0         0.0\n",
       "rougher.input.feed_au                                    0         0.0\n",
       "rougher.input.floatbank10_sulfate                        0         0.0\n",
       "rougher.input.floatbank10_xanthate                       0         0.0\n",
       "rougher.input.floatbank11_sulfate                        0         0.0\n",
       "rougher.input.floatbank11_xanthate                       0         0.0\n",
       "rougher.state.floatbank10_a_air                          0         0.0\n",
       "rougher.state.floatbank10_a_level                        0         0.0\n",
       "secondary_cleaner.state.floatbank6_a_level               0         0.0"
      ]
     },
     "metadata": {},
     "output_type": "display_data"
    },
    {
     "data": {
      "text/plain": [
       "(5290, 53)"
      ]
     },
     "metadata": {},
     "output_type": "display_data"
    },
    {
     "name": "stdout",
     "output_type": "stream",
     "text": [
      "\n",
      "---------------///////////---------------\n",
      "Количество пропущенных значений в датасете: gold_full\n"
     ]
    },
    {
     "data": {
      "text/html": [
       "<div>\n",
       "<style scoped>\n",
       "    .dataframe tbody tr th:only-of-type {\n",
       "        vertical-align: middle;\n",
       "    }\n",
       "\n",
       "    .dataframe tbody tr th {\n",
       "        vertical-align: top;\n",
       "    }\n",
       "\n",
       "    .dataframe thead th {\n",
       "        text-align: right;\n",
       "    }\n",
       "</style>\n",
       "<table border=\"1\" class=\"dataframe\">\n",
       "  <thead>\n",
       "    <tr style=\"text-align: right;\">\n",
       "      <th></th>\n",
       "      <th>missing_values</th>\n",
       "      <th>% of total</th>\n",
       "    </tr>\n",
       "  </thead>\n",
       "  <tbody>\n",
       "    <tr>\n",
       "      <td>secondary_cleaner.output.tail_sol</td>\n",
       "      <td>1748</td>\n",
       "      <td>8.99</td>\n",
       "    </tr>\n",
       "    <tr>\n",
       "      <td>rougher.input.floatbank11_xanthate</td>\n",
       "      <td>453</td>\n",
       "      <td>2.33</td>\n",
       "    </tr>\n",
       "    <tr>\n",
       "      <td>rougher.state.floatbank10_e_air</td>\n",
       "      <td>436</td>\n",
       "      <td>2.24</td>\n",
       "    </tr>\n",
       "    <tr>\n",
       "      <td>primary_cleaner.output.concentrate_sol</td>\n",
       "      <td>370</td>\n",
       "      <td>1.90</td>\n",
       "    </tr>\n",
       "    <tr>\n",
       "      <td>secondary_cleaner.state.floatbank2_a_air</td>\n",
       "      <td>220</td>\n",
       "      <td>1.13</td>\n",
       "    </tr>\n",
       "    <tr>\n",
       "      <td>...</td>\n",
       "      <td>...</td>\n",
       "      <td>...</td>\n",
       "    </tr>\n",
       "    <tr>\n",
       "      <td>rougher.state.floatbank10_d_level</td>\n",
       "      <td>0</td>\n",
       "      <td>0.00</td>\n",
       "    </tr>\n",
       "    <tr>\n",
       "      <td>rougher.state.floatbank10_d_air</td>\n",
       "      <td>0</td>\n",
       "      <td>0.00</td>\n",
       "    </tr>\n",
       "    <tr>\n",
       "      <td>rougher.output.tail_pb</td>\n",
       "      <td>0</td>\n",
       "      <td>0.00</td>\n",
       "    </tr>\n",
       "    <tr>\n",
       "      <td>rougher.output.tail_sol</td>\n",
       "      <td>0</td>\n",
       "      <td>0.00</td>\n",
       "    </tr>\n",
       "    <tr>\n",
       "      <td>date</td>\n",
       "      <td>0</td>\n",
       "      <td>0.00</td>\n",
       "    </tr>\n",
       "  </tbody>\n",
       "</table>\n",
       "<p>87 rows × 2 columns</p>\n",
       "</div>"
      ],
      "text/plain": [
       "                                          missing_values  % of total\n",
       "secondary_cleaner.output.tail_sol                   1748        8.99\n",
       "rougher.input.floatbank11_xanthate                   453        2.33\n",
       "rougher.state.floatbank10_e_air                      436        2.24\n",
       "primary_cleaner.output.concentrate_sol               370        1.90\n",
       "secondary_cleaner.state.floatbank2_a_air             220        1.13\n",
       "...                                                  ...         ...\n",
       "rougher.state.floatbank10_d_level                      0        0.00\n",
       "rougher.state.floatbank10_d_air                        0        0.00\n",
       "rougher.output.tail_pb                                 0        0.00\n",
       "rougher.output.tail_sol                                0        0.00\n",
       "date                                                   0        0.00\n",
       "\n",
       "[87 rows x 2 columns]"
      ]
     },
     "metadata": {},
     "output_type": "display_data"
    },
    {
     "data": {
      "text/plain": [
       "(19439, 87)"
      ]
     },
     "metadata": {},
     "output_type": "display_data"
    },
    {
     "name": "stdout",
     "output_type": "stream",
     "text": [
      "\n"
     ]
    }
   ],
   "source": [
    "for idx, dataset in enumerate(data):\n",
    "    print('---------------///////////---------------')\n",
    "    print(f'Количество пропущенных значений в датасете: {data_names[idx]}')\n",
    "    missed = dataset.isna().sum().to_frame()\n",
    "    missed = missed.rename(columns = {0: 'missing_values'})\n",
    "    missed['% of total'] = ((missed['missing_values'] / dataset.shape[0])*100).round(2)\n",
    "    display(missed.sort_values(by = 'missing_values', ascending = False))\n",
    "    display(dataset.shape)\n",
    "    print()"
   ]
  },
  {
   "cell_type": "markdown",
   "metadata": {},
   "source": [
    "<a id='2'></a>\n",
    "## Анализ данных"
   ]
  },
  {
   "cell_type": "markdown",
   "metadata": {},
   "source": [
    "<a id='2.1'></a>\n",
    "### Анализ изменения концентрации металлов на различных этапах очистки"
   ]
  },
  {
   "cell_type": "code",
   "execution_count": 16,
   "metadata": {},
   "outputs": [
    {
     "data": {
      "image/png": "[encoded data removed]",
      "text/plain": [
       "<Figure size 1152x576 with 1 Axes>"
      ]
     },
     "metadata": {
      "needs_background": "light"
     },
     "output_type": "display_data"
    }
   ],
   "source": [
    "concentration_mean = dict()\n",
    "for metal in ['au', 'ag', 'pb']:\n",
    "    concentration_mean.update(\n",
    "        {f'{metal.capitalize()}': {\n",
    "            'Исходное сырье': full[f'rougher.input.feed_{metal}'].mean(),\n",
    "            'Черновой концентрат': full[f'rougher.output.concentrate_{metal}'].mean(),\n",
    "            'Выход после первичной очистки': full[f'primary_cleaner.output.concentrate_{metal}'].mean(),\n",
    "            'Финальный концентрат': full[f'final.output.concentrate_{metal}'].mean()\n",
    "        }\n",
    "        })\n",
    "concentration_mean = pd.DataFrame(concentration_mean)\n",
    "concentration_mean.plot(figsize=(16, 8))\n",
    "plt.title('Средняя концентрация металлов на различных этапах очистки', fontsize=18)\n",
    "plt.xlabel('Этап очистки', fontsize=16)\n",
    "plt.ylabel('Концентрация', fontsize=16)\n",
    "plt.legend(title='Металл')\n",
    "plt.show()"
   ]
  },
  {
   "cell_type": "markdown",
   "metadata": {},
   "source": [
    "Видим, что по мере прохождения этапов очистки средняя концентрация золота растет очень существенно, концентрация серебра незначительно снижается, а концентрация свинца растет незначительно.   \n",
    "\n",
    "Далее рассмотрим более подробные графики по каждому из этапов очистки."
   ]
  },
  {
   "cell_type": "code",
   "execution_count": 17,
   "metadata": {},
   "outputs": [
    {
     "data": {
      "image/png": "[encoded data removed]",
      "text/plain": [
       "<Figure size 1152x720 with 1 Axes>"
      ]
     },
     "metadata": {
      "needs_background": "light"
     },
     "output_type": "display_data"
    }
   ],
   "source": [
    "concentration = pd.DataFrame()\n",
    "for metal in ['au', 'ag', 'pb']:\n",
    "    concentration = concentration.append(\n",
    "        pd.DataFrame(\n",
    "            {'Металл': metal,\n",
    "             'Исходное сырье': full[f'rougher.input.feed_{metal}'],\n",
    "             'Черновой концентрат': full[f'rougher.output.concentrate_{metal}'],\n",
    "             'Выход после первичной очистки': full[f'primary_cleaner.output.concentrate_{metal}'],\n",
    "             'Финальный концентрат': full[f'final.output.concentrate_{metal}']\n",
    "             }\n",
    "        ).melt(id_vars='Металл', var_name='Этап очистки', value_name='Концентрация')\n",
    "    )\n",
    "    \n",
    "plt.figure(figsize=(16, 10))\n",
    "sns.boxplot(data=concentration, x='Этап очистки', y='Концентрация', hue='Металл')\n",
    "plt.title('Концентрация металлов на различных этапах очистки', fontsize=18)\n",
    "plt.xlabel('Этап очистки', fontsize=16)\n",
    "plt.ylabel('Концентрация', fontsize=16)\n",
    "plt.show()"
   ]
  },
  {
   "cell_type": "markdown",
   "metadata": {},
   "source": [
    "**Вывод.** Графики показывают, что в процессе этапов очистки концентрация металлов изменяется следующим образом:\n",
    "* концентрация золота неуклонно растет после каждого этапа, в финальном концентрате его содержание почти в 5 раз превышает долю в исходном сырье;  \n",
    "* концентрация серебра повышается на этапе грубой очистки - она максимальна в черновом концентрате, на последующих этапах содержание серебра снижается по сравнению с исходным кол-вом;\n",
    "* концентрация свинца вырастает примерно в два раза в течение всего процесса обработки; но фиксируется во время второй очистки, и остается практически неизменным с этого этапа и до получения финального концентрата."
   ]
  },
  {
   "cell_type": "markdown",
   "metadata": {},
   "source": [
    "<a id='2.2'></a>\n",
    "### Сравненение распределения размеров гранул сырья на обучающей и тестовой выборках"
   ]
  },
  {
   "cell_type": "markdown",
   "metadata": {},
   "source": [
    "У нас имеются данные о размере гранул сырья для двух стадий очистки: флотации (rougher.input.feed_size) и первичной очистки (primary_cleaner.input.feed_size). Построим сравнительные графики распределения размеров гранул в обучающей и тестовой выборках для каждого из этих этапов."
   ]
  },
  {
   "cell_type": "code",
   "execution_count": 18,
   "metadata": {},
   "outputs": [
    {
     "data": {
      "text/plain": [
       "<matplotlib.legend.Legend at 0x7f5794592050>"
      ]
     },
     "execution_count": 18,
     "metadata": {},
     "output_type": "execute_result"
    },
    {
     "data": {
      "image/png": "[encoded data removed]",
      "text/plain": [
       "<Figure size 864x576 with 1 Axes>"
      ]
     },
     "metadata": {
      "needs_background": "light"
     },
     "output_type": "display_data"
    }
   ],
   "source": [
    "size = (30, 100)\n",
    "plt.figure(figsize=(12,8))\n",
    "plt.title('Сравнение размера гранул на этапе флотации', fontsize=22)\n",
    "sns.distplot(train['rougher.input.feed_size'], label='обучающая выборка')\n",
    "sns.distplot(test['rougher.input.feed_size'], label='тестовая выборка')\n",
    "plt.xlabel('Распределение размера гранул на этапе флотации', fontsize=16)\n",
    "plt.legend(title='Выборки')"
   ]
  },
  {
   "cell_type": "code",
   "execution_count": 19,
   "metadata": {},
   "outputs": [
    {
     "data": {
      "text/plain": [
       "<matplotlib.legend.Legend at 0x7f5794711810>"
      ]
     },
     "execution_count": 19,
     "metadata": {},
     "output_type": "execute_result"
    },
    {
     "data": {
      "image/png": "[encoded data removed]",
      "text/plain": [
       "<Figure size 864x576 with 1 Axes>"
      ]
     },
     "metadata": {
      "needs_background": "light"
     },
     "output_type": "display_data"
    }
   ],
   "source": [
    "size = (30, 100)\n",
    "plt.figure(figsize=(12,8))\n",
    "plt.title('Сравнение размера гранул на этапе первичной очистки', fontsize=22)\n",
    "sns.distplot(train['primary_cleaner.input.feed_size'], label='обучающая выборка')\n",
    "sns.distplot(test['primary_cleaner.input.feed_size'], label='тестовая выборка')\n",
    "plt.xlabel('Распределение размера гранул на этапе первичной очистки', fontsize=16)\n",
    "plt.legend(title='Выборки')"
   ]
  },
  {
   "cell_type": "markdown",
   "metadata": {},
   "source": [
    "**Вывод** Видим, что распределения размера гранул сырья в обучающей и тестовой выборках на обоих рассматриваемых этапах очистки различаются незначительно. Следовательно, мы можем использовать эти данные в моделях."
   ]
  },
  {
   "cell_type": "markdown",
   "metadata": {},
   "source": [
    "<a id='2.3'></a>\n",
    "### Исследование суммарной концентрации всех веществ на разных стадиях"
   ]
  },
  {
   "cell_type": "code",
   "execution_count": 20,
   "metadata": {},
   "outputs": [
    {
     "data": {
      "image/png": "[encoded data removed]",
      "text/plain": [
       "<Figure size 1728x576 with 4 Axes>"
      ]
     },
     "metadata": {
      "needs_background": "light"
     },
     "output_type": "display_data"
    }
   ],
   "source": [
    "production = ['rougher.input.feed',\n",
    "           'rougher.output.concentrate',\n",
    "           'primary_cleaner.output.concentrate',\n",
    "           'final.output.concentrate']\n",
    "\n",
    "metals = ['au', 'ag', 'pb', 'sol']\n",
    "\n",
    "fig, axs = plt.subplots(1, len(metals), figsize=(24, 8), constrained_layout=True)\n",
    "fig.suptitle('Концентрация веществ на разных стадиях очистки', fontsize=24)\n",
    "\n",
    "for metal, ax in zip(metals, axs):\n",
    "    ax.set_title(metal)\n",
    "    for stage in production:\n",
    "        cols = full.columns.str.contains(stage+'_'+metal)\n",
    "        sns_ax = sns.distplot(full.loc[:, cols].dropna(), label=stage, ax=ax)   \n",
    "plt.legend(title='Этапы', fontsize=14)\n",
    "\n",
    "\n",
    "plt.show()"
   ]
  },
  {
   "cell_type": "markdown",
   "metadata": {},
   "source": [
    "По графикам видим, что на каждом этапе очистки у нас имеются аномалии - сумма всех веществ равна нулю или очень близко к нему, чего явно не может быть на практике. Подобные аномалии нам нужно удалить."
   ]
  },
  {
   "cell_type": "code",
   "execution_count": 21,
   "metadata": {},
   "outputs": [
    {
     "data": {
      "text/plain": [
       "7.556612    10\n",
       "7.495525     6\n",
       "7.413458     5\n",
       "Name: rougher.input.feed_au, dtype: int64"
      ]
     },
     "metadata": {},
     "output_type": "display_data"
    },
    {
     "data": {
      "text/plain": [
       "7.973955    10\n",
       "5.753713     6\n",
       "0.010000     5\n",
       "Name: rougher.input.feed_ag, dtype: int64"
      ]
     },
     "metadata": {},
     "output_type": "display_data"
    },
    {
     "data": {
      "text/plain": [
       "3.909912    11\n",
       "5.038574     6\n",
       "4.226074     6\n",
       "Name: rougher.input.feed_pb, dtype: int64"
      ]
     },
     "metadata": {},
     "output_type": "display_data"
    },
    {
     "data": {
      "text/plain": [
       "36.808594    8\n",
       "38.058594    7\n",
       "42.808594    6\n",
       "Name: rougher.input.feed_sol, dtype: int64"
      ]
     },
     "metadata": {},
     "output_type": "display_data"
    },
    {
     "data": {
      "text/plain": [
       "0.010000     117\n",
       "0.000000     108\n",
       "30.350809      6\n",
       "Name: primary_cleaner.output.concentrate_au, dtype: int64"
      ]
     },
     "metadata": {},
     "output_type": "display_data"
    },
    {
     "data": {
      "text/plain": [
       "0.010000    117\n",
       "0.000000    108\n",
       "8.339732      6\n",
       "Name: primary_cleaner.output.concentrate_ag, dtype: int64"
      ]
     },
     "metadata": {},
     "output_type": "display_data"
    },
    {
     "data": {
      "text/plain": [
       "0.010000     117\n",
       "0.000000     108\n",
       "11.327148      6\n",
       "Name: primary_cleaner.output.concentrate_pb, dtype: int64"
      ]
     },
     "metadata": {},
     "output_type": "display_data"
    },
    {
     "data": {
      "text/plain": [
       "0.010000    117\n",
       "0.000000    108\n",
       "9.139648      6\n",
       "Name: primary_cleaner.output.concentrate_sol, dtype: int64"
      ]
     },
     "metadata": {},
     "output_type": "display_data"
    },
    {
     "data": {
      "text/plain": [
       "0.000000     98\n",
       "37.336849    11\n",
       "44.528214     7\n",
       "Name: final.output.concentrate_au, dtype: int64"
      ]
     },
     "metadata": {},
     "output_type": "display_data"
    },
    {
     "data": {
      "text/plain": [
       "0.000000    98\n",
       "5.925380    11\n",
       "3.554558     7\n",
       "Name: final.output.concentrate_ag, dtype: int64"
      ]
     },
     "metadata": {},
     "output_type": "display_data"
    },
    {
     "data": {
      "text/plain": [
       "0.000000     98\n",
       "14.764648    11\n",
       "11.452148     8\n",
       "Name: final.output.concentrate_pb, dtype: int64"
      ]
     },
     "metadata": {},
     "output_type": "display_data"
    },
    {
     "data": {
      "text/plain": [
       "0.000000     98\n",
       "6.663574     11\n",
       "13.827148     8\n",
       "Name: final.output.concentrate_sol, dtype: int64"
      ]
     },
     "metadata": {},
     "output_type": "display_data"
    }
   ],
   "source": [
    "#Проверим, какие значения попадают в выборосы помимо нулей:\n",
    "for i in ('rougher.input.feed_','primary_cleaner.output.concentrate_','final.output.concentrate_'):\n",
    "    for n in('au','ag','pb','sol'):\n",
    "        display(full[i+n].value_counts().sort_values(ascending=False).head(3))"
   ]
  },
  {
   "cell_type": "markdown",
   "metadata": {},
   "source": [
    "Видим, что больше всего выбросов со значениями 0 и 0.01. Среди минимальных отметились и некоторые другие значения, но они встречаются гораздо реже, и в целом могут называться редкими, но не аномальными. Поэтому удалять будем только строки для 0 и 0.01."
   ]
  },
  {
   "cell_type": "code",
   "execution_count": 22,
   "metadata": {},
   "outputs": [],
   "source": [
    "#Удаляем выбросы в полном датасете\n",
    "for i in ('rougher.input.feed_','primary_cleaner.output.concentrate_','final.output.concentrate_'):\n",
    "    for n in('au','ag','pb','sol'):\n",
    "        full = full.loc[full[i+n] > 0.02]"
   ]
  },
  {
   "cell_type": "code",
   "execution_count": 23,
   "metadata": {},
   "outputs": [],
   "source": [
    "#Добавим в тестовую и обучающую выборки очищенные строки из полного датасета, предварительно добавив даты в индексы\n",
    "train.index = train['date']\n",
    "train.drop(['date'], axis=1, inplace=True)\n",
    "test.index = test['date']\n",
    "test.drop(['date'], axis=1, inplace=True)\n",
    "full.index = full['date']\n",
    "full.drop(['date'], axis=1, inplace=True)\n",
    "\n",
    "train = train.join(full['rougher.output.recovery'], on='date')\n",
    "train = train.join(full['final.output.recovery'], on='date')\n",
    "test = test.join(full['rougher.output.recovery'], on='date')\n",
    "test = test.join(full['final.output.recovery'], on='date')"
   ]
  },
  {
   "cell_type": "code",
   "execution_count": 24,
   "metadata": {},
   "outputs": [],
   "source": [
    "#Удалим пропущенные строки\n",
    "test.dropna(subset=['rougher.output.recovery', 'final.output.recovery'], inplace=True)\n",
    "train.dropna(subset=['rougher.output.recovery', 'final.output.recovery'], inplace=True)"
   ]
  },
  {
   "cell_type": "markdown",
   "metadata": {},
   "source": [
    "<a id='2.4'></a>\n",
    "### Вывод по анализу данных"
   ]
  },
  {
   "cell_type": "markdown",
   "metadata": {},
   "source": [
    "Проанализировав данные, мы определили, что по мере прохождения этапов очистки концентрация золота в продукте многократно увеличивается, также немного увеличивается содержание свинца, а концентрация серебра, напротив, уменьшается. Это ожидаемое поведение, т.к. речь идет о процессе восстановления золота из руды.   \n",
    "Также мы сравнили распределения размеров гранул сырья для тестовой и обучающей выборок и увидели, что они практически не отличаются. Это свидетельствует об однородности данных в обеих выборках, а значит, ничто не препятствует корректному предсказанию модели.  \n",
    "Исследуя суммарную концентрацию различных веществ в руде, мы обнаружили некоторое количество аномальных значений (содержание всех веществ равно нулю или очень близко к нему). Вероятно это является признаком каких-то ошибок в данных, т.к. в нормальном сырье должно бы содержаться по крайней мере мизерное количество хотя бы какого-то из рассматриваемых веществ. Такие строки мы удалили, так как они могут препятствовать нормальной работе модели. "
   ]
  },
  {
   "cell_type": "markdown",
   "metadata": {},
   "source": [
    "<a id='3'></a>\n",
    "## Построение модели"
   ]
  },
  {
   "cell_type": "markdown",
   "metadata": {},
   "source": [
    "В качестве метрики качества модели будем использовать sMAPE - симметричное среднее абсолютное процентное отклонение."
   ]
  },
  {
   "cell_type": "markdown",
   "metadata": {},
   "source": [
    "<a id='3.1'></a>\n",
    "### Функция для вычисления итогового sMAPE"
   ]
  },
  {
   "cell_type": "markdown",
   "metadata": {},
   "source": [
    "Напишем функции для вычисления общего sMAPE и итогового sMAPE"
   ]
  },
  {
   "cell_type": "markdown",
   "metadata": {},
   "source": [
    "$$\n",
    "\\mathbf{sMAPE} = \n",
    "\\frac{1}{N}\n",
    "\\sum_{i=1}^N\n",
    "\\frac{|y_i - \\hat y_i|}{(|y_i| + |\\hat y_i|)\\ /\\ 2} * 100\\%\n",
    "$$"
   ]
  },
  {
   "cell_type": "code",
   "execution_count": 25,
   "metadata": {},
   "outputs": [],
   "source": [
    "def smape(target, predict):\n",
    "    return 100 * (1/len(target)) * ((abs(target - predict)/((abs(target) + abs(predict))/2)).sum())"
   ]
  },
  {
   "cell_type": "markdown",
   "metadata": {},
   "source": [
    "$$\n",
    "\\mathbf{Итоговое\\ sMAPE} = 25\\%\\ \\mathbf{sMAPE}_{rougher} + 75\\%\\ \\mathbf{sMAPE}_{final}\n",
    "$$\n"
   ]
  },
  {
   "cell_type": "code",
   "execution_count": 26,
   "metadata": {},
   "outputs": [],
   "source": [
    "def smape_result(target_rougher, predict_rougher, target_final, predict_final):\n",
    "    return smape(target_rougher, predict_rougher) * 0.25 + smape(target_final, predict_final) * 0.75"
   ]
  },
  {
   "cell_type": "markdown",
   "metadata": {},
   "source": [
    "<a id='3.2'></a>\n",
    "### Обучение моделей и выбор лучшей"
   ]
  },
  {
   "cell_type": "markdown",
   "metadata": {},
   "source": [
    "Целевые признаки, которые нам необходимо спрогнозировать, находятся в колонках: rougher.output.recovery и final.output.recovery. Для каждого из признаков будем обучать отдельную модель. Всего будет опробовано три модели: дерево решений, случайный лес, логистическая регрессия."
   ]
  },
  {
   "cell_type": "code",
   "execution_count": 27,
   "metadata": {},
   "outputs": [],
   "source": [
    "#Создадим выборки для чернового концентрата\n",
    "target_train_rougher = train['rougher.output.recovery']\n",
    "features_train_rougher = train.filter(regex='rougher', axis=1)\n",
    "features_train_rougher = features_train_rougher.drop(['rougher.output.recovery'], axis=1)\n",
    "\n",
    "target_test_rougher = test['rougher.output.recovery']\n",
    "features_test_rougher = test.filter(regex='rougher', axis=1)\n",
    "features_test_rougher = features_test_rougher.drop(['rougher.output.recovery'], axis=1)"
   ]
  },
  {
   "cell_type": "code",
   "execution_count": 28,
   "metadata": {},
   "outputs": [],
   "source": [
    "#Создадим выборки для финального концентрата\n",
    "target_train_final = train['final.output.recovery']\n",
    "features_train_final = train.drop(['final.output.recovery'], axis=1)\n",
    "\n",
    "target_test_final = test['final.output.recovery']\n",
    "features_test_final = test.drop(['final.output.recovery'], axis=1)"
   ]
  },
  {
   "cell_type": "code",
   "execution_count": 29,
   "metadata": {},
   "outputs": [],
   "source": [
    "#Скорер для проверки моделей\n",
    "scorer = make_scorer(smape, greater_is_better=False)"
   ]
  },
  {
   "cell_type": "markdown",
   "metadata": {},
   "source": [
    "<a id='3.2.1'></a>\n",
    "#### Модель линейной регрессии"
   ]
  },
  {
   "cell_type": "code",
   "execution_count": 30,
   "metadata": {},
   "outputs": [],
   "source": [
    "#Напишем функцию для подбора параметров и обучения модели \n",
    "def model(features_train, target_train, features_test, target_test, model_name):\n",
    "    pipe = Pipeline([('imp', SimpleImputer(missing_values=np.nan)), ('model', model_name())])\n",
    "    params = [{'imp__strategy':['mean','median','most_frequent']}]\n",
    "    grid_search = GridSearchCV(pipe, param_grid=params, cv=10, verbose=1, n_jobs=-1, scoring=scorer)\n",
    "    grid_search.fit(features_train, target_train)\n",
    "    best_model = grid_search.best_estimator_\n",
    "    predictions = best_model.predict(features_test)\n",
    "    best_smape = smape(target_test, predictions)\n",
    "    print(\"Метрика sMAPE:\", best_smape)\n",
    "    return best_model, predictions, best_smape"
   ]
  },
  {
   "cell_type": "code",
   "execution_count": 31,
   "metadata": {},
   "outputs": [
    {
     "name": "stdout",
     "output_type": "stream",
     "text": [
      "Fitting 10 folds for each of 3 candidates, totalling 30 fits\n"
     ]
    },
    {
     "name": "stderr",
     "output_type": "stream",
     "text": [
      "[Parallel(n_jobs=-1)]: Using backend SequentialBackend with 1 concurrent workers.\n",
      "[Parallel(n_jobs=-1)]: Done  30 out of  30 | elapsed:    5.8s finished\n"
     ]
    },
    {
     "name": "stdout",
     "output_type": "stream",
     "text": [
      "Метрика sMAPE: 9.343908405776846\n"
     ]
    }
   ],
   "source": [
    "#Посчитаем sMAPE для чернового концентрата\n",
    "model_lr_rougher, predictions_lr_rougher, smape_lr_rougher = model(features_train_rougher, target_train_rougher, features_test_rougher, target_test_rougher,LinearRegression)\n"
   ]
  },
  {
   "cell_type": "code",
   "execution_count": 32,
   "metadata": {},
   "outputs": [
    {
     "name": "stdout",
     "output_type": "stream",
     "text": [
      "Fitting 10 folds for each of 3 candidates, totalling 30 fits\n"
     ]
    },
    {
     "name": "stderr",
     "output_type": "stream",
     "text": [
      "[Parallel(n_jobs=-1)]: Using backend SequentialBackend with 1 concurrent workers.\n",
      "[Parallel(n_jobs=-1)]: Done  30 out of  30 | elapsed:    9.9s finished\n"
     ]
    },
    {
     "name": "stdout",
     "output_type": "stream",
     "text": [
      "Метрика sMAPE: 7.496120291769959\n"
     ]
    }
   ],
   "source": [
    "#Посчитаем sMAPE для финального концентрата\n",
    "model_lr_final, predictions_lr_final, smape_lr_final = model(features_train_final, target_train_final, features_test_final, target_test_final, LinearRegression)"
   ]
  },
  {
   "cell_type": "code",
   "execution_count": 33,
   "metadata": {},
   "outputs": [
    {
     "name": "stdout",
     "output_type": "stream",
     "text": [
      "Итоговое sMAPE для модели линейной регрессиии:  7.958067320271681\n"
     ]
    }
   ],
   "source": [
    "#Посчитаем итоговый sMAPE\n",
    "result_lr = smape_result(target_test_rougher, predictions_lr_rougher, target_test_final, predictions_lr_final)\n",
    "print('Итоговое sMAPE для модели линейной регрессиии: ', result_lr)"
   ]
  },
  {
   "cell_type": "markdown",
   "metadata": {},
   "source": [
    "<a id='3.2.2'></a>\n",
    "#### Модель случайного леса"
   ]
  },
  {
   "cell_type": "code",
   "execution_count": 34,
   "metadata": {},
   "outputs": [
    {
     "name": "stdout",
     "output_type": "stream",
     "text": [
      "Fitting 10 folds for each of 3 candidates, totalling 30 fits\n"
     ]
    },
    {
     "name": "stderr",
     "output_type": "stream",
     "text": [
      "[Parallel(n_jobs=-1)]: Using backend SequentialBackend with 1 concurrent workers.\n",
      "/opt/conda/lib/python3.7/site-packages/sklearn/ensemble/forest.py:245: FutureWarning: The default value of n_estimators will change from 10 in version 0.20 to 100 in 0.22.\n",
      "  \"10 in version 0.20 to 100 in 0.22.\", FutureWarning)\n",
      "/opt/conda/lib/python3.7/site-packages/sklearn/ensemble/forest.py:245: FutureWarning: The default value of n_estimators will change from 10 in version 0.20 to 100 in 0.22.\n",
      "  \"10 in version 0.20 to 100 in 0.22.\", FutureWarning)\n",
      "/opt/conda/lib/python3.7/site-packages/sklearn/ensemble/forest.py:245: FutureWarning: The default value of n_estimators will change from 10 in version 0.20 to 100 in 0.22.\n",
      "  \"10 in version 0.20 to 100 in 0.22.\", FutureWarning)\n",
      "/opt/conda/lib/python3.7/site-packages/sklearn/ensemble/forest.py:245: FutureWarning: The default value of n_estimators will change from 10 in version 0.20 to 100 in 0.22.\n",
      "  \"10 in version 0.20 to 100 in 0.22.\", FutureWarning)\n",
      "/opt/conda/lib/python3.7/site-packages/sklearn/ensemble/forest.py:245: FutureWarning: The default value of n_estimators will change from 10 in version 0.20 to 100 in 0.22.\n",
      "  \"10 in version 0.20 to 100 in 0.22.\", FutureWarning)\n",
      "/opt/conda/lib/python3.7/site-packages/sklearn/ensemble/forest.py:245: FutureWarning: The default value of n_estimators will change from 10 in version 0.20 to 100 in 0.22.\n",
      "  \"10 in version 0.20 to 100 in 0.22.\", FutureWarning)\n",
      "/opt/conda/lib/python3.7/site-packages/sklearn/ensemble/forest.py:245: FutureWarning: The default value of n_estimators will change from 10 in version 0.20 to 100 in 0.22.\n",
      "  \"10 in version 0.20 to 100 in 0.22.\", FutureWarning)\n",
      "/opt/conda/lib/python3.7/site-packages/sklearn/ensemble/forest.py:245: FutureWarning: The default value of n_estimators will change from 10 in version 0.20 to 100 in 0.22.\n",
      "  \"10 in version 0.20 to 100 in 0.22.\", FutureWarning)\n",
      "/opt/conda/lib/python3.7/site-packages/sklearn/ensemble/forest.py:245: FutureWarning: The default value of n_estimators will change from 10 in version 0.20 to 100 in 0.22.\n",
      "  \"10 in version 0.20 to 100 in 0.22.\", FutureWarning)\n",
      "/opt/conda/lib/python3.7/site-packages/sklearn/ensemble/forest.py:245: FutureWarning: The default value of n_estimators will change from 10 in version 0.20 to 100 in 0.22.\n",
      "  \"10 in version 0.20 to 100 in 0.22.\", FutureWarning)\n",
      "/opt/conda/lib/python3.7/site-packages/sklearn/ensemble/forest.py:245: FutureWarning: The default value of n_estimators will change from 10 in version 0.20 to 100 in 0.22.\n",
      "  \"10 in version 0.20 to 100 in 0.22.\", FutureWarning)\n",
      "/opt/conda/lib/python3.7/site-packages/sklearn/ensemble/forest.py:245: FutureWarning: The default value of n_estimators will change from 10 in version 0.20 to 100 in 0.22.\n",
      "  \"10 in version 0.20 to 100 in 0.22.\", FutureWarning)\n",
      "/opt/conda/lib/python3.7/site-packages/sklearn/ensemble/forest.py:245: FutureWarning: The default value of n_estimators will change from 10 in version 0.20 to 100 in 0.22.\n",
      "  \"10 in version 0.20 to 100 in 0.22.\", FutureWarning)\n",
      "/opt/conda/lib/python3.7/site-packages/sklearn/ensemble/forest.py:245: FutureWarning: The default value of n_estimators will change from 10 in version 0.20 to 100 in 0.22.\n",
      "  \"10 in version 0.20 to 100 in 0.22.\", FutureWarning)\n",
      "/opt/conda/lib/python3.7/site-packages/sklearn/ensemble/forest.py:245: FutureWarning: The default value of n_estimators will change from 10 in version 0.20 to 100 in 0.22.\n",
      "  \"10 in version 0.20 to 100 in 0.22.\", FutureWarning)\n",
      "/opt/conda/lib/python3.7/site-packages/sklearn/ensemble/forest.py:245: FutureWarning: The default value of n_estimators will change from 10 in version 0.20 to 100 in 0.22.\n",
      "  \"10 in version 0.20 to 100 in 0.22.\", FutureWarning)\n",
      "/opt/conda/lib/python3.7/site-packages/sklearn/ensemble/forest.py:245: FutureWarning: The default value of n_estimators will change from 10 in version 0.20 to 100 in 0.22.\n",
      "  \"10 in version 0.20 to 100 in 0.22.\", FutureWarning)\n",
      "/opt/conda/lib/python3.7/site-packages/sklearn/ensemble/forest.py:245: FutureWarning: The default value of n_estimators will change from 10 in version 0.20 to 100 in 0.22.\n",
      "  \"10 in version 0.20 to 100 in 0.22.\", FutureWarning)\n",
      "/opt/conda/lib/python3.7/site-packages/sklearn/ensemble/forest.py:245: FutureWarning: The default value of n_estimators will change from 10 in version 0.20 to 100 in 0.22.\n",
      "  \"10 in version 0.20 to 100 in 0.22.\", FutureWarning)\n",
      "/opt/conda/lib/python3.7/site-packages/sklearn/ensemble/forest.py:245: FutureWarning: The default value of n_estimators will change from 10 in version 0.20 to 100 in 0.22.\n",
      "  \"10 in version 0.20 to 100 in 0.22.\", FutureWarning)\n",
      "/opt/conda/lib/python3.7/site-packages/sklearn/ensemble/forest.py:245: FutureWarning: The default value of n_estimators will change from 10 in version 0.20 to 100 in 0.22.\n",
      "  \"10 in version 0.20 to 100 in 0.22.\", FutureWarning)\n",
      "/opt/conda/lib/python3.7/site-packages/sklearn/ensemble/forest.py:245: FutureWarning: The default value of n_estimators will change from 10 in version 0.20 to 100 in 0.22.\n",
      "  \"10 in version 0.20 to 100 in 0.22.\", FutureWarning)\n",
      "/opt/conda/lib/python3.7/site-packages/sklearn/ensemble/forest.py:245: FutureWarning: The default value of n_estimators will change from 10 in version 0.20 to 100 in 0.22.\n",
      "  \"10 in version 0.20 to 100 in 0.22.\", FutureWarning)\n",
      "/opt/conda/lib/python3.7/site-packages/sklearn/ensemble/forest.py:245: FutureWarning: The default value of n_estimators will change from 10 in version 0.20 to 100 in 0.22.\n",
      "  \"10 in version 0.20 to 100 in 0.22.\", FutureWarning)\n",
      "/opt/conda/lib/python3.7/site-packages/sklearn/ensemble/forest.py:245: FutureWarning: The default value of n_estimators will change from 10 in version 0.20 to 100 in 0.22.\n",
      "  \"10 in version 0.20 to 100 in 0.22.\", FutureWarning)\n",
      "/opt/conda/lib/python3.7/site-packages/sklearn/ensemble/forest.py:245: FutureWarning: The default value of n_estimators will change from 10 in version 0.20 to 100 in 0.22.\n",
      "  \"10 in version 0.20 to 100 in 0.22.\", FutureWarning)\n",
      "/opt/conda/lib/python3.7/site-packages/sklearn/ensemble/forest.py:245: FutureWarning: The default value of n_estimators will change from 10 in version 0.20 to 100 in 0.22.\n",
      "  \"10 in version 0.20 to 100 in 0.22.\", FutureWarning)\n",
      "/opt/conda/lib/python3.7/site-packages/sklearn/ensemble/forest.py:245: FutureWarning: The default value of n_estimators will change from 10 in version 0.20 to 100 in 0.22.\n",
      "  \"10 in version 0.20 to 100 in 0.22.\", FutureWarning)\n",
      "/opt/conda/lib/python3.7/site-packages/sklearn/ensemble/forest.py:245: FutureWarning: The default value of n_estimators will change from 10 in version 0.20 to 100 in 0.22.\n",
      "  \"10 in version 0.20 to 100 in 0.22.\", FutureWarning)\n",
      "/opt/conda/lib/python3.7/site-packages/sklearn/ensemble/forest.py:245: FutureWarning: The default value of n_estimators will change from 10 in version 0.20 to 100 in 0.22.\n",
      "  \"10 in version 0.20 to 100 in 0.22.\", FutureWarning)\n",
      "[Parallel(n_jobs=-1)]: Done  30 out of  30 | elapsed:  1.2min finished\n",
      "/opt/conda/lib/python3.7/site-packages/sklearn/ensemble/forest.py:245: FutureWarning: The default value of n_estimators will change from 10 in version 0.20 to 100 in 0.22.\n",
      "  \"10 in version 0.20 to 100 in 0.22.\", FutureWarning)\n"
     ]
    },
    {
     "name": "stdout",
     "output_type": "stream",
     "text": [
      "Метрика sMAPE: 13.286715554765077\n"
     ]
    }
   ],
   "source": [
    "#Посчитаем sMAPE для чернового концентрата\n",
    "model_rf_rougher, predictions_rf_rougher, smape_rf_rougher = model(features_train_rougher, target_train_rougher, features_test_rougher, target_test_rougher, RandomForestRegressor)\n"
   ]
  },
  {
   "cell_type": "code",
   "execution_count": 35,
   "metadata": {},
   "outputs": [
    {
     "name": "stdout",
     "output_type": "stream",
     "text": [
      "Fitting 10 folds for each of 3 candidates, totalling 30 fits\n"
     ]
    },
    {
     "name": "stderr",
     "output_type": "stream",
     "text": [
      "[Parallel(n_jobs=-1)]: Using backend SequentialBackend with 1 concurrent workers.\n",
      "/opt/conda/lib/python3.7/site-packages/sklearn/ensemble/forest.py:245: FutureWarning: The default value of n_estimators will change from 10 in version 0.20 to 100 in 0.22.\n",
      "  \"10 in version 0.20 to 100 in 0.22.\", FutureWarning)\n",
      "/opt/conda/lib/python3.7/site-packages/sklearn/ensemble/forest.py:245: FutureWarning: The default value of n_estimators will change from 10 in version 0.20 to 100 in 0.22.\n",
      "  \"10 in version 0.20 to 100 in 0.22.\", FutureWarning)\n",
      "/opt/conda/lib/python3.7/site-packages/sklearn/ensemble/forest.py:245: FutureWarning: The default value of n_estimators will change from 10 in version 0.20 to 100 in 0.22.\n",
      "  \"10 in version 0.20 to 100 in 0.22.\", FutureWarning)\n",
      "/opt/conda/lib/python3.7/site-packages/sklearn/ensemble/forest.py:245: FutureWarning: The default value of n_estimators will change from 10 in version 0.20 to 100 in 0.22.\n",
      "  \"10 in version 0.20 to 100 in 0.22.\", FutureWarning)\n",
      "/opt/conda/lib/python3.7/site-packages/sklearn/ensemble/forest.py:245: FutureWarning: The default value of n_estimators will change from 10 in version 0.20 to 100 in 0.22.\n",
      "  \"10 in version 0.20 to 100 in 0.22.\", FutureWarning)\n",
      "/opt/conda/lib/python3.7/site-packages/sklearn/ensemble/forest.py:245: FutureWarning: The default value of n_estimators will change from 10 in version 0.20 to 100 in 0.22.\n",
      "  \"10 in version 0.20 to 100 in 0.22.\", FutureWarning)\n",
      "/opt/conda/lib/python3.7/site-packages/sklearn/ensemble/forest.py:245: FutureWarning: The default value of n_estimators will change from 10 in version 0.20 to 100 in 0.22.\n",
      "  \"10 in version 0.20 to 100 in 0.22.\", FutureWarning)\n",
      "/opt/conda/lib/python3.7/site-packages/sklearn/ensemble/forest.py:245: FutureWarning: The default value of n_estimators will change from 10 in version 0.20 to 100 in 0.22.\n",
      "  \"10 in version 0.20 to 100 in 0.22.\", FutureWarning)\n",
      "/opt/conda/lib/python3.7/site-packages/sklearn/ensemble/forest.py:245: FutureWarning: The default value of n_estimators will change from 10 in version 0.20 to 100 in 0.22.\n",
      "  \"10 in version 0.20 to 100 in 0.22.\", FutureWarning)\n",
      "/opt/conda/lib/python3.7/site-packages/sklearn/ensemble/forest.py:245: FutureWarning: The default value of n_estimators will change from 10 in version 0.20 to 100 in 0.22.\n",
      "  \"10 in version 0.20 to 100 in 0.22.\", FutureWarning)\n",
      "/opt/conda/lib/python3.7/site-packages/sklearn/ensemble/forest.py:245: FutureWarning: The default value of n_estimators will change from 10 in version 0.20 to 100 in 0.22.\n",
      "  \"10 in version 0.20 to 100 in 0.22.\", FutureWarning)\n",
      "/opt/conda/lib/python3.7/site-packages/sklearn/ensemble/forest.py:245: FutureWarning: The default value of n_estimators will change from 10 in version 0.20 to 100 in 0.22.\n",
      "  \"10 in version 0.20 to 100 in 0.22.\", FutureWarning)\n",
      "/opt/conda/lib/python3.7/site-packages/sklearn/ensemble/forest.py:245: FutureWarning: The default value of n_estimators will change from 10 in version 0.20 to 100 in 0.22.\n",
      "  \"10 in version 0.20 to 100 in 0.22.\", FutureWarning)\n",
      "/opt/conda/lib/python3.7/site-packages/sklearn/ensemble/forest.py:245: FutureWarning: The default value of n_estimators will change from 10 in version 0.20 to 100 in 0.22.\n",
      "  \"10 in version 0.20 to 100 in 0.22.\", FutureWarning)\n",
      "/opt/conda/lib/python3.7/site-packages/sklearn/ensemble/forest.py:245: FutureWarning: The default value of n_estimators will change from 10 in version 0.20 to 100 in 0.22.\n",
      "  \"10 in version 0.20 to 100 in 0.22.\", FutureWarning)\n",
      "/opt/conda/lib/python3.7/site-packages/sklearn/ensemble/forest.py:245: FutureWarning: The default value of n_estimators will change from 10 in version 0.20 to 100 in 0.22.\n",
      "  \"10 in version 0.20 to 100 in 0.22.\", FutureWarning)\n",
      "/opt/conda/lib/python3.7/site-packages/sklearn/ensemble/forest.py:245: FutureWarning: The default value of n_estimators will change from 10 in version 0.20 to 100 in 0.22.\n",
      "  \"10 in version 0.20 to 100 in 0.22.\", FutureWarning)\n",
      "/opt/conda/lib/python3.7/site-packages/sklearn/ensemble/forest.py:245: FutureWarning: The default value of n_estimators will change from 10 in version 0.20 to 100 in 0.22.\n",
      "  \"10 in version 0.20 to 100 in 0.22.\", FutureWarning)\n",
      "/opt/conda/lib/python3.7/site-packages/sklearn/ensemble/forest.py:245: FutureWarning: The default value of n_estimators will change from 10 in version 0.20 to 100 in 0.22.\n",
      "  \"10 in version 0.20 to 100 in 0.22.\", FutureWarning)\n",
      "/opt/conda/lib/python3.7/site-packages/sklearn/ensemble/forest.py:245: FutureWarning: The default value of n_estimators will change from 10 in version 0.20 to 100 in 0.22.\n",
      "  \"10 in version 0.20 to 100 in 0.22.\", FutureWarning)\n",
      "/opt/conda/lib/python3.7/site-packages/sklearn/ensemble/forest.py:245: FutureWarning: The default value of n_estimators will change from 10 in version 0.20 to 100 in 0.22.\n",
      "  \"10 in version 0.20 to 100 in 0.22.\", FutureWarning)\n",
      "/opt/conda/lib/python3.7/site-packages/sklearn/ensemble/forest.py:245: FutureWarning: The default value of n_estimators will change from 10 in version 0.20 to 100 in 0.22.\n",
      "  \"10 in version 0.20 to 100 in 0.22.\", FutureWarning)\n",
      "/opt/conda/lib/python3.7/site-packages/sklearn/ensemble/forest.py:245: FutureWarning: The default value of n_estimators will change from 10 in version 0.20 to 100 in 0.22.\n",
      "  \"10 in version 0.20 to 100 in 0.22.\", FutureWarning)\n",
      "/opt/conda/lib/python3.7/site-packages/sklearn/ensemble/forest.py:245: FutureWarning: The default value of n_estimators will change from 10 in version 0.20 to 100 in 0.22.\n",
      "  \"10 in version 0.20 to 100 in 0.22.\", FutureWarning)\n",
      "/opt/conda/lib/python3.7/site-packages/sklearn/ensemble/forest.py:245: FutureWarning: The default value of n_estimators will change from 10 in version 0.20 to 100 in 0.22.\n",
      "  \"10 in version 0.20 to 100 in 0.22.\", FutureWarning)\n",
      "/opt/conda/lib/python3.7/site-packages/sklearn/ensemble/forest.py:245: FutureWarning: The default value of n_estimators will change from 10 in version 0.20 to 100 in 0.22.\n",
      "  \"10 in version 0.20 to 100 in 0.22.\", FutureWarning)\n",
      "/opt/conda/lib/python3.7/site-packages/sklearn/ensemble/forest.py:245: FutureWarning: The default value of n_estimators will change from 10 in version 0.20 to 100 in 0.22.\n",
      "  \"10 in version 0.20 to 100 in 0.22.\", FutureWarning)\n",
      "/opt/conda/lib/python3.7/site-packages/sklearn/ensemble/forest.py:245: FutureWarning: The default value of n_estimators will change from 10 in version 0.20 to 100 in 0.22.\n",
      "  \"10 in version 0.20 to 100 in 0.22.\", FutureWarning)\n",
      "/opt/conda/lib/python3.7/site-packages/sklearn/ensemble/forest.py:245: FutureWarning: The default value of n_estimators will change from 10 in version 0.20 to 100 in 0.22.\n",
      "  \"10 in version 0.20 to 100 in 0.22.\", FutureWarning)\n",
      "/opt/conda/lib/python3.7/site-packages/sklearn/ensemble/forest.py:245: FutureWarning: The default value of n_estimators will change from 10 in version 0.20 to 100 in 0.22.\n",
      "  \"10 in version 0.20 to 100 in 0.22.\", FutureWarning)\n",
      "[Parallel(n_jobs=-1)]: Done  30 out of  30 | elapsed:  2.6min finished\n",
      "/opt/conda/lib/python3.7/site-packages/sklearn/ensemble/forest.py:245: FutureWarning: The default value of n_estimators will change from 10 in version 0.20 to 100 in 0.22.\n",
      "  \"10 in version 0.20 to 100 in 0.22.\", FutureWarning)\n"
     ]
    },
    {
     "name": "stdout",
     "output_type": "stream",
     "text": [
      "Метрика sMAPE: 7.4652321016890735\n"
     ]
    }
   ],
   "source": [
    "#Посчитаем sMAPE для финального концентрата\n",
    "model_rf_final, predictions_rf_final, smape_rf_final = model(features_train_final, target_train_final, features_test_final, target_test_final, RandomForestRegressor)\n"
   ]
  },
  {
   "cell_type": "code",
   "execution_count": 36,
   "metadata": {},
   "outputs": [
    {
     "name": "stdout",
     "output_type": "stream",
     "text": [
      "Итоговое sMAPE для модели линейной регрессиии:  8.920602964958075\n"
     ]
    }
   ],
   "source": [
    "#Посчитаем итоговый sMAPE\n",
    "result_rf = smape_result(target_test_rougher, predictions_rf_rougher, target_test_final, predictions_rf_final)\n",
    "print('Итоговое sMAPE для модели линейной регрессиии: ', result_rf)"
   ]
  },
  {
   "cell_type": "markdown",
   "metadata": {},
   "source": [
    "<a id='3.2.3'></a>\n",
    "#### Модель решающего дерева"
   ]
  },
  {
   "cell_type": "code",
   "execution_count": 37,
   "metadata": {},
   "outputs": [
    {
     "name": "stdout",
     "output_type": "stream",
     "text": [
      "Fitting 10 folds for each of 3 candidates, totalling 30 fits\n"
     ]
    },
    {
     "name": "stderr",
     "output_type": "stream",
     "text": [
      "[Parallel(n_jobs=-1)]: Using backend SequentialBackend with 1 concurrent workers.\n",
      "[Parallel(n_jobs=-1)]: Done  30 out of  30 | elapsed:   11.8s finished\n"
     ]
    },
    {
     "name": "stdout",
     "output_type": "stream",
     "text": [
      "Метрика sMAPE: 23.72494411644359\n"
     ]
    }
   ],
   "source": [
    "#Посчитаем sMAPE для чернового концентрата\n",
    "model_dtr_rougher, predictions_dtr_rougher, smape_dtr_rougher = model(features_train_rougher, target_train_rougher, features_test_rougher, target_test_rougher, DecisionTreeRegressor)\n"
   ]
  },
  {
   "cell_type": "code",
   "execution_count": 38,
   "metadata": {},
   "outputs": [
    {
     "name": "stdout",
     "output_type": "stream",
     "text": [
      "Fitting 10 folds for each of 3 candidates, totalling 30 fits\n"
     ]
    },
    {
     "name": "stderr",
     "output_type": "stream",
     "text": [
      "[Parallel(n_jobs=-1)]: Using backend SequentialBackend with 1 concurrent workers.\n",
      "[Parallel(n_jobs=-1)]: Done  30 out of  30 | elapsed:   27.6s finished\n"
     ]
    },
    {
     "name": "stdout",
     "output_type": "stream",
     "text": [
      "Метрика sMAPE: 11.830242019430656\n"
     ]
    }
   ],
   "source": [
    "#Посчитаем sMAPE для финального концентрата\n",
    "model_dtr_final, predictions_dtr_final, smape_dtr_final = model(features_train_final, target_train_final, features_test_final, target_test_final, DecisionTreeRegressor)\n"
   ]
  },
  {
   "cell_type": "code",
   "execution_count": 39,
   "metadata": {},
   "outputs": [
    {
     "name": "stdout",
     "output_type": "stream",
     "text": [
      "Итоговое sMAPE для модели решающего дерева:  14.803917543683891\n"
     ]
    }
   ],
   "source": [
    "#Посчитаем итоговый sMAPE\n",
    "result_dtr = smape_result(target_test_rougher, predictions_dtr_rougher, target_test_final, predictions_dtr_final)\n",
    "print('Итоговое sMAPE для модели решающего дерева: ', result_dtr)"
   ]
  },
  {
   "cell_type": "code",
   "execution_count": 40,
   "metadata": {},
   "outputs": [
    {
     "data": {
      "text/html": [
       "<div>\n",
       "<style scoped>\n",
       "    .dataframe tbody tr th:only-of-type {\n",
       "        vertical-align: middle;\n",
       "    }\n",
       "\n",
       "    .dataframe tbody tr th {\n",
       "        vertical-align: top;\n",
       "    }\n",
       "\n",
       "    .dataframe thead th {\n",
       "        text-align: right;\n",
       "    }\n",
       "</style>\n",
       "<table border=\"1\" class=\"dataframe\">\n",
       "  <thead>\n",
       "    <tr style=\"text-align: right;\">\n",
       "      <th></th>\n",
       "      <th>Модель</th>\n",
       "      <th>Итоговое sMAPE</th>\n",
       "    </tr>\n",
       "  </thead>\n",
       "  <tbody>\n",
       "    <tr>\n",
       "      <td>0</td>\n",
       "      <td>Решающее дерево</td>\n",
       "      <td>14.803918</td>\n",
       "    </tr>\n",
       "    <tr>\n",
       "      <td>1</td>\n",
       "      <td>Случайный лес</td>\n",
       "      <td>8.920603</td>\n",
       "    </tr>\n",
       "    <tr>\n",
       "      <td>2</td>\n",
       "      <td>Линейная регрессия</td>\n",
       "      <td>7.958067</td>\n",
       "    </tr>\n",
       "  </tbody>\n",
       "</table>\n",
       "</div>"
      ],
      "text/plain": [
       "               Модель  Итоговое sMAPE\n",
       "0     Решающее дерево       14.803918\n",
       "1       Случайный лес        8.920603\n",
       "2  Линейная регрессия        7.958067"
      ]
     },
     "metadata": {},
     "output_type": "display_data"
    }
   ],
   "source": [
    "#Выведем сравнительную таблицу по качеству рассмотренных моделей без учета дисбаланса\n",
    "data = {'Модель':['Решающее дерево', 'Случайный лес', 'Линейная регрессия'], \n",
    "        'Итоговое sMAPE':[result_dtr, result_rf, result_lr],\n",
    "       }\n",
    "models_valid = pd.DataFrame(data)\n",
    "display(models_valid)"
   ]
  },
  {
   "cell_type": "markdown",
   "metadata": {},
   "source": [
    "<a id='3.2.4'></a>\n",
    "#### Вывод по обучению моделей"
   ]
  },
  {
   "cell_type": "markdown",
   "metadata": {},
   "source": [
    "Согласно метрике итогового sMAPE наиболее точной получилась модель линейной регрессии, для нее точность предсказания составляет около 92%. Далее сравним полученный показатель с константной моделью."
   ]
  },
  {
   "cell_type": "markdown",
   "metadata": {},
   "source": [
    "<a id='3.3.1'></a>\n",
    "#### Проверка модели на адекватность"
   ]
  },
  {
   "cell_type": "code",
   "execution_count": 44,
   "metadata": {},
   "outputs": [
    {
     "name": "stdout",
     "output_type": "stream",
     "text": [
      "Итоговое sMAPE для \"глупой\" модели 8.008781558086742\n"
     ]
    }
   ],
   "source": [
    "#Обучим \"глупую\" модель для проверки адекватности подобранных выше\n",
    "model_dummy_rougher = DummyRegressor(strategy = 'median').fit(features_train_rougher, target_train_rougher)\n",
    "model_dummy_final = DummyRegressor(strategy = 'median').fit(features_train_final, target_train_final)\n",
    "predictions_dummy_rougher = model_dummy_rougher.predict(features_test_rougher)\n",
    "predictions_dummy_final = model_dummy_final.predict(features_test_final)\n",
    "\n",
    "smape_dummy_rougher = smape(target_test_rougher, predictions_dummy_rougher)\n",
    "smape_dummy_final = smape(target_test_final, predictions_dummy_final)\n",
    "smape_dummy_result = smape_result(target_test_rougher, predictions_dummy_rougher, target_test_final, predictions_dummy_final)\n",
    "\n",
    "print('Итоговое sMAPE для \"глупой\" модели', smape_dummy_result)"
   ]
  },
  {
   "cell_type": "markdown",
   "metadata": {},
   "source": [
    "Была проведена проверка на адекватность лучшей из полученных моделей (линейной регрессии) с помощью dummy-модели: для нее метрика итогового sMAPE оказалась немного ниже, чем для линейной регрессии. Следовательно, удалось построить модель с достаточно высокой точностью предсказаний, далее ее можно будет пробовать перерабытывать для получения более высокого качества."
   ]
  },
  {
   "cell_type": "markdown",
   "metadata": {},
   "source": [
    "<a id='4'></a>\n",
    "## Общий вывод"
   ]
  },
  {
   "cell_type": "markdown",
   "metadata": {},
   "source": [
    "Целью проекта было спрогнозировать эффективность обогащения чернового и финального концентратов в золотодобывающей промышленности.  \n",
    "\n",
    "Прежде чем приступить к построению моделей, были исследованы имеющиеся данные. Было определено, что по мере прохождения этапов очистки содержания золота в сырье значительно увеличивается, и это является ожидаемым поведением, а следовательно, маркером адекватности данных. Также определили, что распределение размера гранул в обучающей и тестовой выборках различаются незначительно, что свидетельствует об отсутствии дисбаланса и пригодности этих сетов для успешного обучения моделей.   \n",
    "\n",
    "В процессе изучения концентрации различных веществ на различных этапах обработки сырья мы выявили небольшое количество аномальных нулевых значений, от них избавились как от очевидно ошибочных.  \n",
    "\n",
    "Также была проведена проверка адекватности расчета эффективности обогащения концентрата, представленного в обучающей выборке. В результате мы убедились, что эти данные в выборке реалистичны.  \n",
    "\n",
    "После оценки и предобработки данных было обучено три модели: решающее дерево, случайный лес и линейная рергрессия. На основании метрики качества sMAPE (симметричное среднее абсолютное процентное отклонение) выбрали наиболее точную из них и дополнительно проверили на адекватность в сравнении с dummy-моделью.  \n",
    "\n",
    "**В результате наиболее точной оказалась модель линейной регрессии - качество согласно метрике sMAPE близко к 92%.**"
   ]
  }
 ],
 "metadata": {
  "ExecuteTimeLog": [
   {
    "duration": 1388,
    "start_time": "2021-07-26T00:51:13.727Z"
   },
   {
    "duration": 4579,
    "start_time": "2021-07-26T00:53:44.971Z"
   },
   {
    "duration": 4,
    "start_time": "2021-07-26T00:54:44.334Z"
   },
   {
    "duration": 64,
    "start_time": "2021-07-26T01:01:37.117Z"
   },
   {
    "duration": 115,
    "start_time": "2021-07-26T01:02:55.742Z"
   },
   {
    "duration": 406,
    "start_time": "2021-07-26T01:05:56.353Z"
   },
   {
    "duration": 4,
    "start_time": "2021-07-26T01:06:00.947Z"
   },
   {
    "duration": 370,
    "start_time": "2021-07-26T01:06:02.008Z"
   },
   {
    "duration": 263,
    "start_time": "2021-07-26T01:06:32.416Z"
   },
   {
    "duration": 310,
    "start_time": "2021-07-26T01:07:17.669Z"
   },
   {
    "duration": 314,
    "start_time": "2021-07-26T01:07:32.245Z"
   },
   {
    "duration": 92,
    "start_time": "2021-07-26T01:08:07.921Z"
   },
   {
    "duration": 256,
    "start_time": "2021-07-26T01:08:20.368Z"
   },
   {
    "duration": 42,
    "start_time": "2021-07-26T01:08:27.259Z"
   },
   {
    "duration": 45,
    "start_time": "2021-07-26T01:10:04.406Z"
   },
   {
    "duration": 253,
    "start_time": "2021-08-01T21:47:32.082Z"
   },
   {
    "duration": 1055,
    "start_time": "2021-08-01T21:47:41.949Z"
   },
   {
    "duration": 724,
    "start_time": "2021-08-01T21:47:43.006Z"
   },
   {
    "duration": 2,
    "start_time": "2021-08-01T21:47:43.732Z"
   },
   {
    "duration": 42,
    "start_time": "2021-08-01T21:47:45.196Z"
   },
   {
    "duration": 65,
    "start_time": "2021-08-01T21:47:46.371Z"
   },
   {
    "duration": 58,
    "start_time": "2021-08-01T21:48:15.043Z"
   },
   {
    "duration": 256,
    "start_time": "2021-08-01T21:48:25.479Z"
   },
   {
    "duration": 214,
    "start_time": "2021-08-01T21:49:04.867Z"
   },
   {
    "duration": 220,
    "start_time": "2021-08-01T21:49:25.138Z"
   },
   {
    "duration": 3,
    "start_time": "2021-08-01T22:15:45.247Z"
   },
   {
    "duration": 411,
    "start_time": "2021-08-01T22:15:46.835Z"
   },
   {
    "duration": 4,
    "start_time": "2021-08-01T22:16:11.517Z"
   },
   {
    "duration": 452,
    "start_time": "2021-08-01T22:16:12.193Z"
   },
   {
    "duration": 3,
    "start_time": "2021-08-01T22:24:42.204Z"
   },
   {
    "duration": 420,
    "start_time": "2021-08-01T22:24:43.900Z"
   },
   {
    "duration": 3,
    "start_time": "2021-08-01T22:38:41.395Z"
   },
   {
    "duration": 255,
    "start_time": "2021-08-01T22:38:42.271Z"
   },
   {
    "duration": 263,
    "start_time": "2021-08-01T22:41:02.145Z"
   },
   {
    "duration": 68,
    "start_time": "2021-08-01T22:42:10.547Z"
   },
   {
    "duration": 260,
    "start_time": "2021-08-01T22:42:49.192Z"
   },
   {
    "duration": 466,
    "start_time": "2021-08-01T22:44:06.191Z"
   },
   {
    "duration": 306,
    "start_time": "2021-08-01T22:48:33.564Z"
   },
   {
    "duration": 309,
    "start_time": "2021-08-01T22:49:25.293Z"
   },
   {
    "duration": 3,
    "start_time": "2021-08-01T22:49:33.552Z"
   },
   {
    "duration": 308,
    "start_time": "2021-08-01T22:49:34.088Z"
   },
   {
    "duration": 303,
    "start_time": "2021-08-01T22:51:32.118Z"
   },
   {
    "duration": 306,
    "start_time": "2021-08-01T22:52:33.808Z"
   },
   {
    "duration": 306,
    "start_time": "2021-08-01T22:53:50.511Z"
   },
   {
    "duration": 318,
    "start_time": "2021-08-01T22:53:56.992Z"
   },
   {
    "duration": 356,
    "start_time": "2021-08-01T23:16:30.412Z"
   },
   {
    "duration": 415,
    "start_time": "2021-08-01T23:17:17.850Z"
   },
   {
    "duration": 311,
    "start_time": "2021-08-01T23:18:14.936Z"
   },
   {
    "duration": 329,
    "start_time": "2021-08-01T23:37:11.083Z"
   },
   {
    "duration": 307,
    "start_time": "2021-08-01T23:37:31.194Z"
   },
   {
    "duration": 8,
    "start_time": "2021-08-02T00:47:01.827Z"
   },
   {
    "duration": 3,
    "start_time": "2021-08-02T00:51:58.372Z"
   },
   {
    "duration": 3,
    "start_time": "2021-08-02T00:53:33.524Z"
   },
   {
    "duration": 3,
    "start_time": "2021-08-02T00:55:28.323Z"
   },
   {
    "duration": 23,
    "start_time": "2021-08-02T00:58:01.819Z"
   },
   {
    "duration": 94,
    "start_time": "2021-08-02T01:08:38.065Z"
   },
   {
    "duration": 80,
    "start_time": "2021-08-02T01:09:15.605Z"
   },
   {
    "duration": 95,
    "start_time": "2021-08-02T01:09:34.803Z"
   },
   {
    "duration": 106,
    "start_time": "2021-08-02T01:10:50.610Z"
   },
   {
    "duration": 95,
    "start_time": "2021-08-02T01:12:31.754Z"
   },
   {
    "duration": 96,
    "start_time": "2021-08-02T01:13:31.656Z"
   },
   {
    "duration": 91,
    "start_time": "2021-08-02T01:15:28.446Z"
   },
   {
    "duration": 276,
    "start_time": "2021-08-02T01:22:59.733Z"
   },
   {
    "duration": 288,
    "start_time": "2021-08-02T01:23:17.508Z"
   },
   {
    "duration": 224,
    "start_time": "2021-08-02T01:24:38.179Z"
   },
   {
    "duration": 76,
    "start_time": "2021-08-02T01:26:57.244Z"
   },
   {
    "duration": 239,
    "start_time": "2021-08-02T02:32:08.164Z"
   },
   {
    "duration": 218,
    "start_time": "2021-08-02T02:32:56.986Z"
   },
   {
    "duration": 226,
    "start_time": "2021-08-02T02:34:20.638Z"
   },
   {
    "duration": 12,
    "start_time": "2021-08-02T02:34:32.096Z"
   },
   {
    "duration": 12,
    "start_time": "2021-08-02T02:36:22.058Z"
   },
   {
    "duration": 12,
    "start_time": "2021-08-02T02:37:51.569Z"
   },
   {
    "duration": 1138,
    "start_time": "2021-08-02T02:38:07.270Z"
   },
   {
    "duration": 689,
    "start_time": "2021-08-02T02:38:08.410Z"
   },
   {
    "duration": 317,
    "start_time": "2021-08-02T02:38:09.101Z"
   },
   {
    "duration": -414,
    "start_time": "2021-08-02T02:38:09.834Z"
   },
   {
    "duration": -417,
    "start_time": "2021-08-02T02:38:09.837Z"
   },
   {
    "duration": -431,
    "start_time": "2021-08-02T02:38:09.852Z"
   },
   {
    "duration": -434,
    "start_time": "2021-08-02T02:38:09.856Z"
   },
   {
    "duration": 3,
    "start_time": "2021-08-02T02:38:23.177Z"
   },
   {
    "duration": 707,
    "start_time": "2021-08-02T02:38:23.182Z"
   },
   {
    "duration": 1100,
    "start_time": "2021-08-02T02:39:08.010Z"
   },
   {
    "duration": 975,
    "start_time": "2021-08-02T02:39:09.112Z"
   },
   {
    "duration": 2,
    "start_time": "2021-08-02T02:39:10.090Z"
   },
   {
    "duration": 457,
    "start_time": "2021-08-02T02:39:10.094Z"
   },
   {
    "duration": 8,
    "start_time": "2021-08-02T02:39:10.552Z"
   },
   {
    "duration": 31,
    "start_time": "2021-08-02T02:39:10.561Z"
   },
   {
    "duration": 337,
    "start_time": "2021-08-02T02:39:10.593Z"
   },
   {
    "duration": -409,
    "start_time": "2021-08-02T02:39:11.341Z"
   },
   {
    "duration": 60,
    "start_time": "2021-08-02T02:50:42.486Z"
   },
   {
    "duration": 46,
    "start_time": "2021-08-02T02:52:38.628Z"
   },
   {
    "duration": 87,
    "start_time": "2021-08-02T02:53:18.332Z"
   },
   {
    "duration": 5,
    "start_time": "2021-08-02T02:53:44.040Z"
   },
   {
    "duration": 5,
    "start_time": "2021-08-02T02:53:57.140Z"
   },
   {
    "duration": 5,
    "start_time": "2021-08-02T02:54:05.102Z"
   },
   {
    "duration": 73,
    "start_time": "2021-08-02T02:54:39.893Z"
   },
   {
    "duration": 5,
    "start_time": "2021-08-02T02:55:05.454Z"
   },
   {
    "duration": 4,
    "start_time": "2021-08-02T02:55:27.354Z"
   },
   {
    "duration": 5,
    "start_time": "2021-08-02T02:55:45.776Z"
   },
   {
    "duration": 4,
    "start_time": "2021-08-02T02:55:59.579Z"
   },
   {
    "duration": 5,
    "start_time": "2021-08-02T02:56:06.200Z"
   },
   {
    "duration": 5,
    "start_time": "2021-08-02T02:56:26.495Z"
   },
   {
    "duration": 8,
    "start_time": "2021-08-02T03:16:43.016Z"
   },
   {
    "duration": 4,
    "start_time": "2021-08-02T03:28:31.011Z"
   },
   {
    "duration": 209,
    "start_time": "2021-08-02T03:41:27.786Z"
   },
   {
    "duration": 8,
    "start_time": "2021-08-02T03:41:37.921Z"
   },
   {
    "duration": 255,
    "start_time": "2021-08-02T03:47:11.324Z"
   },
   {
    "duration": 222,
    "start_time": "2021-08-02T03:47:19.691Z"
   },
   {
    "duration": 14,
    "start_time": "2021-08-02T03:47:25.095Z"
   },
   {
    "duration": 224,
    "start_time": "2021-08-02T03:47:48.544Z"
   },
   {
    "duration": 225,
    "start_time": "2021-08-02T03:48:07.250Z"
   },
   {
    "duration": 221,
    "start_time": "2021-08-02T03:48:23.177Z"
   },
   {
    "duration": 217,
    "start_time": "2021-08-02T03:48:31.438Z"
   },
   {
    "duration": 231,
    "start_time": "2021-08-02T03:48:38.459Z"
   },
   {
    "duration": 216,
    "start_time": "2021-08-02T03:49:04.932Z"
   },
   {
    "duration": 1079,
    "start_time": "2021-08-02T03:49:23.330Z"
   },
   {
    "duration": 788,
    "start_time": "2021-08-02T03:49:24.411Z"
   },
   {
    "duration": 2,
    "start_time": "2021-08-02T03:49:25.201Z"
   },
   {
    "duration": 324,
    "start_time": "2021-08-02T03:49:25.205Z"
   },
   {
    "duration": 7,
    "start_time": "2021-08-02T03:49:25.530Z"
   },
   {
    "duration": 8,
    "start_time": "2021-08-02T03:49:25.539Z"
   },
   {
    "duration": 77,
    "start_time": "2021-08-02T03:49:25.549Z"
   },
   {
    "duration": 4,
    "start_time": "2021-08-02T03:49:25.629Z"
   },
   {
    "duration": 11,
    "start_time": "2021-08-02T03:49:25.634Z"
   },
   {
    "duration": 6,
    "start_time": "2021-08-02T03:49:25.647Z"
   },
   {
    "duration": 6,
    "start_time": "2021-08-02T03:49:25.654Z"
   },
   {
    "duration": 29,
    "start_time": "2021-08-02T03:49:25.662Z"
   },
   {
    "duration": 10,
    "start_time": "2021-08-02T03:49:25.693Z"
   },
   {
    "duration": 4,
    "start_time": "2021-08-02T03:51:05.269Z"
   },
   {
    "duration": 10,
    "start_time": "2021-08-02T03:51:09.149Z"
   },
   {
    "duration": 10,
    "start_time": "2021-08-02T03:52:50.864Z"
   },
   {
    "duration": 5,
    "start_time": "2021-08-02T03:55:59.237Z"
   },
   {
    "duration": 10,
    "start_time": "2021-08-02T03:56:03.691Z"
   },
   {
    "duration": 1560,
    "start_time": "2021-08-02T03:56:22.176Z"
   },
   {
    "duration": -419,
    "start_time": "2021-08-02T03:56:24.157Z"
   },
   {
    "duration": 8,
    "start_time": "2021-08-02T03:57:59.722Z"
   },
   {
    "duration": 11,
    "start_time": "2021-08-02T03:58:01.606Z"
   },
   {
    "duration": 1118,
    "start_time": "2021-08-02T03:59:20.796Z"
   },
   {
    "duration": 701,
    "start_time": "2021-08-02T03:59:21.916Z"
   },
   {
    "duration": 2,
    "start_time": "2021-08-02T03:59:22.619Z"
   },
   {
    "duration": 410,
    "start_time": "2021-08-02T03:59:22.623Z"
   },
   {
    "duration": 9,
    "start_time": "2021-08-02T03:59:23.034Z"
   },
   {
    "duration": 11,
    "start_time": "2021-08-02T03:59:23.044Z"
   },
   {
    "duration": 92,
    "start_time": "2021-08-02T03:59:23.057Z"
   },
   {
    "duration": 4,
    "start_time": "2021-08-02T03:59:23.152Z"
   },
   {
    "duration": 10,
    "start_time": "2021-08-02T03:59:23.158Z"
   },
   {
    "duration": 11,
    "start_time": "2021-08-02T03:59:23.170Z"
   },
   {
    "duration": 7,
    "start_time": "2021-08-02T03:59:23.191Z"
   },
   {
    "duration": 19,
    "start_time": "2021-08-02T03:59:23.200Z"
   },
   {
    "duration": 14,
    "start_time": "2021-08-02T03:59:23.221Z"
   },
   {
    "duration": 303,
    "start_time": "2021-08-02T03:59:49.000Z"
   },
   {
    "duration": 225,
    "start_time": "2021-08-02T04:00:32.117Z"
   },
   {
    "duration": 215,
    "start_time": "2021-08-02T04:00:43.348Z"
   },
   {
    "duration": 247,
    "start_time": "2021-08-02T04:01:08.258Z"
   },
   {
    "duration": 221,
    "start_time": "2021-08-02T04:01:14.545Z"
   },
   {
    "duration": 219,
    "start_time": "2021-08-02T04:01:24.774Z"
   },
   {
    "duration": 9,
    "start_time": "2021-08-02T04:01:35.779Z"
   },
   {
    "duration": 10,
    "start_time": "2021-08-02T04:01:39.122Z"
   },
   {
    "duration": 1097,
    "start_time": "2021-08-02T04:01:56.517Z"
   },
   {
    "duration": 686,
    "start_time": "2021-08-02T04:01:57.616Z"
   },
   {
    "duration": 2,
    "start_time": "2021-08-02T04:01:58.304Z"
   },
   {
    "duration": 333,
    "start_time": "2021-08-02T04:01:58.308Z"
   },
   {
    "duration": 6,
    "start_time": "2021-08-02T04:01:58.643Z"
   },
   {
    "duration": 8,
    "start_time": "2021-08-02T04:01:58.651Z"
   },
   {
    "duration": 79,
    "start_time": "2021-08-02T04:01:58.661Z"
   },
   {
    "duration": 4,
    "start_time": "2021-08-02T04:01:58.742Z"
   },
   {
    "duration": 10,
    "start_time": "2021-08-02T04:01:58.748Z"
   },
   {
    "duration": 6,
    "start_time": "2021-08-02T04:01:58.759Z"
   },
   {
    "duration": 25,
    "start_time": "2021-08-02T04:01:58.766Z"
   },
   {
    "duration": 39,
    "start_time": "2021-08-02T04:05:09.946Z"
   },
   {
    "duration": 3,
    "start_time": "2021-08-02T04:07:28.604Z"
   },
   {
    "duration": 36,
    "start_time": "2021-08-02T04:07:29.397Z"
   },
   {
    "duration": 37,
    "start_time": "2021-08-02T04:08:31.386Z"
   },
   {
    "duration": 12,
    "start_time": "2021-08-02T04:13:38.651Z"
   },
   {
    "duration": 9,
    "start_time": "2021-08-02T04:13:58.091Z"
   },
   {
    "duration": 300,
    "start_time": "2021-08-02T04:14:37.257Z"
   },
   {
    "duration": 4,
    "start_time": "2021-08-02T04:14:57.870Z"
   },
   {
    "duration": 1184,
    "start_time": "2021-08-02T04:15:31.223Z"
   },
   {
    "duration": 690,
    "start_time": "2021-08-02T04:15:32.409Z"
   },
   {
    "duration": 3,
    "start_time": "2021-08-02T04:15:33.101Z"
   },
   {
    "duration": 343,
    "start_time": "2021-08-02T04:15:33.106Z"
   },
   {
    "duration": 8,
    "start_time": "2021-08-02T04:15:33.450Z"
   },
   {
    "duration": 8,
    "start_time": "2021-08-02T04:15:33.459Z"
   },
   {
    "duration": 53,
    "start_time": "2021-08-02T04:15:33.491Z"
   },
   {
    "duration": 4,
    "start_time": "2021-08-02T04:15:33.546Z"
   },
   {
    "duration": 13,
    "start_time": "2021-08-02T04:15:33.552Z"
   },
   {
    "duration": 12,
    "start_time": "2021-08-02T04:15:33.567Z"
   },
   {
    "duration": 16,
    "start_time": "2021-08-02T04:15:33.580Z"
   },
   {
    "duration": 18,
    "start_time": "2021-08-02T04:15:33.597Z"
   },
   {
    "duration": 14,
    "start_time": "2021-08-02T04:15:33.617Z"
   },
   {
    "duration": 7,
    "start_time": "2021-08-02T04:15:33.632Z"
   },
   {
    "duration": 341,
    "start_time": "2021-08-02T04:15:33.641Z"
   },
   {
    "duration": -417,
    "start_time": "2021-08-02T04:15:34.401Z"
   },
   {
    "duration": -419,
    "start_time": "2021-08-02T04:15:34.404Z"
   },
   {
    "duration": 36,
    "start_time": "2021-08-02T04:15:46.159Z"
   },
   {
    "duration": 38,
    "start_time": "2021-08-02T04:16:17.895Z"
   },
   {
    "duration": 13,
    "start_time": "2021-08-02T04:16:27.489Z"
   },
   {
    "duration": 4,
    "start_time": "2021-08-02T04:16:28.002Z"
   },
   {
    "duration": 1504,
    "start_time": "2021-08-08T22:20:05.816Z"
   },
   {
    "duration": 922,
    "start_time": "2021-08-08T22:20:07.323Z"
   },
   {
    "duration": 5,
    "start_time": "2021-08-08T22:20:08.248Z"
   },
   {
    "duration": 637,
    "start_time": "2021-08-08T22:20:08.255Z"
   },
   {
    "duration": 11,
    "start_time": "2021-08-08T22:20:08.895Z"
   },
   {
    "duration": 17,
    "start_time": "2021-08-08T22:20:08.909Z"
   },
   {
    "duration": 136,
    "start_time": "2021-08-08T22:20:08.929Z"
   },
   {
    "duration": 18,
    "start_time": "2021-08-08T22:20:09.069Z"
   },
   {
    "duration": 11,
    "start_time": "2021-08-08T22:20:09.091Z"
   },
   {
    "duration": 8,
    "start_time": "2021-08-08T22:20:09.105Z"
   },
   {
    "duration": 19,
    "start_time": "2021-08-08T22:20:09.116Z"
   },
   {
    "duration": 47,
    "start_time": "2021-08-08T22:20:09.138Z"
   },
   {
    "duration": 18,
    "start_time": "2021-08-08T22:20:09.188Z"
   },
   {
    "duration": 5,
    "start_time": "2021-08-08T22:20:09.208Z"
   },
   {
    "duration": 100,
    "start_time": "2021-08-08T22:20:09.215Z"
   },
   {
    "duration": 16,
    "start_time": "2021-08-08T22:20:09.317Z"
   },
   {
    "duration": 1511,
    "start_time": "2021-08-08T22:26:34.676Z"
   },
   {
    "duration": 895,
    "start_time": "2021-08-08T22:26:36.190Z"
   },
   {
    "duration": 3,
    "start_time": "2021-08-08T22:26:37.088Z"
   },
   {
    "duration": 616,
    "start_time": "2021-08-08T22:26:37.094Z"
   },
   {
    "duration": 11,
    "start_time": "2021-08-08T22:26:37.713Z"
   },
   {
    "duration": 14,
    "start_time": "2021-08-08T22:26:37.726Z"
   },
   {
    "duration": 121,
    "start_time": "2021-08-08T22:26:37.742Z"
   },
   {
    "duration": 6,
    "start_time": "2021-08-08T22:26:37.867Z"
   },
   {
    "duration": 12,
    "start_time": "2021-08-08T22:26:37.886Z"
   },
   {
    "duration": 7,
    "start_time": "2021-08-08T22:26:37.901Z"
   },
   {
    "duration": 9,
    "start_time": "2021-08-08T22:26:37.911Z"
   },
   {
    "duration": 26,
    "start_time": "2021-08-08T22:26:37.923Z"
   },
   {
    "duration": 50,
    "start_time": "2021-08-08T22:26:37.951Z"
   },
   {
    "duration": 4,
    "start_time": "2021-08-08T22:26:38.003Z"
   },
   {
    "duration": 102,
    "start_time": "2021-08-08T22:26:38.010Z"
   },
   {
    "duration": 1724,
    "start_time": "2021-08-08T22:43:57.275Z"
   },
   {
    "duration": 895,
    "start_time": "2021-08-08T22:43:59.002Z"
   },
   {
    "duration": 4,
    "start_time": "2021-08-08T22:43:59.900Z"
   },
   {
    "duration": 620,
    "start_time": "2021-08-08T22:43:59.907Z"
   },
   {
    "duration": 10,
    "start_time": "2021-08-08T22:44:00.529Z"
   },
   {
    "duration": 47,
    "start_time": "2021-08-08T22:44:00.542Z"
   },
   {
    "duration": 98,
    "start_time": "2021-08-08T22:44:00.591Z"
   },
   {
    "duration": 5,
    "start_time": "2021-08-08T22:44:00.692Z"
   },
   {
    "duration": 22,
    "start_time": "2021-08-08T22:44:00.700Z"
   },
   {
    "duration": 15,
    "start_time": "2021-08-08T22:44:00.725Z"
   },
   {
    "duration": 18,
    "start_time": "2021-08-08T22:44:00.742Z"
   },
   {
    "duration": 41,
    "start_time": "2021-08-08T22:44:00.762Z"
   },
   {
    "duration": 25,
    "start_time": "2021-08-08T22:44:00.806Z"
   },
   {
    "duration": 4,
    "start_time": "2021-08-08T22:44:00.833Z"
   },
   {
    "duration": 83,
    "start_time": "2021-08-08T22:44:00.839Z"
   },
   {
    "duration": 14,
    "start_time": "2021-08-08T22:45:49.753Z"
   },
   {
    "duration": 15,
    "start_time": "2021-08-08T22:46:32.239Z"
   },
   {
    "duration": 8966,
    "start_time": "2021-08-08T22:48:01.130Z"
   },
   {
    "duration": -1523,
    "start_time": "2021-08-08T22:48:11.622Z"
   },
   {
    "duration": -1525,
    "start_time": "2021-08-08T22:48:11.626Z"
   },
   {
    "duration": 1516,
    "start_time": "2021-08-08T22:48:27.706Z"
   },
   {
    "duration": 912,
    "start_time": "2021-08-08T22:48:29.225Z"
   },
   {
    "duration": 5,
    "start_time": "2021-08-08T22:48:30.141Z"
   },
   {
    "duration": 626,
    "start_time": "2021-08-08T22:48:30.149Z"
   },
   {
    "duration": 11,
    "start_time": "2021-08-08T22:48:30.786Z"
   },
   {
    "duration": 16,
    "start_time": "2021-08-08T22:48:30.799Z"
   },
   {
    "duration": 127,
    "start_time": "2021-08-08T22:48:30.817Z"
   },
   {
    "duration": 6,
    "start_time": "2021-08-08T22:48:30.947Z"
   },
   {
    "duration": 31,
    "start_time": "2021-08-08T22:48:30.955Z"
   },
   {
    "duration": 8,
    "start_time": "2021-08-08T22:48:30.988Z"
   },
   {
    "duration": 14,
    "start_time": "2021-08-08T22:48:30.998Z"
   },
   {
    "duration": 32,
    "start_time": "2021-08-08T22:48:31.014Z"
   },
   {
    "duration": 8,
    "start_time": "2021-08-08T22:48:31.048Z"
   },
   {
    "duration": 38,
    "start_time": "2021-08-08T22:48:31.058Z"
   },
   {
    "duration": 96,
    "start_time": "2021-08-08T22:48:31.098Z"
   },
   {
    "duration": 18,
    "start_time": "2021-08-08T22:48:43.568Z"
   },
   {
    "duration": 449,
    "start_time": "2021-08-08T22:48:53.187Z"
   },
   {
    "duration": 15,
    "start_time": "2021-08-08T22:50:45.946Z"
   },
   {
    "duration": 1483,
    "start_time": "2021-08-08T22:51:15.335Z"
   },
   {
    "duration": 940,
    "start_time": "2021-08-08T22:51:16.821Z"
   },
   {
    "duration": 3,
    "start_time": "2021-08-08T22:51:17.764Z"
   },
   {
    "duration": 655,
    "start_time": "2021-08-08T22:51:17.770Z"
   },
   {
    "duration": 12,
    "start_time": "2021-08-08T22:51:18.427Z"
   },
   {
    "duration": 48,
    "start_time": "2021-08-08T22:51:18.442Z"
   },
   {
    "duration": 112,
    "start_time": "2021-08-08T22:51:18.493Z"
   },
   {
    "duration": 7,
    "start_time": "2021-08-08T22:51:18.608Z"
   },
   {
    "duration": 12,
    "start_time": "2021-08-08T22:51:18.619Z"
   },
   {
    "duration": 9,
    "start_time": "2021-08-08T22:51:18.633Z"
   },
   {
    "duration": 47,
    "start_time": "2021-08-08T22:51:18.644Z"
   },
   {
    "duration": 24,
    "start_time": "2021-08-08T22:51:18.693Z"
   },
   {
    "duration": 8,
    "start_time": "2021-08-08T22:51:18.720Z"
   },
   {
    "duration": 18,
    "start_time": "2021-08-08T22:51:18.731Z"
   },
   {
    "duration": 93,
    "start_time": "2021-08-08T22:51:18.751Z"
   },
   {
    "duration": 19,
    "start_time": "2021-08-08T22:51:42.743Z"
   },
   {
    "duration": 27,
    "start_time": "2021-08-08T22:51:51.302Z"
   },
   {
    "duration": 1519,
    "start_time": "2021-08-08T22:52:56.394Z"
   },
   {
    "duration": 938,
    "start_time": "2021-08-08T22:52:57.915Z"
   },
   {
    "duration": 4,
    "start_time": "2021-08-08T22:52:58.856Z"
   },
   {
    "duration": 636,
    "start_time": "2021-08-08T22:52:58.863Z"
   },
   {
    "duration": 12,
    "start_time": "2021-08-08T22:52:59.501Z"
   },
   {
    "duration": 23,
    "start_time": "2021-08-08T22:52:59.515Z"
   },
   {
    "duration": 122,
    "start_time": "2021-08-08T22:52:59.540Z"
   },
   {
    "duration": 6,
    "start_time": "2021-08-08T22:52:59.666Z"
   },
   {
    "duration": 11,
    "start_time": "2021-08-08T22:52:59.686Z"
   },
   {
    "duration": 15,
    "start_time": "2021-08-08T22:52:59.699Z"
   },
   {
    "duration": 18,
    "start_time": "2021-08-08T22:52:59.716Z"
   },
   {
    "duration": 30,
    "start_time": "2021-08-08T22:52:59.737Z"
   },
   {
    "duration": 4,
    "start_time": "2021-08-08T22:52:59.769Z"
   },
   {
    "duration": 25,
    "start_time": "2021-08-08T22:52:59.786Z"
   },
   {
    "duration": 96,
    "start_time": "2021-08-08T22:52:59.813Z"
   },
   {
    "duration": 7,
    "start_time": "2021-08-08T22:53:47.409Z"
   },
   {
    "duration": 4,
    "start_time": "2021-08-08T22:53:48.323Z"
   },
   {
    "duration": 25,
    "start_time": "2021-08-08T22:53:49.256Z"
   },
   {
    "duration": 560,
    "start_time": "2021-08-08T22:54:40.394Z"
   },
   {
    "duration": 1490,
    "start_time": "2021-08-08T22:54:55.523Z"
   },
   {
    "duration": 941,
    "start_time": "2021-08-08T22:54:57.016Z"
   },
   {
    "duration": 5,
    "start_time": "2021-08-08T22:54:57.961Z"
   },
   {
    "duration": 646,
    "start_time": "2021-08-08T22:54:57.985Z"
   },
   {
    "duration": 11,
    "start_time": "2021-08-08T22:54:58.633Z"
   },
   {
    "duration": 44,
    "start_time": "2021-08-08T22:54:58.646Z"
   },
   {
    "duration": 107,
    "start_time": "2021-08-08T22:54:58.692Z"
   },
   {
    "duration": 6,
    "start_time": "2021-08-08T22:54:58.801Z"
   },
   {
    "duration": 26,
    "start_time": "2021-08-08T22:54:58.810Z"
   },
   {
    "duration": 14,
    "start_time": "2021-08-08T22:54:58.839Z"
   },
   {
    "duration": 20,
    "start_time": "2021-08-08T22:54:58.855Z"
   },
   {
    "duration": 46,
    "start_time": "2021-08-08T22:54:58.877Z"
   },
   {
    "duration": 5,
    "start_time": "2021-08-08T22:54:58.926Z"
   },
   {
    "duration": 13,
    "start_time": "2021-08-08T22:54:58.935Z"
   },
   {
    "duration": 38,
    "start_time": "2021-08-08T22:54:58.951Z"
   },
   {
    "duration": 112,
    "start_time": "2021-08-08T22:54:58.992Z"
   },
   {
    "duration": 17,
    "start_time": "2021-08-08T22:55:21.255Z"
   },
   {
    "duration": 99,
    "start_time": "2021-08-08T23:01:36.726Z"
   },
   {
    "duration": 7575,
    "start_time": "2021-08-08T23:01:53.767Z"
   },
   {
    "duration": 7366,
    "start_time": "2021-08-08T23:03:23.412Z"
   },
   {
    "duration": 1499,
    "start_time": "2021-08-08T23:03:51.403Z"
   },
   {
    "duration": 904,
    "start_time": "2021-08-08T23:03:52.905Z"
   },
   {
    "duration": 4,
    "start_time": "2021-08-08T23:03:53.813Z"
   },
   {
    "duration": 674,
    "start_time": "2021-08-08T23:03:53.821Z"
   },
   {
    "duration": 12,
    "start_time": "2021-08-08T23:03:54.498Z"
   },
   {
    "duration": 15,
    "start_time": "2021-08-08T23:03:54.512Z"
   },
   {
    "duration": 125,
    "start_time": "2021-08-08T23:03:54.529Z"
   },
   {
    "duration": 6,
    "start_time": "2021-08-08T23:03:54.656Z"
   },
   {
    "duration": 27,
    "start_time": "2021-08-08T23:03:54.666Z"
   },
   {
    "duration": 11,
    "start_time": "2021-08-08T23:03:54.696Z"
   },
   {
    "duration": 11,
    "start_time": "2021-08-08T23:03:54.710Z"
   },
   {
    "duration": 30,
    "start_time": "2021-08-08T23:03:54.724Z"
   },
   {
    "duration": 4,
    "start_time": "2021-08-08T23:03:54.757Z"
   },
   {
    "duration": 34,
    "start_time": "2021-08-08T23:03:54.764Z"
   },
   {
    "duration": 95,
    "start_time": "2021-08-08T23:03:54.800Z"
   },
   {
    "duration": 12,
    "start_time": "2021-08-08T23:04:20.165Z"
   },
   {
    "duration": 3,
    "start_time": "2021-08-08T23:04:20.946Z"
   },
   {
    "duration": 18,
    "start_time": "2021-08-08T23:04:21.914Z"
   },
   {
    "duration": 35,
    "start_time": "2021-08-08T23:09:03.187Z"
   },
   {
    "duration": 36,
    "start_time": "2021-08-08T23:09:34.284Z"
   },
   {
    "duration": 416,
    "start_time": "2021-08-08T23:09:47.700Z"
   },
   {
    "duration": 35,
    "start_time": "2021-08-08T23:10:01.128Z"
   },
   {
    "duration": 61,
    "start_time": "2021-08-08T23:10:41.093Z"
   },
   {
    "duration": 9,
    "start_time": "2021-08-08T23:28:40.884Z"
   },
   {
    "duration": 61,
    "start_time": "2021-08-08T23:28:50.511Z"
   },
   {
    "duration": 1609,
    "start_time": "2021-08-08T23:29:41.682Z"
   },
   {
    "duration": 896,
    "start_time": "2021-08-08T23:29:43.294Z"
   },
   {
    "duration": 4,
    "start_time": "2021-08-08T23:29:44.194Z"
   },
   {
    "duration": 622,
    "start_time": "2021-08-08T23:29:44.200Z"
   },
   {
    "duration": 11,
    "start_time": "2021-08-08T23:29:44.824Z"
   },
   {
    "duration": 49,
    "start_time": "2021-08-08T23:29:44.838Z"
   },
   {
    "duration": 105,
    "start_time": "2021-08-08T23:29:44.889Z"
   },
   {
    "duration": 7,
    "start_time": "2021-08-08T23:29:44.998Z"
   },
   {
    "duration": 34,
    "start_time": "2021-08-08T23:29:45.009Z"
   },
   {
    "duration": 15,
    "start_time": "2021-08-08T23:29:45.046Z"
   },
   {
    "duration": 18,
    "start_time": "2021-08-08T23:29:45.063Z"
   },
   {
    "duration": 41,
    "start_time": "2021-08-08T23:29:45.084Z"
   },
   {
    "duration": 5,
    "start_time": "2021-08-08T23:29:45.127Z"
   },
   {
    "duration": 73,
    "start_time": "2021-08-08T23:29:45.134Z"
   },
   {
    "duration": 9,
    "start_time": "2021-08-08T23:29:45.210Z"
   },
   {
    "duration": 4,
    "start_time": "2021-08-08T23:29:45.222Z"
   },
   {
    "duration": 102,
    "start_time": "2021-08-08T23:29:45.228Z"
   },
   {
    "duration": 1528,
    "start_time": "2021-08-08T23:30:28.489Z"
   },
   {
    "duration": 918,
    "start_time": "2021-08-08T23:30:30.020Z"
   },
   {
    "duration": 4,
    "start_time": "2021-08-08T23:30:30.941Z"
   },
   {
    "duration": 658,
    "start_time": "2021-08-08T23:30:30.947Z"
   },
   {
    "duration": 14,
    "start_time": "2021-08-08T23:30:31.609Z"
   },
   {
    "duration": 21,
    "start_time": "2021-08-08T23:30:31.626Z"
   },
   {
    "duration": 120,
    "start_time": "2021-08-08T23:30:31.650Z"
   },
   {
    "duration": 7,
    "start_time": "2021-08-08T23:30:31.788Z"
   },
   {
    "duration": 20,
    "start_time": "2021-08-08T23:30:31.799Z"
   },
   {
    "duration": 12,
    "start_time": "2021-08-08T23:30:31.822Z"
   },
   {
    "duration": 18,
    "start_time": "2021-08-08T23:30:31.837Z"
   },
   {
    "duration": 45,
    "start_time": "2021-08-08T23:30:31.858Z"
   },
   {
    "duration": 13,
    "start_time": "2021-08-08T23:30:31.905Z"
   },
   {
    "duration": 6,
    "start_time": "2021-08-08T23:30:31.921Z"
   },
   {
    "duration": 108,
    "start_time": "2021-08-08T23:30:31.930Z"
   },
   {
    "duration": 148,
    "start_time": "2021-08-08T23:46:45.468Z"
   },
   {
    "duration": 464,
    "start_time": "2021-08-08T23:46:57.877Z"
   },
   {
    "duration": 109,
    "start_time": "2021-08-08T23:48:43.395Z"
   },
   {
    "duration": 372,
    "start_time": "2021-08-08T23:51:15.859Z"
   },
   {
    "duration": 480,
    "start_time": "2021-08-08T23:51:26.681Z"
   },
   {
    "duration": 469,
    "start_time": "2021-08-08T23:51:51.154Z"
   },
   {
    "duration": 471,
    "start_time": "2021-08-08T23:52:56.065Z"
   },
   {
    "duration": 8120,
    "start_time": "2021-08-08T23:54:01.906Z"
   },
   {
    "duration": 125,
    "start_time": "2021-08-08T23:54:52.856Z"
   },
   {
    "duration": 493,
    "start_time": "2021-08-08T23:59:33.867Z"
   },
   {
    "duration": 798,
    "start_time": "2021-08-09T00:09:04.884Z"
   },
   {
    "duration": 4210,
    "start_time": "2021-08-09T00:13:04.546Z"
   },
   {
    "duration": 919,
    "start_time": "2021-08-09T00:15:12.439Z"
   },
   {
    "duration": 473,
    "start_time": "2021-08-09T00:15:56.220Z"
   },
   {
    "duration": 119,
    "start_time": "2021-08-09T00:17:19.634Z"
   },
   {
    "duration": 101,
    "start_time": "2021-08-09T00:17:27.620Z"
   },
   {
    "duration": 8521,
    "start_time": "2021-08-09T00:17:39.329Z"
   },
   {
    "duration": 7705,
    "start_time": "2021-08-09T00:18:10.078Z"
   },
   {
    "duration": 378,
    "start_time": "2021-08-09T00:18:34.319Z"
   },
   {
    "duration": 359,
    "start_time": "2021-08-09T00:19:07.338Z"
   },
   {
    "duration": 883,
    "start_time": "2021-08-09T00:20:01.326Z"
   },
   {
    "duration": 917,
    "start_time": "2021-08-09T00:20:14.084Z"
   },
   {
    "duration": 9005,
    "start_time": "2021-08-09T00:20:25.822Z"
   },
   {
    "duration": 972,
    "start_time": "2021-08-09T00:20:35.127Z"
   },
   {
    "duration": 842,
    "start_time": "2021-08-09T00:21:15.936Z"
   },
   {
    "duration": 879,
    "start_time": "2021-08-09T00:21:35.306Z"
   },
   {
    "duration": 1160,
    "start_time": "2021-08-09T00:21:56.352Z"
   },
   {
    "duration": 1267,
    "start_time": "2021-08-09T00:22:02.360Z"
   },
   {
    "duration": 881,
    "start_time": "2021-08-09T00:22:26.922Z"
   },
   {
    "duration": 988,
    "start_time": "2021-08-09T00:22:44.574Z"
   },
   {
    "duration": 987,
    "start_time": "2021-08-09T00:22:55.356Z"
   },
   {
    "duration": 951,
    "start_time": "2021-08-09T00:23:06.096Z"
   },
   {
    "duration": 317,
    "start_time": "2021-08-09T00:23:29.870Z"
   },
   {
    "duration": 310,
    "start_time": "2021-08-09T00:24:54.591Z"
   },
   {
    "duration": 924,
    "start_time": "2021-08-09T00:25:14.871Z"
   },
   {
    "duration": 954,
    "start_time": "2021-08-09T00:25:57.652Z"
   },
   {
    "duration": 695,
    "start_time": "2021-08-09T01:36:52.120Z"
   },
   {
    "duration": 1148,
    "start_time": "2021-08-09T01:37:26.152Z"
   },
   {
    "duration": 679,
    "start_time": "2021-08-09T01:38:59.009Z"
   },
   {
    "duration": 699,
    "start_time": "2021-08-09T01:39:51.976Z"
   },
   {
    "duration": 699,
    "start_time": "2021-08-09T01:41:47.458Z"
   },
   {
    "duration": 695,
    "start_time": "2021-08-09T01:42:52.327Z"
   },
   {
    "duration": 700,
    "start_time": "2021-08-09T01:43:07.420Z"
   },
   {
    "duration": 823,
    "start_time": "2021-08-09T01:46:27.959Z"
   },
   {
    "duration": 801,
    "start_time": "2021-08-09T01:46:50.584Z"
   },
   {
    "duration": 879,
    "start_time": "2021-08-09T01:47:26.647Z"
   },
   {
    "duration": 883,
    "start_time": "2021-08-09T01:48:24.581Z"
   },
   {
    "duration": 828,
    "start_time": "2021-08-09T01:49:18.705Z"
   },
   {
    "duration": 895,
    "start_time": "2021-08-09T01:49:40.580Z"
   },
   {
    "duration": 893,
    "start_time": "2021-08-09T01:49:53.028Z"
   },
   {
    "duration": 824,
    "start_time": "2021-08-09T01:50:09.102Z"
   },
   {
    "duration": 835,
    "start_time": "2021-08-09T01:50:15.301Z"
   },
   {
    "duration": 410,
    "start_time": "2021-08-09T02:02:48.114Z"
   },
   {
    "duration": 304,
    "start_time": "2021-08-09T02:08:08.856Z"
   },
   {
    "duration": 309,
    "start_time": "2021-08-09T02:08:27.555Z"
   },
   {
    "duration": 1573,
    "start_time": "2021-08-09T02:08:40.467Z"
   },
   {
    "duration": 455,
    "start_time": "2021-08-09T02:08:50.197Z"
   },
   {
    "duration": 354,
    "start_time": "2021-08-09T02:08:57.538Z"
   },
   {
    "duration": 754,
    "start_time": "2021-08-09T02:09:39.357Z"
   },
   {
    "duration": 362,
    "start_time": "2021-08-09T02:10:01.247Z"
   },
   {
    "duration": 759,
    "start_time": "2021-08-09T02:10:09.918Z"
   },
   {
    "duration": 309,
    "start_time": "2021-08-09T02:12:52.441Z"
   },
   {
    "duration": 2011,
    "start_time": "2021-08-09T02:13:41.476Z"
   },
   {
    "duration": 6369,
    "start_time": "2021-08-09T02:14:04.370Z"
   },
   {
    "duration": 6561,
    "start_time": "2021-08-09T02:14:44.121Z"
   },
   {
    "duration": 6921,
    "start_time": "2021-08-09T02:14:58.277Z"
   },
   {
    "duration": 6250,
    "start_time": "2021-08-09T02:15:24.133Z"
   },
   {
    "duration": 3322,
    "start_time": "2021-08-09T02:15:38.236Z"
   },
   {
    "duration": 6596,
    "start_time": "2021-08-09T02:16:04.124Z"
   },
   {
    "duration": 6862,
    "start_time": "2021-08-09T02:16:19.915Z"
   },
   {
    "duration": 7114,
    "start_time": "2021-08-09T02:16:32.402Z"
   },
   {
    "duration": 7142,
    "start_time": "2021-08-09T02:16:47.050Z"
   },
   {
    "duration": 7105,
    "start_time": "2021-08-09T02:17:44.337Z"
   },
   {
    "duration": 6749,
    "start_time": "2021-08-09T02:17:58.521Z"
   },
   {
    "duration": 910,
    "start_time": "2021-08-09T02:20:57.543Z"
   },
   {
    "duration": 322,
    "start_time": "2021-08-09T02:22:41.547Z"
   },
   {
    "duration": 2354,
    "start_time": "2021-08-09T02:22:47.583Z"
   },
   {
    "duration": 7138,
    "start_time": "2021-08-09T02:23:09.664Z"
   },
   {
    "duration": 10851,
    "start_time": "2021-08-09T02:34:06.096Z"
   },
   {
    "duration": 6934,
    "start_time": "2021-08-09T02:34:19.563Z"
   },
   {
    "duration": 6245,
    "start_time": "2021-08-09T02:36:32.174Z"
   },
   {
    "duration": 6275,
    "start_time": "2021-08-09T02:36:50.105Z"
   },
   {
    "duration": 7065,
    "start_time": "2021-08-09T02:37:10.062Z"
   },
   {
    "duration": 4209,
    "start_time": "2021-08-09T02:37:31.058Z"
   },
   {
    "duration": 6788,
    "start_time": "2021-08-09T02:37:47.208Z"
   },
   {
    "duration": 83,
    "start_time": "2021-08-09T02:40:11.535Z"
   },
   {
    "duration": 331,
    "start_time": "2021-08-09T02:55:03.967Z"
   },
   {
    "duration": 72,
    "start_time": "2021-08-09T02:55:17.032Z"
   },
   {
    "duration": 6820,
    "start_time": "2021-08-09T02:55:35.531Z"
   },
   {
    "duration": 87,
    "start_time": "2021-08-09T02:56:15.533Z"
   },
   {
    "duration": 4,
    "start_time": "2021-08-09T02:56:29.389Z"
   },
   {
    "duration": 24,
    "start_time": "2021-08-09T02:57:47.269Z"
   },
   {
    "duration": 64,
    "start_time": "2021-08-09T02:59:37.722Z"
   },
   {
    "duration": 4,
    "start_time": "2021-08-09T03:00:39.886Z"
   },
   {
    "duration": 64,
    "start_time": "2021-08-09T03:00:40.821Z"
   },
   {
    "duration": 19,
    "start_time": "2021-08-09T03:01:22.534Z"
   },
   {
    "duration": 1515,
    "start_time": "2021-08-09T03:01:49.892Z"
   },
   {
    "duration": 918,
    "start_time": "2021-08-09T03:01:51.409Z"
   },
   {
    "duration": 5,
    "start_time": "2021-08-09T03:01:52.331Z"
   },
   {
    "duration": 649,
    "start_time": "2021-08-09T03:01:52.339Z"
   },
   {
    "duration": 11,
    "start_time": "2021-08-09T03:01:52.991Z"
   },
   {
    "duration": 19,
    "start_time": "2021-08-09T03:01:53.005Z"
   },
   {
    "duration": 128,
    "start_time": "2021-08-09T03:01:53.026Z"
   },
   {
    "duration": 5,
    "start_time": "2021-08-09T03:01:53.158Z"
   },
   {
    "duration": 27,
    "start_time": "2021-08-09T03:01:53.166Z"
   },
   {
    "duration": 6,
    "start_time": "2021-08-09T03:01:53.195Z"
   },
   {
    "duration": 16,
    "start_time": "2021-08-09T03:01:53.203Z"
   },
   {
    "duration": 29,
    "start_time": "2021-08-09T03:01:53.222Z"
   },
   {
    "duration": 34,
    "start_time": "2021-08-09T03:01:53.253Z"
   },
   {
    "duration": 4,
    "start_time": "2021-08-09T03:01:53.290Z"
   },
   {
    "duration": 96,
    "start_time": "2021-08-09T03:01:53.296Z"
   },
   {
    "duration": 507,
    "start_time": "2021-08-09T03:01:53.395Z"
   },
   {
    "duration": -1743,
    "start_time": "2021-08-09T03:01:55.649Z"
   },
   {
    "duration": -1763,
    "start_time": "2021-08-09T03:01:55.670Z"
   },
   {
    "duration": -1765,
    "start_time": "2021-08-09T03:01:55.674Z"
   },
   {
    "duration": -1767,
    "start_time": "2021-08-09T03:01:55.677Z"
   },
   {
    "duration": -1769,
    "start_time": "2021-08-09T03:01:55.680Z"
   },
   {
    "duration": -1769,
    "start_time": "2021-08-09T03:01:55.682Z"
   },
   {
    "duration": -1771,
    "start_time": "2021-08-09T03:01:55.685Z"
   },
   {
    "duration": -1772,
    "start_time": "2021-08-09T03:01:55.688Z"
   },
   {
    "duration": 485,
    "start_time": "2021-08-09T03:02:29.949Z"
   },
   {
    "duration": 976,
    "start_time": "2021-08-09T03:02:35.968Z"
   },
   {
    "duration": 809,
    "start_time": "2021-08-09T03:02:36.946Z"
   },
   {
    "duration": 896,
    "start_time": "2021-08-09T03:02:37.757Z"
   },
   {
    "duration": 6489,
    "start_time": "2021-08-09T03:02:38.786Z"
   },
   {
    "duration": 121,
    "start_time": "2021-08-09T03:02:45.277Z"
   },
   {
    "duration": 97,
    "start_time": "2021-08-09T03:02:45.400Z"
   },
   {
    "duration": 31,
    "start_time": "2021-08-09T03:03:05.786Z"
   },
   {
    "duration": 1138,
    "start_time": "2021-08-09T21:33:54.428Z"
   },
   {
    "duration": 683,
    "start_time": "2021-08-09T21:33:55.568Z"
   },
   {
    "duration": 2,
    "start_time": "2021-08-09T21:33:56.253Z"
   },
   {
    "duration": 329,
    "start_time": "2021-08-09T21:33:56.257Z"
   },
   {
    "duration": 7,
    "start_time": "2021-08-09T21:33:56.587Z"
   },
   {
    "duration": 9,
    "start_time": "2021-08-09T21:33:56.595Z"
   },
   {
    "duration": 79,
    "start_time": "2021-08-09T21:33:56.606Z"
   },
   {
    "duration": 4,
    "start_time": "2021-08-09T21:33:56.688Z"
   },
   {
    "duration": 12,
    "start_time": "2021-08-09T21:33:56.694Z"
   },
   {
    "duration": 8,
    "start_time": "2021-08-09T21:33:56.707Z"
   },
   {
    "duration": 8,
    "start_time": "2021-08-09T21:33:56.716Z"
   },
   {
    "duration": 27,
    "start_time": "2021-08-09T21:33:56.725Z"
   },
   {
    "duration": 7,
    "start_time": "2021-08-09T21:33:56.754Z"
   },
   {
    "duration": 2,
    "start_time": "2021-08-09T21:33:56.763Z"
   },
   {
    "duration": 38,
    "start_time": "2021-08-09T21:33:56.767Z"
   },
   {
    "duration": 311,
    "start_time": "2021-08-09T21:33:56.807Z"
   },
   {
    "duration": 564,
    "start_time": "2021-08-09T21:33:57.119Z"
   },
   {
    "duration": 427,
    "start_time": "2021-08-09T21:33:57.685Z"
   },
   {
    "duration": 511,
    "start_time": "2021-08-09T21:33:58.113Z"
   },
   {
    "duration": 3713,
    "start_time": "2021-08-09T21:33:58.626Z"
   },
   {
    "duration": 55,
    "start_time": "2021-08-09T21:34:02.341Z"
   },
   {
    "duration": 93,
    "start_time": "2021-08-09T21:34:02.398Z"
   },
   {
    "duration": 9,
    "start_time": "2021-08-09T22:58:47.047Z"
   },
   {
    "duration": 4,
    "start_time": "2021-08-09T22:59:09.660Z"
   },
   {
    "duration": 10,
    "start_time": "2021-08-09T22:59:31.247Z"
   },
   {
    "duration": 48,
    "start_time": "2021-08-09T23:00:01.028Z"
   },
   {
    "duration": 349,
    "start_time": "2021-08-09T23:00:12.494Z"
   },
   {
    "duration": 258,
    "start_time": "2021-08-09T23:00:25.516Z"
   },
   {
    "duration": 4,
    "start_time": "2021-08-09T23:00:31.814Z"
   },
   {
    "duration": 9,
    "start_time": "2021-08-09T23:00:41.148Z"
   },
   {
    "duration": 15,
    "start_time": "2021-08-09T23:00:56.306Z"
   },
   {
    "duration": 10,
    "start_time": "2021-08-09T23:01:19.428Z"
   },
   {
    "duration": 1130,
    "start_time": "2021-08-09T23:03:56.346Z"
   },
   {
    "duration": 690,
    "start_time": "2021-08-09T23:03:57.478Z"
   },
   {
    "duration": 2,
    "start_time": "2021-08-09T23:03:58.170Z"
   },
   {
    "duration": 335,
    "start_time": "2021-08-09T23:03:58.174Z"
   },
   {
    "duration": 8,
    "start_time": "2021-08-09T23:03:58.510Z"
   },
   {
    "duration": 30,
    "start_time": "2021-08-09T23:03:58.519Z"
   },
   {
    "duration": 53,
    "start_time": "2021-08-09T23:03:58.551Z"
   },
   {
    "duration": 4,
    "start_time": "2021-08-09T23:03:58.606Z"
   },
   {
    "duration": 29,
    "start_time": "2021-08-09T23:03:58.612Z"
   },
   {
    "duration": 6,
    "start_time": "2021-08-09T23:03:58.643Z"
   },
   {
    "duration": 9,
    "start_time": "2021-08-09T23:03:58.650Z"
   },
   {
    "duration": 15,
    "start_time": "2021-08-09T23:03:58.660Z"
   },
   {
    "duration": 8,
    "start_time": "2021-08-09T23:03:58.677Z"
   },
   {
    "duration": 3,
    "start_time": "2021-08-09T23:03:58.686Z"
   },
   {
    "duration": 69,
    "start_time": "2021-08-09T23:03:58.691Z"
   },
   {
    "duration": 299,
    "start_time": "2021-08-09T23:03:58.761Z"
   },
   {
    "duration": 595,
    "start_time": "2021-08-09T23:03:59.062Z"
   },
   {
    "duration": 451,
    "start_time": "2021-08-09T23:03:59.659Z"
   },
   {
    "duration": 539,
    "start_time": "2021-08-09T23:04:00.112Z"
   },
   {
    "duration": 3831,
    "start_time": "2021-08-09T23:04:00.653Z"
   },
   {
    "duration": 73,
    "start_time": "2021-08-09T23:04:04.486Z"
   },
   {
    "duration": 53,
    "start_time": "2021-08-09T23:04:04.560Z"
   },
   {
    "duration": 11,
    "start_time": "2021-08-09T23:04:08.364Z"
   },
   {
    "duration": 1174,
    "start_time": "2021-08-09T23:07:45.738Z"
   },
   {
    "duration": 685,
    "start_time": "2021-08-09T23:07:47.779Z"
   },
   {
    "duration": 3,
    "start_time": "2021-08-09T23:07:48.466Z"
   },
   {
    "duration": 355,
    "start_time": "2021-08-09T23:07:48.471Z"
   },
   {
    "duration": 8,
    "start_time": "2021-08-09T23:07:52.535Z"
   },
   {
    "duration": 11,
    "start_time": "2021-08-09T23:08:01.273Z"
   },
   {
    "duration": 4,
    "start_time": "2021-08-09T23:08:37.544Z"
   },
   {
    "duration": 16,
    "start_time": "2021-08-09T23:08:41.040Z"
   },
   {
    "duration": 5,
    "start_time": "2021-08-09T23:09:07.075Z"
   },
   {
    "duration": 7,
    "start_time": "2021-08-09T23:09:09.914Z"
   },
   {
    "duration": 14,
    "start_time": "2021-08-09T23:09:17.970Z"
   },
   {
    "duration": 11,
    "start_time": "2021-08-09T23:09:33.871Z"
   },
   {
    "duration": 10,
    "start_time": "2021-08-09T23:09:43.442Z"
   },
   {
    "duration": 16,
    "start_time": "2021-08-09T23:09:58.727Z"
   },
   {
    "duration": 10,
    "start_time": "2021-08-09T23:10:07.808Z"
   },
   {
    "duration": 7,
    "start_time": "2021-08-09T23:10:31.869Z"
   },
   {
    "duration": 11,
    "start_time": "2021-08-09T23:10:34.561Z"
   },
   {
    "duration": 8,
    "start_time": "2021-08-09T23:11:26.853Z"
   },
   {
    "duration": 3,
    "start_time": "2021-08-09T23:11:28.295Z"
   },
   {
    "duration": 38,
    "start_time": "2021-08-09T23:11:29.067Z"
   },
   {
    "duration": 289,
    "start_time": "2021-08-09T23:12:09.953Z"
   },
   {
    "duration": 576,
    "start_time": "2021-08-09T23:12:19.606Z"
   },
   {
    "duration": 430,
    "start_time": "2021-08-09T23:12:24.746Z"
   },
   {
    "duration": 528,
    "start_time": "2021-08-09T23:12:25.303Z"
   },
   {
    "duration": 3859,
    "start_time": "2021-08-09T23:12:34.409Z"
   },
   {
    "duration": 76,
    "start_time": "2021-08-09T23:12:38.269Z"
   },
   {
    "duration": 52,
    "start_time": "2021-08-09T23:12:45.714Z"
   },
   {
    "duration": 11,
    "start_time": "2021-08-09T23:12:47.055Z"
   },
   {
    "duration": 9,
    "start_time": "2021-08-09T23:13:10.028Z"
   },
   {
    "duration": 4,
    "start_time": "2021-08-09T23:13:10.536Z"
   },
   {
    "duration": 11,
    "start_time": "2021-08-09T23:13:11.056Z"
   },
   {
    "duration": 41,
    "start_time": "2021-08-09T23:13:11.625Z"
   },
   {
    "duration": 11,
    "start_time": "2021-08-09T23:13:12.477Z"
   },
   {
    "duration": 15,
    "start_time": "2021-08-09T23:13:29.046Z"
   },
   {
    "duration": 10,
    "start_time": "2021-08-09T23:14:58.686Z"
   },
   {
    "duration": 1172,
    "start_time": "2021-08-09T23:22:59.606Z"
   },
   {
    "duration": 714,
    "start_time": "2021-08-09T23:23:00.780Z"
   },
   {
    "duration": 2,
    "start_time": "2021-08-09T23:23:01.496Z"
   },
   {
    "duration": 375,
    "start_time": "2021-08-09T23:23:01.501Z"
   },
   {
    "duration": 9,
    "start_time": "2021-08-09T23:23:01.879Z"
   },
   {
    "duration": 12,
    "start_time": "2021-08-09T23:23:01.890Z"
   },
   {
    "duration": 39,
    "start_time": "2021-08-09T23:23:01.904Z"
   },
   {
    "duration": 17,
    "start_time": "2021-08-09T23:23:01.947Z"
   },
   {
    "duration": 5,
    "start_time": "2021-08-09T23:23:01.966Z"
   },
   {
    "duration": 9,
    "start_time": "2021-08-09T23:23:01.973Z"
   },
   {
    "duration": 18,
    "start_time": "2021-08-09T23:23:01.984Z"
   },
   {
    "duration": 8,
    "start_time": "2021-08-09T23:23:02.004Z"
   },
   {
    "duration": 9,
    "start_time": "2021-08-09T23:23:02.041Z"
   },
   {
    "duration": 3,
    "start_time": "2021-08-09T23:23:02.052Z"
   },
   {
    "duration": 83,
    "start_time": "2021-08-09T23:23:02.057Z"
   },
   {
    "duration": 308,
    "start_time": "2021-08-09T23:23:02.143Z"
   },
   {
    "duration": 689,
    "start_time": "2021-08-09T23:23:02.453Z"
   },
   {
    "duration": 444,
    "start_time": "2021-08-09T23:23:03.144Z"
   },
   {
    "duration": 528,
    "start_time": "2021-08-09T23:23:03.589Z"
   },
   {
    "duration": 3739,
    "start_time": "2021-08-09T23:23:04.118Z"
   },
   {
    "duration": 83,
    "start_time": "2021-08-09T23:23:07.859Z"
   },
   {
    "duration": 53,
    "start_time": "2021-08-09T23:23:07.943Z"
   },
   {
    "duration": 344,
    "start_time": "2021-08-09T23:31:24.214Z"
   },
   {
    "duration": 6465,
    "start_time": "2021-08-09T23:31:44.775Z"
   },
   {
    "duration": 20,
    "start_time": "2021-08-09T23:32:22.139Z"
   },
   {
    "duration": 12,
    "start_time": "2021-08-09T23:32:35.725Z"
   },
   {
    "duration": 1072,
    "start_time": "2021-08-09T23:32:52.194Z"
   },
   {
    "duration": 692,
    "start_time": "2021-08-09T23:32:53.268Z"
   },
   {
    "duration": 2,
    "start_time": "2021-08-09T23:32:53.962Z"
   },
   {
    "duration": 338,
    "start_time": "2021-08-09T23:32:53.966Z"
   },
   {
    "duration": 8,
    "start_time": "2021-08-09T23:32:54.305Z"
   },
   {
    "duration": 28,
    "start_time": "2021-08-09T23:32:54.314Z"
   },
   {
    "duration": 4,
    "start_time": "2021-08-09T23:32:54.343Z"
   },
   {
    "duration": 18,
    "start_time": "2021-08-09T23:32:54.349Z"
   },
   {
    "duration": 4,
    "start_time": "2021-08-09T23:32:54.369Z"
   },
   {
    "duration": 12,
    "start_time": "2021-08-09T23:32:54.375Z"
   },
   {
    "duration": 16,
    "start_time": "2021-08-09T23:32:54.389Z"
   },
   {
    "duration": 7,
    "start_time": "2021-08-09T23:32:54.407Z"
   },
   {
    "duration": 32,
    "start_time": "2021-08-09T23:32:54.415Z"
   },
   {
    "duration": 3,
    "start_time": "2021-08-09T23:32:54.449Z"
   },
   {
    "duration": 41,
    "start_time": "2021-08-09T23:32:54.453Z"
   },
   {
    "duration": 316,
    "start_time": "2021-08-09T23:32:54.495Z"
   },
   {
    "duration": 575,
    "start_time": "2021-08-09T23:32:54.813Z"
   },
   {
    "duration": 433,
    "start_time": "2021-08-09T23:32:55.389Z"
   },
   {
    "duration": 520,
    "start_time": "2021-08-09T23:32:55.824Z"
   },
   {
    "duration": 4144,
    "start_time": "2021-08-09T23:32:56.346Z"
   },
   {
    "duration": 85,
    "start_time": "2021-08-09T23:33:00.491Z"
   },
   {
    "duration": 76,
    "start_time": "2021-08-09T23:33:00.578Z"
   },
   {
    "duration": 11,
    "start_time": "2021-08-09T23:33:00.658Z"
   },
   {
    "duration": 30,
    "start_time": "2021-08-09T23:33:00.671Z"
   },
   {
    "duration": 13,
    "start_time": "2021-08-09T23:34:25.916Z"
   },
   {
    "duration": 358,
    "start_time": "2021-08-09T23:38:52.975Z"
   },
   {
    "duration": 6,
    "start_time": "2021-08-09T23:39:14.068Z"
   },
   {
    "duration": 12,
    "start_time": "2021-08-09T23:39:27.219Z"
   },
   {
    "duration": 35,
    "start_time": "2021-08-10T00:12:57.801Z"
   },
   {
    "duration": 3,
    "start_time": "2021-08-10T00:17:34.091Z"
   },
   {
    "duration": 3,
    "start_time": "2021-08-10T00:18:31.656Z"
   },
   {
    "duration": 20,
    "start_time": "2021-08-10T00:42:05.676Z"
   },
   {
    "duration": 4,
    "start_time": "2021-08-10T00:44:16.779Z"
   },
   {
    "duration": 4,
    "start_time": "2021-08-10T00:44:17.590Z"
   },
   {
    "duration": 6,
    "start_time": "2021-08-10T01:04:24.548Z"
   },
   {
    "duration": 5,
    "start_time": "2021-08-10T01:05:52.708Z"
   },
   {
    "duration": 304,
    "start_time": "2021-08-10T01:11:57.924Z"
   },
   {
    "duration": 122,
    "start_time": "2021-08-10T01:13:00.734Z"
   },
   {
    "duration": 9,
    "start_time": "2021-08-10T01:13:19.536Z"
   },
   {
    "duration": 7,
    "start_time": "2021-08-10T01:15:19.673Z"
   },
   {
    "duration": 84,
    "start_time": "2021-08-10T01:20:47.363Z"
   },
   {
    "duration": 4,
    "start_time": "2021-08-10T01:33:50.833Z"
   },
   {
    "duration": 260,
    "start_time": "2021-08-10T01:36:36.370Z"
   },
   {
    "duration": 3,
    "start_time": "2021-08-10T01:38:11.803Z"
   },
   {
    "duration": 2,
    "start_time": "2021-08-10T01:38:23.213Z"
   },
   {
    "duration": 3,
    "start_time": "2021-08-10T01:38:27.789Z"
   },
   {
    "duration": 3,
    "start_time": "2021-08-10T01:38:29.021Z"
   },
   {
    "duration": 271,
    "start_time": "2021-08-10T01:50:19.120Z"
   },
   {
    "duration": 3,
    "start_time": "2021-08-10T01:50:59.878Z"
   },
   {
    "duration": 5,
    "start_time": "2021-08-10T01:51:00.386Z"
   },
   {
    "duration": 258,
    "start_time": "2021-08-10T01:51:03.024Z"
   },
   {
    "duration": 5,
    "start_time": "2021-08-10T01:52:01.369Z"
   },
   {
    "duration": 262,
    "start_time": "2021-08-10T01:52:06.543Z"
   },
   {
    "duration": 260,
    "start_time": "2021-08-10T01:53:18.882Z"
   },
   {
    "duration": 278,
    "start_time": "2021-08-10T01:53:48.986Z"
   },
   {
    "duration": 1139,
    "start_time": "2021-08-11T23:03:09.191Z"
   },
   {
    "duration": 697,
    "start_time": "2021-08-11T23:03:10.332Z"
   },
   {
    "duration": 2,
    "start_time": "2021-08-11T23:03:11.031Z"
   },
   {
    "duration": 347,
    "start_time": "2021-08-11T23:03:11.035Z"
   },
   {
    "duration": 7,
    "start_time": "2021-08-11T23:03:11.384Z"
   },
   {
    "duration": 10,
    "start_time": "2021-08-11T23:03:11.392Z"
   },
   {
    "duration": 16,
    "start_time": "2021-08-11T23:03:11.403Z"
   },
   {
    "duration": 33,
    "start_time": "2021-08-11T23:03:11.420Z"
   },
   {
    "duration": 4,
    "start_time": "2021-08-11T23:03:11.456Z"
   },
   {
    "duration": 11,
    "start_time": "2021-08-11T23:03:11.462Z"
   },
   {
    "duration": 19,
    "start_time": "2021-08-11T23:03:11.474Z"
   },
   {
    "duration": 6,
    "start_time": "2021-08-11T23:03:11.495Z"
   },
   {
    "duration": 13,
    "start_time": "2021-08-11T23:03:11.502Z"
   },
   {
    "duration": 12,
    "start_time": "2021-08-11T23:03:11.517Z"
   },
   {
    "duration": 49,
    "start_time": "2021-08-11T23:03:11.531Z"
   },
   {
    "duration": 307,
    "start_time": "2021-08-11T23:03:11.581Z"
   },
   {
    "duration": 582,
    "start_time": "2021-08-11T23:03:11.889Z"
   },
   {
    "duration": 497,
    "start_time": "2021-08-11T23:03:12.473Z"
   },
   {
    "duration": 462,
    "start_time": "2021-08-11T23:03:12.972Z"
   },
   {
    "duration": 3811,
    "start_time": "2021-08-11T23:03:13.440Z"
   },
   {
    "duration": 54,
    "start_time": "2021-08-11T23:03:17.252Z"
   },
   {
    "duration": 83,
    "start_time": "2021-08-11T23:03:17.307Z"
   },
   {
    "duration": 29,
    "start_time": "2021-08-11T23:03:17.392Z"
   },
   {
    "duration": 29,
    "start_time": "2021-08-11T23:03:17.422Z"
   },
   {
    "duration": 3,
    "start_time": "2021-08-11T23:03:17.453Z"
   },
   {
    "duration": 4,
    "start_time": "2021-08-11T23:03:17.458Z"
   },
   {
    "duration": 7,
    "start_time": "2021-08-11T23:03:17.466Z"
   },
   {
    "duration": 7,
    "start_time": "2021-08-11T23:03:17.475Z"
   },
   {
    "duration": 7,
    "start_time": "2021-08-11T23:03:17.484Z"
   },
   {
    "duration": 335,
    "start_time": "2021-08-11T23:03:17.492Z"
   },
   {
    "duration": 4,
    "start_time": "2021-08-11T23:22:55.407Z"
   },
   {
    "duration": 4,
    "start_time": "2021-08-12T00:15:08.154Z"
   },
   {
    "duration": 4,
    "start_time": "2021-08-12T00:16:35.592Z"
   },
   {
    "duration": 80,
    "start_time": "2021-08-12T00:24:40.924Z"
   },
   {
    "duration": 96,
    "start_time": "2021-08-12T00:25:35.586Z"
   },
   {
    "duration": 5,
    "start_time": "2021-08-12T00:25:52.783Z"
   },
   {
    "duration": 491,
    "start_time": "2021-08-12T00:28:06.390Z"
   },
   {
    "duration": 6,
    "start_time": "2021-08-12T00:29:32.761Z"
   },
   {
    "duration": 494,
    "start_time": "2021-08-12T00:29:35.835Z"
   },
   {
    "duration": 5,
    "start_time": "2021-08-12T00:32:07.806Z"
   },
   {
    "duration": 691,
    "start_time": "2021-08-12T00:32:15.590Z"
   },
   {
    "duration": 504,
    "start_time": "2021-08-12T00:33:31.613Z"
   },
   {
    "duration": 4,
    "start_time": "2021-08-12T00:36:51.626Z"
   },
   {
    "duration": 5,
    "start_time": "2021-08-12T00:38:15.282Z"
   },
   {
    "duration": 4,
    "start_time": "2021-08-12T00:38:31.536Z"
   },
   {
    "duration": 466,
    "start_time": "2021-08-12T00:40:22.384Z"
   },
   {
    "duration": 4,
    "start_time": "2021-08-12T00:41:22.498Z"
   },
   {
    "duration": 5,
    "start_time": "2021-08-12T00:41:49.093Z"
   },
   {
    "duration": 5,
    "start_time": "2021-08-12T00:41:54.051Z"
   },
   {
    "duration": 497,
    "start_time": "2021-08-12T00:41:55.805Z"
   },
   {
    "duration": 5,
    "start_time": "2021-08-12T00:43:00.307Z"
   },
   {
    "duration": 493,
    "start_time": "2021-08-12T00:43:01.725Z"
   },
   {
    "duration": 1156,
    "start_time": "2021-08-12T00:43:31.043Z"
   },
   {
    "duration": 701,
    "start_time": "2021-08-12T00:43:32.200Z"
   },
   {
    "duration": 3,
    "start_time": "2021-08-12T00:43:32.903Z"
   },
   {
    "duration": 345,
    "start_time": "2021-08-12T00:43:32.908Z"
   },
   {
    "duration": 8,
    "start_time": "2021-08-12T00:43:33.254Z"
   },
   {
    "duration": 10,
    "start_time": "2021-08-12T00:43:33.263Z"
   },
   {
    "duration": 5,
    "start_time": "2021-08-12T00:43:33.274Z"
   },
   {
    "duration": 18,
    "start_time": "2021-08-12T00:43:33.280Z"
   },
   {
    "duration": 4,
    "start_time": "2021-08-12T00:43:33.301Z"
   },
   {
    "duration": 36,
    "start_time": "2021-08-12T00:43:33.307Z"
   },
   {
    "duration": 17,
    "start_time": "2021-08-12T00:43:33.345Z"
   },
   {
    "duration": 6,
    "start_time": "2021-08-12T00:43:33.363Z"
   },
   {
    "duration": 10,
    "start_time": "2021-08-12T00:43:33.371Z"
   },
   {
    "duration": 4,
    "start_time": "2021-08-12T00:43:33.382Z"
   },
   {
    "duration": 76,
    "start_time": "2021-08-12T00:43:33.387Z"
   },
   {
    "duration": 305,
    "start_time": "2021-08-12T00:43:33.465Z"
   },
   {
    "duration": 571,
    "start_time": "2021-08-12T00:43:33.772Z"
   },
   {
    "duration": 505,
    "start_time": "2021-08-12T00:43:34.345Z"
   },
   {
    "duration": 454,
    "start_time": "2021-08-12T00:43:34.852Z"
   },
   {
    "duration": 3736,
    "start_time": "2021-08-12T00:43:35.308Z"
   },
   {
    "duration": 96,
    "start_time": "2021-08-12T00:43:39.046Z"
   },
   {
    "duration": 56,
    "start_time": "2021-08-12T00:43:39.144Z"
   },
   {
    "duration": 53,
    "start_time": "2021-08-12T00:43:39.201Z"
   },
   {
    "duration": 14,
    "start_time": "2021-08-12T00:43:39.255Z"
   },
   {
    "duration": 4,
    "start_time": "2021-08-12T00:43:39.270Z"
   },
   {
    "duration": 7,
    "start_time": "2021-08-12T00:43:39.276Z"
   },
   {
    "duration": 9,
    "start_time": "2021-08-12T00:43:39.287Z"
   },
   {
    "duration": 7,
    "start_time": "2021-08-12T00:43:39.298Z"
   },
   {
    "duration": 8,
    "start_time": "2021-08-12T00:43:39.307Z"
   },
   {
    "duration": 5,
    "start_time": "2021-08-12T00:43:39.341Z"
   },
   {
    "duration": 458,
    "start_time": "2021-08-12T00:43:39.348Z"
   },
   {
    "duration": 583,
    "start_time": "2021-08-12T00:43:53.754Z"
   },
   {
    "duration": 5,
    "start_time": "2021-08-12T00:47:09.852Z"
   },
   {
    "duration": 505,
    "start_time": "2021-08-12T00:47:11.160Z"
   },
   {
    "duration": 4,
    "start_time": "2021-08-12T00:47:59.591Z"
   },
   {
    "duration": 4,
    "start_time": "2021-08-12T00:50:26.491Z"
   },
   {
    "duration": 513,
    "start_time": "2021-08-12T00:50:27.930Z"
   },
   {
    "duration": 4,
    "start_time": "2021-08-12T00:50:46.866Z"
   },
   {
    "duration": 481,
    "start_time": "2021-08-12T00:50:48.008Z"
   },
   {
    "duration": 4,
    "start_time": "2021-08-12T00:51:21.444Z"
   },
   {
    "duration": 4,
    "start_time": "2021-08-12T00:51:26.200Z"
   },
   {
    "duration": 523,
    "start_time": "2021-08-12T00:51:27.916Z"
   },
   {
    "duration": 4,
    "start_time": "2021-08-12T00:51:46.380Z"
   },
   {
    "duration": 499,
    "start_time": "2021-08-12T00:51:47.448Z"
   },
   {
    "duration": 4,
    "start_time": "2021-08-12T00:51:54.849Z"
   },
   {
    "duration": 6145,
    "start_time": "2021-08-12T00:51:55.995Z"
   },
   {
    "duration": 5,
    "start_time": "2021-08-12T00:54:54.384Z"
   },
   {
    "duration": 6791,
    "start_time": "2021-08-12T00:54:55.355Z"
   },
   {
    "duration": 5989,
    "start_time": "2021-08-12T00:55:49.963Z"
   },
   {
    "duration": 504,
    "start_time": "2021-08-12T00:56:22.763Z"
   },
   {
    "duration": 506,
    "start_time": "2021-08-12T00:56:46.002Z"
   },
   {
    "duration": 14,
    "start_time": "2021-08-12T00:57:46.375Z"
   },
   {
    "duration": 6,
    "start_time": "2021-08-12T00:57:52.471Z"
   },
   {
    "duration": 17,
    "start_time": "2021-08-12T00:58:51.119Z"
   },
   {
    "duration": 19,
    "start_time": "2021-08-12T00:59:55.665Z"
   },
   {
    "duration": 1162,
    "start_time": "2021-08-12T01:04:38.429Z"
   },
   {
    "duration": 684,
    "start_time": "2021-08-12T01:04:39.593Z"
   },
   {
    "duration": 2,
    "start_time": "2021-08-12T01:04:40.279Z"
   },
   {
    "duration": 333,
    "start_time": "2021-08-12T01:04:40.283Z"
   },
   {
    "duration": 7,
    "start_time": "2021-08-12T01:04:40.618Z"
   },
   {
    "duration": 12,
    "start_time": "2021-08-12T01:04:40.641Z"
   },
   {
    "duration": 4,
    "start_time": "2021-08-12T01:04:40.655Z"
   },
   {
    "duration": 17,
    "start_time": "2021-08-12T01:04:40.661Z"
   },
   {
    "duration": 4,
    "start_time": "2021-08-12T01:04:40.680Z"
   },
   {
    "duration": 11,
    "start_time": "2021-08-12T01:04:40.686Z"
   },
   {
    "duration": 19,
    "start_time": "2021-08-12T01:04:40.699Z"
   },
   {
    "duration": 22,
    "start_time": "2021-08-12T01:04:40.720Z"
   },
   {
    "duration": 10,
    "start_time": "2021-08-12T01:04:40.743Z"
   },
   {
    "duration": 2,
    "start_time": "2021-08-12T01:04:40.755Z"
   },
   {
    "duration": 41,
    "start_time": "2021-08-12T01:04:40.759Z"
   },
   {
    "duration": 302,
    "start_time": "2021-08-12T01:04:40.802Z"
   },
   {
    "duration": 574,
    "start_time": "2021-08-12T01:04:41.105Z"
   },
   {
    "duration": 495,
    "start_time": "2021-08-12T01:04:41.680Z"
   },
   {
    "duration": 449,
    "start_time": "2021-08-12T01:04:42.176Z"
   },
   {
    "duration": 3734,
    "start_time": "2021-08-12T01:04:42.626Z"
   },
   {
    "duration": 80,
    "start_time": "2021-08-12T01:04:46.362Z"
   },
   {
    "duration": 56,
    "start_time": "2021-08-12T01:04:46.443Z"
   },
   {
    "duration": 41,
    "start_time": "2021-08-12T01:04:46.502Z"
   },
   {
    "duration": 12,
    "start_time": "2021-08-12T01:04:46.545Z"
   },
   {
    "duration": 6,
    "start_time": "2021-08-12T01:04:46.558Z"
   },
   {
    "duration": 10,
    "start_time": "2021-08-12T01:04:46.565Z"
   },
   {
    "duration": 19,
    "start_time": "2021-08-12T01:04:46.576Z"
   },
   {
    "duration": 11,
    "start_time": "2021-08-12T01:04:46.597Z"
   },
   {
    "duration": 25,
    "start_time": "2021-08-12T01:04:46.609Z"
   },
   {
    "duration": 11,
    "start_time": "2021-08-12T01:04:46.636Z"
   },
   {
    "duration": 6199,
    "start_time": "2021-08-12T01:04:46.648Z"
   },
   {
    "duration": 9605,
    "start_time": "2021-08-12T01:04:52.940Z"
   },
   {
    "duration": 6,
    "start_time": "2021-08-12T01:07:20.273Z"
   },
   {
    "duration": 368,
    "start_time": "2021-08-12T01:09:04.616Z"
   },
   {
    "duration": 280,
    "start_time": "2021-08-12T01:09:26.577Z"
   },
   {
    "duration": 309,
    "start_time": "2021-08-12T01:10:04.196Z"
   },
   {
    "duration": 284,
    "start_time": "2021-08-12T01:10:36.475Z"
   },
   {
    "duration": 286,
    "start_time": "2021-08-12T01:11:10.922Z"
   },
   {
    "duration": 267,
    "start_time": "2021-08-12T01:12:26.600Z"
   },
   {
    "duration": 1121,
    "start_time": "2021-08-12T01:12:40.072Z"
   },
   {
    "duration": 691,
    "start_time": "2021-08-12T01:12:41.195Z"
   },
   {
    "duration": 3,
    "start_time": "2021-08-12T01:12:41.888Z"
   },
   {
    "duration": 365,
    "start_time": "2021-08-12T01:12:41.893Z"
   },
   {
    "duration": 9,
    "start_time": "2021-08-12T01:12:42.260Z"
   },
   {
    "duration": 11,
    "start_time": "2021-08-12T01:12:42.271Z"
   },
   {
    "duration": 4,
    "start_time": "2021-08-12T01:12:42.284Z"
   },
   {
    "duration": 56,
    "start_time": "2021-08-12T01:12:42.292Z"
   },
   {
    "duration": 5,
    "start_time": "2021-08-12T01:12:42.350Z"
   },
   {
    "duration": 12,
    "start_time": "2021-08-12T01:12:42.357Z"
   },
   {
    "duration": 15,
    "start_time": "2021-08-12T01:12:42.371Z"
   },
   {
    "duration": 8,
    "start_time": "2021-08-12T01:12:42.388Z"
   },
   {
    "duration": 13,
    "start_time": "2021-08-12T01:12:42.397Z"
   },
   {
    "duration": 3,
    "start_time": "2021-08-12T01:12:42.412Z"
   },
   {
    "duration": 59,
    "start_time": "2021-08-12T01:12:42.417Z"
   },
   {
    "duration": 322,
    "start_time": "2021-08-12T01:12:42.478Z"
   },
   {
    "duration": 573,
    "start_time": "2021-08-12T01:12:42.802Z"
   },
   {
    "duration": 497,
    "start_time": "2021-08-12T01:12:43.377Z"
   },
   {
    "duration": 457,
    "start_time": "2021-08-12T01:12:43.876Z"
   },
   {
    "duration": 3727,
    "start_time": "2021-08-12T01:12:44.335Z"
   },
   {
    "duration": 78,
    "start_time": "2021-08-12T01:12:48.064Z"
   },
   {
    "duration": 53,
    "start_time": "2021-08-12T01:12:48.144Z"
   },
   {
    "duration": 41,
    "start_time": "2021-08-12T01:12:48.200Z"
   },
   {
    "duration": 12,
    "start_time": "2021-08-12T01:12:48.242Z"
   },
   {
    "duration": 3,
    "start_time": "2021-08-12T01:12:48.256Z"
   },
   {
    "duration": 5,
    "start_time": "2021-08-12T01:12:48.260Z"
   },
   {
    "duration": 10,
    "start_time": "2021-08-12T01:12:48.267Z"
   },
   {
    "duration": 8,
    "start_time": "2021-08-12T01:12:48.279Z"
   },
   {
    "duration": 7,
    "start_time": "2021-08-12T01:12:48.289Z"
   },
   {
    "duration": 5,
    "start_time": "2021-08-12T01:12:48.297Z"
   },
   {
    "duration": 6444,
    "start_time": "2021-08-12T01:12:48.304Z"
   },
   {
    "duration": 9522,
    "start_time": "2021-08-12T01:12:54.841Z"
   },
   {
    "duration": 27,
    "start_time": "2021-08-12T01:13:04.441Z"
   },
   {
    "duration": 363,
    "start_time": "2021-08-12T01:15:13.958Z"
   },
   {
    "duration": 4,
    "start_time": "2021-08-12T01:16:17.262Z"
   },
   {
    "duration": 72265,
    "start_time": "2021-08-12T01:16:29.429Z"
   },
   {
    "duration": 5,
    "start_time": "2021-08-12T01:19:41.263Z"
   },
   {
    "duration": 4,
    "start_time": "2021-08-12T01:20:04.040Z"
   },
   {
    "duration": 9399,
    "start_time": "2021-08-12T01:20:11.946Z"
   },
   {
    "duration": 9429,
    "start_time": "2021-08-12T01:20:37.116Z"
   },
   {
    "duration": 6404,
    "start_time": "2021-08-12T01:20:46.548Z"
   },
   {
    "duration": 4,
    "start_time": "2021-08-12T01:25:12.065Z"
   },
   {
    "duration": 501,
    "start_time": "2021-08-12T01:25:13.688Z"
   },
   {
    "duration": 4,
    "start_time": "2021-08-12T01:25:26.692Z"
   },
   {
    "duration": 164396,
    "start_time": "2021-08-12T01:26:03.858Z"
   },
   {
    "duration": 6,
    "start_time": "2021-08-12T01:32:55.979Z"
   },
   {
    "duration": 569,
    "start_time": "2021-08-12T01:33:38.202Z"
   },
   {
    "duration": 4,
    "start_time": "2021-08-12T01:35:19.827Z"
   },
   {
    "duration": 12376,
    "start_time": "2021-08-12T01:35:38.821Z"
   },
   {
    "duration": 29549,
    "start_time": "2021-08-12T01:36:56.550Z"
   },
   {
    "duration": 12425,
    "start_time": "2021-08-12T01:38:15.340Z"
   },
   {
    "duration": 28464,
    "start_time": "2021-08-12T01:38:27.767Z"
   },
   {
    "duration": 248,
    "start_time": "2021-08-12T01:38:56.241Z"
   },
   {
    "duration": 28263,
    "start_time": "2021-08-12T01:39:26.817Z"
   },
   {
    "duration": 5,
    "start_time": "2021-08-12T01:39:55.082Z"
   },
   {
    "duration": 257,
    "start_time": "2021-08-12T01:42:15.163Z"
   },
   {
    "duration": 699,
    "start_time": "2021-08-12T01:42:41.986Z"
   },
   {
    "duration": 1193,
    "start_time": "2021-08-12T01:43:17.808Z"
   },
   {
    "duration": 702,
    "start_time": "2021-08-12T01:43:19.003Z"
   },
   {
    "duration": 2,
    "start_time": "2021-08-12T01:43:19.707Z"
   },
   {
    "duration": 353,
    "start_time": "2021-08-12T01:43:19.711Z"
   },
   {
    "duration": 7,
    "start_time": "2021-08-12T01:43:20.065Z"
   },
   {
    "duration": 13,
    "start_time": "2021-08-12T01:43:20.074Z"
   },
   {
    "duration": 4,
    "start_time": "2021-08-12T01:43:20.088Z"
   },
   {
    "duration": 18,
    "start_time": "2021-08-12T01:43:20.094Z"
   },
   {
    "duration": 28,
    "start_time": "2021-08-12T01:43:20.114Z"
   },
   {
    "duration": 8,
    "start_time": "2021-08-12T01:43:20.144Z"
   },
   {
    "duration": 16,
    "start_time": "2021-08-12T01:43:20.153Z"
   },
   {
    "duration": 6,
    "start_time": "2021-08-12T01:43:20.171Z"
   },
   {
    "duration": 11,
    "start_time": "2021-08-12T01:43:20.178Z"
   },
   {
    "duration": 7,
    "start_time": "2021-08-12T01:43:20.191Z"
   },
   {
    "duration": 64,
    "start_time": "2021-08-12T01:43:20.199Z"
   },
   {
    "duration": 307,
    "start_time": "2021-08-12T01:43:20.265Z"
   },
   {
    "duration": 692,
    "start_time": "2021-08-12T01:43:20.574Z"
   },
   {
    "duration": 492,
    "start_time": "2021-08-12T01:43:21.267Z"
   },
   {
    "duration": 448,
    "start_time": "2021-08-12T01:43:21.761Z"
   },
   {
    "duration": 3666,
    "start_time": "2021-08-12T01:43:22.211Z"
   },
   {
    "duration": 77,
    "start_time": "2021-08-12T01:43:25.879Z"
   },
   {
    "duration": 54,
    "start_time": "2021-08-12T01:43:25.957Z"
   },
   {
    "duration": 46,
    "start_time": "2021-08-12T01:43:26.014Z"
   },
   {
    "duration": 11,
    "start_time": "2021-08-12T01:43:26.062Z"
   },
   {
    "duration": 3,
    "start_time": "2021-08-12T01:43:26.074Z"
   },
   {
    "duration": 5,
    "start_time": "2021-08-12T01:43:26.078Z"
   },
   {
    "duration": 10,
    "start_time": "2021-08-12T01:43:26.085Z"
   },
   {
    "duration": 19,
    "start_time": "2021-08-12T01:43:26.097Z"
   },
   {
    "duration": 10,
    "start_time": "2021-08-12T01:43:26.118Z"
   },
   {
    "duration": 10,
    "start_time": "2021-08-12T01:43:26.130Z"
   },
   {
    "duration": 6303,
    "start_time": "2021-08-12T01:43:26.142Z"
   },
   {
    "duration": 9394,
    "start_time": "2021-08-12T01:43:32.451Z"
   },
   {
    "duration": 8,
    "start_time": "2021-08-12T01:43:41.847Z"
   },
   {
    "duration": 71106,
    "start_time": "2021-08-12T01:43:41.941Z"
   },
   {
    "duration": 161074,
    "start_time": "2021-08-12T01:44:53.049Z"
   },
   {
    "duration": 6,
    "start_time": "2021-08-12T01:47:34.125Z"
   },
   {
    "duration": 12213,
    "start_time": "2021-08-12T01:47:34.141Z"
   },
   {
    "duration": 28548,
    "start_time": "2021-08-12T01:47:46.355Z"
   },
   {
    "duration": 7,
    "start_time": "2021-08-12T01:48:14.905Z"
   },
   {
    "duration": 8,
    "start_time": "2021-08-12T01:48:14.914Z"
   },
   {
    "duration": 6,
    "start_time": "2021-08-12T01:49:44.173Z"
   },
   {
    "duration": 7,
    "start_time": "2021-08-12T01:50:11.171Z"
   },
   {
    "duration": 11,
    "start_time": "2021-08-12T02:14:24.786Z"
   },
   {
    "duration": 4621,
    "start_time": "2021-08-12T02:17:32.449Z"
   },
   {
    "duration": 10904,
    "start_time": "2021-08-12T02:18:18.837Z"
   },
   {
    "duration": 6,
    "start_time": "2021-08-12T02:19:23.541Z"
   },
   {
    "duration": 1177,
    "start_time": "2021-08-12T02:54:09.320Z"
   },
   {
    "duration": 683,
    "start_time": "2021-08-12T02:54:10.498Z"
   },
   {
    "duration": 2,
    "start_time": "2021-08-12T02:54:11.183Z"
   },
   {
    "duration": 336,
    "start_time": "2021-08-12T02:54:11.187Z"
   },
   {
    "duration": 20,
    "start_time": "2021-08-12T02:54:11.524Z"
   },
   {
    "duration": 9,
    "start_time": "2021-08-12T02:54:11.546Z"
   },
   {
    "duration": 4,
    "start_time": "2021-08-12T02:54:11.556Z"
   },
   {
    "duration": 18,
    "start_time": "2021-08-12T02:54:11.562Z"
   },
   {
    "duration": 4,
    "start_time": "2021-08-12T02:54:11.582Z"
   },
   {
    "duration": 9,
    "start_time": "2021-08-12T02:54:11.587Z"
   },
   {
    "duration": 15,
    "start_time": "2021-08-12T02:54:11.597Z"
   },
   {
    "duration": 31,
    "start_time": "2021-08-12T02:54:11.614Z"
   },
   {
    "duration": 14,
    "start_time": "2021-08-12T02:54:11.647Z"
   },
   {
    "duration": 5,
    "start_time": "2021-08-12T02:54:11.662Z"
   },
   {
    "duration": 43,
    "start_time": "2021-08-12T02:54:11.669Z"
   },
   {
    "duration": 286,
    "start_time": "2021-08-12T02:54:11.741Z"
   },
   {
    "duration": 574,
    "start_time": "2021-08-12T02:54:12.029Z"
   },
   {
    "duration": 490,
    "start_time": "2021-08-12T02:54:12.605Z"
   },
   {
    "duration": 446,
    "start_time": "2021-08-12T02:54:13.097Z"
   },
   {
    "duration": 3688,
    "start_time": "2021-08-12T02:54:13.545Z"
   },
   {
    "duration": 56,
    "start_time": "2021-08-12T02:54:17.235Z"
   },
   {
    "duration": 83,
    "start_time": "2021-08-12T02:54:17.293Z"
   },
   {
    "duration": 28,
    "start_time": "2021-08-12T02:54:17.379Z"
   },
   {
    "duration": 11,
    "start_time": "2021-08-12T02:54:17.409Z"
   },
   {
    "duration": 3,
    "start_time": "2021-08-12T02:54:17.422Z"
   },
   {
    "duration": 2,
    "start_time": "2021-08-12T02:54:17.441Z"
   },
   {
    "duration": 22,
    "start_time": "2021-08-12T02:54:17.445Z"
   },
   {
    "duration": 14,
    "start_time": "2021-08-12T02:54:17.468Z"
   },
   {
    "duration": 26,
    "start_time": "2021-08-12T02:54:17.484Z"
   },
   {
    "duration": 9,
    "start_time": "2021-08-12T02:54:17.511Z"
   },
   {
    "duration": 5823,
    "start_time": "2021-08-12T02:54:17.522Z"
   },
   {
    "duration": 9599,
    "start_time": "2021-08-12T02:54:23.347Z"
   },
   {
    "duration": 6,
    "start_time": "2021-08-12T02:54:32.948Z"
   },
   {
    "duration": 70647,
    "start_time": "2021-08-12T02:54:33.042Z"
   },
   {
    "duration": 159644,
    "start_time": "2021-08-12T02:55:43.691Z"
   },
   {
    "duration": 8,
    "start_time": "2021-08-12T02:58:23.336Z"
   },
   {
    "duration": 12411,
    "start_time": "2021-08-12T02:58:23.345Z"
   },
   {
    "duration": 28607,
    "start_time": "2021-08-12T02:58:35.758Z"
   },
   {
    "duration": 7,
    "start_time": "2021-08-12T02:59:04.367Z"
   },
   {
    "duration": 15,
    "start_time": "2021-08-12T02:59:04.376Z"
   },
   {
    "duration": 4889,
    "start_time": "2021-08-12T02:59:04.393Z"
   },
   {
    "duration": 10411,
    "start_time": "2021-08-12T02:59:09.284Z"
   },
   {
    "duration": 6,
    "start_time": "2021-08-12T02:59:19.697Z"
   },
   {
    "duration": 13,
    "start_time": "2021-08-12T02:59:19.705Z"
   },
   {
    "duration": 4,
    "start_time": "2021-08-12T03:00:03.887Z"
   },
   {
    "duration": 1181,
    "start_time": "2021-08-12T03:49:37.583Z"
   },
   {
    "duration": 1033,
    "start_time": "2021-08-12T03:49:38.765Z"
   },
   {
    "duration": 3,
    "start_time": "2021-08-12T03:50:28.701Z"
   },
   {
    "duration": 353,
    "start_time": "2021-08-12T03:50:29.383Z"
   },
   {
    "duration": 9,
    "start_time": "2021-08-12T03:51:27.790Z"
   },
   {
    "duration": 11,
    "start_time": "2021-08-12T03:51:30.866Z"
   },
   {
    "duration": 5,
    "start_time": "2021-08-12T03:51:33.124Z"
   },
   {
    "duration": 18,
    "start_time": "2021-08-12T03:51:33.366Z"
   },
   {
    "duration": 5,
    "start_time": "2021-08-12T03:52:05.905Z"
   },
   {
    "duration": 8,
    "start_time": "2021-08-12T03:52:08.123Z"
   },
   {
    "duration": 8,
    "start_time": "2021-08-12T03:53:31.420Z"
   },
   {
    "duration": 15,
    "start_time": "2021-08-12T03:53:35.107Z"
   },
   {
    "duration": 8,
    "start_time": "2021-08-12T03:53:39.223Z"
   },
   {
    "duration": 3,
    "start_time": "2021-08-12T03:54:16.597Z"
   },
   {
    "duration": 45,
    "start_time": "2021-08-12T03:54:17.826Z"
   },
   {
    "duration": 301,
    "start_time": "2021-08-12T03:54:51.922Z"
   },
   {
    "duration": 614,
    "start_time": "2021-08-12T03:54:56.061Z"
   },
   {
    "duration": 531,
    "start_time": "2021-08-12T03:55:32.153Z"
   },
   {
    "duration": 496,
    "start_time": "2021-08-12T03:55:32.723Z"
   },
   {
    "duration": 4172,
    "start_time": "2021-08-12T03:55:57.655Z"
   },
   {
    "duration": 77,
    "start_time": "2021-08-12T03:56:01.829Z"
   },
   {
    "duration": 59,
    "start_time": "2021-08-12T03:56:04.736Z"
   },
   {
    "duration": 32,
    "start_time": "2021-08-12T03:56:10.082Z"
   },
   {
    "duration": 12,
    "start_time": "2021-08-12T03:56:10.115Z"
   },
   {
    "duration": 3,
    "start_time": "2021-08-12T03:56:52.471Z"
   },
   {
    "duration": 3,
    "start_time": "2021-08-12T03:56:53.841Z"
   },
   {
    "duration": 9,
    "start_time": "2021-08-12T03:57:19.645Z"
   },
   {
    "duration": 8,
    "start_time": "2021-08-12T03:57:20.476Z"
   },
   {
    "duration": 3,
    "start_time": "2021-08-12T03:57:20.817Z"
   },
   {
    "duration": 4,
    "start_time": "2021-08-12T03:58:37.593Z"
   },
   {
    "duration": 1135,
    "start_time": "2021-08-13T03:33:56.168Z"
   },
   {
    "duration": 1625,
    "start_time": "2021-08-13T03:33:57.305Z"
   },
   {
    "duration": 2,
    "start_time": "2021-08-13T03:33:58.932Z"
   },
   {
    "duration": 341,
    "start_time": "2021-08-13T03:33:58.936Z"
   },
   {
    "duration": 7,
    "start_time": "2021-08-13T03:33:59.278Z"
   },
   {
    "duration": 13,
    "start_time": "2021-08-13T03:33:59.287Z"
   },
   {
    "duration": 4,
    "start_time": "2021-08-13T03:33:59.302Z"
   },
   {
    "duration": 41,
    "start_time": "2021-08-13T03:33:59.308Z"
   },
   {
    "duration": 4,
    "start_time": "2021-08-13T03:33:59.351Z"
   },
   {
    "duration": 11,
    "start_time": "2021-08-13T03:33:59.356Z"
   },
   {
    "duration": 27,
    "start_time": "2021-08-13T03:33:59.368Z"
   },
   {
    "duration": 8,
    "start_time": "2021-08-13T03:33:59.397Z"
   },
   {
    "duration": 16,
    "start_time": "2021-08-13T03:33:59.407Z"
   },
   {
    "duration": 13,
    "start_time": "2021-08-13T03:33:59.425Z"
   },
   {
    "duration": 43,
    "start_time": "2021-08-13T03:33:59.440Z"
   },
   {
    "duration": 294,
    "start_time": "2021-08-13T03:33:59.484Z"
   },
   {
    "duration": 591,
    "start_time": "2021-08-13T03:33:59.780Z"
   },
   {
    "duration": 502,
    "start_time": "2021-08-13T03:34:00.374Z"
   },
   {
    "duration": 458,
    "start_time": "2021-08-13T03:34:00.878Z"
   },
   {
    "duration": 3827,
    "start_time": "2021-08-13T03:34:01.338Z"
   },
   {
    "duration": 79,
    "start_time": "2021-08-13T03:34:05.167Z"
   },
   {
    "duration": 52,
    "start_time": "2021-08-13T03:34:05.248Z"
   },
   {
    "duration": 41,
    "start_time": "2021-08-13T03:34:05.303Z"
   },
   {
    "duration": 12,
    "start_time": "2021-08-13T03:34:05.346Z"
   },
   {
    "duration": 3,
    "start_time": "2021-08-13T03:34:05.360Z"
   },
   {
    "duration": 7,
    "start_time": "2021-08-13T03:34:05.364Z"
   },
   {
    "duration": 10,
    "start_time": "2021-08-13T03:34:05.372Z"
   },
   {
    "duration": 8,
    "start_time": "2021-08-13T03:34:05.384Z"
   },
   {
    "duration": 6,
    "start_time": "2021-08-13T03:34:05.394Z"
   },
   {
    "duration": 5,
    "start_time": "2021-08-13T03:34:11.318Z"
   },
   {
    "duration": 6147,
    "start_time": "2021-08-13T03:34:12.193Z"
   },
   {
    "duration": 10176,
    "start_time": "2021-08-13T03:34:42.569Z"
   },
   {
    "duration": 7,
    "start_time": "2021-08-13T03:35:50.761Z"
   },
   {
    "duration": 73451,
    "start_time": "2021-08-13T03:42:54.627Z"
   },
   {
    "duration": 161453,
    "start_time": "2021-08-13T03:44:13.283Z"
   },
   {
    "duration": 7,
    "start_time": "2021-08-13T03:48:29.093Z"
   },
   {
    "duration": 12260,
    "start_time": "2021-08-13T03:49:39.930Z"
   },
   {
    "duration": 28666,
    "start_time": "2021-08-13T03:50:44.349Z"
   },
   {
    "duration": 6,
    "start_time": "2021-08-13T03:51:33.430Z"
   },
   {
    "duration": 8,
    "start_time": "2021-08-13T03:51:42.928Z"
   }
  ],
  "kernelspec": {
   "display_name": "Python 3",
   "language": "python",
   "name": "python3"
  },
  "language_info": {
   "codemirror_mode": {
    "name": "ipython",
    "version": 3
   },
   "file_extension": ".py",
   "mimetype": "text/x-python",
   "name": "python",
   "nbconvert_exporter": "python",
   "pygments_lexer": "ipython3",
   "version": "3.8.8"
  },
  "toc": {
   "base_numbering": 1,
   "nav_menu": {},
   "number_sections": true,
   "sideBar": true,
   "skip_h1_title": true,
   "title_cell": "Содержание",
   "title_sidebar": "Contents",
   "toc_cell": true,
   "toc_position": {
    "height": "calc(100% - 180px)",
    "left": "10px",
    "top": "150px",
    "width": "165px"
   },
   "toc_section_display": true,
   "toc_window_display": true
  }
 },
 "nbformat": 4,
 "nbformat_minor": 2
}
