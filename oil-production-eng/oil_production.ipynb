{
 "cells": [
  {
   "cell_type": "markdown",
   "metadata": {},
   "source": [
    "# Выбор локации для скважины"
   ]
  },
  {
   "cell_type": "markdown",
   "metadata": {},
   "source": [
    "Допустим, вы работаете в добывающей компании «ГлавРосГосНефть». Нужно решить, где бурить новую скважину.\n",
    "\n",
    "Вам предоставлены пробы нефти в трёх регионах: в каждом 10 000 месторождений, где измерили качество нефти и объём её запасов. Постройте модель машинного обучения, которая поможет определить регион, где добыча принесёт наибольшую прибыль. Проанализируйте возможную прибыль и риски техникой *Bootstrap.*\n",
    "\n",
    "Шаги для выбора локации:\n",
    "\n",
    "- В избранном регионе ищут месторождения, для каждого определяют значения признаков;\n",
    "- Строят модель и оценивают объём запасов;\n",
    "- Выбирают месторождения с самым высокими оценками значений. Количество месторождений зависит от бюджета компании и стоимости разработки одной скважины;\n",
    "- Прибыль равна суммарной прибыли отобранных месторождений."
   ]
  },
  {
   "cell_type": "markdown",
   "metadata": {},
   "source": [
    "## ОГЛАВЛЕНИЕ\n",
    "\n",
    "[Описание проекта](#description)\n",
    "\n",
    "[Цель проекта](#purpose)\n",
    "\n",
    "[1. Загрузка и подготовка данных](#1)\n",
    "\n",
    "- [1.1 Вывод по первичному анализу данных](#1.1)\n",
    "\n",
    "[2. Обучение и проверка модели](#2)\n",
    "\n",
    "[3. Подготовка к расчёту прибыли](#3)\n",
    "\n",
    "[4. Расчёт прибыли и рисков ](#4)\n",
    "\n",
    "[Выводы и предложения](#5)"
   ]
  },
  {
   "cell_type": "markdown",
   "metadata": {},
   "source": [
    "<a id='description'></a>\n",
    "## Описание проекта"
   ]
  },
  {
   "cell_type": "markdown",
   "metadata": {},
   "source": [
    "У компании ГлавРосГосНефть имеются данные по пробам нефти из скважин в трех разных регионах. Необходимо предсказать объемы запасов в этих скважинах, отобрать скважины с наиболее высокими оценками значений и регион с максимальной суммарной прибылью по всем отобранным скажинам. Также необходимо сделать расчет прибыли и рисков.  \n",
    "\n",
    "**Описание данных:**  \n",
    "•\t***id*** — уникальный идентификатор скважины;  \n",
    "•\t***f0, f1, f2*** — три признака точек (неважно, что они означают, но сами признаки значимы);  \n",
    "•\t***product*** — объём запасов в скважине (тыс. баррелей).  \n",
    "\n",
    "**Условия задачи:**  \n",
    "•\tДля обучения модели подходит только линейная регрессия (остальные — недостаточно предсказуемые).  \n",
    "•\tПри разведке региона исследуют 500 точек, из которых с помощью машинного обучения выбирают 200 лучших для разработки.  \n",
    "•\tБюджет на разработку скважин в регионе — 10 млрд рублей.  \n",
    "•\tПри нынешних ценах один баррель сырья приносит 450 рублей дохода. Доход с каждой единицы продукта составляет 450 тыс. рублей, поскольку объём указан в тысячах баррелей.  \n",
    "•\tПосле оценки рисков нужно оставить лишь те регионы, в которых вероятность убытков меньше 2.5%. Среди них выбирают регион с наибольшей средней прибылью."
   ]
  },
  {
   "cell_type": "markdown",
   "metadata": {},
   "source": [
    "<a id='purpose'></a>\n",
    "## Цель проекта"
   ]
  },
  {
   "cell_type": "markdown",
   "metadata": {},
   "source": [
    "Необходимо выбрать один из трех регионов, в котором компании будет наиболее выгодно разрабатывать нефтяные скважины. Для этого исследуем качественные показатели скважин в каждом из регионов, потенциальную прибыль и риск убытков.  \n",
    "\n",
    "Чтобы это реализовать, требуется построить модель, прогнозирующую наиболее \"продуктивные\", т.е. скважины с самыми высокими оценками значений. А затем с помощью техники Bootstrap необходимо определить распределение прибыли и вероятность убытков. На основании этого исследования определить наиболее перспективный регион для разработки скважин."
   ]
  },
  {
   "cell_type": "markdown",
   "metadata": {},
   "source": [
    "<a id='1'></a>\n",
    "## Загрузка и подготовка данных"
   ]
  },
  {
   "cell_type": "code",
   "execution_count": 1,
   "metadata": {},
   "outputs": [
    {
     "name": "stdout",
     "output_type": "stream",
     "text": [
      "Defaulting to user installation because normal site-packages is not writeable\n",
      "Requirement already up-to-date: seaborn in /home/jovyan/.local/lib/python3.7/site-packages (0.11.1)\n",
      "Requirement already satisfied, skipping upgrade: numpy>=1.15 in /opt/conda/lib/python3.7/site-packages (from seaborn) (1.19.5)\n",
      "Requirement already satisfied, skipping upgrade: matplotlib>=2.2 in /opt/conda/lib/python3.7/site-packages (from seaborn) (3.1.0)\n",
      "Requirement already satisfied, skipping upgrade: pandas>=0.23 in /opt/conda/lib/python3.7/site-packages (from seaborn) (0.25.1)\n",
      "Requirement already satisfied, skipping upgrade: scipy>=1.0 in /opt/conda/lib/python3.7/site-packages (from seaborn) (1.4.1)\n",
      "Requirement already satisfied, skipping upgrade: kiwisolver>=1.0.1 in /opt/conda/lib/python3.7/site-packages (from matplotlib>=2.2->seaborn) (1.3.1)\n",
      "Requirement already satisfied, skipping upgrade: cycler>=0.10 in /opt/conda/lib/python3.7/site-packages (from matplotlib>=2.2->seaborn) (0.10.0)\n",
      "Requirement already satisfied, skipping upgrade: pyparsing!=2.0.4,!=2.1.2,!=2.1.6,>=2.0.1 in /opt/conda/lib/python3.7/site-packages (from matplotlib>=2.2->seaborn) (2.4.7)\n",
      "Requirement already satisfied, skipping upgrade: python-dateutil>=2.1 in /opt/conda/lib/python3.7/site-packages (from matplotlib>=2.2->seaborn) (2.8.1)\n",
      "Requirement already satisfied, skipping upgrade: pytz>=2017.2 in /opt/conda/lib/python3.7/site-packages (from pandas>=0.23->seaborn) (2021.1)\n",
      "Requirement already satisfied, skipping upgrade: six in /opt/conda/lib/python3.7/site-packages (from cycler>=0.10->matplotlib>=2.2->seaborn) (1.15.0)\n"
     ]
    }
   ],
   "source": [
    "#Нужно обновить seaborn (текущая версия не строила гистограммы)\n",
    "!pip install --upgrade seaborn\n"
   ]
  },
  {
   "cell_type": "code",
   "execution_count": 2,
   "metadata": {},
   "outputs": [],
   "source": [
    "#Импортируем нужные библиотеки\n",
    "import pandas as pd\n",
    "import numpy as np\n",
    "import seaborn as sns\n",
    "import matplotlib.pyplot as plt\n",
    "\n",
    "from sklearn.model_selection import train_test_split\n",
    "from sklearn.preprocessing import StandardScaler\n",
    "\n",
    "from sklearn.linear_model import LinearRegression\n",
    "from sklearn.metrics import mean_squared_error"
   ]
  },
  {
   "cell_type": "code",
   "execution_count": 3,
   "metadata": {},
   "outputs": [],
   "source": [
    "#Прочитаем датасеты\n",
    "data_0 = pd.read_csv('/datasets/geo_data_0.csv')\n",
    "data_1 = pd.read_csv('/datasets/geo_data_1.csv')\n",
    "data_2 = pd.read_csv('/datasets/geo_data_2.csv')\n"
   ]
  },
  {
   "cell_type": "markdown",
   "metadata": {},
   "source": [
    "<a id='1.1'></a>\n",
    "### Анализ общей информации"
   ]
  },
  {
   "cell_type": "code",
   "execution_count": 4,
   "metadata": {},
   "outputs": [],
   "source": [
    "#Заведем словарь с именами датасетов для дальнейшего использования в циклах\n",
    "datasets = [data_0, data_1, data_2]"
   ]
  },
  {
   "cell_type": "code",
   "execution_count": 5,
   "metadata": {},
   "outputs": [
    {
     "data": {
      "text/html": [
       "<div>\n",
       "<style scoped>\n",
       "    .dataframe tbody tr th:only-of-type {\n",
       "        vertical-align: middle;\n",
       "    }\n",
       "\n",
       "    .dataframe tbody tr th {\n",
       "        vertical-align: top;\n",
       "    }\n",
       "\n",
       "    .dataframe thead th {\n",
       "        text-align: right;\n",
       "    }\n",
       "</style>\n",
       "<table border=\"1\" class=\"dataframe\">\n",
       "  <thead>\n",
       "    <tr style=\"text-align: right;\">\n",
       "      <th></th>\n",
       "      <th>id</th>\n",
       "      <th>f0</th>\n",
       "      <th>f1</th>\n",
       "      <th>f2</th>\n",
       "      <th>product</th>\n",
       "    </tr>\n",
       "  </thead>\n",
       "  <tbody>\n",
       "    <tr>\n",
       "      <td>0</td>\n",
       "      <td>txEyH</td>\n",
       "      <td>0.705745</td>\n",
       "      <td>-0.497823</td>\n",
       "      <td>1.221170</td>\n",
       "      <td>105.280062</td>\n",
       "    </tr>\n",
       "    <tr>\n",
       "      <td>1</td>\n",
       "      <td>2acmU</td>\n",
       "      <td>1.334711</td>\n",
       "      <td>-0.340164</td>\n",
       "      <td>4.365080</td>\n",
       "      <td>73.037750</td>\n",
       "    </tr>\n",
       "    <tr>\n",
       "      <td>2</td>\n",
       "      <td>409Wp</td>\n",
       "      <td>1.022732</td>\n",
       "      <td>0.151990</td>\n",
       "      <td>1.419926</td>\n",
       "      <td>85.265647</td>\n",
       "    </tr>\n",
       "    <tr>\n",
       "      <td>3</td>\n",
       "      <td>iJLyR</td>\n",
       "      <td>-0.032172</td>\n",
       "      <td>0.139033</td>\n",
       "      <td>2.978566</td>\n",
       "      <td>168.620776</td>\n",
       "    </tr>\n",
       "    <tr>\n",
       "      <td>4</td>\n",
       "      <td>Xdl7t</td>\n",
       "      <td>1.988431</td>\n",
       "      <td>0.155413</td>\n",
       "      <td>4.751769</td>\n",
       "      <td>154.036647</td>\n",
       "    </tr>\n",
       "  </tbody>\n",
       "</table>\n",
       "</div>"
      ],
      "text/plain": [
       "      id        f0        f1        f2     product\n",
       "0  txEyH  0.705745 -0.497823  1.221170  105.280062\n",
       "1  2acmU  1.334711 -0.340164  4.365080   73.037750\n",
       "2  409Wp  1.022732  0.151990  1.419926   85.265647\n",
       "3  iJLyR -0.032172  0.139033  2.978566  168.620776\n",
       "4  Xdl7t  1.988431  0.155413  4.751769  154.036647"
      ]
     },
     "metadata": {},
     "output_type": "display_data"
    },
    {
     "data": {
      "text/html": [
       "<div>\n",
       "<style scoped>\n",
       "    .dataframe tbody tr th:only-of-type {\n",
       "        vertical-align: middle;\n",
       "    }\n",
       "\n",
       "    .dataframe tbody tr th {\n",
       "        vertical-align: top;\n",
       "    }\n",
       "\n",
       "    .dataframe thead th {\n",
       "        text-align: right;\n",
       "    }\n",
       "</style>\n",
       "<table border=\"1\" class=\"dataframe\">\n",
       "  <thead>\n",
       "    <tr style=\"text-align: right;\">\n",
       "      <th></th>\n",
       "      <th>id</th>\n",
       "      <th>f0</th>\n",
       "      <th>f1</th>\n",
       "      <th>f2</th>\n",
       "      <th>product</th>\n",
       "    </tr>\n",
       "  </thead>\n",
       "  <tbody>\n",
       "    <tr>\n",
       "      <td>0</td>\n",
       "      <td>kBEdx</td>\n",
       "      <td>-15.001348</td>\n",
       "      <td>-8.276000</td>\n",
       "      <td>-0.005876</td>\n",
       "      <td>3.179103</td>\n",
       "    </tr>\n",
       "    <tr>\n",
       "      <td>1</td>\n",
       "      <td>62mP7</td>\n",
       "      <td>14.272088</td>\n",
       "      <td>-3.475083</td>\n",
       "      <td>0.999183</td>\n",
       "      <td>26.953261</td>\n",
       "    </tr>\n",
       "    <tr>\n",
       "      <td>2</td>\n",
       "      <td>vyE1P</td>\n",
       "      <td>6.263187</td>\n",
       "      <td>-5.948386</td>\n",
       "      <td>5.001160</td>\n",
       "      <td>134.766305</td>\n",
       "    </tr>\n",
       "    <tr>\n",
       "      <td>3</td>\n",
       "      <td>KcrkZ</td>\n",
       "      <td>-13.081196</td>\n",
       "      <td>-11.506057</td>\n",
       "      <td>4.999415</td>\n",
       "      <td>137.945408</td>\n",
       "    </tr>\n",
       "    <tr>\n",
       "      <td>4</td>\n",
       "      <td>AHL4O</td>\n",
       "      <td>12.702195</td>\n",
       "      <td>-8.147433</td>\n",
       "      <td>5.004363</td>\n",
       "      <td>134.766305</td>\n",
       "    </tr>\n",
       "  </tbody>\n",
       "</table>\n",
       "</div>"
      ],
      "text/plain": [
       "      id         f0         f1        f2     product\n",
       "0  kBEdx -15.001348  -8.276000 -0.005876    3.179103\n",
       "1  62mP7  14.272088  -3.475083  0.999183   26.953261\n",
       "2  vyE1P   6.263187  -5.948386  5.001160  134.766305\n",
       "3  KcrkZ -13.081196 -11.506057  4.999415  137.945408\n",
       "4  AHL4O  12.702195  -8.147433  5.004363  134.766305"
      ]
     },
     "metadata": {},
     "output_type": "display_data"
    },
    {
     "data": {
      "text/html": [
       "<div>\n",
       "<style scoped>\n",
       "    .dataframe tbody tr th:only-of-type {\n",
       "        vertical-align: middle;\n",
       "    }\n",
       "\n",
       "    .dataframe tbody tr th {\n",
       "        vertical-align: top;\n",
       "    }\n",
       "\n",
       "    .dataframe thead th {\n",
       "        text-align: right;\n",
       "    }\n",
       "</style>\n",
       "<table border=\"1\" class=\"dataframe\">\n",
       "  <thead>\n",
       "    <tr style=\"text-align: right;\">\n",
       "      <th></th>\n",
       "      <th>id</th>\n",
       "      <th>f0</th>\n",
       "      <th>f1</th>\n",
       "      <th>f2</th>\n",
       "      <th>product</th>\n",
       "    </tr>\n",
       "  </thead>\n",
       "  <tbody>\n",
       "    <tr>\n",
       "      <td>0</td>\n",
       "      <td>fwXo0</td>\n",
       "      <td>-1.146987</td>\n",
       "      <td>0.963328</td>\n",
       "      <td>-0.828965</td>\n",
       "      <td>27.758673</td>\n",
       "    </tr>\n",
       "    <tr>\n",
       "      <td>1</td>\n",
       "      <td>WJtFt</td>\n",
       "      <td>0.262778</td>\n",
       "      <td>0.269839</td>\n",
       "      <td>-2.530187</td>\n",
       "      <td>56.069697</td>\n",
       "    </tr>\n",
       "    <tr>\n",
       "      <td>2</td>\n",
       "      <td>ovLUW</td>\n",
       "      <td>0.194587</td>\n",
       "      <td>0.289035</td>\n",
       "      <td>-5.586433</td>\n",
       "      <td>62.871910</td>\n",
       "    </tr>\n",
       "    <tr>\n",
       "      <td>3</td>\n",
       "      <td>q6cA6</td>\n",
       "      <td>2.236060</td>\n",
       "      <td>-0.553760</td>\n",
       "      <td>0.930038</td>\n",
       "      <td>114.572842</td>\n",
       "    </tr>\n",
       "    <tr>\n",
       "      <td>4</td>\n",
       "      <td>WPMUX</td>\n",
       "      <td>-0.515993</td>\n",
       "      <td>1.716266</td>\n",
       "      <td>5.899011</td>\n",
       "      <td>149.600746</td>\n",
       "    </tr>\n",
       "  </tbody>\n",
       "</table>\n",
       "</div>"
      ],
      "text/plain": [
       "      id        f0        f1        f2     product\n",
       "0  fwXo0 -1.146987  0.963328 -0.828965   27.758673\n",
       "1  WJtFt  0.262778  0.269839 -2.530187   56.069697\n",
       "2  ovLUW  0.194587  0.289035 -5.586433   62.871910\n",
       "3  q6cA6  2.236060 -0.553760  0.930038  114.572842\n",
       "4  WPMUX -0.515993  1.716266  5.899011  149.600746"
      ]
     },
     "metadata": {},
     "output_type": "display_data"
    }
   ],
   "source": [
    "#Выведем первые строки таблиц для знакомства с данными\n",
    "for data in datasets:\n",
    "    display(data.head())"
   ]
  },
  {
   "cell_type": "code",
   "execution_count": 6,
   "metadata": {},
   "outputs": [
    {
     "name": "stdout",
     "output_type": "stream",
     "text": [
      "<class 'pandas.core.frame.DataFrame'>\n",
      "RangeIndex: 100000 entries, 0 to 99999\n",
      "Data columns (total 5 columns):\n",
      "id         100000 non-null object\n",
      "f0         100000 non-null float64\n",
      "f1         100000 non-null float64\n",
      "f2         100000 non-null float64\n",
      "product    100000 non-null float64\n",
      "dtypes: float64(4), object(1)\n",
      "memory usage: 3.8+ MB\n"
     ]
    },
    {
     "data": {
      "text/plain": [
       "None"
      ]
     },
     "metadata": {},
     "output_type": "display_data"
    },
    {
     "name": "stdout",
     "output_type": "stream",
     "text": [
      "<class 'pandas.core.frame.DataFrame'>\n",
      "RangeIndex: 100000 entries, 0 to 99999\n",
      "Data columns (total 5 columns):\n",
      "id         100000 non-null object\n",
      "f0         100000 non-null float64\n",
      "f1         100000 non-null float64\n",
      "f2         100000 non-null float64\n",
      "product    100000 non-null float64\n",
      "dtypes: float64(4), object(1)\n",
      "memory usage: 3.8+ MB\n"
     ]
    },
    {
     "data": {
      "text/plain": [
       "None"
      ]
     },
     "metadata": {},
     "output_type": "display_data"
    },
    {
     "name": "stdout",
     "output_type": "stream",
     "text": [
      "<class 'pandas.core.frame.DataFrame'>\n",
      "RangeIndex: 100000 entries, 0 to 99999\n",
      "Data columns (total 5 columns):\n",
      "id         100000 non-null object\n",
      "f0         100000 non-null float64\n",
      "f1         100000 non-null float64\n",
      "f2         100000 non-null float64\n",
      "product    100000 non-null float64\n",
      "dtypes: float64(4), object(1)\n",
      "memory usage: 3.8+ MB\n"
     ]
    },
    {
     "data": {
      "text/plain": [
       "None"
      ]
     },
     "metadata": {},
     "output_type": "display_data"
    }
   ],
   "source": [
    "#Выведем общую информацию для оценки количества пропусков и типов данных\n",
    "for data in datasets:\n",
    "    display(data.info())"
   ]
  },
  {
   "cell_type": "code",
   "execution_count": 7,
   "metadata": {},
   "outputs": [
    {
     "data": {
      "text/plain": [
       "0"
      ]
     },
     "metadata": {},
     "output_type": "display_data"
    },
    {
     "data": {
      "text/plain": [
       "0"
      ]
     },
     "metadata": {},
     "output_type": "display_data"
    },
    {
     "data": {
      "text/plain": [
       "0"
      ]
     },
     "metadata": {},
     "output_type": "display_data"
    }
   ],
   "source": [
    "#Проверим наличие грубых дубликатов\n",
    "for data in datasets:\n",
    "    display(data.duplicated().sum())"
   ]
  },
  {
   "cell_type": "code",
   "execution_count": 8,
   "metadata": {},
   "outputs": [],
   "source": [
    "#Удалим колонку id как ненужную для моделей\n",
    "for data in datasets:\n",
    "    data = data.drop('id', axis='columns')\n",
    "\n",
    "#Перезапишем словарь с новыми данными\n",
    "datasets = [data_0, data_1, data_2]"
   ]
  },
  {
   "cell_type": "code",
   "execution_count": 9,
   "metadata": {},
   "outputs": [
    {
     "data": {
      "text/html": [
       "<div>\n",
       "<style scoped>\n",
       "    .dataframe tbody tr th:only-of-type {\n",
       "        vertical-align: middle;\n",
       "    }\n",
       "\n",
       "    .dataframe tbody tr th {\n",
       "        vertical-align: top;\n",
       "    }\n",
       "\n",
       "    .dataframe thead th {\n",
       "        text-align: right;\n",
       "    }\n",
       "</style>\n",
       "<table border=\"1\" class=\"dataframe\">\n",
       "  <thead>\n",
       "    <tr style=\"text-align: right;\">\n",
       "      <th></th>\n",
       "      <th>f0</th>\n",
       "      <th>f1</th>\n",
       "      <th>f2</th>\n",
       "      <th>product</th>\n",
       "    </tr>\n",
       "  </thead>\n",
       "  <tbody>\n",
       "    <tr>\n",
       "      <td>count</td>\n",
       "      <td>100000.000000</td>\n",
       "      <td>100000.000000</td>\n",
       "      <td>100000.000000</td>\n",
       "      <td>100000.000000</td>\n",
       "    </tr>\n",
       "    <tr>\n",
       "      <td>mean</td>\n",
       "      <td>0.500419</td>\n",
       "      <td>0.250143</td>\n",
       "      <td>2.502647</td>\n",
       "      <td>92.500000</td>\n",
       "    </tr>\n",
       "    <tr>\n",
       "      <td>std</td>\n",
       "      <td>0.871832</td>\n",
       "      <td>0.504433</td>\n",
       "      <td>3.248248</td>\n",
       "      <td>44.288691</td>\n",
       "    </tr>\n",
       "    <tr>\n",
       "      <td>min</td>\n",
       "      <td>-1.408605</td>\n",
       "      <td>-0.848218</td>\n",
       "      <td>-12.088328</td>\n",
       "      <td>0.000000</td>\n",
       "    </tr>\n",
       "    <tr>\n",
       "      <td>25%</td>\n",
       "      <td>-0.072580</td>\n",
       "      <td>-0.200881</td>\n",
       "      <td>0.287748</td>\n",
       "      <td>56.497507</td>\n",
       "    </tr>\n",
       "    <tr>\n",
       "      <td>50%</td>\n",
       "      <td>0.502360</td>\n",
       "      <td>0.250252</td>\n",
       "      <td>2.515969</td>\n",
       "      <td>91.849972</td>\n",
       "    </tr>\n",
       "    <tr>\n",
       "      <td>75%</td>\n",
       "      <td>1.073581</td>\n",
       "      <td>0.700646</td>\n",
       "      <td>4.715088</td>\n",
       "      <td>128.564089</td>\n",
       "    </tr>\n",
       "    <tr>\n",
       "      <td>max</td>\n",
       "      <td>2.362331</td>\n",
       "      <td>1.343769</td>\n",
       "      <td>16.003790</td>\n",
       "      <td>185.364347</td>\n",
       "    </tr>\n",
       "  </tbody>\n",
       "</table>\n",
       "</div>"
      ],
      "text/plain": [
       "                  f0             f1             f2        product\n",
       "count  100000.000000  100000.000000  100000.000000  100000.000000\n",
       "mean        0.500419       0.250143       2.502647      92.500000\n",
       "std         0.871832       0.504433       3.248248      44.288691\n",
       "min        -1.408605      -0.848218     -12.088328       0.000000\n",
       "25%        -0.072580      -0.200881       0.287748      56.497507\n",
       "50%         0.502360       0.250252       2.515969      91.849972\n",
       "75%         1.073581       0.700646       4.715088     128.564089\n",
       "max         2.362331       1.343769      16.003790     185.364347"
      ]
     },
     "metadata": {},
     "output_type": "display_data"
    },
    {
     "data": {
      "text/html": [
       "<div>\n",
       "<style scoped>\n",
       "    .dataframe tbody tr th:only-of-type {\n",
       "        vertical-align: middle;\n",
       "    }\n",
       "\n",
       "    .dataframe tbody tr th {\n",
       "        vertical-align: top;\n",
       "    }\n",
       "\n",
       "    .dataframe thead th {\n",
       "        text-align: right;\n",
       "    }\n",
       "</style>\n",
       "<table border=\"1\" class=\"dataframe\">\n",
       "  <thead>\n",
       "    <tr style=\"text-align: right;\">\n",
       "      <th></th>\n",
       "      <th>f0</th>\n",
       "      <th>f1</th>\n",
       "      <th>f2</th>\n",
       "      <th>product</th>\n",
       "    </tr>\n",
       "  </thead>\n",
       "  <tbody>\n",
       "    <tr>\n",
       "      <td>count</td>\n",
       "      <td>100000.000000</td>\n",
       "      <td>100000.000000</td>\n",
       "      <td>100000.000000</td>\n",
       "      <td>100000.000000</td>\n",
       "    </tr>\n",
       "    <tr>\n",
       "      <td>mean</td>\n",
       "      <td>1.141296</td>\n",
       "      <td>-4.796579</td>\n",
       "      <td>2.494541</td>\n",
       "      <td>68.825000</td>\n",
       "    </tr>\n",
       "    <tr>\n",
       "      <td>std</td>\n",
       "      <td>8.965932</td>\n",
       "      <td>5.119872</td>\n",
       "      <td>1.703572</td>\n",
       "      <td>45.944423</td>\n",
       "    </tr>\n",
       "    <tr>\n",
       "      <td>min</td>\n",
       "      <td>-31.609576</td>\n",
       "      <td>-26.358598</td>\n",
       "      <td>-0.018144</td>\n",
       "      <td>0.000000</td>\n",
       "    </tr>\n",
       "    <tr>\n",
       "      <td>25%</td>\n",
       "      <td>-6.298551</td>\n",
       "      <td>-8.267985</td>\n",
       "      <td>1.000021</td>\n",
       "      <td>26.953261</td>\n",
       "    </tr>\n",
       "    <tr>\n",
       "      <td>50%</td>\n",
       "      <td>1.153055</td>\n",
       "      <td>-4.813172</td>\n",
       "      <td>2.011479</td>\n",
       "      <td>57.085625</td>\n",
       "    </tr>\n",
       "    <tr>\n",
       "      <td>75%</td>\n",
       "      <td>8.621015</td>\n",
       "      <td>-1.332816</td>\n",
       "      <td>3.999904</td>\n",
       "      <td>107.813044</td>\n",
       "    </tr>\n",
       "    <tr>\n",
       "      <td>max</td>\n",
       "      <td>29.421755</td>\n",
       "      <td>18.734063</td>\n",
       "      <td>5.019721</td>\n",
       "      <td>137.945408</td>\n",
       "    </tr>\n",
       "  </tbody>\n",
       "</table>\n",
       "</div>"
      ],
      "text/plain": [
       "                  f0             f1             f2        product\n",
       "count  100000.000000  100000.000000  100000.000000  100000.000000\n",
       "mean        1.141296      -4.796579       2.494541      68.825000\n",
       "std         8.965932       5.119872       1.703572      45.944423\n",
       "min       -31.609576     -26.358598      -0.018144       0.000000\n",
       "25%        -6.298551      -8.267985       1.000021      26.953261\n",
       "50%         1.153055      -4.813172       2.011479      57.085625\n",
       "75%         8.621015      -1.332816       3.999904     107.813044\n",
       "max        29.421755      18.734063       5.019721     137.945408"
      ]
     },
     "metadata": {},
     "output_type": "display_data"
    },
    {
     "data": {
      "text/html": [
       "<div>\n",
       "<style scoped>\n",
       "    .dataframe tbody tr th:only-of-type {\n",
       "        vertical-align: middle;\n",
       "    }\n",
       "\n",
       "    .dataframe tbody tr th {\n",
       "        vertical-align: top;\n",
       "    }\n",
       "\n",
       "    .dataframe thead th {\n",
       "        text-align: right;\n",
       "    }\n",
       "</style>\n",
       "<table border=\"1\" class=\"dataframe\">\n",
       "  <thead>\n",
       "    <tr style=\"text-align: right;\">\n",
       "      <th></th>\n",
       "      <th>f0</th>\n",
       "      <th>f1</th>\n",
       "      <th>f2</th>\n",
       "      <th>product</th>\n",
       "    </tr>\n",
       "  </thead>\n",
       "  <tbody>\n",
       "    <tr>\n",
       "      <td>count</td>\n",
       "      <td>100000.000000</td>\n",
       "      <td>100000.000000</td>\n",
       "      <td>100000.000000</td>\n",
       "      <td>100000.000000</td>\n",
       "    </tr>\n",
       "    <tr>\n",
       "      <td>mean</td>\n",
       "      <td>0.002023</td>\n",
       "      <td>-0.002081</td>\n",
       "      <td>2.495128</td>\n",
       "      <td>95.000000</td>\n",
       "    </tr>\n",
       "    <tr>\n",
       "      <td>std</td>\n",
       "      <td>1.732045</td>\n",
       "      <td>1.730417</td>\n",
       "      <td>3.473445</td>\n",
       "      <td>44.749921</td>\n",
       "    </tr>\n",
       "    <tr>\n",
       "      <td>min</td>\n",
       "      <td>-8.760004</td>\n",
       "      <td>-7.084020</td>\n",
       "      <td>-11.970335</td>\n",
       "      <td>0.000000</td>\n",
       "    </tr>\n",
       "    <tr>\n",
       "      <td>25%</td>\n",
       "      <td>-1.162288</td>\n",
       "      <td>-1.174820</td>\n",
       "      <td>0.130359</td>\n",
       "      <td>59.450441</td>\n",
       "    </tr>\n",
       "    <tr>\n",
       "      <td>50%</td>\n",
       "      <td>0.009424</td>\n",
       "      <td>-0.009482</td>\n",
       "      <td>2.484236</td>\n",
       "      <td>94.925613</td>\n",
       "    </tr>\n",
       "    <tr>\n",
       "      <td>75%</td>\n",
       "      <td>1.158535</td>\n",
       "      <td>1.163678</td>\n",
       "      <td>4.858794</td>\n",
       "      <td>130.595027</td>\n",
       "    </tr>\n",
       "    <tr>\n",
       "      <td>max</td>\n",
       "      <td>7.238262</td>\n",
       "      <td>7.844801</td>\n",
       "      <td>16.739402</td>\n",
       "      <td>190.029838</td>\n",
       "    </tr>\n",
       "  </tbody>\n",
       "</table>\n",
       "</div>"
      ],
      "text/plain": [
       "                  f0             f1             f2        product\n",
       "count  100000.000000  100000.000000  100000.000000  100000.000000\n",
       "mean        0.002023      -0.002081       2.495128      95.000000\n",
       "std         1.732045       1.730417       3.473445      44.749921\n",
       "min        -8.760004      -7.084020     -11.970335       0.000000\n",
       "25%        -1.162288      -1.174820       0.130359      59.450441\n",
       "50%         0.009424      -0.009482       2.484236      94.925613\n",
       "75%         1.158535       1.163678       4.858794     130.595027\n",
       "max         7.238262       7.844801      16.739402     190.029838"
      ]
     },
     "metadata": {},
     "output_type": "display_data"
    }
   ],
   "source": [
    "#Посмотрим описательную статистику\n",
    "for data in datasets:\n",
    "    display(data.describe())"
   ]
  },
  {
   "cell_type": "markdown",
   "metadata": {},
   "source": [
    "__Вывод.__ Видим, что распределение значений признаков f0, f1, f2 похоже на нормальное (медианы и средние близки друг к другу) во всех трех датасетах. Хотя сами значения квартилей и мин/макс точек различаются между этими регионами в разы. Распределение по объемам продукта у первого и третьего региона тоже близки к нормальному, у второго - есть смещение вправо (медиана меньше среднего)\n",
    "В третьем регионе самые высокие показатели средних и медианных объемов нефти в скважинах, лучший максимум, плюс, по каждому из квартилей он тоже кажется наиболее продуктивным из всех. "
   ]
  },
  {
   "cell_type": "code",
   "execution_count": 10,
   "metadata": {},
   "outputs": [],
   "source": [
    "#Создадим функцию для вывода гистограмм по каждому признаку в сравнении по регионам\n",
    "def hist(column):\n",
    "    size = (-40, 200)\n",
    "    plt.figure(figsize=(12,8))\n",
    "    plt.title('Распределение признака {} по регионам'.format(column), fontsize=22)\n",
    "    plt.xlabel('Значение признака {}'.format(column), fontsize=16)\n",
    "    plt.ylabel('Количество значений', fontsize=16)\n",
    "    sns.histplot(data=data_0, x = data_0[column], stat=\"density\", label = '1', element=\"step\", fill=False)\n",
    "    sns.histplot(data=data_1, x = data_1[column], stat=\"density\", label = '2', element=\"step\", fill=False)\n",
    "    sns.histplot(data=data_2, x = data_2[column], stat=\"density\", label = '3', element=\"step\", fill=False)\n",
    "    plt.legend(title='Регионы')"
   ]
  },
  {
   "cell_type": "code",
   "execution_count": 11,
   "metadata": {},
   "outputs": [
    {
     "data": {
      "image/png": "[encoded data removed]",
      "text/plain": [
       "<Figure size 864x576 with 1 Axes>"
      ]
     },
     "metadata": {
      "needs_background": "light"
     },
     "output_type": "display_data"
    }
   ],
   "source": [
    "#Сравнительный график с признаком f0\n",
    "hist('f0')"
   ]
  },
  {
   "cell_type": "markdown",
   "metadata": {},
   "source": [
    "Гистограмма показывает, что распределения значений признака f0 для регионов 1 и 3 действительно похожи на нормальное, причем 75% значений лежат в районе единицы. У второго региона имеется два небольших плавных пика, но при этом гораздо больший разброс значений. "
   ]
  },
  {
   "cell_type": "code",
   "execution_count": 12,
   "metadata": {},
   "outputs": [
    {
     "data": {
      "image/png": "[encoded data removed]",
      "text/plain": [
       "<Figure size 864x576 with 1 Axes>"
      ]
     },
     "metadata": {
      "needs_background": "light"
     },
     "output_type": "display_data"
    }
   ],
   "source": [
    "#Сравнительный график с признаком f1\n",
    "hist('f1')"
   ]
  },
  {
   "cell_type": "markdown",
   "metadata": {},
   "source": [
    "Здесь можно отметить, что у региона 1 признак f1 имеет самый малый разброс значений, с несколькими резкими пиками. А у региона 2 снова самый большой разброс и самый плавный график."
   ]
  },
  {
   "cell_type": "code",
   "execution_count": 13,
   "metadata": {},
   "outputs": [
    {
     "data": {
      "image/png": "[encoded data removed]",
      "text/plain": [
       "<Figure size 864x576 with 1 Axes>"
      ]
     },
     "metadata": {
      "needs_background": "light"
     },
     "output_type": "display_data"
    }
   ],
   "source": [
    "#Сравнительный график с признаком f2\n",
    "hist('f2')"
   ]
  },
  {
   "cell_type": "markdown",
   "metadata": {},
   "source": [
    "Гистограммы признака f2 для регионов 1 и 3 практически одинаковы и имеют вид нормального распределения. Регион 2 снова отличился - 6 резкими пиками с практически одинаковым количеством значений по ним, получается, что в этом регионе для признака f2 характерно словно бы несколько определенных коэффициентов. "
   ]
  },
  {
   "cell_type": "code",
   "execution_count": 14,
   "metadata": {},
   "outputs": [
    {
     "data": {
      "image/png": "[encoded data removed]",
      "text/plain": [
       "<Figure size 864x576 with 1 Axes>"
      ]
     },
     "metadata": {
      "needs_background": "light"
     },
     "output_type": "display_data"
    }
   ],
   "source": [
    "#Сравнительный график с признаком product (объем запасов в скважине)\n",
    "hist('product')"
   ]
  },
  {
   "cell_type": "markdown",
   "metadata": {},
   "source": [
    "Распределение объемов запасов нефти по трем регионам кажется логически связанным с предыдущей гистограммой (про признак f2). По объему продукта регионы 1 и 3 имеют относительно плавные графики с незначительными пиками.\n",
    "Для региона 2 характерно наибольшее количество скважин с нулевыми и околонулевыми запасами, но при этом почти столько же - с максимальными запасами по региону. Остальные скважины региона 2 делятся строго на 4 группы с небольшими колебаниями значений внутри каждой.  \n",
    "Но, несмотря на внешнее различие гистограмм, можно сказать, что в каждом из трех регионов имеются примерно равные (внутри региона) группы скважин с определенным потенциалом. Различие в том, что в регионах 1 и 2 минимальные и максимальные объемы - в меньшинстве, а во 2-м регионе, наоборот, много скважин с почти нулевыми запасами и много с близкими к региональному максимуму."
   ]
  },
  {
   "cell_type": "code",
   "execution_count": 15,
   "metadata": {},
   "outputs": [
    {
     "data": {
      "text/html": [
       "<div>\n",
       "<style scoped>\n",
       "    .dataframe tbody tr th:only-of-type {\n",
       "        vertical-align: middle;\n",
       "    }\n",
       "\n",
       "    .dataframe tbody tr th {\n",
       "        vertical-align: top;\n",
       "    }\n",
       "\n",
       "    .dataframe thead th {\n",
       "        text-align: right;\n",
       "    }\n",
       "</style>\n",
       "<table border=\"1\" class=\"dataframe\">\n",
       "  <thead>\n",
       "    <tr style=\"text-align: right;\">\n",
       "      <th></th>\n",
       "      <th>f0</th>\n",
       "      <th>f1</th>\n",
       "      <th>f2</th>\n",
       "      <th>product</th>\n",
       "    </tr>\n",
       "  </thead>\n",
       "  <tbody>\n",
       "    <tr>\n",
       "      <td>f0</td>\n",
       "      <td>1.000000</td>\n",
       "      <td>-0.440723</td>\n",
       "      <td>-0.003153</td>\n",
       "      <td>0.143536</td>\n",
       "    </tr>\n",
       "    <tr>\n",
       "      <td>f1</td>\n",
       "      <td>-0.440723</td>\n",
       "      <td>1.000000</td>\n",
       "      <td>0.001724</td>\n",
       "      <td>-0.192356</td>\n",
       "    </tr>\n",
       "    <tr>\n",
       "      <td>f2</td>\n",
       "      <td>-0.003153</td>\n",
       "      <td>0.001724</td>\n",
       "      <td>1.000000</td>\n",
       "      <td>0.483663</td>\n",
       "    </tr>\n",
       "    <tr>\n",
       "      <td>product</td>\n",
       "      <td>0.143536</td>\n",
       "      <td>-0.192356</td>\n",
       "      <td>0.483663</td>\n",
       "      <td>1.000000</td>\n",
       "    </tr>\n",
       "  </tbody>\n",
       "</table>\n",
       "</div>"
      ],
      "text/plain": [
       "               f0        f1        f2   product\n",
       "f0       1.000000 -0.440723 -0.003153  0.143536\n",
       "f1      -0.440723  1.000000  0.001724 -0.192356\n",
       "f2      -0.003153  0.001724  1.000000  0.483663\n",
       "product  0.143536 -0.192356  0.483663  1.000000"
      ]
     },
     "metadata": {},
     "output_type": "display_data"
    },
    {
     "data": {
      "text/html": [
       "<div>\n",
       "<style scoped>\n",
       "    .dataframe tbody tr th:only-of-type {\n",
       "        vertical-align: middle;\n",
       "    }\n",
       "\n",
       "    .dataframe tbody tr th {\n",
       "        vertical-align: top;\n",
       "    }\n",
       "\n",
       "    .dataframe thead th {\n",
       "        text-align: right;\n",
       "    }\n",
       "</style>\n",
       "<table border=\"1\" class=\"dataframe\">\n",
       "  <thead>\n",
       "    <tr style=\"text-align: right;\">\n",
       "      <th></th>\n",
       "      <th>f0</th>\n",
       "      <th>f1</th>\n",
       "      <th>f2</th>\n",
       "      <th>product</th>\n",
       "    </tr>\n",
       "  </thead>\n",
       "  <tbody>\n",
       "    <tr>\n",
       "      <td>f0</td>\n",
       "      <td>1.000000</td>\n",
       "      <td>0.182287</td>\n",
       "      <td>-0.001777</td>\n",
       "      <td>-0.030491</td>\n",
       "    </tr>\n",
       "    <tr>\n",
       "      <td>f1</td>\n",
       "      <td>0.182287</td>\n",
       "      <td>1.000000</td>\n",
       "      <td>-0.002595</td>\n",
       "      <td>-0.010155</td>\n",
       "    </tr>\n",
       "    <tr>\n",
       "      <td>f2</td>\n",
       "      <td>-0.001777</td>\n",
       "      <td>-0.002595</td>\n",
       "      <td>1.000000</td>\n",
       "      <td>0.999397</td>\n",
       "    </tr>\n",
       "    <tr>\n",
       "      <td>product</td>\n",
       "      <td>-0.030491</td>\n",
       "      <td>-0.010155</td>\n",
       "      <td>0.999397</td>\n",
       "      <td>1.000000</td>\n",
       "    </tr>\n",
       "  </tbody>\n",
       "</table>\n",
       "</div>"
      ],
      "text/plain": [
       "               f0        f1        f2   product\n",
       "f0       1.000000  0.182287 -0.001777 -0.030491\n",
       "f1       0.182287  1.000000 -0.002595 -0.010155\n",
       "f2      -0.001777 -0.002595  1.000000  0.999397\n",
       "product -0.030491 -0.010155  0.999397  1.000000"
      ]
     },
     "metadata": {},
     "output_type": "display_data"
    },
    {
     "data": {
      "text/html": [
       "<div>\n",
       "<style scoped>\n",
       "    .dataframe tbody tr th:only-of-type {\n",
       "        vertical-align: middle;\n",
       "    }\n",
       "\n",
       "    .dataframe tbody tr th {\n",
       "        vertical-align: top;\n",
       "    }\n",
       "\n",
       "    .dataframe thead th {\n",
       "        text-align: right;\n",
       "    }\n",
       "</style>\n",
       "<table border=\"1\" class=\"dataframe\">\n",
       "  <thead>\n",
       "    <tr style=\"text-align: right;\">\n",
       "      <th></th>\n",
       "      <th>f0</th>\n",
       "      <th>f1</th>\n",
       "      <th>f2</th>\n",
       "      <th>product</th>\n",
       "    </tr>\n",
       "  </thead>\n",
       "  <tbody>\n",
       "    <tr>\n",
       "      <td>f0</td>\n",
       "      <td>1.000000</td>\n",
       "      <td>0.000528</td>\n",
       "      <td>-0.000448</td>\n",
       "      <td>-0.001987</td>\n",
       "    </tr>\n",
       "    <tr>\n",
       "      <td>f1</td>\n",
       "      <td>0.000528</td>\n",
       "      <td>1.000000</td>\n",
       "      <td>0.000779</td>\n",
       "      <td>-0.001012</td>\n",
       "    </tr>\n",
       "    <tr>\n",
       "      <td>f2</td>\n",
       "      <td>-0.000448</td>\n",
       "      <td>0.000779</td>\n",
       "      <td>1.000000</td>\n",
       "      <td>0.445871</td>\n",
       "    </tr>\n",
       "    <tr>\n",
       "      <td>product</td>\n",
       "      <td>-0.001987</td>\n",
       "      <td>-0.001012</td>\n",
       "      <td>0.445871</td>\n",
       "      <td>1.000000</td>\n",
       "    </tr>\n",
       "  </tbody>\n",
       "</table>\n",
       "</div>"
      ],
      "text/plain": [
       "               f0        f1        f2   product\n",
       "f0       1.000000  0.000528 -0.000448 -0.001987\n",
       "f1       0.000528  1.000000  0.000779 -0.001012\n",
       "f2      -0.000448  0.000779  1.000000  0.445871\n",
       "product -0.001987 -0.001012  0.445871  1.000000"
      ]
     },
     "metadata": {},
     "output_type": "display_data"
    }
   ],
   "source": [
    "#Посмотрим корреляцию признаков\n",
    "for data in datasets:\n",
    "    display(data.corr())"
   ]
  },
  {
   "cell_type": "code",
   "execution_count": 16,
   "metadata": {},
   "outputs": [
    {
     "data": {
      "image/png": "[encoded data removed]",
      "text/plain": [
       "<Figure size 432x288 with 2 Axes>"
      ]
     },
     "metadata": {
      "needs_background": "light"
     },
     "output_type": "display_data"
    },
    {
     "data": {
      "image/png": "[encoded data removed]",
      "text/plain": [
       "<Figure size 432x288 with 2 Axes>"
      ]
     },
     "metadata": {
      "needs_background": "light"
     },
     "output_type": "display_data"
    },
    {
     "data": {
      "image/png": "[encoded data removed]",
      "text/plain": [
       "<Figure size 432x288 with 2 Axes>"
      ]
     },
     "metadata": {
      "needs_background": "light"
     },
     "output_type": "display_data"
    }
   ],
   "source": [
    "#Выведем матрицы корреляции признаков по каждой таблице\n",
    "for data in datasets:\n",
    "    sns.heatmap(data.corr())\n",
    "    plt.show()"
   ]
  },
  {
   "cell_type": "markdown",
   "metadata": {},
   "source": [
    "__Вывод.__ Видим незначительную отрицательную корреляцию между признаками f0 и f1 в первом регионе (во втором - совсем небольшая положительная, в третьем - практически нулевая). Между остальными признаками f зависимости практически отсутсвует во всех регионах.  \n",
    "Наиболее сильная зависимость наблюдается между признаком f2 и продуктом (объем нефти в скважинах): у второго региона корреляция почти равна единице, у двух других меньшая зависимость, но тоже положительная корреляция - коэффициент 0.45 и 0.48. В первом регионе также наблюдается небольшая (меньше 0.2) корреляция продукта и признаков f0 и f1, но в двух других этого нет - коээфициенты околонулевые."
   ]
  },
  {
   "cell_type": "markdown",
   "metadata": {},
   "source": [
    "<a id='1.1'></a>\n",
    "### Вывод по первичному анализу"
   ]
  },
  {
   "cell_type": "markdown",
   "metadata": {},
   "source": [
    "1. Перед нами 3 датасета по 5 колонок и 100 000 строк в каждом. Без пропусков, без дубликатов, типы данных корректные.\n",
    "2. Так как описание каждого из признаков отсутствует, мы не можем дать экспертную оценку корректности данных (например, возможны ли отрицательные значения), поэтому будем считать их все пригодными для дальнейшей работы\n",
    "3. Столбец id не нужен для работы модели, удалили его\n",
    "4. Обзор статистики показывает, что регион 3 выглядит наиболее продуктивным из всех.\n",
    "5. Распределение почти всех признаков близко к нормальному. Нетипичная картина только в столбцах f2 и product у региона №2 - графики не плавные, а имеют несколько изолированных пиков, словно значения уже отнесены к каким-то узким группам, с интервалами между ними. Это наводит на мысль о наличии предварительной обработки данных по региону 2 (т.е. как будто мы получили не чистую статистику, а уже разбитые на некие крупные группы и подогнанные под них показатели), но придется использовать как есть.\n",
    "6. Анализ корреляции показывает, что четкая зависимость наблюдается только между признаком f2 и объемом продукта, причем у региона 2 коэффициент корреляции практически равен единице (подозрительно большое значение)"
   ]
  },
  {
   "cell_type": "markdown",
   "metadata": {},
   "source": [
    "<a id='2'></a>\n",
    "## Обучение и проверка модели"
   ]
  },
  {
   "cell_type": "markdown",
   "metadata": {},
   "source": [
    "<a id='2.1'></a>\n",
    "### Разбивка на выборки"
   ]
  },
  {
   "cell_type": "markdown",
   "metadata": {},
   "source": [
    "Для каждого региона требуется выделить обучающую и валидационную выборки в пропорциях 75/25.\n",
    "Целевым признаком здесь является столбец product. Это количественный признак, поэтому будем решать задачу регресии."
   ]
  },
  {
   "cell_type": "code",
   "execution_count": 17,
   "metadata": {},
   "outputs": [],
   "source": [
    "#Отделим целевой признак от остальных и поделим данные на две выборки\n",
    "def sample(data):\n",
    "    target = data['product']\n",
    "    features = data.drop(['product', 'id'], axis=1)\n",
    "    features_train, features_valid, target_train, target_valid = train_test_split(\n",
    "    features, target, test_size=0.25, random_state=12345)\n",
    "    scaler = StandardScaler() #добавим масштабирование признаков\n",
    "    scaler.fit(features_train)\n",
    "    features_train = scaler.transform(features_train)\n",
    "    features_valid = scaler.transform(features_valid)\n",
    "    return target, features, features_train, features_valid, target_train, target_valid\n",
    "\n",
    "\n",
    "target_0, features_0, features_train_0, features_valid_0, target_train_0, target_valid_0 = sample(data_0)\n",
    "target_1, features_1, features_train_1, features_valid_1, target_train_1, target_valid_1 = sample(data_1)\n",
    "target_2, features_2, features_train_2, features_valid_2, target_train_2, target_valid_2 = sample(data_2) "
   ]
  },
  {
   "cell_type": "markdown",
   "metadata": {},
   "source": [
    "<a id='2.3'></a>\n",
    "### Обучение моделей"
   ]
  },
  {
   "cell_type": "code",
   "execution_count": 18,
   "metadata": {},
   "outputs": [
    {
     "name": "stdout",
     "output_type": "stream",
     "text": [
      "RMSE региона 1: 37.58\n",
      "RMSE константной модели региона 1: 44.29\n",
      "Средний запас предсказанного сырья региона 1: 92.59 тыс. баррелей\n"
     ]
    }
   ],
   "source": [
    "#Модель для региона 1\n",
    "model_0 = LinearRegression()\n",
    "model_0.fit(features_train_0, target_train_0)\n",
    "predicted_valid_0 = model_0.predict(features_valid_0)\n",
    "rmse_0 = mean_squared_error(target_valid_0, predicted_valid_0)**0.5\n",
    "predictions_0 = pd.Series(predicted_valid_0, index=target_valid_0.index)\n",
    "\n",
    "#Константная модель для региона 1\n",
    "predicted_valid_const_0 = pd.Series(target_train_0.mean(), index=target_valid_0.index)\n",
    "rmse_const_0 = mean_squared_error(target_valid_0, predicted_valid_const_0)**0.5\n",
    "\n",
    "print('RMSE региона 1: {:.2f}'.format(rmse_0))\n",
    "print('RMSE константной модели региона 1: {:.2f}'.format(rmse_const_0))\n",
    "print('Средний запас предсказанного сырья региона 1: {:.2f}'.format(predicted_valid_0.mean()), 'тыс. баррелей')"
   ]
  },
  {
   "cell_type": "code",
   "execution_count": 19,
   "metadata": {},
   "outputs": [
    {
     "name": "stdout",
     "output_type": "stream",
     "text": [
      "RMSE региона 2: 0.89\n",
      "RMSE константной модели региона 2: 46.02\n",
      "Средний запас предсказанного сырья региона 1: 68.73 тыс. баррелей\n"
     ]
    }
   ],
   "source": [
    "#Модель для региона 2\n",
    "model_1 = LinearRegression()\n",
    "model_1.fit(features_train_1, target_train_1)\n",
    "predicted_valid_1 = model_1.predict(features_valid_1)\n",
    "rmse_1 = mean_squared_error(target_valid_1, predicted_valid_1)**0.5\n",
    "predictions_1 = pd.Series(predicted_valid_1, index=target_valid_1.index)\n",
    "\n",
    "#Константная модель для региона 2\n",
    "predicted_valid_const_1 = pd.Series(target_train_1.mean(), index=target_valid_1.index)\n",
    "rmse_const_1 = mean_squared_error(target_valid_1, predicted_valid_const_1)**0.5\n",
    "\n",
    "print('RMSE региона 2: {:.2f}'.format(rmse_1))\n",
    "print('RMSE константной модели региона 2: {:.2f}'.format(rmse_const_1))\n",
    "print('Средний запас предсказанного сырья региона 1: {:.2f}'.format(predicted_valid_1.mean()), 'тыс. баррелей')"
   ]
  },
  {
   "cell_type": "code",
   "execution_count": 20,
   "metadata": {
    "scrolled": true
   },
   "outputs": [
    {
     "name": "stdout",
     "output_type": "stream",
     "text": [
      "RMSE региона 1: 40.03\n",
      "RMSE константной модели региона 3: 44.90\n",
      "Средний запас предсказанного сырья региона 1: 94.97 тыс. баррелей\n"
     ]
    }
   ],
   "source": [
    "#Модель для региона 3\n",
    "model_2 = LinearRegression()\n",
    "model_2.fit(features_train_2, target_train_2)\n",
    "predicted_valid_2 = model_2.predict(features_valid_2)\n",
    "rmse_2 = mean_squared_error(target_valid_2, predicted_valid_2)**0.5\n",
    "predictions_2 = pd.Series(predicted_valid_2, index=target_valid_2.index)\n",
    "\n",
    "#Константная модель для региона 3\n",
    "predicted_valid_const_2 = pd.Series(target_train_2.mean(), index=target_valid_2.index)\n",
    "rmse_const_2 = mean_squared_error(target_valid_2, predicted_valid_const_2)**0.5\n",
    "\n",
    "print('RMSE региона 1: {:.2f}'.format(rmse_2))\n",
    "print('RMSE константной модели региона 3: {:.2f}'.format(rmse_const_2))\n",
    "print('Средний запас предсказанного сырья региона 1: {:.2f}'.format(predicted_valid_2.mean()), 'тыс. баррелей')"
   ]
  },
  {
   "cell_type": "code",
   "execution_count": 21,
   "metadata": {},
   "outputs": [
    {
     "name": "stdout",
     "output_type": "stream",
     "text": [
      "       predictions      target\n",
      "71751    95.894952   10.038645\n",
      "80493    77.572583  114.551489\n",
      "2655     77.892640  132.603635\n",
      "53233    90.175134  169.072125\n",
      "91141    70.510088  122.325180\n",
      "       predictions     target\n",
      "71751    82.663314  80.859783\n",
      "80493    54.431786  53.906522\n",
      "2655     29.748760  30.132364\n",
      "53233    53.552133  53.906522\n",
      "91141     1.243856   0.000000\n",
      "       predictions      target\n",
      "71751    93.599633   61.212375\n",
      "80493    75.105159   41.850118\n",
      "2655     90.066809   57.776581\n",
      "53233   105.162375  100.053761\n",
      "91141   115.303310  109.897122\n"
     ]
    }
   ],
   "source": [
    "#Сохраним предсказания и правильные ответы на валидационной выборке\n",
    "def save_preds(predicted_valid, target_valid):\n",
    "    pred_target = pd.DataFrame(index=target_valid.index)\n",
    "    pred_target['predictions'] = predicted_valid\n",
    "    pred_target['target'] = target_valid\n",
    "    return pred_target\n",
    "    \n",
    "pred_target_0 = save_preds(predicted_valid_0, target_valid_0)\n",
    "pred_target_1 = save_preds(predicted_valid_1, target_valid_1)\n",
    "pred_target_2 = save_preds(predicted_valid_2, target_valid_2) \n",
    "\n",
    "print(pred_target_0.head())\n",
    "print(pred_target_1.head())\n",
    "print(pred_target_2.head())"
   ]
  },
  {
   "cell_type": "markdown",
   "metadata": {},
   "source": [
    "Лучшее значение RMSE = 0.89 (минимальное) мы получили для второго региона, у двух других регионов RMSE немногим ниже значений той же метрики для константных моделей. При этом для второго региона предсказаны самые низкие из трех средние запасы сырья (68.73 тыс. баррелей).  \n",
    "Самые высокие средние запасы сырья (94.97 тыс. баррелей) предсказаны для третьего региона и здесь же худшая метрика RMSE. У первого региона средние предсказанные запасы чуть ниже (92.59 тыс. баррелей), но при этом немного лучше RMSE.  \n",
    "Получается, что в регионах, для которых предсказаны бОльшие запасы сырья, выше и вероятность ошибки предсказания."
   ]
  },
  {
   "cell_type": "markdown",
   "metadata": {},
   "source": [
    "<a id='3'></a>\n",
    "## Подготовка к расчёту прибыли"
   ]
  },
  {
   "cell_type": "code",
   "execution_count": 22,
   "metadata": {},
   "outputs": [
    {
     "name": "stdout",
     "output_type": "stream",
     "text": [
      "Достаточный объем сырья для безубыточной разработки новой скважины: 111.11 тыс. баррелей\n"
     ]
    }
   ],
   "source": [
    "#Сохраним в переменные все ключевые значения для расчетов\n",
    "dev_wells = 200 #количество скважин, которое предполагается разрабатывать\n",
    "budget = 10000000000 #бюджет на разработку скважин в регионе\n",
    "revenue_barrel = 450000 #доход с одной единицы продукта (с тысячи баррелей)\n",
    "\n",
    "#Рассчитаем достаточный объем сырья для безубыточной разработки новой скважины\n",
    "sufficient_volume = budget/dev_wells/revenue_barrel\n",
    "\n",
    "print('Достаточный объем сырья для безубыточной разработки новой скважины: {:.2f}'.format(sufficient_volume), 'тыс. баррелей')"
   ]
  },
  {
   "cell_type": "code",
   "execution_count": 23,
   "metadata": {},
   "outputs": [],
   "source": [
    "#Добавим значения расчетного дохода в таблицы с предсказаниями и правильными ответами\n",
    "def append_profit(pred_target):\n",
    "    pred_target['profit'] = pred_target['target'] * revenue_barrel\n",
    "    return pred_target\n",
    "\n",
    "pred_target_0 = append_profit(pred_target_0)\n",
    "pred_target_1 = append_profit(pred_target_1)\n",
    "pred_target_2 = append_profit(pred_target_2)"
   ]
  },
  {
   "cell_type": "markdown",
   "metadata": {},
   "source": [
    "По результатам предсказаний объемов добычи в предыдущем пункте ни один из регионов не показал среднего значения запасов сырья, достаточного для безубыточной разработки. Максимально приблизился к расчетному значению безубыточности третий регион (средние предсказанные запасы - 94.97 тыс. баррелей), однако это все равно на 16 тыс. баррелей ниже, чем необходимо для работы \"в ноль\".  \n",
    "Таким образом, мы видим, что для получения прибыли от нефтедобычи, нельзя взять \"первые попавшиеся\" скважины. Необходимо разрабатывать такие, где предсказаны наиболее высокие объемы добычи."
   ]
  },
  {
   "cell_type": "markdown",
   "metadata": {},
   "source": [
    "<a id='4'></a>\n",
    "## Расчёт прибыли и рисков "
   ]
  },
  {
   "cell_type": "code",
   "execution_count": 27,
   "metadata": {},
   "outputs": [
    {
     "name": "stdout",
     "output_type": "stream",
     "text": [
      "Регион 1\n",
      "Суммарная прибыль с 200 лучших скважин: 3.321 млрд руб.\n",
      "Целевое значение объема сырья с 200 лучших скважин: 29601.8 тыс. баррелей\n",
      "\n",
      "Регион 2\n",
      "Суммарная прибыль с 200 лучших скважин: 2.415 млрд руб.\n",
      "Целевое значение объема сырья с 200 лучших скважин: 27589.1 тыс. баррелей\n",
      "\n",
      "Регион 3\n",
      "Суммарная прибыль с 200 лучших скважин: 2.710 млрд руб.\n",
      "Целевое значение объема сырья с 200 лучших скважин: 28245.2 тыс. баррелей\n"
     ]
    }
   ],
   "source": [
    "#Напишем функцию для расчета суммарной прибыли по 200 лучшим (с наибольшими предсказанными запасами) шахтам\n",
    "def revenue(pred_target):\n",
    "    preds_sorted = pred_target['predictions'].sort_values(ascending=False)\n",
    "    selected = pred_target['target'][preds_sorted.index][:200]\n",
    "    revenue = revenue_barrel * selected.sum()\n",
    "    profit = revenue - budget\n",
    "    return profit\n",
    "\n",
    "profit_0 = revenue(pred_target_0)\n",
    "profit_1 = revenue(pred_target_1)\n",
    "profit_2 = revenue(pred_target_2)\n",
    "\n",
    "\n",
    "print(\"Регион 1\")\n",
    "print('Суммарная прибыль с 200 лучших скважин: {:.3f}'.format(profit_0/1000000000), 'млрд руб.')\n",
    "print('Целевое значение объема сырья с 200 лучших скважин: {:.1f}'.format((pred_target_0.sort_values(by='predictions', ascending=False)[:200])['target'].sum()), 'тыс. баррелей')\n",
    "print()\n",
    "print(\"Регион 2\")\n",
    "print('Суммарная прибыль с 200 лучших скважин: {:.3f}'.format(profit_1/1000000000), 'млрд руб.')\n",
    "print('Целевое значение объема сырья с 200 лучших скважин: {:.1f}'.format((pred_target_1.sort_values(by='predictions', ascending=False)[:200])['target'].sum()), 'тыс. баррелей')\n",
    "print()\n",
    "print(\"Регион 3\")\n",
    "print('Суммарная прибыль с 200 лучших скважин: {:.3f}'.format(profit_2/1000000000), 'млрд руб.')\n",
    "print('Целевое значение объема сырья с 200 лучших скважин: {:.1f}'.format((pred_target_2.sort_values(by='predictions', ascending=False)[:200])['target'].sum()), 'тыс. баррелей')\n"
   ]
  },
  {
   "cell_type": "code",
   "execution_count": 25,
   "metadata": {},
   "outputs": [],
   "source": [
    "#Применим технику Bootstrap на 1000 выборок для расчета распределения прибыли и рисков по регионам\n",
    "def bootstrap(pred_target):\n",
    "    state = np.random.RandomState(12345)\n",
    "    values = []\n",
    "    for i in range(1000): \n",
    "        data = pred_target.sample(n=500, random_state=state, replace=True)\n",
    "        max_pred = data.sort_values(by='predictions', ascending=False)[:200]\n",
    "        income = (max_pred['profit'].sum() - budget)/1000000\n",
    "        values.append(income)\n",
    "    values = pd.Series(values)\n",
    "    lower = values.quantile(0.025)\n",
    "    upper = values.quantile(0.975)\n",
    "    risk_loss = values[values<0]\n",
    "    mean = values.mean()\n",
    "    print('Средняя прибыль: {:.6f} млн руб.'.format(mean))\n",
    "    print('Доверительный интервал от {:.3f}'.format(lower), 'до {:.3f}'.format(upper), 'млн руб.')\n",
    "    print(\"Риск убытков: {:.1%}\".format(risk_loss.count()/len(values)))\n"
   ]
  },
  {
   "cell_type": "code",
   "execution_count": 26,
   "metadata": {},
   "outputs": [
    {
     "name": "stdout",
     "output_type": "stream",
     "text": [
      "Регион 1\n",
      "Средняя прибыль: 396.164985 млн руб.\n",
      "Доверительный интервал от -111.216 до 909.767 млн руб.\n",
      "Риск убытков: 6.9%\n",
      "\n",
      "Регион 2\n",
      "Средняя прибыль: 456.045106 млн руб.\n",
      "Доверительный интервал от 33.821 до 852.289 млн руб.\n",
      "Риск убытков: 1.5%\n",
      "\n",
      "Регион 3\n",
      "Средняя прибыль: 404.403867 млн руб.\n",
      "Доверительный интервал от -163.350 до 950.360 млн руб.\n",
      "Риск убытков: 7.6%\n"
     ]
    }
   ],
   "source": [
    "print('Регион 1')\n",
    "bootstrap(pred_target_0)\n",
    "print()\n",
    "print('Регион 2')\n",
    "bootstrap(pred_target_1)\n",
    "print()\n",
    "print('Регион 3')\n",
    "bootstrap(pred_target_2)"
   ]
  },
  {
   "cell_type": "markdown",
   "metadata": {},
   "source": [
    "__Вывод.__ С помощью техники Bootstrap мы определили, что ___наиболее привлекательным для добычи нефти является регион 2___. По отобранным в нем 200 самых перспективных для разработки скважинам предсказана наиболее высокая из трех регионов средняя прибыль и наименьший риск убытков."
   ]
  },
  {
   "cell_type": "markdown",
   "metadata": {},
   "source": [
    "<a id='5'></a>\n",
    "## Выводы и предложения"
   ]
  },
  {
   "cell_type": "markdown",
   "metadata": {},
   "source": [
    "Расчеты в соответствии с условиями задачи показали, что для извлечения прибыли от разработки месторождения суммарный объем добычи в нем должен составить более 111.11 тыс. баррелей. Из анализа имеющихся данных о скважинах в разрезе регионов мы видим, что далеко не каждый участок может обеспечить такие объемы - это видно и по историческим данным, и по предсказанным.  \n",
    "\n",
    "В виду того, что бюджет на разработки ограничен, мы задались целью отобрать наиболее перспективный регион, оценив потенциальную прибыль и риски убытков на основе 200 скважин с наиболее высокими предсказанными объемами продукции. С помощью техники Bootstrap на основе 1000 выборок была предсказана средняя прибыль и возможные риски убытков для каждого из регионов. В результате был выявлен __победитель - регион 2__, для него была предсказана ___наибольшая средняя прибыль___ (456 млн руб), а также ___самый низкий из трех регионов риск убытков___ - 1.5%. Также отмечу, что по условиям проекта можно оставить лишь те регионы, для которых риск убытков менее 2.5%, и это тоже относится только ко 2-му региону (для двух других предсказаны существенно большие риски).  \n",
    "\n",
    "Дополнительно можно отметить, что у региона 2 также __низкий показатель RMSE__, то есть, сделанные предсказания для него являются достаточно точными, и это хорошо для последующего планирования работ на отобранных скважинах."
   ]
  }
 ],
 "metadata": {
  "ExecuteTimeLog": [
   {
    "duration": 5283,
    "start_time": "2021-06-12T19:19:52.583Z"
   },
   {
    "duration": 1508,
    "start_time": "2021-06-12T19:19:57.869Z"
   },
   {
    "duration": 4624,
    "start_time": "2021-06-12T19:19:59.381Z"
   },
   {
    "duration": 3,
    "start_time": "2021-06-12T19:20:04.008Z"
   },
   {
    "duration": 40,
    "start_time": "2021-06-12T19:20:04.013Z"
   },
   {
    "duration": 72,
    "start_time": "2021-06-12T19:20:04.056Z"
   },
   {
    "duration": 228,
    "start_time": "2021-06-12T19:20:04.131Z"
   },
   {
    "duration": 160,
    "start_time": "2021-06-12T19:20:04.363Z"
   },
   {
    "duration": 43,
    "start_time": "2021-06-12T19:20:04.526Z"
   },
   {
    "duration": 1206,
    "start_time": "2021-06-12T19:20:04.571Z"
   },
   {
    "duration": 6,
    "start_time": "2021-06-12T19:20:05.780Z"
   },
   {
    "duration": 541,
    "start_time": "2021-06-12T19:20:05.800Z"
   },
   {
    "duration": 532,
    "start_time": "2021-06-12T19:20:06.344Z"
   },
   {
    "duration": 601,
    "start_time": "2021-06-12T19:20:06.878Z"
   },
   {
    "duration": 541,
    "start_time": "2021-06-12T19:20:07.482Z"
   },
   {
    "duration": 2714,
    "start_time": "2021-06-12T23:02:15.358Z"
   },
   {
    "duration": 1754,
    "start_time": "2021-06-12T23:02:28.996Z"
   },
   {
    "duration": 1256,
    "start_time": "2021-06-12T23:03:16.539Z"
   },
   {
    "duration": 11,
    "start_time": "2021-06-13T00:57:53.755Z"
   },
   {
    "duration": 43,
    "start_time": "2021-06-13T00:58:15.336Z"
   },
   {
    "duration": 9,
    "start_time": "2021-06-13T00:58:46.391Z"
   },
   {
    "duration": 43,
    "start_time": "2021-06-13T00:58:49.553Z"
   },
   {
    "duration": 10,
    "start_time": "2021-06-13T00:59:08.469Z"
   },
   {
    "duration": 32,
    "start_time": "2021-06-13T00:59:21.408Z"
   },
   {
    "duration": 6,
    "start_time": "2021-06-13T01:00:55.616Z"
   },
   {
    "duration": 30,
    "start_time": "2021-06-13T01:00:56.776Z"
   },
   {
    "duration": 397,
    "start_time": "2021-06-13T01:01:15.702Z"
   },
   {
    "duration": 12,
    "start_time": "2021-06-13T01:01:23.817Z"
   },
   {
    "duration": 264,
    "start_time": "2021-06-13T01:02:39.675Z"
   },
   {
    "duration": 3,
    "start_time": "2021-06-13T01:03:10.016Z"
   },
   {
    "duration": 542,
    "start_time": "2021-06-13T01:03:10.705Z"
   },
   {
    "duration": 10,
    "start_time": "2021-06-13T01:03:12.077Z"
   },
   {
    "duration": 33,
    "start_time": "2021-06-13T01:03:13.059Z"
   },
   {
    "duration": 39,
    "start_time": "2021-06-13T01:03:13.686Z"
   },
   {
    "duration": 208,
    "start_time": "2021-06-13T01:03:16.130Z"
   },
   {
    "duration": 14,
    "start_time": "2021-06-13T01:03:17.644Z"
   },
   {
    "duration": 33,
    "start_time": "2021-06-13T01:03:36.279Z"
   },
   {
    "duration": 38,
    "start_time": "2021-06-13T01:04:03.729Z"
   },
   {
    "duration": 138,
    "start_time": "2021-06-13T01:04:04.764Z"
   },
   {
    "duration": 4,
    "start_time": "2021-06-13T01:05:21.084Z"
   },
   {
    "duration": 425,
    "start_time": "2021-06-13T01:05:21.535Z"
   },
   {
    "duration": 3,
    "start_time": "2021-06-13T01:05:22.410Z"
   },
   {
    "duration": 29,
    "start_time": "2021-06-13T01:05:22.868Z"
   },
   {
    "duration": 38,
    "start_time": "2021-06-13T01:05:23.320Z"
   },
   {
    "duration": 162,
    "start_time": "2021-06-13T01:05:26.612Z"
   },
   {
    "duration": 265,
    "start_time": "2021-06-13T01:05:27.545Z"
   },
   {
    "duration": 280,
    "start_time": "2021-06-13T01:05:35.003Z"
   },
   {
    "duration": 9,
    "start_time": "2021-06-13T01:05:43.357Z"
   },
   {
    "duration": 30,
    "start_time": "2021-06-13T01:05:45.857Z"
   },
   {
    "duration": 10,
    "start_time": "2021-06-13T01:06:11.559Z"
   },
   {
    "duration": 30,
    "start_time": "2021-06-13T01:06:13.530Z"
   },
   {
    "duration": 10,
    "start_time": "2021-06-13T01:06:45.243Z"
   },
   {
    "duration": 29,
    "start_time": "2021-06-13T01:06:46.268Z"
   },
   {
    "duration": 29,
    "start_time": "2021-06-13T01:06:56.976Z"
   },
   {
    "duration": 16,
    "start_time": "2021-06-13T01:08:16.553Z"
   },
   {
    "duration": 129,
    "start_time": "2021-06-13T01:08:19.307Z"
   },
   {
    "duration": 47,
    "start_time": "2021-06-13T01:08:20.405Z"
   },
   {
    "duration": 1179,
    "start_time": "2021-06-13T01:08:21.355Z"
   },
   {
    "duration": 7,
    "start_time": "2021-06-13T01:28:48.451Z"
   },
   {
    "duration": 520,
    "start_time": "2021-06-13T01:29:11.086Z"
   },
   {
    "duration": 485,
    "start_time": "2021-06-13T01:29:19.329Z"
   },
   {
    "duration": 485,
    "start_time": "2021-06-13T01:29:33.027Z"
   },
   {
    "duration": 501,
    "start_time": "2021-06-13T01:29:48.440Z"
   },
   {
    "duration": 7,
    "start_time": "2021-06-13T01:31:53.906Z"
   },
   {
    "duration": 506,
    "start_time": "2021-06-13T01:31:54.627Z"
   },
   {
    "duration": 6,
    "start_time": "2021-06-13T01:32:06.547Z"
   },
   {
    "duration": 603,
    "start_time": "2021-06-13T01:32:07.015Z"
   },
   {
    "duration": 4,
    "start_time": "2021-06-13T02:41:06.930Z"
   },
   {
    "duration": 7,
    "start_time": "2021-06-13T02:43:24.067Z"
   },
   {
    "duration": 4,
    "start_time": "2021-06-13T02:44:51.905Z"
   },
   {
    "duration": 268,
    "start_time": "2021-06-13T02:44:59.333Z"
   },
   {
    "duration": 6,
    "start_time": "2021-06-13T02:45:07.675Z"
   },
   {
    "duration": 4,
    "start_time": "2021-06-13T02:54:44.673Z"
   },
   {
    "duration": 12,
    "start_time": "2021-06-13T02:58:23.532Z"
   },
   {
    "duration": 254,
    "start_time": "2021-06-13T02:58:32.672Z"
   },
   {
    "duration": 4,
    "start_time": "2021-06-13T02:58:48.989Z"
   },
   {
    "duration": 433,
    "start_time": "2021-06-13T02:58:49.484Z"
   },
   {
    "duration": 3,
    "start_time": "2021-06-13T02:59:03.734Z"
   },
   {
    "duration": 33,
    "start_time": "2021-06-13T02:59:04.585Z"
   },
   {
    "duration": 44,
    "start_time": "2021-06-13T02:59:05.780Z"
   },
   {
    "duration": 171,
    "start_time": "2021-06-13T02:59:06.724Z"
   },
   {
    "duration": 17,
    "start_time": "2021-06-13T02:59:11.077Z"
   },
   {
    "duration": 131,
    "start_time": "2021-06-13T02:59:11.947Z"
   },
   {
    "duration": 6,
    "start_time": "2021-06-13T02:59:18.584Z"
   },
   {
    "duration": 499,
    "start_time": "2021-06-13T02:59:18.760Z"
   },
   {
    "duration": 494,
    "start_time": "2021-06-13T02:59:20.278Z"
   },
   {
    "duration": 593,
    "start_time": "2021-06-13T02:59:21.616Z"
   },
   {
    "duration": 505,
    "start_time": "2021-06-13T02:59:22.533Z"
   },
   {
    "duration": 42,
    "start_time": "2021-06-13T02:59:23.625Z"
   },
   {
    "duration": 1125,
    "start_time": "2021-06-13T02:59:24.124Z"
   },
   {
    "duration": 12,
    "start_time": "2021-06-13T02:59:29.720Z"
   },
   {
    "duration": 4,
    "start_time": "2021-06-13T02:59:52.821Z"
   },
   {
    "duration": 27,
    "start_time": "2021-06-13T03:00:19.608Z"
   },
   {
    "duration": 11,
    "start_time": "2021-06-13T03:01:14.459Z"
   },
   {
    "duration": 5,
    "start_time": "2021-06-13T03:02:54.067Z"
   },
   {
    "duration": 439,
    "start_time": "2021-06-13T03:02:54.549Z"
   },
   {
    "duration": 4,
    "start_time": "2021-06-13T03:02:55.901Z"
   },
   {
    "duration": 30,
    "start_time": "2021-06-13T03:02:56.737Z"
   },
   {
    "duration": 42,
    "start_time": "2021-06-13T03:02:57.627Z"
   },
   {
    "duration": 170,
    "start_time": "2021-06-13T03:02:58.884Z"
   },
   {
    "duration": 10,
    "start_time": "2021-06-13T03:03:03.719Z"
   },
   {
    "duration": 33,
    "start_time": "2021-06-13T03:03:05.924Z"
   },
   {
    "duration": 18,
    "start_time": "2021-06-13T03:03:36.856Z"
   },
   {
    "duration": 263,
    "start_time": "2021-06-13T03:03:44.798Z"
   },
   {
    "duration": 5,
    "start_time": "2021-06-13T03:04:03.125Z"
   },
   {
    "duration": 436,
    "start_time": "2021-06-13T03:04:03.600Z"
   },
   {
    "duration": 4,
    "start_time": "2021-06-13T03:04:04.714Z"
   },
   {
    "duration": 35,
    "start_time": "2021-06-13T03:04:05.394Z"
   },
   {
    "duration": 41,
    "start_time": "2021-06-13T03:04:06.508Z"
   },
   {
    "duration": 165,
    "start_time": "2021-06-13T03:04:07.823Z"
   },
   {
    "duration": 37,
    "start_time": "2021-06-13T03:04:14.017Z"
   },
   {
    "duration": 41,
    "start_time": "2021-06-13T03:04:52.410Z"
   },
   {
    "duration": 10,
    "start_time": "2021-06-13T03:06:36.792Z"
   },
   {
    "duration": 266,
    "start_time": "2021-06-13T03:06:37.731Z"
   },
   {
    "duration": 26,
    "start_time": "2021-06-13T03:06:46.558Z"
   },
   {
    "duration": 38,
    "start_time": "2021-06-13T03:08:52.132Z"
   },
   {
    "duration": 424,
    "start_time": "2021-06-13T03:10:26.043Z"
   },
   {
    "duration": 6,
    "start_time": "2021-06-13T03:10:38.162Z"
   },
   {
    "duration": 99,
    "start_time": "2021-06-13T03:10:53.602Z"
   },
   {
    "duration": 5,
    "start_time": "2021-06-13T03:11:05.161Z"
   },
   {
    "duration": 6,
    "start_time": "2021-06-13T03:11:40.039Z"
   },
   {
    "duration": 5,
    "start_time": "2021-06-13T03:22:56.026Z"
   },
   {
    "duration": 297,
    "start_time": "2021-06-13T03:26:23.023Z"
   },
   {
    "duration": 295,
    "start_time": "2021-06-13T03:27:08.260Z"
   },
   {
    "duration": 6,
    "start_time": "2021-06-13T03:29:04.457Z"
   },
   {
    "duration": 248,
    "start_time": "2021-06-13T03:30:48.939Z"
   },
   {
    "duration": 5,
    "start_time": "2021-06-13T03:34:49.525Z"
   },
   {
    "duration": 250,
    "start_time": "2021-06-13T03:36:55.325Z"
   },
   {
    "duration": 257,
    "start_time": "2021-06-13T03:37:22.787Z"
   },
   {
    "duration": 252,
    "start_time": "2021-06-13T03:37:33.453Z"
   },
   {
    "duration": 665,
    "start_time": "2021-06-13T03:37:41.540Z"
   },
   {
    "duration": 246,
    "start_time": "2021-06-13T03:38:12.272Z"
   },
   {
    "duration": 101,
    "start_time": "2021-06-13T03:39:13.759Z"
   },
   {
    "duration": 289,
    "start_time": "2021-06-13T03:39:52.519Z"
   },
   {
    "duration": 4,
    "start_time": "2021-06-13T03:40:07.708Z"
   },
   {
    "duration": 3516,
    "start_time": "2021-06-13T03:40:23.430Z"
   },
   {
    "duration": 1352,
    "start_time": "2021-06-13T03:40:26.949Z"
   },
   {
    "duration": 450,
    "start_time": "2021-06-13T03:40:28.304Z"
   },
   {
    "duration": 3,
    "start_time": "2021-06-13T03:40:28.757Z"
   },
   {
    "duration": 48,
    "start_time": "2021-06-13T03:40:28.762Z"
   },
   {
    "duration": 37,
    "start_time": "2021-06-13T03:40:28.812Z"
   },
   {
    "duration": 218,
    "start_time": "2021-06-13T03:40:28.852Z"
   },
   {
    "duration": 11,
    "start_time": "2021-06-13T03:40:29.072Z"
   },
   {
    "duration": 153,
    "start_time": "2021-06-13T03:40:29.087Z"
   },
   {
    "duration": 7,
    "start_time": "2021-06-13T03:40:29.243Z"
   },
   {
    "duration": 524,
    "start_time": "2021-06-13T03:40:29.252Z"
   },
   {
    "duration": 522,
    "start_time": "2021-06-13T03:40:29.778Z"
   },
   {
    "duration": 509,
    "start_time": "2021-06-13T03:40:30.303Z"
   },
   {
    "duration": 531,
    "start_time": "2021-06-13T03:40:30.815Z"
   },
   {
    "duration": 64,
    "start_time": "2021-06-13T03:40:31.348Z"
   },
   {
    "duration": 1227,
    "start_time": "2021-06-13T03:40:31.415Z"
   },
   {
    "duration": 17,
    "start_time": "2021-06-13T03:40:32.645Z"
   },
   {
    "duration": 82,
    "start_time": "2021-06-13T03:40:32.664Z"
   },
   {
    "duration": 6,
    "start_time": "2021-06-13T03:40:32.749Z"
   },
   {
    "duration": 383,
    "start_time": "2021-06-13T03:40:32.757Z"
   },
   {
    "duration": -131,
    "start_time": "2021-06-13T03:40:33.274Z"
   },
   {
    "duration": 267,
    "start_time": "2021-06-13T03:41:06.281Z"
   },
   {
    "duration": 254,
    "start_time": "2021-06-13T03:42:13.656Z"
   },
   {
    "duration": 9,
    "start_time": "2021-06-13T03:54:42.530Z"
   },
   {
    "duration": 6,
    "start_time": "2021-06-13T03:54:52.753Z"
   },
   {
    "duration": 21,
    "start_time": "2021-06-13T03:57:05.882Z"
   },
   {
    "duration": 93,
    "start_time": "2021-06-13T03:59:06.334Z"
   },
   {
    "duration": 7,
    "start_time": "2021-06-13T03:59:19.612Z"
   },
   {
    "duration": 4901,
    "start_time": "2021-06-13T23:49:27.122Z"
   },
   {
    "duration": 1526,
    "start_time": "2021-06-13T23:49:32.026Z"
   },
   {
    "duration": 1370,
    "start_time": "2021-06-13T23:49:33.556Z"
   },
   {
    "duration": 3,
    "start_time": "2021-06-13T23:49:34.928Z"
   },
   {
    "duration": 37,
    "start_time": "2021-06-13T23:49:34.934Z"
   },
   {
    "duration": 66,
    "start_time": "2021-06-13T23:49:34.974Z"
   },
   {
    "duration": 216,
    "start_time": "2021-06-13T23:49:35.043Z"
   },
   {
    "duration": 12,
    "start_time": "2021-06-13T23:49:35.262Z"
   },
   {
    "duration": 164,
    "start_time": "2021-06-13T23:49:35.278Z"
   },
   {
    "duration": 7,
    "start_time": "2021-06-13T23:49:35.445Z"
   },
   {
    "duration": 559,
    "start_time": "2021-06-13T23:49:35.455Z"
   },
   {
    "duration": 561,
    "start_time": "2021-06-13T23:49:36.016Z"
   },
   {
    "duration": 546,
    "start_time": "2021-06-13T23:49:36.579Z"
   },
   {
    "duration": 558,
    "start_time": "2021-06-13T23:49:37.127Z"
   },
   {
    "duration": 55,
    "start_time": "2021-06-13T23:49:37.687Z"
   },
   {
    "duration": 1248,
    "start_time": "2021-06-13T23:49:37.744Z"
   },
   {
    "duration": 17,
    "start_time": "2021-06-13T23:49:38.994Z"
   },
   {
    "duration": 724,
    "start_time": "2021-06-13T23:49:39.013Z"
   },
   {
    "duration": -1306,
    "start_time": "2021-06-13T23:49:41.046Z"
   },
   {
    "duration": 4550,
    "start_time": "2021-07-05T14:06:31.249Z"
   },
   {
    "duration": 1409,
    "start_time": "2021-07-05T14:06:35.802Z"
   },
   {
    "duration": 447,
    "start_time": "2021-07-05T14:06:37.214Z"
   },
   {
    "duration": 4,
    "start_time": "2021-07-05T14:06:37.664Z"
   },
   {
    "duration": 42,
    "start_time": "2021-07-05T14:06:37.671Z"
   },
   {
    "duration": 75,
    "start_time": "2021-07-05T14:06:37.716Z"
   },
   {
    "duration": 204,
    "start_time": "2021-07-05T14:06:37.794Z"
   },
   {
    "duration": 10,
    "start_time": "2021-07-05T14:06:38.002Z"
   },
   {
    "duration": 147,
    "start_time": "2021-07-05T14:06:38.015Z"
   },
   {
    "duration": 9,
    "start_time": "2021-07-05T14:06:38.166Z"
   },
   {
    "duration": 539,
    "start_time": "2021-07-05T14:06:38.177Z"
   },
   {
    "duration": 525,
    "start_time": "2021-07-05T14:06:38.719Z"
   },
   {
    "duration": 517,
    "start_time": "2021-07-05T14:06:39.246Z"
   },
   {
    "duration": 533,
    "start_time": "2021-07-05T14:06:39.765Z"
   },
   {
    "duration": 59,
    "start_time": "2021-07-05T14:06:40.301Z"
   },
   {
    "duration": 1294,
    "start_time": "2021-07-05T14:06:40.362Z"
   },
   {
    "duration": 16,
    "start_time": "2021-07-05T14:06:41.658Z"
   },
   {
    "duration": 665,
    "start_time": "2021-07-05T14:06:41.677Z"
   },
   {
    "duration": 55,
    "start_time": "2021-07-05T14:06:42.290Z"
   },
   {
    "duration": 80,
    "start_time": "2021-07-05T14:10:45.431Z"
   },
   {
    "duration": 245,
    "start_time": "2021-07-05T14:11:01.403Z"
   },
   {
    "duration": 4,
    "start_time": "2021-07-05T14:23:10.194Z"
   },
   {
    "duration": 17,
    "start_time": "2021-07-05T14:23:11.005Z"
   },
   {
    "duration": 72,
    "start_time": "2021-07-05T14:23:11.955Z"
   },
   {
    "duration": 281,
    "start_time": "2021-07-05T14:23:13.154Z"
   },
   {
    "duration": 459,
    "start_time": "2021-07-06T19:16:42.281Z"
   },
   {
    "duration": 4645,
    "start_time": "2021-07-06T19:17:14.786Z"
   },
   {
    "duration": 1546,
    "start_time": "2021-07-06T19:17:19.434Z"
   },
   {
    "duration": 459,
    "start_time": "2021-07-06T19:17:20.983Z"
   },
   {
    "duration": 3,
    "start_time": "2021-07-06T19:17:21.444Z"
   },
   {
    "duration": 33,
    "start_time": "2021-07-06T19:17:21.462Z"
   },
   {
    "duration": 68,
    "start_time": "2021-07-06T19:17:21.498Z"
   },
   {
    "duration": 216,
    "start_time": "2021-07-06T19:17:21.569Z"
   },
   {
    "duration": 11,
    "start_time": "2021-07-06T19:17:21.788Z"
   },
   {
    "duration": 149,
    "start_time": "2021-07-06T19:17:21.803Z"
   },
   {
    "duration": 8,
    "start_time": "2021-07-06T19:17:21.962Z"
   },
   {
    "duration": 551,
    "start_time": "2021-07-06T19:17:21.972Z"
   },
   {
    "duration": 538,
    "start_time": "2021-07-06T19:17:22.526Z"
   },
   {
    "duration": 539,
    "start_time": "2021-07-06T19:17:23.066Z"
   },
   {
    "duration": 557,
    "start_time": "2021-07-06T19:17:23.607Z"
   },
   {
    "duration": 43,
    "start_time": "2021-07-06T19:17:24.166Z"
   },
   {
    "duration": 1250,
    "start_time": "2021-07-06T19:17:24.211Z"
   },
   {
    "duration": 3,
    "start_time": "2021-07-06T19:17:25.464Z"
   },
   {
    "duration": 26,
    "start_time": "2021-07-06T19:17:25.469Z"
   },
   {
    "duration": 670,
    "start_time": "2021-07-06T19:17:25.497Z"
   },
   {
    "duration": -700,
    "start_time": "2021-07-06T19:17:26.870Z"
   },
   {
    "duration": 362,
    "start_time": "2021-07-06T19:21:30.359Z"
   },
   {
    "duration": 80,
    "start_time": "2021-07-06T19:24:28.138Z"
   },
   {
    "duration": 328,
    "start_time": "2021-07-06T19:24:35.649Z"
   },
   {
    "duration": 6,
    "start_time": "2021-07-06T19:26:20.800Z"
   },
   {
    "duration": 5,
    "start_time": "2021-07-06T19:26:36.266Z"
   },
   {
    "duration": 342,
    "start_time": "2021-07-06T19:26:41.014Z"
   },
   {
    "duration": 299,
    "start_time": "2021-07-06T19:26:51.450Z"
   },
   {
    "duration": 6,
    "start_time": "2021-07-06T19:27:01.947Z"
   },
   {
    "duration": 6,
    "start_time": "2021-07-06T19:27:15.550Z"
   },
   {
    "duration": 13,
    "start_time": "2021-07-06T19:27:37.243Z"
   },
   {
    "duration": 11,
    "start_time": "2021-07-06T19:29:56.706Z"
   },
   {
    "duration": 570,
    "start_time": "2021-07-06T19:30:36.849Z"
   },
   {
    "duration": 4484,
    "start_time": "2021-07-06T19:30:59.488Z"
   },
   {
    "duration": 2129,
    "start_time": "2021-07-06T19:31:03.975Z"
   },
   {
    "duration": 476,
    "start_time": "2021-07-06T19:31:06.108Z"
   },
   {
    "duration": 4,
    "start_time": "2021-07-06T19:31:06.586Z"
   },
   {
    "duration": 38,
    "start_time": "2021-07-06T19:31:06.592Z"
   },
   {
    "duration": 69,
    "start_time": "2021-07-06T19:31:06.634Z"
   },
   {
    "duration": 301,
    "start_time": "2021-07-06T19:31:06.706Z"
   },
   {
    "duration": 17,
    "start_time": "2021-07-06T19:31:07.009Z"
   },
   {
    "duration": 171,
    "start_time": "2021-07-06T19:31:07.029Z"
   },
   {
    "duration": 7,
    "start_time": "2021-07-06T19:31:07.203Z"
   },
   {
    "duration": 561,
    "start_time": "2021-07-06T19:31:07.213Z"
   },
   {
    "duration": 558,
    "start_time": "2021-07-06T19:31:07.777Z"
   },
   {
    "duration": 769,
    "start_time": "2021-07-06T19:31:08.338Z"
   },
   {
    "duration": 777,
    "start_time": "2021-07-06T19:31:09.110Z"
   },
   {
    "duration": 81,
    "start_time": "2021-07-06T19:31:09.890Z"
   },
   {
    "duration": 1766,
    "start_time": "2021-07-06T19:31:09.974Z"
   },
   {
    "duration": 757,
    "start_time": "2021-07-06T19:31:11.743Z"
   },
   {
    "duration": -900,
    "start_time": "2021-07-06T19:31:13.403Z"
   },
   {
    "duration": -904,
    "start_time": "2021-07-06T19:31:13.409Z"
   },
   {
    "duration": 61,
    "start_time": "2021-07-06T19:31:33.658Z"
   },
   {
    "duration": 9,
    "start_time": "2021-07-06T19:31:36.679Z"
   },
   {
    "duration": 3902,
    "start_time": "2021-07-06T19:34:57.793Z"
   },
   {
    "duration": 1623,
    "start_time": "2021-07-06T19:35:01.697Z"
   },
   {
    "duration": 600,
    "start_time": "2021-07-06T19:35:03.323Z"
   },
   {
    "duration": 4,
    "start_time": "2021-07-06T19:35:03.926Z"
   },
   {
    "duration": 69,
    "start_time": "2021-07-06T19:35:03.933Z"
   },
   {
    "duration": 75,
    "start_time": "2021-07-06T19:35:04.004Z"
   },
   {
    "duration": 238,
    "start_time": "2021-07-06T19:35:04.081Z"
   },
   {
    "duration": 12,
    "start_time": "2021-07-06T19:35:04.322Z"
   },
   {
    "duration": 213,
    "start_time": "2021-07-06T19:35:04.339Z"
   },
   {
    "duration": 10,
    "start_time": "2021-07-06T19:35:04.563Z"
   },
   {
    "duration": 790,
    "start_time": "2021-07-06T19:35:04.576Z"
   },
   {
    "duration": 571,
    "start_time": "2021-07-06T19:35:05.368Z"
   },
   {
    "duration": 589,
    "start_time": "2021-07-06T19:35:05.942Z"
   },
   {
    "duration": 601,
    "start_time": "2021-07-06T19:35:06.533Z"
   },
   {
    "duration": 61,
    "start_time": "2021-07-06T19:35:07.136Z"
   },
   {
    "duration": 1373,
    "start_time": "2021-07-06T19:35:07.200Z"
   },
   {
    "duration": 728,
    "start_time": "2021-07-06T19:35:08.575Z"
   },
   {
    "duration": -875,
    "start_time": "2021-07-06T19:35:10.180Z"
   },
   {
    "duration": -883,
    "start_time": "2021-07-06T19:35:10.189Z"
   },
   {
    "duration": 357,
    "start_time": "2021-07-06T19:36:02.370Z"
   },
   {
    "duration": 20,
    "start_time": "2021-07-06T19:36:18.902Z"
   },
   {
    "duration": 3865,
    "start_time": "2021-07-06T19:39:59.465Z"
   },
   {
    "duration": 1520,
    "start_time": "2021-07-06T19:40:03.333Z"
   },
   {
    "duration": 487,
    "start_time": "2021-07-06T19:40:04.855Z"
   },
   {
    "duration": 4,
    "start_time": "2021-07-06T19:40:05.345Z"
   },
   {
    "duration": 52,
    "start_time": "2021-07-06T19:40:05.351Z"
   },
   {
    "duration": 69,
    "start_time": "2021-07-06T19:40:05.405Z"
   },
   {
    "duration": 357,
    "start_time": "2021-07-06T19:40:05.477Z"
   },
   {
    "duration": 10,
    "start_time": "2021-07-06T19:40:05.838Z"
   },
   {
    "duration": 207,
    "start_time": "2021-07-06T19:40:05.863Z"
   },
   {
    "duration": 12,
    "start_time": "2021-07-06T19:40:06.074Z"
   },
   {
    "duration": 776,
    "start_time": "2021-07-06T19:40:06.089Z"
   },
   {
    "duration": 617,
    "start_time": "2021-07-06T19:40:06.869Z"
   },
   {
    "duration": 812,
    "start_time": "2021-07-06T19:40:07.490Z"
   },
   {
    "duration": 610,
    "start_time": "2021-07-06T19:40:08.305Z"
   },
   {
    "duration": 76,
    "start_time": "2021-07-06T19:40:08.918Z"
   },
   {
    "duration": 1405,
    "start_time": "2021-07-06T19:40:08.997Z"
   },
   {
    "duration": 68,
    "start_time": "2021-07-06T19:40:10.405Z"
   },
   {
    "duration": 10,
    "start_time": "2021-07-06T19:40:10.477Z"
   },
   {
    "duration": 535,
    "start_time": "2021-07-06T19:40:10.490Z"
   },
   {
    "duration": 5,
    "start_time": "2021-07-06T19:59:48.998Z"
   },
   {
    "duration": 4572,
    "start_time": "2021-07-06T20:08:37.775Z"
   },
   {
    "duration": 1577,
    "start_time": "2021-07-06T20:08:42.350Z"
   },
   {
    "duration": 609,
    "start_time": "2021-07-06T20:08:43.931Z"
   },
   {
    "duration": 4,
    "start_time": "2021-07-06T20:08:44.543Z"
   },
   {
    "duration": 80,
    "start_time": "2021-07-06T20:08:44.550Z"
   },
   {
    "duration": 56,
    "start_time": "2021-07-06T20:08:44.633Z"
   },
   {
    "duration": 251,
    "start_time": "2021-07-06T20:08:44.691Z"
   },
   {
    "duration": 27,
    "start_time": "2021-07-06T20:08:44.945Z"
   },
   {
    "duration": 161,
    "start_time": "2021-07-06T20:08:44.979Z"
   },
   {
    "duration": 8,
    "start_time": "2021-07-06T20:08:45.142Z"
   },
   {
    "duration": 558,
    "start_time": "2021-07-06T20:08:45.152Z"
   },
   {
    "duration": 559,
    "start_time": "2021-07-06T20:08:45.712Z"
   },
   {
    "duration": 573,
    "start_time": "2021-07-06T20:08:46.273Z"
   },
   {
    "duration": 576,
    "start_time": "2021-07-06T20:08:46.848Z"
   },
   {
    "duration": 70,
    "start_time": "2021-07-06T20:08:47.427Z"
   },
   {
    "duration": 1345,
    "start_time": "2021-07-06T20:08:47.500Z"
   },
   {
    "duration": 94,
    "start_time": "2021-07-06T20:08:48.848Z"
   },
   {
    "duration": 9,
    "start_time": "2021-07-06T20:08:48.945Z"
   },
   {
    "duration": 22,
    "start_time": "2021-07-06T20:23:20.033Z"
   },
   {
    "duration": 115,
    "start_time": "2021-07-06T20:49:18.194Z"
   },
   {
    "duration": 4002,
    "start_time": "2021-07-07T13:50:23.208Z"
   },
   {
    "duration": 1090,
    "start_time": "2021-07-07T13:50:27.212Z"
   },
   {
    "duration": 322,
    "start_time": "2021-07-07T13:50:28.303Z"
   },
   {
    "duration": 2,
    "start_time": "2021-07-07T13:50:28.627Z"
   },
   {
    "duration": 25,
    "start_time": "2021-07-07T13:50:28.630Z"
   },
   {
    "duration": 23,
    "start_time": "2021-07-07T13:50:28.657Z"
   },
   {
    "duration": 103,
    "start_time": "2021-07-07T13:50:28.691Z"
   },
   {
    "duration": 8,
    "start_time": "2021-07-07T13:50:28.796Z"
   },
   {
    "duration": 100,
    "start_time": "2021-07-07T13:50:28.805Z"
   },
   {
    "duration": 4,
    "start_time": "2021-07-07T13:50:28.907Z"
   },
   {
    "duration": 299,
    "start_time": "2021-07-07T13:50:28.913Z"
   },
   {
    "duration": 295,
    "start_time": "2021-07-07T13:50:29.214Z"
   },
   {
    "duration": 306,
    "start_time": "2021-07-07T13:50:29.511Z"
   },
   {
    "duration": 401,
    "start_time": "2021-07-07T13:50:29.819Z"
   },
   {
    "duration": 30,
    "start_time": "2021-07-07T13:50:30.222Z"
   },
   {
    "duration": 889,
    "start_time": "2021-07-07T13:50:30.254Z"
   },
   {
    "duration": 67,
    "start_time": "2021-07-07T13:50:31.145Z"
   },
   {
    "duration": 4,
    "start_time": "2021-07-07T13:50:31.214Z"
   },
   {
    "duration": 638,
    "start_time": "2021-07-07T14:05:26.212Z"
   },
   {
    "duration": 219,
    "start_time": "2021-07-07T14:10:40.470Z"
   },
   {
    "duration": 361,
    "start_time": "2021-07-07T14:16:13.933Z"
   },
   {
    "duration": 369,
    "start_time": "2021-07-07T14:17:16.607Z"
   },
   {
    "duration": 397,
    "start_time": "2021-07-07T14:19:51.883Z"
   },
   {
    "duration": 385,
    "start_time": "2021-07-07T14:20:36.123Z"
   },
   {
    "duration": 2154,
    "start_time": "2021-07-07T14:22:48.328Z"
   },
   {
    "duration": 1144,
    "start_time": "2021-07-07T14:22:50.484Z"
   },
   {
    "duration": 346,
    "start_time": "2021-07-07T14:22:51.630Z"
   },
   {
    "duration": 3,
    "start_time": "2021-07-07T14:22:51.978Z"
   },
   {
    "duration": 28,
    "start_time": "2021-07-07T14:22:51.982Z"
   },
   {
    "duration": 26,
    "start_time": "2021-07-07T14:22:52.011Z"
   },
   {
    "duration": 122,
    "start_time": "2021-07-07T14:22:52.038Z"
   },
   {
    "duration": 9,
    "start_time": "2021-07-07T14:22:52.162Z"
   },
   {
    "duration": 118,
    "start_time": "2021-07-07T14:22:52.174Z"
   },
   {
    "duration": 5,
    "start_time": "2021-07-07T14:22:52.295Z"
   },
   {
    "duration": 317,
    "start_time": "2021-07-07T14:22:52.302Z"
   },
   {
    "duration": 311,
    "start_time": "2021-07-07T14:22:52.621Z"
   },
   {
    "duration": 326,
    "start_time": "2021-07-07T14:22:52.934Z"
   },
   {
    "duration": 305,
    "start_time": "2021-07-07T14:22:53.262Z"
   },
   {
    "duration": 39,
    "start_time": "2021-07-07T14:22:53.569Z"
   },
   {
    "duration": 846,
    "start_time": "2021-07-07T14:22:53.610Z"
   },
   {
    "duration": 68,
    "start_time": "2021-07-07T14:22:54.458Z"
   },
   {
    "duration": 444,
    "start_time": "2021-07-07T14:22:54.527Z"
   },
   {
    "duration": 5272,
    "start_time": "2021-07-08T13:19:54.096Z"
   },
   {
    "duration": 1560,
    "start_time": "2021-07-08T13:19:59.371Z"
   },
   {
    "duration": 521,
    "start_time": "2021-07-08T13:20:00.934Z"
   },
   {
    "duration": 4,
    "start_time": "2021-07-08T13:20:01.459Z"
   },
   {
    "duration": 57,
    "start_time": "2021-07-08T13:20:01.465Z"
   },
   {
    "duration": 68,
    "start_time": "2021-07-08T13:20:01.525Z"
   },
   {
    "duration": 213,
    "start_time": "2021-07-08T13:20:01.596Z"
   },
   {
    "duration": 12,
    "start_time": "2021-07-08T13:20:01.813Z"
   },
   {
    "duration": 172,
    "start_time": "2021-07-08T13:20:01.828Z"
   },
   {
    "duration": 8,
    "start_time": "2021-07-08T13:20:02.003Z"
   },
   {
    "duration": 590,
    "start_time": "2021-07-08T13:20:02.014Z"
   },
   {
    "duration": 575,
    "start_time": "2021-07-08T13:20:02.607Z"
   },
   {
    "duration": 728,
    "start_time": "2021-07-08T13:20:03.185Z"
   },
   {
    "duration": 576,
    "start_time": "2021-07-08T13:20:03.915Z"
   },
   {
    "duration": 41,
    "start_time": "2021-07-08T13:20:04.496Z"
   },
   {
    "duration": 1515,
    "start_time": "2021-07-08T13:20:04.555Z"
   },
   {
    "duration": 87,
    "start_time": "2021-07-08T13:20:06.076Z"
   },
   {
    "duration": 1148,
    "start_time": "2021-07-08T13:20:06.166Z"
   },
   {
    "duration": -949,
    "start_time": "2021-07-08T13:20:08.265Z"
   },
   {
    "duration": 7,
    "start_time": "2021-07-08T13:24:47.592Z"
   },
   {
    "duration": 14,
    "start_time": "2021-07-08T13:25:20.854Z"
   },
   {
    "duration": 5,
    "start_time": "2021-07-08T13:25:29.819Z"
   },
   {
    "duration": 12,
    "start_time": "2021-07-08T13:26:27.353Z"
   },
   {
    "duration": 8,
    "start_time": "2021-07-08T13:26:52.255Z"
   },
   {
    "duration": 273,
    "start_time": "2021-07-08T13:27:00.713Z"
   },
   {
    "duration": 10,
    "start_time": "2021-07-08T13:27:06.465Z"
   },
   {
    "duration": 6,
    "start_time": "2021-07-08T13:27:12.428Z"
   },
   {
    "duration": 7,
    "start_time": "2021-07-08T13:27:19.165Z"
   },
   {
    "duration": 336,
    "start_time": "2021-07-08T13:34:13.346Z"
   },
   {
    "duration": 83,
    "start_time": "2021-07-08T13:34:35.942Z"
   },
   {
    "duration": 1090,
    "start_time": "2021-07-08T13:35:36.937Z"
   },
   {
    "duration": 452,
    "start_time": "2021-07-08T13:41:39.140Z"
   },
   {
    "duration": 320,
    "start_time": "2021-07-08T13:42:21.805Z"
   },
   {
    "duration": 4063,
    "start_time": "2021-07-08T13:42:26.928Z"
   },
   {
    "duration": 1696,
    "start_time": "2021-07-08T13:42:30.995Z"
   },
   {
    "duration": 670,
    "start_time": "2021-07-08T13:42:32.695Z"
   },
   {
    "duration": 5,
    "start_time": "2021-07-08T13:42:33.369Z"
   },
   {
    "duration": 60,
    "start_time": "2021-07-08T13:42:33.377Z"
   },
   {
    "duration": 70,
    "start_time": "2021-07-08T13:42:33.439Z"
   },
   {
    "duration": 220,
    "start_time": "2021-07-08T13:42:33.511Z"
   },
   {
    "duration": 25,
    "start_time": "2021-07-08T13:42:33.734Z"
   },
   {
    "duration": 202,
    "start_time": "2021-07-08T13:42:33.763Z"
   },
   {
    "duration": 9,
    "start_time": "2021-07-08T13:42:33.968Z"
   },
   {
    "duration": 597,
    "start_time": "2021-07-08T13:42:33.979Z"
   },
   {
    "duration": 714,
    "start_time": "2021-07-08T13:42:34.578Z"
   },
   {
    "duration": 595,
    "start_time": "2021-07-08T13:42:35.295Z"
   },
   {
    "duration": 609,
    "start_time": "2021-07-08T13:42:35.893Z"
   },
   {
    "duration": 73,
    "start_time": "2021-07-08T13:42:36.506Z"
   },
   {
    "duration": 1343,
    "start_time": "2021-07-08T13:42:36.581Z"
   },
   {
    "duration": 115,
    "start_time": "2021-07-08T13:42:37.927Z"
   },
   {
    "duration": 563,
    "start_time": "2021-07-08T13:42:38.045Z"
   },
   {
    "duration": -1818,
    "start_time": "2021-07-08T13:42:40.429Z"
   },
   {
    "duration": 6,
    "start_time": "2021-07-08T13:44:54.766Z"
   },
   {
    "duration": 13,
    "start_time": "2021-07-08T13:44:59.454Z"
   },
   {
    "duration": 6,
    "start_time": "2021-07-08T13:45:13.800Z"
   },
   {
    "duration": 286,
    "start_time": "2021-07-08T13:45:47.116Z"
   },
   {
    "duration": 483,
    "start_time": "2021-07-08T13:56:25.321Z"
   },
   {
    "duration": 4022,
    "start_time": "2021-07-08T14:00:41.507Z"
   },
   {
    "duration": 4,
    "start_time": "2021-07-08T14:00:45.532Z"
   },
   {
    "duration": 587,
    "start_time": "2021-07-08T14:00:45.539Z"
   },
   {
    "duration": 12,
    "start_time": "2021-07-08T14:00:46.129Z"
   },
   {
    "duration": 61,
    "start_time": "2021-07-08T14:00:46.143Z"
   },
   {
    "duration": 85,
    "start_time": "2021-07-08T14:00:46.207Z"
   },
   {
    "duration": 215,
    "start_time": "2021-07-08T14:00:46.300Z"
   },
   {
    "duration": 10,
    "start_time": "2021-07-08T14:00:46.518Z"
   },
   {
    "duration": 175,
    "start_time": "2021-07-08T14:00:46.531Z"
   },
   {
    "duration": 7,
    "start_time": "2021-07-08T14:00:46.709Z"
   },
   {
    "duration": 670,
    "start_time": "2021-07-08T14:00:46.719Z"
   },
   {
    "duration": 652,
    "start_time": "2021-07-08T14:00:47.392Z"
   },
   {
    "duration": 709,
    "start_time": "2021-07-08T14:00:48.047Z"
   },
   {
    "duration": 605,
    "start_time": "2021-07-08T14:00:48.759Z"
   },
   {
    "duration": 56,
    "start_time": "2021-07-08T14:00:49.366Z"
   },
   {
    "duration": 1292,
    "start_time": "2021-07-08T14:00:49.425Z"
   },
   {
    "duration": 95,
    "start_time": "2021-07-08T14:00:50.719Z"
   },
   {
    "duration": 464,
    "start_time": "2021-07-08T14:00:50.816Z"
   },
   {
    "duration": -14444,
    "start_time": "2021-07-08T14:01:05.726Z"
   },
   {
    "duration": 6,
    "start_time": "2021-07-08T14:04:07.344Z"
   },
   {
    "duration": 13,
    "start_time": "2021-07-08T14:04:23.076Z"
   },
   {
    "duration": 15,
    "start_time": "2021-07-08T14:12:22.009Z"
   },
   {
    "duration": 79,
    "start_time": "2021-07-08T14:24:08.702Z"
   },
   {
    "duration": 6,
    "start_time": "2021-07-08T14:24:12.813Z"
   },
   {
    "duration": 435,
    "start_time": "2021-07-08T14:24:20.275Z"
   },
   {
    "duration": 18,
    "start_time": "2021-07-08T14:28:02.615Z"
   },
   {
    "duration": 23,
    "start_time": "2021-07-08T14:28:15.697Z"
   },
   {
    "duration": 88,
    "start_time": "2021-07-08T14:29:49.878Z"
   },
   {
    "duration": 104,
    "start_time": "2021-07-08T14:30:23.561Z"
   },
   {
    "duration": 21,
    "start_time": "2021-07-08T14:31:03.789Z"
   },
   {
    "duration": 34,
    "start_time": "2021-07-08T14:31:43.153Z"
   },
   {
    "duration": 16,
    "start_time": "2021-07-08T14:33:59.980Z"
   },
   {
    "duration": 29,
    "start_time": "2021-07-08T14:34:08.047Z"
   },
   {
    "duration": 22,
    "start_time": "2021-07-08T14:34:46.913Z"
   },
   {
    "duration": 3,
    "start_time": "2021-07-08T14:35:38.136Z"
   },
   {
    "duration": 92,
    "start_time": "2021-07-08T14:52:44.719Z"
   },
   {
    "duration": 80,
    "start_time": "2021-07-08T14:55:26.687Z"
   },
   {
    "duration": 5563,
    "start_time": "2021-07-11T18:40:16.871Z"
   },
   {
    "duration": 1512,
    "start_time": "2021-07-11T18:40:22.438Z"
   },
   {
    "duration": 494,
    "start_time": "2021-07-11T18:40:23.953Z"
   },
   {
    "duration": 4,
    "start_time": "2021-07-11T18:40:24.450Z"
   },
   {
    "duration": 43,
    "start_time": "2021-07-11T18:40:24.456Z"
   },
   {
    "duration": 38,
    "start_time": "2021-07-11T18:40:24.502Z"
   },
   {
    "duration": 248,
    "start_time": "2021-07-11T18:40:24.543Z"
   },
   {
    "duration": 12,
    "start_time": "2021-07-11T18:40:24.794Z"
   },
   {
    "duration": 158,
    "start_time": "2021-07-11T18:40:24.810Z"
   },
   {
    "duration": 20,
    "start_time": "2021-07-11T18:40:24.972Z"
   },
   {
    "duration": 564,
    "start_time": "2021-07-11T18:40:24.996Z"
   },
   {
    "duration": 542,
    "start_time": "2021-07-11T18:40:25.562Z"
   },
   {
    "duration": 536,
    "start_time": "2021-07-11T18:40:26.106Z"
   },
   {
    "duration": 648,
    "start_time": "2021-07-11T18:40:26.645Z"
   },
   {
    "duration": 41,
    "start_time": "2021-07-11T18:40:27.296Z"
   },
   {
    "duration": 1307,
    "start_time": "2021-07-11T18:40:27.339Z"
   },
   {
    "duration": 89,
    "start_time": "2021-07-11T18:40:28.648Z"
   },
   {
    "duration": 5,
    "start_time": "2021-07-11T18:40:28.739Z"
   },
   {
    "duration": 46,
    "start_time": "2021-07-11T18:40:28.746Z"
   },
   {
    "duration": 213,
    "start_time": "2021-07-11T18:40:28.795Z"
   },
   {
    "duration": 105,
    "start_time": "2021-07-11T18:40:29.087Z"
   },
   {
    "duration": 91,
    "start_time": "2021-07-11T18:40:29.196Z"
   },
   {
    "duration": 846,
    "start_time": "2021-07-11T20:34:15.538Z"
   },
   {
    "duration": 22,
    "start_time": "2021-07-11T20:36:34.714Z"
   },
   {
    "duration": 29,
    "start_time": "2021-07-11T20:36:52.795Z"
   },
   {
    "duration": 31,
    "start_time": "2021-07-11T20:37:57.118Z"
   },
   {
    "duration": 32,
    "start_time": "2021-07-11T20:38:26.780Z"
   },
   {
    "duration": 622,
    "start_time": "2021-07-11T20:39:17.568Z"
   },
   {
    "duration": 24,
    "start_time": "2021-07-11T20:39:36.415Z"
   },
   {
    "duration": 3485,
    "start_time": "2021-07-11T20:40:45.564Z"
   },
   {
    "duration": 1483,
    "start_time": "2021-07-11T20:40:49.052Z"
   },
   {
    "duration": 460,
    "start_time": "2021-07-11T20:40:50.538Z"
   },
   {
    "duration": 4,
    "start_time": "2021-07-11T20:40:51.000Z"
   },
   {
    "duration": 45,
    "start_time": "2021-07-11T20:40:51.007Z"
   },
   {
    "duration": 60,
    "start_time": "2021-07-11T20:40:51.054Z"
   },
   {
    "duration": 211,
    "start_time": "2021-07-11T20:40:51.117Z"
   },
   {
    "duration": 13,
    "start_time": "2021-07-11T20:40:51.331Z"
   },
   {
    "duration": 156,
    "start_time": "2021-07-11T20:40:51.348Z"
   },
   {
    "duration": 8,
    "start_time": "2021-07-11T20:40:51.507Z"
   },
   {
    "duration": 560,
    "start_time": "2021-07-11T20:40:51.517Z"
   },
   {
    "duration": 531,
    "start_time": "2021-07-11T20:40:52.080Z"
   },
   {
    "duration": 521,
    "start_time": "2021-07-11T20:40:52.613Z"
   },
   {
    "duration": 535,
    "start_time": "2021-07-11T20:40:53.137Z"
   },
   {
    "duration": 42,
    "start_time": "2021-07-11T20:40:53.685Z"
   },
   {
    "duration": 1242,
    "start_time": "2021-07-11T20:40:53.729Z"
   },
   {
    "duration": 117,
    "start_time": "2021-07-11T20:40:54.974Z"
   },
   {
    "duration": 7,
    "start_time": "2021-07-11T20:40:55.094Z"
   },
   {
    "duration": 22,
    "start_time": "2021-07-11T20:40:55.104Z"
   },
   {
    "duration": 107,
    "start_time": "2021-07-11T20:40:55.191Z"
   },
   {
    "duration": 184,
    "start_time": "2021-07-11T20:40:55.302Z"
   },
   {
    "duration": 95,
    "start_time": "2021-07-11T20:40:55.491Z"
   },
   {
    "duration": 24,
    "start_time": "2021-07-11T20:40:55.588Z"
   },
   {
    "duration": 502,
    "start_time": "2021-07-11T21:18:40.627Z"
   },
   {
    "duration": 21,
    "start_time": "2021-07-11T21:18:51.635Z"
   },
   {
    "duration": 94,
    "start_time": "2021-07-11T21:21:15.691Z"
   },
   {
    "duration": 38,
    "start_time": "2021-07-11T21:22:02.450Z"
   },
   {
    "duration": 22,
    "start_time": "2021-07-11T21:31:51.641Z"
   },
   {
    "duration": 114,
    "start_time": "2021-07-11T21:32:31.276Z"
   },
   {
    "duration": 116,
    "start_time": "2021-07-11T21:33:07.376Z"
   },
   {
    "duration": 6,
    "start_time": "2021-07-11T22:20:32.284Z"
   },
   {
    "duration": 5,
    "start_time": "2021-07-11T22:21:38.645Z"
   },
   {
    "duration": 394,
    "start_time": "2021-07-11T22:37:35.680Z"
   },
   {
    "duration": 686,
    "start_time": "2021-07-11T22:38:06.073Z"
   },
   {
    "duration": 129,
    "start_time": "2021-07-11T22:59:32.716Z"
   },
   {
    "duration": 119,
    "start_time": "2021-07-11T23:00:48.804Z"
   },
   {
    "duration": 102,
    "start_time": "2021-07-11T23:01:01.215Z"
   },
   {
    "duration": 109,
    "start_time": "2021-07-11T23:02:19.355Z"
   },
   {
    "duration": 114,
    "start_time": "2021-07-11T23:02:39.856Z"
   },
   {
    "duration": 105,
    "start_time": "2021-07-11T23:03:03.711Z"
   },
   {
    "duration": 113,
    "start_time": "2021-07-11T23:03:11.671Z"
   },
   {
    "duration": 102,
    "start_time": "2021-07-11T23:03:32.081Z"
   },
   {
    "duration": 323,
    "start_time": "2021-07-11T23:06:52.467Z"
   },
   {
    "duration": 512,
    "start_time": "2021-07-11T23:07:50.297Z"
   },
   {
    "duration": 479,
    "start_time": "2021-07-11T23:10:19.228Z"
   },
   {
    "duration": 480,
    "start_time": "2021-07-11T23:10:49.265Z"
   },
   {
    "duration": 17,
    "start_time": "2021-07-11T23:13:14.663Z"
   },
   {
    "duration": 312,
    "start_time": "2021-07-11T23:14:59.273Z"
   },
   {
    "duration": 509,
    "start_time": "2021-07-11T23:20:42.305Z"
   },
   {
    "duration": 500,
    "start_time": "2021-07-11T23:21:25.950Z"
   },
   {
    "duration": 497,
    "start_time": "2021-07-11T23:23:54.470Z"
   },
   {
    "duration": 13,
    "start_time": "2021-07-11T23:24:04.895Z"
   },
   {
    "duration": 101,
    "start_time": "2021-07-11T23:24:53.915Z"
   },
   {
    "duration": 14,
    "start_time": "2021-07-11T23:25:03.860Z"
   },
   {
    "duration": 13,
    "start_time": "2021-07-11T23:25:41.168Z"
   },
   {
    "duration": 32,
    "start_time": "2021-07-11T23:36:19.239Z"
   },
   {
    "duration": 6,
    "start_time": "2021-07-11T23:59:04.750Z"
   },
   {
    "duration": 6,
    "start_time": "2021-07-11T23:59:55.530Z"
   },
   {
    "duration": 471,
    "start_time": "2021-07-12T00:03:35.699Z"
   },
   {
    "duration": 367,
    "start_time": "2021-07-12T00:03:53.225Z"
   },
   {
    "duration": 81,
    "start_time": "2021-07-12T00:04:09.007Z"
   },
   {
    "duration": 20,
    "start_time": "2021-07-12T00:04:36.979Z"
   },
   {
    "duration": 21,
    "start_time": "2021-07-12T00:04:40.471Z"
   },
   {
    "duration": 22,
    "start_time": "2021-07-12T00:04:47.772Z"
   },
   {
    "duration": 28,
    "start_time": "2021-07-12T00:05:23.658Z"
   },
   {
    "duration": 353,
    "start_time": "2021-07-12T00:05:36.748Z"
   },
   {
    "duration": 29,
    "start_time": "2021-07-12T00:06:01.752Z"
   },
   {
    "duration": 25,
    "start_time": "2021-07-12T00:07:42.729Z"
   },
   {
    "duration": 28,
    "start_time": "2021-07-12T00:31:02.799Z"
   },
   {
    "duration": 542,
    "start_time": "2021-07-12T00:47:03.491Z"
   },
   {
    "duration": 499,
    "start_time": "2021-07-12T00:51:42.411Z"
   },
   {
    "duration": 481,
    "start_time": "2021-07-12T00:52:07.042Z"
   },
   {
    "duration": 283,
    "start_time": "2021-07-12T00:52:27.042Z"
   },
   {
    "duration": 301,
    "start_time": "2021-07-12T00:53:22.267Z"
   },
   {
    "duration": 523,
    "start_time": "2021-07-12T00:53:34.924Z"
   },
   {
    "duration": 326,
    "start_time": "2021-07-12T00:54:58.956Z"
   },
   {
    "duration": 539,
    "start_time": "2021-07-12T00:55:16.551Z"
   },
   {
    "duration": 507,
    "start_time": "2021-07-12T00:56:39.858Z"
   },
   {
    "duration": 28,
    "start_time": "2021-07-12T00:57:11.313Z"
   },
   {
    "duration": 327,
    "start_time": "2021-07-12T01:05:08.584Z"
   },
   {
    "duration": 537,
    "start_time": "2021-07-12T01:05:22.381Z"
   },
   {
    "duration": 5,
    "start_time": "2021-07-12T01:05:56.520Z"
   },
   {
    "duration": 539,
    "start_time": "2021-07-12T01:06:01.471Z"
   },
   {
    "duration": 4,
    "start_time": "2021-07-12T01:07:44.183Z"
   },
   {
    "duration": 530,
    "start_time": "2021-07-12T01:07:49.788Z"
   },
   {
    "duration": 298,
    "start_time": "2021-07-12T01:08:12.123Z"
   },
   {
    "duration": 328,
    "start_time": "2021-07-12T01:08:37.050Z"
   },
   {
    "duration": 31,
    "start_time": "2021-07-12T01:10:49.783Z"
   },
   {
    "duration": 33,
    "start_time": "2021-07-12T01:11:11.389Z"
   },
   {
    "duration": 530,
    "start_time": "2021-07-12T01:13:39.580Z"
   },
   {
    "duration": 529,
    "start_time": "2021-07-12T01:17:40.523Z"
   },
   {
    "duration": 70,
    "start_time": "2021-07-12T01:17:58.852Z"
   },
   {
    "duration": 30,
    "start_time": "2021-07-12T01:18:23.849Z"
   },
   {
    "duration": 31,
    "start_time": "2021-07-12T01:18:41.070Z"
   },
   {
    "duration": 307,
    "start_time": "2021-07-12T01:19:49.424Z"
   },
   {
    "duration": 558,
    "start_time": "2021-07-12T01:22:50.651Z"
   },
   {
    "duration": 30,
    "start_time": "2021-07-12T01:25:44.577Z"
   },
   {
    "duration": 522,
    "start_time": "2021-07-12T01:25:54.455Z"
   },
   {
    "duration": 330,
    "start_time": "2021-07-12T01:27:12.598Z"
   },
   {
    "duration": 327,
    "start_time": "2021-07-12T01:27:33.166Z"
   },
   {
    "duration": 417,
    "start_time": "2021-07-12T01:27:37.292Z"
   },
   {
    "duration": 5,
    "start_time": "2021-07-12T01:27:57.227Z"
   },
   {
    "duration": 26,
    "start_time": "2021-07-12T01:28:28.797Z"
   },
   {
    "duration": 780,
    "start_time": "2021-07-12T01:28:31.028Z"
   },
   {
    "duration": 28,
    "start_time": "2021-07-12T01:32:38.607Z"
   },
   {
    "duration": 496,
    "start_time": "2021-07-12T02:44:16.173Z"
   },
   {
    "duration": 313,
    "start_time": "2021-07-12T02:44:27.242Z"
   },
   {
    "duration": 334,
    "start_time": "2021-07-12T02:46:32.251Z"
   },
   {
    "duration": 349,
    "start_time": "2021-07-12T02:47:24.906Z"
   },
   {
    "duration": 30,
    "start_time": "2021-07-12T02:47:58.336Z"
   },
   {
    "duration": 29,
    "start_time": "2021-07-12T02:48:16.510Z"
   },
   {
    "duration": 29,
    "start_time": "2021-07-12T02:48:46.388Z"
   },
   {
    "duration": 28,
    "start_time": "2021-07-12T02:48:52.119Z"
   },
   {
    "duration": 29,
    "start_time": "2021-07-12T02:49:09.487Z"
   },
   {
    "duration": 29,
    "start_time": "2021-07-12T02:49:17.866Z"
   },
   {
    "duration": 30,
    "start_time": "2021-07-12T02:49:43.205Z"
   },
   {
    "duration": 332,
    "start_time": "2021-07-12T02:50:06.925Z"
   },
   {
    "duration": 337,
    "start_time": "2021-07-12T02:50:15.916Z"
   },
   {
    "duration": 29,
    "start_time": "2021-07-12T02:51:19.814Z"
   },
   {
    "duration": 33,
    "start_time": "2021-07-12T02:51:40.504Z"
   },
   {
    "duration": 32,
    "start_time": "2021-07-12T02:51:44.384Z"
   },
   {
    "duration": 32,
    "start_time": "2021-07-12T02:51:49.657Z"
   },
   {
    "duration": 31,
    "start_time": "2021-07-12T02:51:53.867Z"
   },
   {
    "duration": 33,
    "start_time": "2021-07-12T02:52:01.021Z"
   },
   {
    "duration": 35,
    "start_time": "2021-07-12T02:52:36.794Z"
   },
   {
    "duration": 34,
    "start_time": "2021-07-12T02:52:52.269Z"
   },
   {
    "duration": 34,
    "start_time": "2021-07-12T02:53:11.415Z"
   },
   {
    "duration": 540,
    "start_time": "2021-07-12T03:05:20.743Z"
   },
   {
    "duration": 34,
    "start_time": "2021-07-12T03:05:50.310Z"
   },
   {
    "duration": 561,
    "start_time": "2021-07-12T03:12:38.799Z"
   },
   {
    "duration": 480,
    "start_time": "2021-07-12T03:13:17.270Z"
   },
   {
    "duration": 378,
    "start_time": "2021-07-12T03:14:09.025Z"
   },
   {
    "duration": 33,
    "start_time": "2021-07-12T03:15:46.222Z"
   },
   {
    "duration": 11,
    "start_time": "2021-07-12T03:19:36.241Z"
   },
   {
    "duration": 1364,
    "start_time": "2021-07-12T03:19:39.060Z"
   },
   {
    "duration": 9,
    "start_time": "2021-07-12T03:20:18.227Z"
   },
   {
    "duration": 7975,
    "start_time": "2021-07-12T03:20:21.732Z"
   },
   {
    "duration": 7887,
    "start_time": "2021-07-12T03:28:51.945Z"
   },
   {
    "duration": 14,
    "start_time": "2021-07-12T03:29:17.388Z"
   },
   {
    "duration": 8,
    "start_time": "2021-07-12T03:29:47.085Z"
   },
   {
    "duration": 8,
    "start_time": "2021-07-12T03:31:09.472Z"
   },
   {
    "duration": 1487,
    "start_time": "2021-07-12T03:31:13.681Z"
   },
   {
    "duration": 8,
    "start_time": "2021-07-12T03:33:08.218Z"
   },
   {
    "duration": 1497,
    "start_time": "2021-07-12T03:33:09.678Z"
   },
   {
    "duration": 8,
    "start_time": "2021-07-12T03:34:19.160Z"
   },
   {
    "duration": 1450,
    "start_time": "2021-07-12T03:34:21.027Z"
   },
   {
    "duration": 8,
    "start_time": "2021-07-12T03:34:57.782Z"
   },
   {
    "duration": 2157,
    "start_time": "2021-07-12T03:34:59.132Z"
   },
   {
    "duration": 9,
    "start_time": "2021-07-12T03:35:38.048Z"
   },
   {
    "duration": 8,
    "start_time": "2021-07-12T03:38:57.540Z"
   },
   {
    "duration": 1417,
    "start_time": "2021-07-12T03:38:59.025Z"
   },
   {
    "duration": 8,
    "start_time": "2021-07-12T03:39:39.521Z"
   },
   {
    "duration": 1422,
    "start_time": "2021-07-12T03:39:41.011Z"
   },
   {
    "duration": 1468,
    "start_time": "2021-07-12T03:42:38.659Z"
   },
   {
    "duration": 9,
    "start_time": "2021-07-12T03:42:48.818Z"
   },
   {
    "duration": 2019,
    "start_time": "2021-07-12T03:42:49.427Z"
   },
   {
    "duration": -5781,
    "start_time": "2021-07-12T03:42:57.229Z"
   },
   {
    "duration": 7,
    "start_time": "2021-07-12T03:43:12.715Z"
   },
   {
    "duration": 1451,
    "start_time": "2021-07-12T03:43:14.049Z"
   },
   {
    "duration": 1451,
    "start_time": "2021-07-12T03:43:15.503Z"
   },
   {
    "duration": 1435,
    "start_time": "2021-07-12T03:43:34.483Z"
   },
   {
    "duration": 7,
    "start_time": "2021-07-12T03:43:45.657Z"
   },
   {
    "duration": 1431,
    "start_time": "2021-07-12T03:43:46.955Z"
   },
   {
    "duration": 1450,
    "start_time": "2021-07-12T03:43:48.389Z"
   },
   {
    "duration": 1433,
    "start_time": "2021-07-12T03:43:49.842Z"
   },
   {
    "duration": 8,
    "start_time": "2021-07-12T03:44:07.837Z"
   },
   {
    "duration": 8,
    "start_time": "2021-07-12T03:44:30.830Z"
   },
   {
    "duration": 1487,
    "start_time": "2021-07-12T03:44:31.583Z"
   },
   {
    "duration": 1494,
    "start_time": "2021-07-12T03:44:33.072Z"
   },
   {
    "duration": 1520,
    "start_time": "2021-07-12T03:44:34.569Z"
   },
   {
    "duration": 4287,
    "start_time": "2021-07-12T03:56:53.228Z"
   },
   {
    "duration": 4325,
    "start_time": "2021-07-12T03:57:08.255Z"
   },
   {
    "duration": 4428,
    "start_time": "2021-07-12T03:57:25.518Z"
   },
   {
    "duration": 3577,
    "start_time": "2021-07-12T04:25:27.889Z"
   },
   {
    "duration": 1563,
    "start_time": "2021-07-12T04:25:31.469Z"
   },
   {
    "duration": 4834,
    "start_time": "2021-07-12T04:25:33.035Z"
   },
   {
    "duration": 4,
    "start_time": "2021-07-12T04:25:37.871Z"
   },
   {
    "duration": 40,
    "start_time": "2021-07-12T04:25:37.877Z"
   },
   {
    "duration": 72,
    "start_time": "2021-07-12T04:25:37.919Z"
   },
   {
    "duration": 220,
    "start_time": "2021-07-12T04:25:37.994Z"
   },
   {
    "duration": 12,
    "start_time": "2021-07-12T04:25:38.218Z"
   },
   {
    "duration": 160,
    "start_time": "2021-07-12T04:25:38.234Z"
   },
   {
    "duration": 7,
    "start_time": "2021-07-12T04:25:38.397Z"
   },
   {
    "duration": 562,
    "start_time": "2021-07-12T04:25:38.406Z"
   },
   {
    "duration": 548,
    "start_time": "2021-07-12T04:25:38.970Z"
   },
   {
    "duration": 559,
    "start_time": "2021-07-12T04:25:39.520Z"
   },
   {
    "duration": 538,
    "start_time": "2021-07-12T04:25:40.086Z"
   },
   {
    "duration": 70,
    "start_time": "2021-07-12T04:25:40.627Z"
   },
   {
    "duration": 1245,
    "start_time": "2021-07-12T04:25:40.700Z"
   },
   {
    "duration": 96,
    "start_time": "2021-07-12T04:25:41.948Z"
   },
   {
    "duration": 40,
    "start_time": "2021-07-12T04:25:42.047Z"
   },
   {
    "duration": 197,
    "start_time": "2021-07-12T04:25:42.091Z"
   },
   {
    "duration": 110,
    "start_time": "2021-07-12T04:25:42.292Z"
   },
   {
    "duration": 112,
    "start_time": "2021-07-12T04:25:42.487Z"
   },
   {
    "duration": 9,
    "start_time": "2021-07-12T04:25:42.601Z"
   },
   {
    "duration": 473,
    "start_time": "2021-07-12T04:25:42.614Z"
   },
   {
    "duration": -1183,
    "start_time": "2021-07-12T04:25:44.272Z"
   },
   {
    "duration": -1183,
    "start_time": "2021-07-12T04:25:44.274Z"
   },
   {
    "duration": -1185,
    "start_time": "2021-07-12T04:25:44.277Z"
   },
   {
    "duration": 339,
    "start_time": "2021-07-12T04:27:04.230Z"
   },
   {
    "duration": 362,
    "start_time": "2021-07-12T04:27:33.784Z"
   },
   {
    "duration": 347,
    "start_time": "2021-07-12T04:28:30.461Z"
   },
   {
    "duration": 355,
    "start_time": "2021-07-12T04:31:48.586Z"
   },
   {
    "duration": 924,
    "start_time": "2021-07-12T04:32:02.290Z"
   },
   {
    "duration": 331,
    "start_time": "2021-07-12T04:33:06.970Z"
   },
   {
    "duration": 374,
    "start_time": "2021-07-12T04:34:54.247Z"
   },
   {
    "duration": 537,
    "start_time": "2021-07-12T04:35:05.497Z"
   },
   {
    "duration": 354,
    "start_time": "2021-07-12T04:36:13.375Z"
   },
   {
    "duration": 325,
    "start_time": "2021-07-12T04:36:45.978Z"
   },
   {
    "duration": 372,
    "start_time": "2021-07-12T04:37:05.982Z"
   },
   {
    "duration": 336,
    "start_time": "2021-07-12T04:37:25.601Z"
   },
   {
    "duration": 312,
    "start_time": "2021-07-12T04:38:20.307Z"
   },
   {
    "duration": 318,
    "start_time": "2021-07-12T04:38:51.928Z"
   },
   {
    "duration": 333,
    "start_time": "2021-07-12T04:39:15.746Z"
   },
   {
    "duration": 334,
    "start_time": "2021-07-12T04:39:27.371Z"
   },
   {
    "duration": 341,
    "start_time": "2021-07-12T04:39:38.273Z"
   },
   {
    "duration": 9,
    "start_time": "2021-07-12T04:41:06.137Z"
   },
   {
    "duration": 337,
    "start_time": "2021-07-12T04:44:21.702Z"
   },
   {
    "duration": 49,
    "start_time": "2021-07-12T04:44:47.185Z"
   },
   {
    "duration": 3755,
    "start_time": "2021-07-12T04:45:03.055Z"
   },
   {
    "duration": 1504,
    "start_time": "2021-07-12T04:45:06.813Z"
   },
   {
    "duration": 474,
    "start_time": "2021-07-12T04:45:08.321Z"
   },
   {
    "duration": 4,
    "start_time": "2021-07-12T04:45:08.798Z"
   },
   {
    "duration": 37,
    "start_time": "2021-07-12T04:45:08.804Z"
   },
   {
    "duration": 68,
    "start_time": "2021-07-12T04:45:08.844Z"
   },
   {
    "duration": 229,
    "start_time": "2021-07-12T04:45:08.915Z"
   },
   {
    "duration": 12,
    "start_time": "2021-07-12T04:45:09.147Z"
   },
   {
    "duration": 159,
    "start_time": "2021-07-12T04:45:09.163Z"
   },
   {
    "duration": 7,
    "start_time": "2021-07-12T04:45:09.326Z"
   },
   {
    "duration": 564,
    "start_time": "2021-07-12T04:45:09.335Z"
   },
   {
    "duration": 555,
    "start_time": "2021-07-12T04:45:09.902Z"
   },
   {
    "duration": 532,
    "start_time": "2021-07-12T04:45:10.459Z"
   },
   {
    "duration": 544,
    "start_time": "2021-07-12T04:45:10.994Z"
   },
   {
    "duration": 59,
    "start_time": "2021-07-12T04:45:11.541Z"
   },
   {
    "duration": 1273,
    "start_time": "2021-07-12T04:45:11.603Z"
   },
   {
    "duration": 83,
    "start_time": "2021-07-12T04:45:12.879Z"
   },
   {
    "duration": 32,
    "start_time": "2021-07-12T04:45:12.964Z"
   },
   {
    "duration": 199,
    "start_time": "2021-07-12T04:45:12.999Z"
   },
   {
    "duration": 113,
    "start_time": "2021-07-12T04:45:13.288Z"
   },
   {
    "duration": 112,
    "start_time": "2021-07-12T04:45:13.488Z"
   },
   {
    "duration": 6,
    "start_time": "2021-07-12T04:45:13.603Z"
   },
   {
    "duration": 13,
    "start_time": "2021-07-12T04:45:13.612Z"
   },
   {
    "duration": 91,
    "start_time": "2021-07-12T04:45:13.628Z"
   },
   {
    "duration": 7,
    "start_time": "2021-07-12T04:45:13.721Z"
   },
   {
    "duration": 4389,
    "start_time": "2021-07-12T04:45:13.731Z"
   },
   {
    "duration": 49,
    "start_time": "2021-07-12T04:46:16.555Z"
   }
  ],
  "kernelspec": {
   "display_name": "Python 3",
   "language": "python",
   "name": "python3"
  },
  "language_info": {
   "codemirror_mode": {
    "name": "ipython",
    "version": 3
   },
   "file_extension": ".py",
   "mimetype": "text/x-python",
   "name": "python",
   "nbconvert_exporter": "python",
   "pygments_lexer": "ipython3",
   "version": "3.8.8"
  },
  "toc": {
   "base_numbering": 1,
   "nav_menu": {},
   "number_sections": true,
   "sideBar": true,
   "skip_h1_title": true,
   "title_cell": "Table of Contents",
   "title_sidebar": "Contents",
   "toc_cell": false,
   "toc_position": {},
   "toc_section_display": true,
   "toc_window_display": false
  }
 },
 "nbformat": 4,
 "nbformat_minor": 2
}
